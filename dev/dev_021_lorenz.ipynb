{
 "cells": [
  {
   "cell_type": "code",
   "execution_count": null,
   "id": "23e3e48f-8d6b-4212-a1ee-ce1132a4165f",
   "metadata": {},
   "outputs": [],
   "source": [
    "###############################################################################\n",
    "import aliases"
   ]
  },
  {
   "cell_type": "code",
   "execution_count": null,
   "id": "4592eed9-55ad-49f3-b27c-4bf15b4ece3f",
   "metadata": {},
   "outputs": [],
   "source": [
    "from everest.ptolemaic.fundaments.floatt import Floatt\n",
    "from everest.ptolemaic.fundaments.brace import Brace\n",
    "from everest.models.ode import *\n",
    "\n",
    "\n",
    "@ODEModel\n",
    "def Lorenz(\n",
    "        t,\n",
    "        state: Brace[::Floatt, ::Floatt, ::Floatt],\n",
    "        sigma: Floatt = 10.,\n",
    "        rho: Floatt = 28.,\n",
    "        beta: Floatt = 2.667,\n",
    "        /):\n",
    "    x, y, z = state\n",
    "    return (\n",
    "        sigma * (y - x),\n",
    "        rho * x - y - x * z,\n",
    "        x * y - beta * z,\n",
    "        )"
   ]
  },
  {
   "cell_type": "code",
   "execution_count": null,
   "id": "c031143f-0ccd-4e26-8808-73ef31e9990c",
   "metadata": {},
   "outputs": [],
   "source": [
    "data = Lorenz[10., 28., 2.667][(0., 1., 1.05):100.].solve().y"
   ]
  },
  {
   "cell_type": "code",
   "execution_count": null,
   "id": "35b58bc1-a12c-495f-bfc3-a7828ea1fb44",
   "metadata": {},
   "outputs": [],
   "source": [
    "import lavavu\n",
    "lv = lavavu.Viewer()\n",
    "lv[\"background\"] = \"black\" #Set the plot background colour\n",
    "lv[\"axis\"] = False\n",
    "lv[\"border\"] = False\n",
    "points = lv.points(pointsize=5, pointtype=\"shiny\", opacity=1.)\n",
    "cmap = points.colourmap(lavavu.cubehelix(samples=32)[4:-4]) #, range=[0,0.1])\n",
    "points.vertices(data / 3)\n",
    "points.values(range(len(data.T)))\n",
    "\n",
    "def displaydata():\n",
    "    lv.reload()\n",
    "    lv.display(resolution=(600,600))\n",
    "\n",
    "lv.fov(120)\n",
    "# lv.rotate(150, 30, 30)\n",
    "lv.zoom(0.6)\n",
    "\n",
    "displaydata()"
   ]
  },
  {
   "cell_type": "code",
   "execution_count": null,
   "id": "ebf1899b-b76a-414c-8322-561c82d0d2b2",
   "metadata": {},
   "outputs": [],
   "source": []
  }
 ],
 "metadata": {
  "kernelspec": {
   "display_name": "Python 3 (ipykernel)",
   "language": "python",
   "name": "python3"
  },
  "language_info": {
   "codemirror_mode": {
    "name": "ipython",
    "version": 3
   },
   "file_extension": ".py",
   "mimetype": "text/x-python",
   "name": "python",
   "nbconvert_exporter": "python",
   "pygments_lexer": "ipython3",
   "version": "3.9.5"
  }
 },
 "nbformat": 4,
 "nbformat_minor": 5
}
