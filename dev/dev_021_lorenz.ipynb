{
 "cells": [
  {
   "cell_type": "code",
   "execution_count": null,
   "id": "23e3e48f-8d6b-4212-a1ee-ce1132a4165f",
   "metadata": {},
   "outputs": [],
   "source": [
    "###############################################################################\n",
    "import aliases"
   ]
  },
  {
   "cell_type": "code",
   "execution_count": null,
   "id": "45b82de5-244d-46bd-81ea-62304df8893c",
   "metadata": {},
   "outputs": [],
   "source": [
    "from everest.ptolemaic.armature import Armature\n",
    "from everest.ptolemaic.chora import MultiBrace"
   ]
  },
  {
   "cell_type": "code",
   "execution_count": null,
   "id": "43e948da-5189-4912-819d-3afc11e07c82",
   "metadata": {},
   "outputs": [],
   "source": [
    "class Brace(Armature):"
   ]
  },
  {
   "cell_type": "code",
   "execution_count": null,
   "id": "b501165e-08e8-4070-afc5-25b4b590f609",
   "metadata": {},
   "outputs": [],
   "source": []
  },
  {
   "cell_type": "code",
   "execution_count": null,
   "id": "d69b6a49-d3d4-4697-82ce-95efe8e7fbb5",
   "metadata": {},
   "outputs": [],
   "source": [
    "from everest import ur"
   ]
  },
  {
   "cell_type": "code",
   "execution_count": null,
   "id": "3d8b1321-3696-44a5-866e-11aa107d4ccd",
   "metadata": {},
   "outputs": [],
   "source": [
    "from everest.ptolemaic.schema import Schema\n",
    "from everest.ptolemaic.floatt import Floatt"
   ]
  },
  {
   "cell_type": "markdown",
   "id": "26f93edb-dc6b-4144-b880-8b3186d74bfe",
   "metadata": {},
   "source": [
    "\\begin{align}\n",
    "\\frac{\\mathrm{d}x}{\\mathrm{d}t} &= \\sigma (y - x), \\\\[6pt]\n",
    "\\frac{\\mathrm{d}y}{\\mathrm{d}t} &= x (\\rho - z) - y, \\\\[6pt]\n",
    "\\frac{\\mathrm{d}z}{\\mathrm{d}t} &= x y - \\beta z.\n",
    "\\end{align}"
   ]
  },
  {
   "cell_type": "code",
   "execution_count": null,
   "id": "db71f610-c08a-4733-91e1-34d591a1e0ec",
   "metadata": {},
   "outputs": [],
   "source": [
    "class LorenzSpace(metaclass=Schema):\n",
    "\n",
    "    x: Floatt\n",
    "    y: Floatt\n",
    "    z: Floatt"
   ]
  },
  {
   "cell_type": "code",
   "execution_count": null,
   "id": "b167b2fc-e38b-4d0f-acd8-43c46bdb7e7f",
   "metadata": {},
   "outputs": [],
   "source": [
    "class Lorenz(metaclass=Schema):\n",
    "\n",
    "    sigma: Floatt\n",
    "    rho: Floatt\n",
    "    beta: Floatt"
   ]
  }
 ],
 "metadata": {
  "kernelspec": {
   "display_name": "Python 3 (ipykernel)",
   "language": "python",
   "name": "python3"
  },
  "language_info": {
   "codemirror_mode": {
    "name": "ipython",
    "version": 3
   },
   "file_extension": ".py",
   "mimetype": "text/x-python",
   "name": "python",
   "nbconvert_exporter": "python",
   "pygments_lexer": "ipython3",
   "version": "3.9.5"
  }
 },
 "nbformat": 4,
 "nbformat_minor": 5
}
