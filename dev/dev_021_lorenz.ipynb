{
 "cells": [
  {
   "cell_type": "code",
   "execution_count": null,
   "id": "23e3e48f-8d6b-4212-a1ee-ce1132a4165f",
   "metadata": {},
   "outputs": [],
   "source": [
    "###############################################################################\n",
    "import aliases"
   ]
  },
  {
   "cell_type": "code",
   "execution_count": null,
   "id": "4592eed9-55ad-49f3-b27c-4bf15b4ece3f",
   "metadata": {},
   "outputs": [],
   "source": [
    "from everest.ptolemaic.fundaments.floatt import Floatt\n",
    "from everest.ptolemaic.fundaments.brace import Brace\n",
    "from everest.models.ode import *\n",
    "\n",
    "\n",
    "@ODEModel\n",
    "def Lorenz(\n",
    "        t,\n",
    "        state: Brace[::Floatt, ::Floatt, ::Floatt],\n",
    "        sigma: Floatt = 10.,\n",
    "        rho: Floatt = 28.,\n",
    "        beta: Floatt = 2.667,\n",
    "        /):\n",
    "    x, y, z = state\n",
    "    return (\n",
    "        sigma * (y - x),\n",
    "        rho * x - y - x * z,\n",
    "        x * y - beta * z,\n",
    "        )"
   ]
  },
  {
   "cell_type": "code",
   "execution_count": null,
   "id": "c031143f-0ccd-4e26-8808-73ef31e9990c",
   "metadata": {},
   "outputs": [],
   "source": [
    "data = Lorenz[10., 28., 2.667][(0., 1., 1.05):100.].solve().y"
   ]
  },
  {
   "cell_type": "code",
   "execution_count": null,
   "id": "5ddc3a78-e422-4729-9728-9ac2f8d96a1e",
   "metadata": {},
   "outputs": [],
   "source": [
    "import lavavu"
   ]
  },
  {
   "cell_type": "code",
   "execution_count": null,
   "id": "4675a80a-64e4-4f59-8d28-674c57a3dc1f",
   "metadata": {},
   "outputs": [],
   "source": [
    "lv = lavavu.Viewer()\n",
    "lv[\"background\"] = \"black\" #Set the plot background colour\n",
    "lv[\"axis\"] = False\n",
    "lv[\"border\"] = False\n",
    "\n",
    "# cmap = points.colourmap(lavavu.cubehelix(samples=32, rot=2.5)[4:-4])\n",
    "lines = lv.lines(link=True)\n",
    "lines.vertices(data)\n",
    "lines.colourmap(lavavu.cubehelix(samples=32, rot=2.5)[4:-4])\n",
    "lines.values(range(len(data.T)))\n",
    "\n",
    "lv.fov(0)\n",
    "lv.rotate(120, 30, 30)\n",
    "lv.rotate(0, 0, -15)\n",
    "lv.zoom(-3.4)\n",
    "\n",
    "lv.reload()\n",
    "lv.display(resolution=(1200,1200))"
   ]
  },
  {
   "cell_type": "code",
   "execution_count": null,
   "id": "35b58bc1-a12c-495f-bfc3-a7828ea1fb44",
   "metadata": {},
   "outputs": [],
   "source": [
    "import lavavu\n",
    "lv = lavavu.Viewer()\n",
    "lv[\"background\"] = \"black\" #Set the plot background colour\n",
    "lv[\"axis\"] = False\n",
    "lv[\"border\"] = False\n",
    "points = lv.points(pointsize=5, pointtype=\"shiny\", opacity=1.)\n",
    "cmap = lavavu.cubehelix(samples=32, rot=2.5)[4:-4]\n",
    "# points.colourmap(cmap) #, range=[0,0.1])\n",
    "# points.vertices(data)\n",
    "# points.values(range(len(data.T)))\n",
    "lines = lv.lines(link=True)\n",
    "lines.colourmap(cmap)\n",
    "lines.vertices(data)\n",
    "lines.values(range(len(data.T)))\n",
    "\n",
    "def displaydata():\n",
    "    lv.reload()\n",
    "    lv.display(resolution=(600,600))\n",
    "\n",
    "lv.fov(120)\n",
    "# lv.rotate(150, 30, 30)\n",
    "lv.zoom(0.6)\n",
    "\n",
    "displaydata()"
   ]
  },
  {
   "cell_type": "code",
   "execution_count": null,
   "id": "a5efea0f-8745-419e-a68e-8c2ec9cef77c",
   "metadata": {},
   "outputs": [],
   "source": []
  }
 ],
 "metadata": {
  "kernelspec": {
   "display_name": "Python 3 (ipykernel)",
   "language": "python",
   "name": "python3"
  },
  "language_info": {
   "codemirror_mode": {
    "name": "ipython",
    "version": 3
   },
   "file_extension": ".py",
   "mimetype": "text/x-python",
   "name": "python",
   "nbconvert_exporter": "python",
   "pygments_lexer": "ipython3",
   "version": "3.9.5"
  }
 },
 "nbformat": 4,
 "nbformat_minor": 5
}
