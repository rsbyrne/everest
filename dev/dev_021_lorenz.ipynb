{
 "cells": [
  {
   "cell_type": "code",
   "execution_count": null,
   "id": "23e3e48f-8d6b-4212-a1ee-ce1132a4165f",
   "metadata": {},
   "outputs": [],
   "source": [
    "###############################################################################\n",
    "import aliases"
   ]
  },
  {
   "cell_type": "code",
   "execution_count": null,
   "id": "4592eed9-55ad-49f3-b27c-4bf15b4ece3f",
   "metadata": {},
   "outputs": [],
   "source": [
    "from everest.ptolemaic.fundaments.floatt import Floatt\n",
    "from everest.ptolemaic.fundaments.brace import Brace\n",
    "from everest.models.ode import *\n",
    "\n",
    "\n",
    "@ODEModel\n",
    "def Lorenz(\n",
    "        t,\n",
    "        state: Brace[::Floatt, ::Floatt, ::Floatt],\n",
    "        sigma: Floatt = 10.,\n",
    "        rho: Floatt = 28.,\n",
    "        beta: Floatt = 2.667,\n",
    "        /):\n",
    "    x, y, z = state\n",
    "    return (\n",
    "        sigma * (y - x),\n",
    "        rho * x - y - x * z,\n",
    "        x * y - beta * z,\n",
    "        )"
   ]
  },
  {
   "cell_type": "code",
   "execution_count": null,
   "id": "c031143f-0ccd-4e26-8808-73ef31e9990c",
   "metadata": {},
   "outputs": [],
   "source": [
    "data = Lorenz[10., 28., 2.667][(0., 1., 1.05):1000.].solve()"
   ]
  },
  {
   "cell_type": "code",
   "execution_count": null,
   "id": "61c104b2-f36b-4e19-9607-ce93f7df994c",
   "metadata": {},
   "outputs": [],
   "source": [
    "import numpy as np\n",
    "vertices = data.y.T\n",
    "ts = data.t\n",
    "dts = np.diff(t)\n",
    "speeds = np.linalg.norm(diffs, axis=1) / dts\n",
    "accels = np.diff(speeds) / dts[1:]"
   ]
  },
  {
   "cell_type": "code",
   "execution_count": null,
   "id": "4675a80a-64e4-4f59-8d28-674c57a3dc1f",
   "metadata": {},
   "outputs": [],
   "source": [
    "import lavavu\n",
    "\n",
    "lv = lavavu.Viewer()\n",
    "lv[\"background\"] = \"black\" #Set the plot background colour\n",
    "lv[\"axis\"] = False\n",
    "lv[\"border\"] = False\n",
    "\n",
    "cmap = lavavu.cubehelix(samples=128, rot=1., sat=2., start=-1.)[1:-1]\n",
    "lines = lv.lines(link=True)\n",
    "lines.vertices(vertices[1:])\n",
    "lines.colourmap(cmap)\n",
    "lines.values(accels)\n",
    "# lines.values(ts[1:])\n",
    "# lv.colourbar()\n",
    "# points = lv.points(pointsize=5, pointtype=\"shiny\", opacity=1.)\n",
    "# points.vertices(vertices[1:][::100])\n",
    "# points.colourmap(cmap)\n",
    "# points.values(np.sqrt(speeds))\n",
    "\n",
    "lv.fov(150)\n",
    "# lv.zoom(0.875)\n",
    "lv.zoom(0.9)\n",
    "lv.rotate(0., 0., -32.)\n",
    "\n",
    "# viewlines = lv.lines()\n",
    "# viewlines.vertices([[-2., -2., 60.], [-2., -2., -120.]])\n",
    "# viewlines.vertices([[2., -2., 60.], [2., -2., -120.]])\n",
    "# viewlines.colours('white')\n",
    "\n",
    "\n",
    "lv.reload()\n",
    "# lv.display(resolution=(600, 600))\n",
    "lv.display(resolution=(1920, 1080))"
   ]
  },
  {
   "cell_type": "code",
   "execution_count": null,
   "id": "762fbec7-042f-40aa-8a36-d9cdf7e1c818",
   "metadata": {},
   "outputs": [],
   "source": []
  }
 ],
 "metadata": {
  "kernelspec": {
   "display_name": "Python 3 (ipykernel)",
   "language": "python",
   "name": "python3"
  },
  "language_info": {
   "codemirror_mode": {
    "name": "ipython",
    "version": 3
   },
   "file_extension": ".py",
   "mimetype": "text/x-python",
   "name": "python",
   "nbconvert_exporter": "python",
   "pygments_lexer": "ipython3",
   "version": "3.9.5"
  }
 },
 "nbformat": 4,
 "nbformat_minor": 5
}
