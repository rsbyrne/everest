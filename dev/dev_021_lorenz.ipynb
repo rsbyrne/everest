{
 "cells": [
  {
   "cell_type": "code",
   "execution_count": null,
   "id": "23e3e48f-8d6b-4212-a1ee-ce1132a4165f",
   "metadata": {},
   "outputs": [],
   "source": [
    "###############################################################################\n",
    "import aliases"
   ]
  },
  {
   "cell_type": "code",
   "execution_count": null,
   "id": "4592eed9-55ad-49f3-b27c-4bf15b4ece3f",
   "metadata": {},
   "outputs": [],
   "source": [
    "from everest.ptolemaic.floatt import Floatt, Coord\n",
    "from everest.ptolemaic.ode import *\n",
    "\n",
    "\n",
    "@ODEModel\n",
    "def Lorenz(\n",
    "        t,\n",
    "        state: Coord[3],\n",
    "        sigma: Floatt = 10.,\n",
    "        rho: Floatt = 28.,\n",
    "        beta: Floatt = 2.667,\n",
    "        /) -> Coord[3]:\n",
    "    x, y, z = state\n",
    "    return (\n",
    "        sigma * (y - x),\n",
    "        rho * x - y - x * z,\n",
    "        x * y - beta * z,\n",
    "        )"
   ]
  },
  {
   "cell_type": "code",
   "execution_count": null,
   "id": "7fde59e5-f8a5-4314-94bf-e6a09a3069d4",
   "metadata": {},
   "outputs": [],
   "source": [
    "Floatt[0.:10.]"
   ]
  },
  {
   "cell_type": "code",
   "execution_count": null,
   "id": "c936bd4b-e9f8-4afd-8872-c38ed56c756d",
   "metadata": {},
   "outputs": [],
   "source": [
    "Lorenz[0.:10., 5.:, :7.]"
   ]
  },
  {
   "cell_type": "code",
   "execution_count": null,
   "id": "ea119d00-a217-45d3-a2e4-73ba06ddc4e7",
   "metadata": {},
   "outputs": [],
   "source": []
  },
  {
   "cell_type": "code",
   "execution_count": null,
   "id": "2f53b5a4-39ea-474b-a14d-85a043bf9bf9",
   "metadata": {},
   "outputs": [],
   "source": []
  },
  {
   "cell_type": "code",
   "execution_count": null,
   "id": "e4091018-8d37-403b-b18e-a1677d060933",
   "metadata": {},
   "outputs": [],
   "source": []
  },
  {
   "cell_type": "code",
   "execution_count": null,
   "id": "99927bf8-8e1e-4843-b417-c6c72dd37257",
   "metadata": {},
   "outputs": [],
   "source": []
  },
  {
   "cell_type": "code",
   "execution_count": null,
   "id": "4e9bab62-8a64-44d5-9aea-8ddb67932708",
   "metadata": {},
   "outputs": [],
   "source": []
  },
  {
   "cell_type": "code",
   "execution_count": null,
   "id": "88f7bcab-e687-47ac-9e3d-03ed6974a8ca",
   "metadata": {},
   "outputs": [],
   "source": [
    "mymodel = Lorenz()\n",
    "myline = ODELine(mymodel, (0., 1., 1.05))\n",
    "mytraverse = ODETraverse(myline, 0., 100., freq=0.01)\n",
    "solution = mytraverse.solve()"
   ]
  },
  {
   "cell_type": "code",
   "execution_count": null,
   "id": "36b7094a-3feb-4020-af38-e25142f3f6f4",
   "metadata": {},
   "outputs": [],
   "source": [
    "import numpy as np\n",
    "import matplotlib.pyplot as plt\n",
    "\n",
    "# Plot\n",
    "ax = plt.figure(figsize=(9, 9)).add_subplot(projection='3d')\n",
    "\n",
    "xs, ys, zs = solution.y\n",
    "\n",
    "ax.plot(xs, ys, zs, lw=0.5)\n",
    "ax.set_xlabel(\"X Axis\")\n",
    "ax.set_ylabel(\"Y Axis\")\n",
    "ax.set_zlabel(\"Z Axis\")\n",
    "ax.set_title(\"Lorenz Attractor\")\n",
    "\n",
    "plt.show()"
   ]
  }
 ],
 "metadata": {
  "kernelspec": {
   "display_name": "Python 3 (ipykernel)",
   "language": "python",
   "name": "python3"
  },
  "language_info": {
   "codemirror_mode": {
    "name": "ipython",
    "version": 3
   },
   "file_extension": ".py",
   "mimetype": "text/x-python",
   "name": "python",
   "nbconvert_exporter": "python",
   "pygments_lexer": "ipython3",
   "version": "3.9.5"
  }
 },
 "nbformat": 4,
 "nbformat_minor": 5
}
