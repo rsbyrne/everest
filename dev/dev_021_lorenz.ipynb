{
 "cells": [
  {
   "cell_type": "code",
   "execution_count": null,
   "id": "23e3e48f-8d6b-4212-a1ee-ce1132a4165f",
   "metadata": {},
   "outputs": [],
   "source": [
    "###############################################################################\n",
    "import aliases"
   ]
  },
  {
   "cell_type": "code",
   "execution_count": null,
   "id": "4592eed9-55ad-49f3-b27c-4bf15b4ece3f",
   "metadata": {},
   "outputs": [],
   "source": [
    "from everest.ptolemaic.fundaments.floatt import Floatt\n",
    "from everest.ptolemaic.fundaments.brace import Brace\n",
    "from everest.models.ode import *\n",
    "\n",
    "\n",
    "@ODEModel\n",
    "def Lorenz(\n",
    "        t,\n",
    "        state: Brace[::Floatt, ::Floatt, ::Floatt],\n",
    "        sigma: Floatt = 10.,\n",
    "        rho: Floatt = 28.,\n",
    "        beta: Floatt = 2.667,\n",
    "        /):\n",
    "    x, y, z = state\n",
    "    return (\n",
    "        sigma * (y - x),\n",
    "        rho * x - y - x * z,\n",
    "        x * y - beta * z,\n",
    "        )"
   ]
  },
  {
   "cell_type": "code",
   "execution_count": null,
   "id": "c031143f-0ccd-4e26-8808-73ef31e9990c",
   "metadata": {},
   "outputs": [],
   "source": [
    "data = Lorenz[10., 28., 2.667][(0., 1., 1.05):100.].solve().y"
   ]
  },
  {
   "cell_type": "code",
   "execution_count": null,
   "id": "8c4f1da2-1d00-4fc3-80a0-8c61a6e8eba2",
   "metadata": {},
   "outputs": [],
   "source": [
    "from everest.utilities import reseed"
   ]
  },
  {
   "cell_type": "code",
   "execution_count": null,
   "id": "d720472d-a12d-4aa3-91ea-e26c08d656c6",
   "metadata": {},
   "outputs": [],
   "source": [
    "reseed.rarray(shape=(len(data),))"
   ]
  },
  {
   "cell_type": "code",
   "execution_count": null,
   "id": "35b58bc1-a12c-495f-bfc3-a7828ea1fb44",
   "metadata": {},
   "outputs": [],
   "source": [
    "import lavavu\n",
    "lv = lavavu.Viewer()\n",
    "lv[\"background\"] = \"#eeeeee\" #Set the plot background colour\n",
    "lv[\"axis\"] = False\n",
    "# lv[\"border\"] = False\n",
    "import numpy as np\n",
    "points = lv.points(pointsize=5, pointtype=\"shiny\", opacity=1.)\n",
    "cmap = points.colourmap(lavavu.cubehelix()) #, range=[0,0.1])\n",
    "points.vertices(data)\n",
    "points.values(range(len(data.T)))\n",
    "\n",
    "def displaydata():\n",
    "    lv.reload()\n",
    "    lv.display(resolution=(600,600))\n",
    "\n",
    "displaydata()"
   ]
  },
  {
   "cell_type": "code",
   "execution_count": null,
   "id": "8345323c-4be5-44af-aaa2-21ec47ac98f7",
   "metadata": {},
   "outputs": [],
   "source": []
  },
  {
   "cell_type": "code",
   "execution_count": null,
   "id": "1c4d6c0f-4d22-464d-ad53-636fca9c4d90",
   "metadata": {},
   "outputs": [],
   "source": [
    "lv.fov(90)"
   ]
  },
  {
   "cell_type": "code",
   "execution_count": null,
   "id": "2db3bb9e-98d2-4274-9c58-9affd9ad5dbd",
   "metadata": {},
   "outputs": [],
   "source": [
    "displaydata()"
   ]
  },
  {
   "cell_type": "code",
   "execution_count": null,
   "id": "57fb6237-6919-4ec1-86a4-16b987e2303a",
   "metadata": {},
   "outputs": [],
   "source": [
    "lv.zoom(-10)\n",
    "displaydata()"
   ]
  },
  {
   "cell_type": "code",
   "execution_count": null,
   "id": "57e33fe5-854d-431e-a1c8-c2fe08488909",
   "metadata": {},
   "outputs": [],
   "source": [
    "lv.zoom(0.5)\n",
    "displaydata()"
   ]
  },
  {
   "cell_type": "code",
   "execution_count": null,
   "id": "3afb546e-6eb1-43c3-acea-ffa794e2c0cb",
   "metadata": {},
   "outputs": [],
   "source": [
    "lv.rotate(30, 0, 0)\n",
    "displaydata()"
   ]
  },
  {
   "cell_type": "code",
   "execution_count": null,
   "id": "3c066dfe-2289-4f2a-993e-5d3f92da98e1",
   "metadata": {},
   "outputs": [],
   "source": [
    "lv.camera({'fov': 90.})"
   ]
  },
  {
   "cell_type": "code",
   "execution_count": null,
   "id": "588d834a-e8c5-402a-b91e-d78bd282b0df",
   "metadata": {},
   "outputs": [],
   "source": [
    "lv.fov(45)"
   ]
  },
  {
   "cell_type": "code",
   "execution_count": null,
   "id": "77de51ec-86e2-4d58-9c2d-a1915fd12af8",
   "metadata": {},
   "outputs": [],
   "source": [
    "displaydata()"
   ]
  },
  {
   "cell_type": "code",
   "execution_count": null,
   "id": "50b6a6b0-fa17-4414-82b1-25ea21a7eba4",
   "metadata": {},
   "outputs": [],
   "source": []
  },
  {
   "cell_type": "code",
   "execution_count": null,
   "id": "e0db30ed-569a-4c82-9766-53d96bafcfc3",
   "metadata": {},
   "outputs": [],
   "source": []
  },
  {
   "cell_type": "code",
   "execution_count": null,
   "id": "627b7a28-3ac1-4a5a-a713-60c372d8973c",
   "metadata": {},
   "outputs": [],
   "source": [
    "lv.camera({'fov': 90.})\n",
    "lv.translation(0, 0, -45)\n",
    "lv.rotation(20, 0, 0)\n",
    "displaydata()"
   ]
  },
  {
   "cell_type": "code",
   "execution_count": null,
   "id": "1569d6db-d245-4c43-ad8d-b2330452df86",
   "metadata": {},
   "outputs": [],
   "source": [
    "lv.control.Panel()\n",
    "# points.control.Filter(myfilter)\n",
    "points.control.List(\"pointtype\")\n",
    "tracers.control.Checkbox(\"flat\", label=\"Flat Tracers\")\n",
    "tracers.control.Range(\"scaling\", label=\"Tracer Arrow Size\", range=(0.1,3), step=0.1)\n",
    "lv.control.ObjectList()\n",
    "lv.control.show()"
   ]
  },
  {
   "cell_type": "code",
   "execution_count": null,
   "id": "6b4307e5-f9f1-4647-b320-b8294c07b7ca",
   "metadata": {},
   "outputs": [],
   "source": [
    "lv.window()"
   ]
  },
  {
   "cell_type": "code",
   "execution_count": null,
   "id": "761b4e23-6368-43ec-ae94-60ff5e0cf680",
   "metadata": {},
   "outputs": [],
   "source": []
  }
 ],
 "metadata": {
  "kernelspec": {
   "display_name": "Python 3 (ipykernel)",
   "language": "python",
   "name": "python3"
  },
  "language_info": {
   "codemirror_mode": {
    "name": "ipython",
    "version": 3
   },
   "file_extension": ".py",
   "mimetype": "text/x-python",
   "name": "python",
   "nbconvert_exporter": "python",
   "pygments_lexer": "ipython3",
   "version": "3.9.5"
  }
 },
 "nbformat": 4,
 "nbformat_minor": 5
}
