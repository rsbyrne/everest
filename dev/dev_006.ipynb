{
 "cells": [
  {
   "cell_type": "code",
   "execution_count": null,
   "id": "c8897916-185c-4800-9b89-7451bd3afebc",
   "metadata": {},
   "outputs": [],
   "source": [
    "import aliases"
   ]
  },
  {
   "cell_type": "code",
   "execution_count": null,
   "id": "5e62ba0c-0b27-4fa1-bf86-1bd600447e1e",
   "metadata": {},
   "outputs": [],
   "source": [
    "from everest.ptolemaic import *"
   ]
  },
  {
   "cell_type": "code",
   "execution_count": null,
   "id": "c755eccb-5172-4729-ba9e-a075c06e1a5e",
   "metadata": {},
   "outputs": [],
   "source": [
    "from everest.ptolemaic.sprites import Intt"
   ]
  },
  {
   "cell_type": "code",
   "execution_count": null,
   "id": "6bf91788-51d7-4fc6-8274-8bc76e84c2a6",
   "metadata": {},
   "outputs": [],
   "source": [
    "# class Schemoid(Ptolemaic):\n",
    "\n",
    "#     schema: Param.Pos[Pleroma]\n",
    "#     args: Param.Args\n",
    "#     kwargs: Param.Kwargs\n",
    "\n",
    "#     def __init__(self, /):\n",
    "#         self.foo, self.boo\n",
    "\n",
    "\n",
    "# class Retriever:\n",
    "\n",
    "#     __slots__ = ('args', 'kwargs')\n",
    "\n",
    "#     def __init__(self, /, *args, **kwargs):\n",
    "#         self.args, self.kwargs = args, kwargs\n",
    "\n",
    "\n",
    "# class Incisor:\n",
    "\n",
    "#     __slots__ = ('args', 'kwargs')\n",
    "\n",
    "#     def __init__(self, /, *args, **kwargs):\n",
    "#         self.args, self.kwargs = args, kwargs"
   ]
  },
  {
   "cell_type": "code",
   "execution_count": null,
   "id": "d11f894a-e108-4de0-8bef-18d0e9987b88",
   "metadata": {},
   "outputs": [],
   "source": [
    "class MySchema(Schema):\n",
    "\n",
    "    a: Param.Pos[Intt]\n",
    "    b: Param[Intt] = 2\n",
    "    c: Param.Kw[Intt] = 3\n",
    "\n",
    "    @classmethod\n",
    "    def __class_getitem__(cls, arg, /):\n",
    "        if isinstance(arg, Incisor):\n",
    "            return Schemoid(cls, *arg.args, **arg.kwargs)"
   ]
  },
  {
   "cell_type": "code",
   "execution_count": null,
   "id": "4b75a9d0-bf38-42bf-904e-d0e482e06426",
   "metadata": {},
   "outputs": [],
   "source": [
    "myobj = MySchema(1, 2, c=3)"
   ]
  },
  {
   "cell_type": "code",
   "execution_count": null,
   "id": "bde6cfab-c684-4b87-a595-0ef2c3746bce",
   "metadata": {},
   "outputs": [],
   "source": [
    "myparam = Param[Intt]"
   ]
  },
  {
   "cell_type": "code",
   "execution_count": null,
   "id": "7c43f984-e938-449c-9572-da32e3977bef",
   "metadata": {},
   "outputs": [],
   "source": [
    "myparam[:10]"
   ]
  },
  {
   "cell_type": "code",
   "execution_count": null,
   "id": "8955e1e7-1a1b-43cb-bfac-4c411a06ccfd",
   "metadata": {},
   "outputs": [],
   "source": [
    "import functools"
   ]
  },
  {
   "cell_type": "code",
   "execution_count": null,
   "id": "8449b5a0-fd35-4392-91eb-2bb204db99e0",
   "metadata": {},
   "outputs": [],
   "source": [
    "import operator"
   ]
  },
  {
   "cell_type": "code",
   "execution_count": null,
   "id": "b4573eff-ca80-432c-b716-9b089251cda5",
   "metadata": {},
   "outputs": [],
   "source": [
    "functools.reduce(operator.__getitem__, (Intt, slice(10, 50), slice(5, 10)))"
   ]
  },
  {
   "cell_type": "code",
   "execution_count": null,
   "id": "53cbfbbe-fa0e-4758-9fc8-555bc90fa90f",
   "metadata": {},
   "outputs": [],
   "source": [
    "Intt[10:50][5:10]"
   ]
  },
  {
   "cell_type": "code",
   "execution_count": null,
   "id": "ff5f3551-0bf6-4f87-8507-47b6758c5d1c",
   "metadata": {},
   "outputs": [],
   "source": []
  }
 ],
 "metadata": {
  "kernelspec": {
   "display_name": "Python 3 (ipykernel)",
   "language": "python",
   "name": "python3"
  },
  "language_info": {
   "codemirror_mode": {
    "name": "ipython",
    "version": 3
   },
   "file_extension": ".py",
   "mimetype": "text/x-python",
   "name": "python",
   "nbconvert_exporter": "python",
   "pygments_lexer": "ipython3",
   "version": "3.9.5"
  }
 },
 "nbformat": 4,
 "nbformat_minor": 5
}
