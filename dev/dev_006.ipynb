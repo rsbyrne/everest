{
 "cells": [
  {
   "cell_type": "code",
   "execution_count": null,
   "id": "c8897916-185c-4800-9b89-7451bd3afebc",
   "metadata": {},
   "outputs": [],
   "source": [
    "import aliases"
   ]
  },
  {
   "cell_type": "code",
   "execution_count": null,
   "id": "5e62ba0c-0b27-4fa1-bf86-1bd600447e1e",
   "metadata": {},
   "outputs": [],
   "source": [
    "from everest.ptolemaic import *"
   ]
  },
  {
   "cell_type": "code",
   "execution_count": null,
   "id": "f5309261-30b5-492a-9a41-7c49b927d068",
   "metadata": {},
   "outputs": [],
   "source": [
    "Param[int]"
   ]
  },
  {
   "cell_type": "code",
   "execution_count": null,
   "id": "7eb326ff-1352-4d3c-95c1-48836876b6ea",
   "metadata": {},
   "outputs": [],
   "source": [
    "class MyClass(Ptolemaic):\n",
    "    a: Param[in"
   ]
  },
  {
   "cell_type": "code",
   "execution_count": null,
   "id": "6de6d231-34c7-4363-968b-7387e7452bfb",
   "metadata": {},
   "outputs": [],
   "source": [
    "MyClass(1)"
   ]
  },
  {
   "cell_type": "code",
   "execution_count": null,
   "id": "91df962b-4798-4e23-91c6-1096ea21bf1b",
   "metadata": {},
   "outputs": [],
   "source": []
  },
  {
   "cell_type": "code",
   "execution_count": null,
   "id": "c755eccb-5172-4729-ba9e-a075c06e1a5e",
   "metadata": {},
   "outputs": [],
   "source": [
    "from everest.ptolemaic.sprites import Intt"
   ]
  },
  {
   "cell_type": "code",
   "execution_count": null,
   "id": "b5349d69-c2ae-4062-ac75-b0c0020dc9b3",
   "metadata": {},
   "outputs": [],
   "source": [
    "Intt[:10]"
   ]
  },
  {
   "cell_type": "code",
   "execution_count": null,
   "id": "70c0e31e-7a49-40b2-b019-6f9aaa4d9b01",
   "metadata": {},
   "outputs": [],
   "source": []
  },
  {
   "cell_type": "code",
   "execution_count": null,
   "id": "6c9058e0-f797-4bec-98c2-97644f95a6fb",
   "metadata": {},
   "outputs": [],
   "source": [
    "class MyMeta(type):\n",
    "\n",
    "    def __getattr__(cls, name):\n",
    "        if name == 'foo':\n",
    "            return name\n",
    "        return super().__getattr__(name)"
   ]
  },
  {
   "cell_type": "code",
   "execution_count": null,
   "id": "03125fa7-7f2f-4289-8d93-4b6ab513fb59",
   "metadata": {},
   "outputs": [],
   "source": [
    "class MyClass(metaclass=MyMeta):\n",
    "    ..."
   ]
  },
  {
   "cell_type": "code",
   "execution_count": null,
   "id": "36ad62e6-1330-4e91-b1b6-f9e1a79009fd",
   "metadata": {},
   "outputs": [],
   "source": [
    "MyClass.foo"
   ]
  },
  {
   "cell_type": "code",
   "execution_count": null,
   "id": "9d254698-c818-4f0a-a010-810787e548e8",
   "metadata": {},
   "outputs": [],
   "source": [
    "Intt[:10]"
   ]
  },
  {
   "cell_type": "code",
   "execution_count": null,
   "id": "6bf91788-51d7-4fc6-8274-8bc76e84c2a6",
   "metadata": {},
   "outputs": [],
   "source": [
    "# class Schemoid(Ptolemaic):\n",
    "\n",
    "#     schema: Param.Pos[Pleroma]\n",
    "#     args: Param.Args\n",
    "#     kwargs: Param.Kwargs\n",
    "\n",
    "#     def __init__(self, /):\n",
    "#         self.foo, self.boo\n",
    "\n",
    "\n",
    "# class Retriever:\n",
    "\n",
    "#     __slots__ = ('args', 'kwargs')\n",
    "\n",
    "#     def __init__(self, /, *args, **kwargs):\n",
    "#         self.args, self.kwargs = args, kwargs\n",
    "\n",
    "\n",
    "# class Incisor:\n",
    "\n",
    "#     __slots__ = ('args', 'kwargs')\n",
    "\n",
    "#     def __init__(self, /, *args, **kwargs):\n",
    "#         self.args, self.kwargs = args, kwargs"
   ]
  },
  {
   "cell_type": "code",
   "execution_count": null,
   "id": "e67a821b-3a37-4838-aa92-787ae053574c",
   "metadata": {},
   "outputs": [],
   "source": [
    "class "
   ]
  },
  {
   "cell_type": "code",
   "execution_count": null,
   "id": "d11f894a-e108-4de0-8bef-18d0e9987b88",
   "metadata": {},
   "outputs": [],
   "source": [
    "class MySchema(Schema):\n",
    "\n",
    "    a: Param.Pos[Intt]\n",
    "    b: Param[Intt] = 2\n",
    "    c: Param.Kw[Intt] = 3\n",
    "\n",
    "    @classmethod\n",
    "    def __class_getitem__(cls, arg, /):\n",
    "        if isinstance(arg, Incisor):\n",
    "            return Schemoid(cls, *arg.args, **arg.kwargs)"
   ]
  },
  {
   "cell_type": "code",
   "execution_count": null,
   "id": "4b75a9d0-bf38-42bf-904e-d0e482e06426",
   "metadata": {},
   "outputs": [],
   "source": [
    "myobj = MySchema(1, 2, c=3)"
   ]
  },
  {
   "cell_type": "code",
   "execution_count": null,
   "id": "bde6cfab-c684-4b87-a595-0ef2c3746bce",
   "metadata": {},
   "outputs": [],
   "source": [
    "myparam = Param[Intt]"
   ]
  },
  {
   "cell_type": "code",
   "execution_count": null,
   "id": "7c43f984-e938-449c-9572-da32e3977bef",
   "metadata": {},
   "outputs": [],
   "source": [
    "myparam[:10]"
   ]
  },
  {
   "cell_type": "code",
   "execution_count": null,
   "id": "8955e1e7-1a1b-43cb-bfac-4c411a06ccfd",
   "metadata": {},
   "outputs": [],
   "source": [
    "import functools"
   ]
  },
  {
   "cell_type": "code",
   "execution_count": null,
   "id": "8449b5a0-fd35-4392-91eb-2bb204db99e0",
   "metadata": {},
   "outputs": [],
   "source": [
    "import operator"
   ]
  },
  {
   "cell_type": "code",
   "execution_count": null,
   "id": "b4573eff-ca80-432c-b716-9b089251cda5",
   "metadata": {},
   "outputs": [],
   "source": [
    "functools.reduce(operator.__getitem__, (Intt, slice(10, 50), slice(5, 10)))"
   ]
  },
  {
   "cell_type": "code",
   "execution_count": null,
   "id": "53cbfbbe-fa0e-4758-9fc8-555bc90fa90f",
   "metadata": {},
   "outputs": [],
   "source": [
    "Intt[10:50][5:10]"
   ]
  },
  {
   "cell_type": "code",
   "execution_count": null,
   "id": "ff5f3551-0bf6-4f87-8507-47b6758c5d1c",
   "metadata": {},
   "outputs": [],
   "source": []
  }
 ],
 "metadata": {
  "kernelspec": {
   "display_name": "Python 3 (ipykernel)",
   "language": "python",
   "name": "python3"
  },
  "language_info": {
   "codemirror_mode": {
    "name": "ipython",
    "version": 3
   },
   "file_extension": ".py",
   "mimetype": "text/x-python",
   "name": "python",
   "nbconvert_exporter": "python",
   "pygments_lexer": "ipython3",
   "version": "3.9.5"
  }
 },
 "nbformat": 4,
 "nbformat_minor": 5
}
