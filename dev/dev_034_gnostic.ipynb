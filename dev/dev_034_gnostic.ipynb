{
 "cells": [
  {
   "cell_type": "code",
   "execution_count": null,
   "id": "a36fc80a-8fff-446b-9d0c-b55067c397e3",
   "metadata": {},
   "outputs": [],
   "source": [
    "###############################################################################\n",
    "import aliases\n",
    "from everest.utilities import textutils\n",
    "# tuple(textutils.find_all('__getattr__', path='../everest/ptolemaic'))\n",
    "# textutils.replace_all('Schematic', 'Compound', path='../everest')"
   ]
  },
  {
   "cell_type": "code",
   "execution_count": null,
   "id": "494a0896-6303-4008-add6-038b18a4f731",
   "metadata": {},
   "outputs": [],
   "source": [
    "from everest.gnostic.tokeniser import *"
   ]
  },
  {
   "cell_type": "code",
   "execution_count": null,
   "id": "fbba9ca7-2575-45b7-84c1-4295aed2b0ad",
   "metadata": {},
   "outputs": [],
   "source": [
    "tuple(SimpleTokeniser(\n",
    "    \"\"\"{'a'='b';'c'={'d':'e'}}\"\"\"\n",
    "    ))"
   ]
  },
  {
   "cell_type": "code",
   "execution_count": null,
   "id": "acbf4d43-f3a8-4eb1-a6e5-3a0bd429b7de",
   "metadata": {},
   "outputs": [],
   "source": [
    "with open('../everest/gnostic/test.txt', mode='r') as file:\n",
    "    display(tuple(tokeniser(iter(file.read()))))"
   ]
  },
  {
   "cell_type": "code",
   "execution_count": null,
   "id": "2ea9d14d-3b21-424c-9d58-71104c682162",
   "metadata": {},
   "outputs": [],
   "source": [
    "import \n",
    "\n",
    "os.getcwd()"
   ]
  },
  {
   "cell_type": "code",
   "execution_count": null,
   "id": "c8b8463a-39bf-419e-bd9c-42b7b3ec3141",
   "metadata": {},
   "outputs": [],
   "source": []
  },
  {
   "cell_type": "code",
   "execution_count": null,
   "id": "7bf739b5-5533-4ba1-bd42-04d2695f5bfb",
   "metadata": {},
   "outputs": [],
   "source": [
    "from everest.gnostic.tree import *"
   ]
  },
  {
   "cell_type": "code",
   "execution_count": null,
   "id": "aa3003d2-9786-4b20-9cfd-90ed9c085679",
   "metadata": {},
   "outputs": [],
   "source": [
    "from enum import EnumMeta as _EnumMeta, Enum as _Enum"
   ]
  },
  {
   "cell_type": "code",
   "execution_count": null,
   "id": "70cef7fe-7722-4363-b722-4e950f27da0e",
   "metadata": {},
   "outputs": [],
   "source": [
    "class Base(_Enum):\n",
    "    ...\n",
    "class Foo(Base):\n",
    "    A = 0"
   ]
  },
  {
   "cell_type": "code",
   "execution_count": null,
   "id": "f19c100b-689f-4a35-a601-6d99f2a2046a",
   "metadata": {},
   "outputs": [],
   "source": [
    "MyClass.A"
   ]
  },
  {
   "cell_type": "code",
   "execution_count": null,
   "id": "f32e912d-37e4-4e0a-aafa-71b43b1a1786",
   "metadata": {},
   "outputs": [],
   "source": [
    "tuple(MyClass)"
   ]
  },
  {
   "cell_type": "code",
   "execution_count": null,
   "id": "1ffca831-bcc1-4e24-a620-bda2984067c5",
   "metadata": {},
   "outputs": [],
   "source": [
    "from everest.gnostic.parser import Parser"
   ]
  },
  {
   "cell_type": "code",
   "execution_count": null,
   "id": "4c12708f-8c51-4ee1-8cbd-dbb45177e3e9",
   "metadata": {},
   "outputs": [],
   "source": [
    "parser = Parser()"
   ]
  },
  {
   "cell_type": "code",
   "execution_count": null,
   "id": "57d8d443-dcb9-47ab-8f2e-76153bab1d9b",
   "metadata": {},
   "outputs": [],
   "source": [
    "16**8 / 10**6"
   ]
  },
  {
   "cell_type": "code",
   "execution_count": null,
   "id": "be298ef2-1d1d-446a-9e6d-f89bf0ab0f3d",
   "metadata": {},
   "outputs": [],
   "source": [
    "2**64 / 10**9 / 10**9"
   ]
  },
  {
   "cell_type": "code",
   "execution_count": null,
   "id": "9a01379c-c1aa-4502-b042-4514dede7d51",
   "metadata": {},
   "outputs": [],
   "source": [
    "a=1; print(a)"
   ]
  },
  {
   "cell_type": "code",
   "execution_count": null,
   "id": "6275e788-b961-496c-8518-db3ea39a97a7",
   "metadata": {},
   "outputs": [],
   "source": [
    "myiter = iter(range(10))\n",
    "for a in myiter:\n",
    "    for b in myiter:\n",
    "        print(a, b)\n",
    "        break"
   ]
  },
  {
   "cell_type": "code",
   "execution_count": null,
   "id": "da459608-b892-4665-a335-445a49075bab",
   "metadata": {},
   "outputs": [],
   "source": []
  }
 ],
 "metadata": {
  "kernelspec": {
   "display_name": "Python 3 (ipykernel)",
   "language": "python",
   "name": "python3"
  },
  "language_info": {
   "codemirror_mode": {
    "name": "ipython",
    "version": 3
   },
   "file_extension": ".py",
   "mimetype": "text/x-python",
   "name": "python",
   "nbconvert_exporter": "python",
   "pygments_lexer": "ipython3",
   "version": "3.9.5"
  }
 },
 "nbformat": 4,
 "nbformat_minor": 5
}
