{
 "cells": [
  {
   "cell_type": "code",
   "execution_count": null,
   "id": "4029bfe5-e933-4b85-8082-c86b8c9e3970",
   "metadata": {},
   "outputs": [],
   "source": [
    "import threading\n",
    "import time\n",
    "import random"
   ]
  },
  {
   "cell_type": "code",
   "execution_count": null,
   "id": "643efefa-8e13-4a29-ae0c-7c27076a2bad",
   "metadata": {},
   "outputs": [],
   "source": [
    "import concurrent.futures"
   ]
  },
  {
   "cell_type": "code",
   "execution_count": null,
   "id": "49ee272a-3b57-43ff-ae72-d6ef0dfb39e8",
   "metadata": {},
   "outputs": [],
   "source": [
    "with concurrent.futures.ThreadPoolExecutor(max_workers=3) as executor:\n",
    "    executor.map(thread_function, range(3))"
   ]
  },
  {
   "cell_type": "code",
   "execution_count": null,
   "id": "c2c9cb0e-e0e5-4bb8-b90f-ab2a2e218cf1",
   "metadata": {},
   "outputs": [],
   "source": []
  },
  {
   "cell_type": "code",
   "execution_count": null,
   "id": "6ef1cde3-4146-4b2f-888c-683432656588",
   "metadata": {},
   "outputs": [],
   "source": [
    "def my_func():\n",
    "    for i in range(100):\n",
    "        print('foo!', i)\n",
    "        time.sleep(random.random())"
   ]
  },
  {
   "cell_type": "code",
   "execution_count": null,
   "id": "09295d1b-3202-40e5-82c0-859ede13ccdc",
   "metadata": {},
   "outputs": [],
   "source": [
    "def my_func():\n",
    "    time.sleep(random.random())\n",
    "    return random.random()"
   ]
  },
  {
   "cell_type": "code",
   "execution_count": null,
   "id": "829a28b3-1e3e-4e52-baa1-282ac358293c",
   "metadata": {},
   "outputs": [],
   "source": [
    "outs = []\n",
    "for i in range(10):\n",
    "    val = threading.Thread(target=my_func).start()\n",
    "    outs.append(val)"
   ]
  },
  {
   "cell_type": "code",
   "execution_count": null,
   "id": "6497a6dd-f677-4c67-9fca-ea933a1dfab4",
   "metadata": {},
   "outputs": [],
   "source": [
    "outs"
   ]
  },
  {
   "cell_type": "code",
   "execution_count": null,
   "id": "36f344ec-674a-4bc2-b5ce-494c9b1e199a",
   "metadata": {},
   "outputs": [],
   "source": [
    "class MyJobs:\n",
    "\n",
    "    def my_func(self, executor, /):\n",
    "        print(executor)\n",
    "        return False\n",
    "\n",
    "    def engage(self, /):\n",
    "        with concurrent.futures.ThreadPoolExecutor(max_workers=3) as executor:\n",
    "            future = executor.submit(self.my_func, executor)\n",
    "            print(future.result())"
   ]
  },
  {
   "cell_type": "code",
   "execution_count": null,
   "id": "79e76991-0591-4c8b-be6b-ce722635f6a1",
   "metadata": {},
   "outputs": [],
   "source": [
    "myobj = MyJobs()\n",
    "myobj.engage()"
   ]
  },
  {
   "cell_type": "code",
   "execution_count": null,
   "id": "849e5c11-514b-4e3a-b2e2-afa19f73d129",
   "metadata": {},
   "outputs": [],
   "source": []
  },
  {
   "cell_type": "code",
   "execution_count": null,
   "id": "a0bff800-06e2-4e4d-9eb5-41fa9e548420",
   "metadata": {},
   "outputs": [],
   "source": [
    "concurrent.futures.as_completed"
   ]
  }
 ],
 "metadata": {
  "kernelspec": {
   "display_name": "Python 3 (ipykernel)",
   "language": "python",
   "name": "python3"
  },
  "language_info": {
   "codemirror_mode": {
    "name": "ipython",
    "version": 3
   },
   "file_extension": ".py",
   "mimetype": "text/x-python",
   "name": "python",
   "nbconvert_exporter": "python",
   "pygments_lexer": "ipython3",
   "version": "3.9.5"
  }
 },
 "nbformat": 4,
 "nbformat_minor": 5
}
