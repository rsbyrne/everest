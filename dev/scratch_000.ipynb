{
 "cells": [
  {
   "cell_type": "code",
   "execution_count": 6,
   "id": "9e02e1a3-4a03-430c-b70c-7196147a8a0f",
   "metadata": {},
   "outputs": [],
   "source": [
    "\n",
    "\n",
    "def _process_classbody_params(cls, /):\n",
    "    typs = Param._typs\n",
    "    requireds = {typ:[] for typ in typs}\n",
    "    optionals = {typ:[] for typ in typs}\n",
    "    if not hasattr(cls, '__annotations__'):\n",
    "        return ((), (), ())\n",
    "    for name, hint in cls.__annotations__.items():\n",
    "        if not isinstance(hint, Param):\n",
    "            continue\n",
    "        argset = (optionals if hasattr(cls, name) else requireds)\n",
    "        argset[hint.typ].append(name)\n",
    "    if requireds['poskw'] and optionals['pos']:\n",
    "        raise TypeError(\n",
    "            \"A class cannot have both optional positional arguments\"\n",
    "            \"*and* mandatory positional-or-keyword arguments.\"\n",
    "            )\n",
    "    return tuple((*requireds[typ], *optionals[typ]) for typ in typs)\n",
    "#         for typ in typs:\n",
    "#             yield requireds[typ]\n",
    "#             yield optionals[typ]"
   ]
  },
  {
   "cell_type": "code",
   "execution_count": 8,
   "id": "0ec4e87a-c782-4c63-9756-8206d3defd76",
   "metadata": {},
   "outputs": [
    {
     "data": {
      "text/plain": [
       "inspect._empty"
      ]
     },
     "execution_count": 8,
     "metadata": {},
     "output_type": "execute_result"
    }
   ],
   "source": [
    "_Parameter.empty"
   ]
  },
  {
   "cell_type": "code",
   "execution_count": 13,
   "id": "29044f6f-0371-4f98-9b34-665674c2125d",
   "metadata": {},
   "outputs": [],
   "source": [
    "from inspect import _ParameterKind"
   ]
  },
  {
   "cell_type": "code",
   "execution_count": 14,
   "id": "1031097c-84db-4407-9637-d2fb8f247e22",
   "metadata": {},
   "outputs": [
    {
     "data": {
      "text/plain": [
       "inspect._empty"
      ]
     },
     "execution_count": 14,
     "metadata": {},
     "output_type": "execute_result"
    }
   ],
   "source": [
    "_Parameter.empty"
   ]
  },
  {
   "cell_type": "code",
   "execution_count": 22,
   "id": "74be8278-4119-4513-a780-73e61d57ab38",
   "metadata": {},
   "outputs": [
    {
     "data": {
      "text/plain": [
       "[<_ParameterKind.POSITIONAL_ONLY: 0>,\n",
       " <_ParameterKind.POSITIONAL_OR_KEYWORD: 1>,\n",
       " <_ParameterKind.VAR_POSITIONAL: 2>,\n",
       " <_ParameterKind.KEYWORD_ONLY: 3>,\n",
       " <_ParameterKind.VAR_KEYWORD: 4>]"
      ]
     },
     "execution_count": 22,
     "metadata": {},
     "output_type": "execute_result"
    }
   ],
   "source": [
    "list(_ParameterKind)"
   ]
  },
  {
   "cell_type": "code",
   "execution_count": 123,
   "id": "a7abe7ec-72d2-45c4-b5c0-a51437f98c24",
   "metadata": {},
   "outputs": [],
   "source": []
  },
  {
   "cell_type": "code",
   "execution_count": 126,
   "id": "5a2dff44-d21b-463e-b5e8-4e9658b69520",
   "metadata": {},
   "outputs": [],
   "source": [
    "class MyClass:\n",
    "    __annotations__ = dict()\n",
    "    a : Param.Pos()\n",
    "    "
   ]
  },
  {
   "cell_type": "code",
   "execution_count": 133,
   "id": "e4ce235d-c30f-4058-91ef-e5b78f31f2a6",
   "metadata": {},
   "outputs": [],
   "source": []
  },
  {
   "cell_type": "code",
   "execution_count": 134,
   "id": "08a66919-e5fe-4702-b3ec-633748b7015a",
   "metadata": {},
   "outputs": [],
   "source": [
    "mysig = get_classbody_signature(MyClass)"
   ]
  },
  {
   "cell_type": "code",
   "execution_count": 152,
   "id": "51bafba0-1e7b-4ead-8146-a1d29f9a9a66",
   "metadata": {},
   "outputs": [
    {
     "data": {
      "text/plain": [
       "{'a': 1}"
      ]
     },
     "execution_count": 152,
     "metadata": {},
     "output_type": "execute_result"
    }
   ],
   "source": [
    "mysig.bind(1).arguments"
   ]
  },
  {
   "cell_type": "code",
   "execution_count": 120,
   "id": "832a1228-41f7-4861-8f9d-166496f30cee",
   "metadata": {},
   "outputs": [],
   "source": [
    "mysig = _Signature((_Parameter('a', _Parameter.POSITIONAL_ONLY),))"
   ]
  },
  {
   "cell_type": "code",
   "execution_count": 122,
   "id": "cfd3a1e7-3966-4849-be74-43b80699d330",
   "metadata": {},
   "outputs": [
    {
     "data": {
      "text/plain": [
       "<_ParameterKind.POSITIONAL_ONLY: 0>"
      ]
     },
     "execution_count": 122,
     "metadata": {},
     "output_type": "execute_result"
    }
   ],
   "source": [
    "mysig.parameters['a'].kind"
   ]
  },
  {
   "cell_type": "code",
   "execution_count": 161,
   "id": "9919e425-ec78-4f09-9c7a-7cc7d0ad54b4",
   "metadata": {},
   "outputs": [],
   "source": [
    "bound = mysig.bind(1)"
   ]
  },
  {
   "cell_type": "code",
   "execution_count": 163,
   "id": "ad2b5302-db02-4a8e-992d-df2eac433b7c",
   "metadata": {},
   "outputs": [],
   "source": [
    "bound.apply_defaults()"
   ]
  },
  {
   "cell_type": "code",
   "execution_count": 164,
   "id": "61b4c079-fedd-45f9-91ad-f674ca8c2619",
   "metadata": {},
   "outputs": [
    {
     "data": {
      "text/plain": [
       "{'a': 1}"
      ]
     },
     "execution_count": 164,
     "metadata": {},
     "output_type": "execute_result"
    }
   ],
   "source": [
    "bound.arguments"
   ]
  },
  {
   "cell_type": "code",
   "execution_count": 144,
   "id": "7e144e8d-59f9-4b26-9393-3beba4e5a59d",
   "metadata": {},
   "outputs": [
    {
     "data": {
      "text/plain": [
       "inspect.BoundArguments"
      ]
     },
     "execution_count": 144,
     "metadata": {},
     "output_type": "execute_result"
    }
   ],
   "source": [
    "type(mysig.bind(1))"
   ]
  },
  {
   "cell_type": "code",
   "execution_count": 147,
   "id": "802a299e-162d-47b8-ac0a-905ac945ba0e",
   "metadata": {},
   "outputs": [],
   "source": [
    "from inspect import BoundArguments as _BoundArguments"
   ]
  },
  {
   "cell_type": "code",
   "execution_count": 148,
   "id": "b1f4307f-03db-42e7-adf6-4379dbd0b968",
   "metadata": {},
   "outputs": [
    {
     "data": {
      "text/plain": [
       "inspect.BoundArguments"
      ]
     },
     "execution_count": 148,
     "metadata": {},
     "output_type": "execute_result"
    }
   ],
   "source": [
    "_BoundArguments"
   ]
  },
  {
   "cell_type": "code",
   "execution_count": 145,
   "id": "87c307f4-44f5-4feb-a33d-a409ef6cc1d4",
   "metadata": {},
   "outputs": [],
   "source": [
    "import inspect"
   ]
  },
  {
   "cell_type": "code",
   "execution_count": 146,
   "id": "2b51aef7-834b-45a5-8427-f108c06faf67",
   "metadata": {},
   "outputs": [],
   "source": [
    "class Bound(inspect.BoundArguments):\n",
    "    ..."
   ]
  },
  {
   "cell_type": "code",
   "execution_count": 153,
   "id": "3dbe48cb-8c12-409a-8eee-01d520717d45",
   "metadata": {},
   "outputs": [],
   "source": [
    "class MyClass:\n",
    "    def __str__(self):\n",
    "        return 'foo'\n",
    "    def __repr__(self):\n",
    "        return 'bah'"
   ]
  },
  {
   "cell_type": "code",
   "execution_count": 154,
   "id": "9043c965-f2c1-4782-849f-8b645e4abdae",
   "metadata": {},
   "outputs": [],
   "source": [
    "myobj = MyClass()"
   ]
  },
  {
   "cell_type": "code",
   "execution_count": 155,
   "id": "db3bfd98-bb63-463f-be23-c80d5c397a8f",
   "metadata": {},
   "outputs": [
    {
     "data": {
      "text/plain": [
       "{bah: bah}"
      ]
     },
     "execution_count": 155,
     "metadata": {},
     "output_type": "execute_result"
    }
   ],
   "source": [
    "{myobj:myobj}"
   ]
  },
  {
   "cell_type": "code",
   "execution_count": 158,
   "id": "77f5410b-cef1-4353-b2c5-707e8952f3e7",
   "metadata": {},
   "outputs": [],
   "source": [
    "import itertools"
   ]
  },
  {
   "cell_type": "code",
   "execution_count": null,
   "id": "014db893-129b-41bb-a5b7-62424f352a2a",
   "metadata": {},
   "outputs": [],
   "source": [
    "itertools.filterfalse"
   ]
  }
 ],
 "metadata": {
  "kernelspec": {
   "display_name": "Python 3 (ipykernel)",
   "language": "python",
   "name": "python3"
  },
  "language_info": {
   "codemirror_mode": {
    "name": "ipython",
    "version": 3
   },
   "file_extension": ".py",
   "mimetype": "text/x-python",
   "name": "python",
   "nbconvert_exporter": "python",
   "pygments_lexer": "ipython3",
   "version": "3.9.5"
  }
 },
 "nbformat": 4,
 "nbformat_minor": 5
}
