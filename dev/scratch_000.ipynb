{
 "cells": [
  {
   "cell_type": "code",
   "execution_count": null,
   "id": "4029bfe5-e933-4b85-8082-c86b8c9e3970",
   "metadata": {},
   "outputs": [],
   "source": [
    "###############################################################################\n",
    "import aliases"
   ]
  },
  {
   "cell_type": "code",
   "execution_count": null,
   "id": "d6b0066c-ff97-4974-a5e5-3cab8f68c4fe",
   "metadata": {},
   "outputs": [],
   "source": [
    "from everest.algebraic.intt import *\n",
    "from everest.algebraic.floatt import *\n",
    "from everest.algebraic.brace import Brace"
   ]
  },
  {
   "cell_type": "code",
   "execution_count": null,
   "id": "73cc4a0b-adcb-4942-a12c-a4ad0ad1905f",
   "metadata": {},
   "outputs": [],
   "source": [
    "truss = Brace[\n",
    "    Brace[Floatt16, Floatt16],\n",
    "    Brace[Floatt16, Floatt16, Floatt16],\n",
    "    ]\n",
    "truss"
   ]
  },
  {
   "cell_type": "code",
   "execution_count": null,
   "id": "b090804e-52ed-49ba-b77a-01f8213eff8f",
   "metadata": {},
   "outputs": [],
   "source": [
    "Brace[truss, truss]"
   ]
  },
  {
   "cell_type": "code",
   "execution_count": null,
   "id": "cf62db54-a304-423f-8228-93a61d20d29a",
   "metadata": {},
   "outputs": [],
   "source": [
    "truss[(0, 1), (2, 3, 4)]"
   ]
  },
  {
   "cell_type": "code",
   "execution_count": null,
   "id": "afcc8157-4b87-4715-8347-f973dba6db07",
   "metadata": {},
   "outputs": [],
   "source": [
    "truss.shape"
   ]
  },
  {
   "cell_type": "code",
   "execution_count": null,
   "id": "b853ccf3-ee48-4760-9666-408538012a43",
   "metadata": {},
   "outputs": [],
   "source": [
    "brace = Brace[Floatt16, Floatt16]"
   ]
  },
  {
   "cell_type": "code",
   "execution_count": null,
   "id": "ffb8bed8-1200-4b21-a43e-6d45c82f969b",
   "metadata": {},
   "outputs": [],
   "source": [
    "brace[0, 1].shape"
   ]
  },
  {
   "cell_type": "code",
   "execution_count": null,
   "id": "ad2c42f9-e2e5-4278-bfee-ae32d257a53b",
   "metadata": {},
   "outputs": [],
   "source": [
    "import numpy as np"
   ]
  },
  {
   "cell_type": "code",
   "execution_count": null,
   "id": "21eb500b-9b47-4ac7-adc5-aad2de082b01",
   "metadata": {},
   "outputs": [],
   "source": [
    "np.zeros(3).shape"
   ]
  },
  {
   "cell_type": "code",
   "execution_count": null,
   "id": "deab5c88-90f1-4425-a045-864519479e39",
   "metadata": {},
   "outputs": [],
   "source": [
    "type(brace)"
   ]
  },
  {
   "cell_type": "code",
   "execution_count": null,
   "id": "a7cc3c84-f5fb-4fdd-b83f-debe35887a55",
   "metadata": {},
   "outputs": [],
   "source": [
    "brace.depth"
   ]
  },
  {
   "cell_type": "code",
   "execution_count": null,
   "id": "1f874e53-186a-4090-8419-720179fe92e1",
   "metadata": {},
   "outputs": [],
   "source": [
    "import itertools"
   ]
  },
  {
   "cell_type": "code",
   "execution_count": null,
   "id": "4684c831-3a69-4cb9-9f7d-130aecdbeb84",
   "metadata": {},
   "outputs": [],
   "source": [
    "itertools.repeat"
   ]
  },
  {
   "cell_type": "code",
   "execution_count": null,
   "id": "eff55f6f-e803-4029-afac-12ab78342dcc",
   "metadata": {},
   "outputs": [],
   "source": [
    "Brace[Floatt16, Floatt16]._ptolemaic_class__.owner"
   ]
  },
  {
   "cell_type": "code",
   "execution_count": null,
   "id": "bfcccbcc-b7c2-43e9-ad88-cead125c6c4e",
   "metadata": {},
   "outputs": [],
   "source": [
    "ArmatureProtocol.BRACE(Brace[Floatt16, Floatt16])"
   ]
  },
  {
   "cell_type": "code",
   "execution_count": null,
   "id": "f5b02ea3-6d11-49dd-a519-61d3c34380ab",
   "metadata": {},
   "outputs": [],
   "source": [
    "from everest.algebraic.armature import ArmatureProtocol"
   ]
  },
  {
   "cell_type": "code",
   "execution_count": null,
   "id": "e0a90bed-6a6c-4cf3-a7c9-f28fb24f44a3",
   "metadata": {},
   "outputs": [],
   "source": [
    "ArmatureProtocol.TRUSS(Floatt16)"
   ]
  },
  {
   "cell_type": "code",
   "execution_count": null,
   "id": "6deffebb-7e42-404d-ba59-39cc0c9934ba",
   "metadata": {},
   "outputs": [],
   "source": [
    "ArmatureProtocol.BRACE(Floatt16)"
   ]
  },
  {
   "cell_type": "code",
   "execution_count": null,
   "id": "57324286-884f-4403-a285-e3194a9b1de4",
   "metadata": {},
   "outputs": [],
   "source": [
    "Floatt16.Oid.Space.__armature_brace__"
   ]
  },
  {
   "cell_type": "code",
   "execution_count": null,
   "id": "751621ab-2cf7-44e4-939b-c73d073410bc",
   "metadata": {},
   "outputs": [],
   "source": [
    "Brace[Floatt16, Floatt16].__armature_brace__"
   ]
  },
  {
   "cell_type": "code",
   "execution_count": null,
   "id": "f9e50ec6-c458-4d85-97d9-18e62bc4bfc7",
   "metadata": {},
   "outputs": [],
   "source": [
    "Brace[Brace[Floatt16, Floatt16], Brace[Floatt16, Floatt16]]"
   ]
  },
  {
   "cell_type": "code",
   "execution_count": null,
   "id": "7f994cc5-7564-41c3-84f8-cf1fb0a0edc3",
   "metadata": {},
   "outputs": [],
   "source": [
    "Brace[Brace[Floatt16, Floatt16], Brace[Floatt16, Floatt16]][0., 1.]"
   ]
  },
  {
   "cell_type": "code",
   "execution_count": null,
   "id": "4998c9c9-c680-44d4-9b06-c2ade46c2e39",
   "metadata": {},
   "outputs": [],
   "source": []
  }
 ],
 "metadata": {
  "kernelspec": {
   "display_name": "Python 3 (ipykernel)",
   "language": "python",
   "name": "python3"
  },
  "language_info": {
   "codemirror_mode": {
    "name": "ipython",
    "version": 3
   },
   "file_extension": ".py",
   "mimetype": "text/x-python",
   "name": "python",
   "nbconvert_exporter": "python",
   "pygments_lexer": "ipython3",
   "version": "3.9.5"
  }
 },
 "nbformat": 4,
 "nbformat_minor": 5
}
