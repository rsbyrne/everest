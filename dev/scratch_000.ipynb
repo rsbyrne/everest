{
 "cells": [
  {
   "cell_type": "code",
   "execution_count": null,
   "id": "4029bfe5-e933-4b85-8082-c86b8c9e3970",
   "metadata": {},
   "outputs": [],
   "source": [
    "###############################################################################\n",
    "import aliases"
   ]
  },
  {
   "cell_type": "code",
   "execution_count": null,
   "id": "42c6f694-74d6-492a-900e-d8eb399f2290",
   "metadata": {},
   "outputs": [],
   "source": [
    "from everest.algebraic.floatt import *"
   ]
  },
  {
   "cell_type": "code",
   "execution_count": null,
   "id": "65fa15f3-9b2d-448c-9719-afedda14335e",
   "metadata": {},
   "outputs": [],
   "source": [
    "(Floatt % 2)[0, 1][0]"
   ]
  },
  {
   "cell_type": "code",
   "execution_count": null,
   "id": "b00a2eed-9c0c-4787-b4ca-0be09098f0af",
   "metadata": {},
   "outputs": [],
   "source": [
    "(Floatt % 2).__getitem__((0, 1))"
   ]
  },
  {
   "cell_type": "code",
   "execution_count": null,
   "id": "b8b111b2-7bd4-4dfe-a25b-c07aed6c8431",
   "metadata": {},
   "outputs": [],
   "source": []
  },
  {
   "cell_type": "code",
   "execution_count": null,
   "id": "d6c58f3f-6e5b-4e09-a5ee-e782ec2a318a",
   "metadata": {},
   "outputs": [],
   "source": [
    "Floatt.Oid.Brace.Oid."
   ]
  },
  {
   "cell_type": "code",
   "execution_count": null,
   "id": "4fcb0615-7435-4498-a3b3-ca28fb258cf3",
   "metadata": {},
   "outputs": [],
   "source": [
    "type(Floatt % 2).__mro__"
   ]
  },
  {
   "cell_type": "code",
   "execution_count": null,
   "id": "f6943440-6ea9-419e-9cb3-004a3a0f3e33",
   "metadata": {},
   "outputs": [],
   "source": [
    "(Floatt % 2).__incise_retrieve__('bah')"
   ]
  },
  {
   "cell_type": "code",
   "execution_count": null,
   "id": "98f2acee-0190-414c-83ed-53b3eca25b4a",
   "metadata": {},
   "outputs": [],
   "source": [
    "(Floatt % 2).__incision_manager__.__incise__((0, 1), caller=(Floatt % 2))"
   ]
  },
  {
   "cell_type": "code",
   "execution_count": null,
   "id": "eb07e500-ce57-4b31-8986-f6675bc9f824",
   "metadata": {},
   "outputs": [],
   "source": [
    "(Floatt % 2).__incision_manager__.getmeths[tuple]"
   ]
  },
  {
   "cell_type": "code",
   "execution_count": null,
   "id": "7a95c7c7-3961-4baa-9fb1-f552cc4b9081",
   "metadata": {},
   "outputs": [],
   "source": [
    "(Floatt % 2)[0, 1]"
   ]
  },
  {
   "cell_type": "code",
   "execution_count": null,
   "id": "4f3230f5-5cca-474d-a8c6-9bf26f5f943c",
   "metadata": {},
   "outputs": [],
   "source": [
    "Floatt / Floatt - Floatt % 2 - Floatt"
   ]
  },
  {
   "cell_type": "code",
   "execution_count": null,
   "id": "e2caf993-096a-4330-8317-58c400f629de",
   "metadata": {},
   "outputs": [],
   "source": [
    "Floatt.Oid.Brace."
   ]
  },
  {
   "cell_type": "code",
   "execution_count": null,
   "id": "52f2bf51-c129-468d-9ba4-ad42d1ead9d6",
   "metadata": {},
   "outputs": [],
   "source": [
    "(Floatt % 2).__incise_retrieve__"
   ]
  },
  {
   "cell_type": "code",
   "execution_count": null,
   "id": "b760fb70-de46-415b-adc3-045e95bcde99",
   "metadata": {},
   "outputs": [],
   "source": []
  },
  {
   "cell_type": "code",
   "execution_count": null,
   "id": "219950c1-42a1-4a4d-80d9-c0da2389e706",
   "metadata": {},
   "outputs": [],
   "source": [
    "Floatt.Oid.Brace((0., 1.))"
   ]
  },
  {
   "cell_type": "code",
   "execution_count": null,
   "id": "0e27e776-ef2b-4778-858c-bacf831cf58b",
   "metadata": {},
   "outputs": [],
   "source": [
    "from everest.algebraic.brace import Brace"
   ]
  },
  {
   "cell_type": "code",
   "execution_count": null,
   "id": "75841dda-bdf3-408a-b47c-0c365cf92ddb",
   "metadata": {},
   "outputs": [],
   "source": []
  },
  {
   "cell_type": "code",
   "execution_count": null,
   "id": "b480d6e3-a382-4494-b5fd-80730d64d3b3",
   "metadata": {},
   "outputs": [],
   "source": [
    "Brace((1, 2))"
   ]
  },
  {
   "cell_type": "code",
   "execution_count": null,
   "id": "88bab294-b420-42af-a6e3-317370e93665",
   "metadata": {},
   "outputs": [],
   "source": [
    "Brace.Oid.OpenForm(1)"
   ]
  },
  {
   "cell_type": "code",
   "execution_count": null,
   "id": "b6929c53-9983-4ffd-aeff-767e6bb67535",
   "metadata": {},
   "outputs": [],
   "source": [
    "Brace.Oid.Open.Symmetric"
   ]
  },
  {
   "cell_type": "code",
   "execution_count": null,
   "id": "4a1b13ce-9615-46df-b4e9-b89582f8673d",
   "metadata": {},
   "outputs": [],
   "source": []
  },
  {
   "cell_type": "code",
   "execution_count": null,
   "id": "0dfcfaa0-d670-4328-8e64-18094e155788",
   "metadata": {},
   "outputs": [],
   "source": []
  },
  {
   "cell_type": "code",
   "execution_count": null,
   "id": "d0a74acb-fa7c-41b3-9434-c990c1e565b6",
   "metadata": {},
   "outputs": [],
   "source": [
    "a"
   ]
  },
  {
   "cell_type": "code",
   "execution_count": null,
   "id": "ae940486-aa84-422d-807e-b847a1d839f7",
   "metadata": {},
   "outputs": [],
   "source": [
    "from everest.ptolemaic.essence import Essence as _Essence\n",
    "from everest.ptolemaic.sprite import Sprite as _Sprite"
   ]
  },
  {
   "cell_type": "code",
   "execution_count": null,
   "id": "47c98bc4-93ed-4c85-922e-ad4edb51c097",
   "metadata": {},
   "outputs": [],
   "source": []
  }
 ],
 "metadata": {
  "kernelspec": {
   "display_name": "Python 3 (ipykernel)",
   "language": "python",
   "name": "python3"
  },
  "language_info": {
   "codemirror_mode": {
    "name": "ipython",
    "version": 3
   },
   "file_extension": ".py",
   "mimetype": "text/x-python",
   "name": "python",
   "nbconvert_exporter": "python",
   "pygments_lexer": "ipython3",
   "version": "3.9.5"
  }
 },
 "nbformat": 4,
 "nbformat_minor": 5
}
