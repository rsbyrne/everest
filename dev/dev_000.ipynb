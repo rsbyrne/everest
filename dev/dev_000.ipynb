{
 "cells": [
  {
   "cell_type": "code",
   "execution_count": null,
   "id": "4c74003a-0149-4265-871e-f0a73f18adbf",
   "metadata": {},
   "outputs": [],
   "source": [
    "import aliases"
   ]
  },
  {
   "cell_type": "code",
   "execution_count": null,
   "id": "ea79afb6-3321-4c64-abad-134d26c741a3",
   "metadata": {},
   "outputs": [],
   "source": [
    "from everest.utilities import classtools as _classtools"
   ]
  },
  {
   "cell_type": "code",
   "execution_count": null,
   "id": "87e02f1c-3852-4b87-b200-c0eb6b3908cd",
   "metadata": {},
   "outputs": [],
   "source": [
    "@_classtools.MROClassable\n",
    "class A:\n",
    "    @_classtools.MROClass\n",
    "    class B:\n",
    "        ...\n",
    "\n",
    "class C(A):\n",
    "    class B:\n",
    "        ..."
   ]
  },
  {
   "cell_type": "code",
   "execution_count": null,
   "id": "00cf5adb-5080-43e0-ab65-cd5fe590399a",
   "metadata": {},
   "outputs": [],
   "source": [
    "@_classtools.MROClassable\n",
    "@_classtools.Reloadable\n",
    "class A:\n",
    "    @_classtools.Overclass\n",
    "    class B:\n",
    "        ...\n",
    "        @_classtools.Overclass\n",
    "        class C:\n",
    "            ..."
   ]
  },
  {
   "cell_type": "code",
   "execution_count": null,
   "id": "928d9abc-ade1-4456-957f-e4d11b98da12",
   "metadata": {},
   "outputs": [],
   "source": [
    "myobj = A.B.C()"
   ]
  },
  {
   "cell_type": "code",
   "execution_count": null,
   "id": "3a3859ea-d2b1-4722-a882-71936b72fb37",
   "metadata": {},
   "outputs": [],
   "source": [
    "A.B.C.get_classpath()"
   ]
  },
  {
   "cell_type": "code",
   "execution_count": null,
   "id": "84e2ba25-560e-49a2-bed4-639f002052ac",
   "metadata": {},
   "outputs": [],
   "source": [
    "import pickle\n",
    "pipickle.dumps(myobj)"
   ]
  },
  {
   "cell_type": "code",
   "execution_count": null,
   "id": "f2d95efc-28df-4398-a108-99b3e4231c14",
   "metadata": {},
   "outputs": [],
   "source": []
  },
  {
   "cell_type": "code",
   "execution_count": null,
   "id": "e22a82ae-e054-4ec6-96d7-7686e9292171",
   "metadata": {},
   "outputs": [],
   "source": []
  },
  {
   "cell_type": "code",
   "execution_count": null,
   "id": "2ed89c43-adbc-480c-b1e6-9513fb8bd669",
   "metadata": {},
   "outputs": [],
   "source": []
  },
  {
   "cell_type": "code",
   "execution_count": null,
   "id": "e22f0aef-8fb2-469c-b42c-e496298c4a9b",
   "metadata": {},
   "outputs": [],
   "source": [
    "A.B.overclassmrobases"
   ]
  },
  {
   "cell_type": "code",
   "execution_count": null,
   "id": "6f70b204-50b4-446b-9b58-6e907ccc1b23",
   "metadata": {},
   "outputs": [],
   "source": [
    "dir(A.B)"
   ]
  },
  {
   "cell_type": "code",
   "execution_count": null,
   "id": "a19dd241-3e39-49cd-b232-40acdadabb6c",
   "metadata": {},
   "outputs": [],
   "source": [
    "tuple(_classtools.mroclasses.yield_mroclassnames(A.B))"
   ]
  },
  {
   "cell_type": "code",
   "execution_count": null,
   "id": "82dcaa60-501f-453c-b5aa-4c62335d7f6c",
   "metadata": {},
   "outputs": [],
   "source": [
    "issubclass(A.B, _classtools.mroclasses.Overclass)"
   ]
  },
  {
   "cell_type": "code",
   "execution_count": null,
   "id": "940f452e-9220-4246-a2b7-a8b52f09b36f",
   "metadata": {},
   "outputs": [],
   "source": [
    "_classtools.m"
   ]
  },
  {
   "cell_type": "code",
   "execution_count": null,
   "id": "2ba0feec-a1eb-4427-9254-3e288f9e2962",
   "metadata": {},
   "outputs": [],
   "source": [
    "myset = set()"
   ]
  },
  {
   "cell_type": "code",
   "execution_count": null,
   "id": "623f93ed-42a1-44bb-ae99-0745cd2cb779",
   "metadata": {},
   "outputs": [],
   "source": [
    "myset.update(iter('aabcd'))"
   ]
  },
  {
   "cell_type": "code",
   "execution_count": null,
   "id": "5fa0dd0e-daa4-4fb5-93c3-cfc49b5aaa06",
   "metadata": {},
   "outputs": [],
   "source": [
    "myset"
   ]
  },
  {
   "cell_type": "code",
   "execution_count": null,
   "id": "8fa99a84-fe12-4aec-841c-1943d6646efb",
   "metadata": {},
   "outputs": [],
   "source": [
    "A.B.mroclassowner"
   ]
  },
  {
   "cell_type": "code",
   "execution_count": null,
   "id": "d210a249-c43b-4f19-843e-572c7ce8ed23",
   "metadata": {},
   "outputs": [],
   "source": [
    "A.B.__init_subclass__()"
   ]
  },
  {
   "cell_type": "code",
   "execution_count": null,
   "id": "219dc757-5581-4ca7-acda-86b296981eb5",
   "metadata": {},
   "outputs": [],
   "source": [
    "A.B.C.__mro__"
   ]
  },
  {
   "cell_type": "code",
   "execution_count": null,
   "id": "aa0a89db-5b44-444a-aaf3-fbe039b6578d",
   "metadata": {},
   "outputs": [],
   "source": [
    "A.B.__init_subclass__()"
   ]
  },
  {
   "cell_type": "code",
   "execution_count": null,
   "id": "edd5229d-0157-4700-a2d3-ed2ba5857515",
   "metadata": {},
   "outputs": [],
   "source": [
    "A.B.C.__mro__"
   ]
  },
  {
   "cell_type": "code",
   "execution_count": null,
   "id": "7db3fd5c-4b19-44e4-9b92-07649f7c0866",
   "metadata": {},
   "outputs": [],
   "source": [
    "A.__init_subclass__()"
   ]
  },
  {
   "cell_type": "code",
   "execution_count": null,
   "id": "ada3a57f-7e57-4e7f-bcff-6a94355843ce",
   "metadata": {},
   "outputs": [],
   "source": [
    "###############################################################################\n",
    "''''''\n",
    "###############################################################################\n",
    "\n",
    "\n",
    "import functools as _functools\n",
    "from abc import ABCMeta as _ABCMeta\n",
    "import itertools as _itertools\n",
    "from collections import abc as _collabc\n",
    "\n",
    "from everest.utilities.misc import (\n",
    "    TypeMap as _TypeMap,\n",
    "    )\n",
    "from everest.utilities import classtools as _classtools\n",
    "\n",
    "\n",
    "class ChoraMeta(_ABCMeta):\n",
    "\n",
    "    def __init__(cls, /, *args, **kwargs):\n",
    "        super().__init__(*args, **kwargs)\n",
    "        cls._cls_extra_init_()\n",
    "\n",
    "    def decorate(cls, ACls, /):\n",
    "        old_getitem = ACls.__getitem__\n",
    "        old_init = ACls.__init__\n",
    "        def chora_extra_init(self, *args, **kwargs):\n",
    "            chora = self.chora = cls()\n",
    "            self._choraget = _functools.partial(\n",
    "                chora.__getitem__,\n",
    "                retrieve = _functools.partial(old_getitem, self)\n",
    "                )\n",
    "            old_init(self, *args, **kwargs)\n",
    "        ACls.__init__ = chora_extra_init\n",
    "        def __getitem__(self, incisor):\n",
    "            return self._choraget(incisor)\n",
    "        ACls.__getitem__ = __getitem__\n",
    "        return ACls\n",
    "\n",
    "\n",
    "_IncMethsLike = _collabc.Iterator[tuple[type, _collabc.Callable]]\n",
    "\n",
    "\n",
    "@_classtools.MROClassable\n",
    "@_classtools.Diskable\n",
    "class ChoraBase(metaclass=ChoraMeta):\n",
    "\n",
    "    @_classtools.MROClass\n",
    "    @_classtools.Diskable\n",
    "    class Element:\n",
    "\n",
    "        def __init__(self, /, incisor):\n",
    "            self.incisor = incisor\n",
    "            self.register_argskwargs(incisor)\n",
    "\n",
    "        def __call__(self, /, retrieve):\n",
    "            return retrieve(self.incisor)\n",
    "\n",
    "    @classmethod\n",
    "    def incision_methods(cls, /) -> _IncMethsLike:\n",
    "        '''Returns acceptable incisor types and their associated getmeths.'''\n",
    "        return iter(())\n",
    "\n",
    "    @classmethod\n",
    "    def priority_incision_methods(cls, /) -> _IncMethsLike:\n",
    "        '''Returns like `.incision_methods` but takes priority.'''\n",
    "        return iter(())\n",
    "\n",
    "    @classmethod\n",
    "    def _get_incmeths(cls, /) -> _TypeMap:\n",
    "        return _TypeMap(\n",
    "            _itertools.chain(\n",
    "                cls.priority_incision_methods(),\n",
    "                cls.incision_methods()\n",
    "                ),\n",
    "            )\n",
    "\n",
    "    @classmethod\n",
    "    def _cls_extra_init_(cls, /):\n",
    "        cls.incmeths = cls._get_incmeths()\n",
    "        def __getitem__(self, incisor, /, *, retrieve=cls.Element):\n",
    "            try:\n",
    "                meth = self.incmeths[type(incisor)]\n",
    "            except KeyError as exc:\n",
    "                raise TypeError from exc\n",
    "            return meth(self, incisor, retrieve=retrieve)\n",
    "        cls.__getitem__ = __getitem__\n",
    "\n",
    "    def incise_strict(self, incisor, /, *, retrieve):\n",
    "        return retrieve(incisor)\n",
    "\n",
    "class Chora(ChoraBase):\n",
    "\n",
    "    @_classtools.Overclass\n",
    "    class Incision(ChoraBase):\n",
    "\n",
    "        def __init__(self, source, /):\n",
    "            self.source = source\n",
    "            self.register_argskwargs(source)\n",
    "\n",
    "    def __init__(self, /, *, criterion):\n",
    "        self.register_argskwargs(criterion=criterion)\n",
    "        if isinstance(type(criterion), type):\n",
    "            criterionclass = criterion\n",
    "            def criterion(arg):\n",
    "                return isinstance(arg, criterionclass)\n",
    "        elif not callable(criterion):\n",
    "            raise TypeError(criterion)\n",
    "        self.criterion = criterion\n",
    "\n",
    "    def __contains__(self, arg, /):\n",
    "        return self.criterion(arg)\n",
    "\n",
    "\n",
    "###############################################################################\n",
    "###############################################################################"
   ]
  },
  {
   "cell_type": "code",
   "execution_count": null,
   "id": "4ea045ea-db1f-47ca-8bb7-5f56f45dd0cb",
   "metadata": {},
   "outputs": [],
   "source": [
    "class MyChora(Chora):\n",
    "\n",
    "    def __init__(self):\n",
    "        super().__init__(criterion=int)\n",
    "\n",
    "    @classmethod\n",
    "    def incision_methods(cls):\n",
    "        yield int, cls.incise_strict\n",
    "        yield from super().incision_methods()\n",
    "\n",
    "@MyChora.decorate\n",
    "class MyClass:\n",
    "\n",
    "    def __init__(self, *args, **kwargs):\n",
    "        self.contents = list(*args, **kwargs)\n",
    "\n",
    "    def __getitem__(self, index):\n",
    "        return self.contents[index]\n",
    "\n",
    "myobj = MyClass('abcdefg')\n",
    "assert myobj[0] == 'a'"
   ]
  },
  {
   "cell_type": "code",
   "execution_count": null,
   "id": "a391a5a6-39ab-4289-8ec6-fa5b1291b1e1",
   "metadata": {},
   "outputs": [],
   "source": [
    "###############################################################################\n",
    "''''''\n",
    "###############################################################################\n",
    "\n",
    "\n",
    "import itertools as _itertools\n",
    "\n",
    "from everest import utilities as _utilities\n",
    "\n",
    "_Chora = Chora\n",
    "\n",
    "\n",
    "class Sliceable(_Chora):\n",
    "\n",
    "    @classmethod\n",
    "    def _cls_extra_init_(cls, /):\n",
    "        super()._cls_extra_init_()\n",
    "        slcmeths = cls.slcmeths = dict(zip(\n",
    "            _itertools.product(*_itertools.repeat((True, False), 3)),\n",
    "            _itertools.repeat(cls.incise_slice_bad),\n",
    "            ))\n",
    "        slcmeths.update(reversed(tuple(cls.slice_methods())))\n",
    "\n",
    "    @classmethod\n",
    "    def slice_methods(cls, /):\n",
    "        return iter(())\n",
    "\n",
    "    def incise_slice(self, slc, /, *, retrieve):\n",
    "        return self.incise_slyce(\n",
    "            _utilities.misc.slyce(slc),\n",
    "            retrieve=retrieve,\n",
    "            )\n",
    "\n",
    "    def incise_slyce(self, slc, /, *, retrieve):\n",
    "        return self.slcmeths[slc.hasargs](self, *slc, retrieve=retrieve)\n",
    "\n",
    "    def incise_slice_bad(self, /, *slcargs, retrieve):\n",
    "        raise ValueError(\" \".join((\n",
    "            f\"Object of type {type(self)}\",\n",
    "            \"cannot be sliced with slice of\",\n",
    "            \"start={0}, stop={1}, step={2}\".format(*slcargs),\n",
    "            )))\n",
    "\n",
    "    @classmethod\n",
    "    def incision_methods(cls, /):\n",
    "        yield slice, cls.incise_slice\n",
    "        yield _utilities.misc.Slyce, cls.incise_slyce\n",
    "        yield from super().incision_methods()\n",
    "\n",
    "\n",
    "###############################################################################\n",
    "###############################################################################"
   ]
  },
  {
   "cell_type": "code",
   "execution_count": null,
   "id": "7f8a8804-34af-4ddc-a0b8-00217fc9a045",
   "metadata": {},
   "outputs": [],
   "source": [
    "###############################################################################\n",
    "''''''\n",
    "###############################################################################\n",
    "\n",
    "\n",
    "import operator as _operator\n",
    "\n",
    "from everest.utilities import classtools as _classtools\n",
    "\n",
    "_Sliceable = Sliceable\n",
    "\n",
    "\n",
    "class Orderable(_Sliceable):\n",
    "\n",
    "    class Incision:\n",
    "\n",
    "        @_classtools.Overclass\n",
    "        class Delimited:\n",
    "\n",
    "            def __init__(self, *args, lbnd, ubnd, **kwargs):\n",
    "                self.lbnd, self.ubnd = lbnd, ubnd\n",
    "                self.register_argskwargs(lbnd=lbnd, ubnd=ubnd)\n",
    "                super().__init__(*args, **kwargs)\n",
    "\n",
    "            def incise_delimit(self, start, stop, _, /, *, retrieve):\n",
    "                raise Exception(\"Cannot delimit already delimited.\")\n",
    "\n",
    "    def __init__(self, /, *, comparator=_operator.gt, **kwargs):\n",
    "        self.comparator = comparator\n",
    "        self.register_argskwargs(comparator=comparator)\n",
    "        super().__init__(**kwargs)\n",
    "\n",
    "    def incise_delimit(self, start, stop, _, /, *, retrieve):\n",
    "        return self.Incision.Delimited(self, lbnd=start, ubnd=stop)\n",
    "\n",
    "    @classmethod\n",
    "    def slice_methods(cls, /):\n",
    "        for comb in ((True, True), (True, False), (False, True)):\n",
    "            yield (*comb, False), cls.incise_delimit\n",
    "        yield from super().slice_methods()\n",
    "\n",
    "\n",
    "class Enumerable(Orderable):\n",
    "\n",
    "    class Incision:\n",
    "\n",
    "        class Delimited:\n",
    "\n",
    "            ...\n",
    "\n",
    "\n",
    "###############################################################################\n",
    "###############################################################################"
   ]
  },
  {
   "cell_type": "code",
   "execution_count": null,
   "id": "1031abfa-657a-4b59-ad7c-e5cece33ca88",
   "metadata": {},
   "outputs": [],
   "source": [
    "issubclass(Orderable.Incision, _classtools.mroclasses.MROClassable)"
   ]
  },
  {
   "cell_type": "code",
   "execution_count": null,
   "id": "9f2d4ffd-ac86-4c0a-9b39-8b9cdbfaf63d",
   "metadata": {},
   "outputs": [],
   "source": [
    "Orderable.Incision.Delimited.__mro__"
   ]
  },
  {
   "cell_type": "code",
   "execution_count": null,
   "id": "2a750660-906f-4a1d-b570-c61294b39040",
   "metadata": {},
   "outputs": [],
   "source": [
    "class MyChora(Orderable):\n",
    "\n",
    "    def __init__(self):\n",
    "        self.freeze_argskwargs()\n",
    "        super().__init__(criterion=int)\n",
    "\n",
    "    @classmethod\n",
    "    def incision_methods(cls):\n",
    "        yield int, cls.incise_strict\n",
    "        yield from super().incision_methods()\n",
    "\n",
    "\n",
    "@MyChora.decorate\n",
    "class MyClass:\n",
    "\n",
    "    def __init__(self, *args, **kwargs):\n",
    "        self.contents = list(*args, **kwargs)\n",
    "\n",
    "    def __getitem__(self, index):\n",
    "        return self.contents[index]\n",
    "\n",
    "\n",
    "import string\n",
    "myobj = MyClass(string.ascii_lowercase)\n",
    "assert myobj[0] == 'a'"
   ]
  },
  {
   "cell_type": "code",
   "execution_count": null,
   "id": "a2926010-895b-4bca-9ed3-649deb92deda",
   "metadata": {},
   "outputs": [],
   "source": [
    "myinc = myobj[10:20]"
   ]
  },
  {
   "cell_type": "code",
   "execution_count": null,
   "id": "dafddde5-a12d-459d-bf66-55a143782549",
   "metadata": {},
   "outputs": [],
   "source": [
    "myinc[1:2]"
   ]
  },
  {
   "cell_type": "code",
   "execution_count": null,
   "id": "cff7187d-5ad2-4ff8-ac8f-1c90de5508e7",
   "metadata": {},
   "outputs": [],
   "source": [
    "list(myinc.source.get_redtup())"
   ]
  },
  {
   "cell_type": "code",
   "execution_count": null,
   "id": "fc7b5ea2-d899-40ce-abb1-11ed49ce3ea4",
   "metadata": {},
   "outputs": [],
   "source": [
    "import pickle\n",
    "dumped = pickle.dumps(myinc)\n",
    "loaded = pickle.loads(dumped)"
   ]
  },
  {
   "cell_type": "code",
   "execution_count": null,
   "id": "44f9ae71-68f4-4f36-ad43-3c7266a2d736",
   "metadata": {},
   "outputs": [],
   "source": [
    "loaded"
   ]
  }
 ],
 "metadata": {
  "kernelspec": {
   "display_name": "Python 3 (ipykernel)",
   "language": "python",
   "name": "python3"
  },
  "language_info": {
   "codemirror_mode": {
    "name": "ipython",
    "version": 3
   },
   "file_extension": ".py",
   "mimetype": "text/x-python",
   "name": "python",
   "nbconvert_exporter": "python",
   "pygments_lexer": "ipython3",
   "version": "3.9.5"
  }
 },
 "nbformat": 4,
 "nbformat_minor": 5
}
