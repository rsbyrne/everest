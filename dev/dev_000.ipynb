{
 "cells": [
  {
   "cell_type": "code",
   "execution_count": null,
   "id": "b585b4d9-48a6-44f5-834f-7864aa8fc012",
   "metadata": {},
   "outputs": [],
   "source": [
    "import aliases"
   ]
  },
  {
   "cell_type": "code",
   "execution_count": null,
   "id": "7b52fa15-d8bb-448b-884b-bb4433859fad",
   "metadata": {},
   "outputs": [],
   "source": [
    "from everest.utilities import classtools"
   ]
  },
  {
   "cell_type": "code",
   "execution_count": null,
   "id": "dfe6699d-f5ea-466d-986b-86438d9f1f1d",
   "metadata": {},
   "outputs": [],
   "source": [
    "@classtools.MROClassable\n",
    "class A:\n",
    "    @classtools.MROClass\n",
    "    class AA:\n",
    "        @classmethod\n",
    "        def foo(self):\n",
    "            return 'foo'\n",
    "\n",
    "class B(A):\n",
    "    class AA:\n",
    "        @classmethod\n",
    "        def foo(self):\n",
    "            return super().foo() * 2\n",
    "\n",
    "class C(A):\n",
    "    ...\n",
    "\n",
    "class D(B, C):\n",
    "    class AA:\n",
    "        @classmethod\n",
    "        def foo(self):\n",
    "            return super().foo() + '_extra'"
   ]
  },
  {
   "cell_type": "code",
   "execution_count": null,
   "id": "07f26e5e-0692-470c-8019-5bfd3aac6a41",
   "metadata": {},
   "outputs": [],
   "source": [
    "D.AA.foo()"
   ]
  },
  {
   "cell_type": "code",
   "execution_count": null,
   "id": "9cd5cebe-02a1-41e4-a00b-fa8f226a6f35",
   "metadata": {},
   "outputs": [],
   "source": [
    "from everest import incision"
   ]
  },
  {
   "cell_type": "code",
   "execution_count": null,
   "id": "287a342d-6a1a-41b2-82c6-a6befc8a4777",
   "metadata": {},
   "outputs": [],
   "source": [
    "from everest.utilities import classtools"
   ]
  },
  {
   "cell_type": "code",
   "execution_count": null,
   "id": "0f2ee341-341b-4f7d-b69f-eb3eaddb7337",
   "metadata": {},
   "outputs": [],
   "source": [
    "class MyClass:\n",
    "    def __init_subclass__(cls, **kwargs):\n",
    "        cls.__getitem__ = lambda cls, arg: arg\n",
    "        super().__init_subclass__(**kwargs)\n",
    "    def __getitem__(cls, arg):\n",
    "        raise Exception"
   ]
  },
  {
   "cell_type": "code",
   "execution_count": null,
   "id": "69b52c3a-4441-436c-9a5a-672922f0bfca",
   "metadata": {},
   "outputs": [],
   "source": [
    "MyClass.__dict__.items()"
   ]
  },
  {
   "cell_type": "code",
   "execution_count": null,
   "id": "931d99a5-7992-429c-8b85-95a896256bf3",
   "metadata": {},
   "outputs": [],
   "source": [
    "dir(MyClass)"
   ]
  },
  {
   "cell_type": "code",
   "execution_count": null,
   "id": "86f9ee13-11d5-433c-8918-9690f84c2bc6",
   "metadata": {},
   "outputs": [],
   "source": [
    "class MySubClass(MyClass):\n",
    "    ..."
   ]
  },
  {
   "cell_type": "code",
   "execution_count": null,
   "id": "9688f1d7-704f-4eba-acfe-1faca0cec18d",
   "metadata": {},
   "outputs": [],
   "source": [
    "MySubClass()[0]"
   ]
  },
  {
   "cell_type": "code",
   "execution_count": null,
   "id": "dce10522-a4d5-4692-9fa6-54ad211fab64",
   "metadata": {},
   "outputs": [],
   "source": [
    "import typing"
   ]
  },
  {
   "cell_type": "code",
   "execution_count": null,
   "id": "f42748d1-fce6-4fb7-ad62-7a1356b83bf4",
   "metadata": {},
   "outputs": [],
   "source": [
    "typing.NoReturn"
   ]
  },
  {
   "cell_type": "code",
   "execution_count": null,
   "id": "120485ba-bb0a-4a89-8f51-14c85426cf89",
   "metadata": {},
   "outputs": [],
   "source": [
    "Foo[0]"
   ]
  },
  {
   "cell_type": "code",
   "execution_count": null,
   "id": "e34bdee2-61d1-4197-9147-99bb4c4566cb",
   "metadata": {},
   "outputs": [],
   "source": [
    "class Metric(incision.Incisable):\n",
    "    ...\n",
    "\n",
    "\n",
    "class Ordered(Metric):\n",
    "    ..."
   ]
  },
  {
   "cell_type": "code",
   "execution_count": null,
   "id": "caaa7e32-08e3-48a5-98da-bc4fd2cea85a",
   "metadata": {},
   "outputs": [],
   "source": [
    "Metric.Incisor"
   ]
  },
  {
   "cell_type": "code",
   "execution_count": null,
   "id": "4444ff1c-61cf-4849-ab64-82ee7bac989f",
   "metadata": {},
   "outputs": [],
   "source": [
    "isinstance(1, Metric.Incisor)"
   ]
  },
  {
   "cell_type": "code",
   "execution_count": null,
   "id": "ad77228d-9bd5-4fc9-9634-239311ccafa4",
   "metadata": {},
   "outputs": [],
   "source": [
    "Metric.incmeths"
   ]
  },
  {
   "cell_type": "code",
   "execution_count": null,
   "id": "74cbc223-80fe-4d4d-a9e2-127e606ae88d",
   "metadata": {},
   "outputs": [],
   "source": [
    "import collections.abc as _collabc"
   ]
  },
  {
   "cell_type": "code",
   "execution_count": null,
   "id": "4a249509-d36c-45ba-a58c-5e28907c33c2",
   "metadata": {},
   "outputs": [],
   "source": [
    "from __future__ import annotations"
   ]
  },
  {
   "cell_type": "code",
   "execution_count": null,
   "id": "694e6473-414c-40aa-ba3a-a9a73c7a0834",
   "metadata": {},
   "outputs": [],
   "source": [
    "def myfn() -> int | str:\n",
    "    return 1"
   ]
  },
  {
   "cell_type": "code",
   "execution_count": null,
   "id": "bc0c18db-e662-49bd-b261-afaefc66c040",
   "metadata": {},
   "outputs": [],
   "source": [
    "annotations"
   ]
  },
  {
   "cell_type": "code",
   "execution_count": null,
   "id": "e79b2f48-2bcb-4be0-8bec-070c11d8fc06",
   "metadata": {},
   "outputs": [],
   "source": [
    "    def incision_methods(cls) -> \\\n",
    "            _collabc.Iterator[tuple[type, _collabc.Callable]] \\\n",
    "            :\n",
    "        ..."
   ]
  },
  {
   "cell_type": "code",
   "execution_count": null,
   "id": "5a0323a6-743e-4928-a7d7-61cd77d3be14",
   "metadata": {},
   "outputs": [],
   "source": [
    "from collections.abc import Iterator"
   ]
  },
  {
   "cell_type": "code",
   "execution_count": null,
   "id": "de35e5cb-3c92-44f1-8be4-2fd909925a16",
   "metadata": {},
   "outputs": [],
   "source": [
    "from typing import Callable"
   ]
  },
  {
   "cell_type": "code",
   "execution_count": null,
   "id": "47b4d252-3bd5-4bd0-a141-e289809a1eb6",
   "metadata": {},
   "outputs": [],
   "source": [
    "import typing"
   ]
  },
  {
   "cell_type": "code",
   "execution_count": null,
   "id": "6e7cfdd7-2a84-46a7-9ecb-cf63f7d9f9be",
   "metadata": {},
   "outputs": [],
   "source": [
    "typing.Iterator"
   ]
  },
  {
   "cell_type": "code",
   "execution_count": null,
   "id": "fd9ac000-52e8-4c85-831a-0355bd279174",
   "metadata": {},
   "outputs": [],
   "source": [
    "Callable"
   ]
  },
  {
   "cell_type": "code",
   "execution_count": null,
   "id": "157acd1c-7e5d-4dd9-aa32-66f758a42e92",
   "metadata": {},
   "outputs": [],
   "source": [
    "Iterator[int]"
   ]
  },
  {
   "cell_type": "code",
   "execution_count": null,
   "id": "b788841b-fe83-4250-b033-48c94b27647d",
   "metadata": {},
   "outputs": [],
   "source": [
    "isinstance(Metric, callable)"
   ]
  },
  {
   "cell_type": "code",
   "execution_count": null,
   "id": "81df4b96-d8b2-4ea8-9b26-a855bca21831",
   "metadata": {},
   "outputs": [],
   "source": [
    "class MyClass:\n",
    "    name: str = None"
   ]
  },
  {
   "cell_type": "code",
   "execution_count": null,
   "id": "fe1285c8-75f7-4d19-9ca5-a85132671ac4",
   "metadata": {},
   "outputs": [],
   "source": [
    "MyClass"
   ]
  },
  {
   "cell_type": "code",
   "execution_count": null,
   "id": "044d5d0e-2ba3-4126-a0d0-41d49bca910f",
   "metadata": {},
   "outputs": [],
   "source": []
  },
  {
   "cell_type": "code",
   "execution_count": null,
   "id": "719a8c9b-0570-4a99-83c6-5b1bf724d546",
   "metadata": {},
   "outputs": [],
   "source": []
  },
  {
   "cell_type": "code",
   "execution_count": null,
   "id": "e143c92b-f303-4440-b55e-0e683c651f09",
   "metadata": {},
   "outputs": [],
   "source": [
    "foo = 1\n",
    "class MyClass:\n",
    "    def myfn(self):\n",
    "        _foo = global foo\n",
    "        print(foo)"
   ]
  },
  {
   "cell_type": "code",
   "execution_count": null,
   "id": "4c3e9656-a481-4b75-baed-13a3f84d8ad9",
   "metadata": {},
   "outputs": [],
   "source": [
    "MyClass.__name__"
   ]
  },
  {
   "cell_type": "code",
   "execution_count": null,
   "id": "51374a73-68af-4bb6-be08-0fbd24396c12",
   "metadata": {},
   "outputs": [],
   "source": [
    "type("
   ]
  },
  {
   "cell_type": "code",
   "execution_count": null,
   "id": "07cf0987-49de-4069-a8d6-8a879b684105",
   "metadata": {},
   "outputs": [],
   "source": [
    "typing.get_type_hints(MyClass)"
   ]
  }
 ],
 "metadata": {
  "kernelspec": {
   "display_name": "Python 3 (ipykernel)",
   "language": "python",
   "name": "python3"
  },
  "language_info": {
   "codemirror_mode": {
    "name": "ipython",
    "version": 3
   },
   "file_extension": ".py",
   "mimetype": "text/x-python",
   "name": "python",
   "nbconvert_exporter": "python",
   "pygments_lexer": "ipython3",
   "version": "3.9.5"
  }
 },
 "nbformat": 4,
 "nbformat_minor": 5
}
