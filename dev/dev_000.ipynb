{
 "cells": [
  {
   "cell_type": "code",
   "execution_count": 1,
   "id": "b585b4d9-48a6-44f5-834f-7864aa8fc012",
   "metadata": {},
   "outputs": [],
   "source": [
    "import aliases"
   ]
  },
  {
   "cell_type": "code",
   "execution_count": 2,
   "id": "9cd5cebe-02a1-41e4-a00b-fa8f226a6f35",
   "metadata": {},
   "outputs": [],
   "source": [
    "from everest import incision"
   ]
  },
  {
   "cell_type": "code",
   "execution_count": 3,
   "id": "8aeb4ca1-c3e5-4f21-b938-bfa7804b755c",
   "metadata": {},
   "outputs": [
    {
     "ename": "TypeError",
     "evalue": "Can't instantiate abstract class Incisable with abstract method __contains__",
     "output_type": "error",
     "traceback": [
      "\u001b[0;31m---------------------------------------------------------------------------\u001b[0m",
      "\u001b[0;31mTypeError\u001b[0m                                 Traceback (most recent call last)",
      "\u001b[0;32m/tmp/ipykernel_1141/3280337279.py\u001b[0m in \u001b[0;36m<module>\u001b[0;34m\u001b[0m\n\u001b[0;32m----> 1\u001b[0;31m \u001b[0mincision\u001b[0m\u001b[0;34m.\u001b[0m\u001b[0mIncisable\u001b[0m\u001b[0;34m(\u001b[0m\u001b[0;34m)\u001b[0m\u001b[0;34m\u001b[0m\u001b[0;34m\u001b[0m\u001b[0m\n\u001b[0m",
      "\u001b[0;31mTypeError\u001b[0m: Can't instantiate abstract class Incisable with abstract method __contains__"
     ]
    }
   ],
   "source": [
    "incision.Incisable()"
   ]
  },
  {
   "cell_type": "code",
   "execution_count": null,
   "id": "d22d6d53-7c48-47de-9d26-07412bcc55b3",
   "metadata": {},
   "outputs": [],
   "source": [
    "class Metric(incision.Incisable):\n",
    "\n",
    "    ...\n",
    "\n",
    "\n",
    "class Ordered(Metric):\n",
    "    "
   ]
  },
  {
   "cell_type": "code",
   "execution_count": null,
   "id": "768365a5-56c2-46d3-9690-84effb04f9c4",
   "metadata": {},
   "outputs": [],
   "source": [
    "class MyClass(incision.Incisable, collabc.Sequence):\n",
    "    ..."
   ]
  },
  {
   "cell_type": "code",
   "execution_count": null,
   "id": "0fd366a1-076d-47a3-82d7-89f92ec726f1",
   "metadata": {},
   "outputs": [],
   "source": [
    "from collections import abc as collabc"
   ]
  },
  {
   "cell_type": "code",
   "execution_count": null,
   "id": "58a14204-19e2-4e64-9ec7-0bf720712daf",
   "metadata": {},
   "outputs": [],
   "source": [
    "Metric.Incision"
   ]
  },
  {
   "cell_type": "code",
   "execution_count": null,
   "id": "64d650f5-6734-4755-827b-6c8fbd6e4260",
   "metadata": {},
   "outputs": [],
   "source": []
  }
 ],
 "metadata": {
  "kernelspec": {
   "display_name": "Python 3 (ipykernel)",
   "language": "python",
   "name": "python3"
  },
  "language_info": {
   "codemirror_mode": {
    "name": "ipython",
    "version": 3
   },
   "file_extension": ".py",
   "mimetype": "text/x-python",
   "name": "python",
   "nbconvert_exporter": "python",
   "pygments_lexer": "ipython3",
   "version": "3.9.5"
  }
 },
 "nbformat": 4,
 "nbformat_minor": 5
}
