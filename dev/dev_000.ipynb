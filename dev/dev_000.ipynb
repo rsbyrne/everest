{
 "cells": [
  {
   "cell_type": "code",
   "execution_count": null,
   "id": "b585b4d9-48a6-44f5-834f-7864aa8fc012",
   "metadata": {},
   "outputs": [],
   "source": [
    "import aliases"
   ]
  },
  {
   "cell_type": "code",
   "execution_count": null,
   "id": "9cd5cebe-02a1-41e4-a00b-fa8f226a6f35",
   "metadata": {},
   "outputs": [],
   "source": [
    "from everest import incision"
   ]
  },
  {
   "cell_type": "code",
   "execution_count": null,
   "id": "8aeb4ca1-c3e5-4f21-b938-bfa7804b755c",
   "metadata": {},
   "outputs": [],
   "source": [
    "myobj = incision.Incisable()"
   ]
  },
  {
   "cell_type": "code",
   "execution_count": null,
   "id": "364ebfd3-79a6-4ece-a291-e7195332e7eb",
   "metadata": {},
   "outputs": [],
   "source": [
    "myobj"
   ]
  },
  {
   "cell_type": "markdown",
   "id": "1d8d9f84-4c1d-4de7-af4b-fb01ab972663",
   "metadata": {},
   "source": [
    "- A Metric is a one-dimensional Incisable; something analogous to a Pandas Series (as opposed to a Pandas Dataframe).\n",
    "- A Metric should behave like a Set. A pure metric is simply a system of discrimination between"
   ]
  },
  {
   "cell_type": "code",
   "execution_count": null,
   "id": "d22d6d53-7c48-47de-9d26-07412bcc55b3",
   "metadata": {},
   "outputs": [],
   "source": [
    "class Metric(incision.Incisable):\n",
    "\n",
    "    ...\n",
    "\n",
    "\n",
    "class Ordered(Metric):\n",
    "\n",
    "    ..."
   ]
  },
  {
   "cell_type": "code",
   "execution_count": null,
   "id": "6aa5d418-8341-41a5-b758-210f7e070fa2",
   "metadata": {},
   "outputs": [],
   "source": [
    "class MyMeta(type):\n",
    "\n",
    "    def __contains__(cls, arg):\n",
    "        return bool(arg)\n",
    "\n",
    "\n",
    "class MyClass(metaclass=MyMeta):\n",
    "    ..."
   ]
  },
  {
   "cell_type": "code",
   "execution_count": null,
   "id": "fd2264ec-c959-4aac-8934-27315fb97a55",
   "metadata": {},
   "outputs": [],
   "source": [
    "1 in MyClass"
   ]
  },
  {
   "cell_type": "code",
   "execution_count": null,
   "id": "485d4101-44ad-4537-a356-8ebb3bd85b24",
   "metadata": {},
   "outputs": [],
   "source": [
    "class MyClass:\n",
    "    def mymeth(self, foo):\n",
    "        return foo\n",
    "    __call__ = mymeth"
   ]
  },
  {
   "cell_type": "code",
   "execution_count": null,
   "id": "d953a0ed-b8d4-4bb3-8aa7-0ebcf6ac3fd8",
   "metadata": {},
   "outputs": [],
   "source": [
    "callable(MyClass)"
   ]
  },
  {
   "cell_type": "code",
   "execution_count": null,
   "id": "c77e7f58-102b-499a-8328-a32005d0eef9",
   "metadata": {},
   "outputs": [],
   "source": []
  }
 ],
 "metadata": {
  "kernelspec": {
   "display_name": "Python 3 (ipykernel)",
   "language": "python",
   "name": "python3"
  },
  "language_info": {
   "codemirror_mode": {
    "name": "ipython",
    "version": 3
   },
   "file_extension": ".py",
   "mimetype": "text/x-python",
   "name": "python",
   "nbconvert_exporter": "python",
   "pygments_lexer": "ipython3",
   "version": "3.9.5"
  }
 },
 "nbformat": 4,
 "nbformat_minor": 5
}
