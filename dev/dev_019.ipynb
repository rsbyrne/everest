{
 "cells": [
  {
   "cell_type": "code",
   "execution_count": null,
   "id": "3fc1a9f1-2103-44cd-8844-f7479a9a23c2",
   "metadata": {},
   "outputs": [],
   "source": [
    "###############################################################################\n",
    "import aliases"
   ]
  },
  {
   "cell_type": "code",
   "execution_count": null,
   "id": "e0f2462a-9808-4ae3-8dea-cce08b95ebac",
   "metadata": {},
   "outputs": [],
   "source": [
    "from everest.utilities import ObjectMask\n",
    "import types\n",
    "\n",
    "obj1 = types.SimpleNamespace(a=1, b=2, c=3, d=4)\n",
    "objmask = ObjectMask(obj1, d=40, e=50)\n",
    "objmask.e"
   ]
  },
  {
   "cell_type": "code",
   "execution_count": null,
   "id": "d91444a5-c13d-4870-a894-9421eb772a25",
   "metadata": {},
   "outputs": [],
   "source": [
    "from everest.ptolemaic.chora import Chora\n",
    "\n",
    "from collections import abc as _collabc"
   ]
  },
  {
   "cell_type": "code",
   "execution_count": null,
   "id": "4859a0de-de31-43ad-965b-a3502a954813",
   "metadata": {},
   "outputs": [],
   "source": [
    "class MyDict(Chora):\n",
    "\n",
    "    FIELDS = (('content', 0),)\n",
    "\n",
    "    def retrieve(self, index, /):\n",
    "        return self.content[index]\n",
    "\n",
    "    def retrieve_key(self, incisor: _collabc.Hashable, /):\n",
    "        return incisor\n",
    "\n",
    "    def incise_set(self, incisor: set, /):\n",
    "        content = self.content\n",
    "        return self.__class_call__({\n",
    "            key: content[key]\n",
    "            for key in map(self.getitem, incisor)\n",
    "            if key in content\n",
    "            })\n",
    "\n",
    "\n",
    "class MyStrRepeater(Chora):\n",
    "\n",
    "    repetitions: int = 1\n",
    "\n",
    "    def retrieve_strn(self, incisor: str, /):\n",
    "        return incisor * self.repetitions"
   ]
  },
  {
   "cell_type": "code",
   "execution_count": null,
   "id": "f79b5578-d844-4a78-8361-50c151c38818",
   "metadata": {},
   "outputs": [],
   "source": [
    "mydct = MyDict({\n",
    "    'aa': 1,\n",
    "    'bb': 2,\n",
    "    3: 'foo',\n",
    "    4: 'bah',\n",
    "    })\n",
    "\n",
    "display(mydct['aa'])\n",
    "display(mydct[3])\n",
    "display(mydct[{'aa', 3}])"
   ]
  },
  {
   "cell_type": "code",
   "execution_count": null,
   "id": "c7ad004e-f8ef-45ac-b9ca-17ae3edf6896",
   "metadata": {},
   "outputs": [],
   "source": [
    "from everest.incision import IncisableHost\n",
    "from everest import epitaph as _epitaph\n",
    "\n",
    "\n",
    "class MyObject(IncisableHost):\n",
    "\n",
    "    def __init__(self, /, **kwargs):\n",
    "        self._chora = MyDict(kwargs)\n",
    "        self._epitaph = _epitaph.TAPHONOMY.callsig_epitaph(\n",
    "            type(self), **kwargs\n",
    "            )\n",
    "\n",
    "    @property\n",
    "    def chora(self, /):\n",
    "        return self._chora\n",
    "\n",
    "    def retrieve(self, index, /):\n",
    "        return 'Woo!' + index\n",
    "\n",
    "    @property\n",
    "    def epitaph(self, /):\n",
    "        return self._epitaph"
   ]
  },
  {
   "cell_type": "code",
   "execution_count": null,
   "id": "350a2c38-1c72-4e18-a2af-098ac18a185d",
   "metadata": {},
   "outputs": [],
   "source": [
    "myobj = MyObject(a=1, b=2, c=3, d=4)"
   ]
  },
  {
   "cell_type": "code",
   "execution_count": null,
   "id": "d0d03c69-b9db-44a6-8fc3-eb6e1906ec00",
   "metadata": {},
   "outputs": [],
   "source": [
    "myobj.epitaph"
   ]
  },
  {
   "cell_type": "code",
   "execution_count": null,
   "id": "a433df71-6f78-4c32-9e57-7c7a83447722",
   "metadata": {},
   "outputs": [],
   "source": [
    "myobj['a']"
   ]
  },
  {
   "cell_type": "code",
   "execution_count": null,
   "id": "219f0cf2-2eb4-4806-9345-7f9ba79ca707",
   "metadata": {},
   "outputs": [],
   "source": [
    "myinc = myobj[{'a', 'b'}]"
   ]
  },
  {
   "cell_type": "code",
   "execution_count": null,
   "id": "21486dab-2eaf-4171-807a-a7e046b12f76",
   "metadata": {},
   "outputs": [],
   "source": [
    "myinc['b']"
   ]
  },
  {
   "cell_type": "code",
   "execution_count": null,
   "id": "50d56ff0-dd4a-4e1d-be8a-bcd6d56bbc89",
   "metadata": {},
   "outputs": [],
   "source": [
    "myinc.epitaph.decode()"
   ]
  },
  {
   "cell_type": "code",
   "execution_count": null,
   "id": "f8973f35-0d94-4b3c-b459-5ed537d58e33",
   "metadata": {},
   "outputs": [],
   "source": []
  }
 ],
 "metadata": {
  "kernelspec": {
   "display_name": "Python 3 (ipykernel)",
   "language": "python",
   "name": "python3"
  },
  "language_info": {
   "codemirror_mode": {
    "name": "ipython",
    "version": 3
   },
   "file_extension": ".py",
   "mimetype": "text/x-python",
   "name": "python",
   "nbconvert_exporter": "python",
   "pygments_lexer": "ipython3",
   "version": "3.9.5"
  }
 },
 "nbformat": 4,
 "nbformat_minor": 5
}
