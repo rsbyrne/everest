{
 "cells": [
  {
   "cell_type": "code",
   "execution_count": null,
   "id": "3fc1a9f1-2103-44cd-8844-f7479a9a23c2",
   "metadata": {},
   "outputs": [],
   "source": [
    "###############################################################################\n",
    "import aliases"
   ]
  },
  {
   "cell_type": "code",
   "execution_count": null,
   "id": "e0f2462a-9808-4ae3-8dea-cce08b95ebac",
   "metadata": {},
   "outputs": [],
   "source": [
    "from everest.utilities import ObjectMask\n",
    "import types\n",
    "\n",
    "obj1 = types.SimpleNamespace(a=1, b=2, c=3, d=4)\n",
    "objmask = ObjectMask(obj1, d=40, e=50)\n",
    "objmask.e"
   ]
  },
  {
   "cell_type": "code",
   "execution_count": null,
   "id": "d91444a5-c13d-4870-a894-9421eb772a25",
   "metadata": {},
   "outputs": [],
   "source": [
    "from everest.ptolemaic.chora import Chora\n",
    "\n",
    "from collections import abc as _collabc"
   ]
  },
  {
   "cell_type": "code",
   "execution_count": null,
   "id": "4859a0de-de31-43ad-965b-a3502a954813",
   "metadata": {},
   "outputs": [],
   "source": [
    "class MyDict(Chora):\n",
    "\n",
    "    FIELDS = (('content', 0),)\n",
    "\n",
    "    def retrieve(self, index, /):\n",
    "        return self.content[index]\n",
    "\n",
    "    def retrieve_key(self, incisor: _collabc.Hashable, /):\n",
    "        return incisor\n",
    "\n",
    "    def incise_set(self, incisor: set, /):\n",
    "        content = self.content\n",
    "        return self.__class_call__({\n",
    "            key: content[key]\n",
    "            for key in map(self.getitem, incisor)\n",
    "            if key in content\n",
    "            })\n",
    "\n",
    "\n",
    "class MyStrRepeater(Chora):\n",
    "\n",
    "    repetitions: int = 1\n",
    "\n",
    "    def retrieve_strn(self, incisor: str, /):\n",
    "        return incisor * self.repetitions"
   ]
  },
  {
   "cell_type": "code",
   "execution_count": null,
   "id": "f79b5578-d844-4a78-8361-50c151c38818",
   "metadata": {},
   "outputs": [],
   "source": [
    "mydct = MyDict({\n",
    "    'aa': 1,\n",
    "    'bb': 2,\n",
    "    3: 'foo',\n",
    "    4: 'bah',\n",
    "    })\n",
    "\n",
    "display(mydct['aa'])\n",
    "display(mydct[3])\n",
    "display(mydct[{'aa', 3}])"
   ]
  },
  {
   "cell_type": "code",
   "execution_count": null,
   "id": "38a2301e-7eaa-4943-8f4b-59eaee24e812",
   "metadata": {},
   "outputs": [],
   "source": [
    "myrep = MyStrRepeater(2)"
   ]
  },
  {
   "cell_type": "code",
   "execution_count": null,
   "id": "efaf25bc-5f89-4d97-9c91-962713c75a91",
   "metadata": {},
   "outputs": [],
   "source": [
    "mycomp = mydct[myrep]"
   ]
  },
  {
   "cell_type": "code",
   "execution_count": null,
   "id": "9550c284-83ba-4b09-a6fd-bf2ac3bb6dfc",
   "metadata": {},
   "outputs": [],
   "source": [
    "mycomp['a']"
   ]
  },
  {
   "cell_type": "code",
   "execution_count": null,
   "id": "e68df2ff-d4cc-4ebb-b0cd-22149ea2f4ed",
   "metadata": {},
   "outputs": [],
   "source": [
    "mycomp[3]"
   ]
  },
  {
   "cell_type": "code",
   "execution_count": null,
   "id": "97561e94-4507-4f05-8df9-6902fb9c021a",
   "metadata": {},
   "outputs": [],
   "source": [
    "mysubcomp = mycomp[{'a', 'b', 'd'}]"
   ]
  },
  {
   "cell_type": "code",
   "execution_count": null,
   "id": "6f84302d-9b3c-478f-9ffc-f9e53d9f3ae5",
   "metadata": {},
   "outputs": [],
   "source": [
    "mysubcomp"
   ]
  },
  {
   "cell_type": "code",
   "execution_count": null,
   "id": "2330ad9a-8b4f-441d-b151-68c738e0a091",
   "metadata": {},
   "outputs": [],
   "source": [
    "tuple({'a', 'b', 'c'})"
   ]
  },
  {
   "cell_type": "code",
   "execution_count": null,
   "id": "c7ad004e-f8ef-45ac-b9ca-17ae3edf6896",
   "metadata": {},
   "outputs": [],
   "source": []
  }
 ],
 "metadata": {
  "kernelspec": {
   "display_name": "Python 3 (ipykernel)",
   "language": "python",
   "name": "python3"
  },
  "language_info": {
   "codemirror_mode": {
    "name": "ipython",
    "version": 3
   },
   "file_extension": ".py",
   "mimetype": "text/x-python",
   "name": "python",
   "nbconvert_exporter": "python",
   "pygments_lexer": "ipython3",
   "version": "3.9.5"
  }
 },
 "nbformat": 4,
 "nbformat_minor": 5
}
