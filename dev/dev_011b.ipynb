{
 "cells": [
  {
   "cell_type": "code",
   "execution_count": null,
   "id": "0ae6ae81-1b2a-4d77-ac61-e97147fd6dcb",
   "metadata": {},
   "outputs": [],
   "source": [
    "import aliases"
   ]
  },
  {
   "cell_type": "code",
   "execution_count": null,
   "id": "c380dbbf-b260-4a38-b500-bf6aee393a16",
   "metadata": {},
   "outputs": [],
   "source": [
    "from everest.ptolemaic.pleroma import Pleroma\n",
    "from everest.ptolemaic.ptolemaic import Ptolemaic\n",
    "from everest.ptolemaic.ousia import Ousia"
   ]
  },
  {
   "cell_type": "code",
   "execution_count": null,
   "id": "2513a1a2-bfe1-44e4-b755-5449da334437",
   "metadata": {},
   "outputs": [],
   "source": [
    "class MyClass(Ptolemaic):\n",
    "\n",
    "    _req_slots__ = ('arg',)\n",
    "\n",
    "    def __init__(self, arg, /):\n",
    "        self.arg = arg"
   ]
  },
  {
   "cell_type": "code",
   "execution_count": null,
   "id": "3e1bf242-233d-4db9-bd9f-43aabb6b5fb2",
   "metadata": {},
   "outputs": [],
   "source": [
    "Ousia.__init__(MyClass)"
   ]
  },
  {
   "cell_type": "code",
   "execution_count": null,
   "id": "9e4bdfd2-b7df-4ea0-89ff-093228850d9e",
   "metadata": {},
   "outputs": [],
   "source": [
    "MyClass.__class_init__()"
   ]
  },
  {
   "cell_type": "code",
   "execution_count": null,
   "id": "c0d50590-f52d-42a0-8469-617bf8942780",
   "metadata": {},
   "outputs": [],
   "source": [
    "MyClass.__class_init__"
   ]
  },
  {
   "cell_type": "code",
   "execution_count": null,
   "id": "8ad38b59-5f65-49b5-b03b-def2958400d5",
   "metadata": {},
   "outputs": [],
   "source": [
    "class MyClass(Ptolemaic):\n",
    "\n",
    "    _req_slots__ = ('arg',)\n",
    "\n",
    "    def __init__(self, arg, /):\n",
    "        self.arg = arg\n",
    "\n",
    "print(repr(MyClass((1, 2))))"
   ]
  },
  {
   "cell_type": "code",
   "execution_count": null,
   "id": "0d0c7f34-76dc-406c-8153-cc7a94dfdf57",
   "metadata": {},
   "outputs": [],
   "source": [
    "from everest.ptolemaic.intt import Intt\n",
    "\n",
    "print(repr(Intt(1)))\n",
    "print(repr(Intt[1:10]))\n",
    "\n",
    "class MyClass(Ptolemaic):\n",
    "\n",
    "    _req_slots__ = ('arg',)\n",
    "\n",
    "    def __init__(self, arg, /):\n",
    "        self.arg = arg\n",
    "\n",
    "print(repr(MyClass((1, 2))))"
   ]
  },
  {
   "cell_type": "code",
   "execution_count": null,
   "id": "64b78874-03d9-46dc-9666-57d053634ed2",
   "metadata": {},
   "outputs": [],
   "source": [
    "class MyClass(Pleroma, metaclass=Pleroma):\n",
    "\n",
    "    @classmethod\n",
    "    def _pleroma_construct(cls, /, *args, **kwargs):\n",
    "        return super()._pleroma_construct(cls, *args, **kwargs)"
   ]
  },
  {
   "cell_type": "code",
   "execution_count": null,
   "id": "71899e44-86b8-49d9-ad1b-c7a5ac58d2c4",
   "metadata": {},
   "outputs": [],
   "source": [
    "MyClass(MyClass, 'Foo', (), {})"
   ]
  },
  {
   "cell_type": "code",
   "execution_count": null,
   "id": "586740a2-2025-462f-bc80-d79aa602307a",
   "metadata": {},
   "outputs": [],
   "source": [
    "class Meta(type):\n",
    "\n",
    "    def __call__(self, /, *args, **kwargs):\n",
    "        print(self, type(self), args, kwargs)\n",
    "        return super().__call__(*args, **kwargs)\n",
    "\n",
    "\n",
    "class A(type, metaclass=Meta):\n",
    "\n",
    "    def __call__(self, /, *args, **kwargs):\n",
    "        return super().__call__(self, *args, **kwargs)\n",
    "\n",
    "\n",
    "class B(A):\n",
    "    ..."
   ]
  },
  {
   "cell_type": "code",
   "execution_count": null,
   "id": "755f0a0e-be64-4de2-babc-c8a7a878a999",
   "metadata": {},
   "outputs": [],
   "source": [
    "mycls = B('Foo', (), {})"
   ]
  },
  {
   "cell_type": "code",
   "execution_count": null,
   "id": "bf36b6a0-cdcd-4e58-84c7-944f156ede20",
   "metadata": {},
   "outputs": [],
   "source": [
    "class MyClass(type):\n",
    "    ..."
   ]
  },
  {
   "cell_type": "code",
   "execution_count": null,
   "id": "f37a447c-1115-4aec-a2ad-260dc495a0f7",
   "metadata": {},
   "outputs": [],
   "source": [
    "type.__new__(MyClass, 'Foo', (), {})"
   ]
  },
  {
   "cell_type": "code",
   "execution_count": null,
   "id": "9beff143-1fca-4acb-bc69-c6041a3522a5",
   "metadata": {},
   "outputs": [],
   "source": [
    "mycls.__mro__"
   ]
  },
  {
   "cell_type": "code",
   "execution_count": null,
   "id": "17f8a0f1-8c14-4ff8-8a4e-50f882da2379",
   "metadata": {},
   "outputs": [],
   "source": [
    "type(mycls)"
   ]
  },
  {
   "cell_type": "code",
   "execution_count": null,
   "id": "5edb75a1-e379-4993-bbde-319ce2d8aedd",
   "metadata": {},
   "outputs": [],
   "source": []
  }
 ],
 "metadata": {
  "kernelspec": {
   "display_name": "Python 3 (ipykernel)",
   "language": "python",
   "name": "python3"
  },
  "language_info": {
   "codemirror_mode": {
    "name": "ipython",
    "version": 3
   },
   "file_extension": ".py",
   "mimetype": "text/x-python",
   "name": "python",
   "nbconvert_exporter": "python",
   "pygments_lexer": "ipython3",
   "version": "3.9.5"
  }
 },
 "nbformat": 4,
 "nbformat_minor": 5
}
