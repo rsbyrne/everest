{
 "cells": [
  {
   "cell_type": "code",
   "execution_count": null,
   "id": "e21a7ebf-c5ea-40f3-a2e1-36afb34c2c91",
   "metadata": {},
   "outputs": [],
   "source": [
    "###############################################################################\n",
    "import aliases\n",
    "from everest.utilities import textutils\n",
    "# tuple(textutils.find_all('__getattr__', path='../everest/ptolemaic'))\n",
    "# textutils.replace_all('Schematic', 'Compound', path='../everest')"
   ]
  },
  {
   "cell_type": "code",
   "execution_count": null,
   "id": "2bba98b5-68ec-4e84-838e-dcfad74bda87",
   "metadata": {},
   "outputs": [],
   "source": [
    "from everest.algebra.gramma import *\n",
    "from everest.algebra.utilities.safeiterator import *"
   ]
  },
  {
   "cell_type": "code",
   "execution_count": null,
   "id": "b12d8a60-ed1f-43ac-ad01-4e4efb969b1f",
   "metadata": {},
   "outputs": [],
   "source": [
    "mygramma = Gramma(\n",
    "    null := Opp('nullary'),\n",
    "    ('binary', null, 'cd'),\n",
    "    ('foo', (1, 2), (3, 4)),\n",
    "    )\n",
    "mygramma"
   ]
  },
  {
   "cell_type": "code",
   "execution_count": null,
   "id": "d4fa4c00-3e4b-4dbe-9dd6-74520b02970a",
   "metadata": {},
   "outputs": [],
   "source": [
    "# phrase, tokens = mygramma[null[()], 'd']\n",
    "mygramma['nullary', 'd']"
   ]
  },
  {
   "cell_type": "code",
   "execution_count": null,
   "id": "eb443766-00cf-4946-abe0-19c9b360f2c1",
   "metadata": {},
   "outputs": [],
   "source": [
    "mygramma[1, 3]"
   ]
  },
  {
   "cell_type": "code",
   "execution_count": null,
   "id": "8fb87c9f-ddfc-4bc4-8207-d409abe5d779",
   "metadata": {},
   "outputs": [],
   "source": [
    "from collections import abc as _collabc, deque as _deque\n",
    "\n",
    "from everest.ptolemaic.system import System as _System\n",
    "from everest.algebra.utilities import safeiterator as _safeiterator"
   ]
  },
  {
   "cell_type": "code",
   "execution_count": null,
   "id": "54abb673-011e-44e0-b076-e3eff75154a5",
   "metadata": {},
   "outputs": [],
   "source": [
    "class LekserError(RuntimeError):\n",
    "    ...\n",
    "\n",
    "\n",
    "class Lek(metaclass=_System):\n",
    "\n",
    "\n",
    "    (\n",
    "        '''A lexer 'rule' that attempts produces an appropriate `Lexeme`'''\n",
    "        '''from a provided iterable of objects.'''\n",
    "        )\n",
    "\n",
    "    markers: POS[tuple]\n",
    "    sources: POS[tuple]\n",
    "\n",
    "    @classmethod\n",
    "    def _parameterise_(cls, /, *args, **kwargs):\n",
    "        params = super()._parameterise_(*args, **kwargs)\n",
    "        params.markers = tuple(sorted(set(params.markers)))\n",
    "        params.sources = tuple(params.sources)\n",
    "        return params\n",
    "\n",
    "    def __getitem__(self, stream: _collabc.Sequence, /):\n",
    "        stream = iter(stream)\n",
    "        contents = _deque()\n",
    "        for src in self.sources:\n",
    "            try:\n",
    "                nxt = next(stream)\n",
    "            except StopIteration:\n",
    "                raise LekserError\n",
    "            if nxt in src:\n",
    "                contents.append(nxt)\n",
    "                continue\n",
    "            raise LekserError\n",
    "        return self._Lekseme_(self, contents)\n",
    "\n",
    "\n",
    "    class _Lekseme_(metaclass=_System):\n",
    "\n",
    "        (\n",
    "            '''Binds zero or more objects together '''\n",
    "            '''under one or more arbitrary 'markers'.'''\n",
    "            )\n",
    "\n",
    "        lek: POS['..']\n",
    "        contents: POS[tuple]\n",
    "\n",
    "        @classmethod\n",
    "        def _parameterise_(cls, /, *args, **kwargs):\n",
    "            params = super()._parameterise_(*args, **kwargs)\n",
    "            params.contents = tuple(params.contents)\n",
    "            return params\n",
    "\n",
    "        @property\n",
    "        def markers(self, /):\n",
    "            return self.lek.markers"
   ]
  },
  {
   "cell_type": "code",
   "execution_count": null,
   "id": "0765e438-403a-4e3a-bd0e-8035401e7e10",
   "metadata": {},
   "outputs": [],
   "source": [
    "mylek = Lek(('funny', 'smart'), ({'a', 'b'}, {'c', 'd', 'e'}))"
   ]
  },
  {
   "cell_type": "code",
   "execution_count": null,
   "id": "1c341667-80d9-4efc-9c04-8af2ca4c539d",
   "metadata": {},
   "outputs": [],
   "source": [
    "mylek['ac']"
   ]
  },
  {
   "cell_type": "code",
   "execution_count": null,
   "id": "3eaa638f-3f81-4006-acee-a6e0daed8e27",
   "metadata": {},
   "outputs": [],
   "source": [
    "Lekseme.__doc__"
   ]
  },
  {
   "cell_type": "code",
   "execution_count": null,
   "id": "d56814be-e1df-4414-a2ab-157b3f0138fd",
   "metadata": {},
   "outputs": [],
   "source": [
    "Lekseme(('a', 'b', 'c'), (1, 2, 3))"
   ]
  },
  {
   "cell_type": "code",
   "execution_count": null,
   "id": "96dc780c-64b8-4a5f-8eb9-a4a9f9d2cf65",
   "metadata": {},
   "outputs": [],
   "source": []
  }
 ],
 "metadata": {
  "kernelspec": {
   "display_name": "Python 3 (ipykernel)",
   "language": "python",
   "name": "python3"
  },
  "language_info": {
   "codemirror_mode": {
    "name": "ipython",
    "version": 3
   },
   "file_extension": ".py",
   "mimetype": "text/x-python",
   "name": "python",
   "nbconvert_exporter": "python",
   "pygments_lexer": "ipython3",
   "version": "3.9.5"
  }
 },
 "nbformat": 4,
 "nbformat_minor": 5
}
