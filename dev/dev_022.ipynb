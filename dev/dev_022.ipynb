{
 "cells": [
  {
   "cell_type": "code",
   "execution_count": null,
   "id": "a9f688e0-394b-4245-afe0-b0b96f748a5a",
   "metadata": {},
   "outputs": [],
   "source": [
    "import aliases"
   ]
  },
  {
   "cell_type": "code",
   "execution_count": null,
   "id": "febd8890-bf25-44a0-b9ca-ff811f4ad798",
   "metadata": {},
   "outputs": [],
   "source": [
    "import abc\n",
    "\n",
    "from everest.ptolemaic.eidos import Eidos\n",
    "\n",
    "from everest.utilities import reseed\n",
    "\n",
    "import inspect"
   ]
  },
  {
   "cell_type": "code",
   "execution_count": null,
   "id": "431d5e2d-078f-4153-a83c-96a4276788f5",
   "metadata": {},
   "outputs": [],
   "source": [
    "class Agent(metaclass=Eidos):\n",
    "\n",
    "    identity: int\n",
    "\n",
    "    @classmethod\n",
    "    def parameterise(cls, cache, /):\n",
    "        identity = reseed.rint(low=0, high=2**64)\n",
    "        return super().parameterise(cache, identity)"
   ]
  },
  {
   "cell_type": "code",
   "execution_count": null,
   "id": "02e2810f-8817-43bf-aecb-866fca719020",
   "metadata": {},
   "outputs": [],
   "source": [
    "class Covenant(Agent):\n",
    "\n",
    "    FIELDS = (\n",
    "        inspect.Parameter('constituents', 2),\n",
    "        )\n",
    "\n",
    "    def constitution(self):\n",
    "        ...\n",
    "\n",
    "\n",
    "class Democracy(Covenant):\n",
    "    ...\n",
    "\n",
    "\n",
    "class LimitedLiabilityCorporation(Covenant):\n",
    "    ..."
   ]
  },
  {
   "cell_type": "code",
   "execution_count": null,
   "id": "21fc2551-fe46-405e-8e71-480e67e2ab50",
   "metadata": {},
   "outputs": [],
   "source": [
    "Covenant(Agent(), Agent(), Agent())"
   ]
  },
  {
   "cell_type": "code",
   "execution_count": null,
   "id": "ee396711-ad18-453c-8fdc-617895af1d48",
   "metadata": {},
   "outputs": [],
   "source": []
  },
  {
   "cell_type": "code",
   "execution_count": null,
   "id": "cec06c5f-1da8-4e18-bcd5-e2f2b0455458",
   "metadata": {},
   "outputs": [],
   "source": [
    "class Entity(metaclass=Eidos):\n",
    "\n",
    "    coords: tuple[int, int, int]\n",
    "    identity: int\n",
    "\n",
    "    @classmethod\n",
    "    def parameterise(cls, cache, coords, /):\n",
    "        identity = reseed.rint(low=0, high=2**64)\n",
    "        return super().parameterise(cache, coords, identity)"
   ]
  },
  {
   "cell_type": "code",
   "execution_count": null,
   "id": "0ea8e16d-8e8f-4b8f-bb8d-6ac0c326e9f1",
   "metadata": {},
   "outputs": [],
   "source": [
    "class Population(Entity):\n",
    "    ..."
   ]
  },
  {
   "cell_type": "code",
   "execution_count": null,
   "id": "cff781fa-4769-48da-981c-3ca8780dcbaa",
   "metadata": {},
   "outputs": [],
   "source": [
    "Population((0, 0, 0))"
   ]
  },
  {
   "cell_type": "code",
   "execution_count": null,
   "id": "c8350429-14d0-4ad5-a720-bcbc8fe14848",
   "metadata": {},
   "outputs": [],
   "source": [
    "class IronOre(Entity):\n",
    "    ...\n",
    "\n",
    "\n",
    "class Iron(Entity):\n",
    "    ..."
   ]
  },
  {
   "cell_type": "code",
   "execution_count": null,
   "id": "df263120-355a-4230-8dd6-7dc4320bca28",
   "metadata": {},
   "outputs": [],
   "source": [
    "class Process(metaclass=Eidos):\n",
    "\n",
    "    FIELDS = (\n",
    "        inspect.Parameter('precursors', 2),\n",
    "        inspect.Parameter('identity', 3, annotation=int),\n",
    "        )\n",
    "\n",
    "    cost = NotImplemented\n",
    "\n",
    "    @classmethod\n",
    "    def parameterise(cls, cache, /, *precursors):\n",
    "        identity = reseed.rint(low=0, high=2**64)\n",
    "        return super().parameterise(cache, *precursors, identity=identity)"
   ]
  },
  {
   "cell_type": "code",
   "execution_count": null,
   "id": "c223f2e5-4d0f-4b97-b1cf-525a16bf7e79",
   "metadata": {},
   "outputs": [],
   "source": [
    "class Refining(Process):\n",
    "\n",
    "    _req_slots__ = ('output', 'coords')\n",
    "\n",
    "    cost = 10\n",
    "    out = Iron\n",
    "\n",
    "    def get_coords(self, /):\n",
    "        return self.precursors[0].coords\n",
    "\n",
    "    def __init__(self, /):\n",
    "        coords = self.coords = self.get_coords()\n",
    "        self.output = type(self).out(coords)"
   ]
  },
  {
   "cell_type": "code",
   "execution_count": null,
   "id": "8b616246-e4a2-45d5-a112-3e29f806c81b",
   "metadata": {},
   "outputs": [],
   "source": [
    "myproc = Refining(\n",
    "    IronOre((0, 0, 0)),\n",
    "    IronOre((0, 0, 0)),\n",
    "    )"
   ]
  },
  {
   "cell_type": "code",
   "execution_count": null,
   "id": "28492c11-4dd2-4969-9805-33750d6a2892",
   "metadata": {},
   "outputs": [],
   "source": [
    "myproc.output"
   ]
  }
 ],
 "metadata": {
  "kernelspec": {
   "display_name": "Python 3 (ipykernel)",
   "language": "python",
   "name": "python3"
  },
  "language_info": {
   "codemirror_mode": {
    "name": "ipython",
    "version": 3
   },
   "file_extension": ".py",
   "mimetype": "text/x-python",
   "name": "python",
   "nbconvert_exporter": "python",
   "pygments_lexer": "ipython3",
   "version": "3.9.5"
  }
 },
 "nbformat": 4,
 "nbformat_minor": 5
}
