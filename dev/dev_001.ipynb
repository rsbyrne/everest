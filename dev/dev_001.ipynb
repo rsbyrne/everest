{
 "cells": [
  {
   "cell_type": "code",
   "execution_count": 1,
   "id": "3ca7adfb-32db-4ebd-85f9-ef5e338116b8",
   "metadata": {},
   "outputs": [],
   "source": [
    "import aliases"
   ]
  },
  {
   "cell_type": "code",
   "execution_count": 2,
   "id": "00bab435-1811-4fa7-ab2a-3899e301bd68",
   "metadata": {},
   "outputs": [],
   "source": [
    "from everest.incision.orderable import Orderable\n",
    "mychora = Orderable(criterion=float)[1.5:3.7][0.5:2.5]\n",
    "assert mychora.bnds == (1.5, 2.5)"
   ]
  },
  {
   "cell_type": "code",
   "execution_count": null,
   "id": "1821c0d1-d0d3-4e44-8703-cd7f6e7f1e18",
   "metadata": {},
   "outputs": [],
   "source": [
    "mychora.Element.__mro__"
   ]
  },
  {
   "cell_type": "code",
   "execution_count": 4,
   "id": "05a8ae8f-6eb4-48f5-a14c-a6c4546d5dfa",
   "metadata": {},
   "outputs": [
    {
     "data": {
      "text/plain": [
       "True"
      ]
     },
     "execution_count": 4,
     "metadata": {},
     "output_type": "execute_result"
    }
   ],
   "source": [
    "isinstance((1,), mychora.Incisor)"
   ]
  }
 ],
 "metadata": {
  "kernelspec": {
   "display_name": "Python 3 (ipykernel)",
   "language": "python",
   "name": "python3"
  },
  "language_info": {
   "codemirror_mode": {
    "name": "ipython",
    "version": 3
   },
   "file_extension": ".py",
   "mimetype": "text/x-python",
   "name": "python",
   "nbconvert_exporter": "python",
   "pygments_lexer": "ipython3",
   "version": "3.9.5"
  }
 },
 "nbformat": 4,
 "nbformat_minor": 5
}
