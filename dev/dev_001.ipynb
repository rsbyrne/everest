{
 "cells": [
  {
   "cell_type": "code",
   "execution_count": 1,
   "id": "3ca7adfb-32db-4ebd-85f9-ef5e338116b8",
   "metadata": {},
   "outputs": [],
   "source": [
    "import aliases"
   ]
  },
  {
   "cell_type": "code",
   "execution_count": 2,
   "id": "34517711-250f-42e4-998a-ea6ecd6a14cd",
   "metadata": {},
   "outputs": [],
   "source": [
    "import operator\n",
    "import time\n",
    "\n",
    "from everest.incision.measurable import Measurable"
   ]
  },
  {
   "cell_type": "code",
   "execution_count": 3,
   "id": "38659ad1-1f48-4786-bf3f-9d1f5ffdbbc4",
   "metadata": {},
   "outputs": [],
   "source": [
    "class MyElement:\n",
    "    baset = time.time()\n",
    "    def __init__(self):\n",
    "        self.t = int((time.time() - self.baset) * 1000.)\n",
    "\n",
    "def metric(a, b):\n",
    "    return abs(a.t - b.t)\n",
    "\n",
    "class MyClass(Measurable):\n",
    "\n",
    "    metrictype = int\n",
    "\n",
    "    @classmethod\n",
    "    def element_types(cls, /):\n",
    "        yield from super().element_types()\n",
    "        yield MyElement\n",
    "\n",
    "mychora = MyClass(metric=metric)"
   ]
  },
  {
   "cell_type": "code",
   "execution_count": 4,
   "id": "3787a272-896c-44b3-b907-62a29aa219c4",
   "metadata": {},
   "outputs": [],
   "source": [
    "el1 = MyElement()\n",
    "time.sleep(0.1)\n",
    "el2 = MyElement()\n",
    "time.sleep(0.1)\n",
    "el3 = MyElement()"
   ]
  },
  {
   "cell_type": "code",
   "execution_count": null,
   "id": "4db66fc3-9585-4852-9829-c452a0fe699f",
   "metadata": {},
   "outputs": [],
   "source": [
    "Measurable.Originated.__mro__"
   ]
  },
  {
   "cell_type": "code",
   "execution_count": null,
   "id": "4a945077-e8aa-4f28-a10e-3ee7ba946cd8",
   "metadata": {},
   "outputs": [],
   "source": [
    "myinc = mychora[el1:el3]\n",
    "myinc.bnds"
   ]
  },
  {
   "cell_type": "code",
   "execution_count": null,
   "id": "3bb39f8f-00c6-4b2d-b27b-977f391f7cce",
   "metadata": {},
   "outputs": [],
   "source": [
    "myinc2 = myinc[3:]\n",
    "myinc2.bnds"
   ]
  },
  {
   "cell_type": "code",
   "execution_count": null,
   "id": "3a3499b6-f9d2-41fa-bc2f-b5224b4522ce",
   "metadata": {},
   "outputs": [],
   "source": [
    "myinc2[el2]"
   ]
  },
  {
   "cell_type": "code",
   "execution_count": null,
   "id": "e290b6a4-c7c5-4313-91b6-8e638e5de8bd",
   "metadata": {},
   "outputs": [],
   "source": [
    "myfn = lambda x: ('hello', x)"
   ]
  },
  {
   "cell_type": "code",
   "execution_count": null,
   "id": "e874987f-fefc-45f6-982f-a04bc195c32d",
   "metadata": {},
   "outputs": [],
   "source": [
    "%%timeit\n",
    "myinc2.__getitem__(el2, myfn)"
   ]
  },
  {
   "cell_type": "code",
   "execution_count": null,
   "id": "2cc763c0-1c4c-4888-a6fd-f413577ecdac",
   "metadata": {},
   "outputs": [],
   "source": [
    "%%timeit\n",
    "myinc2.__getitem__(el2)"
   ]
  },
  {
   "cell_type": "code",
   "execution_count": null,
   "id": "a1f3a3ce-ded2-4854-89cc-2eb28cdd44e6",
   "metadata": {},
   "outputs": [],
   "source": []
  }
 ],
 "metadata": {
  "kernelspec": {
   "display_name": "Python 3 (ipykernel)",
   "language": "python",
   "name": "python3"
  },
  "language_info": {
   "codemirror_mode": {
    "name": "ipython",
    "version": 3
   },
   "file_extension": ".py",
   "mimetype": "text/x-python",
   "name": "python",
   "nbconvert_exporter": "python",
   "pygments_lexer": "ipython3",
   "version": "3.9.5"
  }
 },
 "nbformat": 4,
 "nbformat_minor": 5
}
