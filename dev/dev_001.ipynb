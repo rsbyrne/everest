{
 "cells": [
  {
   "cell_type": "code",
   "execution_count": null,
   "id": "3ca7adfb-32db-4ebd-85f9-ef5e338116b8",
   "metadata": {},
   "outputs": [],
   "source": [
    "import aliases"
   ]
  },
  {
   "cell_type": "code",
   "execution_count": null,
   "id": "5c37460d-b5f5-43b2-adc1-a0303a8a760a",
   "metadata": {},
   "outputs": [],
   "source": [
    "from everest.incision.sampleable import Sampleable"
   ]
  },
  {
   "cell_type": "code",
   "execution_count": null,
   "id": "c74a35a9-58b4-456c-94da-018e29c322d8",
   "metadata": {},
   "outputs": [],
   "source": [
    "from everest.incision.sett import Sett"
   ]
  },
  {
   "cell_type": "code",
   "execution_count": null,
   "id": "beeef33e-ddb8-4f4a-810e-3bf6cb71fe14",
   "metadata": {},
   "outputs": [],
   "source": [
    "class MySett(Sett):\n",
    "    @classmethod\n",
    "    def element_types(cls, /):\n",
    "        yield str"
   ]
  },
  {
   "cell_type": "code",
   "execution_count": null,
   "id": "5ff69699-3e00-4382-bfe0-df11623dd6fd",
   "metadata": {},
   "outputs": [],
   "source": [
    "sett = MySett()"
   ]
  },
  {
   "cell_type": "code",
   "execution_count": null,
   "id": "97ad6a80-7428-4070-a6f1-34f1796dd563",
   "metadata": {},
   "outputs": [],
   "source": [
    "'abc' in sett"
   ]
  },
  {
   "cell_type": "code",
   "execution_count": null,
   "id": "ebeeb357-aace-482e-ad44-a640f437228b",
   "metadata": {},
   "outputs": [],
   "source": [
    "myset = sett[::lambda x: x.__contains__('a')]"
   ]
  },
  {
   "cell_type": "code",
   "execution_count": null,
   "id": "af95f8dc-53e1-434b-9123-deeeb3caf7c6",
   "metadata": {},
   "outputs": [],
   "source": [
    "'abc' in myset"
   ]
  },
  {
   "cell_type": "code",
   "execution_count": null,
   "id": "e025beb4-351b-4150-acf2-af1d7a95a2e2",
   "metadata": {},
   "outputs": [],
   "source": [
    "'bc' in myset"
   ]
  },
  {
   "cell_type": "code",
   "execution_count": null,
   "id": "42a018e5-9e1b-46a6-80df-c8e10bd75105",
   "metadata": {},
   "outputs": [],
   "source": [
    "from abc import ABC"
   ]
  },
  {
   "cell_type": "code",
   "execution_count": null,
   "id": "8f70208d-6206-47c2-841c-29771b4a636b",
   "metadata": {},
   "outputs": [],
   "source": [
    "ABC.__subclasscheck__()"
   ]
  },
  {
   "cell_type": "code",
   "execution_count": null,
   "id": "e9e2a967-56f9-43da-8e47-2ab1f3f48d32",
   "metadata": {},
   "outputs": [],
   "source": [
    "class MyClass(ABC):\n",
    "    ..."
   ]
  },
  {
   "cell_type": "code",
   "execution_count": null,
   "id": "ae931158-1f5d-462c-996e-313787b59c6e",
   "metadata": {},
   "outputs": [],
   "source": [
    "MyClass.register(int)"
   ]
  },
  {
   "cell_type": "code",
   "execution_count": null,
   "id": "084f1536-2df8-4b04-a7cd-339ba985c88a",
   "metadata": {},
   "outputs": [],
   "source": [
    "from abc import ABCMeta as _ABCMeta"
   ]
  },
  {
   "cell_type": "code",
   "execution_count": null,
   "id": "d8b766c5-e5d1-4f66-a50f-0a81db7e4ab8",
   "metadata": {},
   "outputs": [],
   "source": [
    "class AbstractMeta(_ABCMeta):\n",
    "    def __init__(cls, *args, **kwargs):\n",
    "        cls.manifest = []\n",
    "    def register(cls, other, /):\n",
    "        cls.manifest.\n",
    "        return other\n",
    "    def __subclasscheck__(cls, other, /):\n",
    "        registrees = cls._registrees\n",
    "        if not registrees:\n",
    "            return True\n",
    "        \n",
    "        return super().__subclasscheck__(other)\n",
    "\n",
    "class Element(metaclass=AbstractMeta):\n",
    "    ..."
   ]
  },
  {
   "cell_type": "code",
   "execution_count": null,
   "id": "9cb397b5-4473-458c-b763-7ffdc5f2f4f8",
   "metadata": {},
   "outputs": [],
   "source": [
    "class ElementMeta(_ABCMeta):\n",
    "    def __init__(cls, *args, **kwargs):\n",
    "        cls._anyregistered = False\n",
    "    def register(cls, other, /):\n",
    "        out = super().register(other)\n",
    "        cls._anyregistered = True\n",
    "        return out\n",
    "    def __subclasscheck__(cls, other, /):\n",
    "        if not cls._anyregistered:\n",
    "            return True\n",
    "        return super().__subclasscheck__(other)\n",
    "\n",
    "class Element(metaclass=ElementMeta):\n",
    "    ..."
   ]
  },
  {
   "cell_type": "code",
   "execution_count": null,
   "id": "f1930051-377d-4ad5-b17c-a0379fd67b11",
   "metadata": {},
   "outputs": [],
   "source": [
    "issubclass(float, Element)"
   ]
  },
  {
   "cell_type": "code",
   "execution_count": null,
   "id": "4fdab653-e0ce-4cd1-8a76-4194cee11a1e",
   "metadata": {},
   "outputs": [],
   "source": [
    "Element.register(int)"
   ]
  },
  {
   "cell_type": "code",
   "execution_count": null,
   "id": "f739da91-2578-436c-8c8e-ac57be8e7552",
   "metadata": {},
   "outputs": [],
   "source": [
    "MyClass.registera\n"
   ]
  },
  {
   "cell_type": "code",
   "execution_count": null,
   "id": "55a23245-98e2-4d2f-aebf-a2ea71a2931b",
   "metadata": {},
   "outputs": [],
   "source": [
    "from everest.utilities.misc import TypeMap"
   ]
  },
  {
   "cell_type": "code",
   "execution_count": null,
   "id": "47a46917-2a75-415f-a6b3-03797ec63a80",
   "metadata": {},
   "outputs": [],
   "source": [
    "TypeMap({\n",
    "    ((float, int), (str, bytes)): 'foo'    \n",
    "    })[type(0), type('bah')"
   ]
  },
  {
   "cell_type": "code",
   "execution_count": null,
   "id": "8c28105b-7094-4298-ba75-fd42c22e52b2",
   "metadata": {},
   "outputs": [],
   "source": [
    "import itertools\n",
    "mylist = ['abc', 'def', 'gh']"
   ]
  },
  {
   "cell_type": "code",
   "execution_count": null,
   "id": "2980e5e0-e2b3-47b3-b913-8280b64a9bb8",
   "metadata": {},
   "outputs": [],
   "source": [
    "default = (True, True, True)\n",
    "rows = tuple(\n",
    "    (row[0], (row[1], (row[2] if len(row) == 3 else default)))\n",
    "    for row in mylist\n",
    "    )\n",
    "rows"
   ]
  },
  {
   "cell_type": "code",
   "execution_count": null,
   "id": "54247329-08a5-42ae-94cd-6c77346536c2",
   "metadata": {},
   "outputs": [],
   "source": [
    "NoneType"
   ]
  },
  {
   "cell_type": "code",
   "execution_count": null,
   "id": "68aa5b57-e754-47a7-8f67-3d64d94b4aa3",
   "metadata": {},
   "outputs": [],
   "source": [
    "isinstance(tuple, tuple)"
   ]
  },
  {
   "cell_type": "code",
   "execution_count": null,
   "id": "96f89139-1631-4c99-bf82-c41d3595ba95",
   "metadata": {},
   "outputs": [],
   "source": [
    "myslc = slyce(1, 2, 3)"
   ]
  },
  {
   "cell_type": "code",
   "execution_count": null,
   "id": "71b9a98f-8e1f-41d8-9151-4fc6b36341b9",
   "metadata": {},
   "outputs": [],
   "source": [
    "myslc.hasargs"
   ]
  },
  {
   "cell_type": "code",
   "execution_count": null,
   "id": "93f61d21-1c62-4393-960f-01998ba93b4e",
   "metadata": {},
   "outputs": [],
   "source": [
    "myslc.args"
   ]
  },
  {
   "cell_type": "code",
   "execution_count": null,
   "id": "dbab45b8-4230-472a-b294-fb13e0589e4b",
   "metadata": {},
   "outputs": [],
   "source": [
    "myslc.trueargs"
   ]
  },
  {
   "cell_type": "code",
   "execution_count": null,
   "id": "cde87c17-3ade-46a7-810d-667a51d4115f",
   "metadata": {},
   "outputs": [],
   "source": [
    "[1, 2, 3][*'abc']"
   ]
  },
  {
   "cell_type": "code",
   "execution_count": null,
   "id": "66e07151-edc6-4e1e-8bb3-ce34d8987ea3",
   "metadata": {},
   "outputs": [],
   "source": [
    "from abc import abstractmethod as _abstractmethod\n",
    "import operator as _operator\n",
    "\n",
    "from everest.incision.orderable import Orderable as _Orderable\n",
    "from everest.incision.chora import Chora as _Chora\n",
    "\n",
    "class Measurable(_Chora):\n",
    "\n",
    "    @_abstractmethod\n",
    "    def metric(self, a, b):\n",
    "        '''Returns the 'distance' between any two elements.'''\n",
    "        raise NotImplementedError\n",
    "\n",
    "\n",
    "class Reals(Measurable, _Orderable):\n",
    "\n",
    "    comparator = _operator.sub\n",
    "\n",
    "    @classmethod\n",
    "    def metric(cls, a, b):\n",
    "        return abs(cls.comparator(a, b))\n",
    "\n",
    "    @classmethod\n",
    "    def element_types(cls, /):\n",
    "        yield from super().element_types()\n",
    "        yield float\n",
    "\n",
    "    def process_relative_metric_incisor(self, incisor):\n",
    "        lbnd, ubnd = self.bnds\n",
    "        if incisor > 0:\n",
    "            if lbnd is None:\n",
    "                return incisor\n",
    "            return lbnd + incisor\n",
    "        if incisor < 0:\n",
    "            if ubnd is None:\n",
    "                raise IndexError(\n",
    "                    \"Cannot slice negatively from undefined `.ubnd`.\"\n",
    "                    ) from exc\n",
    "        return incisor\n",
    "\n",
    "    def incise_delimit_start(self, incisor):\n",
    "        incisor = self.process_relative_metric_incisor(incisor)\n",
    "        return super().incise_delimit_start(incisor)\n",
    "\n",
    "    def incise_delimit_stop(self, incisor):\n",
    "        incisor = self.process_relative_metric_incisor(incisor)\n",
    "        return super().incise_delimit_stop(incisor)\n",
    "            \n",
    "\n",
    "#     @classmethod\n",
    "#     def slice_start_methods(cls, /):\n",
    "#         yield from super().slice_start_methods()\n",
    "#         yield cls.Element, cls.incise_measurable_origin"
   ]
  },
  {
   "cell_type": "code",
   "execution_count": null,
   "id": "19f26e43-34cc-4628-a14e-ef52969e030c",
   "metadata": {},
   "outputs": [],
   "source": [
    "reals = Reals()"
   ]
  },
  {
   "cell_type": "code",
   "execution_count": null,
   "id": "e4e1f2cc-4524-4eb7-a566-6f081eb1e3b4",
   "metadata": {},
   "outputs": [],
   "source": [
    "reals[10.:15.][:2.].bnds"
   ]
  },
  {
   "cell_type": "code",
   "execution_count": null,
   "id": "3a29d875-8a5d-4203-982b-35a7c45c8656",
   "metadata": {},
   "outputs": [],
   "source": [
    "reals[10.:15.][2.:2.].bnds"
   ]
  },
  {
   "cell_type": "code",
   "execution_count": null,
   "id": "f13dedd0-ec8a-4d4d-8279-fa3a13c4528a",
   "metadata": {},
   "outputs": [],
   "source": [
    "Reals.comparator(12., 10.)"
   ]
  },
  {
   "cell_type": "code",
   "execution_count": null,
   "id": "1c05a322-de12-4dd1-bfb2-2d430ec29ba8",
   "metadata": {},
   "outputs": [],
   "source": [
    "reals.bnds"
   ]
  },
  {
   "cell_type": "code",
   "execution_count": null,
   "id": "0e76d779-3fe9-4655-8802-5070970e6cbd",
   "metadata": {},
   "outputs": [],
   "source": [
    "myinc = reals[10.:12.]"
   ]
  },
  {
   "cell_type": "code",
   "execution_count": null,
   "id": "d3acaec5-3103-457d-87e3-d8ae6e920692",
   "metadata": {},
   "outputs": [],
   "source": [
    "myinc.bnds"
   ]
  },
  {
   "cell_type": "code",
   "execution_count": null,
   "id": "d9d1f8ff-0e21-4535-ab30-445771d1f150",
   "metadata": {},
   "outputs": [],
   "source": [
    "myinc[:9.]"
   ]
  },
  {
   "cell_type": "code",
   "execution_count": null,
   "id": "d92fd304-151d-4fc7-a884-3c5de83e2d09",
   "metadata": {},
   "outputs": [],
   "source": []
  },
  {
   "cell_type": "code",
   "execution_count": null,
   "id": "19963d11-929d-4245-8bee-ffd3b8ee06a9",
   "metadata": {},
   "outputs": [],
   "source": []
  },
  {
   "cell_type": "code",
   "execution_count": null,
   "id": "693837f9-4607-42bc-b018-32d5d57f22a3",
   "metadata": {},
   "outputs": [],
   "source": [
    "reals[1.:10.].bnds"
   ]
  },
  {
   "cell_type": "code",
   "execution_count": null,
   "id": "33431dd0-853e-4dfb-b5a2-fc0916c20256",
   "metadata": {},
   "outputs": [],
   "source": [
    "reals[:10.].bnds"
   ]
  },
  {
   "cell_type": "code",
   "execution_count": null,
   "id": "d8c77458-d01f-45f9-a6f1-298209db3760",
   "metadata": {},
   "outputs": [],
   "source": [
    "reals[0.:100.].kwargs"
   ]
  },
  {
   "cell_type": "code",
   "execution_count": null,
   "id": "9b7a0ec0-b0be-44bc-921a-e742b1d990b7",
   "metadata": {},
   "outputs": [],
   "source": [
    "reals = Reals()"
   ]
  },
  {
   "cell_type": "code",
   "execution_count": null,
   "id": "4522fbc3-499e-47c8-b72d-ce585ac1406f",
   "metadata": {},
   "outputs": [],
   "source": [
    "reals[0.:1.][-0.3:].bnds"
   ]
  },
  {
   "cell_type": "code",
   "execution_count": null,
   "id": "5b0c9c4c-52ee-42a0-abd2-c0c13cf5c18f",
   "metadata": {},
   "outputs": [],
   "source": [
    "reals[-1.:]"
   ]
  },
  {
   "cell_type": "code",
   "execution_count": null,
   "id": "34517711-250f-42e4-998a-ea6ecd6a14cd",
   "metadata": {},
   "outputs": [],
   "source": [
    "import operator\n",
    "import time\n",
    "\n",
    "from everest.incision.measurable import Measurable"
   ]
  },
  {
   "cell_type": "code",
   "execution_count": null,
   "id": "38659ad1-1f48-4786-bf3f-9d1f5ffdbbc4",
   "metadata": {},
   "outputs": [],
   "source": [
    "class MyElement:\n",
    "    baset = time.time()\n",
    "    def __init__(self):\n",
    "        self.t = time.time() - self.baset\n",
    "\n",
    "\n",
    "class MyClass(Measurable):\n",
    "\n",
    "    metrictype = int\n",
    "\n",
    "    @classmethod\n",
    "    def comparator(cls, a, b):\n",
    "        return cls.metrictype((b.t - a.t) * 1000)\n",
    "\n",
    "    @classmethod\n",
    "    def metric(cls, a, b):\n",
    "        return abs(cls.comparator(a, b))\n",
    "\n",
    "    @classmethod\n",
    "    def element_types(cls, /):\n",
    "        yield from super().element_types()\n",
    "        yield MyElement\n",
    "\n",
    "mychora = MyClass()"
   ]
  },
  {
   "cell_type": "code",
   "execution_count": null,
   "id": "3787a272-896c-44b3-b907-62a29aa219c4",
   "metadata": {},
   "outputs": [],
   "source": [
    "el1 = MyElement()\n",
    "time.sleep(0.1)\n",
    "el2 = MyElement()\n",
    "time.sleep(0.1)\n",
    "el3 = MyElement()"
   ]
  },
  {
   "cell_type": "code",
   "execution_count": null,
   "id": "5166a0a9-2c93-42ab-868d-5d5e70b72da3",
   "metadata": {},
   "outputs": [],
   "source": [
    "myinc = mychora[el1:]"
   ]
  },
  {
   "cell_type": "code",
   "execution_count": null,
   "id": "4a945077-e8aa-4f28-a10e-3ee7ba946cd8",
   "metadata": {},
   "outputs": [],
   "source": [
    "myinc = mychora[el1:el3]\n",
    "myinc.bnds"
   ]
  },
  {
   "cell_type": "code",
   "execution_count": null,
   "id": "83055ed1-648c-487a-a947-0b236c143b9e",
   "metadata": {},
   "outputs": [],
   "source": [
    "myinc[-30:].bnds"
   ]
  },
  {
   "cell_type": "code",
   "execution_count": null,
   "id": "4b300ca5-86b6-4f8a-9d9d-08e16e569db3",
   "metadata": {},
   "outputs": [],
   "source": [
    "operator.sub"
   ]
  },
  {
   "cell_type": "code",
   "execution_count": null,
   "id": "2cc763c0-1c4c-4888-a6fd-f413577ecdac",
   "metadata": {},
   "outputs": [],
   "source": [
    "%%timeit\n",
    "myinc.__getitem__(el2)"
   ]
  },
  {
   "cell_type": "code",
   "execution_count": null,
   "id": "a1f3a3ce-ded2-4854-89cc-2eb28cdd44e6",
   "metadata": {},
   "outputs": [],
   "source": []
  },
  {
   "cell_type": "code",
   "execution_count": null,
   "id": "d820192d-d3a3-48e1-85d9-a0b1a492cfb9",
   "metadata": {},
   "outputs": [],
   "source": [
    "reals = Reals()"
   ]
  },
  {
   "cell_type": "code",
   "execution_count": null,
   "id": "502dc923-f824-4a84-801d-237f20ee58f0",
   "metadata": {},
   "outputs": [],
   "source": [
    "realsorigin = reals[10.:]"
   ]
  },
  {
   "cell_type": "code",
   "execution_count": null,
   "id": "b887cb7c-dd0c-423f-93d2-1f6f21a24e4c",
   "metadata": {},
   "outputs": [],
   "source": [
    "realsorigin[:25.].bnds"
   ]
  },
  {
   "cell_type": "code",
   "execution_count": null,
   "id": "48d6766d-896f-44da-ab61-a8711ac5f4fd",
   "metadata": {},
   "outputs": [],
   "source": [
    "realsorigin[:100.][-20.:][:10.].bnds"
   ]
  },
  {
   "cell_type": "code",
   "execution_count": null,
   "id": "2fc358f4-ddba-4e74-a9d0-9106652a0baf",
   "metadata": {},
   "outputs": [],
   "source": [
    "reals[0.:100.][-20.:10.].bnds"
   ]
  },
  {
   "cell_type": "code",
   "execution_count": null,
   "id": "41188a85-f0bb-4196-9d34-4d3361a3d20e",
   "metadata": {},
   "outputs": [],
   "source": []
  }
 ],
 "metadata": {
  "kernelspec": {
   "display_name": "Python 3 (ipykernel)",
   "language": "python",
   "name": "python3"
  },
  "language_info": {
   "codemirror_mode": {
    "name": "ipython",
    "version": 3
   },
   "file_extension": ".py",
   "mimetype": "text/x-python",
   "name": "python",
   "nbconvert_exporter": "python",
   "pygments_lexer": "ipython3",
   "version": "3.9.5"
  }
 },
 "nbformat": 4,
 "nbformat_minor": 5
}
