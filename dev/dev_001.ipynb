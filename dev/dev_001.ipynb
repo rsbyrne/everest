{
 "cells": [
  {
   "cell_type": "code",
   "execution_count": 1,
   "id": "3ca7adfb-32db-4ebd-85f9-ef5e338116b8",
   "metadata": {},
   "outputs": [],
   "source": [
    "import aliases"
   ]
  },
  {
   "cell_type": "code",
   "execution_count": 3,
   "id": "00bab435-1811-4fa7-ab2a-3899e301bd68",
   "metadata": {},
   "outputs": [],
   "source": [
    "from everest.incision.orderable import Orderable\n",
    "\n",
    "\n",
    "class Real(Orderable):\n",
    "\n",
    "    @classmethod\n",
    "    def element_types(cls, /):\n",
    "        yield from super().element_types()\n",
    "        yield float\n",
    "\n",
    "\n",
    "mychora = Real()[1.5:3.7][0.5:2.5]\n",
    "assert mychora.bnds == (1.5, 2.5)"
   ]
  },
  {
   "cell_type": "code",
   "execution_count": 4,
   "id": "a0739270-8d18-4237-ab9a-235102e576c8",
   "metadata": {},
   "outputs": [
    {
     "data": {
      "text/plain": [
       "Real(iutzascaakr-tzadqoagr)"
      ]
     },
     "execution_count": 4,
     "metadata": {},
     "output_type": "execute_result"
    }
   ],
   "source": [
    "mychora"
   ]
  }
 ],
 "metadata": {
  "kernelspec": {
   "display_name": "Python 3 (ipykernel)",
   "language": "python",
   "name": "python3"
  },
  "language_info": {
   "codemirror_mode": {
    "name": "ipython",
    "version": 3
   },
   "file_extension": ".py",
   "mimetype": "text/x-python",
   "name": "python",
   "nbconvert_exporter": "python",
   "pygments_lexer": "ipython3",
   "version": "3.9.5"
  }
 },
 "nbformat": 4,
 "nbformat_minor": 5
}
