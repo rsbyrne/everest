{
 "cells": [
  {
   "cell_type": "code",
   "execution_count": null,
   "id": "3ca7adfb-32db-4ebd-85f9-ef5e338116b8",
   "metadata": {},
   "outputs": [],
   "source": [
    "import aliases"
   ]
  },
  {
   "cell_type": "code",
   "execution_count": null,
   "id": "d05c9a1f-2e4e-4fdd-b2a0-097af41f64f7",
   "metadata": {},
   "outputs": [],
   "source": [
    "from everest.incision.chora import Chora"
   ]
  },
  {
   "cell_type": "code",
   "execution_count": null,
   "id": "dfa6add1-b65f-454d-a6b6-cfef45c1db91",
   "metadata": {},
   "outputs": [],
   "source": [
    "mychora = Chora(criterion=int)"
   ]
  },
  {
   "cell_type": "code",
   "execution_count": null,
   "id": "a13e8d41-713e-4ce5-9493-03388b61615f",
   "metadata": {},
   "outputs": [],
   "source": [
    "1 in mychora"
   ]
  },
  {
   "cell_type": "code",
   "execution_count": null,
   "id": "c5a2eb74-609a-48d2-b5ff-b3d3360711c9",
   "metadata": {},
   "outputs": [],
   "source": [
    "'abc' in mychora"
   ]
  },
  {
   "cell_type": "code",
   "execution_count": null,
   "id": "d94264fb-b4b9-490e-8334-0b51822978c8",
   "metadata": {},
   "outputs": [],
   "source": [
    "mysampling = mychora[::(lambda x: x > 10)]"
   ]
  },
  {
   "cell_type": "code",
   "execution_count": null,
   "id": "3867fcf2-6573-4a54-867e-bbaecb660f1b",
   "metadata": {},
   "outputs": [],
   "source": [
    "11 in mysampling and 1 not in mysampling"
   ]
  },
  {
   "cell_type": "code",
   "execution_count": null,
   "id": "c0c0b4f3-5293-4ee2-8921-55a7bcac5486",
   "metadata": {},
   "outputs": [],
   "source": [
    "%%timeit\n",
    "11 in mysampling"
   ]
  }
 ],
 "metadata": {
  "kernelspec": {
   "display_name": "Python 3 (ipykernel)",
   "language": "python",
   "name": "python3"
  },
  "language_info": {
   "codemirror_mode": {
    "name": "ipython",
    "version": 3
   },
   "file_extension": ".py",
   "mimetype": "text/x-python",
   "name": "python",
   "nbconvert_exporter": "python",
   "pygments_lexer": "ipython3",
   "version": "3.9.5"
  }
 },
 "nbformat": 4,
 "nbformat_minor": 5
}
