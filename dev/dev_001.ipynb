{
 "cells": [
  {
   "cell_type": "code",
   "execution_count": 1,
   "id": "3ca7adfb-32db-4ebd-85f9-ef5e338116b8",
   "metadata": {},
   "outputs": [],
   "source": [
    "import aliases"
   ]
  },
  {
   "cell_type": "code",
   "execution_count": 2,
   "id": "34517711-250f-42e4-998a-ea6ecd6a14cd",
   "metadata": {},
   "outputs": [],
   "source": [
    "import operator\n",
    "import time\n",
    "\n",
    "from everest.incision.measurable import Measurable"
   ]
  },
  {
   "cell_type": "code",
   "execution_count": 3,
   "id": "38659ad1-1f48-4786-bf3f-9d1f5ffdbbc4",
   "metadata": {},
   "outputs": [],
   "source": [
    "class MyElement:\n",
    "    baset = time.time()\n",
    "    def __init__(self):\n",
    "        self.t = time.time() - self.baset\n",
    "\n",
    "\n",
    "class MyClass(Measurable):\n",
    "\n",
    "    metrictype = int\n",
    "\n",
    "    @classmethod\n",
    "    def comparator(cls, a, b):\n",
    "        return cls.metrictype((b.t - a.t) * 1000)\n",
    "\n",
    "    @classmethod\n",
    "    def metric(cls, a, b):\n",
    "        return abs(cls.comparator(a, b))\n",
    "\n",
    "    @classmethod\n",
    "    def element_types(cls, /):\n",
    "        yield from super().element_types()\n",
    "        yield MyElement\n",
    "\n",
    "mychora = MyClass()"
   ]
  },
  {
   "cell_type": "code",
   "execution_count": 4,
   "id": "3787a272-896c-44b3-b907-62a29aa219c4",
   "metadata": {},
   "outputs": [],
   "source": [
    "el1 = MyElement()\n",
    "time.sleep(0.1)\n",
    "el2 = MyElement()\n",
    "time.sleep(0.1)\n",
    "el3 = MyElement()"
   ]
  },
  {
   "cell_type": "code",
   "execution_count": 5,
   "id": "5166a0a9-2c93-42ab-868d-5d5e70b72da3",
   "metadata": {},
   "outputs": [],
   "source": [
    "myinc = mychora[el1:]"
   ]
  },
  {
   "cell_type": "code",
   "execution_count": 6,
   "id": "4a945077-e8aa-4f28-a10e-3ee7ba946cd8",
   "metadata": {},
   "outputs": [
    {
     "data": {
      "text/plain": [
       "(0, 203)"
      ]
     },
     "execution_count": 6,
     "metadata": {},
     "output_type": "execute_result"
    }
   ],
   "source": [
    "myinc = mychora[el1:el3]\n",
    "myinc.bnds"
   ]
  },
  {
   "cell_type": "code",
   "execution_count": 7,
   "id": "83055ed1-648c-487a-a947-0b236c143b9e",
   "metadata": {},
   "outputs": [
    {
     "data": {
      "text/plain": [
       "(173, 203)"
      ]
     },
     "execution_count": 7,
     "metadata": {},
     "output_type": "execute_result"
    }
   ],
   "source": [
    "myinc[-30:].bnds"
   ]
  },
  {
   "cell_type": "code",
   "execution_count": 24,
   "id": "4b300ca5-86b6-4f8a-9d9d-08e16e569db3",
   "metadata": {},
   "outputs": [
    {
     "data": {
      "text/plain": [
       "<function _operator.sub(a, b, /)>"
      ]
     },
     "execution_count": 24,
     "metadata": {},
     "output_type": "execute_result"
    }
   ],
   "source": [
    "operator.sub"
   ]
  },
  {
   "cell_type": "code",
   "execution_count": null,
   "id": "2cc763c0-1c4c-4888-a6fd-f413577ecdac",
   "metadata": {},
   "outputs": [],
   "source": [
    "%%timeit\n",
    "myinc.__getitem__(el2)"
   ]
  },
  {
   "cell_type": "code",
   "execution_count": 25,
   "id": "a1f3a3ce-ded2-4854-89cc-2eb28cdd44e6",
   "metadata": {},
   "outputs": [],
   "source": [
    "class Reals(Measurable):\n",
    "\n",
    "    metrictype = float\n",
    "\n",
    "    @staticmethod\n",
    "    def comparator(a, b):\n",
    "        return b - a\n",
    "\n",
    "    @classmethod\n",
    "    def metric(cls, a, b):\n",
    "        return abs(cls.comparator(a, b))\n",
    "\n",
    "    @classmethod\n",
    "    def element_types(cls, /):\n",
    "        yield from super().element_types()\n",
    "        yield cls.metrictype"
   ]
  },
  {
   "cell_type": "code",
   "execution_count": 26,
   "id": "d820192d-d3a3-48e1-85d9-a0b1a492cfb9",
   "metadata": {},
   "outputs": [],
   "source": [
    "reals = Reals()"
   ]
  },
  {
   "cell_type": "code",
   "execution_count": 27,
   "id": "502dc923-f824-4a84-801d-237f20ee58f0",
   "metadata": {},
   "outputs": [],
   "source": [
    "realsorigin = reals[0.:]"
   ]
  },
  {
   "cell_type": "code",
   "execution_count": 31,
   "id": "48d6766d-896f-44da-ab61-a8711ac5f4fd",
   "metadata": {},
   "outputs": [
    {
     "data": {
      "text/plain": [
       "(80.0, 90.0)"
      ]
     },
     "execution_count": 31,
     "metadata": {},
     "output_type": "execute_result"
    }
   ],
   "source": [
    "realsorigin[:100.][-20.:][:10.].bnds"
   ]
  },
  {
   "cell_type": "code",
   "execution_count": 33,
   "id": "2fc358f4-ddba-4e74-a9d0-9106652a0baf",
   "metadata": {},
   "outputs": [
    {
     "data": {
      "text/plain": [
       "(80.0, 90.0)"
      ]
     },
     "execution_count": 33,
     "metadata": {},
     "output_type": "execute_result"
    }
   ],
   "source": [
    "reals[0.:100.][-20.:10.].bnds"
   ]
  },
  {
   "cell_type": "code",
   "execution_count": null,
   "id": "41188a85-f0bb-4196-9d34-4d3361a3d20e",
   "metadata": {},
   "outputs": [],
   "source": []
  }
 ],
 "metadata": {
  "kernelspec": {
   "display_name": "Python 3 (ipykernel)",
   "language": "python",
   "name": "python3"
  },
  "language_info": {
   "codemirror_mode": {
    "name": "ipython",
    "version": 3
   },
   "file_extension": ".py",
   "mimetype": "text/x-python",
   "name": "python",
   "nbconvert_exporter": "python",
   "pygments_lexer": "ipython3",
   "version": "3.9.5"
  }
 },
 "nbformat": 4,
 "nbformat_minor": 5
}
