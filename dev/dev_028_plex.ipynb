{
 "cells": [
  {
   "cell_type": "code",
   "execution_count": null,
   "id": "686d48ea-b3e2-4b73-95b9-84a9f895ea5d",
   "metadata": {},
   "outputs": [],
   "source": [
    "###############################################################################\n",
    "import aliases"
   ]
  },
  {
   "cell_type": "code",
   "execution_count": null,
   "id": "a832ad37-122f-447d-8eea-dbc8168aabea",
   "metadata": {},
   "outputs": [],
   "source": [
    "from everest.uniplex.plex import GLOBALPLEX as plex"
   ]
  },
  {
   "cell_type": "code",
   "execution_count": null,
   "id": "86584ef2-8f11-47cf-a719-7b3f0a213fe2",
   "metadata": {},
   "outputs": [],
   "source": [
    "axle = plex.axle('data')"
   ]
  },
  {
   "cell_type": "code",
   "execution_count": null,
   "id": "04cdec7d-9314-49f4-9bb0-dbacb5d17868",
   "metadata": {},
   "outputs": [],
   "source": [
    "axle2 = plex.axle('data')"
   ]
  },
  {
   "cell_type": "code",
   "execution_count": null,
   "id": "0d588977-7e7e-4994-ae39-8ea9479b05d5",
   "metadata": {},
   "outputs": [],
   "source": [
    "axle = plex.axle('data')\n",
    "foo = axle.table('foo', dtype=int)\n",
    "bah = axle.axle('bah')\n",
    "boo = bah.table('boo', dtype=float)\n",
    "qux = bah.table('qux', dtype=int)"
   ]
  },
  {
   "cell_type": "code",
   "execution_count": null,
   "id": "dd7287a7-5c8f-496f-b18a-c584a0002360",
   "metadata": {},
   "outputs": [],
   "source": [
    "axle.append((1, (10, 100)))\n",
    "axle.append((2, (20, 200)))\n",
    "axle.resolve()\n",
    "axle"
   ]
  },
  {
   "cell_type": "code",
   "execution_count": null,
   "id": "afca830a-1ce1-45f6-9871-7e0c27fa46c6",
   "metadata": {},
   "outputs": [],
   "source": [
    "plex.file"
   ]
  },
  {
   "cell_type": "code",
   "execution_count": null,
   "id": "40e6f471-6572-4eac-a12c-12193f4998b4",
   "metadata": {},
   "outputs": [],
   "source": []
  },
  {
   "cell_type": "code",
   "execution_count": null,
   "id": "015c32dc-eda4-4e86-a2f5-743d27e799d5",
   "metadata": {},
   "outputs": [],
   "source": []
  },
  {
   "cell_type": "code",
   "execution_count": null,
   "id": "4e744102-4e33-48d5-b2b5-6b74c91aab73",
   "metadata": {},
   "outputs": [],
   "source": [
    "import contextlib"
   ]
  },
  {
   "cell_type": "code",
   "execution_count": null,
   "id": "95f9e263-ca88-4eef-870e-72c14117e11f",
   "metadata": {},
   "outputs": [],
   "source": [
    "@contextlib.contextmanager\n",
    "def mycontext(arg):\n",
    "    try:\n",
    "        yield arg\n",
    "    finally:\n",
    "        print('exiting')"
   ]
  },
  {
   "cell_type": "code",
   "execution_count": null,
   "id": "f4131594-8cd7-4ebe-89d8-7c83a0ea6ab9",
   "metadata": {},
   "outputs": [],
   "source": [
    "with mycontext('foo') as out:\n",
    "    print(out)\n",
    "    print('bah')"
   ]
  },
  {
   "cell_type": "code",
   "execution_count": null,
   "id": "42cac993-3ae6-4857-8940-b307fc7ed4a9",
   "metadata": {},
   "outputs": [],
   "source": [
    "all(True, True)"
   ]
  },
  {
   "cell_type": "code",
   "execution_count": null,
   "id": "fccf2de5-6a9d-42ae-982f-8e03655ce77e",
   "metadata": {},
   "outputs": [],
   "source": [
    "class MyContext:\n",
    "\n",
    "    "
   ]
  }
 ],
 "metadata": {
  "kernelspec": {
   "display_name": "Python 3 (ipykernel)",
   "language": "python",
   "name": "python3"
  },
  "language_info": {
   "codemirror_mode": {
    "name": "ipython",
    "version": 3
   },
   "file_extension": ".py",
   "mimetype": "text/x-python",
   "name": "python",
   "nbconvert_exporter": "python",
   "pygments_lexer": "ipython3",
   "version": "3.9.5"
  }
 },
 "nbformat": 4,
 "nbformat_minor": 5
}
