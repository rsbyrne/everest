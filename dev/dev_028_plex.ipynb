{
 "cells": [
  {
   "cell_type": "code",
   "execution_count": null,
   "id": "686d48ea-b3e2-4b73-95b9-84a9f895ea5d",
   "metadata": {},
   "outputs": [],
   "source": [
    "###############################################################################\n",
    "import aliases"
   ]
  },
  {
   "cell_type": "code",
   "execution_count": null,
   "id": "a832ad37-122f-447d-8eea-dbc8168aabea",
   "metadata": {},
   "outputs": [],
   "source": [
    "from everest.uniplex.plex import GLOBALPLEX as plex"
   ]
  },
  {
   "cell_type": "code",
   "execution_count": null,
   "id": "01a52566-1b5c-4ec5-bf94-c55e04d6f040",
   "metadata": {},
   "outputs": [],
   "source": [
    "axle = plex.axle('data')"
   ]
  },
  {
   "cell_type": "code",
   "execution_count": null,
   "id": "0d588977-7e7e-4994-ae39-8ea9479b05d5",
   "metadata": {},
   "outputs": [],
   "source": [
    "foo = axle.table('foo', dtype=int)\n",
    "bah = axle.table('bah', dtype=float)"
   ]
  },
  {
   "cell_type": "code",
   "execution_count": null,
   "id": "dd7287a7-5c8f-496f-b18a-c584a0002360",
   "metadata": {},
   "outputs": [],
   "source": [
    "axle.append((1, 10))\n",
    "axle.append((2, 20))\n",
    "axle.resolve()\n",
    "axle"
   ]
  }
 ],
 "metadata": {
  "kernelspec": {
   "display_name": "Python 3 (ipykernel)",
   "language": "python",
   "name": "python3"
  },
  "language_info": {
   "codemirror_mode": {
    "name": "ipython",
    "version": 3
   },
   "file_extension": ".py",
   "mimetype": "text/x-python",
   "name": "python",
   "nbconvert_exporter": "python",
   "pygments_lexer": "ipython3",
   "version": "3.9.5"
  }
 },
 "nbformat": 4,
 "nbformat_minor": 5
}
