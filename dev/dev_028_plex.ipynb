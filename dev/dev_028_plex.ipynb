{
 "cells": [
  {
   "cell_type": "code",
   "execution_count": null,
   "id": "686d48ea-b3e2-4b73-95b9-84a9f895ea5d",
   "metadata": {},
   "outputs": [],
   "source": [
    "###############################################################################\n",
    "import aliases"
   ]
  },
  {
   "cell_type": "code",
   "execution_count": null,
   "id": "04dd9d95-2193-4383-88dc-695112efc5c8",
   "metadata": {},
   "outputs": [],
   "source": [
    "from everest.uniplex.plex import GLOBALPLEX as plex"
   ]
  },
  {
   "cell_type": "code",
   "execution_count": null,
   "id": "b55c0622-1e36-40ad-af82-4dbf307a582b",
   "metadata": {},
   "outputs": [],
   "source": [
    "folio = plex.folio('folio')\n",
    "table = folio.table('table', (2, 3), int)"
   ]
  },
  {
   "cell_type": "code",
   "execution_count": null,
   "id": "700e480e-90a7-4361-bad4-69c1b10f4adf",
   "metadata": {},
   "outputs": [],
   "source": [
    "table[:] = 1"
   ]
  },
  {
   "cell_type": "code",
   "execution_count": null,
   "id": "c4e39027-d1af-461c-b0f1-f97b872b3ef3",
   "metadata": {},
   "outputs": [],
   "source": [
    "out = table[0]"
   ]
  },
  {
   "cell_type": "code",
   "execution_count": null,
   "id": "dd54c68a-671d-44f0-b0e4-95a8762e820f",
   "metadata": {},
   "outputs": [],
   "source": [
    "out.incisor.choras[0]"
   ]
  },
  {
   "cell_type": "code",
   "execution_count": null,
   "id": "98a44f8f-194b-4186-a5d6-2eb67f6b1658",
   "metadata": {},
   "outputs": [],
   "source": [
    "from everest.algebraic.intt import Intt"
   ]
  },
  {
   "cell_type": "code",
   "execution_count": null,
   "id": "cffe4f85-71a6-4c13-ab82-418dc63938c0",
   "metadata": {},
   "outputs": [],
   "source": [
    "Intt.Oid."
   ]
  },
  {
   "cell_type": "code",
   "execution_count": null,
   "id": "0d588977-7e7e-4994-ae39-8ea9479b05d5",
   "metadata": {},
   "outputs": [],
   "source": [
    "folio = plex.folio('folio')\n",
    "leaf = folio.leaf('leaf')\n",
    "axle = folio.axle('data')\n",
    "foo = axle.table('foo', dtype=int)\n",
    "bah = axle.axle('bah')\n",
    "boo = bah.table('boo', dtype=float)\n",
    "qux = bah.table('qux', dtype=int)\n",
    "\n",
    "qux2 = bah.table('qux', dtype=int)\n",
    "assert qux2 is qux"
   ]
  },
  {
   "cell_type": "code",
   "execution_count": null,
   "id": "e200cc09-546e-444f-ba1a-c76afd223731",
   "metadata": {},
   "outputs": [],
   "source": [
    "axle"
   ]
  },
  {
   "cell_type": "code",
   "execution_count": null,
   "id": "ad030901-ee0f-48b7-9f5c-c1bfbadd36db",
   "metadata": {},
   "outputs": [],
   "source": [
    "for _ in range(3):\n",
    "    axle.append((1, (10, 100)))\n",
    "    axle.append((2, (20, 200)))\n",
    "axle.resolve()\n",
    "axle.shape"
   ]
  },
  {
   "cell_type": "code",
   "execution_count": null,
   "id": "e18987d2-67aa-4070-a0c7-ca7291f19bee",
   "metadata": {},
   "outputs": [],
   "source": [
    "axle"
   ]
  }
 ],
 "metadata": {
  "kernelspec": {
   "display_name": "Python 3 (ipykernel)",
   "language": "python",
   "name": "python3"
  },
  "language_info": {
   "codemirror_mode": {
    "name": "ipython",
    "version": 3
   },
   "file_extension": ".py",
   "mimetype": "text/x-python",
   "name": "python",
   "nbconvert_exporter": "python",
   "pygments_lexer": "ipython3",
   "version": "3.9.5"
  }
 },
 "nbformat": 4,
 "nbformat_minor": 5
}
