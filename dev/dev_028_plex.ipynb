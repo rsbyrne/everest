{
 "cells": [
  {
   "cell_type": "code",
   "execution_count": null,
   "id": "686d48ea-b3e2-4b73-95b9-84a9f895ea5d",
   "metadata": {},
   "outputs": [],
   "source": [
    "###############################################################################\n",
    "import aliases"
   ]
  },
  {
   "cell_type": "code",
   "execution_count": null,
   "id": "e65e7efd-5a50-4575-a0c5-f9736486638b",
   "metadata": {},
   "outputs": [],
   "source": [
    "from everest.uniplex.plex import GLOBALPLEX as plex"
   ]
  },
  {
   "cell_type": "code",
   "execution_count": null,
   "id": "01a52566-1b5c-4ec5-bf94-c55e04d6f040",
   "metadata": {},
   "outputs": [],
   "source": [
    "multi = plex.multi('data')"
   ]
  },
  {
   "cell_type": "code",
   "execution_count": null,
   "id": "0d588977-7e7e-4994-ae39-8ea9479b05d5",
   "metadata": {},
   "outputs": [],
   "source": [
    "foo = multi.table('foo', dtype=int)\n",
    "bah = multi.table('bah', dtype=float)"
   ]
  },
  {
   "cell_type": "code",
   "execution_count": null,
   "id": "22aedd35-e62f-4277-a714-7d83ea9eca19",
   "metadata": {},
   "outputs": [],
   "source": [
    "multi"
   ]
  },
  {
   "cell_type": "code",
   "execution_count": null,
   "id": "dd7287a7-5c8f-496f-b18a-c584a0002360",
   "metadata": {},
   "outputs": [],
   "source": [
    "multi.append((1, 10))\n",
    "multi.append((2, 20))\n",
    "multi.resolve()\n",
    "multi"
   ]
  }
 ],
 "metadata": {
  "kernelspec": {
   "display_name": "Python 3 (ipykernel)",
   "language": "python",
   "name": "python3"
  },
  "language_info": {
   "codemirror_mode": {
    "name": "ipython",
    "version": 3
   },
   "file_extension": ".py",
   "mimetype": "text/x-python",
   "name": "python",
   "nbconvert_exporter": "python",
   "pygments_lexer": "ipython3",
   "version": "3.9.5"
  }
 },
 "nbformat": 4,
 "nbformat_minor": 5
}
