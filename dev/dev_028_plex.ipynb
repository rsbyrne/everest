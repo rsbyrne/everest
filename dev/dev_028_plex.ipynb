{
 "cells": [
  {
   "cell_type": "code",
   "execution_count": null,
   "id": "686d48ea-b3e2-4b73-95b9-84a9f895ea5d",
   "metadata": {},
   "outputs": [],
   "source": [
    "###############################################################################\n",
    "import aliases"
   ]
  },
  {
   "cell_type": "code",
   "execution_count": null,
   "id": "04dd9d95-2193-4383-88dc-695112efc5c8",
   "metadata": {},
   "outputs": [],
   "source": [
    "from everest.uniplex.plex import GLOBALPLEX as plex"
   ]
  },
  {
   "cell_type": "code",
   "execution_count": null,
   "id": "0d588977-7e7e-4994-ae39-8ea9479b05d5",
   "metadata": {},
   "outputs": [],
   "source": [
    "folio = plex.folio('folio')\n",
    "leaf = folio.leaf('leaf')\n",
    "axle = folio.axle('data')\n",
    "foo = axle.table('foo', dtype=int)\n",
    "bah = axle.axle('bah')\n",
    "boo = bah.table('boo', dtype=float)\n",
    "qux = bah.table('qux', dtype=int)\n",
    "\n",
    "qux2 = bah.table('qux', dtype=int)\n",
    "assert qux2 is qux"
   ]
  },
  {
   "cell_type": "code",
   "execution_count": null,
   "id": "e200cc09-546e-444f-ba1a-c76afd223731",
   "metadata": {},
   "outputs": [],
   "source": [
    "axle"
   ]
  },
  {
   "cell_type": "code",
   "execution_count": null,
   "id": "ad030901-ee0f-48b7-9f5c-c1bfbadd36db",
   "metadata": {},
   "outputs": [],
   "source": [
    "for _ in range(3):\n",
    "    axle.append((1, (10, 100)))\n",
    "    axle.append((2, (20, 200)))\n",
    "axle.resolve()\n",
    "axle.shape"
   ]
  },
  {
   "cell_type": "code",
   "execution_count": null,
   "id": "e18987d2-67aa-4070-a0c7-ca7291f19bee",
   "metadata": {},
   "outputs": [],
   "source": [
    "axle"
   ]
  }
 ],
 "metadata": {
  "kernelspec": {
   "display_name": "Python 3 (ipykernel)",
   "language": "python",
   "name": "python3"
  },
  "language_info": {
   "codemirror_mode": {
    "name": "ipython",
    "version": 3
   },
   "file_extension": ".py",
   "mimetype": "text/x-python",
   "name": "python",
   "nbconvert_exporter": "python",
   "pygments_lexer": "ipython3",
   "version": "3.9.5"
  }
 },
 "nbformat": 4,
 "nbformat_minor": 5
}
