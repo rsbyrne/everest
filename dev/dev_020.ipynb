{
 "cells": [
  {
   "cell_type": "code",
   "execution_count": null,
   "id": "400ad457-aab8-4d10-bc33-6ec747f429f4",
   "metadata": {},
   "outputs": [],
   "source": [
    "import aliases"
   ]
  },
  {
   "cell_type": "code",
   "execution_count": null,
   "id": "0f96ffd1-b8ea-4517-9c42-aba3412811df",
   "metadata": {},
   "outputs": [],
   "source": [
    "from everest.ptolemaic.schema import Schema\n",
    "from everest.ptolemaic.sig import Field"
   ]
  },
  {
   "cell_type": "code",
   "execution_count": null,
   "id": "ed119c5f-8949-4e6c-9264-624c6ddffa37",
   "metadata": {},
   "outputs": [],
   "source": [
    "class MyClass(metaclass=Schema):\n",
    "    a: Field.Pos\n",
    "    b: Field.Pos\n",
    "    c: Field.Pos"
   ]
  },
  {
   "cell_type": "code",
   "execution_count": null,
   "id": "026fc74f-b7ad-41b5-8428-48a54c3da5cc",
   "metadata": {},
   "outputs": [],
   "source": [
    "myobj = MyClass(1, 2, 3)"
   ]
  },
  {
   "cell_type": "code",
   "execution_count": null,
   "id": "adf00389-e7ca-41fc-81a2-8b95a0ba71fe",
   "metadata": {},
   "outputs": [],
   "source": [
    "myobj"
   ]
  },
  {
   "cell_type": "code",
   "execution_count": null,
   "id": "b42ab661-42f3-4cdf-9f76-081596ae7543",
   "metadata": {},
   "outputs": [],
   "source": [
    "import inspect as _inspect\n",
    "\n",
    "from everest.ptolemaic.chora import Chora\n",
    "\n",
    "\n",
    "class MyDict(Chora):\n",
    "\n",
    "    FIELDS = (_inspect.Parameter('content', 4),)\n",
    "\n",
    "    def retrieve_strn(self, incisor: str, /):\n",
    "        return self.content[incisor]\n",
    "\n",
    "    def incise_set(self, incisor: set, /):\n",
    "        return self.__class_call__(\n",
    "            **{key: self.content[key] for key in sorted(incisor)}\n",
    "            )\n",
    "\n",
    "\n",
    "class MyStrRepeater(Chora):\n",
    "\n",
    "    repetitions: int = 1\n",
    "\n",
    "    def retrieve_strn(self, incisor: str, /):\n",
    "        return incisor * self.repetitions"
   ]
  },
  {
   "cell_type": "code",
   "execution_count": null,
   "id": "ecb17629-4c66-4f20-b8c5-5b629614ab47",
   "metadata": {},
   "outputs": [],
   "source": [
    "mydict = MyDict(aa=1, bb=2, cc=3)\n",
    "myrep = MyStrRepeater(2)"
   ]
  },
  {
   "cell_type": "code",
   "execution_count": null,
   "id": "34aa5565-ede0-491c-bdc2-0c3c0a09c897",
   "metadata": {},
   "outputs": [],
   "source": [
    "myinc = MyClass[mydict, mydict, mydict]"
   ]
  },
  {
   "cell_type": "code",
   "execution_count": null,
   "id": "7646943c-bb86-46d7-8b10-19e7ee737896",
   "metadata": {},
   "outputs": [],
   "source": [
    "myinc['aa', 'bb', 'cc']"
   ]
  },
  {
   "cell_type": "code",
   "execution_count": null,
   "id": "fa022f68-c561-492c-ade2-58e571dad064",
   "metadata": {},
   "outputs": [],
   "source": [
    "myinc['aa', ..., 'cc'](2)"
   ]
  },
  {
   "cell_type": "code",
   "execution_count": null,
   "id": "66f23344-030c-4c89-b4de-84757a868bea",
   "metadata": {},
   "outputs": [],
   "source": [
    "myinc['aa', 'bb', 0, (), 0, {}]"
   ]
  },
  {
   "cell_type": "code",
   "execution_count": null,
   "id": "c9eb3bea-ce72-4cbd-a413-76c6a690be8e",
   "metadata": {},
   "outputs": [],
   "source": [
    "MyClass["
   ]
  },
  {
   "cell_type": "code",
   "execution_count": null,
   "id": "ba6695d3-6878-4161-ba23-ad1796376fb9",
   "metadata": {},
   "outputs": [],
   "source": [
    "myobj = MyClass()"
   ]
  },
  {
   "cell_type": "code",
   "execution_count": null,
   "id": "673263fd-11a4-4a8c-bbaf-7fecc64d13bd",
   "metadata": {},
   "outputs": [],
   "source": [
    "myobj"
   ]
  },
  {
   "cell_type": "code",
   "execution_count": null,
   "id": "6243cd38-8563-48d8-aa38-09b09154ac81",
   "metadata": {},
   "outputs": [],
   "source": [
    "myobj.epitaph"
   ]
  },
  {
   "cell_type": "code",
   "execution_count": null,
   "id": "e0840ba2-c34e-4f54-8cec-43b3e7b2bded",
   "metadata": {},
   "outputs": [],
   "source": [
    "_OusiaBase.__mro__"
   ]
  },
  {
   "cell_type": "code",
   "execution_count": null,
   "id": "2394fb02-24fd-4605-a6c6-61c33d2b70f1",
   "metadata": {},
   "outputs": [],
   "source": []
  }
 ],
 "metadata": {
  "kernelspec": {
   "display_name": "Python 3 (ipykernel)",
   "language": "python",
   "name": "python3"
  },
  "language_info": {
   "codemirror_mode": {
    "name": "ipython",
    "version": 3
   },
   "file_extension": ".py",
   "mimetype": "text/x-python",
   "name": "python",
   "nbconvert_exporter": "python",
   "pygments_lexer": "ipython3",
   "version": "3.9.5"
  }
 },
 "nbformat": 4,
 "nbformat_minor": 5
}
