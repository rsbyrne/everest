{
 "cells": [
  {
   "cell_type": "code",
   "execution_count": null,
   "id": "eee8b4fc-7a17-4f56-9bbd-31dfa365d554",
   "metadata": {},
   "outputs": [],
   "source": [
    "###############################################################################\n",
    "import aliases\n",
    "from everest.utilities import textutils\n",
    "# tuple(textutils.find_all('__getattr__', path='../everest/ptolemaic'))\n",
    "# textutils.replace_all('Schematic', 'Compound', path='../everest')"
   ]
  },
  {
   "cell_type": "code",
   "execution_count": null,
   "id": "2d77e60d-0bab-4159-865b-a635f9291d7e",
   "metadata": {},
   "outputs": [],
   "source": [
    "from everest.ptolemaic.algebra import *"
   ]
  },
  {
   "cell_type": "code",
   "execution_count": null,
   "id": "3d6d965b-8988-42d4-ab13-7cb6276ecfd4",
   "metadata": {},
   "outputs": [],
   "source": [
    "zero = Operator(0, 'zero')\n",
    "add = Operator(..., 'add', zero)\n",
    "# neg = Operator(1, 'neg')"
   ]
  },
  {
   "cell_type": "code",
   "execution_count": null,
   "id": "10e39428-3f56-4575-9afc-7ec45ff02479",
   "metadata": {},
   "outputs": [],
   "source": [
    "zero() in zero"
   ]
  },
  {
   "cell_type": "code",
   "execution_count": null,
   "id": "6fc83764-7af5-42ee-af25-0b0d3af96969",
   "metadata": {},
   "outputs": [],
   "source": [
    "foo = add(zero(), zero())"
   ]
  },
  {
   "cell_type": "code",
   "execution_count": null,
   "id": "54bc33d6-48e4-4c38-af31-41297dc9b924",
   "metadata": {},
   "outputs": [],
   "source": [
    "foo in add"
   ]
  }
 ],
 "metadata": {
  "kernelspec": {
   "display_name": "Python 3 (ipykernel)",
   "language": "python",
   "name": "python3"
  },
  "language_info": {
   "codemirror_mode": {
    "name": "ipython",
    "version": 3
   },
   "file_extension": ".py",
   "mimetype": "text/x-python",
   "name": "python",
   "nbconvert_exporter": "python",
   "pygments_lexer": "ipython3",
   "version": "3.9.5"
  }
 },
 "nbformat": 4,
 "nbformat_minor": 5
}
