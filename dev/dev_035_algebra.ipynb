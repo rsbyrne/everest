{
 "cells": [
  {
   "cell_type": "code",
   "execution_count": null,
   "id": "eee8b4fc-7a17-4f56-9bbd-31dfa365d554",
   "metadata": {},
   "outputs": [],
   "source": [
    "###############################################################################\n",
    "import aliases\n",
    "from everest.utilities import textutils\n",
    "# tuple(textutils.find_all('__getattr__', path='../everest/ptolemaic'))\n",
    "# textutils.replace_all('Schematic', 'Compound', path='../everest')"
   ]
  },
  {
   "cell_type": "code",
   "execution_count": null,
   "id": "945b24c0-a44d-4305-820c-140cb4756c4b",
   "metadata": {},
   "outputs": [],
   "source": [
    "from everest.ptolemaic.algebra import *\n",
    "import string"
   ]
  },
  {
   "cell_type": "code",
   "execution_count": null,
   "id": "b17fbeee-209f-4082-afe3-b17976c500f3",
   "metadata": {},
   "outputs": [],
   "source": [
    "nul = Operator.Nullary('zero', '0', fixity='PREFIX')\n",
    "suc = Operator.Unary('S', fixity='PREFIX')\n",
    "add = Operator.Binary('+', fixity='INFIX')\n",
    "mul = Operator.Binary('*', fixity='INFIX')\n",
    "ops = (nul, suc, add, mul)"
   ]
  },
  {
   "cell_type": "code",
   "execution_count": null,
   "id": "018e6ed9-4aaa-4dea-86d4-91e0b0013534",
   "metadata": {},
   "outputs": [],
   "source": [
    "class MyRealm(Realm):\n",
    "\n",
    "    strn: str\n",
    "\n",
    "    def __contains__(self, other, /):\n",
    "        if isinstance(other, str):\n",
    "            return other in self.strn\n",
    "        return False\n",
    "\n",
    "    def _contains_(self, /):\n",
    "        pass\n",
    "\n",
    "    def _enphrase_(self, /):\n",
    "        pass\n",
    "\n",
    "realm = MyRealm(string.ascii_letters)"
   ]
  },
  {
   "cell_type": "code",
   "execution_count": null,
   "id": "c1369344-2b23-4d09-8f42-b3c54958157a",
   "metadata": {},
   "outputs": [],
   "source": [
    "gram = Grammar(\n",
    "    Operator.Nullary('zero', '0', fixity='PREFIX'),\n",
    "    Operator.Unary('S', fixity='PREFIX'),\n",
    "    Operator.Binary('+', fixity='INFIX'),\n",
    "    Operator.Binary('*', fixity='INFIX'),\n",
    "    )"
   ]
  },
  {
   "cell_type": "code",
   "execution_count": null,
   "id": "444e7143-8289-4648-b748-e435f1d6ccf0",
   "metadata": {},
   "outputs": [],
   "source": [
    "gram('0')"
   ]
  },
  {
   "cell_type": "code",
   "execution_count": null,
   "id": "502c474f-0ed2-4b62-8161-93c75a4c266f",
   "metadata": {},
   "outputs": [],
   "source": [
    "gram('S', '0')"
   ]
  },
  {
   "cell_type": "code",
   "execution_count": null,
   "id": "018c9e52-f3bc-4255-8707-373c263f104c",
   "metadata": {},
   "outputs": [],
   "source": [
    "null()"
   ]
  },
  {
   "cell_type": "code",
   "execution_count": null,
   "id": "0d1ad2ff-c2ec-4913-aea7-d6bfaf94cb64",
   "metadata": {},
   "outputs": [],
   "source": [
    "'f' in gram"
   ]
  },
  {
   "cell_type": "code",
   "execution_count": null,
   "id": "34ead170-636a-4da3-bc83-0094b194574b",
   "metadata": {},
   "outputs": [],
   "source": [
    "gram('a', '+', 'b')"
   ]
  },
  {
   "cell_type": "code",
   "execution_count": null,
   "id": "0c0a6b7b-262e-4ad2-a46d-49f775af905d",
   "metadata": {},
   "outputs": [],
   "source": [
    "gram('')"
   ]
  },
  {
   "cell_type": "code",
   "execution_count": null,
   "id": "94fcc81b-8d94-4afb-8107-a1ee785b59bb",
   "metadata": {},
   "outputs": [],
   "source": [
    "op = Framer.Dyadic('+', string.ascii_lowercase, fixity=0)\n",
    "op('+', 'a', 'd')"
   ]
  },
  {
   "cell_type": "code",
   "execution_count": null,
   "id": "575d1428-aeee-4d7b-800e-679bee12f1c8",
   "metadata": {},
   "outputs": [],
   "source": [
    "op = Framer.Dyadic('+', string.ascii_lowercase, fixity=2)\n",
    "op('a', 'b', '+')"
   ]
  },
  {
   "cell_type": "code",
   "execution_count": null,
   "id": "4b0cfbe2-5dd5-4102-a29e-564f1eae8fc5",
   "metadata": {},
   "outputs": [],
   "source": [
    "op = Framer.Variadic('+', string.ascii_lowercase, fixity=1)\n",
    "op('a', '+', 'b', '+', 'c')"
   ]
  },
  {
   "cell_type": "code",
   "execution_count": null,
   "id": "18c814ff-b2f4-438e-8a1f-6d8d7b3ff37d",
   "metadata": {},
   "outputs": [],
   "source": [
    "framer = Single('foo', 'abc')\n",
    "framer('c') in framer"
   ]
  },
  {
   "cell_type": "code",
   "execution_count": null,
   "id": "a0facec7-c4b9-410f-a3a6-2228620f3008",
   "metadata": {},
   "outputs": [],
   "source": [
    "any('d' in (val := strn) for strn in ('abc', 'def'))\n",
    "val"
   ]
  },
  {
   "cell_type": "code",
   "execution_count": null,
   "id": "b3a23881-aa8a-4178-9d58-b0aae17f1dfd",
   "metadata": {},
   "outputs": [],
   "source": [
    "def my_func(foo, *body):\n",
    "    ...\n",
    "import inspect\n",
    "sig = inspect.signature(my_func)\n",
    "bound = sig.bind_partial()\n",
    "bound.arguments['foo'] = 1\n",
    "bound.arguments['body'] = [1, 2, 3]\n",
    "bound.args"
   ]
  },
  {
   "cell_type": "code",
   "execution_count": null,
   "id": "ed3f67d6-4d41-4762-878a-ef9c3384e526",
   "metadata": {},
   "outputs": [],
   "source": [
    "bound.arguments['foo'] = (1, 2, 3)\n",
    "bound.args"
   ]
  },
  {
   "cell_type": "code",
   "execution_count": null,
   "id": "9dfa935f-cc96-4d66-844e-5143b311a30c",
   "metadata": {},
   "outputs": [],
   "source": [
    "\n",
    "        bound = self._abstract_class_.__signature__.bind_partial()\n",
    "        bound.arguments.update(self.params)"
   ]
  },
  {
   "cell_type": "code",
   "execution_count": null,
   "id": "f4346c01-3805-433e-bc7a-994746b3e973",
   "metadata": {},
   "outputs": [],
   "source": [
    "from everest.ptolemaic.algebra import Algebra"
   ]
  },
  {
   "cell_type": "code",
   "execution_count": null,
   "id": "919ecc5f-0e22-474d-9ebf-4457a3dddef9",
   "metadata": {},
   "outputs": [],
   "source": [
    "Algebra(\n",
    "    '0',\n",
    "    ('S', 1),\n",
    "    ('+', 2),\n",
    "    ('*', 2),\n",
    "    ).from_str('*++00+0S00')"
   ]
  },
  {
   "cell_type": "code",
   "execution_count": null,
   "id": "11d21920-a31c-4951-992c-3241279f0cfc",
   "metadata": {},
   "outputs": [],
   "source": []
  },
  {
   "cell_type": "code",
   "execution_count": null,
   "id": "1d9486a4-94eb-43e3-806b-d343f87f3167",
   "metadata": {},
   "outputs": [],
   "source": [
    "algebra('+ S +')"
   ]
  },
  {
   "cell_type": "code",
   "execution_count": null,
   "id": "fb855adf-d00d-4724-8401-75ba8e74b60b",
   "metadata": {},
   "outputs": [],
   "source": [
    "algebra('+ S 0 S S 0 S 0 + + +')"
   ]
  },
  {
   "cell_type": "code",
   "execution_count": null,
   "id": "e2af460c-3e9e-492d-883f-880483e4c284",
   "metadata": {},
   "outputs": [],
   "source": [
    "foo = iter(())\n",
    "while True:\n",
    "    print(next(foo))\n",
    "else:\n",
    "    print('bah')"
   ]
  },
  {
   "cell_type": "code",
   "execution_count": null,
   "id": "719f0a02-99e1-49eb-870c-d234adcbee8b",
   "metadata": {},
   "outputs": [],
   "source": []
  }
 ],
 "metadata": {
  "kernelspec": {
   "display_name": "Python 3 (ipykernel)",
   "language": "python",
   "name": "python3"
  },
  "language_info": {
   "codemirror_mode": {
    "name": "ipython",
    "version": 3
   },
   "file_extension": ".py",
   "mimetype": "text/x-python",
   "name": "python",
   "nbconvert_exporter": "python",
   "pygments_lexer": "ipython3",
   "version": "3.9.5"
  }
 },
 "nbformat": 4,
 "nbformat_minor": 5
}
