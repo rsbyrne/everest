{
 "cells": [
  {
   "cell_type": "code",
   "execution_count": null,
   "id": "eee8b4fc-7a17-4f56-9bbd-31dfa365d554",
   "metadata": {},
   "outputs": [],
   "source": [
    "###############################################################################\n",
    "import aliases\n",
    "from everest.utilities import textutils\n",
    "# tuple(textutils.find_all('__getattr__', path='../everest/ptolemaic'))\n",
    "# textutils.replace_all('Schematic', 'Compound', path='../everest')"
   ]
  },
  {
   "cell_type": "code",
   "execution_count": null,
   "id": "f4346c01-3805-433e-bc7a-994746b3e973",
   "metadata": {},
   "outputs": [],
   "source": [
    "from everest.ptolemaic.system import System\n",
    "from everest.ptolemaic.algebra import *"
   ]
  },
  {
   "cell_type": "code",
   "execution_count": null,
   "id": "db9566a7-a951-45de-af91-b577ee62e158",
   "metadata": {},
   "outputs": [],
   "source": [
    "realm = Realm(\n",
    "    null=Expressor('null'),\n",
    "    succ=Expressor('succ', 1),\n",
    "    )"
   ]
  },
  {
   "cell_type": "code",
   "execution_count": null,
   "id": "8054446d-f42a-48ca-998a-b1eb2e9fce60",
   "metadata": {},
   "outputs": [],
   "source": [
    "realm.succ(realm.null()) in realm"
   ]
  }
 ],
 "metadata": {
  "kernelspec": {
   "display_name": "Python 3 (ipykernel)",
   "language": "python",
   "name": "python3"
  },
  "language_info": {
   "codemirror_mode": {
    "name": "ipython",
    "version": 3
   },
   "file_extension": ".py",
   "mimetype": "text/x-python",
   "name": "python",
   "nbconvert_exporter": "python",
   "pygments_lexer": "ipython3",
   "version": "3.9.5"
  }
 },
 "nbformat": 4,
 "nbformat_minor": 5
}
