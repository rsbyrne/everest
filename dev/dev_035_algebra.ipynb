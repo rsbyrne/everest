{
 "cells": [
  {
   "cell_type": "code",
   "execution_count": null,
   "id": "eee8b4fc-7a17-4f56-9bbd-31dfa365d554",
   "metadata": {},
   "outputs": [],
   "source": [
    "###############################################################################\n",
    "import aliases\n",
    "from everest.utilities import textutils\n",
    "# tuple(textutils.find_all('__getattr__', path='../everest/ptolemaic'))\n",
    "# textutils.replace_all('Schematic', 'Compound', path='../everest')"
   ]
  },
  {
   "cell_type": "code",
   "execution_count": null,
   "id": "8054446d-f42a-48ca-998a-b1eb2e9fce60",
   "metadata": {},
   "outputs": [],
   "source": [
    "from everest.ptolemaic.algebra import *"
   ]
  },
  {
   "cell_type": "code",
   "execution_count": null,
   "id": "1760283d-d311-4589-b4b3-371c790f7d34",
   "metadata": {},
   "outputs": [],
   "source": [
    "nul = Expressor()\n",
    "suc = Expressor(nul, 1)\n",
    "assert suc(nul()) in suc"
   ]
  },
  {
   "cell_type": "code",
   "execution_count": null,
   "id": "f5035885-9c77-41e4-a036-7d451d45a608",
   "metadata": {},
   "outputs": [],
   "source": []
  },
  {
   "cell_type": "code",
   "execution_count": null,
   "id": "e66c5ebc-259f-4074-b25b-c3f2320939cd",
   "metadata": {},
   "outputs": [],
   "source": [
    "class Foo(metaclass=Algebra):\n",
    "    nul = operator()\n",
    "    suc = operator(1)\n",
    "    add = operator(...)\n",
    "foo = Foo()"
   ]
  },
  {
   "cell_type": "code",
   "execution_count": null,
   "id": "9b12aa0f-7f9f-41fc-a52e-f23fce4fe9d7",
   "metadata": {},
   "outputs": [],
   "source": [
    "foo.suc(foo.nul())"
   ]
  },
  {
   "cell_type": "code",
   "execution_count": null,
   "id": "e15cb317-f806-458d-98d7-2af074491774",
   "metadata": {},
   "outputs": [],
   "source": [
    "foo.suc(foo.suc(foo.nul()))"
   ]
  },
  {
   "cell_type": "code",
   "execution_count": null,
   "id": "88062696-a53f-40d3-9743-f884b47930a1",
   "metadata": {},
   "outputs": [],
   "source": [
    "exp = foo.add(foo.suc(foo.nul()), foo.nul())\n",
    "assert exp in foo\n",
    "assert exp in foo.add\n",
    "assert exp not in foo.suc"
   ]
  },
  {
   "cell_type": "code",
   "execution_count": null,
   "id": "456a4e49-bed1-4b3d-894c-0682d9548ef4",
   "metadata": {},
   "outputs": [],
   "source": [
    "exp"
   ]
  },
  {
   "cell_type": "code",
   "execution_count": null,
   "id": "862951a4-9f59-401b-84ed-7708bf51b78c",
   "metadata": {},
   "outputs": [],
   "source": [
    "foo.nul()"
   ]
  },
  {
   "cell_type": "code",
   "execution_count": null,
   "id": "33a4c9ab-c918-4e14-948d-09edded65a44",
   "metadata": {},
   "outputs": [],
   "source": [
    "def guess_seq_len(seq):\n",
    "    guess = 1\n",
    "    max_len = len(seq) / 2\n",
    "    for x in range(2, max_len):\n",
    "        if seq[0:x] == seq[x:2*x] :\n",
    "            return x"
   ]
  },
  {
   "cell_type": "code",
   "execution_count": null,
   "id": "e00dcaa1-cb8e-4a92-914a-68fcb57d5f48",
   "metadata": {},
   "outputs": [],
   "source": [
    "guess_seq_len([0, 1, 0, 1])"
   ]
  },
  {
   "cell_type": "code",
   "execution_count": null,
   "id": "33bcc6b5-d526-4697-8b71-c1c4075616bb",
   "metadata": {},
   "outputs": [],
   "source": []
  }
 ],
 "metadata": {
  "kernelspec": {
   "display_name": "Python 3 (ipykernel)",
   "language": "python",
   "name": "python3"
  },
  "language_info": {
   "codemirror_mode": {
    "name": "ipython",
    "version": 3
   },
   "file_extension": ".py",
   "mimetype": "text/x-python",
   "name": "python",
   "nbconvert_exporter": "python",
   "pygments_lexer": "ipython3",
   "version": "3.9.5"
  }
 },
 "nbformat": 4,
 "nbformat_minor": 5
}
