{
 "cells": [
  {
   "cell_type": "code",
   "execution_count": null,
   "id": "07776d8e-b262-4e3c-b608-e70bb4f595af",
   "metadata": {},
   "outputs": [],
   "source": [
    "import aliases"
   ]
  },
  {
   "cell_type": "code",
   "execution_count": null,
   "id": "ad75e749-92a8-46fb-9666-5f969bff89be",
   "metadata": {},
   "outputs": [],
   "source": [
    "from everest.ptolemaic.schema import Schema\n",
    "from everest.ptolemaic.params import Param, Signature"
   ]
  },
  {
   "cell_type": "code",
   "execution_count": null,
   "id": "33bb3743-d09b-4a2f-bde2-41ad7342372a",
   "metadata": {},
   "outputs": [],
   "source": [
    "class Case(metaclass=Schema):\n",
    "    ..."
   ]
  },
  {
   "cell_type": "code",
   "execution_count": null,
   "id": "067adb95-1c2b-4d4a-b535-cc5cbf1f6ab0",
   "metadata": {},
   "outputs": [],
   "source": [
    "class MySchema(Case):\n",
    "\n",
    "    a: Param.Pos[int]\n",
    "    b: Param.PosKw[float] = 2\n",
    "    c: Param.Kw\n",
    "    d: Param.Kw = 4\n",
    "    e: Param.Kwargs"
   ]
  },
  {
   "cell_type": "code",
   "execution_count": null,
   "id": "c04d280e-2306-4f42-bf58-4977c8aadc1b",
   "metadata": {},
   "outputs": [],
   "source": [
    "myobj = MySchema(1, c=3)"
   ]
  },
  {
   "cell_type": "code",
   "execution_count": null,
   "id": "fe23d671-178d-4e9f-8955-a935dacd8e63",
   "metadata": {},
   "outputs": [],
   "source": [
    "class MySubSchema(MySchema):\n",
    "    _signature = Signature()"
   ]
  }
 ],
 "metadata": {
  "kernelspec": {
   "display_name": "Python 3 (ipykernel)",
   "language": "python",
   "name": "python3"
  },
  "language_info": {
   "codemirror_mode": {
    "name": "ipython",
    "version": 3
   },
   "file_extension": ".py",
   "mimetype": "text/x-python",
   "name": "python",
   "nbconvert_exporter": "python",
   "pygments_lexer": "ipython3",
   "version": "3.9.5"
  }
 },
 "nbformat": 4,
 "nbformat_minor": 5
}
