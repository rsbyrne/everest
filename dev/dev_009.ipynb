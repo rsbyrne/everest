{
 "cells": [
  {
   "cell_type": "code",
   "execution_count": null,
   "id": "07776d8e-b262-4e3c-b608-e70bb4f595af",
   "metadata": {},
   "outputs": [],
   "source": [
    "import aliases"
   ]
  },
  {
   "cell_type": "code",
   "execution_count": null,
   "id": "42ad03e9-bbb3-49bd-9174-f9869b8c91b6",
   "metadata": {},
   "outputs": [],
   "source": [
    "from everest.ptolemaic.ousia import Ousia\n",
    "from everest.ptolemaic.essence import Essence"
   ]
  },
  {
   "cell_type": "code",
   "execution_count": null,
   "id": "b62e8a0e-809c-4acb-82e7-8138b16b5308",
   "metadata": {},
   "outputs": [],
   "source": [
    "class MyClass(metaclass=Essence):\n",
    "    ..."
   ]
  },
  {
   "cell_type": "code",
   "execution_count": null,
   "id": "2a881224-af0c-49c9-82cc-6ec0f9aab97b",
   "metadata": {},
   "outputs": [],
   "source": [
    "class MyClass2(metaclass=Ousia):\n",
    "    ..."
   ]
  }
 ],
 "metadata": {
  "kernelspec": {
   "display_name": "Python 3 (ipykernel)",
   "language": "python",
   "name": "python3"
  },
  "language_info": {
   "codemirror_mode": {
    "name": "ipython",
    "version": 3
   },
   "file_extension": ".py",
   "mimetype": "text/x-python",
   "name": "python",
   "nbconvert_exporter": "python",
   "pygments_lexer": "ipython3",
   "version": "3.9.5"
  }
 },
 "nbformat": 4,
 "nbformat_minor": 5
}
