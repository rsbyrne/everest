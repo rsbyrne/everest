{
 "cells": [
  {
   "cell_type": "code",
   "execution_count": null,
   "id": "fbc75470-9298-4c54-b543-7d973bcd8a46",
   "metadata": {},
   "outputs": [],
   "source": [
    "import aliases"
   ]
  },
  {
   "cell_type": "code",
   "execution_count": null,
   "id": "c7c4feab-70f3-4fab-87eb-ec2ee04d66de",
   "metadata": {},
   "outputs": [],
   "source": [
    "from everest.ptolemaic.schema import Schema\n",
    "from everest.ptolemaic.params import Param, Signature\n",
    "from everest.ptolemaic.intt import Intt"
   ]
  },
  {
   "cell_type": "code",
   "execution_count": null,
   "id": "552e661d-cee0-49d6-8a8a-d49490c8cacb",
   "metadata": {},
   "outputs": [],
   "source": [
    "Intt(1)"
   ]
  },
  {
   "cell_type": "code",
   "execution_count": null,
   "id": "70255f01-0a87-4cb5-9792-d8916ff3bf13",
   "metadata": {},
   "outputs": [],
   "source": [
    "Intt[1:3][1:]"
   ]
  },
  {
   "cell_type": "code",
   "execution_count": null,
   "id": "36e23b15-1323-47eb-ab1c-1f38a88cc916",
   "metadata": {},
   "outputs": [],
   "source": [
    "mysig = Signature(\n",
    "    Param('a', Intt),\n",
    "    Param('b', Intt)\n",
    "    )"
   ]
  },
  {
   "cell_type": "code",
   "execution_count": null,
   "id": "9eca4434-757e-4b9d-9279-d5943858a674",
   "metadata": {},
   "outputs": [],
   "source": [
    "MyClass = Schema('MyClass', (), dict(_signature=mysig))"
   ]
  },
  {
   "cell_type": "code",
   "execution_count": null,
   "id": "a5575b2c-5024-4e4b-816f-5d02c1d36b97",
   "metadata": {},
   "outputs": [],
   "source": [
    "myobj = MyClass(1, 2)"
   ]
  },
  {
   "cell_type": "code",
   "execution_count": null,
   "id": "59528524-3b03-4821-b6e2-05ce2cafa677",
   "metadata": {},
   "outputs": [],
   "source": [
    "MyClass"
   ]
  },
  {
   "cell_type": "code",
   "execution_count": null,
   "id": "65d2eba0-2bd5-49c1-b99c-88bbd4500f85",
   "metadata": {},
   "outputs": [],
   "source": [
    "myobj"
   ]
  },
  {
   "cell_type": "code",
   "execution_count": null,
   "id": "34b09209-3671-4fd1-9a3d-3a2fd5b9c724",
   "metadata": {},
   "outputs": [],
   "source": []
  },
  {
   "cell_type": "code",
   "execution_count": null,
   "id": "301b5b70-26cc-4935-a28f-b6029e3e2bf1",
   "metadata": {},
   "outputs": [],
   "source": [
    "Intt[:10]"
   ]
  },
  {
   "cell_type": "code",
   "execution_count": null,
   "id": "559a92fc-4fd4-4d22-98b1-c0cacced409d",
   "metadata": {},
   "outputs": [],
   "source": [
    "class MySystem(System):\n",
    "\n",
    "    a: Param\n",
    "    b: Param[float] = 2\n",
    "    c: Param.Kw\n",
    "    d: Param.Kw = 4\n",
    "    e: Param.Kwargs\n",
    "\n",
    "\n",
    "# class MySubSchema(MySchema):\n",
    "#     _signature = Signature()"
   ]
  },
  {
   "cell_type": "code",
   "execution_count": null,
   "id": "0d7e3a8c-0506-4bdc-9aca-39120e13406c",
   "metadata": {},
   "outputs": [],
   "source": [
    "myobj = MySystem(1, c=3)"
   ]
  },
  {
   "cell_type": "code",
   "execution_count": null,
   "id": "895a9b1a-8c29-49dd-b4fa-e1f8f5b42fa8",
   "metadata": {},
   "outputs": [],
   "source": [
    "myobj"
   ]
  },
  {
   "cell_type": "code",
   "execution_count": null,
   "id": "383c9954-97bd-4106-9eb7-7bbf070efff8",
   "metadata": {},
   "outputs": [],
   "source": [
    "myobj2 = MySystem(1, c=3)"
   ]
  },
  {
   "cell_type": "code",
   "execution_count": null,
   "id": "d0a0213d-070f-49d7-8540-8b5c715b5290",
   "metadata": {},
   "outputs": [],
   "source": [
    "myobj2"
   ]
  },
  {
   "cell_type": "code",
   "execution_count": null,
   "id": "253fe39e-eddf-49ed-a023-27c54d7605cb",
   "metadata": {},
   "outputs": [],
   "source": [
    "myobj is myobj2"
   ]
  },
  {
   "cell_type": "code",
   "execution_count": null,
   "id": "f7bea43a-6e2d-453c-89a5-bc037468e51a",
   "metadata": {},
   "outputs": [],
   "source": []
  },
  {
   "cell_type": "code",
   "execution_count": null,
   "id": "16396964-e1d4-4886-9979-ea3bdab8f35e",
   "metadata": {},
   "outputs": [],
   "source": []
  },
  {
   "cell_type": "code",
   "execution_count": null,
   "id": "9a9932fd-77ca-46ca-9f95-30753f23a77e",
   "metadata": {},
   "outputs": [],
   "source": [
    "from everest.ptolemaic.ptolemaic import *"
   ]
  },
  {
   "cell_type": "code",
   "execution_count": null,
   "id": "07e2bf1d-183a-4712-bfd1-8a0cbdfae596",
   "metadata": {},
   "outputs": [],
   "source": [
    "class MyPtol(Ptolemaic):\n",
    "\n",
    "    def __init__(self, a, b, c):\n",
    "        ..."
   ]
  },
  {
   "cell_type": "code",
   "execution_count": null,
   "id": "18073490-39ec-4564-bb44-5145367af3fc",
   "metadata": {},
   "outputs": [],
   "source": [
    "class MySprite(Sprite):\n",
    "\n",
    "    _req_slots__ = ('a', 'b')\n",
    "\n",
    "    def __init__(self, a, b):\n",
    "        self.a = a\n",
    "        self.b = b"
   ]
  },
  {
   "cell_type": "code",
   "execution_count": null,
   "id": "9d982e4e-2438-4c8c-903b-3205fa5e7ce7",
   "metadata": {},
   "outputs": [],
   "source": [
    "MySprite(1, (1, 2))"
   ]
  },
  {
   "cell_type": "code",
   "execution_count": null,
   "id": "1be071e5-5660-4aa4-be23-af280e7affc3",
   "metadata": {},
   "outputs": [],
   "source": [
    "mydict = dict(a=1, b=2)"
   ]
  },
  {
   "cell_type": "code",
   "execution_count": null,
   "id": "f9e3026b-440c-4452-a6a7-dc704c319571",
   "metadata": {},
   "outputs": [],
   "source": [
    "mydict"
   ]
  },
  {
   "cell_type": "code",
   "execution_count": null,
   "id": "1471fae0-05d8-4e94-825f-bc7c95f21d11",
   "metadata": {},
   "outputs": [],
   "source": [
    "'='.join((1, 2))"
   ]
  },
  {
   "cell_type": "code",
   "execution_count": null,
   "id": "34ab4ea3-c5fd-4cea-ad3a-d89edfa9f319",
   "metadata": {},
   "outputs": [],
   "source": [
    "import inspect as _inspect"
   ]
  },
  {
   "cell_type": "code",
   "execution_count": null,
   "id": "a722f676-5f05-4b71-b740-d2f1df165c7c",
   "metadata": {},
   "outputs": [],
   "source": [
    "def myfunc(a=1, *args):\n",
    "    ...\n",
    "\n",
    "sig = _inspect.signature(myfunc)\n",
    "bound = sig.bind(1, 2, 3)"
   ]
  },
  {
   "cell_type": "code",
   "execution_count": null,
   "id": "e5d9813c-b921-4d9b-a2f1-33080152d4c0",
   "metadata": {},
   "outputs": [],
   "source": [
    "tuple(bound.args)"
   ]
  },
  {
   "cell_type": "code",
   "execution_count": null,
   "id": "29952146-706f-4a57-8dda-4e18991fb449",
   "metadata": {},
   "outputs": [],
   "source": [
    "bound.items()"
   ]
  },
  {
   "cell_type": "code",
   "execution_count": null,
   "id": "aaea120f-8010-4b23-84bc-8733ebfefefb",
   "metadata": {},
   "outputs": [],
   "source": []
  },
  {
   "cell_type": "code",
   "execution_count": null,
   "id": "d1ee75f6-c6d1-4de0-96e1-b243b37fefcc",
   "metadata": {},
   "outputs": [],
   "source": []
  },
  {
   "cell_type": "code",
   "execution_count": null,
   "id": "33bb3743-d09b-4a2f-bde2-41ad7342372a",
   "metadata": {},
   "outputs": [],
   "source": []
  },
  {
   "cell_type": "code",
   "execution_count": null,
   "id": "067adb95-1c2b-4d4a-b535-cc5cbf1f6ab0",
   "metadata": {},
   "outputs": [],
   "source": []
  },
  {
   "cell_type": "code",
   "execution_count": null,
   "id": "c04d280e-2306-4f42-bf58-4977c8aadc1b",
   "metadata": {},
   "outputs": [],
   "source": [
    "myobj = MySchema(1, c=3)"
   ]
  },
  {
   "cell_type": "code",
   "execution_count": null,
   "id": "fe23d671-178d-4e9f-8955-a935dacd8e63",
   "metadata": {},
   "outputs": [],
   "source": []
  }
 ],
 "metadata": {
  "kernelspec": {
   "display_name": "Python 3 (ipykernel)",
   "language": "python",
   "name": "python3"
  },
  "language_info": {
   "codemirror_mode": {
    "name": "ipython",
    "version": 3
   },
   "file_extension": ".py",
   "mimetype": "text/x-python",
   "name": "python",
   "nbconvert_exporter": "python",
   "pygments_lexer": "ipython3",
   "version": "3.9.5"
  }
 },
 "nbformat": 4,
 "nbformat_minor": 5
}
