{
 "cells": [
  {
   "cell_type": "code",
   "execution_count": null,
   "id": "07776d8e-b262-4e3c-b608-e70bb4f595af",
   "metadata": {},
   "outputs": [],
   "source": [
    "import aliases"
   ]
  },
  {
   "cell_type": "code",
   "execution_count": null,
   "id": "42ad03e9-bbb3-49bd-9174-f9869b8c91b6",
   "metadata": {},
   "outputs": [],
   "source": [
    "from everest.ptolemaic import *"
   ]
  },
  {
   "cell_type": "code",
   "execution_count": null,
   "id": "3a44fdf3-4618-4b97-891c-3bfae64f3f5c",
   "metadata": {},
   "outputs": [],
   "source": [
    "Eidos[int]"
   ]
  },
  {
   "cell_type": "code",
   "execution_count": null,
   "id": "35962843-9d1d-414e-9c5a-4b0e7cb0b92e",
   "metadata": {},
   "outputs": [],
   "source": [
    "Eidos[Shade]"
   ]
  },
  {
   "cell_type": "code",
   "execution_count": null,
   "id": "d5209d76-7f9c-436e-a6a6-9695fbb85ee4",
   "metadata": {},
   "outputs": [],
   "source": [
    "Pr"
   ]
  },
  {
   "cell_type": "code",
   "execution_count": null,
   "id": "f31d70a3-d71b-4d7f-bf94-6d873ac336cd",
   "metadata": {},
   "outputs": [],
   "source": [
    "out = Shade.metacls.__class_getitem__(int)"
   ]
  },
  {
   "cell_type": "code",
   "execution_count": null,
   "id": "820a417b-e749-481a-8008-b785c5748ae1",
   "metadata": {},
   "outputs": [],
   "source": [
    "out.__mro__"
   ]
  },
  {
   "cell_type": "code",
   "execution_count": null,
   "id": "6292b192-2755-43e6-bd9e-281c43e4b3d4",
   "metadata": {},
   "outputs": [],
   "source": [
    "class MyClass:\n",
    "    __slots__ = ()"
   ]
  },
  {
   "cell_type": "code",
   "execution_count": null,
   "id": "3f67d078-71d3-4ed1-8cfa-ab4d96740229",
   "metadata": {},
   "outputs": [],
   "source": [
    "Shade[MyClass]"
   ]
  },
  {
   "cell_type": "code",
   "execution_count": null,
   "id": "afb5ce05-84df-4432-9c1a-df6c39ee55af",
   "metadata": {},
   "outputs": [],
   "source": [
    "Ousia[Shade][MyClass]"
   ]
  },
  {
   "cell_type": "code",
   "execution_count": null,
   "id": "bc6c291c-fa78-4ecb-9837-0f631dcb61a5",
   "metadata": {},
   "outputs": [],
   "source": []
  },
  {
   "cell_type": "code",
   "execution_count": null,
   "id": "b9d9c105-1eeb-4fef-9d53-b5ec7c13744f",
   "metadata": {},
   "outputs": [],
   "source": [
    "from abc import ABCMeta as _ABCMeta"
   ]
  },
  {
   "cell_type": "code",
   "execution_count": null,
   "id": "66994a49-e1ff-431d-baeb-a8dc3003ded7",
   "metadata": {},
   "outputs": [],
   "source": [
    "class MetaMeta(type):\n",
    "    ...\n",
    "\n",
    "\n",
    "class Meta(_ABCMeta, metaclass=MetaMeta):\n",
    "\n",
    "    def __init__(cls, *args, **kwargs):\n",
    "        super().__init__(*args, **kwargs)\n",
    "        cls.metacls = Meta\n",
    "\n",
    "    def mymeth(cls, arg):\n",
    "        print(arg)\n",
    "\n",
    "\n",
    "class MyClass(metaclass=Meta):\n",
    "\n",
    "    @classmethod\n",
    "    def mymeth(cls, arg):\n",
    "        return "
   ]
  },
  {
   "cell_type": "code",
   "execution_count": null,
   "id": "56c49122-b44e-435e-99e1-6ca906c2ba9f",
   "metadata": {},
   "outputs": [],
   "source": [
    "MyClass()"
   ]
  },
  {
   "cell_type": "code",
   "execution_count": null,
   "id": "1500333b-e1be-443c-9d63-a43fb19193ca",
   "metadata": {},
   "outputs": [],
   "source": [
    "isinstance(MyClass, type)"
   ]
  },
  {
   "cell_type": "code",
   "execution_count": null,
   "id": "09accd3d-424e-440c-8ab3-3874ac54cb03",
   "metadata": {},
   "outputs": [],
   "source": []
  }
 ],
 "metadata": {
  "kernelspec": {
   "display_name": "Python 3 (ipykernel)",
   "language": "python",
   "name": "python3"
  },
  "language_info": {
   "codemirror_mode": {
    "name": "ipython",
    "version": 3
   },
   "file_extension": ".py",
   "mimetype": "text/x-python",
   "name": "python",
   "nbconvert_exporter": "python",
   "pygments_lexer": "ipython3",
   "version": "3.9.5"
  }
 },
 "nbformat": 4,
 "nbformat_minor": 5
}
