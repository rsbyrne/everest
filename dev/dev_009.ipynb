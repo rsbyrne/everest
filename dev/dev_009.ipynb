{
 "cells": [
  {
   "cell_type": "code",
   "execution_count": null,
   "id": "07776d8e-b262-4e3c-b608-e70bb4f595af",
   "metadata": {},
   "outputs": [],
   "source": [
    "import aliases"
   ]
  },
  {
   "cell_type": "code",
   "execution_count": null,
   "id": "42ad03e9-bbb3-49bd-9174-f9869b8c91b6",
   "metadata": {},
   "outputs": [],
   "source": [
    "from everest.ptolemaic import *"
   ]
  },
  {
   "cell_type": "code",
   "execution_count": null,
   "id": "8e894890-0c9b-4e84-8d4d-e5ffb81244b6",
   "metadata": {},
   "outputs": [],
   "source": [
    "class A(metaclass=Ousia):\n",
    "    ..."
   ]
  },
  {
   "cell_type": "code",
   "execution_count": null,
   "id": "f740a06f-27d8-4821-be21-1f8d5aa24edd",
   "metadata": {},
   "outputs": [],
   "source": [
    "class B(A, metaclass=Pleroma):\n",
    "    ..."
   ]
  },
  {
   "cell_type": "code",
   "execution_count": null,
   "id": "2b099be1-964f-4227-badc-6511ea0fb25b",
   "metadata": {},
   "outputs": [],
   "source": [
    "A()"
   ]
  },
  {
   "cell_type": "code",
   "execution_count": null,
   "id": "c29fb038-7b80-4c63-8dbd-53830649c495",
   "metadata": {},
   "outputs": [],
   "source": [
    "import inspect"
   ]
  },
  {
   "cell_type": "code",
   "execution_count": null,
   "id": "e5bfaec2-112e-46f1-a372-9292865c97c4",
   "metadata": {},
   "outputs": [],
   "source": [
    "class A:\n",
    "    ..."
   ]
  },
  {
   "cell_type": "code",
   "execution_count": null,
   "id": "7e6cbad1-907e-4649-9093-94626c3044d1",
   "metadata": {},
   "outputs": [],
   "source": [
    "inspect.signature(A.__init__)"
   ]
  },
  {
   "cell_type": "code",
   "execution_count": null,
   "id": "756bc623-daf7-43e1-93b7-8845a4b327b8",
   "metadata": {},
   "outputs": [],
   "source": [
    "class MyMeta(type):\n",
    "    '''foo'''\n",
    "\n",
    "\n",
    "class MySubMeta(MyMeta):\n",
    "    def __getattribute__(cls, name, /):\n",
    "        if name == 'foo':\n",
    "            return 'Hello world!'\n",
    "        return super().__getattribute__(name)"
   ]
  },
  {
   "cell_type": "code",
   "execution_count": null,
   "id": "b0011bdb-e628-40ab-8f0f-8e48307a8b2e",
   "metadata": {},
   "outputs": [],
   "source": [
    "class MyClass(metaclass=MySubMeta):\n",
    "    ..."
   ]
  },
  {
   "cell_type": "code",
   "execution_count": null,
   "id": "5f02a0b2-1759-4b1c-96c8-768edd6b72fd",
   "metadata": {},
   "outputs": [],
   "source": [
    "MyClass.__class__"
   ]
  },
  {
   "cell_type": "code",
   "execution_count": null,
   "id": "32b4fee2-334d-435e-b2db-b27573fecc25",
   "metadata": {},
   "outputs": [],
   "source": [
    "MyClass.foo"
   ]
  },
  {
   "cell_type": "code",
   "execution_count": null,
   "id": "f695d4ab-346e-4b08-ba6f-e56ddc206520",
   "metadata": {},
   "outputs": [],
   "source": []
  },
  {
   "cell_type": "code",
   "execution_count": null,
   "id": "0f4cbb95-75a8-45de-8a8a-b3bc822cd00d",
   "metadata": {},
   "outputs": [],
   "source": [
    "dir(MyClass)"
   ]
  },
  {
   "cell_type": "code",
   "execution_count": null,
   "id": "970322c8-5908-448b-a07e-300a8bc42f7f",
   "metadata": {},
   "outputs": [],
   "source": [
    "MyClass.__getattribute__(MyClass, '__doc__')"
   ]
  },
  {
   "cell_type": "code",
   "execution_count": null,
   "id": "911d6af0-57b1-40ce-bd01-4fda7a0af6bb",
   "metadata": {},
   "outputs": [],
   "source": [
    "class A:\n",
    "    ...\n",
    "\n",
    "class B:\n",
    "    ...\n",
    "\n",
    "A.__class__ = B\n",
    "type(A)"
   ]
  },
  {
   "cell_type": "code",
   "execution_count": null,
   "id": "0f79d55c-c96a-4dcb-82f8-f6d21084a35e",
   "metadata": {},
   "outputs": [],
   "source": [
    "object.mro"
   ]
  },
  {
   "cell_type": "code",
   "execution_count": null,
   "id": "497334e2-066c-47de-ac3c-7a3d4c2ede9c",
   "metadata": {},
   "outputs": [],
   "source": [
    "class A:\n",
    "    ...\n",
    "\n",
    "class B(A):\n",
    "    ...\n",
    "\n",
    "class C(A):\n",
    "    ...\n",
    "\n",
    "class D(B, C):\n",
    "    ..."
   ]
  },
  {
   "cell_type": "code",
   "execution_count": null,
   "id": "6fc68284-3524-4044-afb1-a2c9f672e13b",
   "metadata": {},
   "outputs": [],
   "source": [
    "D.__mro__"
   ]
  },
  {
   "cell_type": "code",
   "execution_count": null,
   "id": "3946e7ec-0f29-4e5e-bc28-8cd71dffd39b",
   "metadata": {},
   "outputs": [],
   "source": [
    "B.__mro__"
   ]
  },
  {
   "cell_type": "code",
   "execution_count": null,
   "id": "30973984-a07c-428f-8ede-380fe82b235b",
   "metadata": {},
   "outputs": [],
   "source": [
    "type('foo', (B, C), {}).__mro__"
   ]
  },
  {
   "cell_type": "code",
   "execution_count": null,
   "id": "66994a49-e1ff-431d-baeb-a8dc3003ded7",
   "metadata": {},
   "outputs": [],
   "source": []
  }
 ],
 "metadata": {
  "kernelspec": {
   "display_name": "Python 3 (ipykernel)",
   "language": "python",
   "name": "python3"
  },
  "language_info": {
   "codemirror_mode": {
    "name": "ipython",
    "version": 3
   },
   "file_extension": ".py",
   "mimetype": "text/x-python",
   "name": "python",
   "nbconvert_exporter": "python",
   "pygments_lexer": "ipython3",
   "version": "3.9.5"
  }
 },
 "nbformat": 4,
 "nbformat_minor": 5
}
