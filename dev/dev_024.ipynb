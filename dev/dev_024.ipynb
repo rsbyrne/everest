{
 "cells": [
  {
   "cell_type": "code",
   "execution_count": null,
   "id": "b33c9ff7-bd01-4766-a3d0-c1b9d3133442",
   "metadata": {},
   "outputs": [],
   "source": [
    "###############################################################################\n",
    "import aliases"
   ]
  },
  {
   "cell_type": "code",
   "execution_count": null,
   "id": "1d605ed2-21af-47b1-bf6b-a912b56d6f4a",
   "metadata": {},
   "outputs": [],
   "source": [
    "import numpy as _np\n",
    "\n",
    "from everest.utilities.classtools import add_defer_meths as _add_defer_meths\n",
    "from everest.epitaph import Epitaphable as _Epitaphable\n",
    "\n",
    "from everest.ptolemaic.sprite import Sprite as _Sprite"
   ]
  },
  {
   "cell_type": "code",
   "execution_count": null,
   "id": "e5f3f943-a6d4-4a22-bf4d-fc2542e5bd75",
   "metadata": {},
   "outputs": [],
   "source": [
    "class Author(metaclass=_Sprite):\n",
    "\n",
    "    imprimatur: str = 'Anonymous'\n",
    "\n",
    "\n",
    "class _Ephemeris_(metaclass=_Sprite):\n",
    "    \n",
    "    author: Author\n",
    "\n",
    "    _req_slots__ = ('_attrs',)\n",
    "\n",
    "    def __init__(self, /):\n",
    "        super().__init__()\n",
    "        self._attrs = {}\n",
    "\n",
    "    @property\n",
    "    def attrs(self, /):\n",
    "        return self._attrs\n",
    "\n",
    "\n",
    "@_add_defer_meths(\n",
    "    '_dct',\n",
    "    ('__getitem__', '__setitem__', '__delitem__',\n",
    "    '__len__', '__iter__', '__contains__', 'keys',\n",
    "    'items', 'values', 'get', '__eq__', '__ne__',),\n",
    "    )\n",
    "class Ephemeris(_Ephemeris_):\n",
    "\n",
    "    author: Author\n",
    "\n",
    "    _req_slots__ = ('_dct',)\n",
    "\n",
    "    def __init__(self, /):\n",
    "        super().__init__()\n",
    "        self._dct = {}\n",
    "\n",
    "\n",
    "@_add_defer_meths(\n",
    "    '_array',\n",
    "    ('__getitem__', '__setitem__', '__delitem__'\n",
    "    '__len__', '__iter__', '__contains__'),\n",
    "    )\n",
    "class Dataset(_Ephemeris_):\n",
    "\n",
    "    shape: tuple\n",
    "    dtype: str\n",
    "\n",
    "    _req_slots__ = ('_array',)\n",
    "\n",
    "    def __init__(self, /):\n",
    "        super().__init__()\n",
    "        self._array = _np.empty(self.shape, self.dtype)\n",
    "\n",
    "    @property\n",
    "    def attrs(self, /):\n",
    "        return self._attrs"
   ]
  },
  {
   "cell_type": "code",
   "execution_count": null,
   "id": "6cff58b7-111e-46e7-85b2-fb4183392e71",
   "metadata": {},
   "outputs": [],
   "source": [
    "myauth = Author()"
   ]
  },
  {
   "cell_type": "code",
   "execution_count": null,
   "id": "9fc85284-e22f-4208-a5d9-455699130923",
   "metadata": {},
   "outputs": [],
   "source": [
    "myeph = Ephemeris(myauth)"
   ]
  },
  {
   "cell_type": "code",
   "execution_count": null,
   "id": "38987ee4-242d-484b-b886-c6a0df872375",
   "metadata": {},
   "outputs": [],
   "source": [
    "myeph"
   ]
  },
  {
   "cell_type": "code",
   "execution_count": null,
   "id": "8ee2c793-9077-46a3-b029-f0e45b4d76f5",
   "metadata": {},
   "outputs": [],
   "source": [
    "myeph = Ephemeris(Author())"
   ]
  },
  {
   "cell_type": "code",
   "execution_count": null,
   "id": "1540121b-90ed-461f-8241-b636b01a861e",
   "metadata": {},
   "outputs": [],
   "source": [
    "_np.empty()"
   ]
  },
  {
   "cell_type": "code",
   "execution_count": null,
   "id": "c7fedb46-ef14-4052-96f6-9fc0f9b00749",
   "metadata": {},
   "outputs": [],
   "source": [
    "myeph = Ephemera()"
   ]
  },
  {
   "cell_type": "code",
   "execution_count": null,
   "id": "8e223fd8-743a-436b-af1f-b3128cada3c1",
   "metadata": {},
   "outputs": [],
   "source": [
    "myeph['foo' ] = 1"
   ]
  },
  {
   "cell_type": "code",
   "execution_count": null,
   "id": "7f3ad123-59f8-4bfa-b239-179dbccae4d2",
   "metadata": {},
   "outputs": [],
   "source": [
    "myeph"
   ]
  },
  {
   "cell_type": "code",
   "execution_count": null,
   "id": "4b273664-6e21-4151-9d8d-2254ac403757",
   "metadata": {},
   "outputs": [],
   "source": [
    "myeph.__getitem__"
   ]
  },
  {
   "cell_type": "code",
   "execution_count": null,
   "id": "46da9b8f-00bc-453d-837a-bd7d0864cd35",
   "metadata": {},
   "outputs": [],
   "source": [
    "from collections import "
   ]
  }
 ],
 "metadata": {
  "kernelspec": {
   "display_name": "Python 3 (ipykernel)",
   "language": "python",
   "name": "python3"
  },
  "language_info": {
   "codemirror_mode": {
    "name": "ipython",
    "version": 3
   },
   "file_extension": ".py",
   "mimetype": "text/x-python",
   "name": "python",
   "nbconvert_exporter": "python",
   "pygments_lexer": "ipython3",
   "version": "3.9.5"
  }
 },
 "nbformat": 4,
 "nbformat_minor": 5
}
