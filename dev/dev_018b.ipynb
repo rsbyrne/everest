{
 "cells": [
  {
   "cell_type": "code",
   "execution_count": null,
   "id": "54fb6972-6e94-4325-88b6-faaee4336d21",
   "metadata": {},
   "outputs": [],
   "source": [
    "###############################################################################\n",
    "import aliases"
   ]
  },
  {
   "cell_type": "code",
   "execution_count": null,
   "id": "574058ce-003e-4dd7-b521-b6b8a06488b8",
   "metadata": {},
   "outputs": [],
   "source": [
    "dir(dct)"
   ]
  },
  {
   "cell_type": "code",
   "execution_count": null,
   "id": "02c6848f-c3cd-4429-a0f9-693feb758118",
   "metadata": {},
   "outputs": [],
   "source": [
    "dct.get"
   ]
  },
  {
   "cell_type": "code",
   "execution_count": null,
   "id": "0dc126b6-c787-4610-9879-14b8d1fed1be",
   "metadata": {},
   "outputs": [],
   "source": [
    "class MyClass:\n",
    "\n",
    "    a=1\n",
    "\n",
    "    def __getattr__(self, name, /):\n",
    "        return super().__getattribute__(name)"
   ]
  },
  {
   "cell_type": "code",
   "execution_count": null,
   "id": "cad81bec-91da-4e79-9ad7-6bf5cc156009",
   "metadata": {},
   "outputs": [],
   "source": [
    "myobj = MyClass()"
   ]
  },
  {
   "cell_type": "code",
   "execution_count": null,
   "id": "e1264403-23f1-465b-b7d7-b2d89fd8cda4",
   "metadata": {},
   "outputs": [],
   "source": [
    "myobj.a"
   ]
  },
  {
   "cell_type": "code",
   "execution_count": null,
   "id": "eeae65f6-4d78-4c6a-b3a5-17a2b0619b44",
   "metadata": {},
   "outputs": [],
   "source": []
  }
 ],
 "metadata": {
  "kernelspec": {
   "display_name": "Python 3 (ipykernel)",
   "language": "python",
   "name": "python3"
  },
  "language_info": {
   "codemirror_mode": {
    "name": "ipython",
    "version": 3
   },
   "file_extension": ".py",
   "mimetype": "text/x-python",
   "name": "python",
   "nbconvert_exporter": "python",
   "pygments_lexer": "ipython3",
   "version": "3.9.5"
  }
 },
 "nbformat": 4,
 "nbformat_minor": 5
}
