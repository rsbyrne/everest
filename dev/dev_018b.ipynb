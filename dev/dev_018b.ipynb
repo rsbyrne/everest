{
 "cells": [
  {
   "cell_type": "code",
   "execution_count": null,
   "id": "54fb6972-6e94-4325-88b6-faaee4336d21",
   "metadata": {},
   "outputs": [],
   "source": [
    "###############################################################################\n",
    "import aliases"
   ]
  },
  {
   "cell_type": "code",
   "execution_count": null,
   "id": "d9573aaf-dda3-4778-ac3a-68bdb333566e",
   "metadata": {},
   "outputs": [],
   "source": [
    "import itertools"
   ]
  },
  {
   "cell_type": "code",
   "execution_count": null,
   "id": "08e96251-457e-4cc7-bc28-b799d55d72cd",
   "metadata": {},
   "outputs": [],
   "source": [
    "itertools."
   ]
  },
  {
   "cell_type": "code",
   "execution_count": null,
   "id": "144c9f25-c640-4d71-844f-78118331afd9",
   "metadata": {},
   "outputs": [],
   "source": []
  },
  {
   "cell_type": "code",
   "execution_count": null,
   "id": "0dc126b6-c787-4610-9879-14b8d1fed1be",
   "metadata": {},
   "outputs": [],
   "source": [
    "class MyClass:\n",
    "\n",
    "    a=1\n",
    "\n",
    "    def __getattr__(self, name, /):\n",
    "        return super().__getattribute__(name)"
   ]
  },
  {
   "cell_type": "code",
   "execution_count": null,
   "id": "cad81bec-91da-4e79-9ad7-6bf5cc156009",
   "metadata": {},
   "outputs": [],
   "source": [
    "myobj = MyClass()"
   ]
  },
  {
   "cell_type": "code",
   "execution_count": null,
   "id": "e1264403-23f1-465b-b7d7-b2d89fd8cda4",
   "metadata": {},
   "outputs": [],
   "source": [
    "myobj.a"
   ]
  },
  {
   "cell_type": "code",
   "execution_count": null,
   "id": "eeae65f6-4d78-4c6a-b3a5-17a2b0619b44",
   "metadata": {},
   "outputs": [],
   "source": [
    "def my_func(self, a: int):\n",
    "    ..."
   ]
  },
  {
   "cell_type": "code",
   "execution_count": null,
   "id": "791eda2e-59cf-4aed-ad9b-98deac254c2c",
   "metadata": {},
   "outputs": [],
   "source": [
    "next(iter(my_func.__annotations__.values()))"
   ]
  },
  {
   "cell_type": "code",
   "execution_count": null,
   "id": "32d878d0-086e-4059-bba0-279270d00d4e",
   "metadata": {},
   "outputs": [],
   "source": [
    "next(reversed(range(10)))"
   ]
  },
  {
   "cell_type": "code",
   "execution_count": null,
   "id": "7edcf37a-b8d6-4f69-ad2a-0695463d586a",
   "metadata": {},
   "outputs": [],
   "source": [
    "class A:\n",
    "\n",
    "    @property\n",
    "    def meth(self, /):\n",
    "        return lambda a: a**2\n",
    "\n",
    "\n",
    "class B(A):\n",
    "\n",
    "    def meth(self, arg, /):\n",
    "        if isinstance(arg, str):\n",
    "            return arg\n",
    "        return super().meth(arg)\n",
    "\n",
    "\n",
    "myobj = B()\n",
    "myobj.meth('foo')"
   ]
  },
  {
   "cell_type": "code",
   "execution_count": null,
   "id": "1edbb513-52bb-48b8-9131-eb8909e6d9c3",
   "metadata": {},
   "outputs": [],
   "source": [
    "myobj.meth(2)"
   ]
  },
  {
   "cell_type": "code",
   "execution_count": null,
   "id": "f56cdc3c-2a24-42f4-aabe-5f28be0651ab",
   "metadata": {},
   "outputs": [],
   "source": [
    "dict.get"
   ]
  }
 ],
 "metadata": {
  "kernelspec": {
   "display_name": "Python 3 (ipykernel)",
   "language": "python",
   "name": "python3"
  },
  "language_info": {
   "codemirror_mode": {
    "name": "ipython",
    "version": 3
   },
   "file_extension": ".py",
   "mimetype": "text/x-python",
   "name": "python",
   "nbconvert_exporter": "python",
   "pygments_lexer": "ipython3",
   "version": "3.9.5"
  }
 },
 "nbformat": 4,
 "nbformat_minor": 5
}
