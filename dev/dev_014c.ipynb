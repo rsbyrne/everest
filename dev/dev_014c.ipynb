{
 "cells": [
  {
   "cell_type": "code",
   "execution_count": null,
   "id": "59683f4c-09b4-4fff-9902-677671cb34ad",
   "metadata": {},
   "outputs": [],
   "source": [
    "###############################################################################\n",
    "import aliases"
   ]
  },
  {
   "cell_type": "code",
   "execution_count": null,
   "id": "81055b34-5ad4-4dea-8ec9-d7bc1597ac06",
   "metadata": {},
   "outputs": [],
   "source": [
    "from everest.ptolemaic.ptolemaic import Ptolemaic\n",
    "from everest.ptolemaic.resourcers import Resourcer"
   ]
  },
  {
   "cell_type": "code",
   "execution_count": null,
   "id": "c380e04e-a647-462c-9a65-8d6b0a9caae0",
   "metadata": {},
   "outputs": [],
   "source": [
    "myres = Resourcer(int)"
   ]
  },
  {
   "cell_type": "code",
   "execution_count": null,
   "id": "ca6e60bd-1246-47ac-83b0-6f5f38a9b4b5",
   "metadata": {},
   "outputs": [],
   "source": [
    "type(myres)"
   ]
  },
  {
   "cell_type": "code",
   "execution_count": null,
   "id": "6a11f830-a391-4b6b-a7ec-1a5ad33e63bd",
   "metadata": {},
   "outputs": [],
   "source": [
    "Resourcer(Ptolemaic)"
   ]
  },
  {
   "cell_type": "code",
   "execution_count": null,
   "id": "be84c692-b127-4e4b-9b1c-f0245eea675d",
   "metadata": {},
   "outputs": [],
   "source": [
    "myres"
   ]
  },
  {
   "cell_type": "code",
   "execution_count": null,
   "id": "a671d15a-9739-415c-b50a-22677b334399",
   "metadata": {},
   "outputs": [],
   "source": [
    "class MyClass:\n",
    "\n",
    "    @property\n",
    "    def constructor(self, /):\n",
    "        return 'foo'\n",
    "\n",
    "\n",
    "myobj = MyClass()\n",
    "myobj.constructor = 'bah'"
   ]
  },
  {
   "cell_type": "code",
   "execution_count": null,
   "id": "0aacc620-d1f0-43ca-b1d8-9d7feabfde2b",
   "metadata": {},
   "outputs": [],
   "source": []
  },
  {
   "cell_type": "code",
   "execution_count": null,
   "id": "a8e25aa9-d028-49f1-b5f7-5ff871a8027e",
   "metadata": {},
   "outputs": [],
   "source": [
    "class MyClass:\n",
    "\n",
    "    def __reduce__(self, /):\n",
    "        return 'everest.ptolemaic.ptolemaic.Ptolemaic'"
   ]
  },
  {
   "cell_type": "code",
   "execution_count": null,
   "id": "30f702e5-a422-4fb2-b5da-5c25a2d20968",
   "metadata": {},
   "outputs": [],
   "source": [
    "import pickle\n",
    "\n",
    "myobj = MyClass()\n",
    "\n",
    "pickle.dumps(myobj)"
   ]
  },
  {
   "cell_type": "code",
   "execution_count": null,
   "id": "b71d76c3-1a66-43be-b0f5-9f2681aa3ee9",
   "metadata": {},
   "outputs": [],
   "source": []
  },
  {
   "cell_type": "code",
   "execution_count": null,
   "id": "cbb95d7c-fc36-4bd0-9730-12d19921e3ed",
   "metadata": {},
   "outputs": [],
   "source": [
    "import weakref as _weakref\n",
    "\n",
    "\n",
    "class MyClass:\n",
    "    ...\n",
    "%timeit -n 10000 MyClass()\n",
    "\n",
    "class MyPtol1(Ptolemaic):\n",
    "    ...\n",
    "%timeit -n 10000 MyPtol1()\n",
    "\n",
    "\n",
    "class MyPtol2(Ptolemaic):\n",
    "\n",
    "    def initialise(self, /, *args, **kwargs):\n",
    "        self._softcache = dict()\n",
    "        self._weakcache = _weakref.WeakValueDictionary()\n",
    "        self.__init__(*args, **kwargs)\n",
    "\n",
    "    @classmethod\n",
    "    def construct(cls, /, *args, **kwargs):\n",
    "        obj = cls.create_object()\n",
    "        obj.initialise(*args, *kwargs)\n",
    "        return obj\n",
    "%timeit -n 10000 MyPtol2()"
   ]
  },
  {
   "cell_type": "code",
   "execution_count": null,
   "id": "d6399dbf-75c9-447c-a14e-aa7669a7802d",
   "metadata": {},
   "outputs": [],
   "source": [
    "object.__call__()"
   ]
  },
  {
   "cell_type": "code",
   "execution_count": null,
   "id": "1f680025-4475-4894-ba7f-adc9c3a92c8a",
   "metadata": {},
   "outputs": [],
   "source": [
    "class MyClass:\n",
    "\n",
    "    def my_meth1(self, /, *args, **kwargs):\n",
    "        return args\n",
    "\n",
    "    def my_meth2(self, /, *args, **kwargs):\n",
    "        return self.my_meth1(*args, **kwargs)\n",
    "\n",
    "    @property\n",
    "    def my_meth3(self, /):\n",
    "        return self.my_meth2\n",
    "\n",
    "myobj = MyClass()\n",
    "%timeit -n 100 myobj.my_meth1()\n",
    "%timeit -n 100 myobj.my_meth2()\n",
    "%timeit -n 100 myobj.my_meth3()"
   ]
  },
  {
   "cell_type": "code",
   "execution_count": null,
   "id": "c0c5ac3a-ab58-4e71-900e-5b6928ae166a",
   "metadata": {},
   "outputs": [],
   "source": [
    "class MetaA(type):\n",
    "    ...\n",
    "\n",
    "\n",
    "class MetaB(MetaA):\n",
    "    ...\n",
    "\n",
    "\n",
    "class MetaC(MetaA):\n",
    "    ...\n",
    "\n",
    "\n",
    "class MetaD(MetaB, MetaC):\n",
    "    ...\n",
    "\n",
    "\n",
    "class ClassA(metaclass=MetaB):\n",
    "    ..."
   ]
  },
  {
   "cell_type": "code",
   "execution_count": null,
   "id": "847fed67-b40e-409b-8ede-03f1a845790e",
   "metadata": {},
   "outputs": [],
   "source": [
    "class ClassB(ClassA, metaclass=MetaD):\n",
    "    ..."
   ]
  },
  {
   "cell_type": "code",
   "execution_count": null,
   "id": "fc0b4319-032c-41d8-92ad-232f1d28d496",
   "metadata": {},
   "outputs": [],
   "source": [
    "class Meta(type):\n",
    "\n",
    "    def reduce(cls, *args, **kwargs):\n",
    "        print('foo')\n",
    "\n",
    "\n",
    "class MyClass(metaclass=Meta):\n",
    "    ..."
   ]
  },
  {
   "cell_type": "code",
   "execution_count": null,
   "id": "bf4cca0e-581e-4c17-9d00-76a255a8fd19",
   "metadata": {},
   "outputs": [],
   "source": [
    "import pickle"
   ]
  },
  {
   "cell_type": "code",
   "execution_count": null,
   "id": "54112e7f-b254-4bb3-9da8-4163ecafbb28",
   "metadata": {},
   "outputs": [],
   "source": [
    "pickle.dumps(MyClass)"
   ]
  },
  {
   "cell_type": "code",
   "execution_count": null,
   "id": "935e3238-5d36-4ab6-a18e-f01a570b658f",
   "metadata": {},
   "outputs": [],
   "source": [
    "class Meta(type):\n",
    "\n",
    "    def reduce(cls, /):\n",
    "        print('foo')\n",
    "\n",
    "\n",
    "class MyClass(metaclass=Meta):\n",
    "\n",
    "    def reduce(self, /):\n",
    "        print('bah')\n",
    "\n",
    "\n",
    "import pickle\n",
    "pickle.dumps(MyClass)"
   ]
  },
  {
   "cell_type": "code",
   "execution_count": null,
   "id": "eb0b9367-5ed0-4ac0-a3b2-5312d62ab429",
   "metadata": {},
   "outputs": [],
   "source": [
    "myobj = MyClass()\n",
    "myobj.reduce()\n",
    "MyClass.reduce()"
   ]
  },
  {
   "cell_type": "code",
   "execution_count": null,
   "id": "c9a642b9-455e-4dc0-91b6-c830fdb6f76a",
   "metadata": {},
   "outputs": [],
   "source": [
    "MyClass.__reduce__"
   ]
  },
  {
   "cell_type": "code",
   "execution_count": null,
   "id": "337c5eff-89e3-4a9c-949a-d57c47682365",
   "metadata": {},
   "outputs": [],
   "source": [
    "MyClass.__reduce__()"
   ]
  },
  {
   "cell_type": "code",
   "execution_count": null,
   "id": "827f2e96-7119-4b55-b783-67c81924d510",
   "metadata": {},
   "outputs": [],
   "source": []
  }
 ],
 "metadata": {
  "kernelspec": {
   "display_name": "Python 3 (ipykernel)",
   "language": "python",
   "name": "python3"
  },
  "language_info": {
   "codemirror_mode": {
    "name": "ipython",
    "version": 3
   },
   "file_extension": ".py",
   "mimetype": "text/x-python",
   "name": "python",
   "nbconvert_exporter": "python",
   "pygments_lexer": "ipython3",
   "version": "3.9.5"
  }
 },
 "nbformat": 4,
 "nbformat_minor": 5
}
