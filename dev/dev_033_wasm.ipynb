{
 "cells": [
  {
   "cell_type": "markdown",
   "id": "19a209b2-eae7-4bfd-8bae-15cd2282f7b0",
   "metadata": {},
   "source": [
    "(module\n",
    "  (type (;0;) (func (param f64 f64) (result f64)))\n",
    "  (func $myadd (type 0) (param f64 f64) (result f64)\n",
    "    get_local 0\n",
    "    get_local 1\n",
    "    f64.add)\n",
    "  (export \"my_add\" (func $myadd))\n",
    ")\n",
    "Here are command lines to generate that base64 buffer:\n",
    "\n",
    "$ wat2wasm q.wat -o w.wasm\n",
    "$ base64 -w0 w.wasm ;echo\n",
    "AGFzbQEAAAABBwFgAnx8AXwDAgEABwoBBm15X2FkZAAACgkBBwAgACABoAs="
   ]
  }
 ],
 "metadata": {
  "kernelspec": {
   "display_name": "Python 3 (ipykernel)",
   "language": "python",
   "name": "python3"
  },
  "language_info": {
   "codemirror_mode": {
    "name": "ipython",
    "version": 3
   },
   "file_extension": ".py",
   "mimetype": "text/x-python",
   "name": "python",
   "nbconvert_exporter": "python",
   "pygments_lexer": "ipython3",
   "version": "3.9.5"
  }
 },
 "nbformat": 4,
 "nbformat_minor": 5
}
