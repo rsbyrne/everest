{
 "cells": [
  {
   "cell_type": "code",
   "execution_count": null,
   "id": "16f3f0c7-aad0-4652-88c8-aafe0d3eb62e",
   "metadata": {},
   "outputs": [],
   "source": [
    "import aliases"
   ]
  },
  {
   "cell_type": "code",
   "execution_count": null,
   "id": "1f232528-afd8-4d0f-af5e-def583f39c72",
   "metadata": {},
   "outputs": [],
   "source": [
    "import pickle"
   ]
  },
  {
   "cell_type": "code",
   "execution_count": null,
   "id": "1bf480c8-92e0-417a-8c28-b7ce997a685b",
   "metadata": {},
   "outputs": [],
   "source": [
    "from module import MyClass\n",
    "with open('dump.txt', mode='wb') as file:\n",
    "    file.write(pickle.dumps(MyClass))"
   ]
  },
  {
   "cell_type": "code",
   "execution_count": null,
   "id": "bf6e902f-eedc-4ec5-b0f7-5a0388615192",
   "metadata": {},
   "outputs": [],
   "source": [
    "with open('dump.txt', mode='rb') as file:\n",
    "    MyClass = pickle.loads(file.read())"
   ]
  },
  {
   "cell_type": "code",
   "execution_count": null,
   "id": "77e7c320-90d4-4514-8cbb-d0bd7dd5eb29",
   "metadata": {},
   "outputs": [],
   "source": [
    "MyClass.foo"
   ]
  },
  {
   "cell_type": "code",
   "execution_count": null,
   "id": "2be7be0a-e193-411c-a23a-f27f698ee824",
   "metadata": {},
   "outputs": [],
   "source": [
    "with open('dump.txt', mode='rb') as file:\n",
    "    binfrom = file.read()"
   ]
  },
  {
   "cell_type": "code",
   "execution_count": null,
   "id": "ba0fea0d-f040-4613-8916-099f7b5c613e",
   "metadata": {},
   "outputs": [],
   "source": [
    "binfrom"
   ]
  },
  {
   "cell_type": "code",
   "execution_count": null,
   "id": "490bf7c7-30f6-423d-9793-d32fc3c775f9",
   "metadata": {},
   "outputs": [],
   "source": []
  }
 ],
 "metadata": {
  "kernelspec": {
   "display_name": "Python 3 (ipykernel)",
   "language": "python",
   "name": "python3"
  },
  "language_info": {
   "codemirror_mode": {
    "name": "ipython",
    "version": 3
   },
   "file_extension": ".py",
   "mimetype": "text/x-python",
   "name": "python",
   "nbconvert_exporter": "python",
   "pygments_lexer": "ipython3",
   "version": "3.9.5"
  }
 },
 "nbformat": 4,
 "nbformat_minor": 5
}
