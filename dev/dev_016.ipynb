{
 "cells": [
  {
   "cell_type": "code",
   "execution_count": null,
   "id": "d0364e47-1a54-464e-9080-687859a47456",
   "metadata": {},
   "outputs": [],
   "source": [
    "###############################################################################\n",
    "import aliases"
   ]
  },
  {
   "cell_type": "code",
   "execution_count": null,
   "id": "5e45a4ba-b2a4-409b-a001-1a09feb17926",
   "metadata": {},
   "outputs": [],
   "source": [
    "from everest.ptolemaic.ptolemaic import Ptolemaic\n",
    "from everest.ptolemaic.corporealiser import Corporealiser as _Corporealiser\n",
    "from everest.ptolemaic.essence import Essence\n",
    "from everest.ptolemaic.bythos import Bythos\n",
    "from everest.ptolemaic.tekton import Tekton\n",
    "from everest.ptolemaic.ousia import Ousia\n",
    "# from everest.ptolemaic.schema import Schema"
   ]
  },
  {
   "cell_type": "code",
   "execution_count": null,
   "id": "5624b1e4-720f-4257-bb8d-d66dab236f21",
   "metadata": {},
   "outputs": [],
   "source": [
    "class MyEssence(metaclass=Essence):\n",
    "    ..."
   ]
  },
  {
   "cell_type": "code",
   "execution_count": null,
   "id": "35b747ea-c169-40e5-9602-1a486c5de2a9",
   "metadata": {},
   "outputs": [],
   "source": [
    "class MyBythos(MyEssence, metaclass=Bythos):\n",
    "    ..."
   ]
  },
  {
   "cell_type": "code",
   "execution_count": null,
   "id": "d9ab9629-ca43-45b8-ae55-0652b1fae9ef",
   "metadata": {},
   "outputs": [],
   "source": [
    "class MyTekton(MyBythos, metaclass=Tekton):\n",
    "    ..."
   ]
  },
  {
   "cell_type": "code",
   "execution_count": null,
   "id": "a9578c6c-8822-40d6-a236-03fa6097db6c",
   "metadata": {},
   "outputs": [],
   "source": [
    "class MyOusia(MyTekton, metaclass=Ousia):\n",
    "\n",
    "    _req_slots__ = ('a', 'b')\n",
    "\n",
    "    def __init__(self, a, b):\n",
    "        self.a, self.b = a, b\n",
    "\n",
    "    def meth(self, /):\n",
    "        return self.a * self.b"
   ]
  },
  {
   "cell_type": "code",
   "execution_count": null,
   "id": "519d548c-620c-4be4-a858-60567605aaff",
   "metadata": {},
   "outputs": [],
   "source": [
    "MyOusia.create_object()"
   ]
  },
  {
   "cell_type": "code",
   "execution_count": null,
   "id": "855a9c3c-f6db-4a61-8bc4-eef4cbe59b86",
   "metadata": {},
   "outputs": [],
   "source": [
    "MyOusia.__class_call__()"
   ]
  },
  {
   "cell_type": "code",
   "execution_count": null,
   "id": "4f21a8ff-332d-48aa-bf0e-cda74c571ba8",
   "metadata": {},
   "outputs": [],
   "source": [
    "myobj"
   ]
  },
  {
   "cell_type": "code",
   "execution_count": null,
   "id": "20babfb8-1b72-4cc3-848c-98294fc09837",
   "metadata": {},
   "outputs": [],
   "source": [
    "myobj = MyOusia(3, 5)\n",
    "display(myobj)\n",
    "myobj.meth()"
   ]
  },
  {
   "cell_type": "code",
   "execution_count": null,
   "id": "7339da73-b651-46b9-b8ec-acfbe4ce4b74",
   "metadata": {},
   "outputs": [],
   "source": [
    "# meta = Ousia\n",
    "# cls=MyOusia\n",
    "# with cls.clsmutable:\n",
    "#     cls.ConcreteMeta = type(\n",
    "#         f\"{meta.__name__}_ConcreteMeta\",\n",
    "#         (_Corporealiser, meta),\n",
    "#         dict(metabasecls=meta),\n",
    "#         )\n",
    "#     cls.Concrete = cls.ConcreteMeta\n",
    "#     cls.create_object = _functools.partial(cls.__new__, cls.Concrete)"
   ]
  },
  {
   "cell_type": "code",
   "execution_count": null,
   "id": "839ff5a4-df37-4e8c-80e3-97763aa65f02",
   "metadata": {},
   "outputs": [],
   "source": [
    "# class MyClass(Ptolemaic):\n",
    "#     __slots__ = ('a',)\n",
    "#     def get_epitaph(self, /):\n",
    "#         cls = self.__class__\n",
    "#         return cls.clstaphonomy.custom_epitaph(\"$cls()\", {'cls':cls})"
   ]
  }
 ],
 "metadata": {
  "kernelspec": {
   "display_name": "Python 3 (ipykernel)",
   "language": "python",
   "name": "python3"
  },
  "language_info": {
   "codemirror_mode": {
    "name": "ipython",
    "version": 3
   },
   "file_extension": ".py",
   "mimetype": "text/x-python",
   "name": "python",
   "nbconvert_exporter": "python",
   "pygments_lexer": "ipython3",
   "version": "3.9.5"
  }
 },
 "nbformat": 4,
 "nbformat_minor": 5
}
