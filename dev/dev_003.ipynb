{
 "cells": [
  {
   "cell_type": "code",
   "execution_count": 1,
   "id": "bd0694a6-f671-49fb-9a43-ec9cd44ba227",
   "metadata": {},
   "outputs": [],
   "source": [
    "###############################################################################\n",
    "\n",
    "import aliases"
   ]
  },
  {
   "cell_type": "code",
   "execution_count": 9,
   "id": "7e43aa36-b89c-4cbd-bbab-ac073ea9b5d9",
   "metadata": {},
   "outputs": [],
   "source": [
    "from everest.algebra.base import AlgebraMeta as _AlgebraMeta, AlgebraInstance as _AlgebraInstance"
   ]
  },
  {
   "cell_type": "code",
   "execution_count": 3,
   "id": "f1f3c349-8f88-4d1e-9a55-e9a8a3ea2a99",
   "metadata": {},
   "outputs": [
    {
     "name": "stdout",
     "output_type": "stream",
     "text": [
      "Sett('mysett', (<class 'str'>,))\n",
      "mysettElement('foo')\n"
     ]
    }
   ],
   "source": [
    "from everest.algebra.sett import Sett\n",
    "\n",
    "mysett = Sett('mysett', str)\n",
    "print(mysett)\n",
    "assert 'a' in mysett\n",
    "print(mysett['foo'])"
   ]
  },
  {
   "cell_type": "code",
   "execution_count": 6,
   "id": "ea9018ab-a04a-47a6-9e13-f8a155245005",
   "metadata": {},
   "outputs": [],
   "source": [
    "from everest.algebra.algebra import Algebra\n",
    "from everest.algebra.operation import *\n",
    "\n",
    "integers = Algebra(\n",
    "    'integers',\n",
    "    int,\n",
    "    zero=(zero := Nullary(name='zero')),\n",
    "    __pos__=(incr := Unary(name='increment')),\n",
    "    __neg__=Unary(name='negate', reversible=True),\n",
    "    __add__=Binary(\n",
    "        name='add',\n",
    "        associative=True, commutative=True, identity=zero\n",
    "        ),\n",
    "    __mul__=Binary(\n",
    "        name='multiply',\n",
    "        associative=True, commutative=True, identity=incr(zero), nullity=zero,\n",
    "        )\n",
    "    )"
   ]
  },
  {
   "cell_type": "code",
   "execution_count": 7,
   "id": "3140effe-f0e8-4cc5-914d-370a37cea4fd",
   "metadata": {},
   "outputs": [
    {
     "data": {
      "text/plain": [
       "integersElement(0)"
      ]
     },
     "execution_count": 7,
     "metadata": {},
     "output_type": "execute_result"
    }
   ],
   "source": [
    "integers[0]"
   ]
  },
  {
   "cell_type": "code",
   "execution_count": 8,
   "id": "331b98f0-de21-4b2e-af7c-fe331a378d86",
   "metadata": {},
   "outputs": [],
   "source": [
    "zero = integers.Element.zero"
   ]
  },
  {
   "cell_type": "code",
   "execution_count": null,
   "id": "4e26dff8-5992-4859-9245-f092e5ebf8fd",
   "metadata": {},
   "outputs": [],
   "source": [
    "+zero * +zero"
   ]
  },
  {
   "cell_type": "code",
   "execution_count": null,
   "id": "e00d593b-f0c3-498e-9aff-f120e488a55f",
   "metadata": {},
   "outputs": [],
   "source": [
    "one * zero"
   ]
  },
  {
   "cell_type": "code",
   "execution_count": null,
   "id": "bd6a7cf2-09a6-461f-84c2-821157d7f46d",
   "metadata": {},
   "outputs": [],
   "source": [
    "(+ one + one) * (one + one) * zero"
   ]
  },
  {
   "cell_type": "code",
   "execution_count": null,
   "id": "e446eb0e-a714-4978-9edc-77e181471c1f",
   "metadata": {},
   "outputs": [],
   "source": [
    "%%time\n",
    "++out + +++out"
   ]
  },
  {
   "cell_type": "code",
   "execution_count": null,
   "id": "4edb20d6-6f37-4c4c-9724-c4f62d688afc",
   "metadata": {},
   "outputs": [],
   "source": [
    "++out"
   ]
  },
  {
   "cell_type": "code",
   "execution_count": null,
   "id": "9768049c-8ab4-41b4-91cd-ee9537459b27",
   "metadata": {},
   "outputs": [],
   "source": [
    "out "
   ]
  },
  {
   "cell_type": "code",
   "execution_count": null,
   "id": "de28f3d5-e3be-4819-96da-8210820f1551",
   "metadata": {},
   "outputs": [],
   "source": [
    "naturals.operations[]"
   ]
  },
  {
   "cell_type": "code",
   "execution_count": null,
   "id": "df430a04-7920-45b0-a9b0-2a5721ef1053",
   "metadata": {},
   "outputs": [],
   "source": []
  },
  {
   "cell_type": "code",
   "execution_count": null,
   "id": "e845ef26-1acc-4e44-83a4-8af693a49e3f",
   "metadata": {},
   "outputs": [],
   "source": [
    "add(1, zero)"
   ]
  },
  {
   "cell_type": "code",
   "execution_count": null,
   "id": "4e52cbb9-c48f-43c2-8fec-2e1b2d82ee6f",
   "metadata": {},
   "outputs": [],
   "source": [
    "bool(None)"
   ]
  },
  {
   "cell_type": "code",
   "execution_count": null,
   "id": "89bfd5f9-44c9-479e-8332-2f136ef23bcd",
   "metadata": {},
   "outputs": [],
   "source": []
  }
 ],
 "metadata": {
  "kernelspec": {
   "display_name": "Python 3 (ipykernel)",
   "language": "python",
   "name": "python3"
  },
  "language_info": {
   "codemirror_mode": {
    "name": "ipython",
    "version": 3
   },
   "file_extension": ".py",
   "mimetype": "text/x-python",
   "name": "python",
   "nbconvert_exporter": "python",
   "pygments_lexer": "ipython3",
   "version": "3.9.5"
  }
 },
 "nbformat": 4,
 "nbformat_minor": 5
}
