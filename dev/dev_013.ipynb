{
 "cells": [
  {
   "cell_type": "code",
   "execution_count": null,
   "id": "f427663c-d5ce-413e-93a5-47afe7b9e6cd",
   "metadata": {},
   "outputs": [],
   "source": [
    "import aliases"
   ]
  },
  {
   "cell_type": "code",
   "execution_count": null,
   "id": "0eff8671-e883-4df5-90f0-d388d2b9c983",
   "metadata": {},
   "outputs": [],
   "source": [
    "from everest.ptolemaic.compound import Compound\n",
    "from everest.ptolemaic.params import Param, Sig\n",
    "from everest.ptolemaic.intt import Intt\n",
    "from everest.ptolemaic.eidos import Eidos\n"
   ]
  },
  {
   "cell_type": "code",
   "execution_count": null,
   "id": "0c2c15dd-bda7-47f2-b7f3-9496cb0f0072",
   "metadata": {},
   "outputs": [],
   "source": [
    "class MyClass(Compound):\n",
    "\n",
    "    _req_slots__ = ('foo',)\n",
    "\n",
    "    def __init__(self, *args):\n",
    "        self.foo = args"
   ]
  },
  {
   "cell_type": "code",
   "execution_count": null,
   "id": "4b26426d-34ab-49f6-9be2-14efc4fd97ca",
   "metadata": {},
   "outputs": [],
   "source": [
    "myobj = MyClass(1, (2, 3), {('a', 'b'): 4})"
   ]
  },
  {
   "cell_type": "code",
   "execution_count": null,
   "id": "dfee386d-cf6a-48a9-a851-88788e22902a",
   "metadata": {},
   "outputs": [],
   "source": [
    "myobj.argskwargs"
   ]
  },
  {
   "cell_type": "code",
   "execution_count": null,
   "id": "de631417-2f40-4507-8e90-12a6e02691c9",
   "metadata": {},
   "outputs": [],
   "source": [
    "myobj.foo"
   ]
  },
  {
   "cell_type": "code",
   "execution_count": null,
   "id": "dd0965ff-ce1d-4f09-afb6-7364c5997226",
   "metadata": {},
   "outputs": [],
   "source": [
    "Intt[2:5][0]"
   ]
  },
  {
   "cell_type": "code",
   "execution_count": null,
   "id": "5ede0792-c67a-44a5-9b51-177d289e4781",
   "metadata": {},
   "outputs": [],
   "source": [
    "myobj.argskwargs[0]"
   ]
  },
  {
   "cell_type": "code",
   "execution_count": null,
   "id": "70d0c8c0-2fc5-490a-bebb-9b625687a020",
   "metadata": {},
   "outputs": [],
   "source": [
    "type(myobj)"
   ]
  },
  {
   "cell_type": "code",
   "execution_count": null,
   "id": "e8ffaf89-8aeb-4bcc-aeba-db595e5e3c58",
   "metadata": {},
   "outputs": [],
   "source": [
    "par1 = Param('foo', Intt, 1)\n",
    "par2 = Param('bah', Intt, 2)"
   ]
  },
  {
   "cell_type": "code",
   "execution_count": null,
   "id": "78ab5c1c-0a13-4d04-8db6-7ae3609ce893",
   "metadata": {},
   "outputs": [],
   "source": [
    "mysig = Sig(par1, par2)"
   ]
  },
  {
   "cell_type": "code",
   "execution_count": null,
   "id": "d3dbfcec-1722-455a-9ed0-ef630b2f8623",
   "metadata": {},
   "outputs": [],
   "source": [
    "mysig()"
   ]
  },
  {
   "cell_type": "code",
   "execution_count": null,
   "id": "cb146b6d-1226-4ecc-b483-ce9efbd93aa8",
   "metadata": {},
   "outputs": [],
   "source": [
    "params = mysig(1, 2)"
   ]
  },
  {
   "cell_type": "code",
   "execution_count": null,
   "id": "adbeb25e-c9a1-4e5d-97e2-a09bd01f2d01",
   "metadata": {},
   "outputs": [],
   "source": [
    "params"
   ]
  },
  {
   "cell_type": "code",
   "execution_count": null,
   "id": "30de580e-4821-4652-8e18-ea0652e10ed7",
   "metadata": {},
   "outputs": [],
   "source": [
    "Intt(1)"
   ]
  },
  {
   "cell_type": "code",
   "execution_count": null,
   "id": "e33509ac-c437-4902-94d3-85dc2bf31847",
   "metadata": {},
   "outputs": [],
   "source": [
    "params.argumeants._obj"
   ]
  },
  {
   "cell_type": "code",
   "execution_count": null,
   "id": "ec920a0b-8f15-4871-a0ae-a942d440c8e8",
   "metadata": {},
   "outputs": [],
   "source": [
    "from everest.ptolemaic.compounds.collections import Mapp"
   ]
  },
  {
   "cell_type": "code",
   "execution_count": null,
   "id": "ec6a10d8-76d5-4e54-8ccf-dc943379951e",
   "metadata": {},
   "outputs": [],
   "source": [
    "mymap = Mapp(foo=int)"
   ]
  },
  {
   "cell_type": "code",
   "execution_count": null,
   "id": "8fc073dd-0fde-4dcf-97ae-173fae2ac6d1",
   "metadata": {},
   "outputs": [],
   "source": [
    "mymap.foo"
   ]
  },
  {
   "cell_type": "code",
   "execution_count": null,
   "id": "3da5ac70-1c8c-467f-8e05-12dda866b676",
   "metadata": {},
   "outputs": [],
   "source": [
    "mypar"
   ]
  },
  {
   "cell_type": "code",
   "execution_count": null,
   "id": "dfb70880-bcf4-4e5f-b6b6-ced503786ff6",
   "metadata": {},
   "outputs": [],
   "source": [
    "mypar[1::3][1]"
   ]
  },
  {
   "cell_type": "code",
   "execution_count": null,
   "id": "f1168ca9-d5bb-4e8f-87bc-09ef801a15eb",
   "metadata": {},
   "outputs": [],
   "source": [
    "tuple.__instancecheck__(())"
   ]
  },
  {
   "cell_type": "code",
   "execution_count": null,
   "id": "96dccc1a-0653-409a-894e-caa5330979c1",
   "metadata": {},
   "outputs": [],
   "source": [
    "class MyClass:\n",
    "    ...\n",
    "\n",
    "\n",
    "class MyClass2(MyClass, MyClass):\n",
    "    ..."
   ]
  },
  {
   "cell_type": "code",
   "execution_count": null,
   "id": "6cb23290-9541-42c5-9f05-86562b1450fa",
   "metadata": {},
   "outputs": [],
   "source": []
  },
  {
   "cell_type": "code",
   "execution_count": null,
   "id": "f9078387-076f-454e-bc9b-a063ac668ca6",
   "metadata": {},
   "outputs": [],
   "source": []
  },
  {
   "cell_type": "code",
   "execution_count": null,
   "id": "c67225f0-ab21-43ef-ae95-d2cf467d934c",
   "metadata": {},
   "outputs": [],
   "source": []
  },
  {
   "cell_type": "code",
   "execution_count": null,
   "id": "aac7642e-0d91-421e-844f-359cb5dbad01",
   "metadata": {},
   "outputs": [],
   "source": [
    "class MyCompound(Compound):\n",
    "\n",
    "    _req_slots__ = ('foo',)\n",
    "\n",
    "    def __init__(self, /, *args):\n",
    "        self.foo = args"
   ]
  },
  {
   "cell_type": "code",
   "execution_count": null,
   "id": "150af32c-ba70-4f03-8f67-cf963cf60016",
   "metadata": {},
   "outputs": [],
   "source": [
    "from everest.utilities.caching import soft_cache\n",
    "mycomp = MyCompound(1, int, soft_cache)"
   ]
  },
  {
   "cell_type": "code",
   "execution_count": null,
   "id": "43e294e6-e561-49cf-88e4-52fd849d931c",
   "metadata": {},
   "outputs": [],
   "source": [
    "mycomp"
   ]
  },
  {
   "cell_type": "code",
   "execution_count": null,
   "id": "61965a6c-e45f-4ae7-92f9-e0592a11fb69",
   "metadata": {},
   "outputs": [],
   "source": [
    "Importer(Compound)"
   ]
  },
  {
   "cell_type": "code",
   "execution_count": null,
   "id": "3670ed56-a058-4365-95cc-177ca6afe20b",
   "metadata": {},
   "outputs": [],
   "source": [
    "from everest.utilities.constructor import Constructor as _Constructor\n",
    "from everest.ptolemaic.compounds.compound import Compound as _Compound\n",
    "\n",
    "class Demiurge(_Compound, _Constructor):\n",
    "\n",
    "    @classmethod\n",
    "    def parameterise(cls, register, bases, namespace, /):\n",
    "        register(tuple(bases), dict(namespace))\n",
    "\n",
    "    def __init__(self, bases, namespace, /):\n",
    "        super().__init__(\n",
    "            lambda: type(self.hashID, bases._obj, namespace._obj)\n",
    "            )"
   ]
  },
  {
   "cell_type": "code",
   "execution_count": null,
   "id": "28cde63b-a701-4601-beb2-a5358c5de6a5",
   "metadata": {},
   "outputs": [],
   "source": [
    "from everest.ptolemaic.sprites.sprite import Sprite"
   ]
  },
  {
   "cell_type": "code",
   "execution_count": null,
   "id": "8f0e6013-7299-454c-9149-4894dc45974a",
   "metadata": {},
   "outputs": [],
   "source": [
    "class A(Sprite):\n",
    "\n",
    "    def __init__(self, a):\n",
    "        ...\n",
    "\n",
    "\n",
    "class B(Sprite):\n",
    "\n",
    "    def __init__(self, b):\n",
    "        ..."
   ]
  },
  {
   "cell_type": "code",
   "execution_count": null,
   "id": "2f713684-9868-4462-b4c2-567ca6b1f728",
   "metadata": {},
   "outputs": [],
   "source": [
    "mydemi = Demiurge((A, B), {'c': 'foo!'})"
   ]
  },
  {
   "cell_type": "code",
   "execution_count": null,
   "id": "47517aec-055f-42eb-ba9f-b81e225df117",
   "metadata": {},
   "outputs": [],
   "source": [
    "mydemi.params"
   ]
  },
  {
   "cell_type": "code",
   "execution_count": null,
   "id": "c3be293e-7b6d-47e5-aa49-e6962465279c",
   "metadata": {},
   "outputs": [],
   "source": []
  },
  {
   "cell_type": "code",
   "execution_count": null,
   "id": "c4b04a86-6c57-489b-9ec9-7910d60864fa",
   "metadata": {},
   "outputs": [],
   "source": [
    "mycls = mydemi()"
   ]
  },
  {
   "cell_type": "code",
   "execution_count": null,
   "id": "767a7e73-86df-484a-9133-18674ff8e823",
   "metadata": {},
   "outputs": [],
   "source": [
    "mycls(1)"
   ]
  },
  {
   "cell_type": "code",
   "execution_count": null,
   "id": "6b57e6ba-98c4-4c0f-8b9b-cf283234ce8f",
   "metadata": {},
   "outputs": [],
   "source": []
  }
 ],
 "metadata": {
  "kernelspec": {
   "display_name": "Python 3 (ipykernel)",
   "language": "python",
   "name": "python3"
  },
  "language_info": {
   "codemirror_mode": {
    "name": "ipython",
    "version": 3
   },
   "file_extension": ".py",
   "mimetype": "text/x-python",
   "name": "python",
   "nbconvert_exporter": "python",
   "pygments_lexer": "ipython3",
   "version": "3.9.5"
  }
 },
 "nbformat": 4,
 "nbformat_minor": 5
}
