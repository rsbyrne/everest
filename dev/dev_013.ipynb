{
 "cells": [
  {
   "cell_type": "code",
   "execution_count": null,
   "id": "f427663c-d5ce-413e-93a5-47afe7b9e6cd",
   "metadata": {},
   "outputs": [],
   "source": [
    "import aliases"
   ]
  },
  {
   "cell_type": "code",
   "execution_count": null,
   "id": "0eff8671-e883-4df5-90f0-d388d2b9c983",
   "metadata": {},
   "outputs": [],
   "source": [
    "from everest.ptolemaic.sprites import resourcers\n",
    "from everest.ptolemaic.compounds.compound import Compound"
   ]
  },
  {
   "cell_type": "code",
   "execution_count": null,
   "id": "aac7642e-0d91-421e-844f-359cb5dbad01",
   "metadata": {},
   "outputs": [],
   "source": [
    "class MyCompound(Compound):\n",
    "\n",
    "    _req_slots__ = ('foo',)\n",
    "\n",
    "    def __init__(self, /, *args):\n",
    "        self.foo = args"
   ]
  },
  {
   "cell_type": "code",
   "execution_count": null,
   "id": "150af32c-ba70-4f03-8f67-cf963cf60016",
   "metadata": {},
   "outputs": [],
   "source": [
    "from everest.utilities.caching import soft_cache\n",
    "mycomp = MyCompound(1, int, soft_cache)"
   ]
  },
  {
   "cell_type": "code",
   "execution_count": null,
   "id": "2b686015-1dcf-4c66-9868-549823cc692f",
   "metadata": {},
   "outputs": [],
   "source": [
    "mycomp.params"
   ]
  },
  {
   "cell_type": "code",
   "execution_count": null,
   "id": "43e294e6-e561-49cf-88e4-52fd849d931c",
   "metadata": {},
   "outputs": [],
   "source": [
    "mycomp.foo"
   ]
  },
  {
   "cell_type": "code",
   "execution_count": null,
   "id": "61965a6c-e45f-4ae7-92f9-e0592a11fb69",
   "metadata": {},
   "outputs": [],
   "source": [
    "Importer(Compound)"
   ]
  },
  {
   "cell_type": "code",
   "execution_count": null,
   "id": "3670ed56-a058-4365-95cc-177ca6afe20b",
   "metadata": {},
   "outputs": [],
   "source": [
    "from everest.utilities.constructor import Constructor as _Constructor\n",
    "from everest.ptolemaic.compounds.compound import Compound as _Compound\n",
    "\n",
    "class Demiurge(_Compound, _Constructor):\n",
    "\n",
    "    @classmethod\n",
    "    def parameterise(cls, register, bases, namespace, /):\n",
    "        register(tuple(bases), dict(namespace))\n",
    "\n",
    "    def __init__(self, bases, namespace, /):\n",
    "        super().__init__(\n",
    "            lambda: type(self.hashID, bases._obj, namespace._obj)\n",
    "            )"
   ]
  },
  {
   "cell_type": "code",
   "execution_count": null,
   "id": "28cde63b-a701-4601-beb2-a5358c5de6a5",
   "metadata": {},
   "outputs": [],
   "source": [
    "from everest.ptolemaic.sprites.sprite import Sprite"
   ]
  },
  {
   "cell_type": "code",
   "execution_count": null,
   "id": "8f0e6013-7299-454c-9149-4894dc45974a",
   "metadata": {},
   "outputs": [],
   "source": [
    "class A(Sprite):\n",
    "\n",
    "    def __init__(self, a):\n",
    "        ...\n",
    "\n",
    "\n",
    "class B(Sprite):\n",
    "\n",
    "    def __init__(self, b):\n",
    "        ..."
   ]
  },
  {
   "cell_type": "code",
   "execution_count": null,
   "id": "2f713684-9868-4462-b4c2-567ca6b1f728",
   "metadata": {},
   "outputs": [],
   "source": [
    "mydemi = Demiurge((A, B), {'c': 'foo!'})"
   ]
  },
  {
   "cell_type": "code",
   "execution_count": null,
   "id": "47517aec-055f-42eb-ba9f-b81e225df117",
   "metadata": {},
   "outputs": [],
   "source": [
    "mydemi.params"
   ]
  },
  {
   "cell_type": "code",
   "execution_count": null,
   "id": "c3be293e-7b6d-47e5-aa49-e6962465279c",
   "metadata": {},
   "outputs": [],
   "source": []
  },
  {
   "cell_type": "code",
   "execution_count": null,
   "id": "c4b04a86-6c57-489b-9ec9-7910d60864fa",
   "metadata": {},
   "outputs": [],
   "source": [
    "mycls = mydemi()"
   ]
  },
  {
   "cell_type": "code",
   "execution_count": null,
   "id": "767a7e73-86df-484a-9133-18674ff8e823",
   "metadata": {},
   "outputs": [],
   "source": [
    "mycls(1)"
   ]
  },
  {
   "cell_type": "code",
   "execution_count": null,
   "id": "6b57e6ba-98c4-4c0f-8b9b-cf283234ce8f",
   "metadata": {},
   "outputs": [],
   "source": []
  }
 ],
 "metadata": {
  "kernelspec": {
   "display_name": "Python 3 (ipykernel)",
   "language": "python",
   "name": "python3"
  },
  "language_info": {
   "codemirror_mode": {
    "name": "ipython",
    "version": 3
   },
   "file_extension": ".py",
   "mimetype": "text/x-python",
   "name": "python",
   "nbconvert_exporter": "python",
   "pygments_lexer": "ipython3",
   "version": "3.9.5"
  }
 },
 "nbformat": 4,
 "nbformat_minor": 5
}
