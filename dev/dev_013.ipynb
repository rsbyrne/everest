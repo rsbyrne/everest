{
 "cells": [
  {
   "cell_type": "code",
   "execution_count": null,
   "id": "f427663c-d5ce-413e-93a5-47afe7b9e6cd",
   "metadata": {},
   "outputs": [],
   "source": [
    "import aliases"
   ]
  },
  {
   "cell_type": "code",
   "execution_count": null,
   "id": "0eff8671-e883-4df5-90f0-d388d2b9c983",
   "metadata": {},
   "outputs": [],
   "source": [
    "from everest.ptolemaic.sprites.importer import Importer\n",
    "from everest.ptolemaic.compounds.compound import Compound"
   ]
  },
  {
   "cell_type": "code",
   "execution_count": null,
   "id": "61965a6c-e45f-4ae7-92f9-e0592a11fb69",
   "metadata": {},
   "outputs": [],
   "source": [
    "Importer(Compound)"
   ]
  },
  {
   "cell_type": "code",
   "execution_count": null,
   "id": "8e0855c5-f1b9-49e1-a7d2-8b9944249578",
   "metadata": {},
   "outputs": [],
   "source": []
  },
  {
   "cell_type": "code",
   "execution_count": null,
   "id": "f0624ec0-e0e6-4667-af1f-97019e280f31",
   "metadata": {},
   "outputs": [],
   "source": [
    "makefn = lambda: type('Foo', (), {})()"
   ]
  },
  {
   "cell_type": "code",
   "execution_count": null,
   "id": "7632aafc-62c7-4737-bc6c-2cf93cac86d3",
   "metadata": {},
   "outputs": [],
   "source": [
    "const = Constructor(makefn)"
   ]
  },
  {
   "cell_type": "code",
   "execution_count": null,
   "id": "1d180890-958f-4c8f-9731-6bd879b01a8e",
   "metadata": {},
   "outputs": [],
   "source": [
    "myobj = const()\n",
    "print(myobj)\n",
    "del myobj\n",
    "myobj = const()\n",
    "print(myobj)"
   ]
  },
  {
   "cell_type": "code",
   "execution_count": null,
   "id": "64cb89f8-844f-4176-a805-4c9214fa67d4",
   "metadata": {},
   "outputs": [],
   "source": [
    "del myobj"
   ]
  },
  {
   "cell_type": "code",
   "execution_count": null,
   "id": "ecde2818-f6a9-4f64-9343-852432b64d1e",
   "metadata": {},
   "outputs": [],
   "source": [
    "c"
   ]
  },
  {
   "cell_type": "code",
   "execution_count": null,
   "id": "bde6d2ae-4516-4bf7-bd9e-a2fc02012505",
   "metadata": {},
   "outputs": [],
   "source": [
    "Importer(Sprite)()"
   ]
  },
  {
   "cell_type": "code",
   "execution_count": null,
   "id": "66ccfd62-5992-45cd-908c-f4a278f17e5f",
   "metadata": {},
   "outputs": [],
   "source": [
    "class MyClass:\n",
    "    class MyInner:\n",
    "        class MyInnerInner:\n",
    "            ..."
   ]
  },
  {
   "cell_type": "code",
   "execution_count": null,
   "id": "6357159e-7f44-42e1-85e2-b18cb89d38ef",
   "metadata": {},
   "outputs": [],
   "source": [
    "MyClass.MyInner.MyInnerInner.__qualname__"
   ]
  },
  {
   "cell_type": "code",
   "execution_count": null,
   "id": "724ffcf4-3c54-4b05-93e4-7fe623cd23bb",
   "metadata": {},
   "outputs": [],
   "source": [
    "getattr(MyClass, 'MyInner.MyInnerInner')"
   ]
  },
  {
   "cell_type": "code",
   "execution_count": null,
   "id": "aa3220bf-5e47-4dfc-9a13-21b4284ecd1f",
   "metadata": {},
   "outputs": [],
   "source": [
    "ge"
   ]
  },
  {
   "cell_type": "code",
   "execution_count": null,
   "id": "7cef44dd-6118-431a-a096-debf4fc902d7",
   "metadata": {},
   "outputs": [],
   "source": [
    "_inspect.getmodule(Sprite).__qualname__"
   ]
  },
  {
   "cell_type": "code",
   "execution_count": null,
   "id": "39fcdcb1-354a-4761-899d-5e40c3edda8e",
   "metadata": {},
   "outputs": [],
   "source": [
    "myimp = Importer('Sprite', 'everest.ptolemaic.sprite')"
   ]
  },
  {
   "cell_type": "code",
   "execution_count": null,
   "id": "a08fc891-727a-448c-8b6b-197de215c50f",
   "metadata": {},
   "outputs": [],
   "source": [
    "myimp()"
   ]
  },
  {
   "cell_type": "code",
   "execution_count": null,
   "id": "25f870cd-db80-44a5-9f54-9d5c3b72c741",
   "metadata": {},
   "outputs": [],
   "source": [
    "Sprite.__qualname__"
   ]
  },
  {
   "cell_type": "code",
   "execution_count": null,
   "id": "3b66bd6a-f632-483e-a020-2399eca234ee",
   "metadata": {},
   "outputs": [],
   "source": [
    "i"
   ]
  },
  {
   "cell_type": "code",
   "execution_count": null,
   "id": "9fbc81de-5439-49e4-b177-0bc8ddcb1522",
   "metadata": {},
   "outputs": [],
   "source": []
  },
  {
   "cell_type": "code",
   "execution_count": null,
   "id": "581fcd4d-7c00-40dc-b3ce-cbed736c0e32",
   "metadata": {},
   "outputs": [],
   "source": []
  },
  {
   "cell_type": "code",
   "execution_count": null,
   "id": "7ca9f13e-cfe8-4766-a6f2-75d5981b73cc",
   "metadata": {},
   "outputs": [],
   "source": [
    "import importlib as _importlib\n"
   ]
  },
  {
   "cell_type": "code",
   "execution_count": null,
   "id": "572306c5-9209-4ff2-aa35-4fac8e733cdb",
   "metadata": {},
   "outputs": [],
   "source": [
    "_importlib.import_module"
   ]
  },
  {
   "cell_type": "code",
   "execution_count": null,
   "id": "3670ed56-a058-4365-95cc-177ca6afe20b",
   "metadata": {},
   "outputs": [],
   "source": [
    "import weakref as _weakref\n",
    "\n",
    "\n",
    "class DynamicConstructor(Ptolemaic, ClassConstructor):\n",
    "\n",
    "    _req_slots__ = ('bases', 'namespace')\n",
    "\n",
    "    preclasses = _weakref.WeakValueDictionary()\n",
    "\n",
    "    @classmethod\n",
    "    def parameterise(cls, register, bases, namespace, /):\n",
    "        register(\n",
    "            tuple(bases),\n",
    "            dict(namespace),\n",
    "            )\n",
    "\n",
    "    def __init__(self, bases, namespace, /):\n",
    "        self.bases, self.namespace = bases, namespace\n",
    "\n",
    "    @classmethod\n",
    "    def __class_getitem__(cls, arg, /):\n",
    "        return self.preclasses[arg]\n",
    "\n",
    "    def __call__(self, /):\n",
    "        hashcode = self.hashID\n",
    "        if hashcode in (dct := type(self).preclasses):\n",
    "            return dct[hashcode]\n",
    "        return type(hashcode, self.bases._obj, self.namespace._obj)"
   ]
  }
 ],
 "metadata": {
  "kernelspec": {
   "display_name": "Python 3 (ipykernel)",
   "language": "python",
   "name": "python3"
  },
  "language_info": {
   "codemirror_mode": {
    "name": "ipython",
    "version": 3
   },
   "file_extension": ".py",
   "mimetype": "text/x-python",
   "name": "python",
   "nbconvert_exporter": "python",
   "pygments_lexer": "ipython3",
   "version": "3.9.5"
  }
 },
 "nbformat": 4,
 "nbformat_minor": 5
}
