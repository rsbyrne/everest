{
 "cells": [
  {
   "cell_type": "code",
   "execution_count": null,
   "id": "70e09374-9500-4516-9ec5-0abfa6a15813",
   "metadata": {},
   "outputs": [],
   "source": [
    "###############################################################################\n",
    "import aliases"
   ]
  },
  {
   "cell_type": "code",
   "execution_count": null,
   "id": "1745c313-1251-4be8-9638-f99b9c6acc2b",
   "metadata": {},
   "outputs": [],
   "source": [
    "from everest.ptolemaic.schema import Schema as _Schema\n",
    "from everest.ptolemaic.params import Param as _Param"
   ]
  },
  {
   "cell_type": "code",
   "execution_count": null,
   "id": "f158d700-cf55-42a8-8717-a3c0d2bc9ecd",
   "metadata": {},
   "outputs": [],
   "source": [
    "mypar = _Param()"
   ]
  },
  {
   "cell_type": "code",
   "execution_count": null,
   "id": "eb388db5-7ba9-448d-adae-09f6267e303d",
   "metadata": {},
   "outputs": [],
   "source": [
    "_Param[[1, 2, 3]][0].epitaph.decode()"
   ]
  },
  {
   "cell_type": "code",
   "execution_count": null,
   "id": "214ed371-0e79-4b92-b65a-63441c495e91",
   "metadata": {},
   "outputs": [],
   "source": [
    "mypar"
   ]
  },
  {
   "cell_type": "code",
   "execution_count": null,
   "id": "38ee43e9-d3e7-4b20-8003-65bff1ccf832",
   "metadata": {},
   "outputs": [],
   "source": [
    "class MyClass(metaclass=_Schema):\n",
    "\n",
    "    a: int\n",
    "    b: float\n",
    "    c: str = 'a'\n",
    "\n",
    "    _extra_annotations__ = dict(d=float)"
   ]
  },
  {
   "cell_type": "code",
   "execution_count": null,
   "id": "742ca3be-1306-4c4d-b34d-a0a4b02a519d",
   "metadata": {},
   "outputs": [],
   "source": [
    "MyClass(1, 2.).epitaph.decode() is MyClass(1, 2.)"
   ]
  },
  {
   "cell_type": "code",
   "execution_count": null,
   "id": "0f4f0b3f-3f85-4785-b104-006fcdcaa5a6",
   "metadata": {},
   "outputs": [],
   "source": [
    "MyClass.class_trivial(1)"
   ]
  },
  {
   "cell_type": "code",
   "execution_count": null,
   "id": "59a4fd95-45ee-464e-b96b-c1d041865f83",
   "metadata": {},
   "outputs": [],
   "source": [
    "MyClass.classchora.retrieve(1)"
   ]
  },
  {
   "cell_type": "code",
   "execution_count": null,
   "id": "56bf7c5a-f7d1-4f26-be56-2e0a178f91bb",
   "metadata": {},
   "outputs": [],
   "source": [
    "MyClass.classchora.retrieve_contains(1)"
   ]
  },
  {
   "cell_type": "code",
   "execution_count": null,
   "id": "f1fe61f1-f204-46dd-a2f4-e1434b4b01a9",
   "metadata": {},
   "outputs": [],
   "source": [
    "MyClass[:]"
   ]
  },
  {
   "cell_type": "code",
   "execution_count": null,
   "id": "7df3f5f8-00bc-4007-8c2d-91edc8921ef5",
   "metadata": {},
   "outputs": [],
   "source": []
  }
 ],
 "metadata": {
  "kernelspec": {
   "display_name": "Python 3 (ipykernel)",
   "language": "python",
   "name": "python3"
  },
  "language_info": {
   "codemirror_mode": {
    "name": "ipython",
    "version": 3
   },
   "file_extension": ".py",
   "mimetype": "text/x-python",
   "name": "python",
   "nbconvert_exporter": "python",
   "pygments_lexer": "ipython3",
   "version": "3.9.5"
  }
 },
 "nbformat": 4,
 "nbformat_minor": 5
}
