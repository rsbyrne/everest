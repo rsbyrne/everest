{
 "cells": [
  {
   "cell_type": "code",
   "execution_count": null,
   "id": "70e09374-9500-4516-9ec5-0abfa6a15813",
   "metadata": {},
   "outputs": [],
   "source": [
    "###############################################################################\n",
    "import aliases"
   ]
  },
  {
   "cell_type": "code",
   "execution_count": null,
   "id": "aea53c6c-bebf-4c4d-9be5-10b395407af0",
   "metadata": {},
   "outputs": [],
   "source": [
    "from everest.ptolemaic.essence import Essence\n",
    "from everest.ptolemaic.protean import Protean"
   ]
  },
  {
   "cell_type": "code",
   "execution_count": null,
   "id": "9a66fc18-e552-4b60-bc88-528092ebab17",
   "metadata": {},
   "outputs": [],
   "source": [
    "import abc as _abc\n",
    "\n",
    "\n",
    "class Evaluable(metaclass=Essence):\n",
    "\n",
    "    _req_slots__ = ('_value',)\n",
    "    _var_slots__ = ('value', '_value',)\n",
    "\n",
    "    @property\n",
    "    def value(self, /):\n",
    "        return self.evaluate()\n",
    "\n",
    "    @value.setter\n",
    "    def value(self, val, /):\n",
    "        self.set_value(val)\n",
    "        \n",
    "    def set_value(self, val, /):\n",
    "        raise TypeError(\"Value setting not supported on this `Evaluable`.\")\n",
    "\n",
    "    @_abc.abstractmethod\n",
    "    def evaluate(self, /):\n",
    "        raise NotImplementedError"
   ]
  },
  {
   "cell_type": "code",
   "execution_count": null,
   "id": "b9aad2fa-4a2d-4685-a84c-11440ab59892",
   "metadata": {},
   "outputs": [],
   "source": [
    "class Variable(Evaluable, metaclass=Protean):\n",
    "\n",
    "    def __init__(self, /):\n",
    "        self._value = None\n",
    "\n",
    "    def set_value(self, val, /):\n",
    "        self._value = val\n",
    "\n",
    "    def evaluate(self, /):\n",
    "        return self._value"
   ]
  },
  {
   "cell_type": "code",
   "execution_count": null,
   "id": "bf292060-ef29-44f4-9459-ed3b84870021",
   "metadata": {},
   "outputs": [],
   "source": [
    "myvar = Variable()"
   ]
  },
  {
   "cell_type": "code",
   "execution_count": null,
   "id": "05bfe420-1f89-430c-889d-5998e3ed368e",
   "metadata": {},
   "outputs": [],
   "source": [
    "myvar._alt_setattr__('_value', 1)"
   ]
  },
  {
   "cell_type": "code",
   "execution_count": null,
   "id": "35196168-b78f-4311-9446-53e577893011",
   "metadata": {},
   "outputs": [],
   "source": [
    "myvar._var_slots__"
   ]
  },
  {
   "cell_type": "code",
   "execution_count": null,
   "id": "2effaf14-369d-47f6-9aeb-cfeb21462d5e",
   "metadata": {},
   "outputs": [],
   "source": [
    "myvar._value = 1"
   ]
  },
  {
   "cell_type": "code",
   "execution_count": null,
   "id": "b611872f-186a-4d4a-a74e-6fa6777c718c",
   "metadata": {},
   "outputs": [],
   "source": [
    "myvar.value = 1"
   ]
  },
  {
   "cell_type": "code",
   "execution_count": null,
   "id": "19595cf6-7cf5-4a49-ac06-3643276593be",
   "metadata": {},
   "outputs": [],
   "source": [
    "myvar.value"
   ]
  },
  {
   "cell_type": "code",
   "execution_count": null,
   "id": "5276028a-d781-4c20-afca-865e739fce32",
   "metadata": {},
   "outputs": [],
   "source": [
    "import abc as _abc\n",
    "\n",
    "\n",
    "class MyClass(metaclass=Protean):\n",
    "\n",
    "    _req_slots__ = ('a', 'b')\n",
    "\n",
    "    def __init__(self, a, b):\n",
    "        self.a, self.b = a, b\n",
    "\n",
    "    def meth(self, /):\n",
    "        return self.a * self.b\n",
    "\n",
    "    @_abc.abstractmethod\n",
    "    def foo(self, /):\n",
    "        raise NotImplementedError"
   ]
  },
  {
   "cell_type": "code",
   "execution_count": null,
   "id": "53f3c159-3467-45cd-9591-e3af7d483377",
   "metadata": {},
   "outputs": [],
   "source": [
    "obj1 = MyClass(3, 4)\n",
    "obj2 = MyClass(3, 4)\n",
    "obj3 = MyClass(4, 5)"
   ]
  },
  {
   "cell_type": "code",
   "execution_count": null,
   "id": "82d888a0-5df1-4f39-87a7-65afe38bfcc2",
   "metadata": {},
   "outputs": [],
   "source": [
    "sorted((obj1, obj2, obj3))"
   ]
  }
 ],
 "metadata": {
  "kernelspec": {
   "display_name": "Python 3 (ipykernel)",
   "language": "python",
   "name": "python3"
  },
  "language_info": {
   "codemirror_mode": {
    "name": "ipython",
    "version": 3
   },
   "file_extension": ".py",
   "mimetype": "text/x-python",
   "name": "python",
   "nbconvert_exporter": "python",
   "pygments_lexer": "ipython3",
   "version": "3.9.5"
  }
 },
 "nbformat": 4,
 "nbformat_minor": 5
}
