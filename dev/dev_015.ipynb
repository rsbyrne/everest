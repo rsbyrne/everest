{
 "cells": [
  {
   "cell_type": "code",
   "execution_count": null,
   "id": "70e09374-9500-4516-9ec5-0abfa6a15813",
   "metadata": {},
   "outputs": [],
   "source": [
    "###############################################################################\n",
    "import aliases"
   ]
  },
  {
   "cell_type": "code",
   "execution_count": null,
   "id": "165bc925-af25-4eb3-b94a-513b7900e7e7",
   "metadata": {},
   "outputs": [],
   "source": [
    "from everest.ptolemaic.tekton import Tekton\n",
    "from everest.ptolemaic.ousia import Ousia\n",
    "from everest.ptolemaic.schema import Schema, Param, Sig"
   ]
  },
  {
   "cell_type": "code",
   "execution_count": null,
   "id": "9b300238-414c-451d-b2a6-3d2b71f5e60e",
   "metadata": {},
   "outputs": [],
   "source": [
    "import numpy as np\n",
    "\n",
    "\n",
    "class MyClass(metaclass=Schema):\n",
    "    ...\n",
    "    a: int\n",
    "    b: float\n",
    "    c: str\n",
    "\n",
    "    _extra_annotations__ = dict(d=int)\n",
    "\n",
    "    def __init__(self, /):\n",
    "        print(self.a)"
   ]
  },
  {
   "cell_type": "code",
   "execution_count": null,
   "id": "199ca531-ea6f-4b86-84cf-2191152564b1",
   "metadata": {},
   "outputs": [],
   "source": [
    "myobj = MyClass(1, 2, 3, 4)\n",
    "myobj"
   ]
  },
  {
   "cell_type": "code",
   "execution_count": null,
   "id": "760498f5-5d96-4e1a-82d0-e9b1d93644b9",
   "metadata": {},
   "outputs": [],
   "source": [
    "myobj.epitaph.decode()"
   ]
  },
  {
   "cell_type": "code",
   "execution_count": null,
   "id": "5f3deec5-0ad0-4a59-bed8-9344ac2d1ad6",
   "metadata": {},
   "outputs": [],
   "source": [
    "@classmethod\n",
    "def dynamic_class_epitaph(cls, /):\n",
    "    return cls.__dict__['_epitaph']\n",
    "\n",
    "\n",
    "class Demiurge(metaclass=Tekton):\n",
    "\n",
    "    @classmethod\n",
    "    def call(cls,\n",
    "            name: str, bases: tuple = (), /,\n",
    "            annotations: dict = None, namespace: dict = None\n",
    "            ):\n",
    "        taph = cls.taphonomy\n",
    "        epitaph = taph.custom_epitaph(*taph.posformat_callsig(\n",
    "            cls, name, bases, annotations, namespace,\n",
    "            ))\n",
    "        if namespace is None:\n",
    "            namespace = {}\n",
    "        if annotations is not None:\n",
    "            namespace['_extra_annotations__'] = annotations\n",
    "        namespace['get_class_epitaph'] = dynamic_class_epitaph\n",
    "        namespace['_epitaph'] = epitaph\n",
    "        outcls = Schema(name, bases, namespace)\n",
    "        return outcls"
   ]
  },
  {
   "cell_type": "code",
   "execution_count": null,
   "id": "92450d87-5205-458c-ba4b-7d3825520068",
   "metadata": {},
   "outputs": [],
   "source": [
    "def my_meth(self, /):\n",
    "    return self.a * self.b\n",
    "\n",
    "newcls = Demiurge(\n",
    "    'Foo',\n",
    "    annotations=dict(a=int, b=float),\n",
    "    namespace=dict(meth=my_meth),\n",
    "    )"
   ]
  },
  {
   "cell_type": "code",
   "execution_count": null,
   "id": "3faa557e-ea64-4cef-8eb3-2b1203f1bcf7",
   "metadata": {},
   "outputs": [],
   "source": [
    "myobj = newcls()"
   ]
  },
  {
   "cell_type": "code",
   "execution_count": null,
   "id": "b3724b44-51fc-4380-94c4-b0482eb6b4c5",
   "metadata": {},
   "outputs": [],
   "source": [
    "newcls.epitaph.content"
   ]
  },
  {
   "cell_type": "code",
   "execution_count": null,
   "id": "cbb5dc0a-bae9-43c0-8e1f-06242360869d",
   "metadata": {},
   "outputs": [],
   "source": [
    "newcls.epitaph.decode()"
   ]
  },
  {
   "cell_type": "code",
   "execution_count": null,
   "id": "d43d10b6-8c88-4183-b328-42af897cd133",
   "metadata": {},
   "outputs": [],
   "source": [
    "myobj = out(3, 2)"
   ]
  },
  {
   "cell_type": "code",
   "execution_count": null,
   "id": "1ba2bbf3-f7b9-41b2-a529-9a36c2f923c9",
   "metadata": {},
   "outputs": [],
   "source": [
    "myobj.meth()"
   ]
  },
  {
   "cell_type": "code",
   "execution_count": null,
   "id": "1384d492-bb87-4721-a2fc-3e21cd84c8c1",
   "metadata": {},
   "outputs": [],
   "source": [
    "mydict = dict()"
   ]
  },
  {
   "cell_type": "code",
   "execution_count": null,
   "id": "666bfe9e-c9ce-44c0-aa2c-511c764f4086",
   "metadata": {},
   "outputs": [],
   "source": [
    "sorted(range(10), key=(lambda x: x < 3))"
   ]
  },
  {
   "cell_type": "code",
   "execution_count": null,
   "id": "2db0beb7-7b66-4b33-82b6-e96145e7fc0c",
   "metadata": {},
   "outputs": [],
   "source": [
    "from everest.ptolemaic.schema import KINDS"
   ]
  },
  {
   "cell_type": "code",
   "execution_count": null,
   "id": "b7289c8c-372e-4891-a55b-6eae73a1fe32",
   "metadata": {},
   "outputs": [],
   "source": [
    "kinds = tuple(KINDS.values())"
   ]
  },
  {
   "cell_type": "code",
   "execution_count": null,
   "id": "cbce5ee5-4e58-4f36-8511-3036ed9d69cc",
   "metadata": {},
   "outputs": [],
   "source": [
    "kinds[0] > kinds[1]"
   ]
  },
  {
   "cell_type": "code",
   "execution_count": null,
   "id": "4d38a4b9-31fb-4716-8a9c-26a85e6f25a5",
   "metadata": {},
   "outputs": [],
   "source": [
    "mydict"
   ]
  },
  {
   "cell_type": "code",
   "execution_count": null,
   "id": "5090dc19-4b3a-4bdb-973e-ae06f1ce1f69",
   "metadata": {},
   "outputs": [],
   "source": [
    "dir(mydict)"
   ]
  },
  {
   "cell_type": "code",
   "execution_count": null,
   "id": "6a4f8c14-75fe-4ab3-9efd-ec5c4ae668c5",
   "metadata": {},
   "outputs": [],
   "source": [
    "mydict = dict(a=5, b=4, c=3, d=2, e=1)"
   ]
  },
  {
   "cell_type": "code",
   "execution_count": null,
   "id": "8cf5f5f0-9056-4702-a0ea-be712e5706e8",
   "metadata": {},
   "outputs": [],
   "source": [
    "dict(**sorted(mydict.items(), key=(lambda x: x[1])))"
   ]
  },
  {
   "cell_type": "code",
   "execution_count": null,
   "id": "a342e6f6-4702-43b0-9869-4c37316b00bf",
   "metadata": {},
   "outputs": [],
   "source": []
  }
 ],
 "metadata": {
  "kernelspec": {
   "display_name": "Python 3 (ipykernel)",
   "language": "python",
   "name": "python3"
  },
  "language_info": {
   "codemirror_mode": {
    "name": "ipython",
    "version": 3
   },
   "file_extension": ".py",
   "mimetype": "text/x-python",
   "name": "python",
   "nbconvert_exporter": "python",
   "pygments_lexer": "ipython3",
   "version": "3.9.5"
  }
 },
 "nbformat": 4,
 "nbformat_minor": 5
}
