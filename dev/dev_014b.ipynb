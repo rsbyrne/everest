{
 "cells": [
  {
   "cell_type": "code",
   "execution_count": null,
   "id": "bda6a189-f73c-41be-9d25-5a6516e2cf9e",
   "metadata": {},
   "outputs": [],
   "source": [
    "###############################################################################\n",
    "import aliases"
   ]
  },
  {
   "cell_type": "code",
   "execution_count": null,
   "id": "b62003f3-a690-4b27-83eb-ad57c8040482",
   "metadata": {},
   "outputs": [],
   "source": [
    "from everest.ptolemaic.essence import Essence, Shade\n",
    "from everest.ptolemaic.ousia import Ousia, Sprite\n",
    "from everest.ptolemaic.eidos import Eidos, Sollus"
   ]
  },
  {
   "cell_type": "code",
   "execution_count": null,
   "id": "d705881c-fb7e-47c7-9a28-7c3999941288",
   "metadata": {},
   "outputs": [],
   "source": [
    "class MyClass(metaclass=Eidos):\n",
    "\n",
    "    _req_slots__ = ('a', 'b')\n",
    "\n",
    "    def __init__(self, a: int, b: str, /):\n",
    "        self.a, self.b = a, b\n",
    "\n",
    "\n",
    "myobj = MyClass(1, '2')\n",
    "myobj"
   ]
  },
  {
   "cell_type": "code",
   "execution_count": null,
   "id": "f81d8277-6ab7-4af5-ad06-7e06f815c4ac",
   "metadata": {},
   "outputs": [],
   "source": [
    "myobj = MyClass(myobj, myobj)\n",
    "myobj"
   ]
  },
  {
   "cell_type": "code",
   "execution_count": null,
   "id": "4b618a43-a83d-4424-a615-a4fcba9a4f47",
   "metadata": {},
   "outputs": [],
   "source": []
  },
  {
   "cell_type": "code",
   "execution_count": null,
   "id": "0e5f17ca-9e91-4d99-b14b-4e89f3d958af",
   "metadata": {},
   "outputs": [],
   "source": [
    "MyClass.__mro__"
   ]
  },
  {
   "cell_type": "code",
   "execution_count": null,
   "id": "915a6df1-6b40-4d6f-bbda-f0b650ac41b7",
   "metadata": {},
   "outputs": [],
   "source": [
    "type(MyClass)"
   ]
  },
  {
   "cell_type": "code",
   "execution_count": null,
   "id": "5b8c128a-19b9-49ea-bae2-194abe9dda34",
   "metadata": {},
   "outputs": [],
   "source": [
    "Essence.BaseTyp"
   ]
  },
  {
   "cell_type": "code",
   "execution_count": null,
   "id": "fe75b816-f23e-4eba-bda2-0ef37e7ee555",
   "metadata": {},
   "outputs": [],
   "source": []
  },
  {
   "cell_type": "code",
   "execution_count": null,
   "id": "35ae40da-66b4-4b67-b180-b909734d7fa8",
   "metadata": {},
   "outputs": [],
   "source": []
  },
  {
   "cell_type": "code",
   "execution_count": null,
   "id": "a0a98aef-d457-49c9-8877-0f66f31b79b1",
   "metadata": {},
   "outputs": [],
   "source": [
    "from everest.ptolemaic.ousia import Ousia as _Ousia"
   ]
  },
  {
   "cell_type": "code",
   "execution_count": null,
   "id": "0d71a423-c331-4721-9a42-697d9ba8f8f1",
   "metadata": {},
   "outputs": [],
   "source": []
  },
  {
   "cell_type": "code",
   "execution_count": null,
   "id": "343370c1-7be1-4bcf-bc63-7ccd18a31f9e",
   "metadata": {},
   "outputs": [],
   "source": []
  },
  {
   "cell_type": "code",
   "execution_count": null,
   "id": "1c129e7c-c278-48d1-bfe9-2afad93576d5",
   "metadata": {},
   "outputs": [],
   "source": [
    "myobj"
   ]
  },
  {
   "cell_type": "code",
   "execution_count": null,
   "id": "dd297a4a-14ab-4815-8101-cbba6ea272ef",
   "metadata": {},
   "outputs": [],
   "source": [
    "foo"
   ]
  },
  {
   "cell_type": "code",
   "execution_count": null,
   "id": "0aafd533-84b6-4cb4-aaa1-8a365ede7888",
   "metadata": {},
   "outputs": [],
   "source": []
  },
  {
   "cell_type": "code",
   "execution_count": null,
   "id": "5b477cbc-ce22-4c21-a10a-31ef724fcda0",
   "metadata": {},
   "outputs": [],
   "source": []
  },
  {
   "cell_type": "code",
   "execution_count": null,
   "id": "a4776d97-0e6f-4a7c-91ac-6bb218a9c12c",
   "metadata": {},
   "outputs": [],
   "source": []
  },
  {
   "cell_type": "code",
   "execution_count": null,
   "id": "0a55b369-f0c3-431c-b497-7e19801d7f8e",
   "metadata": {},
   "outputs": [],
   "source": [
    "from everest.ptolemaic.sprite import Tuuple, Mapp\n",
    "from everest.ptolemaic.resourcers import Resourcer, PtolContent"
   ]
  },
  {
   "cell_type": "code",
   "execution_count": null,
   "id": "c0df5fad-cdcd-434f-a1ff-1d944334d5b0",
   "metadata": {},
   "outputs": [],
   "source": [
    "import string\n",
    "mytup = Tuuple(string.ascii_lowercase)\n",
    "display(mytup)\n",
    "mymap = Mapp(zip(mytup, range(len(mytup))))\n",
    "display(mymap)"
   ]
  },
  {
   "cell_type": "code",
   "execution_count": null,
   "id": "8df54948-8745-4e8d-9a35-240fac0862e8",
   "metadata": {},
   "outputs": [],
   "source": [
    "mytup.__class__"
   ]
  },
  {
   "cell_type": "code",
   "execution_count": null,
   "id": "99375ef9-4f65-4140-ad21-b163786feb5b",
   "metadata": {},
   "outputs": [],
   "source": [
    "class Meta(type):\n",
    "\n",
    "    @property\n",
    "    def __class__(cls, /):\n",
    "        return 'foo'\n",
    "\n",
    "\n",
    "class MyClass(metaclass=Meta):\n",
    "    ..."
   ]
  },
  {
   "cell_type": "code",
   "execution_count": null,
   "id": "ebe17ed4-1d8d-44a5-9c04-6820f3c6bc55",
   "metadata": {},
   "outputs": [],
   "source": [
    "myobj = MyClass()\n",
    "mycls = myobj.__class__"
   ]
  },
  {
   "cell_type": "code",
   "execution_count": null,
   "id": "231974ff-5985-428e-aad0-80ff93d23967",
   "metadata": {},
   "outputs": [],
   "source": [
    "type(mycls)"
   ]
  },
  {
   "cell_type": "code",
   "execution_count": null,
   "id": "1a426377-b11d-4d7c-94ec-ef811fd97305",
   "metadata": {},
   "outputs": [],
   "source": [
    "MyClass.__class__ = 'foo'"
   ]
  },
  {
   "cell_type": "code",
   "execution_count": null,
   "id": "6830f4ac-cdc0-43ac-9364-ad6d6620fff2",
   "metadata": {},
   "outputs": [],
   "source": [
    "myobj.__class__ = 'foo'"
   ]
  },
  {
   "cell_type": "code",
   "execution_count": null,
   "id": "f8ae7e0f-8141-4925-a774-78d6d44ab669",
   "metadata": {},
   "outputs": [],
   "source": [
    "class MyPtol(Ptolemaic):\n",
    "\n",
    "    @classmethod\n",
    "    def get_classproxy(cls, /):\n",
    "        return 'Foo!'"
   ]
  },
  {
   "cell_type": "code",
   "execution_count": null,
   "id": "189ddd15-bbc9-4390-965c-9c6e6f34bcc6",
   "metadata": {},
   "outputs": [],
   "source": [
    "PtolContent(MyPtol)"
   ]
  },
  {
   "cell_type": "code",
   "execution_count": null,
   "id": "9e9fe5ed-0ba8-4c05-9356-63e26d1c34ad",
   "metadata": {},
   "outputs": [],
   "source": [
    "Resourcer(MyPtol)"
   ]
  },
  {
   "cell_type": "code",
   "execution_count": null,
   "id": "fd388bb9-7d4b-4362-9d3a-3ea6d02c2d3e",
   "metadata": {},
   "outputs": [],
   "source": [
    "import pickle"
   ]
  },
  {
   "cell_type": "code",
   "execution_count": null,
   "id": "ead9afeb-841e-4c2f-9fb2-5555eedb3f67",
   "metadata": {},
   "outputs": [],
   "source": [
    "myptol = Ptolemaic()"
   ]
  },
  {
   "cell_type": "code",
   "execution_count": null,
   "id": "3010dc2b-0ed0-4091-8109-79626536a327",
   "metadata": {},
   "outputs": [],
   "source": [
    "pickle.loads(pickle.dumps(myptol))"
   ]
  },
  {
   "cell_type": "code",
   "execution_count": null,
   "id": "f3e493d3-239b-49c4-ba77-5542435afee4",
   "metadata": {},
   "outputs": [],
   "source": [
    "pickle.loads(pickle.dumps(mymap))"
   ]
  },
  {
   "cell_type": "code",
   "execution_count": null,
   "id": "c11a2fe6-e20c-4c82-8ffd-3b9b3b22bb23",
   "metadata": {},
   "outputs": [],
   "source": []
  }
 ],
 "metadata": {
  "kernelspec": {
   "display_name": "Python 3 (ipykernel)",
   "language": "python",
   "name": "python3"
  },
  "language_info": {
   "codemirror_mode": {
    "name": "ipython",
    "version": 3
   },
   "file_extension": ".py",
   "mimetype": "text/x-python",
   "name": "python",
   "nbconvert_exporter": "python",
   "pygments_lexer": "ipython3",
   "version": "3.9.5"
  }
 },
 "nbformat": 4,
 "nbformat_minor": 5
}
