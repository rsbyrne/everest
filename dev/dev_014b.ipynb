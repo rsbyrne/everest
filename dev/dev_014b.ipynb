{
 "cells": [
  {
   "cell_type": "code",
   "execution_count": null,
   "id": "428a2465-09db-4916-b17a-ee3a6a633d8e",
   "metadata": {},
   "outputs": [],
   "source": [
    "from everest.ptolemaic import ODEModelTemplate\n",
    "\n",
    "class MyModel(ODEModelTemplate):\n",
    "\n",
    "    a: int\n",
    "    b: float\n",
    "    c: bool\n",
    "\n",
    "    ...\n",
    "\n",
    "everest.window.Window(MyModel[asdf;asdflj, init:final, myanalysers])"
   ]
  },
  {
   "cell_type": "code",
   "execution_count": null,
   "id": "a429c25d-4c9b-4937-87e0-1b4636876978",
   "metadata": {},
   "outputs": [],
   "source": []
  },
  {
   "cell_type": "code",
   "execution_count": null,
   "id": "e9dd395a-43aa-47d3-b01e-bd8d6f24ceef",
   "metadata": {},
   "outputs": [],
   "source": []
  },
  {
   "cell_type": "code",
   "execution_count": null,
   "id": "e7984a9d-59d8-42e6-9db1-7814be84cda2",
   "metadata": {},
   "outputs": [],
   "source": []
  },
  {
   "cell_type": "code",
   "execution_count": null,
   "id": "d22f09f8-dfe0-4b3b-8bc5-517c9b87f444",
   "metadata": {},
   "outputs": [],
   "source": []
  },
  {
   "cell_type": "code",
   "execution_count": null,
   "id": "1d846d5e-b106-40d6-ad2a-1641024c3cd1",
   "metadata": {},
   "outputs": [],
   "source": [
    "for param_combination in combinations_of([aasdfasdf], [123123123]):\n",
    "    mycase = MyModel(*paramasdfalksdjnf)"
   ]
  },
  {
   "cell_type": "code",
   "execution_count": null,
   "id": "af0313f8-8dca-466f-8506-8bcc00b8d04d",
   "metadata": {},
   "outputs": [],
   "source": [
    "mycombos = MyModel[allpositiveintegers][randomsample]"
   ]
  },
  {
   "cell_type": "code",
   "execution_count": null,
   "id": "94c69562-ef80-4bfe-8694-fc3c13aabd31",
   "metadata": {},
   "outputs": [],
   "source": [
    "MyModel[myparameters, myinitialcondition : myfinalcondition]"
   ]
  },
  {
   "cell_type": "code",
   "execution_count": null,
   "id": "7f359e5b-1de9-4f88-a045-fec080159fb7",
   "metadata": {},
   "outputs": [],
   "source": []
  },
  {
   "cell_type": "code",
   "execution_count": null,
   "id": "0b7d3b2a-c2d2-42be-bc20-da3f06872999",
   "metadata": {},
   "outputs": [],
   "source": []
  },
  {
   "cell_type": "code",
   "execution_count": null,
   "id": "5ac0364a-a9cf-4f42-b55e-538dc4643d25",
   "metadata": {},
   "outputs": [],
   "source": []
  },
  {
   "cell_type": "code",
   "execution_count": null,
   "id": "5db0bdc0-0922-4d81-82f3-ab6fa91baf91",
   "metadata": {},
   "outputs": [],
   "source": [
    "Array('asdfasdfasjdf')"
   ]
  },
  {
   "cell_type": "code",
   "execution_count": null,
   "id": "17d2361a-1d35-4fff-8326-5e1718aabfa1",
   "metadata": {},
   "outputs": [],
   "source": [
    "myarr ** 2 -> futures"
   ]
  },
  {
   "cell_type": "code",
   "execution_count": null,
   "id": "7a37a37d-ba3d-4a85-8944-403d947d546f",
   "metadata": {},
   "outputs": [],
   "source": [
    "mycombos.calculate()"
   ]
  }
 ],
 "metadata": {
  "kernelspec": {
   "display_name": "Python 3 (ipykernel)",
   "language": "python",
   "name": "python3"
  },
  "language_info": {
   "codemirror_mode": {
    "name": "ipython",
    "version": 3
   },
   "file_extension": ".py",
   "mimetype": "text/x-python",
   "name": "python",
   "nbconvert_exporter": "python",
   "pygments_lexer": "ipython3",
   "version": "3.9.5"
  }
 },
 "nbformat": 4,
 "nbformat_minor": 5
}
