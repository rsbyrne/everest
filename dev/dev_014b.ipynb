{
 "cells": [
  {
   "cell_type": "code",
   "execution_count": null,
   "id": "bda6a189-f73c-41be-9d25-5a6516e2cf9e",
   "metadata": {},
   "outputs": [],
   "source": [
    "###############################################################################\n",
    "import aliases"
   ]
  },
  {
   "cell_type": "code",
   "execution_count": null,
   "id": "5efc9a81-76a8-4864-a86f-0c5f1c732554",
   "metadata": {},
   "outputs": [],
   "source": [
    "from everest.ptolemaic.ousia import Sprite as _Sprite"
   ]
  },
  {
   "cell_type": "code",
   "execution_count": null,
   "id": "fd0382aa-c6d4-4fb0-b140-0688804e992f",
   "metadata": {},
   "outputs": [],
   "source": [
    "class MySprite(_Sprite):\n",
    "\n",
    "    def __init__(self, a, b, c=3, d=4):\n",
    "        ...\n",
    "\n",
    "\n",
    "myobj = MySprite(1, 2)\n",
    "myobj"
   ]
  },
  {
   "cell_type": "code",
   "execution_count": null,
   "id": "61fcc85b-001a-413c-8c6a-95d6e0989466",
   "metadata": {},
   "outputs": [],
   "source": [
    "MySprite.epitaph.decode()"
   ]
  },
  {
   "cell_type": "code",
   "execution_count": null,
   "id": "26ca208c-a374-4a38-81b1-1833f091cec5",
   "metadata": {},
   "outputs": [],
   "source": [
    "myobj"
   ]
  },
  {
   "cell_type": "code",
   "execution_count": null,
   "id": "fc4b7e6c-896a-430f-ae1a-c4b4494c12b0",
   "metadata": {},
   "outputs": [],
   "source": [
    "myobj.epitaph"
   ]
  },
  {
   "cell_type": "code",
   "execution_count": null,
   "id": "0209d739-3c7d-4a24-a099-760e87aa8f0e",
   "metadata": {},
   "outputs": [],
   "source": [
    "myobj.epitaph.decode()"
   ]
  },
  {
   "cell_type": "code",
   "execution_count": null,
   "id": "48c7e89b-bbcf-4d76-9784-78ca421917bf",
   "metadata": {},
   "outputs": [],
   "source": [
    "myobj is myobj.epitaph.decode()"
   ]
  }
 ],
 "metadata": {
  "kernelspec": {
   "display_name": "Python 3 (ipykernel)",
   "language": "python",
   "name": "python3"
  },
  "language_info": {
   "codemirror_mode": {
    "name": "ipython",
    "version": 3
   },
   "file_extension": ".py",
   "mimetype": "text/x-python",
   "name": "python",
   "nbconvert_exporter": "python",
   "pygments_lexer": "ipython3",
   "version": "3.9.5"
  }
 },
 "nbformat": 4,
 "nbformat_minor": 5
}
