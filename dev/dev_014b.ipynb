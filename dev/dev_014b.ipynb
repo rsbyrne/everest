{
 "cells": [
  {
   "cell_type": "code",
   "execution_count": null,
   "id": "bda6a189-f73c-41be-9d25-5a6516e2cf9e",
   "metadata": {},
   "outputs": [],
   "source": [
    "###############################################################################\n",
    "import aliases"
   ]
  },
  {
   "cell_type": "code",
   "execution_count": null,
   "id": "0a55b369-f0c3-431c-b497-7e19801d7f8e",
   "metadata": {},
   "outputs": [],
   "source": [
    "from everest.ptolemaic.ptolemaic import Ptolemaic\n",
    "from everest.ptolemaic.sprite import Tuuple, Mapp\n",
    "from everest.ptolemaic.resourcers import Resourcer, PtolContent"
   ]
  },
  {
   "cell_type": "code",
   "execution_count": null,
   "id": "c0df5fad-cdcd-434f-a1ff-1d944334d5b0",
   "metadata": {},
   "outputs": [],
   "source": [
    "import string\n",
    "mytup = Tuuple(string.ascii_lowercase)\n",
    "display(mytup)\n",
    "mymap = Mapp(zip(mytup, range(len(mytup))))\n",
    "display(mymap)"
   ]
  },
  {
   "cell_type": "code",
   "execution_count": null,
   "id": "f8ae7e0f-8141-4925-a774-78d6d44ab669",
   "metadata": {},
   "outputs": [],
   "source": [
    "class MyPtol(Ptolemaic):\n",
    "\n",
    "    @classmethod\n",
    "    def get_classproxy(cls, /):\n",
    "        return 'Foo!'"
   ]
  },
  {
   "cell_type": "code",
   "execution_count": null,
   "id": "189ddd15-bbc9-4390-965c-9c6e6f34bcc6",
   "metadata": {},
   "outputs": [],
   "source": [
    "PtolContent(MyPtol)"
   ]
  },
  {
   "cell_type": "code",
   "execution_count": null,
   "id": "9e9fe5ed-0ba8-4c05-9356-63e26d1c34ad",
   "metadata": {},
   "outputs": [],
   "source": [
    "Resourcer(MyPtol)"
   ]
  },
  {
   "cell_type": "code",
   "execution_count": null,
   "id": "fd388bb9-7d4b-4362-9d3a-3ea6d02c2d3e",
   "metadata": {},
   "outputs": [],
   "source": [
    "import pickle"
   ]
  },
  {
   "cell_type": "code",
   "execution_count": null,
   "id": "ead9afeb-841e-4c2f-9fb2-5555eedb3f67",
   "metadata": {},
   "outputs": [],
   "source": [
    "myptol = Ptolemaic()"
   ]
  },
  {
   "cell_type": "code",
   "execution_count": null,
   "id": "3010dc2b-0ed0-4091-8109-79626536a327",
   "metadata": {},
   "outputs": [],
   "source": [
    "pickle.loads(pickle.dumps(myptol))"
   ]
  },
  {
   "cell_type": "code",
   "execution_count": null,
   "id": "f3e493d3-239b-49c4-ba77-5542435afee4",
   "metadata": {},
   "outputs": [],
   "source": [
    "pickle.loads(pickle.dumps(mymap))"
   ]
  },
  {
   "cell_type": "code",
   "execution_count": null,
   "id": "c11a2fe6-e20c-4c82-8ffd-3b9b3b22bb23",
   "metadata": {},
   "outputs": [],
   "source": []
  }
 ],
 "metadata": {
  "kernelspec": {
   "display_name": "Python 3 (ipykernel)",
   "language": "python",
   "name": "python3"
  },
  "language_info": {
   "codemirror_mode": {
    "name": "ipython",
    "version": 3
   },
   "file_extension": ".py",
   "mimetype": "text/x-python",
   "name": "python",
   "nbconvert_exporter": "python",
   "pygments_lexer": "ipython3",
   "version": "3.9.5"
  }
 },
 "nbformat": 4,
 "nbformat_minor": 5
}
