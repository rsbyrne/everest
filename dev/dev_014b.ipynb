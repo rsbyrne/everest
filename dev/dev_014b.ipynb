{
 "cells": [
  {
   "cell_type": "code",
   "execution_count": null,
   "id": "bda6a189-f73c-41be-9d25-5a6516e2cf9e",
   "metadata": {},
   "outputs": [],
   "source": [
    "###############################################################################\n",
    "import aliases"
   ]
  },
  {
   "cell_type": "code",
   "execution_count": null,
   "id": "6f82ac76-268d-4766-a2ca-b0a9fbdf6d96",
   "metadata": {},
   "outputs": [],
   "source": [
    "from everest.ptolemaic.essence import Shade, Essence\n",
    "from everest.ptolemaic.ousia import Sprite, Ousia\n",
    "from everest.epitaph import Epitaph, entomb, TAPHONOMY"
   ]
  },
  {
   "cell_type": "code",
   "execution_count": null,
   "id": "4c7a9102-5f8f-4adb-be16-182c3c23fe12",
   "metadata": {},
   "outputs": [],
   "source": [
    "myobj = Sprite()"
   ]
  },
  {
   "cell_type": "code",
   "execution_count": null,
   "id": "5bc2c4cf-7228-4932-8dd4-27e936153c87",
   "metadata": {},
   "outputs": [],
   "source": [
    "Sprite.hashID"
   ]
  },
  {
   "cell_type": "code",
   "execution_count": null,
   "id": "347b8ef1-83f9-4a5d-97c2-0fa8393a391c",
   "metadata": {},
   "outputs": [],
   "source": [
    "myobj.hashID"
   ]
  },
  {
   "cell_type": "code",
   "execution_count": null,
   "id": "f5527a24-8932-4c74-bc58-f2f59071192e",
   "metadata": {},
   "outputs": [],
   "source": [
    "myobj.epitaph.decode()"
   ]
  },
  {
   "cell_type": "code",
   "execution_count": null,
   "id": "b490cd32-cbe9-445c-8b91-968004dc6a72",
   "metadata": {},
   "outputs": [],
   "source": [
    "myobj.epitaph.hashID"
   ]
  },
  {
   "cell_type": "code",
   "execution_count": null,
   "id": "381d3bbf-73fa-4ac7-a4c1-069c38caecdb",
   "metadata": {},
   "outputs": [],
   "source": [
    "myobj._ptolemaic_class__"
   ]
  },
  {
   "cell_type": "code",
   "execution_count": null,
   "id": "cc5490b9-173e-4709-b858-c736f953283e",
   "metadata": {},
   "outputs": [],
   "source": [
    "type(myobj).__mro__[0].__bases__"
   ]
  },
  {
   "cell_type": "code",
   "execution_count": null,
   "id": "93e70b68-6caa-4a0f-b36f-4f58446df2c7",
   "metadata": {},
   "outputs": [],
   "source": [
    "type(myobj).__mro__"
   ]
  },
  {
   "cell_type": "code",
   "execution_count": null,
   "id": "6a4638f9-7ca3-4faf-a471-1e440ee6d86e",
   "metadata": {},
   "outputs": [],
   "source": [
    "type(myobj).__mro__[1].__bases__"
   ]
  },
  {
   "cell_type": "code",
   "execution_count": null,
   "id": "2d0aea91-292d-4a7c-84f3-49d9129116b8",
   "metadata": {},
   "outputs": [],
   "source": [
    "type(myobj).get_epitaph"
   ]
  },
  {
   "cell_type": "code",
   "execution_count": null,
   "id": "d5ccb674-44b6-4ac2-a004-4cd809fe1a3f",
   "metadata": {},
   "outputs": [],
   "source": [
    "myobj._ptolemaic_class__"
   ]
  },
  {
   "cell_type": "code",
   "execution_count": null,
   "id": "871dad1c-d25b-4856-b5d3-5ba684363c4c",
   "metadata": {},
   "outputs": [],
   "source": [
    "Sprite().epitaph"
   ]
  },
  {
   "cell_type": "code",
   "execution_count": null,
   "id": "70035cac-6fae-429e-ac91-da4a67c64fa8",
   "metadata": {},
   "outputs": [],
   "source": [
    "TAPHONOMY.decode(Shade.epitaph)"
   ]
  },
  {
   "cell_type": "code",
   "execution_count": null,
   "id": "78016364-489a-4daf-ab15-ad74242690f3",
   "metadata": {},
   "outputs": [],
   "source": [
    "TAPHONOMY(Shade.epitaph).decode()"
   ]
  },
  {
   "cell_type": "code",
   "execution_count": null,
   "id": "d79b270f-5ebe-4562-b9f5-8878226d9f7e",
   "metadata": {},
   "outputs": [],
   "source": [
    "class MyClass:\n",
    "\n",
    "    def b(self):\n",
    "        ...\n",
    "\n",
    "    def a(self):\n",
    "        ..."
   ]
  },
  {
   "cell_type": "code",
   "execution_count": null,
   "id": "92995e81-332e-4aae-91e0-351713048295",
   "metadata": {},
   "outputs": [],
   "source": [
    "MyClass.__dict__"
   ]
  },
  {
   "cell_type": "code",
   "execution_count": null,
   "id": "42981fb0-c44a-4ace-9500-175f383fb3bf",
   "metadata": {},
   "outputs": [],
   "source": [
    "MyClass().__dict__"
   ]
  },
  {
   "cell_type": "code",
   "execution_count": null,
   "id": "69227f70-e586-4fbf-a56a-ffab540e2652",
   "metadata": {},
   "outputs": [],
   "source": [
    "dir(MyClass)"
   ]
  },
  {
   "cell_type": "code",
   "execution_count": null,
   "id": "53e5ad47-2c11-4e5f-bfe3-8d6b3bef7586",
   "metadata": {},
   "outputs": [],
   "source": [
    "dir(TAPHONOMY)"
   ]
  },
  {
   "cell_type": "code",
   "execution_count": null,
   "id": "8173646f-ec1c-4b4c-be77-cba4175257d0",
   "metadata": {},
   "outputs": [],
   "source": [
    "TAPHONOMY.encoders"
   ]
  },
  {
   "cell_type": "code",
   "execution_count": null,
   "id": "4e2d276a-d096-49ce-b4a5-1f43b5dd235a",
   "metadata": {},
   "outputs": [],
   "source": [
    "Shade.epitaph"
   ]
  },
  {
   "cell_type": "code",
   "execution_count": null,
   "id": "b142eca8-4b19-419d-b6fc-64299da1c731",
   "metadata": {},
   "outputs": [],
   "source": [
    "TAPHONOMY.encode(Shade.epitaph)"
   ]
  },
  {
   "cell_type": "code",
   "execution_count": null,
   "id": "96829a93-4cd9-4a9b-80ef-1377093e9b9b",
   "metadata": {},
   "outputs": [],
   "source": [
    "entomb(Shade.epitaph)"
   ]
  },
  {
   "cell_type": "code",
   "execution_count": null,
   "id": "5a1152bc-7c71-45cc-909e-65e4de67798a",
   "metadata": {},
   "outputs": [],
   "source": [
    "type(type(Shade)).Epitaph"
   ]
  },
  {
   "cell_type": "code",
   "execution_count": null,
   "id": "9b386503-44fb-4be7-b76d-291c2ca80a0c",
   "metadata": {},
   "outputs": [],
   "source": [
    "type(Shade)"
   ]
  },
  {
   "cell_type": "code",
   "execution_count": null,
   "id": "a949f865-5eea-43d2-a720-52329bb8c98c",
   "metadata": {},
   "outputs": [],
   "source": []
  },
  {
   "cell_type": "code",
   "execution_count": null,
   "id": "1067b8ae-2b94-4fde-9837-8ac4d39c0255",
   "metadata": {},
   "outputs": [],
   "source": [
    "from everest.epitaph import entomb"
   ]
  },
  {
   "cell_type": "code",
   "execution_count": null,
   "id": "0d0b5343-522c-453a-8e88-109ba036f8ee",
   "metadata": {},
   "outputs": [],
   "source": [
    "epitaph = entomb((1, 'asdf', 2, entomb))\n",
    "display(epitaph)\n",
    "display(epitaph.decode())"
   ]
  },
  {
   "cell_type": "code",
   "execution_count": null,
   "id": "8748bc1b-e012-4291-9a3a-7fd80eec32e7",
   "metadata": {},
   "outputs": [],
   "source": [
    "epitaph"
   ]
  },
  {
   "cell_type": "code",
   "execution_count": null,
   "id": "99ff2510-7708-4987-9c6a-1ceb0377f1c3",
   "metadata": {},
   "outputs": [],
   "source": [
    "epitaph.decode()"
   ]
  },
  {
   "cell_type": "code",
   "execution_count": null,
   "id": "3258abb8-2b27-4686-958c-e7920869ec0f",
   "metadata": {},
   "outputs": [],
   "source": [
    "str(epitaph)"
   ]
  },
  {
   "cell_type": "code",
   "execution_count": null,
   "id": "fba1c901-6939-4ecb-9717-8fda1d6a3565",
   "metadata": {},
   "outputs": [],
   "source": []
  },
  {
   "cell_type": "code",
   "execution_count": null,
   "id": "31b553ad-8998-41e4-9d3d-3380b43e44e2",
   "metadata": {},
   "outputs": [],
   "source": [
    "Epitaph."
   ]
  },
  {
   "cell_type": "code",
   "execution_count": null,
   "id": "c98418f5-eedd-44a4-addd-3887986637e2",
   "metadata": {},
   "outputs": [],
   "source": [
    "mystr = \"\"\"'abcd',<:<:'efgh'>,round,<:'ijkl'>>,<:<:'mnop'>,<c:'Primitive','everest.primitive'>,<:'qrst'>>,'uvwx','yz'\"\"\""
   ]
  },
  {
   "cell_type": "code",
   "execution_count": null,
   "id": "30294051-b14d-4948-b0fd-0f112011b8aa",
   "metadata": {},
   "outputs": [],
   "source": [
    "levelpairs = tuple(TAPHONOMY.unpack_fences(mystr))\n",
    "levelpairs"
   ]
  },
  {
   "cell_type": "code",
   "execution_count": null,
   "id": "0eae5c42-b86f-437b-a5b0-89cce4c8bba3",
   "metadata": {},
   "outputs": [],
   "source": [
    "tuple(TAPHONOMY.recursive_decode({}, levelpairs))"
   ]
  },
  {
   "cell_type": "code",
   "execution_count": null,
   "id": "14ae5d0c-d130-48cc-b72f-e4f9bc7a47cf",
   "metadata": {},
   "outputs": [],
   "source": [
    "TAPHONOMY.decode(mystr)"
   ]
  },
  {
   "cell_type": "code",
   "execution_count": null,
   "id": "f92160a2-d009-49b5-b71e-524fd33c950e",
   "metadata": {},
   "outputs": [],
   "source": [
    "_01"
   ]
  },
  {
   "cell_type": "code",
   "execution_count": null,
   "id": "967b63c5-80ca-4f73-942b-9614f4d59cc5",
   "metadata": {},
   "outputs": [],
   "source": [
    "from collections import abc as _collabc"
   ]
  },
  {
   "cell_type": "code",
   "execution_count": null,
   "id": "0e7a53cc-230c-4528-b1fd-947136dd6db5",
   "metadata": {},
   "outputs": [],
   "source": [
    "_collabc.Callable"
   ]
  },
  {
   "cell_type": "code",
   "execution_count": null,
   "id": "1d0c4b72-b118-42d8-83cd-2d81a582a617",
   "metadata": {},
   "outputs": [],
   "source": [
    "tup = tuple(TAPHONOMY.recursive_deco"
   ]
  },
  {
   "cell_type": "code",
   "execution_count": null,
   "id": "f4acc415-2457-4b3a-a608-12eb1aba7908",
   "metadata": {},
   "outputs": [],
   "source": [
    "from everest.epitaph import entomb\n",
    "from everest.primitive import Primitive"
   ]
  },
  {
   "cell_type": "code",
   "execution_count": null,
   "id": "023d4923-0fe3-4553-8355-9e56c88fac9a",
   "metadata": {},
   "outputs": [],
   "source": [
    "myepi = entomb((1, 'asdf', 2, _Primitive))"
   ]
  },
  {
   "cell_type": "code",
   "execution_count": null,
   "id": "ea6052a6-5dbb-466f-a129-ee9cdd66f827",
   "metadata": {},
   "outputs": [],
   "source": [
    "myepi"
   ]
  },
  {
   "cell_type": "code",
   "execution_count": null,
   "id": "58528f77-d19c-4dff-aff0-693df9a8f8ba",
   "metadata": {},
   "outputs": [],
   "source": [
    "myepi.decode()"
   ]
  }
 ],
 "metadata": {
  "kernelspec": {
   "display_name": "Python 3 (ipykernel)",
   "language": "python",
   "name": "python3"
  },
  "language_info": {
   "codemirror_mode": {
    "name": "ipython",
    "version": 3
   },
   "file_extension": ".py",
   "mimetype": "text/x-python",
   "name": "python",
   "nbconvert_exporter": "python",
   "pygments_lexer": "ipython3",
   "version": "3.9.5"
  }
 },
 "nbformat": 4,
 "nbformat_minor": 5
}
