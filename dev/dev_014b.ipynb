{
 "cells": [
  {
   "cell_type": "code",
   "execution_count": null,
   "id": "bda6a189-f73c-41be-9d25-5a6516e2cf9e",
   "metadata": {},
   "outputs": [],
   "source": [
    "###############################################################################\n",
    "import aliases"
   ]
  },
  {
   "cell_type": "code",
   "execution_count": null,
   "id": "fdbdc6b5-8c35-4405-aabc-8bf0c67372be",
   "metadata": {},
   "outputs": [],
   "source": [
    "from everest.epitaph import TAPHONOMY as taph, Epitaph"
   ]
  },
  {
   "cell_type": "code",
   "execution_count": null,
   "id": "498ee99f-827d-4ffa-bb5b-f9b7695a6f5f",
   "metadata": {},
   "outputs": [],
   "source": [
    "out = taph(Epitaph)"
   ]
  },
  {
   "cell_type": "code",
   "execution_count": null,
   "id": "8cd7ec5c-a376-4005-90e1-6752424fb82d",
   "metadata": {},
   "outputs": [],
   "source": [
    "epi = taph((1, 2, (3, Epitaph), Epitaph))"
   ]
  },
  {
   "cell_type": "code",
   "execution_count": null,
   "id": "a5b031d6-bd9f-4fa2-bbca-9211558761b3",
   "metadata": {},
   "outputs": [],
   "source": [
    "epi.content"
   ]
  },
  {
   "cell_type": "code",
   "execution_count": null,
   "id": "067a309f-2216-49fd-a1c9-1d0b14dfdfff",
   "metadata": {},
   "outputs": [],
   "source": [
    "from everest.ptolemaic.ousia import Ousia as _Ousia"
   ]
  },
  {
   "cell_type": "code",
   "execution_count": null,
   "id": "d854f211-a546-491a-853c-c2a52a2b5bb8",
   "metadata": {},
   "outputs": [],
   "source": [
    "###############################################################################\n",
    "''''''\n",
    "###############################################################################\n",
    "\n",
    "\n",
    "import inspect as _inspect\n",
    "\n",
    "from everest.utilities import FrozenMap as _FrozenMap\n",
    "from everest.utilities.classtools import add_defer_meths as _add_defer_meths\n",
    "\n",
    "from everest.ptolemaic.essence import Essence as _Essence\n",
    "from everest.ptolemaic.ousia import Ousia as _Ousia\n",
    "\n",
    "\n",
    "KINDS = dict(zip(\n",
    "    ('Pos', 'PosKw', 'Args', 'Kw', 'Kwargs'),\n",
    "    _inspect._ParameterKind,\n",
    "    ))\n",
    "\n",
    "\n",
    "class ParamMeta(_Ousia):\n",
    "\n",
    "    for kind in KINDS:\n",
    "        exec('\\n'.join((\n",
    "            '@property',\n",
    "            f'def {kind}(cls, /):'\n",
    "            f\"    return cls(kind='{kind}')\"\n",
    "            )))\n",
    "\n",
    "\n",
    "class Param(metaclass=ParamMeta):\n",
    "\n",
    "    _req_slots__ = ('name', 'value', 'kind', 'hint', 'parameter', 'inps')\n",
    "\n",
    "    @classmethod\n",
    "    def _check_hint(cls, hint, /):\n",
    "        return hint\n",
    "\n",
    "    def __init__(self, /,\n",
    "            name='anon',\n",
    "            hint=_Ousia,\n",
    "            value=NotImplemented,\n",
    "            kind='PosKw',\n",
    "            ):\n",
    "        if not kind in KINDS:\n",
    "            raise ValueError(kind)\n",
    "        hint = self._check_hint(hint)\n",
    "        self.kind, self.hint = kind, hint\n",
    "        if kind in {'Args', 'Kwargs'}:\n",
    "            if value is not NotImplemented:\n",
    "                raise TypeError\n",
    "        self.name, self.value = name, value\n",
    "        default = (\n",
    "            _inspect.Parameter.empty if value is NotImplemented\n",
    "            else value\n",
    "            )\n",
    "        self.parameter = _inspect.Parameter(\n",
    "            name, KINDS[kind], default=default, annotation=hint,\n",
    "            )\n",
    "        self.inps = dict(\n",
    "            name=self.name, hint=self.hint, kind=self.kind, value=self.value\n",
    "            )\n",
    "        super().__init__()\n",
    "\n",
    "    def __call__(self, **kwargs):\n",
    "        return type(self).construct(**(self.inps | kwargs))\n",
    "\n",
    "    @classmethod\n",
    "    def __class_getitem__(cls, arg, /):\n",
    "        return cls.construct()[arg]\n",
    "\n",
    "    def __getitem__(self, arg, /):\n",
    "        if isinstance(arg, Param):\n",
    "            return self(**{**arg.inps, 'hint': self.hint[arg.hint]})\n",
    "        return self(hint=self.hint[arg])\n",
    "\n",
    "    def __repr__(self, /):\n",
    "        return (\n",
    "            f\"Param.{self.kind}[{repr(self.hint)}]\"\n",
    "            f\"({self.name}={self.value})\"\n",
    "            )\n",
    "\n",
    "    def __get__(self, instance, /, owner=None):\n",
    "        return instance.params[self.name]\n",
    "\n",
    "\n",
    "_DICTMETHS = (\n",
    "    '__getitem__', '__len__', '__iter__' '__contains__', 'keys',\n",
    "    'items', 'values', 'get', '__eq__', '__ne__',\n",
    "    )\n",
    "\n",
    "\n",
    "@_add_defer_meths('paramdict', _DICTMETHS)\n",
    "class Sig(metaclass=_Ousia):\n",
    "\n",
    "    _req_slots__ = ('parameters', 'signature', 'paramdict')\n",
    "\n",
    "    @staticmethod\n",
    "    def sort_params(params, /):\n",
    "        params = sorted(\n",
    "            params,\n",
    "            key=(lambda x: x.parameter.default is not _inspect._empty)\n",
    "            )\n",
    "        params = sorted(\n",
    "            params,\n",
    "            key=(lambda x: x.parameter.kind)\n",
    "            )\n",
    "        return params\n",
    "\n",
    "    def __init__(self, *parameters):\n",
    "        parameters = self.parameters = tuple(self.sort_params(parameters))\n",
    "        self.signature = _inspect.Signature(\n",
    "            param.parameter for param in parameters\n",
    "            )\n",
    "        self.paramdict = _FrozenMap((param.name, param) for param in parameters)\n",
    "        super().__init__()\n",
    "\n",
    "    def __call__(self, /, *args, **kwargs):\n",
    "        bound = self.signature.bind(*args, **kwargs)\n",
    "        bound.apply_defaults()\n",
    "        return Params(bound.args, bound.kwargs, bound.arguments)\n",
    "\n",
    "\n",
    "@_add_defer_meths('arguments', _DICTMETHS)\n",
    "class Params(metaclass=_Ousia):\n",
    "\n",
    "    _req_slots__ = ('args', 'kwargs', 'arguments')\n",
    "\n",
    "    def __init__(self, args, kwargs, arguments, /):\n",
    "        self.args, self.kwargs, self.arguments = args, kwargs, arguments\n",
    "        super().__init__()\n",
    "\n",
    "\n",
    "###############################################################################\n",
    "###############################################################################\n"
   ]
  },
  {
   "cell_type": "code",
   "execution_count": null,
   "id": "2c380e98-761b-422d-afd8-4a8c0c00a2b9",
   "metadata": {},
   "outputs": [],
   "source": [
    "mysig = Sig(Param('foo'), Param('bah'), Param('boo'))"
   ]
  },
  {
   "cell_type": "code",
   "execution_count": null,
   "id": "9f24a055-1864-4acb-b9b7-1b8d05f655a7",
   "metadata": {},
   "outputs": [],
   "source": [
    "mysig.epitaph.decode() is mysig"
   ]
  },
  {
   "cell_type": "code",
   "execution_count": null,
   "id": "ea2229ba-496f-40ce-b67c-3e4b701c1a42",
   "metadata": {},
   "outputs": [],
   "source": [
    "taph.custom_epitaph(\n",
    "    \"(str({0})+str({1}),({2}, dict(a={3})))\",\n",
    "    (mysig, mysig, mysig, mysig),\n",
    "    ).content"
   ]
  },
  {
   "cell_type": "code",
   "execution_count": null,
   "id": "03b21a3a-45b3-489b-a7b1-0400527af2cf",
   "metadata": {},
   "outputs": [],
   "source": [
    "mystr = 'ab cd'"
   ]
  },
  {
   "cell_type": "code",
   "execution_count": null,
   "id": "96e43c9e-6bd5-46ad-8c12-4e721033cbed",
   "metadata": {},
   "outputs": [],
   "source": [
    "mystr."
   ]
  }
 ],
 "metadata": {
  "kernelspec": {
   "display_name": "Python 3 (ipykernel)",
   "language": "python",
   "name": "python3"
  },
  "language_info": {
   "codemirror_mode": {
    "name": "ipython",
    "version": 3
   },
   "file_extension": ".py",
   "mimetype": "text/x-python",
   "name": "python",
   "nbconvert_exporter": "python",
   "pygments_lexer": "ipython3",
   "version": "3.9.5"
  }
 },
 "nbformat": 4,
 "nbformat_minor": 5
}
