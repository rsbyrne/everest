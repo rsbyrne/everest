{
 "cells": [
  {
   "cell_type": "code",
   "execution_count": null,
   "id": "bda6a189-f73c-41be-9d25-5a6516e2cf9e",
   "metadata": {},
   "outputs": [],
   "source": [
    "###############################################################################\n",
    "import aliases"
   ]
  },
  {
   "cell_type": "code",
   "execution_count": null,
   "id": "fdbdc6b5-8c35-4405-aabc-8bf0c67372be",
   "metadata": {},
   "outputs": [],
   "source": [
    "from everest.epitaph import TAPHONOMY as taph, Epitaph, EvalSpace"
   ]
  },
  {
   "cell_type": "code",
   "execution_count": null,
   "id": "8cd7ec5c-a376-4005-90e1-6752424fb82d",
   "metadata": {},
   "outputs": [],
   "source": [
    "epi = taph((1, 2, (3, Epitaph)))"
   ]
  },
  {
   "cell_type": "code",
   "execution_count": null,
   "id": "e5f4910e-099e-44d3-a930-7ff554125baf",
   "metadata": {},
   "outputs": [],
   "source": [
    "epi.content"
   ]
  },
  {
   "cell_type": "code",
   "execution_count": null,
   "id": "7fdd7dd3-2098-4f3c-b644-f3708bb726a4",
   "metadata": {},
   "outputs": [],
   "source": [
    "epi.decode()"
   ]
  },
  {
   "cell_type": "code",
   "execution_count": null,
   "id": "067a309f-2216-49fd-a1c9-1d0b14dfdfff",
   "metadata": {},
   "outputs": [],
   "source": [
    "from everest.ptolemaic.ousia import Ousia as _Ousia"
   ]
  },
  {
   "cell_type": "code",
   "execution_count": null,
   "id": "d854f211-a546-491a-853c-c2a52a2b5bb8",
   "metadata": {},
   "outputs": [],
   "source": [
    "###############################################################################\n",
    "''''''\n",
    "###############################################################################\n",
    "\n",
    "\n",
    "import inspect as _inspect\n",
    "\n",
    "from everest.utilities import FrozenMap as _FrozenMap\n",
    "from everest.utilities.classtools import add_defer_meths as _add_defer_meths\n",
    "\n",
    "from everest.ptolemaic.essence import Essence as _Essence\n",
    "from everest.ptolemaic.ousia import Ousia as _Ousia\n",
    "\n",
    "\n",
    "KINDS = dict(zip(\n",
    "    ('Pos', 'PosKw', 'Args', 'Kw', 'Kwargs'),\n",
    "    _inspect._ParameterKind,\n",
    "    ))\n",
    "\n",
    "\n",
    "class ParamMeta(_Ousia):\n",
    "\n",
    "    for kind in KINDS:\n",
    "        exec('\\n'.join((\n",
    "            '@property',\n",
    "            f'def {kind}(cls, /):'\n",
    "            f\"    return cls(kind='{kind}')\"\n",
    "            )))\n",
    "\n",
    "\n",
    "class Param(metaclass=ParamMeta):\n",
    "\n",
    "    _req_slots__ = ('name', 'value', 'kind', 'hint', 'parameter', 'inps')\n",
    "\n",
    "    @classmethod\n",
    "    def _check_hint(cls, hint, /):\n",
    "        return hint\n",
    "\n",
    "    def __init__(self, /,\n",
    "            name='anon',\n",
    "            hint=_Ousia,\n",
    "            value=NotImplemented,\n",
    "            kind='PosKw',\n",
    "            ):\n",
    "        if not kind in KINDS:\n",
    "            raise ValueError(kind)\n",
    "        hint = self._check_hint(hint)\n",
    "        self.kind, self.hint = kind, hint\n",
    "        if kind in {'Args', 'Kwargs'}:\n",
    "            if value is not NotImplemented:\n",
    "                raise TypeError\n",
    "        self.name, self.value = name, value\n",
    "        default = (\n",
    "            _inspect.Parameter.empty if value is NotImplemented\n",
    "            else value\n",
    "            )\n",
    "        self.parameter = _inspect.Parameter(\n",
    "            name, KINDS[kind], default=default, annotation=hint,\n",
    "            )\n",
    "        self.inps = dict(\n",
    "            name=self.name, hint=self.hint, kind=self.kind, value=self.value\n",
    "            )\n",
    "        super().__init__()\n",
    "\n",
    "    def __call__(self, **kwargs):\n",
    "        return type(self).construct(**(self.inps | kwargs))\n",
    "\n",
    "    @classmethod\n",
    "    def __class_getitem__(cls, arg, /):\n",
    "        return cls.construct()[arg]\n",
    "\n",
    "    def __getitem__(self, arg, /):\n",
    "        if isinstance(arg, Param):\n",
    "            return self(**{**arg.inps, 'hint': self.hint[arg.hint]})\n",
    "        return self(hint=self.hint[arg])\n",
    "\n",
    "    def __repr__(self, /):\n",
    "        return (\n",
    "            f\"Param.{self.kind}[{repr(self.hint)}]\"\n",
    "            f\"({self.name}={self.value})\"\n",
    "            )\n",
    "\n",
    "    def __get__(self, instance, /, owner=None):\n",
    "        return instance.params[self.name]\n",
    "\n",
    "\n",
    "_DICTMETHS = (\n",
    "    '__getitem__', '__len__', '__iter__' '__contains__', 'keys',\n",
    "    'items', 'values', 'get', '__eq__', '__ne__',\n",
    "    )\n",
    "\n",
    "\n",
    "@_add_defer_meths('paramdict', _DICTMETHS)\n",
    "class Sig(metaclass=_Ousia):\n",
    "\n",
    "    _req_slots__ = ('parameters', 'signature', 'paramdict')\n",
    "\n",
    "    @staticmethod\n",
    "    def sort_params(params, /):\n",
    "        params = sorted(\n",
    "            params,\n",
    "            key=(lambda x: x.parameter.default is not _inspect._empty)\n",
    "            )\n",
    "        params = sorted(\n",
    "            params,\n",
    "            key=(lambda x: x.parameter.kind)\n",
    "            )\n",
    "        return params\n",
    "\n",
    "    def __init__(self, *parameters):\n",
    "        parameters = self.parameters = tuple(self.sort_params(parameters))\n",
    "        self.signature = _inspect.Signature(\n",
    "            param.parameter for param in parameters\n",
    "            )\n",
    "        self.paramdict = _FrozenMap((param.name, param) for param in parameters)\n",
    "        super().__init__()\n",
    "\n",
    "    def __call__(self, /, *args, **kwargs):\n",
    "        bound = self.signature.bind(*args, **kwargs)\n",
    "        bound.apply_defaults()\n",
    "        return Params(bound.args, bound.kwargs, bound.arguments)\n",
    "\n",
    "\n",
    "@_add_defer_meths('arguments', _DICTMETHS)\n",
    "class Params(metaclass=_Ousia):\n",
    "\n",
    "    _req_slots__ = ('args', 'kwargs', 'arguments')\n",
    "\n",
    "    def __init__(self, args, kwargs, arguments, /):\n",
    "        self.args, self.kwargs, self.arguments = args, kwargs, arguments\n",
    "        super().__init__()\n",
    "\n",
    "\n",
    "###############################################################################\n",
    "###############################################################################\n"
   ]
  },
  {
   "cell_type": "code",
   "execution_count": null,
   "id": "2c380e98-761b-422d-afd8-4a8c0c00a2b9",
   "metadata": {},
   "outputs": [],
   "source": [
    "mysig = Sig(Param('foo'), Param('bah'), Param('boo'))"
   ]
  },
  {
   "cell_type": "code",
   "execution_count": null,
   "id": "bb60a184-eff8-4f4c-9365-8f82167e60b3",
   "metadata": {},
   "outputs": [],
   "source": [
    "mysig.epitaph.content, mysig.epitaph.deps"
   ]
  },
  {
   "cell_type": "code",
   "execution_count": null,
   "id": "9f24a055-1864-4acb-b9b7-1b8d05f655a7",
   "metadata": {},
   "outputs": [],
   "source": [
    "mysig.epitaph.decode() is mysig"
   ]
  },
  {
   "cell_type": "code",
   "execution_count": null,
   "id": "27c7054c-f4f0-4e09-ae90-df1f31a9e25f",
   "metadata": {},
   "outputs": [],
   "source": [
    "mysig(1, 2, 3)"
   ]
  },
  {
   "cell_type": "code",
   "execution_count": null,
   "id": "4192a7ad-58e7-41bb-9191-38f7bfd96a4d",
   "metadata": {},
   "outputs": [],
   "source": [
    "mysig.epitaph.decode()"
   ]
  },
  {
   "cell_type": "code",
   "execution_count": null,
   "id": "a8218c64-e147-4e2e-be78-c9f2a739691a",
   "metadata": {},
   "outputs": [],
   "source": [
    "import collections as _collections"
   ]
  },
  {
   "cell_type": "code",
   "execution_count": null,
   "id": "a57f4792-116e-4bff-880f-6cc83228b639",
   "metadata": {},
   "outputs": [],
   "source": [
    "_collections.ChainMap"
   ]
  },
  {
   "cell_type": "code",
   "execution_count": null,
   "id": "8ca6132f-f493-4a85-b66e-fec23cee6335",
   "metadata": {},
   "outputs": [],
   "source": [
    "raise NameError"
   ]
  },
  {
   "cell_type": "code",
   "execution_count": null,
   "id": "89adfcf8-43bd-40b9-a467-9efdc566cd9a",
   "metadata": {},
   "outputs": [],
   "source": [
    "param.inputs"
   ]
  },
  {
   "cell_type": "code",
   "execution_count": null,
   "id": "13c7a01d-0e17-442f-ac1e-88c38027ada1",
   "metadata": {},
   "outputs": [],
   "source": [
    "import collections"
   ]
  },
  {
   "cell_type": "code",
   "execution_count": null,
   "id": "f3004217-fd59-4a4e-aea2-5abbf771aed2",
   "metadata": {},
   "outputs": [],
   "source": [
    "from everest.ptolemaic import essence"
   ]
  },
  {
   "cell_type": "code",
   "execution_count": null,
   "id": "eaa34640-b670-4a2b-aa86-02b3ea2313c9",
   "metadata": {},
   "outputs": [],
   "source": [
    "class MyClass(metaclass=essence.Essence):\n",
    "    ..."
   ]
  },
  {
   "cell_type": "code",
   "execution_count": null,
   "id": "96690d6b-cd2d-47e6-87ad-4032702e2d77",
   "metadata": {},
   "outputs": [],
   "source": [
    "MyClass.__mro__"
   ]
  },
  {
   "cell_type": "code",
   "execution_count": null,
   "id": "8c1e83d5-977f-4c9d-a5a5-747598317ba0",
   "metadata": {},
   "outputs": [],
   "source": [
    "from everest.ptolemaic import ousia"
   ]
  },
  {
   "cell_type": "code",
   "execution_count": null,
   "id": "582795e4-645d-415a-ad5f-9d901dc166f6",
   "metadata": {},
   "outputs": [],
   "source": [
    "class MyOusia(metaclass=ousia.Ousia):\n",
    "    ..."
   ]
  },
  {
   "cell_type": "code",
   "execution_count": null,
   "id": "51b66f5e-5d57-4de6-9ad4-2fa28bf12383",
   "metadata": {},
   "outputs": [],
   "source": [
    "MyOusia.__mro__"
   ]
  },
  {
   "cell_type": "code",
   "execution_count": null,
   "id": "9121654d-7cb4-4d80-a8ca-adf31b46055a",
   "metadata": {},
   "outputs": [],
   "source": [
    "MyClass.__mro__"
   ]
  },
  {
   "cell_type": "code",
   "execution_count": null,
   "id": "3b90c72b-bdf0-4238-ae21-583b38455118",
   "metadata": {},
   "outputs": [],
   "source": [
    "from everest import epitaph"
   ]
  },
  {
   "cell_type": "code",
   "execution_count": null,
   "id": "e9ab14c8-8e06-40dc-844b-b6a11c9138b6",
   "metadata": {},
   "outputs": [],
   "source": [
    "epitaph."
   ]
  },
  {
   "cell_type": "code",
   "execution_count": null,
   "id": "fc8f23b8-10b0-48f9-b18e-658303bf6aae",
   "metadata": {},
   "outputs": [],
   "source": [
    "dir(epitaph)"
   ]
  },
  {
   "cell_type": "code",
   "execution_count": null,
   "id": "5efc9a81-76a8-4864-a86f-0c5f1c732554",
   "metadata": {},
   "outputs": [],
   "source": [
    "from everest.ptolemaic.ousia import Sprite as _Sprite"
   ]
  },
  {
   "cell_type": "code",
   "execution_count": null,
   "id": "fd0382aa-c6d4-4fb0-b140-0688804e992f",
   "metadata": {},
   "outputs": [],
   "source": [
    "class MySprite(_Sprite):\n",
    "\n",
    "    def __init__(self, a, b, c=3, d=4):\n",
    "        ...\n",
    "\n",
    "\n",
    "myobj = MySprite(1, 2)\n",
    "myobj"
   ]
  },
  {
   "cell_type": "code",
   "execution_count": null,
   "id": "61fcc85b-001a-413c-8c6a-95d6e0989466",
   "metadata": {},
   "outputs": [],
   "source": [
    "MySprite.epitaph.decode()"
   ]
  },
  {
   "cell_type": "code",
   "execution_count": null,
   "id": "26ca208c-a374-4a38-81b1-1833f091cec5",
   "metadata": {},
   "outputs": [],
   "source": [
    "myobj"
   ]
  },
  {
   "cell_type": "code",
   "execution_count": null,
   "id": "fc4b7e6c-896a-430f-ae1a-c4b4494c12b0",
   "metadata": {},
   "outputs": [],
   "source": [
    "myobj.epitaph"
   ]
  },
  {
   "cell_type": "code",
   "execution_count": null,
   "id": "0209d739-3c7d-4a24-a099-760e87aa8f0e",
   "metadata": {},
   "outputs": [],
   "source": [
    "myobj.epitaph.decode()"
   ]
  },
  {
   "cell_type": "code",
   "execution_count": null,
   "id": "48c7e89b-bbcf-4d76-9784-78ca421917bf",
   "metadata": {},
   "outputs": [],
   "source": [
    "myobj is myobj.epitaph.decode()"
   ]
  }
 ],
 "metadata": {
  "kernelspec": {
   "display_name": "Python 3 (ipykernel)",
   "language": "python",
   "name": "python3"
  },
  "language_info": {
   "codemirror_mode": {
    "name": "ipython",
    "version": 3
   },
   "file_extension": ".py",
   "mimetype": "text/x-python",
   "name": "python",
   "nbconvert_exporter": "python",
   "pygments_lexer": "ipython3",
   "version": "3.9.5"
  }
 },
 "nbformat": 4,
 "nbformat_minor": 5
}
