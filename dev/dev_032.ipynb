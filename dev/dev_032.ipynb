{
 "cells": [
  {
   "cell_type": "code",
   "execution_count": null,
   "id": "d23613ff-98bf-466b-a4d5-1b1704df4a0f",
   "metadata": {},
   "outputs": [],
   "source": [
    "###############################################################################\n",
    "import aliases\n",
    "from everest.utilities import textutils\n",
    "# tuple(textutils.find_all('', path='../everest/ptolemaic'))\n",
    "# textutils.replace_all('Schematic', 'Compound', path='../everest')"
   ]
  },
  {
   "cell_type": "code",
   "execution_count": null,
   "id": "804867cd-4f65-490f-9ee7-283004b7114e",
   "metadata": {},
   "outputs": [],
   "source": [
    "from everest.ptolemaic.system import System"
   ]
  },
  {
   "cell_type": "code",
   "execution_count": null,
   "id": "c65c9bac-ffbd-4c14-90b6-05dc45b64ae9",
   "metadata": {},
   "outputs": [],
   "source": [
    "class A(metaclass=System):\n",
    "    ..."
   ]
  },
  {
   "cell_type": "code",
   "execution_count": null,
   "id": "2c626737-dbef-4855-9d9d-46881e6cbc9f",
   "metadata": {},
   "outputs": [],
   "source": [
    "A.__fields__"
   ]
  },
  {
   "cell_type": "code",
   "execution_count": null,
   "id": "4a9129aa-365e-4885-9466-499284fc4542",
   "metadata": {},
   "outputs": [],
   "source": [
    "A.__mergenames__"
   ]
  },
  {
   "cell_type": "code",
   "execution_count": null,
   "id": "4e9e2a06-1982-441d-811d-84674b562b1d",
   "metadata": {},
   "outputs": [],
   "source": [
    "B.foo"
   ]
  },
  {
   "cell_type": "code",
   "execution_count": null,
   "id": "66cd791d-be2a-4ac5-9311-56dac57e47cb",
   "metadata": {},
   "outputs": [],
   "source": [
    "B.bah"
   ]
  },
  {
   "cell_type": "code",
   "execution_count": null,
   "id": "dbafcc71-bcc0-4b96-adf4-610117882ae8",
   "metadata": {},
   "outputs": [],
   "source": [
    "repr(out)"
   ]
  },
  {
   "cell_type": "code",
   "execution_count": null,
   "id": "bc74870f-63f4-4ad9-b309-de388b2b0538",
   "metadata": {},
   "outputs": [],
   "source": [
    "type(out)"
   ]
  },
  {
   "cell_type": "code",
   "execution_count": null,
   "id": "d911270a-a895-47d6-8aa5-543dc6f59761",
   "metadata": {},
   "outputs": [],
   "source": [
    "from everest.ptolemaic import ptolemaic"
   ]
  },
  {
   "cell_type": "code",
   "execution_count": null,
   "id": "72a3f112-3313-45a6-b5ef-05738c19129a",
   "metadata": {},
   "outputs": [],
   "source": [
    "ptolemaic.convert_type(dict)"
   ]
  },
  {
   "cell_type": "code",
   "execution_count": null,
   "id": "d897359c-d4eb-40b3-9303-f7635976146d",
   "metadata": {},
   "outputs": [],
   "source": [
    "tuple(textutils.find_all('mergenames', path='../everest/ptolemaic'))"
   ]
  },
  {
   "cell_type": "code",
   "execution_count": null,
   "id": "5ab9d4de-2195-4afc-b835-7ad11dcffaec",
   "metadata": {},
   "outputs": [],
   "source": [
    "from everest.ptolemaic.chora import *"
   ]
  },
  {
   "cell_type": "code",
   "execution_count": null,
   "id": "69094f70-1a9f-4f5f-9e7a-0122eaf68d86",
   "metadata": {},
   "outputs": [],
   "source": [
    "set((1, 2)).difference(set(range(3)))"
   ]
  },
  {
   "cell_type": "code",
   "execution_count": null,
   "id": "ade0bc6f-cbe2-48f2-a5a3-deb14e53409f",
   "metadata": {},
   "outputs": [],
   "source": [
    "Chora."
   ]
  }
 ],
 "metadata": {
  "kernelspec": {
   "display_name": "Python 3 (ipykernel)",
   "language": "python",
   "name": "python3"
  },
  "language_info": {
   "codemirror_mode": {
    "name": "ipython",
    "version": 3
   },
   "file_extension": ".py",
   "mimetype": "text/x-python",
   "name": "python",
   "nbconvert_exporter": "python",
   "pygments_lexer": "ipython3",
   "version": "3.9.5"
  }
 },
 "nbformat": 4,
 "nbformat_minor": 5
}
