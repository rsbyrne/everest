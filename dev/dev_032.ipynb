{
 "cells": [
  {
   "cell_type": "code",
   "execution_count": null,
   "id": "d23613ff-98bf-466b-a4d5-1b1704df4a0f",
   "metadata": {},
   "outputs": [],
   "source": [
    "###############################################################################\n",
    "import aliases\n",
    "from everest.utilities import textutils\n",
    "# tuple(textutils.find_all('_repr_pretty_', path='../everest/ptolemaic'))\n",
    "# textutils.replace_all('Schematic', 'Compound', path='../everest')"
   ]
  },
  {
   "cell_type": "code",
   "execution_count": null,
   "id": "f7dcf8cc-cad5-494a-84b0-df63abfb3625",
   "metadata": {},
   "outputs": [],
   "source": [
    "from everest.ptolemaic.algebra import *\n",
    "from everest.ptolemaic.enumm import Enumm"
   ]
  },
  {
   "cell_type": "code",
   "execution_count": null,
   "id": "c8572585-53a3-486b-859c-54a95da8526d",
   "metadata": {},
   "outputs": [],
   "source": [
    "class Foo(Realm):\n",
    "\n",
    "    class symbols(metaclass=Enumm):\n",
    "        a: None\n",
    "        b: None\n",
    "        c: None\n",
    "        d: None\n",
    "        e: None\n",
    "        f: None\n",
    "\n",
    "    class algebra(mroclass):\n",
    "\n",
    "        zero = operator()\n",
    "        neg = operator(1, invertible=True)\n",
    "        add = operator(Ennary, associative=False, commutative=False)\n",
    "        mul = operator(\n",
    "            Ennary,\n",
    "            associative=False, commutative=False, distributive=pathget('.add')\n",
    "            )\n",
    "\n",
    "foo = Foo()\n",
    "alg = foo.algebra"
   ]
  },
  {
   "cell_type": "code",
   "execution_count": null,
   "id": "8aaf6b60-f668-4e78-a1c4-f35925708b8f",
   "metadata": {},
   "outputs": [],
   "source": [
    "form = alg.mul(\n",
    "    foo.symbols.a,\n",
    "    alg.add(foo.symbols.b, foo.symbols.c),\n",
    "    alg.add(foo.symbols.d, foo.symbols.e),\n",
    "    foo.symbols.e,\n",
    "    )\n",
    "# a * (b + c) * (d + e) * f == a*b*d*f + a*c*d*f + a*b*e*f + a*c*e*f\n",
    "#                           == (a*b + a*c) * (d + e) * f"
   ]
  },
  {
   "cell_type": "code",
   "execution_count": null,
   "id": "deeff153-6c33-491f-9837-43810cb7fd4c",
   "metadata": {},
   "outputs": [],
   "source": [
    "form"
   ]
  },
  {
   "cell_type": "code",
   "execution_count": null,
   "id": "aede5088-255f-44a9-bf5a-5812c00246ab",
   "metadata": {},
   "outputs": [],
   "source": [
    "form.canonise()"
   ]
  },
  {
   "cell_type": "code",
   "execution_count": null,
   "id": "24e5a86d-14df-458c-877b-43240b8aa391",
   "metadata": {},
   "outputs": [],
   "source": [
    "from collections import deque as _deque\n",
    "import itertools as _itertools\n",
    "\n",
    "\n",
    "def distribute(factors, under, /):\n",
    "    chunks = _deque()\n",
    "    buff = _deque()\n",
    "    for factor in factors:\n",
    "        if factor.operator is under:\n",
    "            chunks.append(tuple((*buff, term) for term in factor.arguments))\n",
    "            buff.clear()\n",
    "        else:\n",
    "            buff.append(factor)\n",
    "    if chunks:\n",
    "        chunks.append(tuple((*term, *buff) for term in chunks.pop()))\n",
    "        return tuple(map(tuple, map(\n",
    "            _itertools.chain.from_iterable, _itertools.product(*chunks)\n",
    "            )))\n",
    "    return (tuple(buff),)"
   ]
  },
  {
   "cell_type": "code",
   "execution_count": null,
   "id": "68feae21-4da6-421f-9507-379e66d810d5",
   "metadata": {},
   "outputs": [],
   "source": [
    "distributed = tuple(distribute(form.arguments, foo.add))"
   ]
  },
  {
   "cell_type": "code",
   "execution_count": null,
   "id": "8dd44476-1ed0-43df-ac3f-da9c02652e82",
   "metadata": {},
   "outputs": [],
   "source": [
    "distributed"
   ]
  },
  {
   "cell_type": "code",
   "execution_count": null,
   "id": "94e02aff-4437-4ee1-8944-922a450102cc",
   "metadata": {},
   "outputs": [],
   "source": [
    "for item in distribute(form.arguments, foo.add):\n",
    "    display(tuple(item))"
   ]
  },
  {
   "cell_type": "code",
   "execution_count": null,
   "id": "452bd92d-4ec3-46cf-87fc-9c22e3d54ee7",
   "metadata": {},
   "outputs": [],
   "source": [
    "distributed[0]"
   ]
  },
  {
   "cell_type": "code",
   "execution_count": null,
   "id": "3f59339c-564f-49a0-8b38-82d7b759b432",
   "metadata": {},
   "outputs": [],
   "source": [
    "distributed[1]"
   ]
  },
  {
   "cell_type": "code",
   "execution_count": null,
   "id": "59669aa6-ef4a-44fa-8783-238a27a3abc8",
   "metadata": {},
   "outputs": [],
   "source": []
  },
  {
   "cell_type": "code",
   "execution_count": null,
   "id": "d16e77f2-c5e1-40d3-969f-470ab323430a",
   "metadata": {},
   "outputs": [],
   "source": [
    "a * (b + c) * (d + e)"
   ]
  },
  {
   "cell_type": "code",
   "execution_count": null,
   "id": "b0bad1e9-3013-42cc-b577-36ab53e8584c",
   "metadata": {},
   "outputs": [],
   "source": [
    "a * (b + c) * d == a*d * (b + c) == a*d*b + a*d*c"
   ]
  },
  {
   "cell_type": "code",
   "execution_count": null,
   "id": "b4fbc518-895f-45b9-b79c-6717a746da7c",
   "metadata": {},
   "outputs": [],
   "source": [
    "a, b, c, d, e, f = range(2, 8)\n",
    "g = a * b\n",
    "h = c + d\n",
    "i = e + f\n",
    "assert a * b * (c + d) * (e + f) \\\n",
    "    == g * h * i \\\n",
    "    == (a*b*c + a*b*d) * (e + f) \\\n",
    "    == a*b*c*e + a*b*c*f + a*b*d*e + a*b*d*f"
   ]
  },
  {
   "cell_type": "code",
   "execution_count": null,
   "id": "0a1166fa-9723-4d46-a94d-9ae7dd3f57b9",
   "metadata": {},
   "outputs": [],
   "source": [
    "assert a * b * (c + d) * e * (f + g) * h \\\n",
    "    == (a*b*c + a*b*d) * (e*f + e*g) * h \\\n",
    "    == (a*b*c + a*b*d) * (e*f*h + e*g*h)"
   ]
  },
  {
   "cell_type": "code",
   "execution_count": null,
   "id": "5d662e24-7259-45a7-9396-928e76882b1e",
   "metadata": {},
   "outputs": [],
   "source": [
    "def simple_distribute(distr, prefactors, expression, postfactors, /):\n",
    "    return distr(*((*prefactors, arg, *postfactors) for arg in expression.args))\n",
    "\n",
    "def distribute(distr, expression, /):\n",
    "    args = expression.args\n",
    "    isdistrs = tuple(isinstance(arg, distr) for arg in args)\n",
    "    if not any(isdistrs):\n",
    "        return expression\n",
    "    # outterms = []\n",
    "    # while True:\n",
    "    buff = []\n",
    "    newargs = []\n",
    "    for arg, isdistr in zip(args, isdistrs):\n",
    "        if isdistr:\n",
    "            newargs.append(simple_distribute(distr, buff, arg, ()))\n",
    "            buff.clear()\n",
    "        else:\n",
    "            buff.append(arg)\n",
    "    if buff:\n",
    "        newargs[-1] = tuple((*term, *buff) for term in newargs[-1].args)\n",
    "    # if len(newargs) == 1:\n",
    "    #     return newargs[0]\n",
    "    return type(expression)(*newargs)\n",
    "\n",
    "out = distribute(\n",
    "    Add,\n",
    "    Mul('a', 'b', Add('c', 'd'), 'e', Add('f', 'g'), 'h'),\n",
    "    )\n",
    "display(out)"
   ]
  },
  {
   "cell_type": "code",
   "execution_count": null,
   "id": "cb41121c-14a7-4579-a7eb-b5e5b7c68bb4",
   "metadata": {},
   "outputs": [],
   "source": [
    "class Distributor:\n",
    "\n",
    "    __slots__ = ('mul', 'add')\n",
    "\n",
    "    def __init__(self, mul, add, /):\n",
    "        self.mul, self.add = mul, add\n",
    "\n",
    "    class Op:\n",
    "        __slots__ = ('args',)\n",
    "        def __init__(self, *args):\n",
    "            self.args = args\n",
    "        def __repr__(self, /):\n",
    "            return f\"{self.__class__.__name__}{self.args}\"\n",
    "\n",
    "    class Add(Op):\n",
    "        ...\n",
    "\n",
    "    class Mul(Op):\n",
    "        ...\n",
    "\n",
    "    class Other:\n",
    "        def __init__(self, arg, /):\n",
    "            self.arg = arg\n",
    "        def __repr__(self, /):\n",
    "            return f\"{self.__class__.__name__}({self.arg})\"\n",
    "\n",
    "    def preprocess(self, arg, /):\n",
    "        if isinstance(arg, self.mul):\n",
    "            return self(*arg.args)\n",
    "            return self.Mul(*arg.args)\n",
    "        if isinstance(arg, self.add):\n",
    "            return self.Add(*arg.args)\n",
    "        return arg\n",
    "\n",
    "    def combine(self, arg0, arg1):\n",
    "        \n",
    "\n",
    "    def __call__(self, /, *args):\n",
    "        return self.Add(*map(self.preprocess, args))"
   ]
  },
  {
   "cell_type": "code",
   "execution_count": null,
   "id": "31f1677a-9a34-49d9-8c53-00f5621a53b2",
   "metadata": {},
   "outputs": [],
   "source": [
    "class Base:\n",
    "    __slots__ = ('args',)\n",
    "    def __init__(self, *args):\n",
    "        self.args = args\n",
    "    def __repr__(self, /):\n",
    "        return f\"{self.__class__.__name__}{self.args}\"\n",
    "class MyMul(Base):\n",
    "    ...\n",
    "class MyAdd(Base):\n",
    "    ...\n",
    "distributor = Distributor(MyMul, MyAdd)\n",
    "distributor('a', 'b', MyAdd('c', 'd'), 'e', MyMul('f', 'g'))"
   ]
  },
  {
   "cell_type": "code",
   "execution_count": null,
   "id": "e86483e9-649b-4a26-9de8-541321d7f3f6",
   "metadata": {},
   "outputs": [],
   "source": [
    "distribute(\n",
    "    Add,\n",
    "    Mul('a', 'b', Add('c', 'd'), 'e', Add('f', 'g'), 'h'),\n",
    "    )"
   ]
  },
  {
   "cell_type": "code",
   "execution_count": null,
   "id": "dc542662-48ba-46a7-b40e-441d6c8abf5e",
   "metadata": {},
   "outputs": [],
   "source": [
    "Distribute(1)"
   ]
  },
  {
   "cell_type": "code",
   "execution_count": null,
   "id": "7c0ab209-1498-4f1e-b609-a0ca74999dae",
   "metadata": {},
   "outputs": [],
   "source": []
  },
  {
   "cell_type": "code",
   "execution_count": null,
   "id": "05c865a5-c5e9-4c57-90c6-450223d5a9d4",
   "metadata": {},
   "outputs": [],
   "source": [
    "distribute(\n",
    "    Add,\n",
    "    Mul('a', 'b', Add('c')),\n",
    "    )"
   ]
  },
  {
   "cell_type": "code",
   "execution_count": null,
   "id": "e4fbc3d0-805f-4470-9905-314458abcadf",
   "metadata": {},
   "outputs": [],
   "source": [
    "distribute(Add, out)"
   ]
  },
  {
   "cell_type": "code",
   "execution_count": null,
   "id": "729eecbb-a907-45a8-bede-47a0122ab601",
   "metadata": {},
   "outputs": [],
   "source": [
    "assert a * b * (c + d) * e * (f + g) * h \\\n",
    "    == (a*b*c + a*b*d) * (e*f + e*g) * h \\\n",
    "    == (a*b*c + a*b*d) * (e*f*h + e*g*h) \\\n",
    "    == a*b*c*e*f*h + a*b*c*e*g*h + a*b*d*e*f*h + a*b*d*e*g*h"
   ]
  },
  {
   "cell_type": "code",
   "execution_count": null,
   "id": "509ee4ba-2d27-4a22-be07-1aabb7048c73",
   "metadata": {},
   "outputs": [],
   "source": [
    "distribute_over(('a', 'b'), ('c', 'd'))"
   ]
  },
  {
   "cell_type": "code",
   "execution_count": null,
   "id": "03446297-aad5-4da5-94ee-7b3c329acae3",
   "metadata": {},
   "outputs": [],
   "source": [
    "\n",
    "from everest.ptolemaic.brace import Brace"
   ]
  },
  {
   "cell_type": "code",
   "execution_count": null,
   "id": "421aec9d-bc39-408b-9125-44e69c1cf48b",
   "metadata": {},
   "outputs": [],
   "source": [
    "class MyAlgebra(metaclass=Algebra):\n",
    "\n",
    "    class Brace(Brace):\n",
    "        ..."
   ]
  },
  {
   "cell_type": "code",
   "execution_count": null,
   "id": "069730fe-e005-4bb8-9970-bbd3f79d3910",
   "metadata": {},
   "outputs": [],
   "source": [
    "MyAlgebra.Brace.Power"
   ]
  },
  {
   "cell_type": "code",
   "execution_count": null,
   "id": "892cf06d-deb3-40c9-ac8e-fb18a8b82152",
   "metadata": {},
   "outputs": [],
   "source": [
    "\n",
    "from everest.ptolemaic.system import System"
   ]
  },
  {
   "cell_type": "code",
   "execution_count": null,
   "id": "1dc51b33-5186-4a61-a9ae-62ab7457dc0c",
   "metadata": {},
   "outputs": [],
   "source": [
    "class A(metaclass=System):\n",
    "    a: POS[int]\n",
    "    foo = str\n",
    "class B(A):\n",
    "    a: POS['.foo']\n",
    "class C(B):\n",
    "    foo = bool\n",
    "C.__signature__"
   ]
  },
  {
   "cell_type": "code",
   "execution_count": null,
   "id": "769ba128-02c6-4cef-9212-e9d6a128466f",
   "metadata": {},
   "outputs": [],
   "source": [
    "B.__fields__"
   ]
  },
  {
   "cell_type": "code",
   "execution_count": null,
   "id": "8a73825a-bcb7-45fd-8361-f4ec921400ac",
   "metadata": {},
   "outputs": [],
   "source": [
    "class A(metaclass=Algebra):\n",
    "    @classmethod\n",
    "    def _algconvert_(cls, arg, /):\n",
    "        return arg\n",
    "    class Identity(mroclass('.__Nullary__'), metaclass=System):\n",
    "        ...\n",
    "    # class MyOp(mroclass('.__Ennary__')):\n",
    "    #     identity = pathget('..IDENTITY', live=True)\n",
    "    #     @classmethod\n",
    "    #     def _construct_(cls, params, /):\n",
    "    #         return params[0]"
   ]
  },
  {
   "cell_type": "code",
   "execution_count": null,
   "id": "004ccb26-d7ca-4a6e-a33f-c805d381ba69",
   "metadata": {},
   "outputs": [],
   "source": [
    "class Natural(int):\n",
    "\n",
    "    def __init__(self, value, /):\n",
    "        if value < 0:\n",
    "            raise ValueError(value)\n",
    "        super().__init__()\n",
    "\n",
    "    def __repr__(self, /):\n",
    "        return f\"Natural({super().__repr__()})\"\n",
    "\n",
    "    def __sub__(self, other, /):\n",
    "        return type(self)(super().__sub__(other))"
   ]
  },
  {
   "cell_type": "code",
   "execution_count": null,
   "id": "9cfb20da-26da-4176-8505-4d87ec64479c",
   "metadata": {},
   "outputs": [],
   "source": [
    "Natural(1) - 1"
   ]
  },
  {
   "cell_type": "code",
   "execution_count": null,
   "id": "64f8d8c5-4106-4a51-839b-bfdad60cf909",
   "metadata": {},
   "outputs": [],
   "source": [
    "from everest.ptolemaic.essence import Essence as _Essence\n",
    "from everest.ptolemaic.algebra import Algebra as _Algebra\n",
    "from everest.ptolemaic.sett import Sett as _Sett\n",
    "from everest.ptolemaic.brace import Brace as _Brace\n",
    "from everest.ptolemaic.ptolemaic import Ptolemaic as _Ptolemaic\n",
    "\n",
    "\n",
    "class Objj(metaclass=_Algebra):\n",
    "\n",
    "\n",
    "    @classmethod\n",
    "    def __class_init__(cls, /):\n",
    "        super().__class_init__()\n",
    "        cls.Sett.Element = cls.Base\n",
    "        if cls is __class__:\n",
    "            cls.Base.register(_Ptolemaic)\n",
    "\n",
    "\n",
    "    class Base(mroclass):\n",
    "\n",
    "        ...\n",
    "\n",
    "\n",
    "    class Sett(mroclass(_Sett)):\n",
    "\n",
    "        ...\n",
    "\n",
    "\n",
    "    class Brace(mroclass(_Brace)):\n",
    "\n",
    "        ..."
   ]
  },
  {
   "cell_type": "code",
   "execution_count": null,
   "id": "8ceeb3c3-3c30-4cd0-a1fc-64fc2585c7a2",
   "metadata": {},
   "outputs": [],
   "source": [
    "[] in _Sett.UNIVERSE"
   ]
  },
  {
   "cell_type": "code",
   "execution_count": null,
   "id": "3b72ad30-4db1-4a22-b0b7-5c61d6c0b255",
   "metadata": {},
   "outputs": [],
   "source": [
    "Objj in Objj.Sett.UNIVERSE"
   ]
  },
  {
   "cell_type": "code",
   "execution_count": null,
   "id": "c3c8c373-76d2-4f1b-9726-e8c5089b93d8",
   "metadata": {},
   "outputs": [],
   "source": [
    "# textutils.replace_all('Schematic', 'Compound', path='../everest')"
   ]
  },
  {
   "cell_type": "code",
   "execution_count": null,
   "id": "1b4bfea5-d06e-4088-a576-07626bb124f1",
   "metadata": {},
   "outputs": [],
   "source": [
    "from everest.algebraic import sett, mapp, chora\n",
    "from everest.ptolemaic.system import System"
   ]
  },
  {
   "cell_type": "code",
   "execution_count": null,
   "id": "e2e2091f-1591-40ad-a5bf-02db1208fcc9",
   "metadata": {},
   "outputs": [],
   "source": [
    "class MyChora(chora.Choret, metaclass=System):\n",
    "\n",
    "    lower: POS[int]\n",
    "    upper: POS[int] = None\n",
    "\n",
    "    @classmethod\n",
    "    def __parameterise__(cls, /, *args, **kwargs):\n",
    "        params = super().__parameterise__(*args, **kwargs)\n",
    "        if params.upper is None:\n",
    "            params.upper = params.lower\n",
    "            params.lower = 0\n",
    "        return params\n",
    "\n",
    "    def _incise_handle_int_(self, incisor: int, /):\n",
    "        return chora.IncisionStyle.RETRIEVE(incisor)\n",
    "\n",
    "    def _incise_handle_slice_(self, incisor: slice, /):\n",
    "        start, stop, step = incisor.start, incisor.stop, incisor.step\n",
    "        if step is not None:\n",
    "            raise ValueError(incisor)\n",
    "        return chora.IncisionStyle.SLYCE((start, stop))\n",
    "\n",
    "    def _incise_handle_tuple(self, incisor: tuple, /):\n",
    "        return chora.IncisionStyle.SLYCE(incisor)\n",
    "\n",
    "    def _incise_handle_ellipsis_(self, incisor: type(Ellipsis), /):\n",
    "        return chora.IncisionStyle.TRIVIAL(incisor)\n",
    "\n",
    "    def _incise_retrieve_int_(self, incisor: int, /):\n",
    "        return self.lower + incisor if incisor >= 0 else self.upper + incisor\n",
    "\n",
    "    def _incise_slyce_tuple_(self, lower, upper, /):\n",
    "        slower, supper = self.params\n",
    "        return self.__ptolemaic_class__(\n",
    "            slower if lower is None else \\\n",
    "                (slower if lower >= 0 else supper) + lower,\n",
    "            supper if upper is None else \\\n",
    "                (slower if upper >= 0 else supper) + upper,\n",
    "            )\n",
    "\n",
    "    def __iter__(self, /):\n",
    "        return iter(range(*self.params))\n",
    "\n",
    "    def _contains_(self, other, /):\n",
    "        return self.lower <= other <= self.upper\n",
    "\n",
    "\n",
    "achora = MyChora(3, 9)\n",
    "bchora = MyChora(5, 15)\n",
    "cchora = bchora @ achora\n",
    "cchora[3:]"
   ]
  },
  {
   "cell_type": "code",
   "execution_count": null,
   "id": "bcf0b167-afc3-4383-a147-18a7171da276",
   "metadata": {},
   "outputs": [],
   "source": [
    "class MyClass(chora.Chorelle, metaclass=System):\n",
    "\n",
    "    chora: chora.Chora\n",
    "\n",
    "    def _incise_slyce_(self, incisor, /):\n",
    "        return self.__ptolemaic_class__(super()._incise_slyce_(incisor))\n",
    "\n",
    "\n",
    "dchora = MyClass(cchora)\n",
    "assert dchora[...] is dchora\n",
    "dchora[3:]"
   ]
  },
  {
   "cell_type": "code",
   "execution_count": null,
   "id": "0ca55bc8-29bc-43eb-8822-4cef3ab6e1c8",
   "metadata": {},
   "outputs": [],
   "source": [
    "echora = chora.MultiChora(achora, bchora)\n",
    "display(echora[0, 2:])\n",
    "display(echora[0, 2:][0])\n",
    "(3, 7) in echora"
   ]
  },
  {
   "cell_type": "code",
   "execution_count": null,
   "id": "327e85ff-00ed-43b2-81cc-801872acc12b",
   "metadata": {},
   "outputs": [],
   "source": []
  }
 ],
 "metadata": {
  "kernelspec": {
   "display_name": "Python 3 (ipykernel)",
   "language": "python",
   "name": "python3"
  },
  "language_info": {
   "codemirror_mode": {
    "name": "ipython",
    "version": 3
   },
   "file_extension": ".py",
   "mimetype": "text/x-python",
   "name": "python",
   "nbconvert_exporter": "python",
   "pygments_lexer": "ipython3",
   "version": "3.9.5"
  }
 },
 "nbformat": 4,
 "nbformat_minor": 5
}
