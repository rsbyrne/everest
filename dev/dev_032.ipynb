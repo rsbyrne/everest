{
 "cells": [
  {
   "cell_type": "code",
   "execution_count": null,
   "id": "d23613ff-98bf-466b-a4d5-1b1704df4a0f",
   "metadata": {},
   "outputs": [],
   "source": [
    "###############################################################################\n",
    "import aliases\n",
    "from everest.utilities import textutils\n",
    "# tuple(textutils.find_all('__getattr__', path='../everest/ptolemaic'))\n",
    "# textutils.replace_all('Schematic', 'Compound', path='../everest')"
   ]
  },
  {
   "cell_type": "code",
   "execution_count": null,
   "id": "1517af7e-ae4a-4564-b42c-b5c8f64e7a33",
   "metadata": {},
   "outputs": [],
   "source": [
    "from everest.ptolemaic.algebra import Algebra"
   ]
  },
  {
   "cell_type": "code",
   "execution_count": null,
   "id": "e85139ba-18c9-4f58-b6a3-a0292569cbaa",
   "metadata": {},
   "outputs": [],
   "source": [
    "class Foo(Algebra):\n",
    "\n",
    "    zero = constant(0)\n",
    "    one = constant(1)\n",
    "    add = operator(\n",
    "        ...,\n",
    "        associative=False, commutative=False,\n",
    "        identity='zero', inverse='neg',\n",
    "        )\n",
    "    neg = operator(1, reversible=True, distributive='add')\n",
    "    mul = operator(\n",
    "        ...,\n",
    "        associative=False, commutative=False,\n",
    "        identity='one', inverse='rec',\n",
    "        distributive='add',\n",
    "        )\n",
    "    rec = operator(1, reversible=True, distributive='mul')\n",
    "\n",
    "    def recognise_symbol(self, symbol, /):\n",
    "        return isinstance(symbol, (str, int))\n",
    "\n",
    "\n",
    "foo = Foo()\n",
    "display(foo.hashID)\n",
    "\n",
    "assert foo.neg(foo.zero).canonical is foo.zero"
   ]
  },
  {
   "cell_type": "code",
   "execution_count": null,
   "id": "54630a47-0449-406b-8987-987d4aa1cfb4",
   "metadata": {},
   "outputs": [],
   "source": [
    "foo.mul.distributive"
   ]
  },
  {
   "cell_type": "code",
   "execution_count": null,
   "id": "9258a9e5-6bc7-4f4a-94af-db44160af264",
   "metadata": {},
   "outputs": [],
   "source": [
    "foo.add(foo.one, foo.neg(foo.one)).canonical.hashint"
   ]
  },
  {
   "cell_type": "code",
   "execution_count": null,
   "id": "b9c84f6e-caa6-461c-b55c-04a1a4fa2644",
   "metadata": {},
   "outputs": [],
   "source": [
    "foo.neg(foo.add(foo('b'), foo('c'), foo.zero)).canonical"
   ]
  },
  {
   "cell_type": "code",
   "execution_count": null,
   "id": "d3ba15b5-5322-45bb-b946-2799bc93c5b2",
   "metadata": {},
   "outputs": [],
   "source": [
    "form = foo.add(foo('b'), foo('c'), foo.zero)"
   ]
  },
  {
   "cell_type": "code",
   "execution_count": null,
   "id": "d59a8c3a-aa27-4066-90b5-65849e2957df",
   "metadata": {},
   "outputs": [],
   "source": [
    "form.canonical"
   ]
  },
  {
   "cell_type": "code",
   "execution_count": null,
   "id": "8aaf6b60-f668-4e78-a1c4-f35925708b8f",
   "metadata": {},
   "outputs": [],
   "source": [
    "form = foo.mul(\n",
    "    foo('a'),\n",
    "    foo.one,\n",
    "    foo.neg(foo.add(foo('b'), foo('c'), foo.zero)),\n",
    "    foo.add(foo('d'), foo('e')),\n",
    "    foo('f'),\n",
    "    )"
   ]
  },
  {
   "cell_type": "code",
   "execution_count": null,
   "id": "c2e14b9d-b7de-4b90-8063-814bbf61f85b",
   "metadata": {},
   "outputs": [],
   "source": [
    "form.canonical"
   ]
  },
  {
   "cell_type": "code",
   "execution_count": null,
   "id": "ac5116c8-2ab0-4f7d-b54c-ceb8b8fa639a",
   "metadata": {},
   "outputs": [],
   "source": [
    "f\"ab{2}c\"f\"de{3}f\""
   ]
  },
  {
   "cell_type": "code",
   "execution_count": null,
   "id": "f0caadd1-64f1-4a54-9ea0-3a5e7d324926",
   "metadata": {},
   "outputs": [],
   "source": [
    "# a + ((b + c) + d)"
   ]
  },
  {
   "cell_type": "code",
   "execution_count": null,
   "id": "c3c8c373-76d2-4f1b-9726-e8c5089b93d8",
   "metadata": {},
   "outputs": [],
   "source": [
    "# textutils.replace_all('Schematic', 'Compound', path='../everest')"
   ]
  },
  {
   "cell_type": "code",
   "execution_count": null,
   "id": "1b4bfea5-d06e-4088-a576-07626bb124f1",
   "metadata": {},
   "outputs": [],
   "source": [
    "from everest.algebraic import sett, mapp, chora\n",
    "from everest.ptolemaic.system import System"
   ]
  },
  {
   "cell_type": "code",
   "execution_count": null,
   "id": "e2e2091f-1591-40ad-a5bf-02db1208fcc9",
   "metadata": {},
   "outputs": [],
   "source": [
    "class MyChora(chora.Choret, metaclass=System):\n",
    "\n",
    "    lower: POS[int]\n",
    "    upper: POS[int] = None\n",
    "\n",
    "    @classmethod\n",
    "    def __parameterise__(cls, /, *args, **kwargs):\n",
    "        params = super().__parameterise__(*args, **kwargs)\n",
    "        if params.upper is None:\n",
    "            params.upper = params.lower\n",
    "            params.lower = 0\n",
    "        return params\n",
    "\n",
    "    def _incise_handle_int_(self, incisor: int, /):\n",
    "        return chora.IncisionStyle.RETRIEVE(incisor)\n",
    "\n",
    "    def _incise_handle_slice_(self, incisor: slice, /):\n",
    "        start, stop, step = incisor.start, incisor.stop, incisor.step\n",
    "        if step is not None:\n",
    "            raise ValueError(incisor)\n",
    "        return chora.IncisionStyle.SLYCE((start, stop))\n",
    "\n",
    "    def _incise_handle_tuple(self, incisor: tuple, /):\n",
    "        return chora.IncisionStyle.SLYCE(incisor)\n",
    "\n",
    "    def _incise_handle_ellipsis_(self, incisor: type(Ellipsis), /):\n",
    "        return chora.IncisionStyle.TRIVIAL(incisor)\n",
    "\n",
    "    def _incise_retrieve_int_(self, incisor: int, /):\n",
    "        return self.lower + incisor if incisor >= 0 else self.upper + incisor\n",
    "\n",
    "    def _incise_slyce_tuple_(self, lower, upper, /):\n",
    "        slower, supper = self.params\n",
    "        return self.__ptolemaic_class__(\n",
    "            slower if lower is None else \\\n",
    "                (slower if lower >= 0 else supper) + lower,\n",
    "            supper if upper is None else \\\n",
    "                (slower if upper >= 0 else supper) + upper,\n",
    "            )\n",
    "\n",
    "    def __iter__(self, /):\n",
    "        return iter(range(*self.params))\n",
    "\n",
    "    def _contains_(self, other, /):\n",
    "        return self.lower <= other <= self.upper\n",
    "\n",
    "\n",
    "achora = MyChora(3, 9)\n",
    "bchora = MyChora(5, 15)\n",
    "cchora = bchora @ achora\n",
    "cchora[3:]"
   ]
  },
  {
   "cell_type": "code",
   "execution_count": null,
   "id": "bcf0b167-afc3-4383-a147-18a7171da276",
   "metadata": {},
   "outputs": [],
   "source": [
    "class MyClass(chora.Chorelle, metaclass=System):\n",
    "\n",
    "    chora: chora.Chora\n",
    "\n",
    "    def _incise_slyce_(self, incisor, /):\n",
    "        return self.__ptolemaic_class__(super()._incise_slyce_(incisor))\n",
    "\n",
    "\n",
    "dchora = MyClass(cchora)\n",
    "assert dchora[...] is dchora\n",
    "dchora[3:]"
   ]
  },
  {
   "cell_type": "code",
   "execution_count": null,
   "id": "0ca55bc8-29bc-43eb-8822-4cef3ab6e1c8",
   "metadata": {},
   "outputs": [],
   "source": [
    "echora = chora.MultiChora(achora, bchora)\n",
    "display(echora[0, 2:])\n",
    "display(echora[0, 2:][0])\n",
    "(3, 7) in echora"
   ]
  },
  {
   "cell_type": "code",
   "execution_count": null,
   "id": "327e85ff-00ed-43b2-81cc-801872acc12b",
   "metadata": {},
   "outputs": [],
   "source": []
  }
 ],
 "metadata": {
  "kernelspec": {
   "display_name": "Python 3 (ipykernel)",
   "language": "python",
   "name": "python3"
  },
  "language_info": {
   "codemirror_mode": {
    "name": "ipython",
    "version": 3
   },
   "file_extension": ".py",
   "mimetype": "text/x-python",
   "name": "python",
   "nbconvert_exporter": "python",
   "pygments_lexer": "ipython3",
   "version": "3.9.5"
  }
 },
 "nbformat": 4,
 "nbformat_minor": 5
}
