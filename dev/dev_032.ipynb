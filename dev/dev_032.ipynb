{
 "cells": [
  {
   "cell_type": "code",
   "execution_count": null,
   "id": "d23613ff-98bf-466b-a4d5-1b1704df4a0f",
   "metadata": {},
   "outputs": [],
   "source": [
    "###############################################################################\n",
    "import aliases\n",
    "from everest.utilities import textutils\n",
    "# tuple(textutils.find_all('', path='../everest/ptolemaic'))\n",
    "# textutils.replace_all('Schematic', 'Compound', path='../everest')"
   ]
  },
  {
   "cell_type": "code",
   "execution_count": null,
   "id": "753736ff-e5f5-4eec-8fdd-a686e3e726dd",
   "metadata": {},
   "outputs": [],
   "source": [
    "# import abc as _abc\n",
    "# import itertools as _itertools\n",
    "# from collections import abc as _collabc\n",
    "\n",
    "# from everest.ptolemaic.essence import Essence as _Essence\n",
    "# from everest.ptolemaic.system import System as _System\n",
    "# from everest.ptolemaic.algebra import Algebra as _Algebra\n",
    "# from everest.ptolemaic.brace import Brace as _Brace\n",
    "\n",
    "\n",
    "# class Thing(metaclass=_Algebra):\n",
    "\n",
    "#     __mroclasses__ = dict(\n",
    "#         Brace=_Brace,\n",
    "#         Element='.Base',\n",
    "#         )\n",
    "\n",
    "#     @classmethod\n",
    "#     def __class_init__(cls, /):\n",
    "#         super().__class_init__()\n",
    "#         cls.Base.bracetyp = cls.Brace\n",
    "\n",
    "\n",
    "#     class Base(metaclass=_Essence):\n",
    "\n",
    "#         # def __pos__(self, /):\n",
    "#         #     return self.bracetyp(self)\n",
    "\n",
    "#         def __pow__(self, other, /):\n",
    "#             return self.bracetyp(self, labels=other)\n",
    "\n",
    "#         def __mul__(self, other, /):\n",
    "#             return self.bracetyp.merge(self, other)\n",
    "\n",
    "#         def __rmul__(self, other, /):\n",
    "#             return self.bracetyp.merge(other, self)\n",
    "\n",
    "\n",
    "#     class Element(metaclass=_System):\n",
    "\n",
    "#         a: ..."
   ]
  },
  {
   "cell_type": "code",
   "execution_count": null,
   "id": "2b400d92-94f7-40dd-bb4f-cc780df2c857",
   "metadata": {},
   "outputs": [],
   "source": [
    "from everest.ptolemaic import sett\n",
    "1 in sett(int) | sett(float)"
   ]
  },
  {
   "cell_type": "code",
   "execution_count": null,
   "id": "98ab2e5d-bdf7-4166-bed1-f575b8fd4331",
   "metadata": {},
   "outputs": [],
   "source": [
    "sett(int) * sett(float)"
   ]
  },
  {
   "cell_type": "code",
   "execution_count": null,
   "id": "4d6425ec-3592-484e-94ad-b46ddf04f979",
   "metadata": {},
   "outputs": [],
   "source": [
    "(1, 2) in sett(int)**..."
   ]
  },
  {
   "cell_type": "code",
   "execution_count": null,
   "id": "a27eab98-aeaa-40d7-8e81-e28a406a2c9e",
   "metadata": {},
   "outputs": [],
   "source": []
  },
  {
   "cell_type": "code",
   "execution_count": null,
   "id": "5310bb7f-47d0-4a68-89b4-8b1aa118f8de",
   "metadata": {},
   "outputs": [],
   "source": [
    "import itertools"
   ]
  },
  {
   "cell_type": "code",
   "execution_count": null,
   "id": "a8800804-8be1-4f4b-b460-ec2acaa2a347",
   "metadata": {},
   "outputs": [],
   "source": [
    "itertools.zip_longest"
   ]
  },
  {
   "cell_type": "code",
   "execution_count": null,
   "id": "d9d55ef4-3546-4c55-bfaf-8b18de232455",
   "metadata": {},
   "outputs": [],
   "source": [
    "(1, 2, 3, 4, 5) in sett(int)**3"
   ]
  },
  {
   "cell_type": "code",
   "execution_count": null,
   "id": "27fc578f-1511-4644-9320-52cfc4fab8a8",
   "metadata": {},
   "outputs": [],
   "source": [
    "((1, 2), (3, 4), (5, 6)) in "
   ]
  },
  {
   "cell_type": "code",
   "execution_count": null,
   "id": "317be639-9b9b-45eb-bc2d-ab3adc7be2c5",
   "metadata": {},
   "outputs": [],
   "source": [
    "sett(int) * (sett(float) * sett(str))**1"
   ]
  },
  {
   "cell_type": "code",
   "execution_count": null,
   "id": "b01645c3-3e7f-412e-a86c-2466029aa5a0",
   "metadata": {},
   "outputs": [],
   "source": [
    "assert ('foo', 1., 2) in \\\n",
    "    sett(str) * sett(float) * sett(int)\n",
    "assert ('foo', (1., 2)) in \\\n",
    "    sett(str) * (sett(float) * sett(int))**1\n",
    "assert ((0, 1), (2, 3), (4, 5)) in \\\n",
    "    (sett(int)**2)**3\n",
    "assert ((), (1, 2), (3, 4, 5)) in \\\n",
    "    (sett(int)**...)**3\n",
    "# assert ('foo', 1., 2) in \\\n",
    "#     +sett(str) * +sett(float) * +sett(int)\n",
    "# assert ('foo', (1., 2)) in \\\n",
    "#     +sett(str) * +(+sett(float) * +sett(int))"
   ]
  },
  {
   "cell_type": "code",
   "execution_count": null,
   "id": "7a59479a-f7ab-4d70-bca0-3468ada9b4f4",
   "metadata": {},
   "outputs": [],
   "source": []
  },
  {
   "cell_type": "code",
   "execution_count": null,
   "id": "1b4bfea5-d06e-4088-a576-07626bb124f1",
   "metadata": {},
   "outputs": [],
   "source": [
    "from everest.algebraic import sett, mapp, chora\n",
    "from everest.ptolemaic.system import System"
   ]
  },
  {
   "cell_type": "code",
   "execution_count": null,
   "id": "e2e2091f-1591-40ad-a5bf-02db1208fcc9",
   "metadata": {},
   "outputs": [],
   "source": [
    "class MyChora(chora.Choret, metaclass=System):\n",
    "\n",
    "    lower: POS[int]\n",
    "    upper: POS[int] = None\n",
    "\n",
    "    @classmethod\n",
    "    def __parameterise__(cls, /, *args, **kwargs):\n",
    "        params = super().__parameterise__(*args, **kwargs)\n",
    "        if params.upper is None:\n",
    "            params.upper = params.lower\n",
    "            params.lower = 0\n",
    "        return params\n",
    "\n",
    "    def _incise_handle_int_(self, incisor: int, /):\n",
    "        return chora.IncisionStyle.RETRIEVE(incisor)\n",
    "\n",
    "    def _incise_handle_slice_(self, incisor: slice, /):\n",
    "        start, stop, step = incisor.start, incisor.stop, incisor.step\n",
    "        if step is not None:\n",
    "            raise ValueError(incisor)\n",
    "        return chora.IncisionStyle.SLYCE((start, stop))\n",
    "\n",
    "    def _incise_handle_tuple(self, incisor: tuple, /):\n",
    "        return chora.IncisionStyle.SLYCE(incisor)\n",
    "\n",
    "    def _incise_handle_ellipsis_(self, incisor: type(Ellipsis), /):\n",
    "        return chora.IncisionStyle.TRIVIAL(incisor)\n",
    "\n",
    "    def _incise_retrieve_int_(self, incisor: int, /):\n",
    "        return self.lower + incisor if incisor >= 0 else self.upper + incisor\n",
    "\n",
    "    def _incise_slyce_tuple_(self, lower, upper, /):\n",
    "        slower, supper = self.params\n",
    "        return self.__ptolemaic_class__(\n",
    "            slower if lower is None else \\\n",
    "                (slower if lower >= 0 else supper) + lower,\n",
    "            supper if upper is None else \\\n",
    "                (slower if upper >= 0 else supper) + upper,\n",
    "            )\n",
    "\n",
    "    def __iter__(self, /):\n",
    "        return iter(range(*self.params))\n",
    "\n",
    "    def _contains_(self, other, /):\n",
    "        return self.lower <= other <= self.upper\n",
    "\n",
    "\n",
    "achora = MyChora(3, 9)\n",
    "bchora = MyChora(5, 15)\n",
    "cchora = bchora @ achora\n",
    "cchora[3:]"
   ]
  },
  {
   "cell_type": "code",
   "execution_count": null,
   "id": "bcf0b167-afc3-4383-a147-18a7171da276",
   "metadata": {},
   "outputs": [],
   "source": [
    "class MyClass(chora.Chorelle, metaclass=System):\n",
    "\n",
    "    chora: chora.Chora\n",
    "\n",
    "    def _incise_slyce_(self, incisor, /):\n",
    "        return self.__ptolemaic_class__(super()._incise_slyce_(incisor))\n",
    "\n",
    "\n",
    "dchora = MyClass(cchora)\n",
    "assert dchora[...] is dchora\n",
    "dchora[3:]"
   ]
  },
  {
   "cell_type": "code",
   "execution_count": null,
   "id": "0ca55bc8-29bc-43eb-8822-4cef3ab6e1c8",
   "metadata": {},
   "outputs": [],
   "source": [
    "echora = chora.MultiChora(achora, bchora)\n",
    "display(echora[0, 2:])\n",
    "display(echora[0, 2:][0])\n",
    "(3, 7) in echora"
   ]
  },
  {
   "cell_type": "code",
   "execution_count": null,
   "id": "327e85ff-00ed-43b2-81cc-801872acc12b",
   "metadata": {},
   "outputs": [],
   "source": []
  }
 ],
 "metadata": {
  "kernelspec": {
   "display_name": "Python 3 (ipykernel)",
   "language": "python",
   "name": "python3"
  },
  "language_info": {
   "codemirror_mode": {
    "name": "ipython",
    "version": 3
   },
   "file_extension": ".py",
   "mimetype": "text/x-python",
   "name": "python",
   "nbconvert_exporter": "python",
   "pygments_lexer": "ipython3",
   "version": "3.9.5"
  }
 },
 "nbformat": 4,
 "nbformat_minor": 5
}
