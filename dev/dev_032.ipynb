{
 "cells": [
  {
   "cell_type": "code",
   "execution_count": null,
   "id": "d23613ff-98bf-466b-a4d5-1b1704df4a0f",
   "metadata": {},
   "outputs": [],
   "source": [
    "###############################################################################\n",
    "import aliases\n",
    "from everest.utilities import textutils\n",
    "# tuple(textutils.find_all('', path='../everest/ptolemaic'))\n",
    "# textutils.replace_all('Schematic', 'Compound', path='../everest')"
   ]
  },
  {
   "cell_type": "code",
   "execution_count": null,
   "id": "1b4bfea5-d06e-4088-a576-07626bb124f1",
   "metadata": {},
   "outputs": [],
   "source": [
    "from everest.ptolemaic import sett, mapp, chora"
   ]
  },
  {
   "cell_type": "code",
   "execution_count": null,
   "id": "e2e2091f-1591-40ad-a5bf-02db1208fcc9",
   "metadata": {},
   "outputs": [],
   "source": [
    "class MyChora(chora.Choret):\n",
    "\n",
    "    lower: POS[int]\n",
    "    upper: POS[int] = None\n",
    "\n",
    "    @classmethod\n",
    "    def __parameterise__(cls, /, *args, **kwargs):\n",
    "        params = super().__parameterise__(*args, **kwargs)\n",
    "        if params.upper is None:\n",
    "            params.upper = params.lower\n",
    "            params.lower = 0\n",
    "        return params\n",
    "\n",
    "    def _incise_handle_int_(self, incisor: int, /):\n",
    "        return chora.IncisionStyle.RETRIEVE(incisor)\n",
    "\n",
    "    def _incise_handle_slice_(self, incisor: slice, /):\n",
    "        start, stop, step = incisor.start, incisor.stop, incisor.step\n",
    "        if step is not None:\n",
    "            raise ValueError(incisor)\n",
    "        return chora.IncisionStyle.SLYCE((start, stop))\n",
    "\n",
    "    def _incise_handle_tuple(self, incisor: tuple, /):\n",
    "        return chora.IncisionStyle.SLYCE(incisor)\n",
    "\n",
    "    def _incise_handle_ellipsis_(self, incisor: type(Ellipsis), /):\n",
    "        return chora.IncisionStyle.TRIVIAL(incisor)\n",
    "\n",
    "    def _incise_retrieve_int_(self, incisor: int, /):\n",
    "        return self.lower + incisor if incisor >= 0 else self.upper + incisor\n",
    "\n",
    "    def _incise_slyce_tuple_(self, lower, upper, /):\n",
    "        slower, supper = self.params\n",
    "        return self.__ptolemaic_class__(\n",
    "            slower if lower is None else \\\n",
    "                (slower if lower >= 0 else supper) + lower,\n",
    "            supper if upper is None else \\\n",
    "                (slower if upper >= 0 else supper) + upper,\n",
    "            )\n",
    "\n",
    "    def __iter__(self, /):\n",
    "        return iter(range(*self.params))"
   ]
  },
  {
   "cell_type": "code",
   "execution_count": null,
   "id": "092d2f34-3bb5-4f35-8cc9-207d2d79088a",
   "metadata": {},
   "outputs": [],
   "source": [
    "achora = MyChora(3, 9)\n",
    "bchora = MyChora(5, 15)\n",
    "cchora = bchora @ achora\n",
    "cchora[3:]"
   ]
  },
  {
   "cell_type": "code",
   "execution_count": null,
   "id": "bcf0b167-afc3-4383-a147-18a7171da276",
   "metadata": {},
   "outputs": [],
   "source": [
    "class MyClass(chora.Chorelle):\n",
    "\n",
    "    chora: chora.Chora\n",
    "\n",
    "    def _incise_slyce_(self, incisor, /):\n",
    "        return self.__ptolemaic_class__(super()._incise_slyce_(incisor))"
   ]
  },
  {
   "cell_type": "code",
   "execution_count": null,
   "id": "0eaebf76-40c1-4299-a02d-a8b252b55075",
   "metadata": {},
   "outputs": [],
   "source": [
    "dchora = MyClass(cchora)"
   ]
  },
  {
   "cell_type": "code",
   "execution_count": null,
   "id": "b3b16d91-843f-48ad-b252-bdfe03b82860",
   "metadata": {},
   "outputs": [],
   "source": [
    "dchora[...] is dchora"
   ]
  },
  {
   "cell_type": "code",
   "execution_count": null,
   "id": "476b8288-903a-4b7d-b156-33f55ed07885",
   "metadata": {},
   "outputs": [],
   "source": [
    "dchora[3:]"
   ]
  },
  {
   "cell_type": "code",
   "execution_count": null,
   "id": "0ca55bc8-29bc-43eb-8822-4cef3ab6e1c8",
   "metadata": {},
   "outputs": [],
   "source": [
    "echora = chora.MultiChora(achora, bchora)"
   ]
  },
  {
   "cell_type": "code",
   "execution_count": null,
   "id": "68f07c3f-56df-4468-ab29-86a1927e8208",
   "metadata": {},
   "outputs": [],
   "source": [
    "echora[0, 2:][0]"
   ]
  },
  {
   "cell_type": "code",
   "execution_count": null,
   "id": "71b6fa97-292c-4672-ae34-eda2785afbae",
   "metadata": {},
   "outputs": [],
   "source": []
  }
 ],
 "metadata": {
  "kernelspec": {
   "display_name": "Python 3 (ipykernel)",
   "language": "python",
   "name": "python3"
  },
  "language_info": {
   "codemirror_mode": {
    "name": "ipython",
    "version": 3
   },
   "file_extension": ".py",
   "mimetype": "text/x-python",
   "name": "python",
   "nbconvert_exporter": "python",
   "pygments_lexer": "ipython3",
   "version": "3.9.5"
  }
 },
 "nbformat": 4,
 "nbformat_minor": 5
}
