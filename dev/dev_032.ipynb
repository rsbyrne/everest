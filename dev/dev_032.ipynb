{
 "cells": [
  {
   "cell_type": "code",
   "execution_count": null,
   "id": "d23613ff-98bf-466b-a4d5-1b1704df4a0f",
   "metadata": {},
   "outputs": [],
   "source": [
    "###############################################################################\n",
    "import aliases\n",
    "from everest.utilities import textutils\n",
    "# tuple(textutils.find_all('', path='../everest/ptolemaic'))\n",
    "# textutils.replace_all('Schematic', 'Compound', path='../everest')"
   ]
  },
  {
   "cell_type": "code",
   "execution_count": null,
   "id": "d2c847f8-e934-4021-8dce-769a91e44224",
   "metadata": {},
   "outputs": [],
   "source": [
    "from everest.ptolemaic.chora import *\n",
    "from everest.ptolemaic import mapp, sett\n",
    "\n",
    "class A(Choret):\n",
    "\n",
    "    def _incise_handle_foo_(self, arg, /):\n",
    "        return arg, IncisionStyle.RETRIEVE\n",
    "\n",
    "    def _incise_retrieve_bah_(self, arg: int, /):\n",
    "        return arg ** 2\n",
    "\n",
    "    def _incise_retrieve_qux_(self, arg: str, /):\n",
    "        return arg * 2\n",
    "\n",
    "\n",
    "class B(Choret):\n",
    "\n",
    "    def _incise_handle_mux_(self, arg, /):\n",
    "        \n",
    "        return arg, IncisionStyle.RETRIEVE\n",
    "\n",
    "    def _incise_retrieve_ming_(self, arg: int, /):\n",
    "        return -arg\n",
    "\n",
    "    def _incise_retrieve_moo_(self, arg: str, /):\n",
    "        return f'_{arg}_'\n",
    "\n",
    "a, b = A(), B()"
   ]
  },
  {
   "cell_type": "code",
   "execution_count": null,
   "id": "d597eab2-85e2-4508-947d-affa7b038a5a",
   "metadata": {},
   "outputs": [],
   "source": [
    "a.mapp.subtend(b.mapp)"
   ]
  },
  {
   "cell_type": "code",
   "execution_count": null,
   "id": "17054424-5d2c-4831-8168-9b1470c5a9fd",
   "metadata": {},
   "outputs": [],
   "source": [
    "a.mapp.post"
   ]
  },
  {
   "cell_type": "code",
   "execution_count": null,
   "id": "2795f80f-02ec-4b80-b722-362f8506a7de",
   "metadata": {},
   "outputs": [],
   "source": [
    "b.mapp.post"
   ]
  },
  {
   "cell_type": "code",
   "execution_count": null,
   "id": "0fa0e10f-a8dd-472a-94d6-7390954f77a4",
   "metadata": {},
   "outputs": [],
   "source": [
    "a.mapp.post.subtend(b.mapp.post)[IncisionStyle.RETRIEVE]"
   ]
  },
  {
   "cell_type": "code",
   "execution_count": null,
   "id": "5635316b-9eee-42b1-b2f0-f7122ee34972",
   "metadata": {},
   "outputs": [],
   "source": []
  },
  {
   "cell_type": "code",
   "execution_count": null,
   "id": "151f5ccb-729d-415d-8308-fedd1862a25b",
   "metadata": {},
   "outputs": [],
   "source": [
    "a.mapp.subtend(b.mapp)"
   ]
  },
  {
   "cell_type": "code",
   "execution_count": null,
   "id": "e0442b17-c908-4d62-b482-5d6661032bcd",
   "metadata": {},
   "outputs": [],
   "source": [
    "myobj = A()"
   ]
  },
  {
   "cell_type": "code",
   "execution_count": null,
   "id": "380e382f-044f-4e7e-83cd-f5fc49ac8f88",
   "metadata": {},
   "outputs": [],
   "source": [
    "myobj['foo']"
   ]
  },
  {
   "cell_type": "code",
   "execution_count": null,
   "id": "92677207-fd28-464a-a641-e0f91612d9e2",
   "metadata": {},
   "outputs": [],
   "source": [
    "myobj.mapp[2]"
   ]
  },
  {
   "cell_type": "code",
   "execution_count": null,
   "id": "7d4df10b-e6b3-41c7-972d-7ee33d2c4f3e",
   "metadata": {},
   "outputs": [],
   "source": [
    "A()._incise_handle_foo"
   ]
  },
  {
   "cell_type": "code",
   "execution_count": null,
   "id": "6b863980-1296-4437-a348-bbff8b726a0e",
   "metadata": {},
   "outputs": [],
   "source": []
  },
  {
   "cell_type": "code",
   "execution_count": null,
   "id": "b411d832-e611-4a54-a673-8c9b0fce1f61",
   "metadata": {},
   "outputs": [],
   "source": [
    "A.handlers"
   ]
  },
  {
   "cell_type": "code",
   "execution_count": null,
   "id": "26aab3e1-e9a9-4ba1-9bf3-017fb568f1b1",
   "metadata": {},
   "outputs": [],
   "source": [
    "A.incmeths"
   ]
  },
  {
   "cell_type": "code",
   "execution_count": null,
   "id": "f9600f9f-e38f-4799-8c14-32f0e9eb7720",
   "metadata": {},
   "outputs": [],
   "source": [
    "mapp(A._incise_retrieve_bah)"
   ]
  },
  {
   "cell_type": "code",
   "execution_count": null,
   "id": "f310ca49-4e66-4c98-b86f-c2ee1faefa4e",
   "metadata": {},
   "outputs": [],
   "source": [
    "mapp(A._incmeths)"
   ]
  },
  {
   "cell_type": "code",
   "execution_count": null,
   "id": "81630610-3461-4dfa-a5ca-5d2582bff381",
   "metadata": {},
   "outputs": [],
   "source": [
    "A._incisionmeths"
   ]
  },
  {
   "cell_type": "code",
   "execution_count": null,
   "id": "804867cd-4f65-490f-9ee7-283004b7114e",
   "metadata": {},
   "outputs": [],
   "source": [
    "from everest.ptolemaic.system import System"
   ]
  },
  {
   "cell_type": "code",
   "execution_count": null,
   "id": "c65c9bac-ffbd-4c14-90b6-05dc45b64ae9",
   "metadata": {},
   "outputs": [],
   "source": [
    "class A(metaclass=System):\n",
    "    __mergenames__ = dict(foo=list)"
   ]
  },
  {
   "cell_type": "code",
   "execution_count": null,
   "id": "a8842dff-077a-4014-81ae-bb637ef3da33",
   "metadata": {},
   "outputs": [],
   "source": [
    "A.foo"
   ]
  },
  {
   "cell_type": "code",
   "execution_count": null,
   "id": "2c626737-dbef-4855-9d9d-46881e6cbc9f",
   "metadata": {},
   "outputs": [],
   "source": [
    "A.__fields__"
   ]
  },
  {
   "cell_type": "code",
   "execution_count": null,
   "id": "4a9129aa-365e-4885-9466-499284fc4542",
   "metadata": {},
   "outputs": [],
   "source": [
    "A.__mergenames__"
   ]
  },
  {
   "cell_type": "code",
   "execution_count": null,
   "id": "4e9e2a06-1982-441d-811d-84674b562b1d",
   "metadata": {},
   "outputs": [],
   "source": [
    "B.foo"
   ]
  },
  {
   "cell_type": "code",
   "execution_count": null,
   "id": "66cd791d-be2a-4ac5-9311-56dac57e47cb",
   "metadata": {},
   "outputs": [],
   "source": [
    "B.bah"
   ]
  },
  {
   "cell_type": "code",
   "execution_count": null,
   "id": "dbafcc71-bcc0-4b96-adf4-610117882ae8",
   "metadata": {},
   "outputs": [],
   "source": [
    "repr(out)"
   ]
  },
  {
   "cell_type": "code",
   "execution_count": null,
   "id": "bc74870f-63f4-4ad9-b309-de388b2b0538",
   "metadata": {},
   "outputs": [],
   "source": [
    "type(out)"
   ]
  },
  {
   "cell_type": "code",
   "execution_count": null,
   "id": "d911270a-a895-47d6-8aa5-543dc6f59761",
   "metadata": {},
   "outputs": [],
   "source": [
    "from everest.ptolemaic import ptolemaic"
   ]
  },
  {
   "cell_type": "code",
   "execution_count": null,
   "id": "72a3f112-3313-45a6-b5ef-05738c19129a",
   "metadata": {},
   "outputs": [],
   "source": [
    "ptolemaic.convert_type(dict)"
   ]
  },
  {
   "cell_type": "code",
   "execution_count": null,
   "id": "d897359c-d4eb-40b3-9303-f7635976146d",
   "metadata": {},
   "outputs": [],
   "source": [
    "tuple(textutils.find_all('mergenames', path='../everest/ptolemaic'))"
   ]
  },
  {
   "cell_type": "code",
   "execution_count": null,
   "id": "5ab9d4de-2195-4afc-b835-7ad11dcffaec",
   "metadata": {},
   "outputs": [],
   "source": [
    "from everest.ptolemaic.chora import *"
   ]
  },
  {
   "cell_type": "code",
   "execution_count": null,
   "id": "69094f70-1a9f-4f5f-9e7a-0122eaf68d86",
   "metadata": {},
   "outputs": [],
   "source": [
    "set((1, 2)).difference(set(range(3)))"
   ]
  },
  {
   "cell_type": "code",
   "execution_count": null,
   "id": "ade0bc6f-cbe2-48f2-a5a3-deb14e53409f",
   "metadata": {},
   "outputs": [],
   "source": [
    "Chora."
   ]
  }
 ],
 "metadata": {
  "kernelspec": {
   "display_name": "Python 3 (ipykernel)",
   "language": "python",
   "name": "python3"
  },
  "language_info": {
   "codemirror_mode": {
    "name": "ipython",
    "version": 3
   },
   "file_extension": ".py",
   "mimetype": "text/x-python",
   "name": "python",
   "nbconvert_exporter": "python",
   "pygments_lexer": "ipython3",
   "version": "3.9.5"
  }
 },
 "nbformat": 4,
 "nbformat_minor": 5
}
