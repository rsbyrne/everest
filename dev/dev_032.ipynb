{
 "cells": [
  {
   "cell_type": "code",
   "execution_count": null,
   "id": "d23613ff-98bf-466b-a4d5-1b1704df4a0f",
   "metadata": {},
   "outputs": [],
   "source": [
    "###############################################################################\n",
    "import aliases\n",
    "from everest.utilities import textutils\n",
    "# tuple(textutils.find_all('_repr_pretty_', path='../everest/ptolemaic'))\n",
    "# textutils.replace_all('Schematic', 'Compound', path='../everest')"
   ]
  },
  {
   "cell_type": "code",
   "execution_count": null,
   "id": "f7dcf8cc-cad5-494a-84b0-df63abfb3625",
   "metadata": {},
   "outputs": [],
   "source": [
    "from everest.ptolemaic.algebra import *\n",
    "from everest.ptolemaic.system import System"
   ]
  },
  {
   "cell_type": "code",
   "execution_count": null,
   "id": "c8572585-53a3-486b-859c-54a95da8526d",
   "metadata": {},
   "outputs": [],
   "source": [
    "class Foo(metaclass=Algebra):\n",
    "\n",
    "    zero = operator()\n",
    "    neg = operator(1, invertible=True)\n",
    "    add = operator(2, associative=True, commutative=True)\n",
    "    mul = operator(\n",
    "        2,\n",
    "        associative=True, commutative=True, distributive=pathget('.add')\n",
    "        )"
   ]
  },
  {
   "cell_type": "code",
   "execution_count": null,
   "id": "c14ff270-d42c-4c3b-b781-35043e8ce56b",
   "metadata": {},
   "outputs": [],
   "source": [
    "Foo().zero"
   ]
  },
  {
   "cell_type": "code",
   "execution_count": null,
   "id": "4369487a-4a6d-4333-b0c6-582e94cd2b2a",
   "metadata": {},
   "outputs": [],
   "source": [
    "val1 = foo.neg(foo.zero)\n",
    "val2 = foo.neg(val1)"
   ]
  },
  {
   "cell_type": "code",
   "execution_count": null,
   "id": "77912c0b-be0c-434b-964b-32fd54ff42b7",
   "metadata": {},
   "outputs": [],
   "source": [
    "foo.zero"
   ]
  },
  {
   "cell_type": "code",
   "execution_count": null,
   "id": "e33d8952-3ef0-4175-8592-78ae7391b564",
   "metadata": {},
   "outputs": [],
   "source": [
    "class MyAlgebra(Algebra):\n",
    "\n",
    "    @organ\n",
    "    def zero(self, /):\n",
    "        return self.Nullary(name='zero')\n",
    "    # zero = organ(target='..', name='zero')(Nullary)"
   ]
  },
  {
   "cell_type": "code",
   "execution_count": null,
   "id": "fc30afd1-580d-425e-98f2-4f2a7f0db2fe",
   "metadata": {},
   "outputs": [],
   "source": [
    "MyAlgebra()"
   ]
  },
  {
   "cell_type": "code",
   "execution_count": null,
   "id": "2dedfabe-fe03-45ae-9703-46dbde8810fa",
   "metadata": {},
   "outputs": [],
   "source": [
    "MyAlgebra().zero"
   ]
  },
  {
   "cell_type": "code",
   "execution_count": null,
   "id": "7a55c49c-087a-4480-aa9b-ef1f10312be9",
   "metadata": {},
   "outputs": [],
   "source": [
    "MyAlgebra.__organs__"
   ]
  },
  {
   "cell_type": "code",
   "execution_count": null,
   "id": "1e8b0459-3355-4775-b60c-a3b28fae8e19",
   "metadata": {},
   "outputs": [],
   "source": [
    "MyAlgebra().zero"
   ]
  },
  {
   "cell_type": "code",
   "execution_count": null,
   "id": "841e5b40-398d-492e-aad2-0149945d6087",
   "metadata": {},
   "outputs": [],
   "source": [
    "add(zero(), zero())"
   ]
  },
  {
   "cell_type": "code",
   "execution_count": null,
   "id": "24e5a86d-14df-458c-877b-43240b8aa391",
   "metadata": {},
   "outputs": [],
   "source": [
    "def distribute(terms, distr):\n",
    "    '''Take a number of terms'''"
   ]
  },
  {
   "cell_type": "code",
   "execution_count": null,
   "id": "4f65c36e-a31b-45ae-b700-8594be8fc8e3",
   "metadata": {},
   "outputs": [],
   "source": []
  },
  {
   "cell_type": "code",
   "execution_count": null,
   "id": "b0bad1e9-3013-42cc-b577-36ab53e8584c",
   "metadata": {},
   "outputs": [],
   "source": [
    "a * (b + c) * d == a*d * (b + c) == a*d*b + a*d*c"
   ]
  },
  {
   "cell_type": "code",
   "execution_count": null,
   "id": "b4fbc518-895f-45b9-b79c-6717a746da7c",
   "metadata": {},
   "outputs": [],
   "source": [
    "a, b, c, d, e, f = range(2, 8)\n",
    "g = a * b\n",
    "h = c + d\n",
    "i = e + f\n",
    "assert a * b * (c + d) * (e + f) \\\n",
    "    == g * h * i \\\n",
    "    == (a*b*c + a*b*d) * (e + f) \\\n",
    "    == a*b*c*e + a*b*c*f + a*b*d*e + a*b*d*f"
   ]
  },
  {
   "cell_type": "code",
   "execution_count": null,
   "id": "0a1166fa-9723-4d46-a94d-9ae7dd3f57b9",
   "metadata": {},
   "outputs": [],
   "source": [
    "assert a * b * (c + d) * e * (f + g) * h \\\n",
    "    == (a*b*c + a*b*d) * (e*f + e*g) * h \\\n",
    "    == (a*b*c + a*b*d) * (e*f*h + e*g*h)"
   ]
  },
  {
   "cell_type": "code",
   "execution_count": null,
   "id": "5d662e24-7259-45a7-9396-928e76882b1e",
   "metadata": {},
   "outputs": [],
   "source": [
    "def simple_distribute(distr, prefactors, expression, postfactors, /):\n",
    "    return distr(*((*prefactors, arg, *postfactors) for arg in expression.args))\n",
    "\n",
    "def distribute(distr, expression, /):\n",
    "    args = expression.args\n",
    "    isdistrs = tuple(isinstance(arg, distr) for arg in args)\n",
    "    if not any(isdistrs):\n",
    "        return expression\n",
    "    # outterms = []\n",
    "    # while True:\n",
    "    buff = []\n",
    "    newargs = []\n",
    "    for arg, isdistr in zip(args, isdistrs):\n",
    "        if isdistr:\n",
    "            newargs.append(simple_distribute(distr, buff, arg, ()))\n",
    "            buff.clear()\n",
    "        else:\n",
    "            buff.append(arg)\n",
    "    if buff:\n",
    "        newargs[-1] = tuple((*term, *buff) for term in newargs[-1].args)\n",
    "    # if len(newargs) == 1:\n",
    "    #     return newargs[0]\n",
    "    return type(expression)(*newargs)\n",
    "\n",
    "out = distribute(\n",
    "    Add,\n",
    "    Mul('a', 'b', Add('c', 'd'), 'e', Add('f', 'g'), 'h'),\n",
    "    )\n",
    "display(out)"
   ]
  },
  {
   "cell_type": "code",
   "execution_count": null,
   "id": "cb41121c-14a7-4579-a7eb-b5e5b7c68bb4",
   "metadata": {},
   "outputs": [],
   "source": [
    "class Distributor:\n",
    "\n",
    "    __slots__ = ('mul', 'add')\n",
    "\n",
    "    def __init__(self, mul, add, /):\n",
    "        self.mul, self.add = mul, add\n",
    "\n",
    "    class Op:\n",
    "        __slots__ = ('args',)\n",
    "        def __init__(self, *args):\n",
    "            self.args = args\n",
    "        def __repr__(self, /):\n",
    "            return f\"{self.__class__.__name__}{self.args}\"\n",
    "\n",
    "    class Add(Op):\n",
    "        ...\n",
    "\n",
    "    class Mul(Op):\n",
    "        ...\n",
    "\n",
    "    class Other:\n",
    "        def __init__(self, arg, /):\n",
    "            self.arg = arg\n",
    "        def __repr__(self, /):\n",
    "            return f\"{self.__class__.__name__}({self.arg})\"\n",
    "\n",
    "    def preprocess(self, arg, /):\n",
    "        if isinstance(arg, self.mul):\n",
    "            return self(*arg.args)\n",
    "            return self.Mul(*arg.args)\n",
    "        if isinstance(arg, self.add):\n",
    "            return self.Add(*arg.args)\n",
    "        return arg\n",
    "\n",
    "    def combine(self, arg0, arg1):\n",
    "        \n",
    "\n",
    "    def __call__(self, /, *args):\n",
    "        return self.Add(*map(self.preprocess, args))"
   ]
  },
  {
   "cell_type": "code",
   "execution_count": null,
   "id": "31f1677a-9a34-49d9-8c53-00f5621a53b2",
   "metadata": {},
   "outputs": [],
   "source": [
    "class Base:\n",
    "    __slots__ = ('args',)\n",
    "    def __init__(self, *args):\n",
    "        self.args = args\n",
    "    def __repr__(self, /):\n",
    "        return f\"{self.__class__.__name__}{self.args}\"\n",
    "class MyMul(Base):\n",
    "    ...\n",
    "class MyAdd(Base):\n",
    "    ...\n",
    "distributor = Distributor(MyMul, MyAdd)\n",
    "distributor('a', 'b', MyAdd('c', 'd'), 'e', MyMul('f', 'g'))"
   ]
  },
  {
   "cell_type": "code",
   "execution_count": null,
   "id": "e86483e9-649b-4a26-9de8-541321d7f3f6",
   "metadata": {},
   "outputs": [],
   "source": [
    "distribute(\n",
    "    Add,\n",
    "    Mul('a', 'b', Add('c', 'd'), 'e', Add('f', 'g'), 'h'),\n",
    "    )"
   ]
  },
  {
   "cell_type": "code",
   "execution_count": null,
   "id": "dc542662-48ba-46a7-b40e-441d6c8abf5e",
   "metadata": {},
   "outputs": [],
   "source": [
    "Distribute(1)"
   ]
  },
  {
   "cell_type": "code",
   "execution_count": null,
   "id": "7c0ab209-1498-4f1e-b609-a0ca74999dae",
   "metadata": {},
   "outputs": [],
   "source": []
  },
  {
   "cell_type": "code",
   "execution_count": null,
   "id": "05c865a5-c5e9-4c57-90c6-450223d5a9d4",
   "metadata": {},
   "outputs": [],
   "source": [
    "distribute(\n",
    "    Add,\n",
    "    Mul('a', 'b', Add('c')),\n",
    "    )"
   ]
  },
  {
   "cell_type": "code",
   "execution_count": null,
   "id": "e4fbc3d0-805f-4470-9905-314458abcadf",
   "metadata": {},
   "outputs": [],
   "source": [
    "distribute(Add, out)"
   ]
  },
  {
   "cell_type": "code",
   "execution_count": null,
   "id": "729eecbb-a907-45a8-bede-47a0122ab601",
   "metadata": {},
   "outputs": [],
   "source": [
    "assert a * b * (c + d) * e * (f + g) * h \\\n",
    "    == (a*b*c + a*b*d) * (e*f + e*g) * h \\\n",
    "    == (a*b*c + a*b*d) * (e*f*h + e*g*h) \\\n",
    "    == a*b*c*e*f*h + a*b*c*e*g*h + a*b*d*e*f*h + a*b*d*e*g*h"
   ]
  },
  {
   "cell_type": "code",
   "execution_count": null,
   "id": "509ee4ba-2d27-4a22-be07-1aabb7048c73",
   "metadata": {},
   "outputs": [],
   "source": [
    "distribute_over(('a', 'b'), ('c', 'd'))"
   ]
  },
  {
   "cell_type": "code",
   "execution_count": null,
   "id": "03446297-aad5-4da5-94ee-7b3c329acae3",
   "metadata": {},
   "outputs": [],
   "source": [
    "\n",
    "from everest.ptolemaic.brace import Brace"
   ]
  },
  {
   "cell_type": "code",
   "execution_count": null,
   "id": "421aec9d-bc39-408b-9125-44e69c1cf48b",
   "metadata": {},
   "outputs": [],
   "source": [
    "class MyAlgebra(metaclass=Algebra):\n",
    "\n",
    "    class Brace(Brace):\n",
    "        ..."
   ]
  },
  {
   "cell_type": "code",
   "execution_count": null,
   "id": "069730fe-e005-4bb8-9970-bbd3f79d3910",
   "metadata": {},
   "outputs": [],
   "source": [
    "MyAlgebra.Brace.Power"
   ]
  },
  {
   "cell_type": "code",
   "execution_count": null,
   "id": "892cf06d-deb3-40c9-ac8e-fb18a8b82152",
   "metadata": {},
   "outputs": [],
   "source": [
    "\n",
    "from everest.ptolemaic.system import System"
   ]
  },
  {
   "cell_type": "code",
   "execution_count": null,
   "id": "1dc51b33-5186-4a61-a9ae-62ab7457dc0c",
   "metadata": {},
   "outputs": [],
   "source": [
    "class A(metaclass=System):\n",
    "    a: POS[int]\n",
    "    foo = str\n",
    "class B(A):\n",
    "    a: POS['.foo']\n",
    "class C(B):\n",
    "    foo = bool\n",
    "C.__signature__"
   ]
  },
  {
   "cell_type": "code",
   "execution_count": null,
   "id": "769ba128-02c6-4cef-9212-e9d6a128466f",
   "metadata": {},
   "outputs": [],
   "source": [
    "B.__fields__"
   ]
  },
  {
   "cell_type": "code",
   "execution_count": null,
   "id": "8a73825a-bcb7-45fd-8361-f4ec921400ac",
   "metadata": {},
   "outputs": [],
   "source": [
    "class A(metaclass=Algebra):\n",
    "    @classmethod\n",
    "    def _algconvert_(cls, arg, /):\n",
    "        return arg\n",
    "    class Identity(mroclass('.__Nullary__'), metaclass=System):\n",
    "        ...\n",
    "    # class MyOp(mroclass('.__Ennary__')):\n",
    "    #     identity = pathget('..IDENTITY', live=True)\n",
    "    #     @classmethod\n",
    "    #     def _construct_(cls, params, /):\n",
    "    #         return params[0]"
   ]
  },
  {
   "cell_type": "code",
   "execution_count": null,
   "id": "004ccb26-d7ca-4a6e-a33f-c805d381ba69",
   "metadata": {},
   "outputs": [],
   "source": [
    "class Natural(int):\n",
    "\n",
    "    def __init__(self, value, /):\n",
    "        if value < 0:\n",
    "            raise ValueError(value)\n",
    "        super().__init__()\n",
    "\n",
    "    def __repr__(self, /):\n",
    "        return f\"Natural({super().__repr__()})\"\n",
    "\n",
    "    def __sub__(self, other, /):\n",
    "        return type(self)(super().__sub__(other))"
   ]
  },
  {
   "cell_type": "code",
   "execution_count": null,
   "id": "9cfb20da-26da-4176-8505-4d87ec64479c",
   "metadata": {},
   "outputs": [],
   "source": [
    "Natural(1) - 1"
   ]
  },
  {
   "cell_type": "code",
   "execution_count": null,
   "id": "64f8d8c5-4106-4a51-839b-bfdad60cf909",
   "metadata": {},
   "outputs": [],
   "source": [
    "from everest.ptolemaic.essence import Essence as _Essence\n",
    "from everest.ptolemaic.algebra import Algebra as _Algebra\n",
    "from everest.ptolemaic.sett import Sett as _Sett\n",
    "from everest.ptolemaic.brace import Brace as _Brace\n",
    "from everest.ptolemaic.ptolemaic import Ptolemaic as _Ptolemaic\n",
    "\n",
    "\n",
    "class Objj(metaclass=_Algebra):\n",
    "\n",
    "\n",
    "    @classmethod\n",
    "    def __class_init__(cls, /):\n",
    "        super().__class_init__()\n",
    "        cls.Sett.Element = cls.Base\n",
    "        if cls is __class__:\n",
    "            cls.Base.register(_Ptolemaic)\n",
    "\n",
    "\n",
    "    class Base(mroclass):\n",
    "\n",
    "        ...\n",
    "\n",
    "\n",
    "    class Sett(mroclass(_Sett)):\n",
    "\n",
    "        ...\n",
    "\n",
    "\n",
    "    class Brace(mroclass(_Brace)):\n",
    "\n",
    "        ..."
   ]
  },
  {
   "cell_type": "code",
   "execution_count": null,
   "id": "8ceeb3c3-3c30-4cd0-a1fc-64fc2585c7a2",
   "metadata": {},
   "outputs": [],
   "source": [
    "[] in _Sett.UNIVERSE"
   ]
  },
  {
   "cell_type": "code",
   "execution_count": null,
   "id": "3b72ad30-4db1-4a22-b0b7-5c61d6c0b255",
   "metadata": {},
   "outputs": [],
   "source": [
    "Objj in Objj.Sett.UNIVERSE"
   ]
  },
  {
   "cell_type": "code",
   "execution_count": null,
   "id": "c3c8c373-76d2-4f1b-9726-e8c5089b93d8",
   "metadata": {},
   "outputs": [],
   "source": [
    "# textutils.replace_all('Schematic', 'Compound', path='../everest')"
   ]
  },
  {
   "cell_type": "code",
   "execution_count": null,
   "id": "1b4bfea5-d06e-4088-a576-07626bb124f1",
   "metadata": {},
   "outputs": [],
   "source": [
    "from everest.algebraic import sett, mapp, chora\n",
    "from everest.ptolemaic.system import System"
   ]
  },
  {
   "cell_type": "code",
   "execution_count": null,
   "id": "e2e2091f-1591-40ad-a5bf-02db1208fcc9",
   "metadata": {},
   "outputs": [],
   "source": [
    "class MyChora(chora.Choret, metaclass=System):\n",
    "\n",
    "    lower: POS[int]\n",
    "    upper: POS[int] = None\n",
    "\n",
    "    @classmethod\n",
    "    def __parameterise__(cls, /, *args, **kwargs):\n",
    "        params = super().__parameterise__(*args, **kwargs)\n",
    "        if params.upper is None:\n",
    "            params.upper = params.lower\n",
    "            params.lower = 0\n",
    "        return params\n",
    "\n",
    "    def _incise_handle_int_(self, incisor: int, /):\n",
    "        return chora.IncisionStyle.RETRIEVE(incisor)\n",
    "\n",
    "    def _incise_handle_slice_(self, incisor: slice, /):\n",
    "        start, stop, step = incisor.start, incisor.stop, incisor.step\n",
    "        if step is not None:\n",
    "            raise ValueError(incisor)\n",
    "        return chora.IncisionStyle.SLYCE((start, stop))\n",
    "\n",
    "    def _incise_handle_tuple(self, incisor: tuple, /):\n",
    "        return chora.IncisionStyle.SLYCE(incisor)\n",
    "\n",
    "    def _incise_handle_ellipsis_(self, incisor: type(Ellipsis), /):\n",
    "        return chora.IncisionStyle.TRIVIAL(incisor)\n",
    "\n",
    "    def _incise_retrieve_int_(self, incisor: int, /):\n",
    "        return self.lower + incisor if incisor >= 0 else self.upper + incisor\n",
    "\n",
    "    def _incise_slyce_tuple_(self, lower, upper, /):\n",
    "        slower, supper = self.params\n",
    "        return self.__ptolemaic_class__(\n",
    "            slower if lower is None else \\\n",
    "                (slower if lower >= 0 else supper) + lower,\n",
    "            supper if upper is None else \\\n",
    "                (slower if upper >= 0 else supper) + upper,\n",
    "            )\n",
    "\n",
    "    def __iter__(self, /):\n",
    "        return iter(range(*self.params))\n",
    "\n",
    "    def _contains_(self, other, /):\n",
    "        return self.lower <= other <= self.upper\n",
    "\n",
    "\n",
    "achora = MyChora(3, 9)\n",
    "bchora = MyChora(5, 15)\n",
    "cchora = bchora @ achora\n",
    "cchora[3:]"
   ]
  },
  {
   "cell_type": "code",
   "execution_count": null,
   "id": "bcf0b167-afc3-4383-a147-18a7171da276",
   "metadata": {},
   "outputs": [],
   "source": [
    "class MyClass(chora.Chorelle, metaclass=System):\n",
    "\n",
    "    chora: chora.Chora\n",
    "\n",
    "    def _incise_slyce_(self, incisor, /):\n",
    "        return self.__ptolemaic_class__(super()._incise_slyce_(incisor))\n",
    "\n",
    "\n",
    "dchora = MyClass(cchora)\n",
    "assert dchora[...] is dchora\n",
    "dchora[3:]"
   ]
  },
  {
   "cell_type": "code",
   "execution_count": null,
   "id": "0ca55bc8-29bc-43eb-8822-4cef3ab6e1c8",
   "metadata": {},
   "outputs": [],
   "source": [
    "echora = chora.MultiChora(achora, bchora)\n",
    "display(echora[0, 2:])\n",
    "display(echora[0, 2:][0])\n",
    "(3, 7) in echora"
   ]
  },
  {
   "cell_type": "code",
   "execution_count": null,
   "id": "327e85ff-00ed-43b2-81cc-801872acc12b",
   "metadata": {},
   "outputs": [],
   "source": []
  }
 ],
 "metadata": {
  "kernelspec": {
   "display_name": "Python 3 (ipykernel)",
   "language": "python",
   "name": "python3"
  },
  "language_info": {
   "codemirror_mode": {
    "name": "ipython",
    "version": 3
   },
   "file_extension": ".py",
   "mimetype": "text/x-python",
   "name": "python",
   "nbconvert_exporter": "python",
   "pygments_lexer": "ipython3",
   "version": "3.9.5"
  }
 },
 "nbformat": 4,
 "nbformat_minor": 5
}
