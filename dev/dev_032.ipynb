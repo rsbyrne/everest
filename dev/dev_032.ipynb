{
 "cells": [
  {
   "cell_type": "code",
   "execution_count": null,
   "id": "d23613ff-98bf-466b-a4d5-1b1704df4a0f",
   "metadata": {},
   "outputs": [],
   "source": [
    "###############################################################################\n",
    "import aliases\n",
    "from everest.utilities import textutils\n",
    "# tuple(textutils.find_all('_repr_pretty_', path='../everest/ptolemaic'))\n",
    "# textutils.replace_all('Schematic', 'Compound', path='../everest')"
   ]
  },
  {
   "cell_type": "code",
   "execution_count": null,
   "id": "1517af7e-ae4a-4564-b42c-b5c8f64e7a33",
   "metadata": {},
   "outputs": [],
   "source": [
    "from everest.ptolemaic.algebra import *\n",
    "from everest.ptolemaic.system import System\n",
    "from everest.ptolemaic.pathget import PathGet\n",
    "import string"
   ]
  },
  {
   "cell_type": "code",
   "execution_count": null,
   "id": "e85139ba-18c9-4f58-b6a3-a0292569cbaa",
   "metadata": {},
   "outputs": [],
   "source": [
    "class Foo(metaclass=Algebra):\n",
    "\n",
    "    zero = operator()\n",
    "    one = operator()\n",
    "    add = operator(\n",
    "        Ennary, associative=False, commutative=False,\n",
    "        identity=pathget('.zero'), inverse=pathget('.neg'),\n",
    "        )\n",
    "    neg = operator(1, reversible=True, distributive=add)\n",
    "    mul = operator(\n",
    "        Ennary,\n",
    "        associative=False, commutative=False,\n",
    "        identity=pathget('.one'), inverse=pathget('.rec'),\n",
    "        distributive=pathget('.add'),\n",
    "        )\n",
    "    rec = operator(1, reversible=True, distributive=pathget('.mul'))\n",
    "    letters = operator(Selector, alphabet=string.ascii_lowercase)\n",
    "\n",
    "\n",
    "foo = Foo()\n",
    "foo.hashID"
   ]
  },
  {
   "cell_type": "code",
   "execution_count": null,
   "id": "c2dd3c5a-0f7a-4408-b00c-84b9ea8c9e8b",
   "metadata": {},
   "outputs": [],
   "source": [
    "foo.neg(foo.add(foo.letters('a'), foo.letters('b')))"
   ]
  },
  {
   "cell_type": "code",
   "execution_count": null,
   "id": "64f625b1-60b9-459f-8965-f0938b58b248",
   "metadata": {},
   "outputs": [],
   "source": [
    "foo.letters('a')"
   ]
  },
  {
   "cell_type": "code",
   "execution_count": null,
   "id": "8aaf6b60-f668-4e78-a1c4-f35925708b8f",
   "metadata": {},
   "outputs": [],
   "source": [
    "form = foo.mul(\n",
    "    foo.letters('a'),\n",
    "    foo.one,\n",
    "    foo.neg(foo.add(foo.letters('b'), foo.letters('c'), foo.zero)),\n",
    "    foo.add(foo.letters('d'), foo.letters('e')),\n",
    "    foo.letters('f'),\n",
    "    )\n",
    "form"
   ]
  },
  {
   "cell_type": "code",
   "execution_count": null,
   "id": "6a0c2247-7192-40c8-9a90-aa54f77a2900",
   "metadata": {},
   "outputs": [],
   "source": [
    "form.canonise()"
   ]
  },
  {
   "cell_type": "code",
   "execution_count": null,
   "id": "f0caadd1-64f1-4a54-9ea0-3a5e7d324926",
   "metadata": {},
   "outputs": [],
   "source": [
    "# a + ((b + c) + d)"
   ]
  },
  {
   "cell_type": "code",
   "execution_count": null,
   "id": "c3c8c373-76d2-4f1b-9726-e8c5089b93d8",
   "metadata": {},
   "outputs": [],
   "source": [
    "# textutils.replace_all('Schematic', 'Compound', path='../everest')"
   ]
  },
  {
   "cell_type": "code",
   "execution_count": null,
   "id": "1b4bfea5-d06e-4088-a576-07626bb124f1",
   "metadata": {},
   "outputs": [],
   "source": [
    "from everest.algebraic import sett, mapp, chora\n",
    "from everest.ptolemaic.system import System"
   ]
  },
  {
   "cell_type": "code",
   "execution_count": null,
   "id": "e2e2091f-1591-40ad-a5bf-02db1208fcc9",
   "metadata": {},
   "outputs": [],
   "source": [
    "class MyChora(chora.Choret, metaclass=System):\n",
    "\n",
    "    lower: POS[int]\n",
    "    upper: POS[int] = None\n",
    "\n",
    "    @classmethod\n",
    "    def __parameterise__(cls, /, *args, **kwargs):\n",
    "        params = super().__parameterise__(*args, **kwargs)\n",
    "        if params.upper is None:\n",
    "            params.upper = params.lower\n",
    "            params.lower = 0\n",
    "        return params\n",
    "\n",
    "    def _incise_handle_int_(self, incisor: int, /):\n",
    "        return chora.IncisionStyle.RETRIEVE(incisor)\n",
    "\n",
    "    def _incise_handle_slice_(self, incisor: slice, /):\n",
    "        start, stop, step = incisor.start, incisor.stop, incisor.step\n",
    "        if step is not None:\n",
    "            raise ValueError(incisor)\n",
    "        return chora.IncisionStyle.SLYCE((start, stop))\n",
    "\n",
    "    def _incise_handle_tuple(self, incisor: tuple, /):\n",
    "        return chora.IncisionStyle.SLYCE(incisor)\n",
    "\n",
    "    def _incise_handle_ellipsis_(self, incisor: type(Ellipsis), /):\n",
    "        return chora.IncisionStyle.TRIVIAL(incisor)\n",
    "\n",
    "    def _incise_retrieve_int_(self, incisor: int, /):\n",
    "        return self.lower + incisor if incisor >= 0 else self.upper + incisor\n",
    "\n",
    "    def _incise_slyce_tuple_(self, lower, upper, /):\n",
    "        slower, supper = self.params\n",
    "        return self.__ptolemaic_class__(\n",
    "            slower if lower is None else \\\n",
    "                (slower if lower >= 0 else supper) + lower,\n",
    "            supper if upper is None else \\\n",
    "                (slower if upper >= 0 else supper) + upper,\n",
    "            )\n",
    "\n",
    "    def __iter__(self, /):\n",
    "        return iter(range(*self.params))\n",
    "\n",
    "    def _contains_(self, other, /):\n",
    "        return self.lower <= other <= self.upper\n",
    "\n",
    "\n",
    "achora = MyChora(3, 9)\n",
    "bchora = MyChora(5, 15)\n",
    "cchora = bchora @ achora\n",
    "cchora[3:]"
   ]
  },
  {
   "cell_type": "code",
   "execution_count": null,
   "id": "bcf0b167-afc3-4383-a147-18a7171da276",
   "metadata": {},
   "outputs": [],
   "source": [
    "class MyClass(chora.Chorelle, metaclass=System):\n",
    "\n",
    "    chora: chora.Chora\n",
    "\n",
    "    def _incise_slyce_(self, incisor, /):\n",
    "        return self.__ptolemaic_class__(super()._incise_slyce_(incisor))\n",
    "\n",
    "\n",
    "dchora = MyClass(cchora)\n",
    "assert dchora[...] is dchora\n",
    "dchora[3:]"
   ]
  },
  {
   "cell_type": "code",
   "execution_count": null,
   "id": "0ca55bc8-29bc-43eb-8822-4cef3ab6e1c8",
   "metadata": {},
   "outputs": [],
   "source": [
    "echora = chora.MultiChora(achora, bchora)\n",
    "display(echora[0, 2:])\n",
    "display(echora[0, 2:][0])\n",
    "(3, 7) in echora"
   ]
  },
  {
   "cell_type": "code",
   "execution_count": null,
   "id": "327e85ff-00ed-43b2-81cc-801872acc12b",
   "metadata": {},
   "outputs": [],
   "source": []
  }
 ],
 "metadata": {
  "kernelspec": {
   "display_name": "Python 3 (ipykernel)",
   "language": "python",
   "name": "python3"
  },
  "language_info": {
   "codemirror_mode": {
    "name": "ipython",
    "version": 3
   },
   "file_extension": ".py",
   "mimetype": "text/x-python",
   "name": "python",
   "nbconvert_exporter": "python",
   "pygments_lexer": "ipython3",
   "version": "3.9.5"
  }
 },
 "nbformat": 4,
 "nbformat_minor": 5
}
