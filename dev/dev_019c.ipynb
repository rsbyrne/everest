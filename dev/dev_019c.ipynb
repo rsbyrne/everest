{
 "cells": [
  {
   "cell_type": "code",
   "execution_count": null,
   "id": "7997b9d1-098b-4720-bf59-38cf65836991",
   "metadata": {},
   "outputs": [],
   "source": [
    "import aliases"
   ]
  },
  {
   "cell_type": "code",
   "execution_count": null,
   "id": "6a347d98-5e02-47b8-b0f3-b78e15fbb6ba",
   "metadata": {},
   "outputs": [],
   "source": [
    "from everest.ptolemaic.tekton import Tekton"
   ]
  },
  {
   "cell_type": "code",
   "execution_count": null,
   "id": "e8fcbff2-0e3f-46c9-b69c-d087db6ca8e7",
   "metadata": {},
   "outputs": [],
   "source": [
    "@Tekton.decorate\n",
    "def my_func(a, b, c=3):\n",
    "    return a*b+c"
   ]
  },
  {
   "cell_type": "code",
   "execution_count": null,
   "id": "2bb4531c-6c11-45f1-9ee0-66e6d72a7889",
   "metadata": {},
   "outputs": [],
   "source": [
    "import inspect as _inspect\n",
    "\n",
    "from everest.ptolemaic.chora import Chora\n",
    "\n",
    "\n",
    "class MyDict(Chora):\n",
    "\n",
    "    FIELDS = (_inspect.Parameter('content', 4),)\n",
    "\n",
    "    def retrieve_strn(self, incisor: str, /):\n",
    "        return self.content[incisor]\n",
    "\n",
    "    def incise_set(self, incisor: set, /):\n",
    "        return self.__class_call__(\n",
    "            **{key: self.content[key] for key in sorted(incisor)}\n",
    "            )\n",
    "\n",
    "\n",
    "class MyStrRepeater(Chora):\n",
    "\n",
    "    repetitions: int = 1\n",
    "\n",
    "    def retrieve_strn(self, incisor: str, /):\n",
    "        return incisor * self.repetitions"
   ]
  },
  {
   "cell_type": "code",
   "execution_count": null,
   "id": "e8f6fc45-a96e-49e2-92f6-afa2cf88b58d",
   "metadata": {},
   "outputs": [],
   "source": [
    "mydict = MyDict(aa=1, bb=2, cc=3)\n",
    "myrep = MyStrRepeater(2)"
   ]
  },
  {
   "cell_type": "code",
   "execution_count": null,
   "id": "c934b87f-e650-4aa5-86d0-e2e019092889",
   "metadata": {},
   "outputs": [],
   "source": [
    "my_func(1, 2)"
   ]
  },
  {
   "cell_type": "code",
   "execution_count": null,
   "id": "4081b4e6-0719-44c0-af64-7d49aae6bd80",
   "metadata": {},
   "outputs": [],
   "source": [
    "myinc = my_func[mydict, mydict, mydict]"
   ]
  },
  {
   "cell_type": "code",
   "execution_count": null,
   "id": "acb73851-b244-42b3-bcaf-d06f2483e6c1",
   "metadata": {},
   "outputs": [],
   "source": [
    "myinc['aa', ..., 'cc']"
   ]
  },
  {
   "cell_type": "code",
   "execution_count": null,
   "id": "be6cd38f-b9fd-4761-9a48-994690305e70",
   "metadata": {},
   "outputs": [],
   "source": [
    "myinc = my_func[mydict, mydict, mydict][myrep, myrep, myrep]['a', ..., 'c']"
   ]
  },
  {
   "cell_type": "code",
   "execution_count": null,
   "id": "a77340a1-d55d-4b08-b8ae-aa5f8e21c637",
   "metadata": {},
   "outputs": [],
   "source": [
    "myinc(2)"
   ]
  },
  {
   "cell_type": "code",
   "execution_count": null,
   "id": "26c12154-0ef4-482f-90b1-6a0b6f8a4d8e",
   "metadata": {},
   "outputs": [],
   "source": [
    "%%timeit -n 100\n",
    "my_func(1, 2, 3)"
   ]
  },
  {
   "cell_type": "code",
   "execution_count": null,
   "id": "d7dea1c1-69e7-477d-8b3f-2011ede82262",
   "metadata": {},
   "outputs": [],
   "source": [
    "%%timeit -n 100\n",
    "my_func.__construct__(1, 2, 3)"
   ]
  },
  {
   "cell_type": "code",
   "execution_count": null,
   "id": "2f8a1205-1e45-4d07-be91-9a27b109276f",
   "metadata": {},
   "outputs": [],
   "source": [
    "%%timeit -n 100\n",
    "my_func.sig(1, 2, 3)"
   ]
  },
  {
   "cell_type": "code",
   "execution_count": null,
   "id": "06f49462-2fe9-47b3-9ad6-41c3bea982e6",
   "metadata": {},
   "outputs": [],
   "source": [
    "params = my_func.sig(1, 2, 3)"
   ]
  },
  {
   "cell_type": "code",
   "execution_count": null,
   "id": "9d3f0e8a-90db-4d2a-a0da-23220a51c797",
   "metadata": {},
   "outputs": [],
   "source": [
    "%%timeit -n 100\n",
    "my_func.construct(params)"
   ]
  },
  {
   "cell_type": "code",
   "execution_count": null,
   "id": "39ae276c-836c-442e-a472-07286c51c083",
   "metadata": {},
   "outputs": [],
   "source": [
    "def my_func(d, c, b=2, *, a=1):\n",
    "    ..."
   ]
  },
  {
   "cell_type": "code",
   "execution_count": null,
   "id": "be523176-2fb2-4d62-aed7-4a45e3529bd6",
   "metadata": {},
   "outputs": [],
   "source": [
    "import inspect"
   ]
  },
  {
   "cell_type": "code",
   "execution_count": null,
   "id": "16d95672-eb27-4c90-927b-1f394b2250df",
   "metadata": {},
   "outputs": [],
   "source": [
    "signature = inspect.signature(my_func)"
   ]
  },
  {
   "cell_type": "code",
   "execution_count": null,
   "id": "0e5dec50-14ce-460b-9aa1-30a466ab19d4",
   "metadata": {},
   "outputs": [],
   "source": [
    "bound = signature.bind(4, 3)"
   ]
  },
  {
   "cell_type": "code",
   "execution_count": null,
   "id": "bfcd48b3-a6a8-4b3f-836c-59c141ce1b5f",
   "metadata": {},
   "outputs": [],
   "source": [
    "bound.apply_defaults()"
   ]
  },
  {
   "cell_type": "code",
   "execution_count": null,
   "id": "cbc59596-754b-40da-b271-8d1d967eb3b4",
   "metadata": {},
   "outputs": [],
   "source": [
    "bound.arguments"
   ]
  },
  {
   "cell_type": "code",
   "execution_count": null,
   "id": "ae7bb4d3-720b-435b-9399-d77908fd7767",
   "metadata": {},
   "outputs": [],
   "source": [
    "bound.args"
   ]
  },
  {
   "cell_type": "code",
   "execution_count": null,
   "id": "ed72f213-0ddc-4fb5-95cf-90d513eb3839",
   "metadata": {},
   "outputs": [],
   "source": [
    "bound.kwargs"
   ]
  },
  {
   "cell_type": "code",
   "execution_count": null,
   "id": "97de090a-f3b7-4407-94dd-d150013ee596",
   "metadata": {},
   "outputs": [],
   "source": []
  }
 ],
 "metadata": {
  "kernelspec": {
   "display_name": "Python 3 (ipykernel)",
   "language": "python",
   "name": "python3"
  },
  "language_info": {
   "codemirror_mode": {
    "name": "ipython",
    "version": 3
   },
   "file_extension": ".py",
   "mimetype": "text/x-python",
   "name": "python",
   "nbconvert_exporter": "python",
   "pygments_lexer": "ipython3",
   "version": "3.9.5"
  }
 },
 "nbformat": 4,
 "nbformat_minor": 5
}
