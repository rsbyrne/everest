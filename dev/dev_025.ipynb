{
 "cells": [
  {
   "cell_type": "code",
   "execution_count": 1,
   "id": "9ed9dea2-6353-4ea5-a0e3-84719fc347db",
   "metadata": {},
   "outputs": [
    {
     "name": "stdout",
     "output_type": "stream",
     "text": [
      "foo\n"
     ]
    }
   ],
   "source": [
    "print('foo')"
   ]
  },
  {
   "cell_type": "code",
   "execution_count": 2,
   "id": "9431ec6c-b2d1-4139-8bdf-e437b713159d",
   "metadata": {},
   "outputs": [],
   "source": [
    "###############################################################################\n",
    "import aliases"
   ]
  },
  {
   "cell_type": "code",
   "execution_count": 3,
   "id": "063417a3-df90-4e52-aaf9-7a97b41f8ee7",
   "metadata": {},
   "outputs": [
    {
     "ename": "ModuleNotFoundError",
     "evalue": "No module named 'numpy'",
     "output_type": "error",
     "traceback": [
      "\u001b[0;31m---------------------------------------------------------------------------\u001b[0m",
      "\u001b[0;31mModuleNotFoundError\u001b[0m                       Traceback (most recent call last)",
      "Input \u001b[0;32mIn [3]\u001b[0m, in \u001b[0;36m<module>\u001b[0;34m\u001b[0m\n\u001b[1;32m      1\u001b[0m \u001b[38;5;28;01mfrom\u001b[39;00m \u001b[38;5;21;01mtypes\u001b[39;00m \u001b[38;5;28;01mimport\u001b[39;00m MappingProxyType \u001b[38;5;28;01mas\u001b[39;00m _MappingProxyType\n\u001b[0;32m----> 3\u001b[0m \u001b[38;5;28;01mfrom\u001b[39;00m \u001b[38;5;21;01meverest\u001b[39;00m\u001b[38;5;21;01m.\u001b[39;00m\u001b[38;5;21;01mptolemaic\u001b[39;00m\u001b[38;5;21;01m.\u001b[39;00m\u001b[38;5;21;01mousia\u001b[39;00m \u001b[38;5;28;01mimport\u001b[39;00m Ousia \u001b[38;5;28;01mas\u001b[39;00m _Ousia\n\u001b[1;32m      4\u001b[0m \u001b[38;5;28;01mfrom\u001b[39;00m \u001b[38;5;21;01meverest\u001b[39;00m\u001b[38;5;21;01m.\u001b[39;00m\u001b[38;5;21;01mptolemaic\u001b[39;00m\u001b[38;5;21;01m.\u001b[39;00m\u001b[38;5;21;01msprite\u001b[39;00m \u001b[38;5;28;01mimport\u001b[39;00m Sprite \u001b[38;5;28;01mas\u001b[39;00m _Sprite\n",
      "File \u001b[0;32m~/workspace/mount/everest/everest/ptolemaic/ousia.py:10\u001b[0m, in \u001b[0;36m<module>\u001b[0;34m\u001b[0m\n\u001b[1;32m      7\u001b[0m \u001b[38;5;28;01mimport\u001b[39;00m \u001b[38;5;21;01minspect\u001b[39;00m \u001b[38;5;28;01mas\u001b[39;00m \u001b[38;5;21;01m_inspect\u001b[39;00m\n\u001b[1;32m      8\u001b[0m \u001b[38;5;28;01mimport\u001b[39;00m \u001b[38;5;21;01mtypes\u001b[39;00m \u001b[38;5;28;01mas\u001b[39;00m \u001b[38;5;21;01m_types\u001b[39;00m\n\u001b[0;32m---> 10\u001b[0m \u001b[38;5;28;01mfrom\u001b[39;00m \u001b[38;5;21;01meverest\u001b[39;00m\u001b[38;5;21;01m.\u001b[39;00m\u001b[38;5;21;01mutilities\u001b[39;00m \u001b[38;5;28;01mimport\u001b[39;00m (\n\u001b[1;32m     11\u001b[0m     caching \u001b[38;5;28;01mas\u001b[39;00m _caching,\n\u001b[1;32m     12\u001b[0m     switch \u001b[38;5;28;01mas\u001b[39;00m _switch,\n\u001b[1;32m     13\u001b[0m     reseed \u001b[38;5;28;01mas\u001b[39;00m _reseed,\n\u001b[1;32m     14\u001b[0m     )\n\u001b[1;32m     15\u001b[0m \u001b[38;5;28;01mfrom\u001b[39;00m \u001b[38;5;21;01meverest\u001b[39;00m\u001b[38;5;21;01m.\u001b[39;00m\u001b[38;5;21;01mincision\u001b[39;00m \u001b[38;5;28;01mimport\u001b[39;00m IncisionHandler \u001b[38;5;28;01mas\u001b[39;00m _IncisionHandler\n\u001b[1;32m     17\u001b[0m \u001b[38;5;28;01mfrom\u001b[39;00m \u001b[38;5;21;01meverest\u001b[39;00m\u001b[38;5;21;01m.\u001b[39;00m\u001b[38;5;21;01mptolemaic\u001b[39;00m\u001b[38;5;21;01m.\u001b[39;00m\u001b[38;5;21;01messence\u001b[39;00m \u001b[38;5;28;01mimport\u001b[39;00m Essence \u001b[38;5;28;01mas\u001b[39;00m _Essence\n",
      "File \u001b[0;32m~/workspace/mount/everest/everest/utilities/__init__.py:5\u001b[0m, in \u001b[0;36m<module>\u001b[0;34m\u001b[0m\n\u001b[1;32m      2\u001b[0m \u001b[38;5;124;03m''''''\u001b[39;00m\n\u001b[1;32m      3\u001b[0m \u001b[38;5;66;03m###############################################################################\u001b[39;00m\n\u001b[0;32m----> 5\u001b[0m \u001b[38;5;28;01mfrom\u001b[39;00m \u001b[38;5;21;01m.\u001b[39;00m \u001b[38;5;28;01mimport\u001b[39;00m misc\n\u001b[1;32m      6\u001b[0m \u001b[38;5;28;01mfrom\u001b[39;00m \u001b[38;5;21;01m.\u001b[39;00m \u001b[38;5;28;01mimport\u001b[39;00m seqmerge\n\u001b[1;32m      7\u001b[0m \u001b[38;5;66;03m# from . import cascade\u001b[39;00m\n",
      "File \u001b[0;32m~/workspace/mount/everest/everest/utilities/misc.py:17\u001b[0m, in \u001b[0;36m<module>\u001b[0;34m\u001b[0m\n\u001b[1;32m     14\u001b[0m \u001b[38;5;28;01mimport\u001b[39;00m \u001b[38;5;21;01mtyping\u001b[39;00m \u001b[38;5;28;01mas\u001b[39;00m \u001b[38;5;21;01m_typing\u001b[39;00m\n\u001b[1;32m     15\u001b[0m \u001b[38;5;28;01mimport\u001b[39;00m \u001b[38;5;21;01mtypes\u001b[39;00m \u001b[38;5;28;01mas\u001b[39;00m \u001b[38;5;21;01m_types\u001b[39;00m\n\u001b[0;32m---> 17\u001b[0m \u001b[38;5;28;01mimport\u001b[39;00m \u001b[38;5;21;01mnumpy\u001b[39;00m \u001b[38;5;28;01mas\u001b[39;00m \u001b[38;5;21;01m_np\u001b[39;00m\n\u001b[1;32m     20\u001b[0m RICHOPS \u001b[38;5;241m=\u001b[39m (\u001b[38;5;124m'\u001b[39m\u001b[38;5;124mlt\u001b[39m\u001b[38;5;124m'\u001b[39m, \u001b[38;5;124m'\u001b[39m\u001b[38;5;124mle\u001b[39m\u001b[38;5;124m'\u001b[39m, \u001b[38;5;124m'\u001b[39m\u001b[38;5;124meq\u001b[39m\u001b[38;5;124m'\u001b[39m, \u001b[38;5;124m'\u001b[39m\u001b[38;5;124mne\u001b[39m\u001b[38;5;124m'\u001b[39m, \u001b[38;5;124m'\u001b[39m\u001b[38;5;124mge\u001b[39m\u001b[38;5;124m'\u001b[39m, \u001b[38;5;124m'\u001b[39m\u001b[38;5;124mgt\u001b[39m\u001b[38;5;124m'\u001b[39m)\n\u001b[1;32m     21\u001b[0m BOOLOPS \u001b[38;5;241m=\u001b[39m (\u001b[38;5;124m'\u001b[39m\u001b[38;5;124mnot\u001b[39m\u001b[38;5;124m'\u001b[39m, \u001b[38;5;124m'\u001b[39m\u001b[38;5;124mtruth\u001b[39m\u001b[38;5;124m'\u001b[39m, \u001b[38;5;124m'\u001b[39m\u001b[38;5;124mis\u001b[39m\u001b[38;5;124m'\u001b[39m, \u001b[38;5;124m'\u001b[39m\u001b[38;5;124mis_not\u001b[39m\u001b[38;5;124m'\u001b[39m,)\n",
      "\u001b[0;31mModuleNotFoundError\u001b[0m: No module named 'numpy'"
     ]
    }
   ],
   "source": [
    "from types import MappingProxyType as _MappingProxyType\n",
    "\n",
    "from everest.ptolemaic.ousia import Ousia as _Ousia\n",
    "from everest.ptolemaic.sprite import Sprite as _Sprite"
   ]
  },
  {
   "cell_type": "code",
   "execution_count": 4,
   "id": "2a50fbd6-fbdc-4494-81f7-65e254e6b681",
   "metadata": {},
   "outputs": [
    {
     "ename": "ModuleNotFoundError",
     "evalue": "No module named 'numpy'",
     "output_type": "error",
     "traceback": [
      "\u001b[0;31m---------------------------------------------------------------------------\u001b[0m",
      "\u001b[0;31mModuleNotFoundError\u001b[0m                       Traceback (most recent call last)",
      "Input \u001b[0;32mIn [4]\u001b[0m, in \u001b[0;36m<module>\u001b[0;34m\u001b[0m\n\u001b[0;32m----> 1\u001b[0m \u001b[38;5;28;01mimport\u001b[39;00m \u001b[38;5;21;01mnumpy\u001b[39;00m\n",
      "\u001b[0;31mModuleNotFoundError\u001b[0m: No module named 'numpy'"
     ]
    }
   ],
   "source": [
    "import numpy"
   ]
  },
  {
   "cell_type": "code",
   "execution_count": 6,
   "id": "167baa19-a5fa-468f-a0e7-f31e4d42a5ae",
   "metadata": {},
   "outputs": [
    {
     "name": "stdout",
     "output_type": "stream",
     "text": [
      "foo\n"
     ]
    }
   ],
   "source": [
    "a = 1\n",
    "match a:\n",
    "    case int:\n",
    "        print('foo')"
   ]
  },
  {
   "cell_type": "code",
   "execution_count": null,
   "id": "66ded1d0-780c-4989-b6d6-08dfc7d92b3b",
   "metadata": {},
   "outputs": [],
   "source": []
  },
  {
   "cell_type": "code",
   "execution_count": 1,
   "id": "78d561a4-e3f0-44f9-ab5f-9ec60ca45cc6",
   "metadata": {},
   "outputs": [
    {
     "ename": "NameError",
     "evalue": "name '_Ousia' is not defined",
     "output_type": "error",
     "traceback": [
      "\u001b[0;31m---------------------------------------------------------------------------\u001b[0m",
      "\u001b[0;31mNameError\u001b[0m                                 Traceback (most recent call last)",
      "Input \u001b[0;32mIn [1]\u001b[0m, in \u001b[0;36m<module>\u001b[0;34m\u001b[0m\n\u001b[0;32m----> 1\u001b[0m \u001b[38;5;28;01mclass\u001b[39;00m \u001b[38;5;21;01mEphemera\u001b[39;00m(metaclass\u001b[38;5;241m=\u001b[39m\u001b[43m_Ousia\u001b[49m):\n\u001b[1;32m      3\u001b[0m     _req_slots__ \u001b[38;5;241m=\u001b[39m (\u001b[38;5;124m'\u001b[39m\u001b[38;5;124m_attrs\u001b[39m\u001b[38;5;124m'\u001b[39m, \u001b[38;5;124m'\u001b[39m\u001b[38;5;124mattrs\u001b[39m\u001b[38;5;124m'\u001b[39m)\n\u001b[1;32m      5\u001b[0m     \u001b[38;5;28;01mdef\u001b[39;00m \u001b[38;5;21m__init__\u001b[39m(\u001b[38;5;28mself\u001b[39m, \u001b[38;5;241m/\u001b[39m):\n",
      "\u001b[0;31mNameError\u001b[0m: name '_Ousia' is not defined"
     ]
    }
   ],
   "source": [
    "class Ephemera(metaclass=_Ousia):\n",
    "\n",
    "    _req_slots__ = ('_attrs', 'attrs')\n",
    "\n",
    "    def __init__(self, /):\n",
    "        super().__init__()\n",
    "        attrs = self._attrs = {}\n",
    "        self.attrs = _MappingProxyType(attrs)\n",
    "\n",
    "    def __setattr__(self, name, val, /):\n",
    "        if self.freezeattr:\n",
    "            self._attrs[name] = val\n",
    "        else:\n",
    "            self._alt_setattr__(name, val)\n",
    "\n",
    "    def __delattr__(self, name, /):\n",
    "        if self.freezeattr:\n",
    "            del self._attrs[name]\n",
    "        else:\n",
    "            self._alt_delattr__(name)\n",
    "\n",
    "\n",
    "class Table(Ephemera):\n",
    "\n",
    "    _req_slots__ = (\n",
    "        'shape', 'dtype',\n",
    "        'content',\n",
    "        )\n",
    "\n",
    "    def __init__(self, /, shape=None, dtype=None, ):\n",
    "        super().__init__()\n",
    "        self.shape = shape\n",
    "        self.dtype = dtype\n",
    "\n",
    "\n",
    "class Folio(Ephemera):\n",
    "\n",
    "    _req_slots__ = (\n",
    "        'content', '_content',\n",
    "        )\n",
    "\n",
    "    def __init__(self, /):\n",
    "        super().__init__()\n",
    "        cont = self._content = {}\n",
    "        self.content = _MappingProxyType(cont)\n",
    "\n",
    "    for name in (\n",
    "            '__getitem__', '__len__', '__iter__', '__contains__',\n",
    "            'keys', 'values', 'items',\n",
    "            ):\n",
    "        exec('\\n'.join((\n",
    "            f'@property',\n",
    "            f'def {name}(self, /):',\n",
    "            f'    return self.content.{name}',\n",
    "            )))\n",
    "    del name"
   ]
  },
  {
   "cell_type": "code",
   "execution_count": 35,
   "id": "c71281fb-9771-48e9-b376-b9195e55284d",
   "metadata": {},
   "outputs": [],
   "source": [
    "class MyClass(metaclass=_Ousia):\n",
    "\n",
    "    def __init__(self, a, b):\n",
    "        ..."
   ]
  },
  {
   "cell_type": "code",
   "execution_count": 32,
   "id": "b0a96b36-6229-430e-a13b-e10c7571ff32",
   "metadata": {},
   "outputs": [],
   "source": [
    "myfolio = Ephemeris()"
   ]
  },
  {
   "cell_type": "code",
   "execution_count": 33,
   "id": "5f7a7a04-3eee-46db-bee9-847395d00e2c",
   "metadata": {},
   "outputs": [],
   "source": [
    "myfolio.foo = 1"
   ]
  },
  {
   "cell_type": "code",
   "execution_count": 34,
   "id": "1ec10a3d-9466-4583-8ab8-052aef35651c",
   "metadata": {},
   "outputs": [
    {
     "data": {
      "text/plain": [
       "<Ephemeris:139756162818880()>"
      ]
     },
     "execution_count": 34,
     "metadata": {},
     "output_type": "execute_result"
    }
   ],
   "source": [
    "myfolio"
   ]
  },
  {
   "cell_type": "code",
   "execution_count": null,
   "id": "73b24c2e-cf17-447a-a01e-1855e142ddaf",
   "metadata": {},
   "outputs": [],
   "source": []
  },
  {
   "cell_type": "code",
   "execution_count": 8,
   "id": "27924453-5f82-4b38-9200-d119c304acff",
   "metadata": {},
   "outputs": [
    {
     "data": {
      "text/plain": [
       "mappingproxy({})"
      ]
     },
     "execution_count": 8,
     "metadata": {},
     "output_type": "execute_result"
    }
   ],
   "source": [
    "dct = {}\n",
    "prx = _MappingProxyType(dct)\n",
    "prx"
   ]
  },
  {
   "cell_type": "code",
   "execution_count": 10,
   "id": "a6cbe3bd-7e73-4455-b964-b04ac7596ee6",
   "metadata": {},
   "outputs": [],
   "source": [
    "dct['foo'] = 1"
   ]
  },
  {
   "cell_type": "code",
   "execution_count": 11,
   "id": "8bab3009-bf36-40b0-a4a9-9da86120f31d",
   "metadata": {},
   "outputs": [
    {
     "data": {
      "text/plain": [
       "mappingproxy({'foo': 1})"
      ]
     },
     "execution_count": 11,
     "metadata": {},
     "output_type": "execute_result"
    }
   ],
   "source": [
    "prx"
   ]
  },
  {
   "cell_type": "code",
   "execution_count": 4,
   "id": "0da23e97-77ab-406a-8198-e24dc21cf935",
   "metadata": {},
   "outputs": [],
   "source": [
    "\n",
    "\n",
    "\n",
    "class Folio:\n",
    "\n",
    "    __slots__ = ('_epitaph', '_attrs')\n",
    "\n",
    "    def __init__(self, epitaph, /):\n",
    "        \n",
    "        self.__alt_setattr__('__setattr__', self.__alt_setattr__)\n",
    "        self._epitaph = \n",
    "        self._attrs = {}\n",
    "\n",
    "    @property\n",
    "    def name(self, /):\n",
    "        return self._epitaph.hashID\n",
    "\n",
    "    @property\n",
    "    def attrs(self, /):\n",
    "        return _types.MappingProxyType(self._attrs)\n",
    "\n",
    "    def __true_setattr__(self, name, val, /):\n",
    "        super().__setattr__(name, val)\n",
    "\n",
    "    def __alt_setattr__(self, name, val, /):\n",
    "        self._attrs[name] = val\n",
    "\n",
    "    @property\n",
    "    def __setattr__(self, /)\n",
    "\n",
    "    def __alt_delattr__(self, name, /):\n",
    "        super().__delattr__(name)\n",
    "\n",
    "    def __delattr__(self, name, /):\n",
    "        del self._attrs[name]"
   ]
  },
  {
   "cell_type": "code",
   "execution_count": 5,
   "id": "196d1585-824e-4952-9fa6-f1d0ebcdcb8b",
   "metadata": {},
   "outputs": [
    {
     "data": {
      "text/plain": [
       "<__main__.Folio at 0x7f1b84737820>"
      ]
     },
     "execution_count": 5,
     "metadata": {},
     "output_type": "execute_result"
    }
   ],
   "source": [
    "Folio(1)"
   ]
  },
  {
   "cell_type": "code",
   "execution_count": null,
   "id": "ab918bb9-d36b-423c-8e7d-aba0664f414d",
   "metadata": {},
   "outputs": [],
   "source": []
  },
  {
   "cell_type": "code",
   "execution_count": null,
   "id": "90d0a62d-6307-4673-83da-3f530c6ced58",
   "metadata": {},
   "outputs": [],
   "source": [
    "from everest.ptolemaic.fundaments.floatt import Floatt\n",
    "from everest.ptolemaic.fundaments.brace import Brace\n",
    "from everest.models.ode import *\n",
    "\n",
    "\n",
    "@ODEModel\n",
    "def Lorenz(\n",
    "        t,\n",
    "        state: Brace[::Floatt, ::Floatt, ::Floatt],\n",
    "        sigma: Floatt = 10.,\n",
    "        rho: Floatt = 28.,\n",
    "        beta: Floatt = 2.667,\n",
    "        /):\n",
    "    x, y, z = state\n",
    "    return (\n",
    "        sigma * (y - x),\n",
    "        rho * x - y - x * z,\n",
    "        x * y - beta * z,\n",
    "        )"
   ]
  },
  {
   "cell_type": "code",
   "execution_count": null,
   "id": "5b2c6841-6b44-4dff-a701-e4c4c7532426",
   "metadata": {},
   "outputs": [],
   "source": [
    "f"
   ]
  }
 ],
 "metadata": {
  "kernelspec": {
   "display_name": "Python 3 (ipykernel)",
   "language": "python",
   "name": "python3"
  },
  "language_info": {
   "codemirror_mode": {
    "name": "ipython",
    "version": 3
   },
   "file_extension": ".py",
   "mimetype": "text/x-python",
   "name": "python",
   "nbconvert_exporter": "python",
   "pygments_lexer": "ipython3",
   "version": "3.10.2"
  }
 },
 "nbformat": 4,
 "nbformat_minor": 5
}
