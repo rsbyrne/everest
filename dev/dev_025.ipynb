{
 "cells": [
  {
   "cell_type": "code",
   "execution_count": null,
   "id": "9431ec6c-b2d1-4139-8bdf-e437b713159d",
   "metadata": {},
   "outputs": [],
   "source": [
    "###############################################################################\n",
    "import aliases"
   ]
  },
  {
   "cell_type": "code",
   "execution_count": null,
   "id": "473f37ae-ca24-4129-ab43-7b5b75dd85ec",
   "metadata": {},
   "outputs": [],
   "source": [
    "from everest.fundaments.thing import Thing"
   ]
  },
  {
   "cell_type": "code",
   "execution_count": null,
   "id": "16650b74-bfc4-4150-bc06-b06c86d789c8",
   "metadata": {},
   "outputs": [],
   "source": [
    "Thing(1)"
   ]
  },
  {
   "cell_type": "code",
   "execution_count": null,
   "id": "7d0e2d07-ee69-4f9a-8dc8-a232fc7808df",
   "metadata": {},
   "outputs": [],
   "source": [
    "Thing[...]"
   ]
  },
  {
   "cell_type": "code",
   "execution_count": null,
   "id": "3fc136cf-8d85-4e4d-b08b-2ad287084c63",
   "metadata": {},
   "outputs": [],
   "source": [
    "Thing"
   ]
  },
  {
   "cell_type": "code",
   "execution_count": null,
   "id": "562b18f5-99e6-4fc4-9e51-095fd79166c1",
   "metadata": {},
   "outputs": [],
   "source": [
    "Thing.Oid.__mro__"
   ]
  },
  {
   "cell_type": "code",
   "execution_count": null,
   "id": "cf148c5f-cc3a-4fb5-b36b-6daff707ee25",
   "metadata": {},
   "outputs": [],
   "source": [
    "Thing.Oid.owner"
   ]
  },
  {
   "cell_type": "code",
   "execution_count": null,
   "id": "88bab950-e69f-40ce-8a00-5aed7e1a4a74",
   "metadata": {},
   "outputs": [],
   "source": []
  }
 ],
 "metadata": {
  "kernelspec": {
   "display_name": "Python 3 (ipykernel)",
   "language": "python",
   "name": "python3"
  },
  "language_info": {
   "codemirror_mode": {
    "name": "ipython",
    "version": 3
   },
   "file_extension": ".py",
   "mimetype": "text/x-python",
   "name": "python",
   "nbconvert_exporter": "python",
   "pygments_lexer": "ipython3",
   "version": "3.9.5"
  }
 },
 "nbformat": 4,
 "nbformat_minor": 5
}
