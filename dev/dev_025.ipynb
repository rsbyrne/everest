{
 "cells": [
  {
   "cell_type": "code",
   "execution_count": null,
   "id": "9ed9dea2-6353-4ea5-a0e3-84719fc347db",
   "metadata": {},
   "outputs": [],
   "source": [
    "print('foo')"
   ]
  },
  {
   "cell_type": "code",
   "execution_count": null,
   "id": "9431ec6c-b2d1-4139-8bdf-e437b713159d",
   "metadata": {},
   "outputs": [],
   "source": [
    "###############################################################################\n",
    "import aliases"
   ]
  },
  {
   "cell_type": "code",
   "execution_count": 25,
   "id": "08bee764-0486-4627-8200-257c54a0c064",
   "metadata": {},
   "outputs": [],
   "source": []
  },
  {
   "cell_type": "code",
   "execution_count": 2,
   "id": "063417a3-df90-4e52-aaf9-7a97b41f8ee7",
   "metadata": {},
   "outputs": [
    {
     "ename": "AttributeError",
     "evalue": "module 'typing' has no attribute 'GenericAlias'",
     "output_type": "error",
     "traceback": [
      "\u001b[0;31m---------------------------------------------------------------------------\u001b[0m",
      "\u001b[0;31mAttributeError\u001b[0m                            Traceback (most recent call last)",
      "Input \u001b[0;32mIn [2]\u001b[0m, in \u001b[0;36m<module>\u001b[0;34m\u001b[0m\n\u001b[1;32m      1\u001b[0m \u001b[38;5;28;01mfrom\u001b[39;00m \u001b[38;5;21;01mtypes\u001b[39;00m \u001b[38;5;28;01mimport\u001b[39;00m MappingProxyType \u001b[38;5;28;01mas\u001b[39;00m _MappingProxyType\n\u001b[0;32m----> 3\u001b[0m \u001b[38;5;28;01mfrom\u001b[39;00m \u001b[38;5;21;01meverest\u001b[39;00m\u001b[38;5;21;01m.\u001b[39;00m\u001b[38;5;21;01mptolemaic\u001b[39;00m\u001b[38;5;21;01m.\u001b[39;00m\u001b[38;5;21;01mousia\u001b[39;00m \u001b[38;5;28;01mimport\u001b[39;00m Ousia \u001b[38;5;28;01mas\u001b[39;00m _Ousia\n\u001b[1;32m      4\u001b[0m \u001b[38;5;28;01mfrom\u001b[39;00m \u001b[38;5;21;01meverest\u001b[39;00m\u001b[38;5;21;01m.\u001b[39;00m\u001b[38;5;21;01mptolemaic\u001b[39;00m\u001b[38;5;21;01m.\u001b[39;00m\u001b[38;5;21;01msprite\u001b[39;00m \u001b[38;5;28;01mimport\u001b[39;00m Sprite \u001b[38;5;28;01mas\u001b[39;00m _Sprite\n",
      "File \u001b[0;32m~/workspace/mount/everest/everest/ptolemaic/ousia.py:15\u001b[0m, in \u001b[0;36m<module>\u001b[0;34m\u001b[0m\n\u001b[1;32m      8\u001b[0m \u001b[38;5;28;01mimport\u001b[39;00m \u001b[38;5;21;01mtypes\u001b[39;00m \u001b[38;5;28;01mas\u001b[39;00m \u001b[38;5;21;01m_types\u001b[39;00m\n\u001b[1;32m     10\u001b[0m \u001b[38;5;28;01mfrom\u001b[39;00m \u001b[38;5;21;01meverest\u001b[39;00m\u001b[38;5;21;01m.\u001b[39;00m\u001b[38;5;21;01mutilities\u001b[39;00m \u001b[38;5;28;01mimport\u001b[39;00m (\n\u001b[1;32m     11\u001b[0m     caching \u001b[38;5;28;01mas\u001b[39;00m _caching,\n\u001b[1;32m     12\u001b[0m     switch \u001b[38;5;28;01mas\u001b[39;00m _switch,\n\u001b[1;32m     13\u001b[0m     reseed \u001b[38;5;28;01mas\u001b[39;00m _reseed,\n\u001b[1;32m     14\u001b[0m     )\n\u001b[0;32m---> 15\u001b[0m \u001b[38;5;28;01mfrom\u001b[39;00m \u001b[38;5;21;01meverest\u001b[39;00m\u001b[38;5;21;01m.\u001b[39;00m\u001b[38;5;21;01mincision\u001b[39;00m \u001b[38;5;28;01mimport\u001b[39;00m IncisionHandler \u001b[38;5;28;01mas\u001b[39;00m _IncisionHandler\n\u001b[1;32m     17\u001b[0m \u001b[38;5;28;01mfrom\u001b[39;00m \u001b[38;5;21;01meverest\u001b[39;00m\u001b[38;5;21;01m.\u001b[39;00m\u001b[38;5;21;01mptolemaic\u001b[39;00m\u001b[38;5;21;01m.\u001b[39;00m\u001b[38;5;21;01messence\u001b[39;00m \u001b[38;5;28;01mimport\u001b[39;00m Essence \u001b[38;5;28;01mas\u001b[39;00m _Essence\n\u001b[1;32m     20\u001b[0m \u001b[38;5;28;01mclass\u001b[39;00m \u001b[38;5;21;01mConcreteMeta\u001b[39;00m:\n",
      "File \u001b[0;32m~/workspace/mount/everest/everest/incision.py:12\u001b[0m, in \u001b[0;36m<module>\u001b[0;34m\u001b[0m\n\u001b[1;32m      9\u001b[0m \u001b[38;5;28;01mimport\u001b[39;00m \u001b[38;5;21;01minspect\u001b[39;00m \u001b[38;5;28;01mas\u001b[39;00m \u001b[38;5;21;01m_inspect\u001b[39;00m\n\u001b[1;32m     10\u001b[0m \u001b[38;5;28;01mimport\u001b[39;00m \u001b[38;5;21;01mcollections\u001b[39;00m \u001b[38;5;28;01mas\u001b[39;00m \u001b[38;5;21;01m_collections\u001b[39;00m\n\u001b[0;32m---> 12\u001b[0m \u001b[38;5;28;01mfrom\u001b[39;00m \u001b[38;5;21;01meverest\u001b[39;00m \u001b[38;5;28;01mimport\u001b[39;00m epitaph \u001b[38;5;28;01mas\u001b[39;00m _epitaph\n\u001b[1;32m     13\u001b[0m \u001b[38;5;28;01mfrom\u001b[39;00m \u001b[38;5;21;01meverest\u001b[39;00m\u001b[38;5;21;01m.\u001b[39;00m\u001b[38;5;21;01mutilities\u001b[39;00m \u001b[38;5;28;01mimport\u001b[39;00m Null \u001b[38;5;28;01mas\u001b[39;00m _Null\n\u001b[1;32m     14\u001b[0m \u001b[38;5;28;01mfrom\u001b[39;00m \u001b[38;5;21;01meverest\u001b[39;00m\u001b[38;5;21;01m.\u001b[39;00m\u001b[38;5;21;01mutilities\u001b[39;00m\u001b[38;5;21;01m.\u001b[39;00m\u001b[38;5;21;01mprotocol\u001b[39;00m \u001b[38;5;28;01mimport\u001b[39;00m Protocol \u001b[38;5;28;01mas\u001b[39;00m _Protocol\n",
      "File \u001b[0;32m~/workspace/mount/everest/everest/epitaph.py:337\u001b[0m, in \u001b[0;36m<module>\u001b[0;34m\u001b[0m\n\u001b[1;32m    333\u001b[0m     \u001b[38;5;28;01mdef\u001b[39;00m \u001b[38;5;21m__reduce__\u001b[39m(\u001b[38;5;28mself\u001b[39m, \u001b[38;5;241m/\u001b[39m):\n\u001b[1;32m    334\u001b[0m         \u001b[38;5;28;01mreturn\u001b[39;00m \u001b[38;5;28mself\u001b[39m\u001b[38;5;241m.\u001b[39m\u001b[38;5;18m__class__\u001b[39m, (\u001b[38;5;28mself\u001b[39m\u001b[38;5;241m.\u001b[39mnamespace\u001b[38;5;241m.\u001b[39mcontent,)\n\u001b[0;32m--> 337\u001b[0m TAPHONOMY \u001b[38;5;241m=\u001b[39m \u001b[43mTaphonomy\u001b[49m\u001b[43m(\u001b[49m\u001b[43m)\u001b[49m\n\u001b[1;32m    340\u001b[0m \u001b[38;5;28;01mdef\u001b[39;00m \u001b[38;5;21mentomb\u001b[39m(obj, \u001b[38;5;241m/\u001b[39m):\n\u001b[1;32m    341\u001b[0m     \u001b[38;5;28;01mreturn\u001b[39;00m TAPHONOMY(obj)\n",
      "File \u001b[0;32m~/workspace/mount/everest/everest/epitaph.py:132\u001b[0m, in \u001b[0;36mTaphonomy.__init__\u001b[0;34m(self, namespace, **kwargs)\u001b[0m\n\u001b[1;32m    127\u001b[0m         \u001b[38;5;28;01mraise\u001b[39;00m \u001b[38;5;167;01mValueError\u001b[39;00m(\n\u001b[1;32m    128\u001b[0m             \u001b[38;5;124m\"\u001b[39m\u001b[38;5;124mCannot pass namespace as both arg and kwargs.\u001b[39m\u001b[38;5;124m\"\u001b[39m\n\u001b[1;32m    129\u001b[0m             )\n\u001b[1;32m    130\u001b[0m namespace \u001b[38;5;241m=\u001b[39m \u001b[38;5;28mself\u001b[39m\u001b[38;5;241m.\u001b[39mnamespace \u001b[38;5;241m=\u001b[39m \\\n\u001b[1;32m    131\u001b[0m     _types\u001b[38;5;241m.\u001b[39mMappingProxyType(namespace)\n\u001b[0;32m--> 132\u001b[0m \u001b[38;5;28mself\u001b[39m\u001b[38;5;241m.\u001b[39mencoders \u001b[38;5;241m=\u001b[39m \u001b[43m_TypeMap\u001b[49m\u001b[43m(\u001b[49m\u001b[38;5;28;43mself\u001b[39;49m\u001b[38;5;241;43m.\u001b[39;49m\u001b[43myield_encoders\u001b[49m\u001b[43m(\u001b[49m\u001b[43m)\u001b[49m\u001b[43m)\u001b[49m\n\u001b[1;32m    133\u001b[0m decoders \u001b[38;5;241m=\u001b[39m \u001b[38;5;28mself\u001b[39m\u001b[38;5;241m.\u001b[39mdecoders \u001b[38;5;241m=\u001b[39m \\\n\u001b[1;32m    134\u001b[0m     _types\u001b[38;5;241m.\u001b[39mMappingProxyType(\u001b[38;5;28mdict\u001b[39m(\u001b[38;5;28mself\u001b[39m\u001b[38;5;241m.\u001b[39myield_decoders()))\n\u001b[1;32m    135\u001b[0m \u001b[38;5;28mself\u001b[39m\u001b[38;5;241m.\u001b[39m_primitivemeths \u001b[38;5;241m=\u001b[39m {\n\u001b[1;32m    136\u001b[0m     \u001b[38;5;28mself\u001b[39m\u001b[38;5;241m.\u001b[39mencode_string, \u001b[38;5;28mself\u001b[39m\u001b[38;5;241m.\u001b[39mencode_primitive,\n\u001b[1;32m    137\u001b[0m     \u001b[38;5;28mself\u001b[39m\u001b[38;5;241m.\u001b[39mencode_tuple, \u001b[38;5;28mself\u001b[39m\u001b[38;5;241m.\u001b[39mencode_dict,\n\u001b[1;32m    138\u001b[0m     }\n",
      "File \u001b[0;32m~/workspace/mount/everest/everest/utilities/misc.py:220\u001b[0m, in \u001b[0;36mFrozenMap.__init__\u001b[0;34m(self, defertos, *args, **kwargs)\u001b[0m\n\u001b[1;32m    218\u001b[0m \u001b[38;5;28;01mdef\u001b[39;00m \u001b[38;5;21m__init__\u001b[39m(\u001b[38;5;28mself\u001b[39m, \u001b[38;5;241m/\u001b[39m, \u001b[38;5;241m*\u001b[39margs, defertos\u001b[38;5;241m=\u001b[39m(), \u001b[38;5;241m*\u001b[39m\u001b[38;5;241m*\u001b[39mkwargs):\n\u001b[1;32m    219\u001b[0m     content \u001b[38;5;241m=\u001b[39m \u001b[38;5;28mdict\u001b[39m(\u001b[38;5;241m*\u001b[39margs, \u001b[38;5;241m*\u001b[39m\u001b[38;5;241m*\u001b[39mkwargs)\n\u001b[0;32m--> 220\u001b[0m     \u001b[38;5;28mself\u001b[39m\u001b[38;5;241m.\u001b[39mcontent \u001b[38;5;241m=\u001b[39m \u001b[38;5;28;43mdict\u001b[39;49m\u001b[43m(\u001b[49m\u001b[38;5;28;43mzip\u001b[39;49m\u001b[43m(\u001b[49m\n\u001b[1;32m    221\u001b[0m \u001b[43m        \u001b[49m\u001b[38;5;28;43mmap\u001b[39;49m\u001b[43m(\u001b[49m\u001b[38;5;28;43mself\u001b[39;49m\u001b[38;5;241;43m.\u001b[39;49m\u001b[43mprocess_key\u001b[49m\u001b[43m,\u001b[49m\u001b[43m \u001b[49m\u001b[43mcontent\u001b[49m\u001b[43m)\u001b[49m\u001b[43m,\u001b[49m\n\u001b[1;32m    222\u001b[0m \u001b[43m        \u001b[49m\u001b[43mcontent\u001b[49m\u001b[38;5;241;43m.\u001b[39;49m\u001b[43mvalues\u001b[49m\u001b[43m(\u001b[49m\u001b[43m)\u001b[49m\n\u001b[1;32m    223\u001b[0m \u001b[43m        \u001b[49m\u001b[43m)\u001b[49m\u001b[43m)\u001b[49m\n\u001b[1;32m    224\u001b[0m     \u001b[38;5;28mself\u001b[39m\u001b[38;5;241m.\u001b[39mdefertos \u001b[38;5;241m=\u001b[39m \u001b[38;5;28mtuple\u001b[39m(defertos)\n",
      "File \u001b[0;32m~/workspace/mount/everest/everest/utilities/misc.py:364\u001b[0m, in \u001b[0;36mTypeMap.process_key\u001b[0;34m(cls, key)\u001b[0m\n\u001b[1;32m    362\u001b[0m \u001b[38;5;129m@classmethod\u001b[39m\n\u001b[1;32m    363\u001b[0m \u001b[38;5;28;01mdef\u001b[39;00m \u001b[38;5;21mprocess_key\u001b[39m(\u001b[38;5;28mcls\u001b[39m, key):\n\u001b[0;32m--> 364\u001b[0m     \u001b[38;5;28;01mif\u001b[39;00m \u001b[38;5;28misinstance\u001b[39m(key, \u001b[43m_typing\u001b[49m\u001b[38;5;241;43m.\u001b[39;49m\u001b[43mGenericAlias\u001b[49m):\n\u001b[1;32m    365\u001b[0m         \u001b[38;5;28;01mdef\u001b[39;00m \u001b[38;5;21mkeyfunc\u001b[39m(args, \u001b[38;5;241m/\u001b[39m, \u001b[38;5;241m*\u001b[39m, keys\u001b[38;5;241m=\u001b[39mkey\u001b[38;5;241m.\u001b[39m__args__):\n\u001b[1;32m    366\u001b[0m             \u001b[38;5;28;01mreturn\u001b[39;00m \u001b[38;5;28mall\u001b[39m(_itertools\u001b[38;5;241m.\u001b[39mstarmap(\n\u001b[1;32m    367\u001b[0m                 \u001b[38;5;28missubclass\u001b[39m,\n\u001b[1;32m    368\u001b[0m                 _itertools\u001b[38;5;241m.\u001b[39mzip_longest(args, keys, fillvalue\u001b[38;5;241m=\u001b[39mNull)\n\u001b[1;32m    369\u001b[0m                 ))\n",
      "\u001b[0;31mAttributeError\u001b[0m: module 'typing' has no attribute 'GenericAlias'"
     ]
    }
   ],
   "source": [
    "from types import MappingProxyType as _MappingProxyType\n",
    "\n",
    "from everest.ptolemaic.ousia import Ousia as _Ousia\n",
    "from everest.ptolemaic.sprite import Sprite as _Sprite"
   ]
  },
  {
   "cell_type": "code",
   "execution_count": 1,
   "id": "78d561a4-e3f0-44f9-ab5f-9ec60ca45cc6",
   "metadata": {},
   "outputs": [
    {
     "ename": "NameError",
     "evalue": "name '_Ousia' is not defined",
     "output_type": "error",
     "traceback": [
      "\u001b[0;31m---------------------------------------------------------------------------\u001b[0m",
      "\u001b[0;31mNameError\u001b[0m                                 Traceback (most recent call last)",
      "Input \u001b[0;32mIn [1]\u001b[0m, in \u001b[0;36m<module>\u001b[0;34m\u001b[0m\n\u001b[0;32m----> 1\u001b[0m \u001b[38;5;28;01mclass\u001b[39;00m \u001b[38;5;21;01mEphemera\u001b[39;00m(metaclass\u001b[38;5;241m=\u001b[39m\u001b[43m_Ousia\u001b[49m):\n\u001b[1;32m      3\u001b[0m     _req_slots__ \u001b[38;5;241m=\u001b[39m (\u001b[38;5;124m'\u001b[39m\u001b[38;5;124m_attrs\u001b[39m\u001b[38;5;124m'\u001b[39m, \u001b[38;5;124m'\u001b[39m\u001b[38;5;124mattrs\u001b[39m\u001b[38;5;124m'\u001b[39m)\n\u001b[1;32m      5\u001b[0m     \u001b[38;5;28;01mdef\u001b[39;00m \u001b[38;5;21m__init__\u001b[39m(\u001b[38;5;28mself\u001b[39m, \u001b[38;5;241m/\u001b[39m):\n",
      "\u001b[0;31mNameError\u001b[0m: name '_Ousia' is not defined"
     ]
    }
   ],
   "source": [
    "class Ephemera(metaclass=_Ousia):\n",
    "\n",
    "    _req_slots__ = ('_attrs', 'attrs')\n",
    "\n",
    "    def __init__(self, /):\n",
    "        super().__init__()\n",
    "        attrs = self._attrs = {}\n",
    "        self.attrs = _MappingProxyType(attrs)\n",
    "\n",
    "    def __setattr__(self, name, val, /):\n",
    "        if self.freezeattr:\n",
    "            self._attrs[name] = val\n",
    "        else:\n",
    "            self._alt_setattr__(name, val)\n",
    "\n",
    "    def __delattr__(self, name, /):\n",
    "        if self.freezeattr:\n",
    "            del self._attrs[name]\n",
    "        else:\n",
    "            self._alt_delattr__(name)\n",
    "\n",
    "\n",
    "class Table(Ephemera):\n",
    "\n",
    "    _req_slots__ = (\n",
    "        'shape', 'dtype',\n",
    "        'content',\n",
    "        )\n",
    "\n",
    "    def __init__(self, /, shape=None, dtype=None, ):\n",
    "        super().__init__()\n",
    "        self.shape = shape\n",
    "        self.dtype = dtype\n",
    "\n",
    "\n",
    "class Folio(Ephemera):\n",
    "\n",
    "    _req_slots__ = (\n",
    "        'content', '_content',\n",
    "        )\n",
    "\n",
    "    def __init__(self, /):\n",
    "        super().__init__()\n",
    "        cont = self._content = {}\n",
    "        self.content = _MappingProxyType(cont)\n",
    "\n",
    "    for name in (\n",
    "            '__getitem__', '__len__', '__iter__', '__contains__',\n",
    "            'keys', 'values', 'items',\n",
    "            ):\n",
    "        exec('\\n'.join((\n",
    "            f'@property',\n",
    "            f'def {name}(self, /):',\n",
    "            f'    return self.content.{name}',\n",
    "            )))\n",
    "    del name"
   ]
  },
  {
   "cell_type": "code",
   "execution_count": 35,
   "id": "c71281fb-9771-48e9-b376-b9195e55284d",
   "metadata": {},
   "outputs": [],
   "source": [
    "class MyClass(metaclass=_Ousia):\n",
    "\n",
    "    def __init__(self, a, b):\n",
    "        ..."
   ]
  },
  {
   "cell_type": "code",
   "execution_count": 32,
   "id": "b0a96b36-6229-430e-a13b-e10c7571ff32",
   "metadata": {},
   "outputs": [],
   "source": [
    "myfolio = Ephemeris()"
   ]
  },
  {
   "cell_type": "code",
   "execution_count": 33,
   "id": "5f7a7a04-3eee-46db-bee9-847395d00e2c",
   "metadata": {},
   "outputs": [],
   "source": [
    "myfolio.foo = 1"
   ]
  },
  {
   "cell_type": "code",
   "execution_count": 34,
   "id": "1ec10a3d-9466-4583-8ab8-052aef35651c",
   "metadata": {},
   "outputs": [
    {
     "data": {
      "text/plain": [
       "<Ephemeris:139756162818880()>"
      ]
     },
     "execution_count": 34,
     "metadata": {},
     "output_type": "execute_result"
    }
   ],
   "source": [
    "myfolio"
   ]
  },
  {
   "cell_type": "code",
   "execution_count": null,
   "id": "73b24c2e-cf17-447a-a01e-1855e142ddaf",
   "metadata": {},
   "outputs": [],
   "source": []
  },
  {
   "cell_type": "code",
   "execution_count": 8,
   "id": "27924453-5f82-4b38-9200-d119c304acff",
   "metadata": {},
   "outputs": [
    {
     "data": {
      "text/plain": [
       "mappingproxy({})"
      ]
     },
     "execution_count": 8,
     "metadata": {},
     "output_type": "execute_result"
    }
   ],
   "source": [
    "dct = {}\n",
    "prx = _MappingProxyType(dct)\n",
    "prx"
   ]
  },
  {
   "cell_type": "code",
   "execution_count": 10,
   "id": "a6cbe3bd-7e73-4455-b964-b04ac7596ee6",
   "metadata": {},
   "outputs": [],
   "source": [
    "dct['foo'] = 1"
   ]
  },
  {
   "cell_type": "code",
   "execution_count": 11,
   "id": "8bab3009-bf36-40b0-a4a9-9da86120f31d",
   "metadata": {},
   "outputs": [
    {
     "data": {
      "text/plain": [
       "mappingproxy({'foo': 1})"
      ]
     },
     "execution_count": 11,
     "metadata": {},
     "output_type": "execute_result"
    }
   ],
   "source": [
    "prx"
   ]
  },
  {
   "cell_type": "code",
   "execution_count": 4,
   "id": "0da23e97-77ab-406a-8198-e24dc21cf935",
   "metadata": {},
   "outputs": [],
   "source": [
    "\n",
    "\n",
    "\n",
    "class Folio:\n",
    "\n",
    "    __slots__ = ('_epitaph', '_attrs')\n",
    "\n",
    "    def __init__(self, epitaph, /):\n",
    "        \n",
    "        self.__alt_setattr__('__setattr__', self.__alt_setattr__)\n",
    "        self._epitaph = \n",
    "        self._attrs = {}\n",
    "\n",
    "    @property\n",
    "    def name(self, /):\n",
    "        return self._epitaph.hashID\n",
    "\n",
    "    @property\n",
    "    def attrs(self, /):\n",
    "        return _types.MappingProxyType(self._attrs)\n",
    "\n",
    "    def __true_setattr__(self, name, val, /):\n",
    "        super().__setattr__(name, val)\n",
    "\n",
    "    def __alt_setattr__(self, name, val, /):\n",
    "        self._attrs[name] = val\n",
    "\n",
    "    @property\n",
    "    def __setattr__(self, /)\n",
    "\n",
    "    def __alt_delattr__(self, name, /):\n",
    "        super().__delattr__(name)\n",
    "\n",
    "    def __delattr__(self, name, /):\n",
    "        del self._attrs[name]"
   ]
  },
  {
   "cell_type": "code",
   "execution_count": 5,
   "id": "196d1585-824e-4952-9fa6-f1d0ebcdcb8b",
   "metadata": {},
   "outputs": [
    {
     "data": {
      "text/plain": [
       "<__main__.Folio at 0x7f1b84737820>"
      ]
     },
     "execution_count": 5,
     "metadata": {},
     "output_type": "execute_result"
    }
   ],
   "source": [
    "Folio(1)"
   ]
  },
  {
   "cell_type": "code",
   "execution_count": null,
   "id": "ab918bb9-d36b-423c-8e7d-aba0664f414d",
   "metadata": {},
   "outputs": [],
   "source": []
  },
  {
   "cell_type": "code",
   "execution_count": null,
   "id": "90d0a62d-6307-4673-83da-3f530c6ced58",
   "metadata": {},
   "outputs": [],
   "source": [
    "from everest.ptolemaic.fundaments.floatt import Floatt\n",
    "from everest.ptolemaic.fundaments.brace import Brace\n",
    "from everest.models.ode import *\n",
    "\n",
    "\n",
    "@ODEModel\n",
    "def Lorenz(\n",
    "        t,\n",
    "        state: Brace[::Floatt, ::Floatt, ::Floatt],\n",
    "        sigma: Floatt = 10.,\n",
    "        rho: Floatt = 28.,\n",
    "        beta: Floatt = 2.667,\n",
    "        /):\n",
    "    x, y, z = state\n",
    "    return (\n",
    "        sigma * (y - x),\n",
    "        rho * x - y - x * z,\n",
    "        x * y - beta * z,\n",
    "        )"
   ]
  },
  {
   "cell_type": "code",
   "execution_count": null,
   "id": "5b2c6841-6b44-4dff-a701-e4c4c7532426",
   "metadata": {},
   "outputs": [],
   "source": [
    "f"
   ]
  }
 ],
 "metadata": {
  "kernelspec": {
   "display_name": "Python 3 (ipykernel)",
   "language": "python",
   "name": "python3"
  },
  "language_info": {
   "codemirror_mode": {
    "name": "ipython",
    "version": 3
   },
   "file_extension": ".py",
   "mimetype": "text/x-python",
   "name": "python",
   "nbconvert_exporter": "python",
   "pygments_lexer": "ipython3",
   "version": "3.8.10"
  }
 },
 "nbformat": 4,
 "nbformat_minor": 5
}
