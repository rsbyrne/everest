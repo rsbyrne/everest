{
 "cells": [
  {
   "cell_type": "code",
   "execution_count": null,
   "id": "9431ec6c-b2d1-4139-8bdf-e437b713159d",
   "metadata": {},
   "outputs": [],
   "source": [
    "###############################################################################\n",
    "import aliases"
   ]
  },
  {
   "cell_type": "code",
   "execution_count": null,
   "id": "6ee4fcbc-b486-457c-b7c0-f8b204167283",
   "metadata": {},
   "outputs": [],
   "source": [
    "from everest.ptolemaic.fundaments.thing import Thing"
   ]
  },
  {
   "cell_type": "code",
   "execution_count": null,
   "id": "bd2f9c8e-a446-44e4-9f73-1707d939a660",
   "metadata": {},
   "outputs": [],
   "source": [
    "from everest.ptolemaic.fundaments.intt import Intt"
   ]
  },
  {
   "cell_type": "code",
   "execution_count": null,
   "id": "75964807-1979-40ca-87b2-e040e350d75d",
   "metadata": {},
   "outputs": [],
   "source": [
    "Intt.Brace[1, 2]"
   ]
  },
  {
   "cell_type": "code",
   "execution_count": null,
   "id": "91a2c268-c1eb-42da-83d3-8f87b2ce0838",
   "metadata": {},
   "outputs": [],
   "source": []
  },
  {
   "cell_type": "code",
   "execution_count": null,
   "id": "94d98759-c917-4c14-9068-986733196152",
   "metadata": {},
   "outputs": [],
   "source": [
    "1 in Intt"
   ]
  },
  {
   "cell_type": "code",
   "execution_count": null,
   "id": "2e827f65-2134-4d4b-bc14-0b067e61e26c",
   "metadata": {},
   "outputs": [],
   "source": [
    "Intt(1)"
   ]
  },
  {
   "cell_type": "code",
   "execution_count": null,
   "id": "6a7f9854-df0e-42f4-9ad6-dcd564d8d699",
   "metadata": {},
   "outputs": [],
   "source": [
    "Intt[10:]"
   ]
  },
  {
   "cell_type": "code",
   "execution_count": null,
   "id": "d48fc624-2907-4e56-9d64-ef992767d268",
   "metadata": {},
   "outputs": [],
   "source": [
    "Intt.Brace.__mro__"
   ]
  },
  {
   "cell_type": "code",
   "execution_count": null,
   "id": "beb4519a-19e4-4430-a741-a8d6e227166c",
   "metadata": {},
   "outputs": [],
   "source": [
    "Intt.Brace.SubmemberType"
   ]
  },
  {
   "cell_type": "code",
   "execution_count": null,
   "id": "bbcd5cf5-8c78-499d-a48c-4823d9ee2d94",
   "metadata": {},
   "outputs": [],
   "source": [
    "Intt.Brace.Oid.SubmemberType"
   ]
  },
  {
   "cell_type": "code",
   "execution_count": null,
   "id": "ccbcf7d7-7f0a-4964-910d-81ffb06ccf97",
   "metadata": {},
   "outputs": [],
   "source": [
    "Intt.Oid.SubmemberType"
   ]
  },
  {
   "cell_type": "code",
   "execution_count": null,
   "id": "dd5c513e-1c6b-4c1b-b8c5-c54cea6a86e9",
   "metadata": {},
   "outputs": [],
   "source": [
    "Intt.Brace((1, 2))"
   ]
  },
  {
   "cell_type": "code",
   "execution_count": null,
   "id": "3af2d91a-53e6-462e-9f64-cb5f977b97d8",
   "metadata": {},
   "outputs": [],
   "source": []
  },
  {
   "cell_type": "code",
   "execution_count": null,
   "id": "e4b73fa3-bae1-4aa3-a95f-eb3745422770",
   "metadata": {},
   "outputs": [],
   "source": [
    "Intt.Brace[1, 2]"
   ]
  },
  {
   "cell_type": "code",
   "execution_count": null,
   "id": "3a106d80-ca61-4c45-99b0-5b52c0983d03",
   "metadata": {},
   "outputs": [],
   "source": [
    "1 in _Brace"
   ]
  },
  {
   "cell_type": "code",
   "execution_count": null,
   "id": "187a08ab-2895-4092-b16d-e38f4051cd8e",
   "metadata": {},
   "outputs": [],
   "source": [
    "_Brace.__incision_manager__"
   ]
  },
  {
   "cell_type": "code",
   "execution_count": null,
   "id": "3a4a9f81-1116-4c80-86d6-dcdfb470a55c",
   "metadata": {},
   "outputs": [],
   "source": [
    "(1, 2) in _Brace"
   ]
  },
  {
   "cell_type": "code",
   "execution_count": null,
   "id": "0b1d08fa-a6db-4349-8baa-b2b530508681",
   "metadata": {},
   "outputs": [],
   "source": [
    "Cell((1, 2)) in Cell"
   ]
  },
  {
   "cell_type": "code",
   "execution_count": null,
   "id": "e05a673a-09c3-44de-a8d4-0da1601c5029",
   "metadata": {},
   "outputs": [],
   "source": [
    "Cell((1, 2))"
   ]
  },
  {
   "cell_type": "code",
   "execution_count": null,
   "id": "c8da0d25-8883-4c7d-8122-ddc488b400b7",
   "metadata": {},
   "outputs": [],
   "source": [
    "Cell[1, 2]"
   ]
  },
  {
   "cell_type": "code",
   "execution_count": null,
   "id": "0cf4b271-033b-49f4-aaf2-31e93fe59750",
   "metadata": {},
   "outputs": [],
   "source": [
    "Cell[2]"
   ]
  },
  {
   "cell_type": "code",
   "execution_count": null,
   "id": "3dd3aa51-c0ce-4990-9bab-35f3c43e38db",
   "metadata": {},
   "outputs": [],
   "source": []
  }
 ],
 "metadata": {
  "kernelspec": {
   "display_name": "Python 3 (ipykernel)",
   "language": "python",
   "name": "python3"
  },
  "language_info": {
   "codemirror_mode": {
    "name": "ipython",
    "version": 3
   },
   "file_extension": ".py",
   "mimetype": "text/x-python",
   "name": "python",
   "nbconvert_exporter": "python",
   "pygments_lexer": "ipython3",
   "version": "3.9.5"
  }
 },
 "nbformat": 4,
 "nbformat_minor": 5
}
