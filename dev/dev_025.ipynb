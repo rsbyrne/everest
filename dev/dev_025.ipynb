{
 "cells": [
  {
   "cell_type": "code",
   "execution_count": null,
   "id": "9431ec6c-b2d1-4139-8bdf-e437b713159d",
   "metadata": {},
   "outputs": [],
   "source": [
    "###############################################################################\n",
    "import aliases"
   ]
  },
  {
   "cell_type": "code",
   "execution_count": null,
   "id": "555c4342-c91c-4959-a28b-abd5b3f0b153",
   "metadata": {},
   "outputs": [],
   "source": [
    "from everest.ptolemaic.fundaments.intt import Intt\n",
    "from everest.p"
   ]
  },
  {
   "cell_type": "code",
   "execution_count": null,
   "id": "225a67ae-59c1-47ed-9c39-2f109a6723c1",
   "metadata": {},
   "outputs": [],
   "source": [
    "Intt[1:]"
   ]
  },
  {
   "cell_type": "code",
   "execution_count": null,
   "id": "c7c023ef-8081-4731-bf38-6f8322adaed6",
   "metadata": {},
   "outputs": [],
   "source": []
  },
  {
   "cell_type": "code",
   "execution_count": null,
   "id": "f1b752de-000b-421f-a976-041dd2f4b1fe",
   "metadata": {},
   "outputs": [],
   "source": [
    "class A:\n",
    "    ...\n",
    "\n",
    "\n",
    "class B(A):\n",
    "    ...\n",
    "\n",
    "\n",
    "class C(A, B):\n",
    "    ..."
   ]
  },
  {
   "cell_type": "code",
   "execution_count": null,
   "id": "a909a0a6-5da0-4934-90ec-5f4d9698d346",
   "metadata": {},
   "outputs": [],
   "source": []
  },
  {
   "cell_type": "code",
   "execution_count": null,
   "id": "3dd3aa51-c0ce-4990-9bab-35f3c43e38db",
   "metadata": {},
   "outputs": [],
   "source": [
    "from everest.ptolemaic.fundaments.floatt import Floatt"
   ]
  },
  {
   "cell_type": "code",
   "execution_count": null,
   "id": "62a37695-22b9-4886-b460-330004777466",
   "metadata": {},
   "outputs": [],
   "source": [
    "Floatt[0.]"
   ]
  },
  {
   "cell_type": "code",
   "execution_count": null,
   "id": "6ba44ab7-1dd8-420e-96e7-c4796bcb67c0",
   "metadata": {},
   "outputs": [],
   "source": [
    "Floatt[1.:]"
   ]
  },
  {
   "cell_type": "code",
   "execution_count": null,
   "id": "3c8012ea-3e87-46c5-99ed-311f8b9cc21b",
   "metadata": {},
   "outputs": [],
   "source": [
    "Floatt.Brace[1.:3., 5.:8.][0., 0.]"
   ]
  },
  {
   "cell_type": "code",
   "execution_count": null,
   "id": "a844779d-7bdb-478b-ae1c-2cdb735f8298",
   "metadata": {},
   "outputs": [],
   "source": [
    "Floatt.Brace[1.:3., 5.:8.]((2., 6.))"
   ]
  },
  {
   "cell_type": "code",
   "execution_count": null,
   "id": "1f4fb0fb-9684-412d-928d-27efc16c48ba",
   "metadata": {},
   "outputs": [],
   "source": [
    "Floatt.MemberType"
   ]
  },
  {
   "cell_type": "code",
   "execution_count": null,
   "id": "3a00d31d-3373-46ad-9afb-67856326aaf9",
   "metadata": {},
   "outputs": [],
   "source": [
    "Floatt.__module__"
   ]
  },
  {
   "cell_type": "code",
   "execution_count": null,
   "id": "a3c08321-63f2-4ad9-bba7-c9c36096f32e",
   "metadata": {},
   "outputs": [],
   "source": [
    "def my_func():\n",
    "    class A:\n",
    "        ...\n",
    "    return loc"
   ]
  },
  {
   "cell_type": "code",
   "execution_count": null,
   "id": "200626c9-44ed-45ed-b0dd-c929d826a524",
   "metadata": {},
   "outputs": [],
   "source": [
    "my_func()"
   ]
  },
  {
   "cell_type": "code",
   "execution_count": null,
   "id": "f5816fa3-f705-4f1b-ac00-2bc362dcd15a",
   "metadata": {},
   "outputs": [],
   "source": [
    "from types import SimpleNamespace as _SimpleNamespace"
   ]
  },
  {
   "cell_type": "code",
   "execution_count": null,
   "id": "6482e8a4-0ce7-479d-8de6-0d7834d2ad10",
   "metadata": {},
   "outputs": [],
   "source": [
    "_SimpleNamespace()"
   ]
  },
  {
   "cell_type": "code",
   "execution_count": null,
   "id": "1c4f686f-4ba4-4f97-9cd0-dbbf19300b09",
   "metadata": {},
   "outputs": [],
   "source": [
    "myspace = _SimpleNamespace(foo=1)"
   ]
  },
  {
   "cell_type": "code",
   "execution_count": null,
   "id": "76b0d621-f0f7-497d-9c43-9f57f57dec05",
   "metadata": {},
   "outputs": [],
   "source": [
    "myspace.foo"
   ]
  },
  {
   "cell_type": "code",
   "execution_count": null,
   "id": "9243a56b-0766-406a-bcbe-7f565449cca1",
   "metadata": {},
   "outputs": [],
   "source": [
    "del myspace.foo"
   ]
  },
  {
   "cell_type": "code",
   "execution_count": null,
   "id": "9fff5d67-83ca-401e-83f9-d17f15d34bcc",
   "metadata": {},
   "outputs": [],
   "source": [
    "myspace"
   ]
  },
  {
   "cell_type": "code",
   "execution_count": null,
   "id": "a0c6ac64-d708-4069-8973-6ec5ff1cd4c5",
   "metadata": {},
   "outputs": [],
   "source": [
    "myspace"
   ]
  },
  {
   "cell_type": "code",
   "execution_count": null,
   "id": "62ba1e4c-a8c5-4aae-8e6a-51032f88f709",
   "metadata": {},
   "outputs": [],
   "source": [
    "myspace['foo'] = 1"
   ]
  },
  {
   "cell_type": "code",
   "execution_count": null,
   "id": "36180f0c-4af8-48e9-afe4-a74a2c8c2975",
   "metadata": {},
   "outputs": [],
   "source": [
    "myspace.foo =1"
   ]
  },
  {
   "cell_type": "code",
   "execution_count": null,
   "id": "fa3621f0-3e61-491c-9d7e-a31833199a78",
   "metadata": {},
   "outputs": [],
   "source": [
    "myspace.__dict__.update(locals())"
   ]
  },
  {
   "cell_type": "code",
   "execution_count": null,
   "id": "dde935b8-040c-4c1a-8ead-6f71df1ea822",
   "metadata": {},
   "outputs": [],
   "source": [
    "dir(myspace)"
   ]
  },
  {
   "cell_type": "code",
   "execution_count": null,
   "id": "5b2c6841-6b44-4dff-a701-e4c4c7532426",
   "metadata": {},
   "outputs": [],
   "source": []
  }
 ],
 "metadata": {
  "kernelspec": {
   "display_name": "Python 3 (ipykernel)",
   "language": "python",
   "name": "python3"
  },
  "language_info": {
   "codemirror_mode": {
    "name": "ipython",
    "version": 3
   },
   "file_extension": ".py",
   "mimetype": "text/x-python",
   "name": "python",
   "nbconvert_exporter": "python",
   "pygments_lexer": "ipython3",
   "version": "3.9.5"
  }
 },
 "nbformat": 4,
 "nbformat_minor": 5
}
