{
 "cells": [
  {
   "cell_type": "code",
   "execution_count": null,
   "id": "22e80e6a-7249-43fd-8e58-4bcb35c735ac",
   "metadata": {},
   "outputs": [],
   "source": [
    "import aliases\n",
    "\n",
    "import profile\n",
    "\n",
    "import numpy as np\n",
    "from matplotlib import pyplot as plt\n",
    "\n",
    "from everest import window"
   ]
  },
  {
   "cell_type": "code",
   "execution_count": null,
   "id": "9957c2b1-09be-466f-9c25-1f6b8cd3bf2f",
   "metadata": {},
   "outputs": [],
   "source": [
    "x, y = sorted(np.random.rand(10)), np.random.rand(10)"
   ]
  },
  {
   "cell_type": "markdown",
   "id": "5ede7fa7-f528-4c22-8542-9f92abbbda42",
   "metadata": {},
   "source": [
    "<svg version=\"1.1\"\n",
    "     width=\"300\" height=\"200\"\n",
    "     xmlns=\"http://www.w3.org/2000/svg\">\n",
    "\n",
    "  <rect width=\"100%\" height=\"100%\" fill=\"red\" />\n",
    "\n",
    "  <circle cx=\"150\" cy=\"100\" r=\"80\" fill=\"green\" />\n",
    "\n",
    "  <text x=\"150\" y=\"125\" font-size=\"60\" text-anchor=\"middle\" fill=\"white\">SVG</text>\n",
    "\n",
    "</svg>"
   ]
  },
  {
   "cell_type": "code",
   "execution_count": null,
   "id": "88c4fe86-5db6-4ceb-a06f-d9fe58439c38",
   "metadata": {},
   "outputs": [],
   "source": [
    "from IPython.display import SVG, display"
   ]
  },
  {
   "cell_type": "code",
   "execution_count": null,
   "id": "3af68e2c-8c93-4b6d-a829-21b35cbac197",
   "metadata": {},
   "outputs": [],
   "source": [
    "data='''\n",
    "<svg version=\"1.1\"\n",
    "     width=\"300\" height=\"200\"\n",
    "     xmlns=\"http://www.w3.org/2000/svg\">\n",
    "\n",
    "  <rect width=\"100%\" height=\"100%\" fill=\"red\" />\n",
    "\n",
    "  <circle cx=\"150\" cy=\"100\" r=\"80\" fill=\"green\" />\n",
    "\n",
    "  <text x=\"150\" y=\"125\" font-size=\"60\" text-anchor=\"middle\" fill=\"white\">SVG</text>\n",
    "\n",
    "</svg>\n",
    "'''"
   ]
  },
  {
   "cell_type": "code",
   "execution_count": null,
   "id": "98b017a7-0fc4-4f4e-bc81-c2e2ee3215ea",
   "metadata": {},
   "outputs": [],
   "source": [
    "SVG(data)"
   ]
  },
  {
   "cell_type": "code",
   "execution_count": null,
   "id": "23e1b9fe-7372-4463-b896-f0a404680b10",
   "metadata": {},
   "outputs": [],
   "source": [
    "profile.run('plt.plot(x, y)')"
   ]
  },
  {
   "cell_type": "code",
   "execution_count": null,
   "id": "45c53340-71be-4c30-8338-8eb451f74339",
   "metadata": {
    "tags": []
   },
   "outputs": [],
   "source": [
    "canvas = window.Canvas(size=(12, 6))\n",
    "ax = canvas.make_ax()\n",
    "profile.run('ax.line(x, y)')"
   ]
  },
  {
   "cell_type": "code",
   "execution_count": null,
   "id": "9dcc0dad-e6c5-42b4-8e4e-5b35f8daa45d",
   "metadata": {},
   "outputs": [],
   "source": [
    "canvas"
   ]
  },
  {
   "cell_type": "code",
   "execution_count": null,
   "id": "747fa500-f2e0-47a6-9762-f7a31121f6a1",
   "metadata": {},
   "outputs": [],
   "source": [
    "profile.run('ax.line(x, y)')"
   ]
  },
  {
   "cell_type": "code",
   "execution_count": null,
   "id": "c3330776-3c0e-40a0-b106-4079dc6c7c4d",
   "metadata": {},
   "outputs": [],
   "source": []
  }
 ],
 "metadata": {
  "kernelspec": {
   "display_name": "Python 3 (ipykernel)",
   "language": "python",
   "name": "python3"
  },
  "language_info": {
   "codemirror_mode": {
    "name": "ipython",
    "version": 3
   },
   "file_extension": ".py",
   "mimetype": "text/x-python",
   "name": "python",
   "nbconvert_exporter": "python",
   "pygments_lexer": "ipython3",
   "version": "3.9.5"
  }
 },
 "nbformat": 4,
 "nbformat_minor": 5
}
