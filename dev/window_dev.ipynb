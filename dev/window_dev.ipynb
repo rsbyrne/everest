{
 "cells": [
  {
   "cell_type": "code",
   "execution_count": null,
   "id": "22e80e6a-7249-43fd-8e58-4bcb35c735ac",
   "metadata": {},
   "outputs": [],
   "source": [
    "import aliases\n",
    "\n",
    "import numpy as np\n",
    "from matplotlib import pyplot as plt\n",
    "\n",
    "from everest import window"
   ]
  },
  {
   "cell_type": "code",
   "execution_count": null,
   "id": "9957c2b1-09be-466f-9c25-1f6b8cd3bf2f",
   "metadata": {},
   "outputs": [],
   "source": [
    "x, y = sorted(np.random.rand(10)), np.random.rand(10)"
   ]
  },
  {
   "cell_type": "code",
   "execution_count": null,
   "id": "8e695c19-2d20-46f5-9074-55c43ce80c01",
   "metadata": {},
   "outputs": [],
   "source": [
    "%%time\n",
    "plt.plot(x, y)"
   ]
  },
  {
   "cell_type": "code",
   "execution_count": null,
   "id": "7aa61e32-525f-41b4-b3aa-9824af4f2031",
   "metadata": {},
   "outputs": [],
   "source": [
    "canvas = window.Canvas(size=(12, 6))\n",
    "ax = canvas.make_ax()"
   ]
  },
  {
   "cell_type": "code",
   "execution_count": null,
   "id": "1b1dbdcb-22a3-4510-974b-e5470cb868c6",
   "metadata": {},
   "outputs": [],
   "source": [
    "%%time\n",
    "ax.line(x, y)"
   ]
  }
 ],
 "metadata": {
  "kernelspec": {
   "display_name": "Python 3 (ipykernel)",
   "language": "python",
   "name": "python3"
  },
  "language_info": {
   "codemirror_mode": {
    "name": "ipython",
    "version": 3
   },
   "file_extension": ".py",
   "mimetype": "text/x-python",
   "name": "python",
   "nbconvert_exporter": "python",
   "pygments_lexer": "ipython3",
   "version": "3.9.5"
  }
 },
 "nbformat": 4,
 "nbformat_minor": 5
}
