{
 "cells": [
  {
   "cell_type": "code",
   "execution_count": null,
   "id": "de85e916-2a8f-49a1-a51a-b924575578ff",
   "metadata": {},
   "outputs": [],
   "source": [
    "###############################################################################\n",
    "import aliases\n",
    "from everest.utilities import textutils\n",
    "# tuple(textutils.find_all('__getattr__', path='../everest/ptolemaic'))\n",
    "# textutils.replace_all('Schematic', 'Compound', path='../everest')"
   ]
  },
  {
   "cell_type": "code",
   "execution_count": null,
   "id": "fb27db96-ad23-463d-9103-1bec1a54e102",
   "metadata": {},
   "outputs": [],
   "source": [
    "from everest.ptolemaic.algebra import *"
   ]
  },
  {
   "cell_type": "code",
   "execution_count": null,
   "id": "fef71cc4-e8d4-44c8-af20-8062acd2e39b",
   "metadata": {},
   "outputs": [],
   "source": []
  }
 ],
 "metadata": {
  "kernelspec": {
   "display_name": "Python 3 (ipykernel)",
   "language": "python",
   "name": "python3"
  },
  "language_info": {
   "codemirror_mode": {
    "name": "ipython",
    "version": 3
   },
   "file_extension": ".py",
   "mimetype": "text/x-python",
   "name": "python",
   "nbconvert_exporter": "python",
   "pygments_lexer": "ipython3",
   "version": "3.9.5"
  }
 },
 "nbformat": 4,
 "nbformat_minor": 5
}
