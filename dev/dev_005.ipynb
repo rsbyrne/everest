{
 "cells": [
  {
   "cell_type": "code",
   "execution_count": null,
   "id": "e0e8676e-9107-4737-98cd-018518619686",
   "metadata": {},
   "outputs": [],
   "source": [
    "import aliases"
   ]
  },
  {
   "cell_type": "code",
   "execution_count": null,
   "id": "a0bd4dd7-6f38-41ac-be1f-2334cba16d42",
   "metadata": {},
   "outputs": [],
   "source": [
    "from everest.ptolemaic.schemas import Schema as _Schema\n",
    "from everest.ptolemaic.params import Param as _Param"
   ]
  },
  {
   "cell_type": "code",
   "execution_count": null,
   "id": "99a0de91-ac26-4381-9b37-da8903b639b1",
   "metadata": {},
   "outputs": [],
   "source": [
    "class MyClass(_Schema):\n",
    "\n",
    "    args: _Param.Args\n",
    "\n",
    "myobj = MyClass(\n",
    "    range(5),\n",
    "    dict(a='A', b='B'),\n",
    "    slice(slice(3)),\n",
    "    )"
   ]
  },
  {
   "cell_type": "code",
   "execution_count": null,
   "id": "160c9c4c-8cb5-49d8-872f-d80db4bf3941",
   "metadata": {},
   "outputs": [],
   "source": [
    "for name in MySubClass.buttons:\n",
    "    newcls = type(MySubClass)(name, (get"
   ]
  }
 ],
 "metadata": {
  "kernelspec": {
   "display_name": "Python 3 (ipykernel)",
   "language": "python",
   "name": "python3"
  },
  "language_info": {
   "codemirror_mode": {
    "name": "ipython",
    "version": 3
   },
   "file_extension": ".py",
   "mimetype": "text/x-python",
   "name": "python",
   "nbconvert_exporter": "python",
   "pygments_lexer": "ipython3",
   "version": "3.9.5"
  }
 },
 "nbformat": 4,
 "nbformat_minor": 5
}
