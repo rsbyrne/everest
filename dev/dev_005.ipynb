{
 "cells": [
  {
   "cell_type": "code",
   "execution_count": null,
   "id": "e0e8676e-9107-4737-98cd-018518619686",
   "metadata": {},
   "outputs": [],
   "source": [
    "import aliases"
   ]
  },
  {
   "cell_type": "code",
   "execution_count": null,
   "id": "a0bd4dd7-6f38-41ac-be1f-2334cba16d42",
   "metadata": {},
   "outputs": [],
   "source": [
    "from everest.ptolemaic.schemas import Schema as _Schema\n",
    "from everest.ptolemaic.params import Param as _Param"
   ]
  },
  {
   "cell_type": "code",
   "execution_count": null,
   "id": "48345782-97ad-450e-9655-9867fc54cf1e",
   "metadata": {},
   "outputs": [],
   "source": [
    "myobj = _Schema.Mapp(foo=_Schema.Brace(1, 2, (3, 4)), bah=dict(a=1, b=2))"
   ]
  },
  {
   "cell_type": "code",
   "execution_count": null,
   "id": "99a0de91-ac26-4381-9b37-da8903b639b1",
   "metadata": {},
   "outputs": [],
   "source": [
    "# class A(_Schema):\n",
    "\n",
    "#     mroclasses = ('InnerA',)\n",
    "#     subclasses = ('InnerA',)\n",
    "\n",
    "#     class InnerA(_Schema):\n",
    "#         foo = 1\n",
    "#         bah = 2\n",
    "\n",
    "#     args: _Param.Args\n",
    "\n",
    "\n",
    "# class B(_Schema):\n",
    "\n",
    "#     mroclasses = ('InnerA',)\n",
    "\n",
    "#     class InnerA(_Schema):\n",
    "#         bah = 3\n",
    "\n",
    "\n",
    "# class C(A, B):\n",
    "\n",
    "#     class InnerA(_Schema):\n",
    "#         foo = 2\n"
   ]
  }
 ],
 "metadata": {
  "kernelspec": {
   "display_name": "Python 3 (ipykernel)",
   "language": "python",
   "name": "python3"
  },
  "language_info": {
   "codemirror_mode": {
    "name": "ipython",
    "version": 3
   },
   "file_extension": ".py",
   "mimetype": "text/x-python",
   "name": "python",
   "nbconvert_exporter": "python",
   "pygments_lexer": "ipython3",
   "version": "3.9.5"
  }
 },
 "nbformat": 4,
 "nbformat_minor": 5
}
