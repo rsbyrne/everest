{
 "cells": [
  {
   "cell_type": "code",
   "execution_count": null,
   "id": "862d323e-1529-41c7-9d8e-56a1a20dd7e6",
   "metadata": {},
   "outputs": [],
   "source": [
    "###############################################################################\n",
    "import aliases"
   ]
  },
  {
   "cell_type": "code",
   "execution_count": null,
   "id": "c1971a01-8cbd-4f41-9c0f-3e2939275866",
   "metadata": {},
   "outputs": [],
   "source": [
    "from everest.ptolemaic.schema import Schema"
   ]
  },
  {
   "cell_type": "code",
   "execution_count": null,
   "id": "db752f0c-f475-46ae-b170-c7ee0bc4bb3e",
   "metadata": {},
   "outputs": [],
   "source": [
    "from everest.ptolemaic.fundaments.intt import Intt"
   ]
  },
  {
   "cell_type": "code",
   "execution_count": null,
   "id": "600a1bcd-d93e-4721-84dd-159973685435",
   "metadata": {},
   "outputs": [],
   "source": [
    "class MySchema(metaclass=Schema):\n",
    "\n",
    "    a: Intt\n",
    "    b: Intt"
   ]
  },
  {
   "cell_type": "code",
   "execution_count": null,
   "id": "50df7816-9e39-4bfb-a931-f37f1585b1e5",
   "metadata": {},
   "outputs": [],
   "source": [
    "MySchema(1, 2)"
   ]
  },
  {
   "cell_type": "code",
   "execution_count": null,
   "id": "e78a2fe2-aa02-41c2-8f42-02d44002a87b",
   "metadata": {},
   "outputs": [],
   "source": [
    "MySchema[1, 2]"
   ]
  },
  {
   "cell_type": "code",
   "execution_count": null,
   "id": "46e16635-8b64-45cd-a479-99544e714e45",
   "metadata": {},
   "outputs": [],
   "source": [
    "MySchema[0:, 1:]"
   ]
  },
  {
   "cell_type": "code",
   "execution_count": null,
   "id": "7fcf7ffd-2037-4408-a515-a28ac300730e",
   "metadata": {},
   "outputs": [],
   "source": [
    "MySchema.__incision_manager__"
   ]
  },
  {
   "cell_type": "code",
   "execution_count": null,
   "id": "8b399786-2761-49fa-bd83-b093ad5ec565",
   "metadata": {},
   "outputs": [],
   "source": [
    "brace = Brace[{'sig': Slc[::Brace[{'a': Slc[::Floatt], 'b': Slc[::Floatt]}]], 'foo': Slc[::Floatt]}]"
   ]
  },
  {
   "cell_type": "code",
   "execution_count": null,
   "id": "fe080b74-1dc9-450c-852d-f6baa60bec1a",
   "metadata": {},
   "outputs": [],
   "source": [
    "brace"
   ]
  },
  {
   "cell_type": "code",
   "execution_count": null,
   "id": "175f0fd8-f94e-4060-9a52-8c482d08eb29",
   "metadata": {},
   "outputs": [],
   "source": [
    "Brace[dict(a=1, b=2)]"
   ]
  },
  {
   "cell_type": "code",
   "execution_count": null,
   "id": "a4775568-2a8b-4e5c-90bc-608af9c5fd48",
   "metadata": {},
   "outputs": [],
   "source": []
  },
  {
   "cell_type": "code",
   "execution_count": null,
   "id": "7ae7b4e0-4d4a-4100-a3fd-ec77338d2d48",
   "metadata": {},
   "outputs": [],
   "source": [
    "from everest.ptolemaic.fundaments.floatt import Floatt\n",
    "from everest.ptolemaic.fundaments.brace import Brace\n",
    "from everest.utilities import Slc\n",
    "from everest.models.ode import *\n",
    "\n",
    "\n",
    "@ODEModel\n",
    "def Lorenz(\n",
    "        t,\n",
    "        state: Brace[dict(x=Slc[::Floatt], y=Slc[::Floatt], z=Slc[::Floatt])],\n",
    "        sigma: Floatt = 10.,\n",
    "        rho: Floatt = 28.,\n",
    "        beta: Floatt = 2.667,\n",
    "        /):\n",
    "    x, y, z = state\n",
    "    return (\n",
    "        sigma * (y - x),\n",
    "        rho * x - y - x * z,\n",
    "        x * y - beta * z,\n",
    "        )"
   ]
  },
  {
   "cell_type": "code",
   "execution_count": null,
   "id": "393f8ca1-1467-42cf-831d-53d34afaf95e",
   "metadata": {},
   "outputs": [],
   "source": [
    "multispace = Brace[dict(\n",
    "    par=Slc[::Lorenz.sig.__incision_manager__],\n",
    "    state=Slc[::Lorenz.statespace],\n",
    "    index=Slc[::Floatt[0.:]],\n",
    "    )]\n",
    "multispace"
   ]
  },
  {
   "cell_type": "code",
   "execution_count": null,
   "id": "d33a9960-2dda-45fa-a155-b51a9c35bf62",
   "metadata": {},
   "outputs": [],
   "source": [
    "multispace[..., (0., 0., 0.), 0.][0., 1.]"
   ]
  },
  {
   "cell_type": "code",
   "execution_count": null,
   "id": "b9aac5ac-0bff-4385-9b92-f856f09590d5",
   "metadata": {},
   "outputs": [],
   "source": [
    "mybrace = multispace[(0., 0., 0.), (1., 1., 1.), 2.]"
   ]
  },
  {
   "cell_type": "code",
   "execution_count": null,
   "id": "459fa656-5bfe-4810-94b5-628544f006b6",
   "metadata": {},
   "outputs": [],
   "source": [
    "mybrace.state"
   ]
  }
 ],
 "metadata": {
  "kernelspec": {
   "display_name": "Python 3 (ipykernel)",
   "language": "python",
   "name": "python3"
  },
  "language_info": {
   "codemirror_mode": {
    "name": "ipython",
    "version": 3
   },
   "file_extension": ".py",
   "mimetype": "text/x-python",
   "name": "python",
   "nbconvert_exporter": "python",
   "pygments_lexer": "ipython3",
   "version": "3.9.5"
  }
 },
 "nbformat": 4,
 "nbformat_minor": 5
}
