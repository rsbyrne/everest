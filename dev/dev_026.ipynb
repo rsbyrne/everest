{
 "cells": [
  {
   "cell_type": "code",
   "execution_count": null,
   "id": "862d323e-1529-41c7-9d8e-56a1a20dd7e6",
   "metadata": {},
   "outputs": [],
   "source": [
    "###############################################################################\n",
    "import aliases"
   ]
  },
  {
   "cell_type": "code",
   "execution_count": null,
   "id": "603f5509-7ffa-4f5b-92dc-b31b836296fc",
   "metadata": {},
   "outputs": [],
   "source": [
    "from everest.ptolemaic.fundaments.brace import Brace\n",
    "from everest.ptolemaic.fundaments.intt import Intt"
   ]
  },
  {
   "cell_type": "code",
   "execution_count": null,
   "id": "92050ac7-b510-4e65-af92-6abab6515525",
   "metadata": {},
   "outputs": [],
   "source": [
    "mybrace = Brace[dict(a=slice(None, None, Intt), b=slice(None, None, Intt))][dict(a=10)][0:3][2]"
   ]
  },
  {
   "cell_type": "code",
   "execution_count": null,
   "id": "0ec03360-0591-4ddc-9a25-ec5ab2f44e07",
   "metadata": {},
   "outputs": [],
   "source": [
    "from everest.ptolemaic.sig import Sig, Field"
   ]
  },
  {
   "cell_type": "code",
   "execution_count": null,
   "id": "c6d88b27-56a9-468a-bcf1-7dddcd55af18",
   "metadata": {},
   "outputs": [],
   "source": [
    "mysig = Sig(a=Field[Intt], b=Field[Intt])"
   ]
  },
  {
   "cell_type": "code",
   "execution_count": null,
   "id": "417f2da0-b922-4f57-856a-a5d958de426c",
   "metadata": {},
   "outputs": [],
   "source": [
    "mysig[0, 0]"
   ]
  },
  {
   "cell_type": "code",
   "execution_count": null,
   "id": "aab9065b-47dc-41fe-9cd4-76b206fe09ec",
   "metadata": {},
   "outputs": [],
   "source": [
    "mysig."
   ]
  },
  {
   "cell_type": "code",
   "execution_count": null,
   "id": "8b6a4680-8809-47bf-b827-f1dd9b149e10",
   "metadata": {},
   "outputs": [],
   "source": [
    "tuple(mybrace)"
   ]
  },
  {
   "cell_type": "code",
   "execution_count": null,
   "id": "564377ec-13a9-40c8-a910-bbda37592506",
   "metadata": {},
   "outputs": [],
   "source": [
    "from everest.incision import ChainIncisable as _ChainIncisable\n",
    "\n",
    "from everest.ptolemaic.chora import Chora as _Chora\n",
    "from everest.ptolemaic.sprite import Sprite as _Sprite\n",
    "from everest.ptolemaic.diict import Diict as _Diict\n",
    "\n",
    "from everest.ptolemaic.sig import Params"
   ]
  },
  {
   "cell_type": "code",
   "execution_count": null,
   "id": "bf48644a-870a-4a8b-9ef2-f349aebb97bb",
   "metadata": {},
   "outputs": [],
   "source": [
    "class Sig(_ChainIncisable, metaclass=_Sprite):\n",
    "\n",
    "    _req_slots__ = ('__incision_manager__',)\n",
    "\n",
    "    sigfields: _Diict\n",
    "\n",
    "    def __init__(self, /):\n",
    "        super().__init__()\n",
    "        self.__incision_manager__ = _Brace[{\n",
    "            key: slice(None, None, field.__incision_manager__)\n",
    "            for key, field in self.sigfields.items()\n",
    "            }]\n",
    "\n",
    "    def __incise_retrieve__(self, incisor, /):\n",
    "        return P"
   ]
  },
  {
   "cell_type": "code",
   "execution_count": null,
   "id": "728671ee-f85d-401b-8940-9232cd0c9ebf",
   "metadata": {},
   "outputs": [],
   "source": [
    "chora = Brace[dict(a=slice(None, None, Intt), b=slice(None, None, Intt))]"
   ]
  },
  {
   "cell_type": "code",
   "execution_count": null,
   "id": "aafe20fe-65a6-4c66-8164-1e9e00aa9f25",
   "metadata": {},
   "outputs": [],
   "source": [
    "mysig = Sig(chora)"
   ]
  },
  {
   "cell_type": "code",
   "execution_count": null,
   "id": "dd30a798-fa3d-4c3f-80b5-1ab46d1f7751",
   "metadata": {},
   "outputs": [],
   "source": [
    "mysig[0, 0\n",
    "     ]"
   ]
  },
  {
   "cell_type": "code",
   "execution_count": null,
   "id": "48ddce62-18ee-42a1-91f0-4617193ff0d4",
   "metadata": {},
   "outputs": [],
   "source": [
    "mydict = {}"
   ]
  },
  {
   "cell_type": "code",
   "execution_count": null,
   "id": "3dfb32a1-4000-42aa-a58b-f966cddafb1b",
   "metadata": {},
   "outputs": [],
   "source": [
    "mydict.update(a=1)"
   ]
  },
  {
   "cell_type": "code",
   "execution_count": null,
   "id": "e1689dd8-0861-4480-b92f-3c7b8dffc904",
   "metadata": {},
   "outputs": [],
   "source": [
    "mydict"
   ]
  },
  {
   "cell_type": "code",
   "execution_count": null,
   "id": "cd306983-5bc7-4bfb-a474-47a3e1c543d2",
   "metadata": {},
   "outputs": [],
   "source": []
  }
 ],
 "metadata": {
  "kernelspec": {
   "display_name": "Python 3 (ipykernel)",
   "language": "python",
   "name": "python3"
  },
  "language_info": {
   "codemirror_mode": {
    "name": "ipython",
    "version": 3
   },
   "file_extension": ".py",
   "mimetype": "text/x-python",
   "name": "python",
   "nbconvert_exporter": "python",
   "pygments_lexer": "ipython3",
   "version": "3.9.5"
  }
 },
 "nbformat": 4,
 "nbformat_minor": 5
}
