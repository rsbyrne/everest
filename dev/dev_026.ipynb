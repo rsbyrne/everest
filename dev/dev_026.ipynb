{
 "cells": [
  {
   "cell_type": "code",
   "execution_count": null,
   "id": "862d323e-1529-41c7-9d8e-56a1a20dd7e6",
   "metadata": {},
   "outputs": [],
   "source": [
    "###############################################################################\n",
    "import aliases"
   ]
  },
  {
   "cell_type": "code",
   "execution_count": null,
   "id": "07516efd-09f3-4f43-a9ff-45c9876c61f5",
   "metadata": {},
   "outputs": [],
   "source": [
    "# from everest.ptolemaic.eidos import Eidos\n",
    "import itertools as _itertools\n",
    "\n",
    "from everest.ptolemaic.fundaments.floatt import Floatt as _Floatt\n",
    "from everest.ptolemaic.fundaments.brace import Brace as _Brace\n",
    "from everest.ptolemaic.diict import Kwargs as _Kwargs"
   ]
  },
  {
   "cell_type": "code",
   "execution_count": null,
   "id": "92577569-09d5-4aa5-a9d3-0ea098ef4ebf",
   "metadata": {},
   "outputs": [],
   "source": [
    "_Brace[_Kwargs(\n",
    "    state=_Brace[_Kwargs(zip('xyz', _itertools.repeat(_Floatt)))],\n",
    "    metric=_Floatt,\n",
    "    )]"
   ]
  },
  {
   "cell_type": "code",
   "execution_count": null,
   "id": "a548ae9d-52fc-4201-96fe-1539cb7cf97a",
   "metadata": {},
   "outputs": [],
   "source": []
  },
  {
   "cell_type": "code",
   "execution_count": null,
   "id": "da201e39-7904-40ca-a86e-dd21b67adc94",
   "metadata": {},
   "outputs": [],
   "source": []
  },
  {
   "cell_type": "code",
   "execution_count": null,
   "id": "c3fc6c88-7500-40e0-b3d0-17eb6df73af5",
   "metadata": {},
   "outputs": [],
   "source": []
  },
  {
   "cell_type": "code",
   "execution_count": null,
   "id": "e676c08f-6703-4f8d-b2b7-620331e1b76a",
   "metadata": {},
   "outputs": [],
   "source": [
    "class MyClass(metaclass=Eidos):\n",
    "\n",
    "    a: Intt\n",
    "    b: Intt\n",
    "    c: Intt\n",
    "\n",
    "    @classmethod\n",
    "    def _get_class_choras(cls, /):\n",
    "        return dict(state=Brace[Intt, Intt, Intt])\n",
    "\n",
    "    def __incise_retrieve__(self, incisor, /):\n",
    "        return incisor"
   ]
  },
  {
   "cell_type": "code",
   "execution_count": null,
   "id": "197f262b-e262-4a7b-b30e-3de44af8cd1b",
   "metadata": {},
   "outputs": [],
   "source": []
  },
  {
   "cell_type": "code",
   "execution_count": null,
   "id": "fae4f6c8-563f-4811-9fc0-552c384f772c",
   "metadata": {},
   "outputs": [],
   "source": [
    "MyClass.__incision_manager__.active"
   ]
  },
  {
   "cell_type": "code",
   "execution_count": null,
   "id": "1fbdc091-2ad7-44f1-ac81-96fb326da1da",
   "metadata": {},
   "outputs": [],
   "source": [
    "MyClass[(0, 0, 0),].active"
   ]
  },
  {
   "cell_type": "code",
   "execution_count": null,
   "id": "934d8b94-6329-4b05-9de2-c48f5847e00c",
   "metadata": {},
   "outputs": [],
   "source": [
    "MyClass[(0, 0, 0), (1, 1, 1)]"
   ]
  },
  {
   "cell_type": "code",
   "execution_count": null,
   "id": "63360570-387d-49eb-90d9-ccb7eb991642",
   "metadata": {},
   "outputs": [],
   "source": [
    "Brace[Intt, Intt, Intt]"
   ]
  },
  {
   "cell_type": "code",
   "execution_count": null,
   "id": "080ec50d-25e6-45df-93f9-4e09fedec96f",
   "metadata": {},
   "outputs": [],
   "source": [
    "Brace[Intt,][10:]"
   ]
  },
  {
   "cell_type": "code",
   "execution_count": null,
   "id": "95803940-04d7-4667-abf4-81d4bda57025",
   "metadata": {},
   "outputs": [],
   "source": [
    "Brace[Brace[Intt, Intt],][0, 1]"
   ]
  },
  {
   "cell_type": "code",
   "execution_count": null,
   "id": "cd2c23ea-a894-4084-ba75-b1a142d9fe31",
   "metadata": {},
   "outputs": [],
   "source": [
    "Brace[Intt][:10]"
   ]
  },
  {
   "cell_type": "code",
   "execution_count": null,
   "id": "e1d3f694-28b6-45db-acbe-533c570dfa24",
   "metadata": {},
   "outputs": [],
   "source": [
    "it = iter(range(1))\n",
    "obj0 = next(it)\n",
    "for obj in it:\n",
    "    print(obj)"
   ]
  },
  {
   "cell_type": "code",
   "execution_count": null,
   "id": "a25caab0-b29a-4501-bf47-b1daa27215be",
   "metadata": {},
   "outputs": [],
   "source": [
    "obj0"
   ]
  },
  {
   "cell_type": "code",
   "execution_count": null,
   "id": "d5e2cdf8-d90b-493b-a821-97f48461dbe8",
   "metadata": {},
   "outputs": [],
   "source": [
    "MyClass[(0, 0, 0), (1, 1, 1)]"
   ]
  }
 ],
 "metadata": {
  "kernelspec": {
   "display_name": "Python 3 (ipykernel)",
   "language": "python",
   "name": "python3"
  },
  "language_info": {
   "codemirror_mode": {
    "name": "ipython",
    "version": 3
   },
   "file_extension": ".py",
   "mimetype": "text/x-python",
   "name": "python",
   "nbconvert_exporter": "python",
   "pygments_lexer": "ipython3",
   "version": "3.9.5"
  }
 },
 "nbformat": 4,
 "nbformat_minor": 5
}
