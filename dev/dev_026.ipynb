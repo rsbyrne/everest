{
 "cells": [
  {
   "cell_type": "code",
   "execution_count": null,
   "id": "862d323e-1529-41c7-9d8e-56a1a20dd7e6",
   "metadata": {},
   "outputs": [],
   "source": [
    "###############################################################################\n",
    "import aliases"
   ]
  },
  {
   "cell_type": "code",
   "execution_count": null,
   "id": "7b00cccc-b894-4093-b8ae-ac750d8b2934",
   "metadata": {},
   "outputs": [],
   "source": [
    "from everest.ptolemaic.diict import Kwargs\n",
    "\n",
    "from everest.algebraic.floatt import Floatt\n",
    "from everest.algebraic.brace import Brace\n",
    "\n",
    "from everest.formulaic.ode import ODEModel"
   ]
  },
  {
   "cell_type": "code",
   "execution_count": null,
   "id": "68f715e1-125a-495a-90b9-9679d5e3151b",
   "metadata": {},
   "outputs": [],
   "source": [
    "@ODEModel\n",
    "def lorenz(\n",
    "        index: Floatt[0.:],\n",
    "        state: Brace[Kwargs(x=Floatt, y=Floatt, z=Floatt)],\n",
    "        sigma: Floatt,\n",
    "        rho: Floatt,\n",
    "        beta: Floatt,\n",
    "        /):\n",
    "    x, y, z = state\n",
    "    return (\n",
    "        sigma * (y - x),\n",
    "        rho * x - y - x * z,\n",
    "        x * y - beta * z,\n",
    "        )\n",
    "\n",
    "lorenz"
   ]
  },
  {
   "cell_type": "code",
   "execution_count": null,
   "id": "60f760b6-d072-4282-a4b4-7e55aa9ee91c",
   "metadata": {},
   "outputs": [],
   "source": [
    "lorenz.plex = 1"
   ]
  },
  {
   "cell_type": "code",
   "execution_count": null,
   "id": "e9007f1b-738f-4486-ab29-c6ac3cd97f89",
   "metadata": {},
   "outputs": [],
   "source": [
    "traverse = lorenz[\n",
    "    (10., 28., 2.667),\n",
    "    (0., 1., 1.05),\n",
    "    0.:100.,\n",
    "    ]\n",
    "traverse"
   ]
  },
  {
   "cell_type": "code",
   "execution_count": null,
   "id": "984d3b0b-6309-41ef-aaf6-7d2b361d4adc",
   "metadata": {},
   "outputs": [],
   "source": [
    "traverse.line.table"
   ]
  },
  {
   "cell_type": "code",
   "execution_count": null,
   "id": "ede95563-7152-4446-b22d-4c0b13993880",
   "metadata": {},
   "outputs": [],
   "source": [
    "data = traverse.solve()"
   ]
  },
  {
   "cell_type": "code",
   "execution_count": null,
   "id": "52944681-776c-4b83-aaba-b891db1a92dc",
   "metadata": {},
   "outputs": [],
   "source": [
    "vertices = data.y.T\n",
    "vertices.shape"
   ]
  },
  {
   "cell_type": "code",
   "execution_count": null,
   "id": "fdaeeb61-ff41-49ca-add3-d7c219b96a48",
   "metadata": {},
   "outputs": [],
   "source": [
    "import numpy as np\n",
    "vertices = data.y.T\n",
    "ts = data.t\n",
    "dts = np.diff(ts)\n",
    "diffs = np.diff(vertices, axis=0)\n",
    "speeds = np.linalg.norm(diffs, axis=1) / dts\n",
    "accels = np.diff(speeds) / dts[1:]"
   ]
  },
  {
   "cell_type": "code",
   "execution_count": null,
   "id": "1a89c733-2627-4e81-ad43-426761a29a2b",
   "metadata": {},
   "outputs": [],
   "source": [
    "import lavavu\n",
    "\n",
    "lv = lavavu.Viewer()\n",
    "lv[\"background\"] = \"black\" #Set the plot background colour\n",
    "lv[\"axis\"] = False\n",
    "lv[\"border\"] = False\n",
    "\n",
    "cmap = lavavu.cubehelix(samples=128, rot=1., sat=2., start=-1.)[1:-1]\n",
    "lines = lv.lines(link=True)\n",
    "lines.vertices(vertices[1:])\n",
    "lines.colourmap(cmap)\n",
    "lines.values(accels)\n",
    "\n",
    "lv.reload()\n",
    "lv.display(resolution=(600, 600))"
   ]
  },
  {
   "cell_type": "code",
   "execution_count": null,
   "id": "427f7b5d-a414-4ee4-9bc5-9f36970b814f",
   "metadata": {},
   "outputs": [],
   "source": [
    "import lavavu\n",
    "\n",
    "lv = lavavu.Viewer()\n",
    "lv[\"background\"] = \"black\" #Set the plot background colour\n",
    "lv[\"axis\"] = False\n",
    "lv[\"border\"] = False\n",
    "\n",
    "lines = lv.lines(link=True)\n",
    "lines.vertices(np.dstack((ts, vertices[..., 0])))\n",
    "lines.colourmap('red')\n",
    "lines.values(1)\n",
    "\n",
    "lines = lv.lines(link=True)\n",
    "lines.vertices(np.dstack((ts, vertices[..., 1])))\n",
    "lines.colourmap('blue')\n",
    "lines.values(1)\n",
    "\n",
    "lines = lv.lines(link=True)\n",
    "lines.vertices(np.dstack((ts, vertices[..., 2])))\n",
    "lines.colourmap('green')\n",
    "lines.values(1)\n",
    "\n",
    "lv.reload()\n",
    "\n",
    "lv.display(resolution=(600, 600))"
   ]
  }
 ],
 "metadata": {
  "kernelspec": {
   "display_name": "Python 3 (ipykernel)",
   "language": "python",
   "name": "python3"
  },
  "language_info": {
   "codemirror_mode": {
    "name": "ipython",
    "version": 3
   },
   "file_extension": ".py",
   "mimetype": "text/x-python",
   "name": "python",
   "nbconvert_exporter": "python",
   "pygments_lexer": "ipython3",
   "version": "3.9.5"
  }
 },
 "nbformat": 4,
 "nbformat_minor": 5
}
