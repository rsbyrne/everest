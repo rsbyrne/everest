{
 "cells": [
  {
   "cell_type": "code",
   "execution_count": null,
   "id": "862d323e-1529-41c7-9d8e-56a1a20dd7e6",
   "metadata": {},
   "outputs": [],
   "source": [
    "###############################################################################\n",
    "import aliases"
   ]
  },
  {
   "cell_type": "code",
   "execution_count": null,
   "id": "04c137d7-806b-43cb-9cf6-52f76952d9fa",
   "metadata": {},
   "outputs": [],
   "source": [
    "from everest.ptolemaic.eidos import Eidos\n",
    "from everest.ptolemaic.fundaments.intt import Intt\n",
    "from everest.ptolemaic.fundaments.brace import Brace\n",
    "from everest.ptolemaic import chora\n",
    "from everest.incision import IncisionProtocol"
   ]
  },
  {
   "cell_type": "code",
   "execution_count": null,
   "id": "4ee65ea9-a523-4c07-ba16-48fb6fc02ee7",
   "metadata": {},
   "outputs": [],
   "source": [
    "brace = Brace[::Intt, ::Intt, ::Intt]"
   ]
  },
  {
   "cell_type": "code",
   "execution_count": null,
   "id": "6c2e2b9d-bb09-445d-872e-b6c7aa35a539",
   "metadata": {},
   "outputs": [],
   "source": [
    "slyce = brace[0:10, 0:10, 0:10]"
   ]
  },
  {
   "cell_type": "code",
   "execution_count": null,
   "id": "0454e24a-89b0-4c79-ad2a-062d92ae99fe",
   "metadata": {},
   "outputs": [],
   "source": [
    "class A(metaclass=Eidos):\n",
    "\n",
    "    a: Intt\n",
    "    b: Intt\n",
    "    c: Intt"
   ]
  },
  {
   "cell_type": "code",
   "execution_count": null,
   "id": "5fadf9f4-4958-4cf5-89f8-1b870211d545",
   "metadata": {},
   "outputs": [],
   "source": [
    "A(1, 2, 3)"
   ]
  },
  {
   "cell_type": "code",
   "execution_count": null,
   "id": "b8e059f5-cf0e-45ef-9343-94927be1ff89",
   "metadata": {},
   "outputs": [],
   "source": [
    "A[0:10, 0:10, 0:10][3, 2, 3]"
   ]
  }
 ],
 "metadata": {
  "kernelspec": {
   "display_name": "Python 3 (ipykernel)",
   "language": "python",
   "name": "python3"
  },
  "language_info": {
   "codemirror_mode": {
    "name": "ipython",
    "version": 3
   },
   "file_extension": ".py",
   "mimetype": "text/x-python",
   "name": "python",
   "nbconvert_exporter": "python",
   "pygments_lexer": "ipython3",
   "version": "3.9.5"
  }
 },
 "nbformat": 4,
 "nbformat_minor": 5
}
