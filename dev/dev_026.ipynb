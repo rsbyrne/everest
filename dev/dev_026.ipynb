{
 "cells": [
  {
   "cell_type": "code",
   "execution_count": null,
   "id": "862d323e-1529-41c7-9d8e-56a1a20dd7e6",
   "metadata": {},
   "outputs": [],
   "source": [
    "###############################################################################\n",
    "import aliases"
   ]
  },
  {
   "cell_type": "code",
   "execution_count": null,
   "id": "645f0d17-b1b2-49cc-a78c-8cac222e217a",
   "metadata": {},
   "outputs": [],
   "source": [
    "from everest.ptolemaic.fundaments.intt import Intt\n",
    "from everest.ptolemaic.diict import Kwargs"
   ]
  },
  {
   "cell_type": "code",
   "execution_count": null,
   "id": "bd54e3c8-2fa1-4ce9-ab26-1503eccf1c88",
   "metadata": {},
   "outputs": [],
   "source": [
    "from everest.ptolemaic.ephemera import Folio, Table"
   ]
  },
  {
   "cell_type": "code",
   "execution_count": null,
   "id": "b1afe99f-6884-4a89-90cf-d771610f816d",
   "metadata": {},
   "outputs": [],
   "source": [
    "folio = Folio(foo=Folio(bah=Table((3, 4), int)))\n",
    "folio"
   ]
  },
  {
   "cell_type": "code",
   "execution_count": null,
   "id": "06c23eb6-d076-4129-9722-9561b7adcde0",
   "metadata": {},
   "outputs": [],
   "source": [
    "slc = folio['foo', 'bah', 2:]\n",
    "slc"
   ]
  },
  {
   "cell_type": "code",
   "execution_count": null,
   "id": "212ff176-dd6c-4315-8fd3-fcc3332c9e45",
   "metadata": {},
   "outputs": [],
   "source": [
    "slc[...] = 0"
   ]
  },
  {
   "cell_type": "code",
   "execution_count": null,
   "id": "c5971f3e-17db-4705-ae82-7311c07d487f",
   "metadata": {},
   "outputs": [],
   "source": [
    "folio"
   ]
  },
  {
   "cell_type": "code",
   "execution_count": null,
   "id": "c4c16f98-7b10-4b42-bd0e-a3bf79e72cf6",
   "metadata": {},
   "outputs": [],
   "source": []
  }
 ],
 "metadata": {
  "kernelspec": {
   "display_name": "Python 3 (ipykernel)",
   "language": "python",
   "name": "python3"
  },
  "language_info": {
   "codemirror_mode": {
    "name": "ipython",
    "version": 3
   },
   "file_extension": ".py",
   "mimetype": "text/x-python",
   "name": "python",
   "nbconvert_exporter": "python",
   "pygments_lexer": "ipython3",
   "version": "3.9.5"
  }
 },
 "nbformat": 4,
 "nbformat_minor": 5
}
