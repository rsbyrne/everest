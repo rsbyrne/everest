{
 "cells": [
  {
   "cell_type": "code",
   "execution_count": null,
   "id": "862d323e-1529-41c7-9d8e-56a1a20dd7e6",
   "metadata": {},
   "outputs": [],
   "source": [
    "###############################################################################\n",
    "import aliases"
   ]
  },
  {
   "cell_type": "code",
   "execution_count": null,
   "id": "1721414c-d264-46b1-b8b4-bd5c3ce4b73b",
   "metadata": {},
   "outputs": [],
   "source": [
    "from everest.ptolemaic.fundaments.intt import Intt"
   ]
  },
  {
   "cell_type": "code",
   "execution_count": null,
   "id": "85d25180-516a-4abe-a8fd-b8e90b87cc36",
   "metadata": {},
   "outputs": [],
   "source": [
    "Intt.Oid.Open"
   ]
  },
  {
   "cell_type": "code",
   "execution_count": null,
   "id": "02690f0c-05f9-4bdb-9c0f-fea6ef2906ea",
   "metadata": {},
   "outputs": [],
   "source": [
    "from everest.utilities import RestrictedNamespace"
   ]
  },
  {
   "cell_type": "code",
   "execution_count": null,
   "id": "93d8f5aa-f01f-4075-a8c8-54f91a0fbc14",
   "metadata": {},
   "outputs": [],
   "source": [
    "badns = RestrictedNamespace(badvals={Intt,})"
   ]
  },
  {
   "cell_type": "code",
   "execution_count": null,
   "id": "c8ef03d6-ea50-47e6-9e80-8b4edc69d0b8",
   "metadata": {},
   "outputs": [],
   "source": [
    "_build_oids(Intt, badns)"
   ]
  },
  {
   "cell_type": "code",
   "execution_count": null,
   "id": "66671682-4fdb-4483-b5e4-5b832495534f",
   "metadata": {},
   "outputs": [],
   "source": [
    "badns"
   ]
  },
  {
   "cell_type": "code",
   "execution_count": null,
   "id": "df68c9b5-74fc-4d49-ad0e-f9cba98b144b",
   "metadata": {},
   "outputs": [],
   "source": [
    "Intt.Oid.Open = badns.Open"
   ]
  },
  {
   "cell_type": "code",
   "execution_count": null,
   "id": "1d3693ca-ea04-4ec3-8a69-9ddc84282fa6",
   "metadata": {},
   "outputs": [],
   "source": [
    "Intt.Oid._add_subclass('Open')"
   ]
  },
  {
   "cell_type": "code",
   "execution_count": null,
   "id": "2b88d61e-742f-4349-9096-c7c62151eb2a",
   "metadata": {},
   "outputs": [],
   "source": [
    "Intt.Oid.Open(1, 10)"
   ]
  },
  {
   "cell_type": "code",
   "execution_count": null,
   "id": "87de67f5-aeaf-4e26-8605-009b8703e38c",
   "metadata": {},
   "outputs": [],
   "source": [
    "from everest.ptolemaic.fundaments.fundament import Fundament\n",
    "from everest.ptolemaic.fundaments.brace import Brace\n",
    "from everest.ptolemaic.fundaments.real import Real\n",
    "from everest.ptolemaic.fundaments.thing import Thing\n",
    "from everest.ptolemaic.fundaments.intt import Intt"
   ]
  },
  {
   "cell_type": "code",
   "execution_count": null,
   "id": "fd7b8746-b1cf-4d75-9446-71b4e9e560cc",
   "metadata": {},
   "outputs": [],
   "source": [
    "Intt.Oid.Open"
   ]
  },
  {
   "cell_type": "code",
   "execution_count": null,
   "id": "025e27d8-46b5-4038-8a3d-248a11a4abcd",
   "metadata": {},
   "outputs": [],
   "source": [
    "from everest.ptolemaic.fundaments.fundament import Fundament\n",
    "from everest.ptolemaic.eidos import Eidos as _Eidos"
   ]
  },
  {
   "cell_type": "code",
   "execution_count": null,
   "id": "e0cc0471-e475-487f-803e-ff73fa368299",
   "metadata": {},
   "outputs": [],
   "source": [
    "class MyClass(metaclass=_Eidos):\n",
    "    ..."
   ]
  },
  {
   "cell_type": "code",
   "execution_count": null,
   "id": "d14024f8-b623-4aad-aff3-31d848d59d36",
   "metadata": {},
   "outputs": [],
   "source": [
    "with Fundament.Oid.mutable:\n",
    "    Fundament.oid._add_subclass()"
   ]
  },
  {
   "cell_type": "code",
   "execution_count": null,
   "id": "fdd7e379-9d6c-462c-9e30-83a8c4059fcd",
   "metadata": {},
   "outputs": [],
   "source": [
    "super"
   ]
  },
  {
   "cell_type": "code",
   "execution_count": null,
   "id": "ef342b7f-6502-4f2c-8098-2005a153d8aa",
   "metadata": {},
   "outputs": [],
   "source": [
    "class A:\n",
    "\n",
    "    @classmethod\n",
    "    def meth(cls, /):\n",
    "        return locals()"
   ]
  },
  {
   "cell_type": "code",
   "execution_count": null,
   "id": "ad3f339f-76c5-4532-8434-ae8166957f56",
   "metadata": {},
   "outputs": [],
   "source": [
    "A.meth()"
   ]
  },
  {
   "cell_type": "code",
   "execution_count": null,
   "id": "d9dc4964-7a3a-4c8d-ab84-46cc931caf1d",
   "metadata": {},
   "outputs": [],
   "source": [
    "Intt.Oid.__mro__"
   ]
  },
  {
   "cell_type": "code",
   "execution_count": null,
   "id": "984fc853-0089-40a2-ab26-c890ea99ec4d",
   "metadata": {},
   "outputs": [],
   "source": [
    "Thing.Oid.Space.Space.Space"
   ]
  },
  {
   "cell_type": "code",
   "execution_count": null,
   "id": "2f8f3f49-c563-4459-9d78-40f5afc9db1f",
   "metadata": {},
   "outputs": [],
   "source": []
  },
  {
   "cell_type": "code",
   "execution_count": null,
   "id": "4ef02c65-d98c-4fe8-bd5b-c47c8f66ed11",
   "metadata": {},
   "outputs": [],
   "source": [
    "1 in Thing"
   ]
  },
  {
   "cell_type": "code",
   "execution_count": null,
   "id": "2f52731f-2bea-4ff8-a845-c3451af6f695",
   "metadata": {},
   "outputs": [],
   "source": [
    "Thing[0]"
   ]
  },
  {
   "cell_type": "code",
   "execution_count": null,
   "id": "0cf3d3e6-1b91-4f8f-9c87-37672aefa3e9",
   "metadata": {},
   "outputs": [],
   "source": [
    "Brace[::Thing]"
   ]
  },
  {
   "cell_type": "code",
   "execution_count": null,
   "id": "1bc54efe-81be-4c93-91ef-577bdadfb6e5",
   "metadata": {},
   "outputs": [],
   "source": [
    "Brace.Oid.basememberspace"
   ]
  },
  {
   "cell_type": "code",
   "execution_count": null,
   "id": "880b1993-0238-4ef3-9ed9-8b9c5f0ffdae",
   "metadata": {},
   "outputs": [],
   "source": [
    "issubclass(Brace.Oid.OpenForm, Brace.Oid)"
   ]
  },
  {
   "cell_type": "code",
   "execution_count": null,
   "id": "3c7e4c49-d201-4a4d-aed8-84e3a3382f91",
   "metadata": {},
   "outputs": [],
   "source": [
    "Brace.Oid.OpenForm.basememberspace"
   ]
  },
  {
   "cell_type": "code",
   "execution_count": null,
   "id": "5ba01c2a-c15b-4fec-ae02-4902a6e4aea6",
   "metadata": {},
   "outputs": [],
   "source": [
    "Brace[::Fundament]"
   ]
  },
  {
   "cell_type": "code",
   "execution_count": null,
   "id": "8be0db63-82e1-4bbe-a594-90e39c2d72bc",
   "metadata": {},
   "outputs": [],
   "source": [
    "from everest.pto"
   ]
  },
  {
   "cell_type": "code",
   "execution_count": null,
   "id": "25ebff0b-9a51-46c6-810a-9dba490fe087",
   "metadata": {},
   "outputs": [],
   "source": [
    "Fundament.Oid.Space"
   ]
  },
  {
   "cell_type": "code",
   "execution_count": null,
   "id": "92245826-98f8-43ce-aefc-af971c4130e1",
   "metadata": {},
   "outputs": [],
   "source": [
    "Fundament.__incision_manager__"
   ]
  },
  {
   "cell_type": "code",
   "execution_count": null,
   "id": "86a551da-f1b8-4fdd-9b46-41ff700a954e",
   "metadata": {},
   "outputs": [],
   "source": [
    "Fundament[]"
   ]
  },
  {
   "cell_type": "code",
   "execution_count": null,
   "id": "e426daea-a62e-4c86-831f-9c1e09e22a9a",
   "metadata": {},
   "outputs": [],
   "source": [
    "from everest.ptolemaic.essence import Essence"
   ]
  },
  {
   "cell_type": "code",
   "execution_count": null,
   "id": "db1b7070-0911-436b-830b-c4c6ca7be993",
   "metadata": {},
   "outputs": [],
   "source": [
    "class A(metaclass=Essence):\n",
    "\n",
    "    MROCLASSES = ('B',)\n",
    "\n",
    "    class B(metaclass=Essence):\n",
    "\n",
    "        MROCLASSES = ('C',)\n",
    "\n",
    "        class C(metaclass=Essence):\n",
    "            ..."
   ]
  },
  {
   "cell_type": "code",
   "execution_count": null,
   "id": "353864cc-14da-4703-a730-a02da2d07499",
   "metadata": {},
   "outputs": [],
   "source": [
    "A.B.C.owner"
   ]
  },
  {
   "cell_type": "code",
   "execution_count": null,
   "id": "84d0c7e7-e61c-4594-9f62-dc8358d3452d",
   "metadata": {},
   "outputs": [],
   "source": [
    "class A(metaclass=Essence):\n",
    "\n",
    "    MROCLASSES = ('B',)\n",
    "\n",
    "    class B(metaclass=Essence):\n",
    "\n",
    "        SUBCLASSES = ('C',)\n",
    "\n",
    "        class C(metaclass=Essence):\n",
    "            ..."
   ]
  },
  {
   "cell_type": "code",
   "execution_count": null,
   "id": "8cc341b3-647e-4993-9169-c3f6691ecc5d",
   "metadata": {},
   "outputs": [],
   "source": [
    "A.B.C.__bases__"
   ]
  },
  {
   "cell_type": "code",
   "execution_count": null,
   "id": "0ae80650-e074-408c-bdac-1429930b8a24",
   "metadata": {},
   "outputs": [],
   "source": [
    "A.B.C.owner.owner"
   ]
  },
  {
   "cell_type": "code",
   "execution_count": null,
   "id": "73dcbe18-ff2e-4177-b01b-0895b14a42d1",
   "metadata": {},
   "outputs": [],
   "source": [
    "class D(A.B.C):\n",
    "    ..."
   ]
  },
  {
   "cell_type": "code",
   "execution_count": null,
   "id": "a0a75d19-0c0f-479b-9109-f9412597a1e2",
   "metadata": {},
   "outputs": [],
   "source": [
    "D.__mro__"
   ]
  },
  {
   "cell_type": "code",
   "execution_count": null,
   "id": "bbbdb406-b997-4930-a477-720e6179ac73",
   "metadata": {},
   "outputs": [],
   "source": [
    "A.B.C.__mro__"
   ]
  },
  {
   "cell_type": "code",
   "execution_count": null,
   "id": "f4439d78-d27c-4354-b9ac-aa379fecdf5e",
   "metadata": {},
   "outputs": [],
   "source": [
    "A.B.C.__mroclass_basis__.__mro__"
   ]
  },
  {
   "cell_type": "code",
   "execution_count": null,
   "id": "73443230-ecb8-4c0b-ad61-5c1b23f56b48",
   "metadata": {},
   "outputs": [],
   "source": [
    "A.B.C.owner"
   ]
  },
  {
   "cell_type": "code",
   "execution_count": null,
   "id": "55058349-d418-4c29-8c08-af7973f7c6ed",
   "metadata": {},
   "outputs": [],
   "source": [
    "A.B.C.__mro__"
   ]
  },
  {
   "cell_type": "code",
   "execution_count": null,
   "id": "744b6476-63ae-4150-8cdb-e314576479f5",
   "metadata": {},
   "outputs": [],
   "source": [
    "A.B"
   ]
  },
  {
   "cell_type": "code",
   "execution_count": null,
   "id": "39a097f3-c39c-4673-b6bf-9d0ef7e742fd",
   "metadata": {},
   "outputs": [],
   "source": [
    "A.B.C.owner"
   ]
  },
  {
   "cell_type": "code",
   "execution_count": null,
   "id": "55c19092-cf29-491c-8e77-c61c03f6deaf",
   "metadata": {},
   "outputs": [],
   "source": [
    "class C(A):\n",
    "    ..."
   ]
  },
  {
   "cell_type": "code",
   "execution_count": null,
   "id": "6181ad63-3f76-4282-bfb0-ce091b7f3246",
   "metadata": {},
   "outputs": [],
   "source": [
    "C.B.owner"
   ]
  },
  {
   "cell_type": "code",
   "execution_count": null,
   "id": "082735dc-f1d3-4eb0-9825-e2ec2ea97636",
   "metadata": {},
   "outputs": [],
   "source": [
    "class B(MyClass):\n",
    "    ..."
   ]
  },
  {
   "cell_type": "code",
   "execution_count": null,
   "id": "ec7f56cf-9c30-429d-883e-4ca5d6aa70b8",
   "metadata": {},
   "outputs": [],
   "source": []
  },
  {
   "cell_type": "code",
   "execution_count": null,
   "id": "45ba31d6-ef3e-4da8-a28c-8c0781fd941f",
   "metadata": {},
   "outputs": [],
   "source": [
    "MyClass.MySubBase.__mro__"
   ]
  },
  {
   "cell_type": "code",
   "execution_count": null,
   "id": "e303b8ab-8ef1-4fb2-b41c-24b8fcec7082",
   "metadata": {},
   "outputs": [],
   "source": [
    "with MyClass.mutable:\n",
    "    MyClass._add_mroclass('MySubBase')"
   ]
  }
 ],
 "metadata": {
  "kernelspec": {
   "display_name": "Python 3 (ipykernel)",
   "language": "python",
   "name": "python3"
  },
  "language_info": {
   "codemirror_mode": {
    "name": "ipython",
    "version": 3
   },
   "file_extension": ".py",
   "mimetype": "text/x-python",
   "name": "python",
   "nbconvert_exporter": "python",
   "pygments_lexer": "ipython3",
   "version": "3.9.5"
  }
 },
 "nbformat": 4,
 "nbformat_minor": 5
}
