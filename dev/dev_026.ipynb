{
 "cells": [
  {
   "cell_type": "code",
   "execution_count": null,
   "id": "862d323e-1529-41c7-9d8e-56a1a20dd7e6",
   "metadata": {},
   "outputs": [],
   "source": [
    "###############################################################################\n",
    "import aliases"
   ]
  },
  {
   "cell_type": "code",
   "execution_count": null,
   "id": "0f4df67d-2f34-479d-9a6a-9e445e8a10fe",
   "metadata": {},
   "outputs": [],
   "source": [
    "from everest.ptolemaic.fundaments.intt import Intt\n",
    "from everest.ptolemaic.schema import Schema\n",
    "\n",
    "class MyClass(metaclass=Schema):\n",
    "    a: Intt"
   ]
  },
  {
   "cell_type": "code",
   "execution_count": null,
   "id": "12620553-3246-408d-b12c-013455b7ba86",
   "metadata": {},
   "outputs": [],
   "source": [
    "chora = MyClass.oid.chora"
   ]
  },
  {
   "cell_type": "code",
   "execution_count": null,
   "id": "26639253-b2ae-4cee-ba99-7848fe4fba23",
   "metadata": {},
   "outputs": [],
   "source": [
    "chora"
   ]
  },
  {
   "cell_type": "code",
   "execution_count": null,
   "id": "bffab490-0d6c-47f2-8cac-aa4ce513f3b9",
   "metadata": {},
   "outputs": [],
   "source": [
    "chora[0]"
   ]
  },
  {
   "cell_type": "code",
   "execution_count": null,
   "id": "8c58e424-0486-41fd-bd7b-713e81343266",
   "metadata": {},
   "outputs": [],
   "source": [
    "MyClass.oid[0]"
   ]
  },
  {
   "cell_type": "code",
   "execution_count": null,
   "id": "3cdd23eb-48a7-40b0-8003-81fd4cef3eb8",
   "metadata": {},
   "outputs": [],
   "source": []
  }
 ],
 "metadata": {
  "kernelspec": {
   "display_name": "Python 3 (ipykernel)",
   "language": "python",
   "name": "python3"
  },
  "language_info": {
   "codemirror_mode": {
    "name": "ipython",
    "version": 3
   },
   "file_extension": ".py",
   "mimetype": "text/x-python",
   "name": "python",
   "nbconvert_exporter": "python",
   "pygments_lexer": "ipython3",
   "version": "3.9.5"
  }
 },
 "nbformat": 4,
 "nbformat_minor": 5
}
