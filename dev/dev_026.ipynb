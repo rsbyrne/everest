{
 "cells": [
  {
   "cell_type": "code",
   "execution_count": null,
   "id": "862d323e-1529-41c7-9d8e-56a1a20dd7e6",
   "metadata": {},
   "outputs": [],
   "source": [
    "###############################################################################\n",
    "import aliases"
   ]
  },
  {
   "cell_type": "code",
   "execution_count": null,
   "id": "7ae7b4e0-4d4a-4100-a3fd-ec77338d2d48",
   "metadata": {},
   "outputs": [],
   "source": [
    "from everest.ptolemaic.fundaments.brace import Brace as _Brace\n",
    "from everest.ptolemaic.sig import Sig as _Sig"
   ]
  },
  {
   "cell_type": "code",
   "execution_count": null,
   "id": "1ccc2b2d-f0cb-433e-a25e-804e5ea162a7",
   "metadata": {},
   "outputs": [],
   "source": [
    "class ClassSlyce"
   ]
  },
  {
   "cell_type": "code",
   "execution_count": null,
   "id": "4d5c89e4-cbb4-4222-b8a4-962b0c100bb6",
   "metadata": {},
   "outputs": [],
   "source": []
  },
  {
   "cell_type": "code",
   "execution_count": null,
   "id": "ce33cc49-ef09-4ed4-8e90-ccfa23bae13b",
   "metadata": {},
   "outputs": [],
   "source": []
  },
  {
   "cell_type": "code",
   "execution_count": null,
   "id": "79ed034b-6ac1-4b68-8b94-c92acb90ed6f",
   "metadata": {},
   "outputs": [],
   "source": []
  },
  {
   "cell_type": "code",
   "execution_count": null,
   "id": "603f5509-7ffa-4f5b-92dc-b31b836296fc",
   "metadata": {},
   "outputs": [],
   "source": [
    "from everest.incision import ChainIncisable as _ChainIncisable\n",
    "from everest.utilities import caching as _caching, Slc as _Slc\n",
    "\n",
    "from everest.ptolemaic.fundaments.brace import Brace as _Brace\n",
    "from everest.ptolemaic.fundaments.thing import Thing as _Thing\n",
    "from everest.ptolemaic.fundaments.floatt import Floatt as _Floatt\n",
    "\n",
    "from everest.ptolemaic.sprite import Sprite as _Sprite"
   ]
  },
  {
   "cell_type": "code",
   "execution_count": null,
   "id": "cd306983-5bc7-4bfb-a474-47a3e1c543d2",
   "metadata": {},
   "outputs": [],
   "source": [
    "class IndexSpace(_ChainIncisable, metaclass=_Sprite):\n",
    "\n",
    "    space: _Brace[::_Thing]\n",
    "    index: _Floatt.Closed[0.:]\n",
    "\n",
    "    @property\n",
    "    @_caching.soft_cache()\n",
    "    def __incision_manager__(self, /):\n",
    "        return _Brace[dict(\n",
    "            space=_idx[::self.space],\n",
    "            index=_idx[::self.index],\n",
    "            )]"
   ]
  },
  {
   "cell_type": "code",
   "execution_count": null,
   "id": "ebe470aa-1b74-4d28-b8da-8378c74b39bb",
   "metadata": {},
   "outputs": [],
   "source": [
    "myobj = IndexSpace(\n",
    "    _Brace[dict(x=_idx[::_Floatt], y=_idx[::_Floatt])],\n",
    "    _Floatt[0.:]\n",
    "    )\n",
    "myobj"
   ]
  },
  {
   "cell_type": "code",
   "execution_count": null,
   "id": "63dbf392-0d24-4a09-9655-9ef35e71025c",
   "metadata": {},
   "outputs": [],
   "source": [
    "myobj[(1., 2.), 3.:]"
   ]
  },
  {
   "cell_type": "code",
   "execution_count": null,
   "id": "f654a9b8-599a-4192-90d0-a6dabdac2b44",
   "metadata": {},
   "outputs": [],
   "source": [
    "_Floatt[0.:]"
   ]
  },
  {
   "cell_type": "code",
   "execution_count": null,
   "id": "c488f926-a8da-4378-b6c7-32389050bc0d",
   "metadata": {},
   "outputs": [],
   "source": [
    "_Floatt.Closed[0.:]"
   ]
  },
  {
   "cell_type": "code",
   "execution_count": null,
   "id": "95929592-7496-4287-8e34-a109f2468e65",
   "metadata": {},
   "outputs": [],
   "source": []
  }
 ],
 "metadata": {
  "kernelspec": {
   "display_name": "Python 3 (ipykernel)",
   "language": "python",
   "name": "python3"
  },
  "language_info": {
   "codemirror_mode": {
    "name": "ipython",
    "version": 3
   },
   "file_extension": ".py",
   "mimetype": "text/x-python",
   "name": "python",
   "nbconvert_exporter": "python",
   "pygments_lexer": "ipython3",
   "version": "3.9.5"
  }
 },
 "nbformat": 4,
 "nbformat_minor": 5
}
