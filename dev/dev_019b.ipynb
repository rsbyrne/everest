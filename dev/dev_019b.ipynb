{
 "cells": [
  {
   "cell_type": "code",
   "execution_count": null,
   "id": "c54349aa-e158-49b3-b783-249753049644",
   "metadata": {},
   "outputs": [],
   "source": [
    "import aliases"
   ]
  },
  {
   "cell_type": "code",
   "execution_count": null,
   "id": "4764973e-6ed7-4afa-96ff-a9dcc5380b04",
   "metadata": {},
   "outputs": [],
   "source": [
    "from everest.ptolemaic.tekton import Tekton"
   ]
  },
  {
   "cell_type": "code",
   "execution_count": null,
   "id": "b4d98069-21ef-4dba-813f-8b812715a86e",
   "metadata": {},
   "outputs": [],
   "source": [
    "class MyTekton(metaclass=Tekton):\n",
    "\n",
    "    CACHE = False\n",
    "\n",
    "    @classmethod\n",
    "    def method(cls, a, b, *, c=3):\n",
    "        return a * b + c"
   ]
  },
  {
   "cell_type": "code",
   "execution_count": null,
   "id": "8e6b9e25-df1d-49a8-bb87-ddf529a4268d",
   "metadata": {},
   "outputs": [],
   "source": [
    "MyTekton(1, 2)"
   ]
  },
  {
   "cell_type": "code",
   "execution_count": null,
   "id": "e3e2e7ff-5335-48d6-a2ec-7a7ba844dc22",
   "metadata": {},
   "outputs": [],
   "source": [
    "import inspect as _inspect\n",
    "\n",
    "from everest.ptolemaic.chora import Chora\n",
    "\n",
    "\n",
    "class MyDict(Chora):\n",
    "\n",
    "    FIELDS = (_inspect.Parameter('content', 4),)\n",
    "\n",
    "    def retrieve_strn(self, incisor: str, /):\n",
    "        return self.content[incisor]\n",
    "\n",
    "    def incise_set(self, incisor: set, /):\n",
    "        return self.__class_call__(\n",
    "            **{key: self.content[key] for key in sorted(incisor)}\n",
    "            )\n",
    "\n",
    "\n",
    "class MyStrRepeater(Chora):\n",
    "\n",
    "    repetitions: int = 1\n",
    "\n",
    "    def retrieve_strn(self, incisor: str, /):\n",
    "        return incisor * self.repetitions"
   ]
  },
  {
   "cell_type": "code",
   "execution_count": null,
   "id": "f307a10f-b333-42b5-8594-caf3e309a51f",
   "metadata": {},
   "outputs": [],
   "source": [
    "mydict = MyDict(aa=1, bb=2, cc=3)"
   ]
  },
  {
   "cell_type": "code",
   "execution_count": null,
   "id": "5e07a3c3-86a5-4ad5-83af-383b6b30508a",
   "metadata": {},
   "outputs": [],
   "source": [
    "myinc = MyTekton[mydict, mydict, mydict]"
   ]
  },
  {
   "cell_type": "code",
   "execution_count": null,
   "id": "093c9544-5f52-4116-9a14-0fe8572f8801",
   "metadata": {},
   "outputs": [],
   "source": [
    "mysubinc = myinc['aa', ..., 'bb']"
   ]
  },
  {
   "cell_type": "code",
   "execution_count": null,
   "id": "162e413f-deaa-4560-8bb1-78ba7287ca45",
   "metadata": {},
   "outputs": [],
   "source": [
    "mysubinc['aa',]"
   ]
  },
  {
   "cell_type": "code",
   "execution_count": null,
   "id": "6746b841-f36a-4607-ae56-f6f8e1c13aca",
   "metadata": {},
   "outputs": [],
   "source": [
    "mysubinc(1)"
   ]
  },
  {
   "cell_type": "code",
   "execution_count": null,
   "id": "3ed5f198-c5f9-4e82-bce7-41d23139582b",
   "metadata": {},
   "outputs": [],
   "source": [
    "mysubinc['aa',]"
   ]
  },
  {
   "cell_type": "code",
   "execution_count": null,
   "id": "1f95fc10-7f4d-4843-9fcd-3e1dbeb2f3c3",
   "metadata": {},
   "outputs": [],
   "source": [
    "mysubinc.__signature__"
   ]
  },
  {
   "cell_type": "code",
   "execution_count": null,
   "id": "27c8bba0-a4d7-439b-9908-e610ceb70fe0",
   "metadata": {},
   "outputs": [],
   "source": [
    "mysubinc.__class__.__signature__"
   ]
  },
  {
   "cell_type": "code",
   "execution_count": null,
   "id": "f9ad5b01-b900-4953-89e6-f0c0e18b33df",
   "metadata": {},
   "outputs": [],
   "source": [
    "import inspect\n",
    "\n",
    "\n",
    "def my_meth(a, b, c=3):\n",
    "    return a*b+c\n",
    "\n",
    "\n",
    "class MyClass:\n",
    "\n",
    "    @property\n",
    "    def __signature__(self, /):\n",
    "        return inspect.signature(my_meth)\n",
    "\n",
    "    def __call__(self, /, *args, **kwargs):\n",
    "        return my_meth(*args, **kwargs)"
   ]
  },
  {
   "cell_type": "code",
   "execution_count": null,
   "id": "acc50787-e74c-479d-82ca-0ab1571c6789",
   "metadata": {},
   "outputs": [],
   "source": [
    "myobj = MyClass()"
   ]
  },
  {
   "cell_type": "code",
   "execution_count": null,
   "id": "16df7c00-60ec-46d1-8977-8f11388121c1",
   "metadata": {},
   "outputs": [],
   "source": [
    "myobj."
   ]
  }
 ],
 "metadata": {
  "kernelspec": {
   "display_name": "Python 3 (ipykernel)",
   "language": "python",
   "name": "python3"
  },
  "language_info": {
   "codemirror_mode": {
    "name": "ipython",
    "version": 3
   },
   "file_extension": ".py",
   "mimetype": "text/x-python",
   "name": "python",
   "nbconvert_exporter": "python",
   "pygments_lexer": "ipython3",
   "version": "3.9.5"
  }
 },
 "nbformat": 4,
 "nbformat_minor": 5
}
