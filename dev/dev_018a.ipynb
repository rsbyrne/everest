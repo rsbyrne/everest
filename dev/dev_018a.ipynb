{
 "cells": [
  {
   "cell_type": "code",
   "execution_count": null,
   "id": "92323560-d949-4239-ae75-e77723550df9",
   "metadata": {},
   "outputs": [],
   "source": [
    "###############################################################################\n",
    "import aliases"
   ]
  },
  {
   "cell_type": "code",
   "execution_count": null,
   "id": "ce860efc-a06e-41da-9ace-28f1e3782bcd",
   "metadata": {},
   "outputs": [],
   "source": [
    "from everest.ptolemaic.chora import *\n",
    "from everest.ptolemaic.ptolemaic import Ptolemaic as _Ptolemaic"
   ]
  },
  {
   "cell_type": "code",
   "execution_count": null,
   "id": "570ef376-0f1a-4dd1-b188-0c07f94e3abe",
   "metadata": {},
   "outputs": [],
   "source": [
    "# import abc as _abc\n",
    "# import functools as _functools\n",
    "# import inspect as _inspect\n",
    "# import collections as _collections\n",
    "\n",
    "# from everest.abstract import *\n",
    "# from everest.utilities import (\n",
    "#     TypeMap as _TypeMap, MultiTypeMap as _MultiTypeMap, caching as _caching\n",
    "#     )\n",
    "\n",
    "# from everest.ptolemaic.essence import Essence as _Essence\n",
    "# from everest.ptolemaic.ptolemaic import (\n",
    "#     Ptolemaic as _Ptolemaic, DataPtolemaic as _DataPtolemaic\n",
    "#     )\n",
    "# from everest.ptolemaic import exceptions as _exceptions"
   ]
  },
  {
   "cell_type": "code",
   "execution_count": null,
   "id": "37ed8744-bfbd-492e-b9c5-d25a3eb3e3ee",
   "metadata": {},
   "outputs": [],
   "source": [
    "class OrdChora(Chora):\n",
    "    '''Returns the `ord` of a character.'''\n",
    "\n",
    "    def retrieve_string(self, incisor: str, /):\n",
    "        return ord(incisor)\n",
    "\n",
    "myord = OrdChora()\n",
    "display(myord)\n",
    "myord['a']"
   ]
  },
  {
   "cell_type": "code",
   "execution_count": null,
   "id": "7a58c831-a9ba-42be-8c5a-5b52061e8ce9",
   "metadata": {},
   "outputs": [],
   "source": [
    "class PowChora(Chora):\n",
    "\n",
    "    FIELDS = ('power',)\n",
    "\n",
    "    def retrieve_num(self, incisor: (int, float)):\n",
    "        return incisor**self.power\n",
    "\n",
    "\n",
    "mypow = PowChora(2)\n",
    "display(mypow)\n",
    "mypow[3]"
   ]
  },
  {
   "cell_type": "code",
   "execution_count": null,
   "id": "3da38516-2483-4ee5-8d3f-1c9aab801575",
   "metadata": {},
   "outputs": [],
   "source": [
    "mycomp1 = mypow[myord]\n",
    "display(mycomp1)\n",
    "display(mycomp1['a'])\n",
    "display(mycomp1[3])"
   ]
  },
  {
   "cell_type": "code",
   "execution_count": null,
   "id": "559a66e8-ad20-488b-8123-0f5a1a7c485e",
   "metadata": {},
   "outputs": [],
   "source": [
    "class ChrChora(Chora):\n",
    "    '''Returns the `chr` of an integer.'''\n",
    "\n",
    "    def retrieve_int(self, incisor: int, /):\n",
    "        return chr(incisor)\n",
    "\n",
    "mychr = ChrChora()\n",
    "display(mychr)\n",
    "mychr[100]"
   ]
  },
  {
   "cell_type": "code",
   "execution_count": null,
   "id": "15b0da9b-fc47-4106-8299-1d58f169bdd3",
   "metadata": {},
   "outputs": [],
   "source": [
    "mycomp2 = mycomp1[mychr]\n",
    "display(mycomp2)\n",
    "display(mycomp2['a'])\n",
    "display(mycomp2[3])"
   ]
  },
  {
   "cell_type": "code",
   "execution_count": null,
   "id": "a2eb8eee-4709-403a-bcb7-ddc16665cfe8",
   "metadata": {},
   "outputs": [],
   "source": [
    "mycomp2 = mychr[mypow[myord]]"
   ]
  },
  {
   "cell_type": "code",
   "execution_count": null,
   "id": "6f209984-5d5d-4644-a9a0-b1b01219b702",
   "metadata": {},
   "outputs": [],
   "source": [
    "mycomp2['z']"
   ]
  },
  {
   "cell_type": "code",
   "execution_count": null,
   "id": "70dfa757-a982-4aa5-9c36-3084e49b777b",
   "metadata": {},
   "outputs": [],
   "source": [
    "%%timeit -n 100\n",
    "mycomp2['z']"
   ]
  },
  {
   "cell_type": "code",
   "execution_count": null,
   "id": "97d5b86f-67c1-43b7-9790-8f078dda0ff0",
   "metadata": {},
   "outputs": [],
   "source": [
    "class MyClass(Sliceable):\n",
    "    ..."
   ]
  },
  {
   "cell_type": "code",
   "execution_count": null,
   "id": "50a0067c-af67-4f96-8c5e-67b411da5919",
   "metadata": {},
   "outputs": [],
   "source": [
    "MyClass()[:0]"
   ]
  },
  {
   "cell_type": "code",
   "execution_count": null,
   "id": "a8535c3a-ccb3-450a-8796-fb296a51087a",
   "metadata": {},
   "outputs": [],
   "source": []
  }
 ],
 "metadata": {
  "kernelspec": {
   "display_name": "Python 3 (ipykernel)",
   "language": "python",
   "name": "python3"
  },
  "language_info": {
   "codemirror_mode": {
    "name": "ipython",
    "version": 3
   },
   "file_extension": ".py",
   "mimetype": "text/x-python",
   "name": "python",
   "nbconvert_exporter": "python",
   "pygments_lexer": "ipython3",
   "version": "3.9.5"
  }
 },
 "nbformat": 4,
 "nbformat_minor": 5
}
