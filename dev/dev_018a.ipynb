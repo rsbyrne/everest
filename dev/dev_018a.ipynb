{
 "cells": [
  {
   "cell_type": "code",
   "execution_count": null,
   "id": "92323560-d949-4239-ae75-e77723550df9",
   "metadata": {},
   "outputs": [],
   "source": [
    "###############################################################################\n",
    "import aliases"
   ]
  },
  {
   "cell_type": "code",
   "execution_count": null,
   "id": "7fa7bb7a-906b-43e3-a4ab-38b3eb00dcc7",
   "metadata": {},
   "outputs": [],
   "source": [
    "from everest.chora import *"
   ]
  },
  {
   "cell_type": "code",
   "execution_count": null,
   "id": "9cee4bf6-139b-4497-8164-6d44aad1a5fb",
   "metadata": {},
   "outputs": [],
   "source": [
    "class OrdChora(Chora):\n",
    "    '''Returns the `ord` of a character.'''\n",
    "\n",
    "    def retrieve_string(self, incisor: str, /) -> int:\n",
    "        return ord(incisor)\n",
    "\n",
    "\n",
    "class PowChora(Chora):\n",
    "\n",
    "    FIELDS = ('power',)\n",
    "\n",
    "    def retrieve_num(self, incisor: int) -> int:\n",
    "        return incisor**self.power\n",
    "\n",
    "\n",
    "class ChrChora(Chora):\n",
    "    '''Returns the `chr` of an integer.'''\n",
    "\n",
    "    def retrieve_int(self, incisor: int, /):\n",
    "        return chr(incisor)\n",
    "\n",
    "\n",
    "ChrChora()[PowChora(2)[OrdChora()]]['z']"
   ]
  },
  {
   "cell_type": "code",
   "execution_count": null,
   "id": "914d364e-86d9-4124-8cce-e3c0052c145f",
   "metadata": {},
   "outputs": [],
   "source": [
    "class Predicate(_DataPtolemaic):\n",
    "\n",
    "    @_abc.abstractmethod\n",
    "    def __call__(self, obj: object, /) -> bool:\n",
    "#         '''\n",
    "\n",
    "\n",
    "class IsInstance(_DataPtolemaic):\n",
    "\n",
    "    FIELDS = ('typ',)\n",
    "\n",
    "    def __call__(self, obj, /):\n",
    "        return isinstance(obj, self.typ)\n",
    "\n",
    "\n",
    "class Sett(Chora):\n",
    "\n",
    "    FIELDS = ('predicate',)\n",
    "\n",
    "    def retrieve_typ(self, incisor: Any, /):\n",
    "        if self.predicate(incisor):\n",
    "            return incisor\n",
    "        raise KeyError(incisor)\n",
    "\n",
    "\n"
   ]
  },
  {
   "cell_type": "code",
   "execution_count": null,
   "id": "a1877cca-7152-4b53-beef-e2e6b711c84d",
   "metadata": {},
   "outputs": [],
   "source": [
    "mysett = Sett(IsInstance(int))"
   ]
  }
 ],
 "metadata": {
  "kernelspec": {
   "display_name": "Python 3 (ipykernel)",
   "language": "python",
   "name": "python3"
  },
  "language_info": {
   "codemirror_mode": {
    "name": "ipython",
    "version": 3
   },
   "file_extension": ".py",
   "mimetype": "text/x-python",
   "name": "python",
   "nbconvert_exporter": "python",
   "pygments_lexer": "ipython3",
   "version": "3.9.5"
  }
 },
 "nbformat": 4,
 "nbformat_minor": 5
}
