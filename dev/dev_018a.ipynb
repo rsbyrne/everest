{
 "cells": [
  {
   "cell_type": "code",
   "execution_count": null,
   "id": "92323560-d949-4239-ae75-e77723550df9",
   "metadata": {},
   "outputs": [],
   "source": [
    "###############################################################################\n",
    "import aliases"
   ]
  },
  {
   "cell_type": "code",
   "execution_count": null,
   "id": "a71a6173-6177-44a0-bc87-eb056c02c9ef",
   "metadata": {},
   "outputs": [],
   "source": [
    "from everest.ptolemaic.ptolemaic import Ptolemaic\n",
    "from everest.ptolemaic.tekton import Tekton\n",
    "from everest.ptolemaic.essence import Essence\n",
    "from everest.ptolemaic.ousia import Ousia"
   ]
  },
  {
   "cell_type": "code",
   "execution_count": null,
   "id": "d0055417-008b-41cc-99ac-32d539b4eab0",
   "metadata": {},
   "outputs": [],
   "source": [
    "class MyOusia(metaclass=Ousia):\n",
    "\n",
    "    def __init__(self, a: int, b: float, c: str):\n",
    "        ..."
   ]
  },
  {
   "cell_type": "code",
   "execution_count": null,
   "id": "fb696d60-3a6a-493f-838a-7c5f139e6966",
   "metadata": {},
   "outputs": [],
   "source": [
    "MyOusia(1, 2., 'foo')"
   ]
  },
  {
   "cell_type": "code",
   "execution_count": null,
   "id": "fad741b0-1597-44c0-bbba-01e5fc96bba8",
   "metadata": {},
   "outputs": [],
   "source": []
  },
  {
   "cell_type": "code",
   "execution_count": null,
   "id": "a895e497-efb4-432e-96fa-f0b3df4f02c5",
   "metadata": {},
   "outputs": [],
   "source": [
    "class MyTekton(metaclass=Tekton):\n",
    "\n",
    "    @classmethod\n",
    "    def method(cls, a: int, b: int):\n",
    "        return a**b"
   ]
  },
  {
   "cell_type": "code",
   "execution_count": null,
   "id": "e5bcadfc-2d46-4c52-b942-dcfaf01696c2",
   "metadata": {},
   "outputs": [],
   "source": [
    "MyTekton(2, 3)"
   ]
  },
  {
   "cell_type": "code",
   "execution_count": null,
   "id": "bcbcb98d-d137-45b2-95f7-000a15653469",
   "metadata": {},
   "outputs": [],
   "source": [
    "MyTekton()"
   ]
  },
  {
   "cell_type": "code",
   "execution_count": null,
   "id": "d5fb56c5-1c42-46be-a991-f5085cc837c2",
   "metadata": {},
   "outputs": [],
   "source": [
    "myobj = 1"
   ]
  },
  {
   "cell_type": "code",
   "execution_count": null,
   "id": "caeca210-03ef-4649-b56f-80cd516fbdda",
   "metadata": {},
   "outputs": [],
   "source": [
    "MyTekton.__weakrefoffset__"
   ]
  },
  {
   "cell_type": "code",
   "execution_count": null,
   "id": "423f6157-a314-47d1-bf27-81554da39535",
   "metadata": {},
   "outputs": [],
   "source": [
    "class MyClass:\n",
    "    __slots__=('__weakref__',)"
   ]
  },
  {
   "cell_type": "code",
   "execution_count": null,
   "id": "96fc2c47-b9de-4b35-8115-302f1e3d5b40",
   "metadata": {},
   "outputs": [],
   "source": [
    "import weakref"
   ]
  },
  {
   "cell_type": "code",
   "execution_count": null,
   "id": "d8ed8266-9d9b-4a98-91d2-4929a07df357",
   "metadata": {},
   "outputs": [],
   "source": [
    "ref = weakref.ref(MyClass)"
   ]
  },
  {
   "cell_type": "code",
   "execution_count": null,
   "id": "0dca04b4-a3df-4ae7-8f30-08c7e1492482",
   "metadata": {},
   "outputs": [],
   "source": [
    "ref()"
   ]
  },
  {
   "cell_type": "code",
   "execution_count": null,
   "id": "8fc345bd-ba4f-458a-a5a5-9e000de2fa4c",
   "metadata": {},
   "outputs": [],
   "source": [
    "MyClass.__weakrefoffset__"
   ]
  },
  {
   "cell_type": "code",
   "execution_count": null,
   "id": "38f71a5f-5a3b-472c-be32-2f69ea613d0d",
   "metadata": {},
   "outputs": [],
   "source": []
  },
  {
   "cell_type": "code",
   "execution_count": null,
   "id": "3f14231e-a90d-4945-a084-ae218f95b407",
   "metadata": {},
   "outputs": [],
   "source": []
  },
  {
   "cell_type": "code",
   "execution_count": null,
   "id": "5f5a9e79-e299-46f4-9cd1-b53dd3d30288",
   "metadata": {},
   "outputs": [],
   "source": [
    "class MyClass(Ptolemaic):\n",
    "\n",
    "    __slots__ = ('bah',)\n",
    "\n",
    "    def get_epitaph(self, /):\n",
    "        return 'foo'"
   ]
  },
  {
   "cell_type": "code",
   "execution_count": null,
   "id": "0d731c45-f69a-4e89-898f-3e3f948d4de9",
   "metadata": {},
   "outputs": [],
   "source": [
    "MyClass.__weakrefoffset__"
   ]
  },
  {
   "cell_type": "code",
   "execution_count": null,
   "id": "dc322921-f7d6-4a23-aa5a-f57faac50618",
   "metadata": {},
   "outputs": [],
   "source": [
    "out = MyClass()"
   ]
  },
  {
   "cell_type": "code",
   "execution_count": null,
   "id": "41b8022e-f097-456c-b475-c2b0868375a3",
   "metadata": {},
   "outputs": [],
   "source": [
    "out.bah = 1"
   ]
  },
  {
   "cell_type": "code",
   "execution_count": null,
   "id": "74f39927-bb76-4999-a32e-4d385342a226",
   "metadata": {},
   "outputs": [],
   "source": [
    "with out.mutable:\n",
    "    out.bah = 1"
   ]
  },
  {
   "cell_type": "code",
   "execution_count": null,
   "id": "3cd5cafb-f16e-4982-94ad-7075ff9dfd85",
   "metadata": {},
   "outputs": [],
   "source": [
    "out.bah"
   ]
  },
  {
   "cell_type": "code",
   "execution_count": null,
   "id": "0ac6ee70-f2c5-4e4f-b61d-ef72bdef6e10",
   "metadata": {},
   "outputs": [],
   "source": [
    "MyClass.clsepitaph"
   ]
  },
  {
   "cell_type": "code",
   "execution_count": null,
   "id": "36a5587b-a62a-4846-924c-904c458443ef",
   "metadata": {},
   "outputs": [],
   "source": [
    "MyClass.__slots__"
   ]
  },
  {
   "cell_type": "code",
   "execution_count": null,
   "id": "e4ba8c05-f398-44a6-8aaf-2adaf1a25298",
   "metadata": {},
   "outputs": [],
   "source": [
    "out.epitaph"
   ]
  },
  {
   "cell_type": "code",
   "execution_count": null,
   "id": "4cf6541d-788f-499f-9f3f-872f1b6363c1",
   "metadata": {},
   "outputs": [],
   "source": [
    "out.clsepitaph"
   ]
  },
  {
   "cell_type": "code",
   "execution_count": null,
   "id": "dbae6466-cec0-4405-927d-94ffce2e5599",
   "metadata": {},
   "outputs": [],
   "source": [
    "MyClass.get_epitaph()"
   ]
  },
  {
   "cell_type": "code",
   "execution_count": null,
   "id": "90fd8d5d-50fe-4cba-be08-c70dc399e3ca",
   "metadata": {},
   "outputs": [],
   "source": [
    "MyClass.clsepitaph"
   ]
  },
  {
   "cell_type": "code",
   "execution_count": null,
   "id": "a6c78bcf-13df-450f-bcd8-8e2d1ff53688",
   "metadata": {},
   "outputs": [],
   "source": []
  },
  {
   "cell_type": "code",
   "execution_count": null,
   "id": "ce860efc-a06e-41da-9ace-28f1e3782bcd",
   "metadata": {},
   "outputs": [],
   "source": [
    "from everest.ptolemaic.chora import *"
   ]
  },
  {
   "cell_type": "code",
   "execution_count": null,
   "id": "570ef376-0f1a-4dd1-b188-0c07f94e3abe",
   "metadata": {},
   "outputs": [],
   "source": [
    "import abc as _abc\n",
    "import functools as _functools\n",
    "import inspect as _inspect\n",
    "import collections as _collections\n",
    "import typing as _typing\n",
    "\n",
    "from everest.utilities import (\n",
    "    TypeMap as _TypeMap,\n",
    "    caching as _caching,\n",
    "    NotNone, Null, NoneType, EllipsisType, Any,\n",
    "    )\n",
    "\n",
    "from everest.ptolemaic.essence import Essence as _Essence\n",
    "from everest.ptolemaic.ptolemaic import (\n",
    "    Ptolemaic as _Ptolemaic, DataPtolemaic as _DataPtolemaic\n",
    "    )\n",
    "from everest.ptolemaic import exceptions as _exceptions"
   ]
  },
  {
   "cell_type": "code",
   "execution_count": null,
   "id": "223cc06f-48a0-443e-bc0a-3e5304a46697",
   "metadata": {},
   "outputs": [],
   "source": [
    "_typing.Any"
   ]
  },
  {
   "cell_type": "code",
   "execution_count": null,
   "id": "0179cc38-0d48-483b-b940-7047aa601aef",
   "metadata": {},
   "outputs": [],
   "source": [
    "issubclass(int, _typing.Any)"
   ]
  },
  {
   "cell_type": "code",
   "execution_count": null,
   "id": "0a3dd8e9-f11b-4c37-9606-6b3aca4c6576",
   "metadata": {},
   "outputs": [],
   "source": [
    "isinstance(0, _typing.Any)"
   ]
  },
  {
   "cell_type": "code",
   "execution_count": null,
   "id": "914d364e-86d9-4124-8cce-e3c0052c145f",
   "metadata": {},
   "outputs": [],
   "source": [
    "class Predicate(_DataPtolemaic):\n",
    "\n",
    "    @_abc.abstractmethod\n",
    "    def __call__(self, obj: object, /) -> bool:\n",
    "#         '''\n",
    "\n",
    "\n",
    "class IsInstance(_DataPtolemaic):\n",
    "\n",
    "    FIELDS = ('typ',)\n",
    "\n",
    "    def __call__(self, obj, /):\n",
    "        return isinstance(obj, self.typ)\n",
    "\n",
    "\n",
    "class Sett(Chora):\n",
    "\n",
    "    FIELDS = ('predicate',)\n",
    "\n",
    "    def retrieve_typ(self, incisor: Any, /):\n",
    "        if self.predicate(incisor):\n",
    "            return incisor\n",
    "        raise KeyError(incisor)\n",
    "\n",
    "\n"
   ]
  },
  {
   "cell_type": "code",
   "execution_count": null,
   "id": "a1877cca-7152-4b53-beef-e2e6b711c84d",
   "metadata": {},
   "outputs": [],
   "source": [
    "mysett = Sett(IsInstance(int))"
   ]
  },
  {
   "cell_type": "code",
   "execution_count": null,
   "id": "6ef31b14-9d18-4fa8-b621-846ddae62c53",
   "metadata": {},
   "outputs": [],
   "source": []
  },
  {
   "cell_type": "code",
   "execution_count": null,
   "id": "fb6032a7-4686-4612-a039-1592889ffe1b",
   "metadata": {},
   "outputs": [],
   "source": [
    "_typing.TypeVar('T'"
   ]
  },
  {
   "cell_type": "code",
   "execution_count": null,
   "id": "191dff53-a9b9-47eb-a9ad-ed939e2f991a",
   "metadata": {},
   "outputs": [],
   "source": [
    "mysett[Sett(bool)]"
   ]
  },
  {
   "cell_type": "code",
   "execution_count": null,
   "id": "37ed8744-bfbd-492e-b9c5-d25a3eb3e3ee",
   "metadata": {},
   "outputs": [],
   "source": []
  },
  {
   "cell_type": "code",
   "execution_count": null,
   "id": "facea03e-1e77-4077-9988-49bcf1ef2355",
   "metadata": {},
   "outputs": [],
   "source": [
    "_typing.Union"
   ]
  },
  {
   "cell_type": "code",
   "execution_count": null,
   "id": "ba7883be-c136-4871-8e83-c0caebf0068f",
   "metadata": {},
   "outputs": [],
   "source": [
    "class Meta(type):\n",
    "\n",
    "    def get_epitaph(cls, /):\n",
    "        return 'foo'\n",
    "\n",
    "    @property\n",
    "    def epitaph(cls, /):\n",
    "        return cls.get_epitaph()\n",
    "\n",
    "\n",
    "class A(metaclass=Meta):\n",
    "    ...\n",
    "\n",
    "\n",
    "class B(A):\n",
    "\n",
    "    def get_epitaph(self, /):\n",
    "        return 'bah'\n",
    "\n",
    "    @property\n",
    "    def epitaph(self, /):\n",
    "        return self.get_epitaph()\n",
    "\n",
    "\n",
    "myobj = B()"
   ]
  },
  {
   "cell_type": "code",
   "execution_count": null,
   "id": "8587c22d-e765-4415-a92a-7fdcbb52625b",
   "metadata": {},
   "outputs": [],
   "source": [
    "myobj.epitaph"
   ]
  },
  {
   "cell_type": "code",
   "execution_count": null,
   "id": "712d977b-ece8-4f9a-95f2-c381c22a370a",
   "metadata": {},
   "outputs": [],
   "source": [
    "A.epitaph"
   ]
  },
  {
   "cell_type": "code",
   "execution_count": null,
   "id": "8dbde9c1-5ebc-476a-8cae-7e9ff27d21b6",
   "metadata": {},
   "outputs": [],
   "source": [
    "B.epitaph"
   ]
  },
  {
   "cell_type": "code",
   "execution_count": null,
   "id": "cb913575-78e8-4118-83a2-5851374626ae",
   "metadata": {},
   "outputs": [],
   "source": [
    "class MetaA(type):\n",
    "    ...\n",
    "\n",
    "\n",
    "class MetaB(type):\n",
    "    ...\n",
    "\n",
    "\n",
    "class A(metaclass=MetaA):\n",
    "    ...\n",
    "\n",
    "\n",
    "class B(metaclass=MetaB):\n",
    "    ...\n",
    "\n",
    "\n",
    "class MetaC(MetaA, MetaB):\n",
    "    ...\n",
    "\n",
    "\n",
    "class C(A, B, metaclass=MetaC):\n",
    "    ..."
   ]
  },
  {
   "cell_type": "code",
   "execution_count": null,
   "id": "4faafd6b-c647-4e18-9aca-c5dc13e55523",
   "metadata": {},
   "outputs": [],
   "source": [
    "class MetaA(type):\n",
    "\n",
    "    def __repr__(cls, /):\n",
    "        return '0'\n",
    "\n",
    "\n",
    "class A(metaclass=MetaA):\n",
    "\n",
    "    def __repr__(self, /):\n",
    "        return '1'"
   ]
  },
  {
   "cell_type": "code",
   "execution_count": null,
   "id": "68a426a0-a69f-4c1d-aad5-89ec509de73b",
   "metadata": {},
   "outputs": [],
   "source": [
    "repr(A)"
   ]
  },
  {
   "cell_type": "code",
   "execution_count": null,
   "id": "05244c3d-0232-4186-954f-7488410b3f34",
   "metadata": {},
   "outputs": [],
   "source": [
    "A.__repr__()"
   ]
  },
  {
   "cell_type": "code",
   "execution_count": null,
   "id": "b8363e14-3542-4a3c-a924-d546c8da0773",
   "metadata": {},
   "outputs": [],
   "source": [
    "hash(A)"
   ]
  },
  {
   "cell_type": "code",
   "execution_count": null,
   "id": "2a292044-ab8d-41e1-a5b7-73c531fe5937",
   "metadata": {},
   "outputs": [],
   "source": [
    "hash(A())"
   ]
  },
  {
   "cell_type": "code",
   "execution_count": null,
   "id": "1d59fb81-77ff-4d89-9331-a498ebe388a3",
   "metadata": {},
   "outputs": [],
   "source": []
  }
 ],
 "metadata": {
  "kernelspec": {
   "display_name": "Python 3 (ipykernel)",
   "language": "python",
   "name": "python3"
  },
  "language_info": {
   "codemirror_mode": {
    "name": "ipython",
    "version": 3
   },
   "file_extension": ".py",
   "mimetype": "text/x-python",
   "name": "python",
   "nbconvert_exporter": "python",
   "pygments_lexer": "ipython3",
   "version": "3.9.5"
  }
 },
 "nbformat": 4,
 "nbformat_minor": 5
}
