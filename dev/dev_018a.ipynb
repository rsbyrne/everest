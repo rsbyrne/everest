{
 "cells": [
  {
   "cell_type": "code",
   "execution_count": null,
   "id": "92323560-d949-4239-ae75-e77723550df9",
   "metadata": {},
   "outputs": [],
   "source": [
    "###############################################################################\n",
    "import aliases"
   ]
  },
  {
   "cell_type": "code",
   "execution_count": null,
   "id": "b377614f-8b8a-4e06-85c7-0647c8b56f80",
   "metadata": {},
   "outputs": [],
   "source": [
    "from everest.ptolemaic.chora import *\n",
    "from everest.ptolemaic.ptolemaic import Ptolemaic"
   ]
  },
  {
   "cell_type": "code",
   "execution_count": null,
   "id": "236c611d-2850-4c8e-bece-9b585a5f4cf8",
   "metadata": {},
   "outputs": [],
   "source": [
    "from everest.utilities import caching as _caching\n",
    "\n",
    "\n",
    "@Chora.decorate\n",
    "class MyClass(Ptolemaic):\n",
    "\n",
    "    __slots__ = ('dct',)\n",
    "\n",
    "    def __init__(self, dct, /):\n",
    "        self.dct = dct\n",
    "\n",
    "    @property\n",
    "    @_caching.soft_cache()\n",
    "    def chora(self, /):\n",
    "        return self.Chora()\n",
    "\n",
    "    def retrieve(self, index):\n",
    "        return self.dct[index]\n",
    "\n",
    "    def __contains__(self, arg, /):\n",
    "        return arg in self.dct\n",
    "\n",
    "    def _repr(self, /):\n",
    "        return self.dct\n",
    "\n",
    "    def get_epitaph(self, /):\n",
    "        return self.taphonomy.custom_epitaph(\n",
    "            '$A(a)',\n",
    "            dict(A=type(self)._ptolemaic_class__, a=self.dct),\n",
    "            )"
   ]
  },
  {
   "cell_type": "code",
   "execution_count": null,
   "id": "6e659e68-e6ae-41c5-ad21-6633464b74dd",
   "metadata": {},
   "outputs": [],
   "source": [
    "out = MyClass({'a': 1, 'b': 2})[Chora()]\n",
    "out"
   ]
  },
  {
   "cell_type": "code",
   "execution_count": null,
   "id": "49e2575e-efc3-4855-8768-14bdf306d64f",
   "metadata": {},
   "outputs": [],
   "source": [
    "out['b']"
   ]
  },
  {
   "cell_type": "code",
   "execution_count": null,
   "id": "bb9ad211-4f1a-4645-9a55-bd84493946d8",
   "metadata": {},
   "outputs": [],
   "source": [
    "out"
   ]
  },
  {
   "cell_type": "code",
   "execution_count": null,
   "id": "8e21bf68-c9cb-4906-83e1-c716490999e8",
   "metadata": {},
   "outputs": [],
   "source": [
    "out is out"
   ]
  },
  {
   "cell_type": "code",
   "execution_count": null,
   "id": "46220f45-e95d-48d1-8396-66b03d436c78",
   "metadata": {},
   "outputs": [],
   "source": [
    "out[:]"
   ]
  },
  {
   "cell_type": "code",
   "execution_count": null,
   "id": "f019b53c-9292-4b2f-8c13-cf43ff2521b6",
   "metadata": {},
   "outputs": [],
   "source": [
    "out.chora.getitem(out, slice(None))"
   ]
  },
  {
   "cell_type": "code",
   "execution_count": null,
   "id": "9138e489-5449-437b-8ca4-55b5eff663e5",
   "metadata": {},
   "outputs": [],
   "source": [
    "out[:] is out"
   ]
  },
  {
   "cell_type": "code",
   "execution_count": null,
   "id": "31b24de4-e1da-4caa-99e1-dfdcadebd595",
   "metadata": {},
   "outputs": [],
   "source": [
    "out2 = out[Chora()]"
   ]
  },
  {
   "cell_type": "code",
   "execution_count": null,
   "id": "4e424f2c-9a04-48ee-9dc7-9a5a96160e13",
   "metadata": {},
   "outputs": [],
   "source": [
    "out2['a']"
   ]
  },
  {
   "cell_type": "code",
   "execution_count": null,
   "id": "3b6d4ec3-5178-4238-bebc-63fa2140898f",
   "metadata": {},
   "outputs": [],
   "source": []
  }
 ],
 "metadata": {
  "kernelspec": {
   "display_name": "Python 3 (ipykernel)",
   "language": "python",
   "name": "python3"
  },
  "language_info": {
   "codemirror_mode": {
    "name": "ipython",
    "version": 3
   },
   "file_extension": ".py",
   "mimetype": "text/x-python",
   "name": "python",
   "nbconvert_exporter": "python",
   "pygments_lexer": "ipython3",
   "version": "3.9.5"
  }
 },
 "nbformat": 4,
 "nbformat_minor": 5
}
