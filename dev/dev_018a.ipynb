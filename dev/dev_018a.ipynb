{
 "cells": [
  {
   "cell_type": "code",
   "execution_count": null,
   "id": "92323560-d949-4239-ae75-e77723550df9",
   "metadata": {},
   "outputs": [],
   "source": [
    "###############################################################################\n",
    "import aliases"
   ]
  },
  {
   "cell_type": "code",
   "execution_count": null,
   "id": "ce860efc-a06e-41da-9ace-28f1e3782bcd",
   "metadata": {},
   "outputs": [],
   "source": [
    "from everest.ptolemaic.chora import *"
   ]
  },
  {
   "cell_type": "code",
   "execution_count": null,
   "id": "eec42762-8eab-42a8-860c-e0cf670011b4",
   "metadata": {},
   "outputs": [],
   "source": [
    "import abc as _abc\n",
    "import functools as _functools\n",
    "import inspect as _inspect\n",
    "import collections as _collections\n",
    "\n",
    "from everest.abstract import *\n",
    "from everest.utilities import (\n",
    "    TypeMap as _TypeMap, MultiTypeMap as _MultiTypeMap\n",
    "    )\n",
    "\n",
    "from everest.ptolemaic.essence import Essence as _Essence\n",
    "from everest.ptolemaic.ptolemaic import Ptolemaic as _Ptolemaic, DataPtolemaic as _DataPtolemaic"
   ]
  },
  {
   "cell_type": "code",
   "execution_count": null,
   "id": "e3c5fac3-dad8-478c-ab9e-5b6fa7a78073",
   "metadata": {},
   "outputs": [],
   "source": [
    "# class Bounds(_DataPtolemaic):\n",
    "\n",
    "#     FIELDS = ('lbnd', 'ubnd')\n",
    "\n",
    "\n",
    "# class Sampler(_DataPtolemaic):\n",
    "\n",
    "#     FIELDS = ('sampler',)\n",
    "\n",
    "\n",
    "class Traversable(Sliceable):\n",
    "\n",
    "#     def getitem_slice(self, caller, incisor: slice, /):\n",
    "#         lbnd, ubnd, sampler = (incisor.start, incisor.stop, incisor.step)\n",
    "#         bounds, sampler = Bounds(lbnd, ubnd), Sampler(sampler)\n",
    "#         return caller[bounds][sampler]\n",
    "\n",
    "#     def getitem_bounds(self, caller, incisor: Bounds, /):\n",
    "#         lbnd, ubnd = incisor.lbnd, incisor.ubnd\n",
    "#         meth = self.bndgetmeths[type(lbnd), type(ubnd)]\n",
    "#         return meth(self, caller, lbnd, ubnd)\n",
    "\n",
    "#     def getitem_sampler(self, caller, incisor: Sampler, /):\n",
    "#         sampler = incisor.sampler\n",
    "#         meth = self.samplegetmeths[type(sampler)]\n",
    "#         return meth(self, caller, sampler)\n",
    "\n",
    "    def slice_incise_bound(self, caller,\n",
    "            lbnd: object, ubnd: object, _: NoneType, /\n",
    "            ):\n",
    "        meth = self.bndgetmeths[type(lbnd), type(ubnd)]\n",
    "        return meth(self, caller, lbnd, ubnd)\n",
    "\n",
    "    def slice_incise_sample(self, caller,\n",
    "            _: NoneType, __: NoneType, sampler: NotNone, /\n",
    "            ):\n",
    "        meth = self.samplegetmeths[type(sampler)]\n",
    "        return meth(self, caller, sampler)\n",
    "\n",
    "    def slice_incise_boundsample(self, caller,\n",
    "            lbnd: object, ubnd: object, sampler: NotNone, /\n",
    "            ):\n",
    "        '''Equivalent to `caller[lbnd:ubnd][::sampler]`.'''\n",
    "        return (\n",
    "            self.slice_incise_bound(self, lbnd, ubnd, None)\n",
    "            .slice_incise_sample(caller, None, None, sampler)\n",
    "            )\n",
    "            \n",
    "\n",
    "    def bound_trivial_none(self, caller, lbnd: NoneType, ubnd: NoneType):\n",
    "        '''Captures the special behaviour implied by `self[:]`.'''\n",
    "        return caller\n",
    "\n",
    "    def sample_trivial_none(self, caller, sampler: NoneType):\n",
    "        '''Captures the special behaviour implied by `self[::None]`.'''\n",
    "        return caller\n",
    "\n",
    "    def sample_trivial_ellipsis(self, caller, sampler: NoneType):\n",
    "        '''Captures the special behaviour implied by `self[::...]`.'''\n",
    "        return caller\n",
    "\n",
    "    @classmethod\n",
    "    def _yield_bndmeths(cls, /):\n",
    "        for name in cls.attributes:\n",
    "            for prefix in map('bound_'.__add__, cls.PREFIXES):\n",
    "                if name.startswith(prefix + '_'):\n",
    "                    yield name, getattr(cls, name)\n",
    "                    break\n",
    "\n",
    "    @classmethod\n",
    "    def _get_bndmeths(cls, /):\n",
    "        return dict(cls._yield_bndmeths())\n",
    "\n",
    "    @classmethod\n",
    "    def _yield_bndgetmeths(cls, /):\n",
    "        for meth in cls.bndmeths.values():\n",
    "            hint = tuple(meth.__annotations__.values())[:3]\n",
    "            yield hint, meth\n",
    "\n",
    "    @classmethod\n",
    "    def _get_bndgetmeths(cls, /):\n",
    "        return _MultiTypeMap(cls._yield_bndgetmeths())\n",
    "\n",
    "    @classmethod\n",
    "    def _yield_samplemeths(cls, /):\n",
    "        for name in cls.attributes:\n",
    "            for prefix in map('sample_'.__add__, cls.PREFIXES):\n",
    "                if name.startswith(prefix + '_'):\n",
    "                    yield name, getattr(cls, name)\n",
    "                    break\n",
    "\n",
    "    @classmethod\n",
    "    def _get_samplemeths(cls, /):\n",
    "        return dict(cls._yield_samplemeths())\n",
    "\n",
    "    @classmethod\n",
    "    def _yield_samplegetmeths(cls, /):\n",
    "        return (\n",
    "            (next(iter(meth.__annotations__.values())), meth)\n",
    "            for meth in cls.samplemeths.values()\n",
    "            )\n",
    "\n",
    "    @classmethod\n",
    "    def _get_samplegetmeths(cls, /):\n",
    "        return _TypeMap(cls._yield_samplegetmeths())\n",
    "\n",
    "    @classmethod\n",
    "    def __class_init__(cls, /):\n",
    "        super().__class_init__()\n",
    "        cls.bndmeths = cls._get_bndmeths()\n",
    "        cls.bndgetmeths = cls._get_bndgetmeths()\n",
    "        cls.samplemeths = cls._get_samplemeths()\n",
    "        cls.samplegetmeths = cls._get_samplegetmeths()"
   ]
  },
  {
   "cell_type": "code",
   "execution_count": null,
   "id": "344d585d-f7c9-4cb6-a10c-b307734be7df",
   "metadata": {},
   "outputs": [],
   "source": [
    "class MyChora(Traversable, _Ptolemaic):\n",
    "\n",
    "    __slots__ = ('lbnd', 'ubnd', 'sampler', 'rangeobj')\n",
    "\n",
    "    def __init__(self, lbnd: int, ubnd: int, sampler: int = 1, /):\n",
    "        self.lbnd, self.ubnd, self.sampler = lbnd, ubnd, sampler\n",
    "        self.rangeobj = range(lbnd, ubnd, sampler)\n",
    "        super().__init__()\n",
    "\n",
    "    def retrieve_int(self, caller, incisor: int, /):\n",
    "        return caller.retrieve(self.rangeobj[incisor])\n",
    "\n",
    "    def _process_lbnd(self, lbnd: int, /):\n",
    "#         if lbnd < 0:\n",
    "#             return self.ubnd + self.sampler * lbnd\n",
    "        return self.lbnd + self.sampler * lbnd\n",
    "\n",
    "    def _process_ubnd(self, ubnd: int, /):\n",
    "#         if ubnd < 0:\n",
    "#             return self.ubnd + self.sampler * ubnd\n",
    "        return self.lbnd + self.sampler * ubnd + 1\n",
    "\n",
    "    def bound_incise_int_lower(self, caller, lbnd: int, ubnd: NoneType, /):\n",
    "        lbnd = self._process_lbnd(lbnd)\n",
    "        return caller.incise(type(self)(lbnd, self.ubnd, self.sampler))\n",
    "\n",
    "    def bound_incise_int_upper(self, caller, lbnd: NoneType, ubnd: int, /):\n",
    "        ubnd = self._process_ubnd(ubnd)\n",
    "        return caller.incise(type(self)(self.lbnd, ubnd, self.sampler))\n",
    "\n",
    "    def bound_incise_int_dual(self, caller, lbnd: int, ubnd: int, /):\n",
    "        lbnd, ubnd = self._process_lbnd(lbnd), self._process_ubnd(ubnd)\n",
    "        return caller.incise(type(self)(lbnd, ubnd, self.sampler))\n",
    "\n",
    "    def sample_incise_int(self, caller, sampler: int, /):\n",
    "        sampler = self.sampler * sampler\n",
    "        return caller.incise(type(self)(self.lbnd, self.ubnd, sampler))\n",
    "\n",
    "    def __iter__(self, /):\n",
    "        return self.iter_(self)\n",
    "\n",
    "    def iter_(self, caller, /):\n",
    "        return map(caller.retrieve, range(self.lbnd, self.ubnd, self.sampler))\n",
    "\n",
    "    def __contains__(self, arg, /):\n",
    "        return arg in self.rangeobj\n",
    "\n",
    "    def _repr(self, /):\n",
    "        return ':'.join(map(repr, (self.lbnd, self.ubnd, self.sampler)))\n",
    "\n",
    "    def get_epitaph(self, /):\n",
    "        return self.taphonomy.custom_epitaph(\n",
    "            '$A($a,$b,$c)',\n",
    "            dict(\n",
    "                A=type(self)._ptolemaic_class__,\n",
    "                a=self.lbnd, b=self.ubnd, c=self.sampler,\n",
    "                ),\n",
    "            )"
   ]
  },
  {
   "cell_type": "code",
   "execution_count": null,
   "id": "4016a112-e742-47b2-8d1c-0e86ded41445",
   "metadata": {},
   "outputs": [],
   "source": [
    "mychora = MyChora(0, 100, 1)\n",
    "mychora"
   ]
  },
  {
   "cell_type": "code",
   "execution_count": null,
   "id": "93db0e37-4edf-433f-875c-547537f035c2",
   "metadata": {},
   "outputs": [],
   "source": [
    "mychora[30:70][:35][::2][5:][3:15:3].rangeobj"
   ]
  },
  {
   "cell_type": "code",
   "execution_count": null,
   "id": "3797e518-2b8b-4bfb-a819-ea4f95280f8d",
   "metadata": {},
   "outputs": [],
   "source": [
    "mychora.rangeobj[30:70][:35][::2][5:][3:15:3]"
   ]
  },
  {
   "cell_type": "code",
   "execution_count": null,
   "id": "4423e8cf-4468-48f2-b976-631aa4aaccf6",
   "metadata": {},
   "outputs": [],
   "source": [
    "mychora[30:50][:15][::2][5::3].rangeobj"
   ]
  },
  {
   "cell_type": "code",
   "execution_count": null,
   "id": "e78d9521-0ce5-4924-837d-af6b8853b37c",
   "metadata": {},
   "outputs": [],
   "source": [
    "mychora.rangeobj[30:50][:15][::2][5::3]"
   ]
  },
  {
   "cell_type": "code",
   "execution_count": null,
   "id": "69932853-77b4-4fc9-917b-d447c52436ce",
   "metadata": {},
   "outputs": [],
   "source": [
    "tuple(mychora[::2][::3])"
   ]
  },
  {
   "cell_type": "code",
   "execution_count": null,
   "id": "38e6e6ac-a59c-423a-a92c-9f434069cf0b",
   "metadata": {},
   "outputs": [],
   "source": [
    "mychora[10:-20:2][15:]"
   ]
  },
  {
   "cell_type": "code",
   "execution_count": null,
   "id": "8ca5e51c-9a17-4842-9c59-7a6fac8bfeb8",
   "metadata": {},
   "outputs": [],
   "source": [
    "mychora[15:] is mychora"
   ]
  },
  {
   "cell_type": "code",
   "execution_count": null,
   "id": "db41a8f1-33f7-4c43-9060-465864e5c035",
   "metadata": {},
   "outputs": [],
   "source": [
    "mychora[15:30:2]"
   ]
  },
  {
   "cell_type": "code",
   "execution_count": null,
   "id": "f1607005-17dd-438a-93b9-4a6393b81890",
   "metadata": {},
   "outputs": [],
   "source": [
    "mychora[::2]"
   ]
  },
  {
   "cell_type": "code",
   "execution_count": null,
   "id": "3fe8deb5-8804-41b8-91a2-8708fbc65df1",
   "metadata": {},
   "outputs": [],
   "source": [
    "assert mychora[:] is mychora\n",
    "assert mychora[...] is mychora\n",
    "assert mychora[None] is mychora\n",
    "assert mychora[None:None:None] is mychora\n",
    "assert mychora[::] is mychora\n",
    "assert mychora[::None] is mychora\n",
    "assert mychora[:None:None] is mychora\n",
    "assert mychora[None::None] is mychora\n",
    "assert mychora[None::] is mychora"
   ]
  },
  {
   "cell_type": "code",
   "execution_count": null,
   "id": "409dba83-8108-4859-a306-80da8666d794",
   "metadata": {},
   "outputs": [],
   "source": []
  },
  {
   "cell_type": "code",
   "execution_count": null,
   "id": "fbb23a9a-f83e-4820-833d-46b8d921b2aa",
   "metadata": {},
   "outputs": [],
   "source": []
  },
  {
   "cell_type": "code",
   "execution_count": null,
   "id": "9ac4156d-0d43-4a79-a9ce-064d87269468",
   "metadata": {},
   "outputs": [],
   "source": []
  },
  {
   "cell_type": "code",
   "execution_count": null,
   "id": "236c611d-2850-4c8e-bece-9b585a5f4cf8",
   "metadata": {},
   "outputs": [],
   "source": [
    "from everest.utilities import caching as _caching\n",
    "\n",
    "\n",
    "@Chora.decorate\n",
    "class MyClass(Ptolemaic):\n",
    "\n",
    "    __slots__ = ('dct',)\n",
    "\n",
    "    def __init__(self, dct, /):\n",
    "        self.dct = dct\n",
    "\n",
    "    @property\n",
    "    @_caching.soft_cache()\n",
    "    def chora(self, /):\n",
    "        return self.Chora()\n",
    "\n",
    "    def retrieve(self, index):\n",
    "        return self.dct[index]\n",
    "\n",
    "    def __contains__(self, arg, /):\n",
    "        return arg in self.dct\n",
    "\n",
    "    def _repr(self, /):\n",
    "        return self.dct\n",
    "\n",
    "    def get_epitaph(self, /):\n",
    "        return self.taphonomy.custom_epitaph(\n",
    "            '$A(a)',\n",
    "            dict(A=type(self)._ptolemaic_class__, a=self.dct),\n",
    "            )"
   ]
  },
  {
   "cell_type": "code",
   "execution_count": null,
   "id": "6e659e68-e6ae-41c5-ad21-6633464b74dd",
   "metadata": {},
   "outputs": [],
   "source": [
    "out = MyClass({'a': 1, 'b': 2})[Chora()]\n",
    "out"
   ]
  },
  {
   "cell_type": "code",
   "execution_count": null,
   "id": "49e2575e-efc3-4855-8768-14bdf306d64f",
   "metadata": {},
   "outputs": [],
   "source": [
    "out['b']"
   ]
  },
  {
   "cell_type": "code",
   "execution_count": null,
   "id": "bb9ad211-4f1a-4645-9a55-bd84493946d8",
   "metadata": {},
   "outputs": [],
   "source": [
    "out"
   ]
  },
  {
   "cell_type": "code",
   "execution_count": null,
   "id": "8e21bf68-c9cb-4906-83e1-c716490999e8",
   "metadata": {},
   "outputs": [],
   "source": [
    "out is out"
   ]
  },
  {
   "cell_type": "code",
   "execution_count": null,
   "id": "46220f45-e95d-48d1-8396-66b03d436c78",
   "metadata": {},
   "outputs": [],
   "source": [
    "out[:]"
   ]
  },
  {
   "cell_type": "code",
   "execution_count": null,
   "id": "f019b53c-9292-4b2f-8c13-cf43ff2521b6",
   "metadata": {},
   "outputs": [],
   "source": [
    "out.chora.getitem(out, slice(None))"
   ]
  },
  {
   "cell_type": "code",
   "execution_count": null,
   "id": "9138e489-5449-437b-8ca4-55b5eff663e5",
   "metadata": {},
   "outputs": [],
   "source": [
    "out[:] is out"
   ]
  },
  {
   "cell_type": "code",
   "execution_count": null,
   "id": "31b24de4-e1da-4caa-99e1-dfdcadebd595",
   "metadata": {},
   "outputs": [],
   "source": [
    "out2 = out[Chora()]"
   ]
  },
  {
   "cell_type": "code",
   "execution_count": null,
   "id": "4e424f2c-9a04-48ee-9dc7-9a5a96160e13",
   "metadata": {},
   "outputs": [],
   "source": [
    "out2['a']"
   ]
  },
  {
   "cell_type": "code",
   "execution_count": null,
   "id": "3b6d4ec3-5178-4238-bebc-63fa2140898f",
   "metadata": {},
   "outputs": [],
   "source": []
  }
 ],
 "metadata": {
  "kernelspec": {
   "display_name": "Python 3 (ipykernel)",
   "language": "python",
   "name": "python3"
  },
  "language_info": {
   "codemirror_mode": {
    "name": "ipython",
    "version": 3
   },
   "file_extension": ".py",
   "mimetype": "text/x-python",
   "name": "python",
   "nbconvert_exporter": "python",
   "pygments_lexer": "ipython3",
   "version": "3.9.5"
  }
 },
 "nbformat": 4,
 "nbformat_minor": 5
}
