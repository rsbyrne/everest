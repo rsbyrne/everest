{
 "cells": [
  {
   "cell_type": "code",
   "execution_count": null,
   "id": "92323560-d949-4239-ae75-e77723550df9",
   "metadata": {},
   "outputs": [],
   "source": [
    "###############################################################################\n",
    "import aliases"
   ]
  },
  {
   "cell_type": "code",
   "execution_count": null,
   "id": "7fa7bb7a-906b-43e3-a4ab-38b3eb00dcc7",
   "metadata": {},
   "outputs": [],
   "source": [
    "from everest.ptolemaic.chora import *"
   ]
  },
  {
   "cell_type": "code",
   "execution_count": null,
   "id": "9cee4bf6-139b-4497-8164-6d44aad1a5fb",
   "metadata": {},
   "outputs": [],
   "source": [
    "class OrdChora(Chora):\n",
    "    '''Returns the `ord` of a character.'''\n",
    "\n",
    "    def retrieve_string(self, incisor: str, /) -> int:\n",
    "        return ord(incisor)\n",
    "\n",
    "\n",
    "class PowChora(Chora):\n",
    "\n",
    "    FIELDS = ('power',)\n",
    "\n",
    "    def retrieve_num(self, incisor: int) -> int:\n",
    "        return incisor**self.power\n",
    "\n",
    "\n",
    "class ChrChora(Chora):\n",
    "    '''Returns the `chr` of an integer.'''\n",
    "\n",
    "    def retrieve_int(self, incisor: int, /):\n",
    "        return chr(incisor)\n",
    "\n",
    "\n",
    "ChrChora()[PowChora(2)[OrdChora()]]['z']"
   ]
  },
  {
   "cell_type": "code",
   "execution_count": null,
   "id": "ada9a177-fce3-4aab-9242-68c66a26008f",
   "metadata": {},
   "outputs": [],
   "source": [
    "import inspect"
   ]
  },
  {
   "cell_type": "code",
   "execution_count": null,
   "id": "7a0fa3e8-5093-4873-b4aa-a8e4c60096cd",
   "metadata": {},
   "outputs": [],
   "source": [
    "inspect.Parameter"
   ]
  },
  {
   "cell_type": "code",
   "execution_count": null,
   "id": "914d364e-86d9-4124-8cce-e3c0052c145f",
   "metadata": {},
   "outputs": [],
   "source": [
    "import abc as _abc\n",
    "import inspect as _inspect\n",
    "import typing as _typing\n",
    "\n",
    "from everest.ptolemaic.essence import Essence as _Essence\n",
    "from everest.ptolemaic.ptolemaic import Ptolemaic as _Ptolemaic\n",
    "from everest.ptolemaic.armature import Armature as _Armature\n",
    "\n",
    "\n",
    "class Predicate(metaclass=_Essence):\n",
    "\n",
    "    @_abc.abstractmethod\n",
    "    def __call__(self, obj: object, /) -> bool:\n",
    "        ...\n",
    "\n",
    "class IsType(_Armature, Predicate):\n",
    "\n",
    "    _anno = _typing.Union[type, tuple[type]]\n",
    "\n",
    "    FIELDS = (\n",
    "        _inspect.Parameter('included', 0, annotation=_anno),\n",
    "        _inspect.Parameter('excluded', 0, annotation=_anno),\n",
    "        )\n",
    "\n",
    "    def __call__(self, arg, /):\n",
    "        return issubclass(type(arg), self)\n",
    "\n",
    "    def __subclasscheck__(self, other, /):\n",
    "        return all((\n",
    "            issubclass(other, self.included),\n",
    "            not issubclass(other, self.excluded),\n",
    "            ))\n",
    "\n",
    "\n",
    "class Sett(Chora):\n",
    "\n",
    "    ELEMENTTYPE = object\n",
    "    FIELDS = (\n",
    "        _inspect.Parameter(\n",
    "            'predicate', 0,\n",
    "            annotation=Predicate, default=True,\n",
    "            ),\n",
    "        )\n",
    "\n",
    "    @classmethod\n",
    "    def get_retrievefunc(cls, /):\n",
    "        exec('\\n'.join((\n",
    "            f\"def retrieve_contains(self, incisor: cls.ELEMENTTYPE, /):\",\n",
    "            f\"    return \n",
    "            )))\n",
    "\n",
    "    def __class_init__(cls, /):\n",
    "        \n",
    "\n",
    "    def retrieve_typ(self, incisor: object, /):\n",
    "        if self.predicate(incisor):\n",
    "            return incisor\n",
    "        raise KeyError(incisor)\n",
    "\n",
    "\n"
   ]
  },
  {
   "cell_type": "code",
   "execution_count": null,
   "id": "2f4a77c0-19b0-4772-9666-07c43645e784",
   "metadata": {},
   "outputs": [],
   "source": [
    "myabs = IsType(numbers.Number, float) "
   ]
  },
  {
   "cell_type": "code",
   "execution_count": null,
   "id": "474dda88-391b-48b5-b713-bfe27305302a",
   "metadata": {},
   "outputs": [],
   "source": [
    "issubclass(int, myabs)"
   ]
  },
  {
   "cell_type": "code",
   "execution_count": null,
   "id": "fda24150-0905-448d-9c6b-1d751d6105ed",
   "metadata": {},
   "outputs": [],
   "source": [
    "issubclass(float, myabs)"
   ]
  },
  {
   "cell_type": "code",
   "execution_count": null,
   "id": "642f02a7-91cc-4792-b357-583e71ac4fd9",
   "metadata": {},
   "outputs": [],
   "source": [
    "myabs(1.)"
   ]
  },
  {
   "cell_type": "code",
   "execution_count": null,
   "id": "b55937b2-e4f1-4f98-bb09-29a9c733a9fe",
   "metadata": {},
   "outputs": [],
   "source": [
    "all"
   ]
  },
  {
   "cell_type": "code",
   "execution_count": null,
   "id": "41149775-f046-4da4-8375-92e7fa4d5d18",
   "metadata": {},
   "outputs": [],
   "source": [
    "inspect.Parameter("
   ]
  },
  {
   "cell_type": "code",
   "execution_count": null,
   "id": "a1877cca-7152-4b53-beef-e2e6b711c84d",
   "metadata": {},
   "outputs": [],
   "source": [
    "mysett = Sett(IsInstance(int))"
   ]
  }
 ],
 "metadata": {
  "kernelspec": {
   "display_name": "Python 3 (ipykernel)",
   "language": "python",
   "name": "python3"
  },
  "language_info": {
   "codemirror_mode": {
    "name": "ipython",
    "version": 3
   },
   "file_extension": ".py",
   "mimetype": "text/x-python",
   "name": "python",
   "nbconvert_exporter": "python",
   "pygments_lexer": "ipython3",
   "version": "3.9.5"
  }
 },
 "nbformat": 4,
 "nbformat_minor": 5
}
