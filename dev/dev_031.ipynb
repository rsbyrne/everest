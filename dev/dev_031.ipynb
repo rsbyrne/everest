{
 "cells": [
  {
   "cell_type": "code",
   "execution_count": null,
   "id": "53d5e9b5-30ec-4eb4-ace9-3ec69ff7326f",
   "metadata": {},
   "outputs": [],
   "source": [
    "###############################################################################\n",
    "import aliases\n",
    "from everest.utilities import textutils\n",
    "# tuple(textutils.find_all('', path='../everest/ptolemaic'))\n",
    "# textutils.replace_all('Schematic', 'Compound', path='../everest')"
   ]
  },
  {
   "cell_type": "code",
   "execution_count": null,
   "id": "f0e308e4-0fd0-4871-95df-fb2ca5607e34",
   "metadata": {},
   "outputs": [],
   "source": [
    "from everest.ptolemaic import sett, mapp\n",
    "# from everest.ptolemaic import chora"
   ]
  },
  {
   "cell_type": "code",
   "execution_count": null,
   "id": "f29d1365-18de-4e7b-8ea5-da26a388aab4",
   "metadata": {},
   "outputs": [],
   "source": [
    "@mapp\n",
    "def a(arg: str, /) -> str:\n",
    "    return arg * 2\n",
    "@mapp\n",
    "def b(arg: str, /) -> str:\n",
    "    return f\"_{arg}_\"\n",
    "@mapp\n",
    "def c(arg: int, /) -> int:\n",
    "    return arg ** 2\n",
    "@mapp\n",
    "def d(arg: int, /) -> int:\n",
    "    return -arg\n",
    "@mapp\n",
    "def e(arg: object, /) -> tuple[str, object]:\n",
    "    if isinstance(arg, str):\n",
    "        return arg, 'strlike'\n",
    "    if isinstance(arg, int):\n",
    "        return arg, 'intlike'\n",
    "    raise mapp.MappError(arg)\n",
    "f = mapp.StyleMapp(e, dict(strlike=a, intlike=c))\n",
    "display(f)\n",
    "display(f['foo'])\n",
    "display(f[2])"
   ]
  },
  {
   "cell_type": "code",
   "execution_count": null,
   "id": "312decda-7af3-4668-a165-673d233941c1",
   "metadata": {},
   "outputs": [],
   "source": [
    "g = f.sub_compose(dict(strlike=b, intlike=d))\n",
    "display(g)\n",
    "display(g['foo'])\n",
    "display(g[2])"
   ]
  },
  {
   "cell_type": "code",
   "execution_count": null,
   "id": "bd63ac9a-2975-4b4d-8230-a98bdbeb9614",
   "metadata": {},
   "outputs": [],
   "source": [
    "@mapp\n",
    "def mapp1(a: int, b: str, /) -> str:\n",
    "    return a * b\n",
    "\n",
    "@mapp\n",
    "def mapp2(a: int, /) -> int:\n",
    "    return a**2\n",
    "\n",
    "@mapp\n",
    "def mapp3(a: slice, /) -> tuple[object, object, object]:\n",
    "    return a.start, a.stop, a.step\n",
    "\n",
    "@mapp\n",
    "def mapp4(start: int, stop: int, step: int) -> int:\n",
    "    return start * stop * step"
   ]
  }
 ],
 "metadata": {
  "kernelspec": {
   "display_name": "Python 3 (ipykernel)",
   "language": "python",
   "name": "python3"
  },
  "language_info": {
   "codemirror_mode": {
    "name": "ipython",
    "version": 3
   },
   "file_extension": ".py",
   "mimetype": "text/x-python",
   "name": "python",
   "nbconvert_exporter": "python",
   "pygments_lexer": "ipython3",
   "version": "3.9.5"
  }
 },
 "nbformat": 4,
 "nbformat_minor": 5
}
