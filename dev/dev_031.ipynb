{
 "cells": [
  {
   "cell_type": "code",
   "execution_count": null,
   "id": "53d5e9b5-30ec-4eb4-ace9-3ec69ff7326f",
   "metadata": {},
   "outputs": [],
   "source": [
    "###############################################################################\n",
    "import aliases\n",
    "from everest.utilities import textutils\n",
    "# tuple(textutils.find_all('', path='../everest/ptolemaic'))\n",
    "# textutils.replace_all('Schematic', 'Compound', path='../everest')"
   ]
  },
  {
   "cell_type": "code",
   "execution_count": null,
   "id": "f0e308e4-0fd0-4871-95df-fb2ca5607e34",
   "metadata": {},
   "outputs": [],
   "source": [
    "from everest.ptolemaic import sett, mapp"
   ]
  },
  {
   "cell_type": "code",
   "execution_count": null,
   "id": "bd63ac9a-2975-4b4d-8230-a98bdbeb9614",
   "metadata": {},
   "outputs": [],
   "source": [
    "@mapp\n",
    "def mapp1(a: int, b: str, /) -> str:\n",
    "    return a * b"
   ]
  },
  {
   "cell_type": "code",
   "execution_count": null,
   "id": "53e83ade-ec2b-47f7-a5c9-d69f6d77b1cf",
   "metadata": {},
   "outputs": [],
   "source": [
    "mapp1[2, 'foo']"
   ]
  },
  {
   "cell_type": "code",
   "execution_count": null,
   "id": "e72db775-50b4-4fc9-83d7-cc7ff6b04902",
   "metadata": {},
   "outputs": [],
   "source": [
    "@mapp\n",
    "def mapp1(arg: list[int, str], /) -> str:\n",
    "    a, b = arg\n",
    "    return a * b\n",
    "\n",
    "@mapp\n",
    "def mapp2(arg: int, /) -> str:\n",
    "    return arg**2"
   ]
  },
  {
   "cell_type": "code",
   "execution_count": null,
   "id": "bb24ba78-e65d-4bf8-866e-2eb8a40de915",
   "metadata": {},
   "outputs": [],
   "source": [
    "mapp3 = mapp((mapp1, mapp2))"
   ]
  },
  {
   "cell_type": "code",
   "execution_count": null,
   "id": "33c91220-9ea9-48a2-8a4f-347ab2a5dfef",
   "metadata": {},
   "outputs": [],
   "source": [
    "mapp3[[2, 'foo']]"
   ]
  }
 ],
 "metadata": {
  "kernelspec": {
   "display_name": "Python 3 (ipykernel)",
   "language": "python",
   "name": "python3"
  },
  "language_info": {
   "codemirror_mode": {
    "name": "ipython",
    "version": 3
   },
   "file_extension": ".py",
   "mimetype": "text/x-python",
   "name": "python",
   "nbconvert_exporter": "python",
   "pygments_lexer": "ipython3",
   "version": "3.9.5"
  }
 },
 "nbformat": 4,
 "nbformat_minor": 5
}
