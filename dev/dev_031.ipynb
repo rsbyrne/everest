{
 "cells": [
  {
   "cell_type": "code",
   "execution_count": null,
   "id": "53d5e9b5-30ec-4eb4-ace9-3ec69ff7326f",
   "metadata": {},
   "outputs": [],
   "source": [
    "###############################################################################\n",
    "import aliases\n",
    "from everest.utilities import textutils\n",
    "# tuple(textutils.find_all('', path='../everest/ptolemaic'))\n",
    "# textutils.replace_all('Schematic', 'Compound', path='../everest')"
   ]
  },
  {
   "cell_type": "code",
   "execution_count": null,
   "id": "f0e308e4-0fd0-4871-95df-fb2ca5607e34",
   "metadata": {},
   "outputs": [],
   "source": [
    "from everest.ptolemaic import sett, mapp, semaphore"
   ]
  },
  {
   "cell_type": "code",
   "execution_count": null,
   "id": "f29d1365-18de-4e7b-8ea5-da26a388aab4",
   "metadata": {},
   "outputs": [],
   "source": [
    "class Style(metaclass=semaphore.Semaphore):\n",
    "    STRLIKE: None\n",
    "    INTLIKE: None\n",
    "\n",
    "@mapp\n",
    "def a(arg: str, /) -> str:\n",
    "    return arg * 2\n",
    "@mapp\n",
    "def b(arg: str, /) -> str:\n",
    "    return f\"_{arg}_\"\n",
    "@mapp\n",
    "def c(arg: int, /) -> int:\n",
    "    return arg ** 2\n",
    "@mapp\n",
    "def d(arg: int, /) -> int:\n",
    "    return -arg\n",
    "@mapp\n",
    "def e(arg: object, /) -> tuple[str, object]:\n",
    "    if isinstance(arg, str):\n",
    "        return Style.STRLIKE(arg)\n",
    "    if isinstance(arg, int):\n",
    "        return Style.INTLIKE(arg)\n",
    "    raise mapp.MappError(arg)\n",
    "f = mapp.StyleMapp(e, {Style.STRLIKE: a, Style.INTLIKE: c})\n",
    "g = mapp.StyleMapp(e, {Style.STRLIKE: b, Style.INTLIKE: d})\n",
    "display(f)\n",
    "display(f['foo'])\n",
    "display(f[2])\n",
    "display(g)\n",
    "display(g['foo'])\n",
    "display(g[2])\n",
    "h = f.subtend(g)\n",
    "display(h)\n",
    "display(h['foo'])\n",
    "display(h[2])\n",
    "i = a.extend(c)\n",
    "display(i[2])\n",
    "display(i['foo'])"
   ]
  }
 ],
 "metadata": {
  "kernelspec": {
   "display_name": "Python 3 (ipykernel)",
   "language": "python",
   "name": "python3"
  },
  "language_info": {
   "codemirror_mode": {
    "name": "ipython",
    "version": 3
   },
   "file_extension": ".py",
   "mimetype": "text/x-python",
   "name": "python",
   "nbconvert_exporter": "python",
   "pygments_lexer": "ipython3",
   "version": "3.9.5"
  }
 },
 "nbformat": 4,
 "nbformat_minor": 5
}
