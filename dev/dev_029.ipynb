{
 "cells": [
  {
   "cell_type": "code",
   "execution_count": null,
   "id": "fccab75c-9d23-48ce-b7e1-5228bd395d2d",
   "metadata": {},
   "outputs": [],
   "source": [
    "###############################################################################\n",
    "import aliases"
   ]
  },
  {
   "cell_type": "code",
   "execution_count": null,
   "id": "80ac5565-4fd6-452a-8c56-7997d96b7f26",
   "metadata": {},
   "outputs": [],
   "source": [
    "from everest.ptolemaic.sprite import Sprite\n",
    "from everest.ptolemaic.protean import Protean"
   ]
  },
  {
   "cell_type": "code",
   "execution_count": null,
   "id": "c3a92928-12ae-48af-949c-e18b056566cf",
   "metadata": {},
   "outputs": [],
   "source": [
    "class MySprite(metaclass=Sprite):\n",
    "    a: int\n",
    "    b: float\n",
    "\n",
    "\n",
    "class MyProtean(metaclass=Protean):\n",
    "\n",
    "    BasisType = MySprite\n",
    "\n",
    "    _req_slots__ = ('foo', 'bah')\n",
    "    _var_slots__ = ('foo', 'bah')"
   ]
  },
  {
   "cell_type": "code",
   "execution_count": null,
   "id": "88d08a4b-db61-4a4d-af40-1f7614431b22",
   "metadata": {},
   "outputs": [],
   "source": [
    "MySprite(1, 2)"
   ]
  },
  {
   "cell_type": "code",
   "execution_count": null,
   "id": "fa1b829f-4f34-4607-8d0d-1952d4841263",
   "metadata": {},
   "outputs": [],
   "source": [
    "protean = MyProtean(1, 2.)"
   ]
  },
  {
   "cell_type": "code",
   "execution_count": null,
   "id": "e149a8b5-7a65-48af-988b-3feef2125978",
   "metadata": {},
   "outputs": [],
   "source": [
    "protean.foo = 4"
   ]
  },
  {
   "cell_type": "code",
   "execution_count": null,
   "id": "764270de-d32e-4a1f-aa22-a4598ffe121c",
   "metadata": {},
   "outputs": [],
   "source": [
    "protean.epitaph.decode()"
   ]
  },
  {
   "cell_type": "code",
   "execution_count": null,
   "id": "cbd6ddfd-4fd4-471c-80eb-2121cceb837f",
   "metadata": {},
   "outputs": [],
   "source": [
    "from everest.formulaic.schema import Schema\n",
    "from everest.bureau.bureau import Bureau"
   ]
  },
  {
   "cell_type": "code",
   "execution_count": null,
   "id": "34e75e43-dbaa-4cf8-be10-4ec568e31c6f",
   "metadata": {},
   "outputs": [],
   "source": [
    "class MyClass(metaclass=Schema):\n",
    "    ..."
   ]
  },
  {
   "cell_type": "code",
   "execution_count": null,
   "id": "46160dbd-2861-446d-aee5-61a5559a1194",
   "metadata": {},
   "outputs": [],
   "source": [
    "MyClass.drawer.a = 1\n",
    "print(MyClass.drawer, id(MyClass.drawer))\n",
    "with Bureau('Foo'):\n",
    "    MyClass.drawer.a = 2\n",
    "    print(MyClass.drawer, id(MyClass.drawer))\n",
    "print(MyClass.drawer, id(MyClass.drawer))\n",
    "with Bureau('Foo'):\n",
    "    print(MyClass.drawer, id(MyClass.drawer))\n",
    "print(MyClass.drawer, id(MyClass.drawer))\n",
    "bureau = Bureau('Bah')\n",
    "with bureau:\n",
    "    MyClass.drawer.a = 3\n",
    "    print(MyClass.drawer, id(MyClass.drawer))\n",
    "print(MyClass.drawer, id(MyClass.drawer))\n",
    "with bureau:\n",
    "    print(MyClass.drawer, id(MyClass.drawer))\n",
    "print(MyClass.drawer, id(MyClass.drawer))"
   ]
  },
  {
   "cell_type": "code",
   "execution_count": null,
   "id": "ed351c39-f243-4320-921a-2563d475355a",
   "metadata": {},
   "outputs": [],
   "source": [
    "from everest.algebraic.intt import Intt\n",
    "from everest.algebraic.floatt import Floatt"
   ]
  },
  {
   "cell_type": "code",
   "execution_count": null,
   "id": "45bb4ee9-1ed6-40b6-87b0-d20190a8a773",
   "metadata": {},
   "outputs": [],
   "source": [
    "assert (Intt ** 2)[1, 2] in Intt ** 2\n",
    "assert not (Intt ** 2)[1, 2] in Intt ** 3\n",
    "assert not (Floatt ** 2)[1, 2] in Intt ** 2"
   ]
  },
  {
   "cell_type": "code",
   "execution_count": null,
   "id": "284a2937-5216-4c19-af3a-c02bfd8f106c",
   "metadata": {},
   "outputs": [],
   "source": [
    "mapping = Intt ** 2 >> Intt ** 3"
   ]
  },
  {
   "cell_type": "code",
   "execution_count": null,
   "id": "52ad78ca-576d-49a3-9a3e-b837a8066a1d",
   "metadata": {},
   "outputs": [],
   "source": [
    "submapping = mapping[0, 1][2, 3]"
   ]
  },
  {
   "cell_type": "code",
   "execution_count": null,
   "id": "1addeab2-3c85-4ffa-98ee-92c52f752170",
   "metadata": {},
   "outputs": [],
   "source": [
    "submapping[..., 1]"
   ]
  }
 ],
 "metadata": {
  "kernelspec": {
   "display_name": "Python 3 (ipykernel)",
   "language": "python",
   "name": "python3"
  },
  "language_info": {
   "codemirror_mode": {
    "name": "ipython",
    "version": 3
   },
   "file_extension": ".py",
   "mimetype": "text/x-python",
   "name": "python",
   "nbconvert_exporter": "python",
   "pygments_lexer": "ipython3",
   "version": "3.9.5"
  }
 },
 "nbformat": 4,
 "nbformat_minor": 5
}
