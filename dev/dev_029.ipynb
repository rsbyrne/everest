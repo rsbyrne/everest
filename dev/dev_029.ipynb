{
 "cells": [
  {
   "cell_type": "code",
   "execution_count": null,
   "id": "fccab75c-9d23-48ce-b7e1-5228bd395d2d",
   "metadata": {},
   "outputs": [],
   "source": [
    "###############################################################################\n",
    "import aliases"
   ]
  },
  {
   "cell_type": "code",
   "execution_count": null,
   "id": "e2ad2fc1-8a89-48aa-b784-a34d83cd20d7",
   "metadata": {},
   "outputs": [],
   "source": [
    "from everest.algebraic.floatt import Floatt128"
   ]
  },
  {
   "cell_type": "code",
   "execution_count": null,
   "id": "73d6ec28-5b47-4a5d-95e2-32e5a1b7eca6",
   "metadata": {},
   "outputs": [],
   "source": [
    "myvar = (Floatt128 % 3)[0.:1., 0.:1., 0.:1.]"
   ]
  },
  {
   "cell_type": "code",
   "execution_count": null,
   "id": "82e6a3fd-f6ae-4d78-ad76-f91e5f75c6f4",
   "metadata": {},
   "outputs": [],
   "source": [
    "myvar[0.1, 0.2, 0.3]"
   ]
  },
  {
   "cell_type": "code",
   "execution_count": null,
   "id": "9c809ab8-04f6-4c56-b425-62a4322c7600",
   "metadata": {},
   "outputs": [],
   "source": []
  }
 ],
 "metadata": {
  "kernelspec": {
   "display_name": "Python 3 (ipykernel)",
   "language": "python",
   "name": "python3"
  },
  "language_info": {
   "codemirror_mode": {
    "name": "ipython",
    "version": 3
   },
   "file_extension": ".py",
   "mimetype": "text/x-python",
   "name": "python",
   "nbconvert_exporter": "python",
   "pygments_lexer": "ipython3",
   "version": "3.9.5"
  }
 },
 "nbformat": 4,
 "nbformat_minor": 5
}
