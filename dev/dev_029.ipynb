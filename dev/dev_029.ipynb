{
 "cells": [
  {
   "cell_type": "code",
   "execution_count": null,
   "id": "fccab75c-9d23-48ce-b7e1-5228bd395d2d",
   "metadata": {},
   "outputs": [],
   "source": [
    "###############################################################################\n",
    "import aliases"
   ]
  },
  {
   "cell_type": "code",
   "execution_count": null,
   "id": "1ae7c76f-1040-437d-b23f-99eedb76f629",
   "metadata": {},
   "outputs": [],
   "source": [
    "from everest.algebraic.intt import Intt\n",
    "from everest.algebraic.floatt import Floatt\n",
    "from everest.algebraic.brace import Brace\n",
    "from everest.algebraic.thing import Thing\n",
    "\n",
    "from everest.algebraic.armature import (\n",
    "    ArmatureProtocol as _ArmatureProtocol,\n",
    "    )"
   ]
  },
  {
   "cell_type": "code",
   "execution_count": null,
   "id": "cbac92d5-543a-4cce-a96a-4c0cae1ed9d1",
   "metadata": {},
   "outputs": [],
   "source": [
    "Intt % None"
   ]
  },
  {
   "cell_type": "code",
   "execution_count": null,
   "id": "0b17ad22-1d30-42fa-840c-983663045192",
   "metadata": {},
   "outputs": [],
   "source": [
    "Intt @ Floatt @ Thing"
   ]
  },
  {
   "cell_type": "code",
   "execution_count": null,
   "id": "a1657ea5-5dd0-4f3b-96d1-22df4f49190d",
   "metadata": {},
   "outputs": [],
   "source": [
    "(Intt @ Intt[10:])[0]"
   ]
  },
  {
   "cell_type": "code",
   "execution_count": null,
   "id": "955d9d2e-564b-47c5-8634-43307a8f3598",
   "metadata": {},
   "outputs": [],
   "source": [
    "Intt % None"
   ]
  },
  {
   "cell_type": "code",
   "execution_count": null,
   "id": "1fb268e8-f142-45bf-9d00-30210700f348",
   "metadata": {},
   "outputs": [],
   "source": [
    "Intt % ('foo', 'bah')"
   ]
  },
  {
   "cell_type": "code",
   "execution_count": null,
   "id": "c51c18f9-eb91-4035-8329-9567307e3905",
   "metadata": {},
   "outputs": [],
   "source": [
    "_ArmatureProtocol.BRACE(Thing)"
   ]
  },
  {
   "cell_type": "code",
   "execution_count": null,
   "id": "e1dc16e7-f6f9-4f0e-b051-eee1fc44511c",
   "metadata": {},
   "outputs": [],
   "source": [
    "Brace[Intt, Floatt]"
   ]
  },
  {
   "cell_type": "code",
   "execution_count": null,
   "id": "f787f4df-a8bc-46a0-b489-8c247193fb3d",
   "metadata": {},
   "outputs": [],
   "source": [
    "Brace % None"
   ]
  },
  {
   "cell_type": "code",
   "execution_count": null,
   "id": "5809efbe-bc22-43fe-baa7-1f22013e7ebe",
   "metadata": {},
   "outputs": [],
   "source": [
    "Brace[Intt, Intt]"
   ]
  },
  {
   "cell_type": "code",
   "execution_count": null,
   "id": "ad72743a-49bf-41cd-a70f-6ab0527d2eee",
   "metadata": {},
   "outputs": [],
   "source": [
    "(Intt % 3)[0:10]"
   ]
  },
  {
   "cell_type": "code",
   "execution_count": null,
   "id": "5f4dc160-1a7a-4567-bb3b-61b921f72d7f",
   "metadata": {},
   "outputs": [],
   "source": [
    "Intt % ..."
   ]
  },
  {
   "cell_type": "code",
   "execution_count": null,
   "id": "3139657c-8737-4b49-bf8b-924a6167bd8f",
   "metadata": {},
   "outputs": [],
   "source": [
    "Brace.Oid[Intt, Floatt]"
   ]
  },
  {
   "cell_type": "code",
   "execution_count": null,
   "id": "09e4f831-8a5d-402d-8178-79a009b698d4",
   "metadata": {},
   "outputs": [],
   "source": []
  },
  {
   "cell_type": "code",
   "execution_count": null,
   "id": "6a9f9b06-09af-4b68-a673-4720841b94f1",
   "metadata": {},
   "outputs": [],
   "source": [
    "(Thing % 3)[0, 1., 'foo']"
   ]
  },
  {
   "cell_type": "code",
   "execution_count": null,
   "id": "8b5c9d24-db31-4169-9eba-5d9685dff532",
   "metadata": {},
   "outputs": [],
   "source": [
    "class MyClass:\n",
    "    ..."
   ]
  },
  {
   "cell_type": "code",
   "execution_count": null,
   "id": "6461dd11-2c0a-41e2-be01-dbee25491261",
   "metadata": {},
   "outputs": [],
   "source": [
    "MyClass.__class_getitem__"
   ]
  },
  {
   "cell_type": "code",
   "execution_count": null,
   "id": "e9074fd7-6f46-42be-a85e-8305a10f405f",
   "metadata": {},
   "outputs": [],
   "source": []
  }
 ],
 "metadata": {
  "kernelspec": {
   "display_name": "Python 3 (ipykernel)",
   "language": "python",
   "name": "python3"
  },
  "language_info": {
   "codemirror_mode": {
    "name": "ipython",
    "version": 3
   },
   "file_extension": ".py",
   "mimetype": "text/x-python",
   "name": "python",
   "nbconvert_exporter": "python",
   "pygments_lexer": "ipython3",
   "version": "3.9.5"
  }
 },
 "nbformat": 4,
 "nbformat_minor": 5
}
