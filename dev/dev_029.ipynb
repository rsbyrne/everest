{
 "cells": [
  {
   "cell_type": "code",
   "execution_count": null,
   "id": "fccab75c-9d23-48ce-b7e1-5228bd395d2d",
   "metadata": {},
   "outputs": [],
   "source": [
    "###############################################################################\n",
    "import aliases"
   ]
  },
  {
   "cell_type": "code",
   "execution_count": null,
   "id": "958b017c-5e11-441d-8db3-ae5b84261f6f",
   "metadata": {},
   "outputs": [],
   "source": [
    "from everest.algebraic.intt import Intt"
   ]
  },
  {
   "cell_type": "code",
   "execution_count": null,
   "id": "bd806bdc-e87f-4f96-a72e-9d280fff81bb",
   "metadata": {},
   "outputs": [],
   "source": [
    "from everest.bureau import Bureau, GLOBALBUREAU, open_drawer"
   ]
  },
  {
   "cell_type": "code",
   "execution_count": null,
   "id": "f4a243ca-6097-473a-89d5-ba7f09de83c8",
   "metadata": {},
   "outputs": [],
   "source": [
    "print(open_drawer(Intt))\n",
    "with Bureau():\n",
    "    print(open_drawer(Intt))\n",
    "print(open_drawer(Intt))\n",
    "bureau = Bureau()\n",
    "with bureau:\n",
    "    print(open_drawer(Intt))\n",
    "print(open_drawer(Intt))\n",
    "with bureau:\n",
    "    print(open_drawer(Intt))\n",
    "print(open_drawer(Intt))"
   ]
  },
  {
   "cell_type": "code",
   "execution_count": null,
   "id": "ed351c39-f243-4320-921a-2563d475355a",
   "metadata": {},
   "outputs": [],
   "source": [
    "from everest.algebraic.intt import Intt\n",
    "from everest.algebraic.floatt import Floatt"
   ]
  },
  {
   "cell_type": "code",
   "execution_count": null,
   "id": "45bb4ee9-1ed6-40b6-87b0-d20190a8a773",
   "metadata": {},
   "outputs": [],
   "source": [
    "assert (Intt ** 2)[1, 2] in Intt ** 2\n",
    "assert not (Intt ** 2)[1, 2] in Intt ** 3\n",
    "assert not (Floatt ** 2)[1, 2] in Intt ** 2"
   ]
  },
  {
   "cell_type": "code",
   "execution_count": null,
   "id": "284a2937-5216-4c19-af3a-c02bfd8f106c",
   "metadata": {},
   "outputs": [],
   "source": [
    "mapping = Intt ** 2 >> Intt ** 3"
   ]
  },
  {
   "cell_type": "code",
   "execution_count": null,
   "id": "52ad78ca-576d-49a3-9a3e-b837a8066a1d",
   "metadata": {},
   "outputs": [],
   "source": [
    "submapping = mapping[0, 1][2, 3]"
   ]
  },
  {
   "cell_type": "code",
   "execution_count": null,
   "id": "1addeab2-3c85-4ffa-98ee-92c52f752170",
   "metadata": {},
   "outputs": [],
   "source": [
    "submapping[..., 1]"
   ]
  }
 ],
 "metadata": {
  "kernelspec": {
   "display_name": "Python 3 (ipykernel)",
   "language": "python",
   "name": "python3"
  },
  "language_info": {
   "codemirror_mode": {
    "name": "ipython",
    "version": 3
   },
   "file_extension": ".py",
   "mimetype": "text/x-python",
   "name": "python",
   "nbconvert_exporter": "python",
   "pygments_lexer": "ipython3",
   "version": "3.9.5"
  }
 },
 "nbformat": 4,
 "nbformat_minor": 5
}
