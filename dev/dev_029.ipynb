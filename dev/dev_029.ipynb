{
 "cells": [
  {
   "cell_type": "code",
   "execution_count": null,
   "id": "fccab75c-9d23-48ce-b7e1-5228bd395d2d",
   "metadata": {},
   "outputs": [],
   "source": [
    "###############################################################################\n",
    "import aliases"
   ]
  },
  {
   "cell_type": "code",
   "execution_count": null,
   "id": "f8f74f2d-ee92-4b70-9c2b-e7c37fb92367",
   "metadata": {},
   "outputs": [],
   "source": [
    "from everest.algebraic.fundament import Fundament"
   ]
  },
  {
   "cell_type": "code",
   "execution_count": null,
   "id": "55c090eb-a521-4160-8435-602f5bca067e",
   "metadata": {},
   "outputs": [],
   "source": [
    "from everest.algebraic.thing import Thing"
   ]
  },
  {
   "cell_type": "code",
   "execution_count": null,
   "id": "57d6412d-841c-4a96-bfc5-2fadfaa9a097",
   "metadata": {},
   "outputs": [],
   "source": [
    "from everest.algebraic.chora import Chora\n",
    "from everest.ptolemaic.essence import Essence"
   ]
  },
  {
   "cell_type": "code",
   "execution_count": null,
   "id": "8e15c8b2-76c8-43f6-997c-e24818fabe8e",
   "metadata": {},
   "outputs": [],
   "source": [
    "class MyClass(Chora):\n",
    "\n",
    "    class Degenerate(metaclass=Essence):\n",
    "        MYATTRIBUTE=1"
   ]
  },
  {
   "cell_type": "code",
   "execution_count": null,
   "id": "63cba71d-9ab3-4da7-8916-7ebbb96dd6e4",
   "metadata": {},
   "outputs": [],
   "source": [
    "MyClass.Degenerate.__mro__"
   ]
  },
  {
   "cell_type": "code",
   "execution_count": null,
   "id": "7fb5500a-a088-4995-9d3d-95f094cf8618",
   "metadata": {},
   "outputs": [],
   "source": [
    "from everest.algebraic.intt import Intt"
   ]
  },
  {
   "cell_type": "code",
   "execution_count": null,
   "id": "c1beeff0-d6b4-440f-862d-6d5936e2e70b",
   "metadata": {},
   "outputs": [],
   "source": [
    "Intt.Oid.Degenerate.__mro__"
   ]
  },
  {
   "cell_type": "code",
   "execution_count": null,
   "id": "43be9654-b995-4a80-ba87-543166d85cb1",
   "metadata": {},
   "outputs": [],
   "source": [
    "Intt.Oid.LowerBound.Degenerate.MYATTRIBUTE"
   ]
  },
  {
   "cell_type": "code",
   "execution_count": null,
   "id": "019312c0-3a1e-4d51-872e-c94e23a5e0a4",
   "metadata": {},
   "outputs": [],
   "source": [
    "Intt[0:2]"
   ]
  },
  {
   "cell_type": "code",
   "execution_count": null,
   "id": "96acabc0-aaa6-4fe9-9687-2c9ed40ce5ca",
   "metadata": {},
   "outputs": [],
   "source": []
  },
  {
   "cell_type": "code",
   "execution_count": null,
   "id": "2fa58c4e-6cab-4941-8fdd-3cbbccdaeb97",
   "metadata": {},
   "outputs": [],
   "source": [
    "\n",
    "\n",
    "from everest.algebraic.number import Number\n",
    "from everest.algebraic.thing import Thing"
   ]
  },
  {
   "cell_type": "code",
   "execution_count": null,
   "id": "a5f86ff4-d50a-4518-b232-cdde5c69d610",
   "metadata": {},
   "outputs": [],
   "source": [
    "class MyClass(Number, Thing):\n",
    "\n",
    "    class Oid(metaclass=Essence):\n",
    "\n",
    "        class Brace(metaclass=Essence):\n",
    "\n",
    "            class Oid(metaclass=Essence):\n",
    "                bah = 'mangos'\n",
    "\n",
    "                class Form(metaclass=Essence):\n",
    "                    \n",
    "\n",
    "                    class Symmetric(metaclass=Essence):\n",
    "                        foo = 'bananas'"
   ]
  },
  {
   "cell_type": "code",
   "execution_count": null,
   "id": "13fc5de2-4653-4fc4-b138-c2b7a58cc67b",
   "metadata": {},
   "outputs": [],
   "source": [
    "MyClass.Oid.Brace.Oid.bah"
   ]
  },
  {
   "cell_type": "code",
   "execution_count": null,
   "id": "8380e881-8f57-45a1-ba3c-75933ad8c1f6",
   "metadata": {},
   "outputs": [],
   "source": [
    "MyClass.Oid.Brace.Oid.Symmetric.foo"
   ]
  },
  {
   "cell_type": "code",
   "execution_count": null,
   "id": "dbc20cab-647e-4173-865d-b8f67ac86241",
   "metadata": {},
   "outputs": [],
   "source": []
  },
  {
   "cell_type": "code",
   "execution_count": null,
   "id": "d23b7260-c694-40e0-aec2-62c2b9283843",
   "metadata": {},
   "outputs": [],
   "source": [
    "from everest.ptolemaic.essence import Essence\n",
    "\n",
    "class A(metaclass=Essence):\n",
    "\n",
    "    SUBCLASSES = ('B',)\n",
    "\n",
    "    class B(metaclass=Essence):\n",
    "\n",
    "        MROCLASSES = ('C',)\n",
    "\n",
    "        class C(metaclass=Essence):\n",
    "\n",
    "            MROCLASSES = ('D')\n",
    "\n",
    "            class D(metaclass=Essence):\n",
    "                ...\n",
    "\n",
    "class E(A):\n",
    "\n",
    "    class B(metaclass=Essence):\n",
    "        foo = 1\n",
    "\n",
    "        class C(metaclass=Essence):\n",
    "            bah = 2\n",
    "\n",
    "            class D(metaclass=Essence):\n",
    "                boo = 3"
   ]
  },
  {
   "cell_type": "code",
   "execution_count": null,
   "id": "e8c1518d-c52f-4d66-9e9d-54f459238748",
   "metadata": {},
   "outputs": [],
   "source": [
    "E.B.foo"
   ]
  },
  {
   "cell_type": "code",
   "execution_count": null,
   "id": "58336f26-2055-4fdf-83dc-4fb01c887792",
   "metadata": {},
   "outputs": [],
   "source": [
    "E.B.C.bah"
   ]
  },
  {
   "cell_type": "code",
   "execution_count": null,
   "id": "d9561d54-63dd-413d-81a6-53c36f593837",
   "metadata": {},
   "outputs": [],
   "source": [
    "E.B.C.D.boo"
   ]
  },
  {
   "cell_type": "code",
   "execution_count": null,
   "id": "9a82eae8-1d03-4b68-92f8-63ab84baa348",
   "metadata": {},
   "outputs": [],
   "source": []
  },
  {
   "cell_type": "code",
   "execution_count": null,
   "id": "bba81f8f-0c19-4118-95d0-8d8d13a7d3b7",
   "metadata": {},
   "outputs": [],
   "source": [
    "Intt.Oid.Brace.Symmetric"
   ]
  },
  {
   "cell_type": "code",
   "execution_count": null,
   "id": "1ae7c76f-1040-437d-b23f-99eedb76f629",
   "metadata": {},
   "outputs": [],
   "source": [
    "from everest.algebraic.intt import Intt\n",
    "from everest.algebraic.floatt import Floatt\n",
    "from everest.algebraic.brace import Brace\n",
    "from everest.algebraic.thing import Thing"
   ]
  },
  {
   "cell_type": "code",
   "execution_count": null,
   "id": "0451d4b0-c978-403d-8676-2c18ab82a835",
   "metadata": {},
   "outputs": [],
   "source": [
    "from everest.algebraic.chora import Chora\n",
    "from everest.incision import Incisable"
   ]
  },
  {
   "cell_type": "code",
   "execution_count": null,
   "id": "3d87c90d-0af3-42fa-af0d-342afa997f0d",
   "metadata": {},
   "outputs": [],
   "source": [
    "isinstance(Intt, Chora)"
   ]
  },
  {
   "cell_type": "code",
   "execution_count": null,
   "id": "d1c47f48-99bc-42c8-9340-a81566d797bb",
   "metadata": {},
   "outputs": [],
   "source": [
    "isinstance(Intt, Incisable)"
   ]
  },
  {
   "cell_type": "code",
   "execution_count": null,
   "id": "cbac92d5-543a-4cce-a96a-4c0cae1ed9d1",
   "metadata": {},
   "outputs": [],
   "source": [
    "Intt % None"
   ]
  },
  {
   "cell_type": "code",
   "execution_count": null,
   "id": "0b17ad22-1d30-42fa-840c-983663045192",
   "metadata": {},
   "outputs": [],
   "source": [
    "Intt @ Floatt @ Thing"
   ]
  },
  {
   "cell_type": "code",
   "execution_count": null,
   "id": "a1657ea5-5dd0-4f3b-96d1-22df4f49190d",
   "metadata": {},
   "outputs": [],
   "source": [
    "(Intt @ Intt[10:])[0]"
   ]
  },
  {
   "cell_type": "code",
   "execution_count": null,
   "id": "f333d65d-cb6f-4dd7-8bfd-00a238383a30",
   "metadata": {},
   "outputs": [],
   "source": [
    "Floatt[0:10:2]"
   ]
  },
  {
   "cell_type": "code",
   "execution_count": null,
   "id": "955d9d2e-564b-47c5-8634-43307a8f3598",
   "metadata": {},
   "outputs": [],
   "source": [
    "Intt % None"
   ]
  },
  {
   "cell_type": "code",
   "execution_count": null,
   "id": "1fb268e8-f142-45bf-9d00-30210700f348",
   "metadata": {},
   "outputs": [],
   "source": [
    "Intt % ('foo', 'bah')"
   ]
  },
  {
   "cell_type": "code",
   "execution_count": null,
   "id": "c51c18f9-eb91-4035-8329-9567307e3905",
   "metadata": {},
   "outputs": [],
   "source": [
    "_ArmatureProtocol.BRACE(Thing)"
   ]
  },
  {
   "cell_type": "code",
   "execution_count": null,
   "id": "e1dc16e7-f6f9-4f0e-b051-eee1fc44511c",
   "metadata": {},
   "outputs": [],
   "source": [
    "Brace[Intt, Floatt]"
   ]
  },
  {
   "cell_type": "code",
   "execution_count": null,
   "id": "f787f4df-a8bc-46a0-b489-8c247193fb3d",
   "metadata": {},
   "outputs": [],
   "source": [
    "Brace % None"
   ]
  },
  {
   "cell_type": "code",
   "execution_count": null,
   "id": "5809efbe-bc22-43fe-baa7-1f22013e7ebe",
   "metadata": {},
   "outputs": [],
   "source": [
    "Brace[Intt, Intt]"
   ]
  },
  {
   "cell_type": "code",
   "execution_count": null,
   "id": "ad72743a-49bf-41cd-a70f-6ab0527d2eee",
   "metadata": {},
   "outputs": [],
   "source": [
    "(Intt % 3)[0:10]"
   ]
  },
  {
   "cell_type": "code",
   "execution_count": null,
   "id": "5f4dc160-1a7a-4567-bb3b-61b921f72d7f",
   "metadata": {},
   "outputs": [],
   "source": [
    "Intt % ..."
   ]
  },
  {
   "cell_type": "code",
   "execution_count": null,
   "id": "3139657c-8737-4b49-bf8b-924a6167bd8f",
   "metadata": {},
   "outputs": [],
   "source": [
    "Brace.Oid[Intt, Floatt]"
   ]
  },
  {
   "cell_type": "code",
   "execution_count": null,
   "id": "09e4f831-8a5d-402d-8178-79a009b698d4",
   "metadata": {},
   "outputs": [],
   "source": []
  },
  {
   "cell_type": "code",
   "execution_count": null,
   "id": "6a9f9b06-09af-4b68-a673-4720841b94f1",
   "metadata": {},
   "outputs": [],
   "source": [
    "(Thing % 3)[0, 1., 'foo']"
   ]
  },
  {
   "cell_type": "code",
   "execution_count": null,
   "id": "8b5c9d24-db31-4169-9eba-5d9685dff532",
   "metadata": {},
   "outputs": [],
   "source": [
    "class MyClass:\n",
    "    ..."
   ]
  },
  {
   "cell_type": "code",
   "execution_count": null,
   "id": "6461dd11-2c0a-41e2-be01-dbee25491261",
   "metadata": {},
   "outputs": [],
   "source": [
    "MyClass.__class_getitem__"
   ]
  },
  {
   "cell_type": "code",
   "execution_count": null,
   "id": "e9074fd7-6f46-42be-a85e-8305a10f405f",
   "metadata": {},
   "outputs": [],
   "source": []
  }
 ],
 "metadata": {
  "kernelspec": {
   "display_name": "Python 3 (ipykernel)",
   "language": "python",
   "name": "python3"
  },
  "language_info": {
   "codemirror_mode": {
    "name": "ipython",
    "version": 3
   },
   "file_extension": ".py",
   "mimetype": "text/x-python",
   "name": "python",
   "nbconvert_exporter": "python",
   "pygments_lexer": "ipython3",
   "version": "3.9.5"
  }
 },
 "nbformat": 4,
 "nbformat_minor": 5
}
