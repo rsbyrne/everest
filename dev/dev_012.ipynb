{
 "cells": [
  {
   "cell_type": "code",
   "execution_count": null,
   "id": "b1778367-1b1b-4bae-bba5-d2b9bb711476",
   "metadata": {},
   "outputs": [],
   "source": [
    "import aliases"
   ]
  },
  {
   "cell_type": "code",
   "execution_count": null,
   "id": "3d836c73-d8ba-4136-8d1a-f2418e2e2dba",
   "metadata": {},
   "outputs": [],
   "source": [
    "from everest.ptolemaic.ptolemaic import Ptolemaic\n",
    "from everest.ptolemaic.schema import Schema\n",
    "from everest.ptolemaic.system import System\n",
    "from everest.ptolemaic.params import Param"
   ]
  },
  {
   "cell_type": "code",
   "execution_count": null,
   "id": "857abc68-faf2-49e5-8869-257b15e3d7ab",
   "metadata": {},
   "outputs": [],
   "source": [
    "from everest.ptolemaic.intt import Intt\n",
    "\n",
    "print(repr(Intt(1)))\n",
    "print(repr(Intt[1:10]))\n",
    "\n",
    "class MyClass(Ptolemaic):\n",
    "\n",
    "    _req_slots__ = ('arg',)\n",
    "\n",
    "    def __init__(self, arg, /):\n",
    "        self.arg = arg\n",
    "\n",
    "print(repr(MyClass((1, 2))))"
   ]
  },
  {
   "cell_type": "code",
   "execution_count": null,
   "id": "e0d8773e-4607-4a77-aff6-11fa30f5f61e",
   "metadata": {},
   "outputs": [],
   "source": [
    "class MySys(System):\n",
    "    a: Param[int]"
   ]
  },
  {
   "cell_type": "code",
   "execution_count": null,
   "id": "0d0d11c8-05d9-43f3-8d00-473d004a7a36",
   "metadata": {},
   "outputs": [],
   "source": [
    "MySys(1)"
   ]
  },
  {
   "cell_type": "code",
   "execution_count": null,
   "id": "43bd38cf-222f-482a-ab1a-f2ad4323a572",
   "metadata": {},
   "outputs": [],
   "source": [
    "import inspect\n",
    "import importlib"
   ]
  },
  {
   "cell_type": "code",
   "execution_count": null,
   "id": "5f0a8301-0bac-45ec-8b9b-a928c73ab59d",
   "metadata": {},
   "outputs": [],
   "source": [
    "importlib."
   ]
  },
  {
   "cell_type": "code",
   "execution_count": null,
   "id": "d8c7b158-093b-4f6a-bdd6-7e7b6d223ad3",
   "metadata": {},
   "outputs": [],
   "source": [
    "mymod = importlib.import_module('everest.ptolemaic.sprite')"
   ]
  },
  {
   "cell_type": "code",
   "execution_count": null,
   "id": "3012dd2e-40f3-4790-b46f-b9ea8a82d9d2",
   "metadata": {},
   "outputs": [],
   "source": [
    "from everest.ptolemaic.hypostasis import Hypostasis"
   ]
  },
  {
   "cell_type": "code",
   "execution_count": null,
   "id": "3f80d91d-9231-469e-b860-e147879c1a32",
   "metadata": {},
   "outputs": [],
   "source": [
    "class ClassConstructor(Hypostasis):\n",
    "    ...\n",
    "\n",
    "\n",
    "class StaticConstructor(ClassConstructor):\n",
    "\n",
    "    _req_slots__ = ('path', 'name')\n",
    "\n",
    "    def __init__("
   ]
  },
  {
   "cell_type": "code",
   "execution_count": null,
   "id": "0df287e6-c275-42d7-8be9-f8ea4568663c",
   "metadata": {},
   "outputs": [],
   "source": [
    "import weakref as _weakref\n",
    "\n",
    "\n",
    "class DynamicConstructor(Ptolemaic, ClassConstructor):\n",
    "\n",
    "    _req_slots__ = ('bases', 'namespace')\n",
    "\n",
    "    preclasses = _weakref.WeakValueDictionary()\n",
    "\n",
    "    @classmethod\n",
    "    def parameterise(cls, register, bases, namespace, /):\n",
    "        register(\n",
    "            tuple(bases),\n",
    "            dict(namespace),\n",
    "            )\n",
    "\n",
    "    def __init__(self, bases, namespace, /):\n",
    "        self.bases, self.namespace = bases, namespace\n",
    "\n",
    "    @classmethod\n",
    "    def __class_getitem__(cls, arg, /):\n",
    "        return self.preclasses[arg]\n",
    "\n",
    "    def __call__(self, /):\n",
    "        hashcode = self.hashID\n",
    "        if hashcode in (dct := type(self).preclasses):\n",
    "            return dct[hashcode]\n",
    "        return type(hashcode, self.bases._obj, self.namespace._obj)"
   ]
  },
  {
   "cell_type": "code",
   "execution_count": null,
   "id": "7015debb-d345-4239-ade4-e8ce7f9e522b",
   "metadata": {},
   "outputs": [],
   "source": [
    "mycon = SchemaConstructor((), {})"
   ]
  },
  {
   "cell_type": "code",
   "execution_count": null,
   "id": "0ba686ab-39e8-48a5-b261-222dd35f98a7",
   "metadata": {},
   "outputs": [],
   "source": [
    "myobj = mycon()"
   ]
  },
  {
   "cell_type": "code",
   "execution_count": null,
   "id": "803f0962-bb95-4ea7-ba9d-bb2dc91fb9b5",
   "metadata": {},
   "outputs": [],
   "source": [
    "myobj"
   ]
  },
  {
   "cell_type": "code",
   "execution_count": null,
   "id": "1503cbee-93e8-41f0-98e4-972894e24739",
   "metadata": {},
   "outputs": [],
   "source": [
    "Schema"
   ]
  }
 ],
 "metadata": {
  "kernelspec": {
   "display_name": "Python 3 (ipykernel)",
   "language": "python",
   "name": "python3"
  },
  "language_info": {
   "codemirror_mode": {
    "name": "ipython",
    "version": 3
   },
   "file_extension": ".py",
   "mimetype": "text/x-python",
   "name": "python",
   "nbconvert_exporter": "python",
   "pygments_lexer": "ipython3",
   "version": "3.9.5"
  }
 },
 "nbformat": 4,
 "nbformat_minor": 5
}
