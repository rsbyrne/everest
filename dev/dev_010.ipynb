{
 "cells": [
  {
   "cell_type": "code",
   "execution_count": null,
   "id": "b733065c-f58c-4ea1-9d94-61b3fc6070a2",
   "metadata": {},
   "outputs": [],
   "source": [
    "import aliases"
   ]
  },
  {
   "cell_type": "code",
   "execution_count": null,
   "id": "43480299-8ff2-4a38-b6bf-c27622502c73",
   "metadata": {},
   "outputs": [],
   "source": [
    "from abc import ABCMeta as _ABCMeta, abstractmethod as _abstractmethod"
   ]
  },
  {
   "cell_type": "code",
   "execution_count": null,
   "id": "6810177f-b0ff-482d-b5d1-12c6f0a3fa3c",
   "metadata": {},
   "outputs": [],
   "source": []
  }
 ],
 "metadata": {
  "kernelspec": {
   "display_name": "Python 3 (ipykernel)",
   "language": "python",
   "name": "python3"
  },
  "language_info": {
   "codemirror_mode": {
    "name": "ipython",
    "version": 3
   },
   "file_extension": ".py",
   "mimetype": "text/x-python",
   "name": "python",
   "nbconvert_exporter": "python",
   "pygments_lexer": "ipython3",
   "version": "3.9.5"
  }
 },
 "nbformat": 4,
 "nbformat_minor": 5
}
