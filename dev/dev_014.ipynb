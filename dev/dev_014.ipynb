{
 "cells": [
  {
   "cell_type": "code",
   "execution_count": null,
   "id": "c8c01368-8bb7-48c6-9c83-6b8f99cc7beb",
   "metadata": {},
   "outputs": [],
   "source": [
    "###############################################################################\n",
    "import aliases"
   ]
  },
  {
   "cell_type": "code",
   "execution_count": null,
   "id": "f84123c0-956c-40d5-8c7e-6bcdfab70312",
   "metadata": {},
   "outputs": [],
   "source": [
    "from everest.ptolemaic.intt import Intt"
   ]
  },
  {
   "cell_type": "code",
   "execution_count": null,
   "id": "7d5ad6d9-648b-4f72-8752-db5a77cb6d7e",
   "metadata": {},
   "outputs": [],
   "source": [
    "Intt[10:20][-5:][-2]"
   ]
  },
  {
   "cell_type": "code",
   "execution_count": null,
   "id": "1f2eff3e-e42c-4997-a795-57b5a33e9c87",
   "metadata": {},
   "outputs": [],
   "source": [
    "from everest.ptolemaic.ptolemaic import Ptolemaic as _Ptolemaic\n",
    "from everest.ptolemaic.chora import (\n",
    "    Sliceable as _Sliceable, Incisable as _Incisable\n",
    "    )\n",
    "from everest.ptolemaic.chora import NotNone as _NotNone\n",
    "\n",
    "class MyChora(_Sliceable):\n",
    "\n",
    "    def _retrieve_contains_(self, incisor: int, /) -> int:\n",
    "        return incisor**2\n",
    "\n",
    "    def _incise_slice_(self,\n",
    "            start: _NotNone, stop: _NotNone, step: _NotNone, /\n",
    "            ):\n",
    "        return (start, stop, step)\n",
    "\n",
    "\n",
    "class MyPtol(_Ptolemaic, _Incisable):\n",
    "\n",
    "    Chora = MyChora\n",
    "\n",
    "    def incise(self, incisor, /):\n",
    "        return f\"Incised {self} by {incisor}\"\n",
    "\n",
    "#     def retrieve(self, incisor, /):\n",
    "#         return f\"Retrieved {incisor} from {self}\""
   ]
  },
  {
   "cell_type": "code",
   "execution_count": null,
   "id": "238445e2-3d3e-4793-95c5-f8b8fd94998a",
   "metadata": {},
   "outputs": [],
   "source": [
    "myobj = MyPtol()"
   ]
  },
  {
   "cell_type": "code",
   "execution_count": null,
   "id": "5badc272-a543-4725-aa97-80788be30a37",
   "metadata": {},
   "outputs": [],
   "source": [
    "myobj[2:4:6]"
   ]
  },
  {
   "cell_type": "code",
   "execution_count": null,
   "id": "cf8dd6ae-cb80-4bea-b853-552aab25cdfc",
   "metadata": {},
   "outputs": [],
   "source": [
    "myobj[2]"
   ]
  },
  {
   "cell_type": "code",
   "execution_count": null,
   "id": "c5ff65fe-5a4f-4cc9-b95b-a11e5b03aaf7",
   "metadata": {},
   "outputs": [],
   "source": [
    "myobj = MyChora()"
   ]
  },
  {
   "cell_type": "code",
   "execution_count": null,
   "id": "0a3e8f55-0829-4ae4-a7bb-ae30625d04c0",
   "metadata": {},
   "outputs": [],
   "source": [
    "myobj.chora.__getitem__"
   ]
  },
  {
   "cell_type": "code",
   "execution_count": null,
   "id": "3213acad-92b1-4373-8943-f7b7897cb884",
   "metadata": {},
   "outputs": [],
   "source": [
    "issubclass(int, NotNone)"
   ]
  },
  {
   "cell_type": "code",
   "execution_count": null,
   "id": "552c717f-8038-4ede-9b6d-4b5887b475f8",
   "metadata": {},
   "outputs": [],
   "source": [
    "issubclass(NotNone, int)"
   ]
  },
  {
   "cell_type": "code",
   "execution_count": null,
   "id": "41e757ee-fe48-412c-ab6c-f8b115e93b65",
   "metadata": {},
   "outputs": [],
   "source": [
    "class MyClass:\n",
    "\n",
    "    @classmethod\n",
    "    def __subclasscheck__(cls, other, /):\n",
    "        print('hello')"
   ]
  },
  {
   "cell_type": "code",
   "execution_count": null,
   "id": "71dce0fc-ae86-4f9d-a434-6e98b937fa15",
   "metadata": {},
   "outputs": [],
   "source": [
    "issubclass(int, MyClass)"
   ]
  },
  {
   "cell_type": "code",
   "execution_count": null,
   "id": "501da4a3-49d9-4b39-a4ba-43c6d3ed2f90",
   "metadata": {},
   "outputs": [],
   "source": [
    "issubclass(int, NotNone)"
   ]
  },
  {
   "cell_type": "code",
   "execution_count": null,
   "id": "100ec8f1-0144-4135-a09b-7f32dcf1410a",
   "metadata": {},
   "outputs": [],
   "source": [
    "import abc as _abc\n",
    "\n",
    "\n",
    "class Null(_abc.ABC):\n",
    "\n",
    "    @classmethod\n",
    "    def __subclasscheck__(cls, arg, /):\n",
    "        return True"
   ]
  },
  {
   "cell_type": "code",
   "execution_count": null,
   "id": "aefbaab7-615c-4887-875c-2ffef23a60ff",
   "metadata": {},
   "outputs": [],
   "source": [
    "isinstance(1, Null)"
   ]
  },
  {
   "cell_type": "code",
   "execution_count": null,
   "id": "6bab5d89-5226-4904-a3d6-030945b5ba03",
   "metadata": {},
   "outputs": [],
   "source": []
  },
  {
   "cell_type": "code",
   "execution_count": null,
   "id": "787b10aa-f87f-4794-b298-37ee4a2a7b35",
   "metadata": {},
   "outputs": [],
   "source": [
    "issubclass(int, NotNone)"
   ]
  },
  {
   "cell_type": "code",
   "execution_count": null,
   "id": "f16b8e9d-0849-4679-b497-5b7610137694",
   "metadata": {},
   "outputs": [],
   "source": [
    "myobj[2:3:4]"
   ]
  },
  {
   "cell_type": "code",
   "execution_count": null,
   "id": "069e2f43-d23c-427d-89ad-c6318f9973b4",
   "metadata": {},
   "outputs": [],
   "source": []
  },
  {
   "cell_type": "code",
   "execution_count": null,
   "id": "efb7d797-e6b4-4f73-b1e3-607baba413dd",
   "metadata": {},
   "outputs": [],
   "source": [
    "class MyClass:\n",
    "\n",
    "    def __getitem__(self, arg, /):\n",
    "        '''Placeholder.'''\n",
    "        print('Foo!')\n",
    "\n",
    "\n",
    "def __getitem__(self, arg, /):\n",
    "    return arg**2\n",
    "\n",
    "\n",
    "myobj = MyClass()\n",
    "myobj.__getitem__ = __getitem__\n",
    "myobj[2]"
   ]
  },
  {
   "cell_type": "code",
   "execution_count": null,
   "id": "7efc0674-39f8-44b1-aa3c-278033ee8f02",
   "metadata": {},
   "outputs": [],
   "source": []
  }
 ],
 "metadata": {
  "kernelspec": {
   "display_name": "Python 3 (ipykernel)",
   "language": "python",
   "name": "python3"
  },
  "language_info": {
   "codemirror_mode": {
    "name": "ipython",
    "version": 3
   },
   "file_extension": ".py",
   "mimetype": "text/x-python",
   "name": "python",
   "nbconvert_exporter": "python",
   "pygments_lexer": "ipython3",
   "version": "3.9.5"
  }
 },
 "nbformat": 4,
 "nbformat_minor": 5
}
