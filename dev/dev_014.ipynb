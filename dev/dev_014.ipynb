{
 "cells": [
  {
   "cell_type": "code",
   "execution_count": null,
   "id": "c8c01368-8bb7-48c6-9c83-6b8f99cc7beb",
   "metadata": {},
   "outputs": [],
   "source": [
    "import aliases"
   ]
  },
  {
   "cell_type": "code",
   "execution_count": null,
   "id": "043e6697-dac3-426b-b47b-1685ba61c1ae",
   "metadata": {},
   "outputs": [],
   "source": [
    "from everest.ptolemaic.chora import Chora, Sliceable"
   ]
  },
  {
   "cell_type": "code",
   "execution_count": null,
   "id": "163e1168-8ac7-473d-83f7-0084f1be51b8",
   "metadata": {},
   "outputs": [],
   "source": []
  },
  {
   "cell_type": "code",
   "execution_count": null,
   "id": "0ce0f539-8cda-4a38-a591-dbfab169c587",
   "metadata": {},
   "outputs": [],
   "source": []
  },
  {
   "cell_type": "code",
   "execution_count": null,
   "id": "ef331b6a-4b6f-4378-87ae-f5f885b2270a",
   "metadata": {},
   "outputs": [],
   "source": []
  },
  {
   "cell_type": "code",
   "execution_count": null,
   "id": "839cf2dd-b15b-477f-846f-f803d9468591",
   "metadata": {},
   "outputs": [],
   "source": []
  },
  {
   "cell_type": "code",
   "execution_count": null,
   "id": "b6afbd52-5b14-4233-b907-e8a673b434c0",
   "metadata": {},
   "outputs": [],
   "source": [
    "from everest.ptolemaic.intt import Intt"
   ]
  },
  {
   "cell_type": "code",
   "execution_count": null,
   "id": "aa3b1ae3-b18f-4055-ad8a-98d9ef4aeb3d",
   "metadata": {},
   "outputs": [],
   "source": [
    "Intt[0]"
   ]
  },
  {
   "cell_type": "code",
   "execution_count": null,
   "id": "94c546d1-a4bb-4990-b707-05a53629049c",
   "metadata": {},
   "outputs": [],
   "source": []
  },
  {
   "cell_type": "code",
   "execution_count": null,
   "id": "554d9546-3784-4685-8bf2-2ad31fbc7334",
   "metadata": {},
   "outputs": [],
   "source": [
    "from everest.ptolemaic.ptolemaic import Ptolemaic\n",
    "from everest.ptolemaic.eidos import Eidos\n",
    "from everest.ptolemaic.chora import Chora\n",
    "from everest.ptolemaic.sprite import Sprite\n",
    "from everest.utilities import caching"
   ]
  },
  {
   "cell_type": "code",
   "execution_count": null,
   "id": "c2ac5a18-d3a4-433c-bcfa-a8b1aa70405e",
   "metadata": {},
   "outputs": [],
   "source": [
    "class MyChora(Sprite, Chora):\n",
    "\n",
    "    _req_slots__ = ('_prefix',)\n",
    "\n",
    "    def __init__(self, prefix: str, /):\n",
    "        self._prefix = prefix\n",
    "        super().__init__()\n",
    "\n",
    "    @property\n",
    "    @caching.soft_cache()\n",
    "    def prefix(self, /):\n",
    "        return f\"{self._prefix}_\"\n",
    "\n",
    "    def _retrieve_contains_(self, retriever: str, /) -> str:\n",
    "        prefix = self.prefix\n",
    "        if retriever.startswith(prefix):\n",
    "            return retriever.removeprefix(prefix)\n",
    "        return super()._retrieve_contains_(retriever)\n",
    "\n",
    "\n",
    "mychora = MyChora('foo')"
   ]
  },
  {
   "cell_type": "code",
   "execution_count": null,
   "id": "de7c5154-e471-48e7-958c-b3c274cdd5d2",
   "metadata": {},
   "outputs": [],
   "source": [
    "class MyClass(Sprite, metaclass=Eidos):\n",
    "\n",
    "    prefix = 'foo'\n",
    "\n",
    "    @classmethod\n",
    "    def _get_clschora(cls, /) -> Chora:\n",
    "        return MyChora(cls.prefix)\n",
    "\n",
    "    @classmethod\n",
    "    def class_trivial(cls, _, /):\n",
    "        print(\"Called!\")\n",
    "        return cls\n",
    "\n",
    "    @classmethod\n",
    "    def class_retrieve(cls, retriever, /):\n",
    "        return cls(retriever)\n",
    "\n",
    "    @classmethod\n",
    "    def class_incise(cls, incisor, /):\n",
    "        raise NotImplementedError\n",
    "\n",
    "    _req_slots__ = ('strn',)\n",
    "\n",
    "    def __init__(self, strn: str, /):\n",
    "        self.strn = strn\n",
    "\n",
    "    def __str__(self, /):\n",
    "        return self.strn"
   ]
  },
  {
   "cell_type": "code",
   "execution_count": null,
   "id": "20cd1aba-0ad4-4c35-8516-3e64e034afef",
   "metadata": {},
   "outputs": [],
   "source": [
    "MyClass[...]"
   ]
  },
  {
   "cell_type": "code",
   "execution_count": null,
   "id": "25d2bc3c-dde6-401b-9d8d-62dfb70360fd",
   "metadata": {},
   "outputs": [],
   "source": [
    "MyClass.clschora.retrieve_contains"
   ]
  },
  {
   "cell_type": "code",
   "execution_count": null,
   "id": "e8e06c6e-2158-4133-b514-81074da9647a",
   "metadata": {},
   "outputs": [],
   "source": [
    "MyClass.class_retrieve_contains('foo_bah')"
   ]
  },
  {
   "cell_type": "code",
   "execution_count": null,
   "id": "475e08b2-015b-48dc-be78-9a0e44c37e52",
   "metadata": {},
   "outputs": [],
   "source": []
  },
  {
   "cell_type": "code",
   "execution_count": null,
   "id": "1df7ad91-318e-4585-ae25-3537d9741211",
   "metadata": {},
   "outputs": [],
   "source": [
    "%%timeit\n",
    "MyClass['foo_bah']"
   ]
  },
  {
   "cell_type": "code",
   "execution_count": null,
   "id": "f3dfb93d-01d2-49ca-83cc-5d440fc5de71",
   "metadata": {},
   "outputs": [],
   "source": []
  },
  {
   "cell_type": "code",
   "execution_count": null,
   "id": "c3222b1f-68f4-4280-bf8e-9681d753d58e",
   "metadata": {},
   "outputs": [],
   "source": [
    "class MyClass:\n",
    "    ..."
   ]
  },
  {
   "cell_type": "code",
   "execution_count": null,
   "id": "5bb0dfdd-781c-4ea2-96d1-cac4b975a96a",
   "metadata": {},
   "outputs": [],
   "source": [
    "@classmethod\n",
    "def new_meth(cls, foo):\n",
    "    print(cls, foo)\n",
    "\n",
    "def new_meth2(self, foo):\n",
    "    print(self, foo)\n",
    "\n",
    "MyClass.new_meth = new_meth\n",
    "MyClass.new_meth2 = new_meth2"
   ]
  },
  {
   "cell_type": "code",
   "execution_count": null,
   "id": "dae64fba-5449-48ef-a9d9-528d2ba4a55b",
   "metadata": {},
   "outputs": [],
   "source": [
    "MyClass().new_meth2('foo')"
   ]
  },
  {
   "cell_type": "code",
   "execution_count": null,
   "id": "beb514e8-e865-4640-950a-022ed6d1975c",
   "metadata": {},
   "outputs": [],
   "source": [
    "import inspect\n",
    "import functools"
   ]
  },
  {
   "cell_type": "code",
   "execution_count": null,
   "id": "1ad6f939-2f80-42cb-8f01-986834b1e338",
   "metadata": {},
   "outputs": [],
   "source": [
    "def my_func(arg: int) -> bool:\n",
    "    print(arg)\n",
    "\n",
    "\n",
    "@functools.wraps(my_func)\n",
    "def my_wrap(foo: str, *args):\n",
    "    return my_func(args)"
   ]
  },
  {
   "cell_type": "code",
   "execution_count": null,
   "id": "d8cdd989-86da-4fd4-937f-e8d1d5f0eab9",
   "metadata": {},
   "outputs": [],
   "source": [
    "my_wrap()"
   ]
  },
  {
   "cell_type": "code",
   "execution_count": null,
   "id": "714a138b-aac7-4d68-a378-f2320de92130",
   "metadata": {},
   "outputs": [],
   "source": [
    "my_wrap."
   ]
  },
  {
   "cell_type": "code",
   "execution_count": null,
   "id": "b2559900-eb17-4208-84ff-3cd3d13fe0d7",
   "metadata": {},
   "outputs": [],
   "source": [
    "my_wrap.__annotations__"
   ]
  },
  {
   "cell_type": "code",
   "execution_count": null,
   "id": "d001b854-584d-46b8-b4ba-569a1c8bb135",
   "metadata": {},
   "outputs": [],
   "source": [
    "sig = inspect.signature(my_func)"
   ]
  },
  {
   "cell_type": "code",
   "execution_count": null,
   "id": "a2d994e9-4eff-474e-a5e4-8b0292dd39a9",
   "metadata": {},
   "outputs": [],
   "source": [
    "sig."
   ]
  },
  {
   "cell_type": "code",
   "execution_count": null,
   "id": "6c5bdf99-1ca2-4816-95eb-6d6e88341cc9",
   "metadata": {},
   "outputs": [],
   "source": [
    "def myfunc():\n",
    "    ...\n",
    "myfunc.__annotations__"
   ]
  },
  {
   "cell_type": "code",
   "execution_count": null,
   "id": "d5f7d906-d711-4e36-82d7-0fbaace446a7",
   "metadata": {},
   "outputs": [],
   "source": [
    "mydict = dict(a=1, b=2)"
   ]
  },
  {
   "cell_type": "code",
   "execution_count": null,
   "id": "03e93fd5-fca7-41b1-9eb2-876446c1b60c",
   "metadata": {},
   "outputs": [],
   "source": [
    "mydict."
   ]
  },
  {
   "cell_type": "code",
   "execution_count": null,
   "id": "87f32c92-f6b2-47ad-bdb5-de1dbb872bb0",
   "metadata": {},
   "outputs": [],
   "source": []
  },
  {
   "cell_type": "code",
   "execution_count": null,
   "id": "72b5bd2d-9fbb-42ef-a91d-4bde14630502",
   "metadata": {},
   "outputs": [],
   "source": [
    "MyClass."
   ]
  },
  {
   "cell_type": "code",
   "execution_count": null,
   "id": "c9035fe1-bad2-40dc-a2f6-a6c16de98777",
   "metadata": {},
   "outputs": [],
   "source": [
    "MyClass[...]"
   ]
  },
  {
   "cell_type": "code",
   "execution_count": null,
   "id": "eb62c789-5b03-4e32-aaa3-9f7dadf598a3",
   "metadata": {},
   "outputs": [],
   "source": [
    "from everest.ptolemaic.intt import Intt"
   ]
  },
  {
   "cell_type": "code",
   "execution_count": null,
   "id": "6e64b536-e50f-4ddc-a509-def927f8ea3a",
   "metadata": {},
   "outputs": [],
   "source": [
    "import abc as _abc\n",
    "import functools as _functools"
   ]
  },
  {
   "cell_type": "code",
   "execution_count": null,
   "id": "b25c09c0-8cc7-4162-9664-ee4b1f3ecdae",
   "metadata": {},
   "outputs": [],
   "source": [
    "_abc.ABCMeta.__subclasscheck__"
   ]
  },
  {
   "cell_type": "code",
   "execution_count": null,
   "id": "a67d8e9c-6cb7-478d-ba12-d841114159c9",
   "metadata": {},
   "outputs": [],
   "source": [
    "_functools.partial(_abc.ABCMeta.__subclasscheck__, "
   ]
  },
  {
   "cell_type": "code",
   "execution_count": null,
   "id": "4b959f95-ed28-4375-ac6e-1b41733ec787",
   "metadata": {},
   "outputs": [],
   "source": [
    "bool(filter('abc'.__contains__, ('a', 'b', 'd')))"
   ]
  },
  {
   "cell_type": "code",
   "execution_count": null,
   "id": "d7955bc4-607e-4088-a998-1df987bfc8c2",
   "metadata": {},
   "outputs": [],
   "source": [
    "Intt[0]"
   ]
  },
  {
   "cell_type": "code",
   "execution_count": null,
   "id": "42ee9640-c224-45fb-bf7a-08246cec757c",
   "metadata": {},
   "outputs": [],
   "source": [
    "myintt = Intt[0]"
   ]
  },
  {
   "cell_type": "code",
   "execution_count": null,
   "id": "39fcc752-d56b-4396-bc1d-e3995782dd80",
   "metadata": {},
   "outputs": [],
   "source": [
    "Intt[0]"
   ]
  },
  {
   "cell_type": "code",
   "execution_count": null,
   "id": "341e5d37-57ef-4bf6-81f4-6cc6bf7c186d",
   "metadata": {},
   "outputs": [],
   "source": [
    "Intt[10]"
   ]
  },
  {
   "cell_type": "code",
   "execution_count": null,
   "id": "6716dce0-0f12-4e34-a33a-1a8b2f751dd6",
   "metadata": {},
   "outputs": [],
   "source": [
    "Intt[10:20]"
   ]
  },
  {
   "cell_type": "code",
   "execution_count": null,
   "id": "454850f5-f43c-481a-a8e6-4763bc459ac1",
   "metadata": {},
   "outputs": [],
   "source": [
    "Intt[10:][4]"
   ]
  },
  {
   "cell_type": "code",
   "execution_count": null,
   "id": "591cdf44-a833-464d-952b-e5760222eeb7",
   "metadata": {},
   "outputs": [],
   "source": [
    "isinstance(14, Intt[10:])"
   ]
  },
  {
   "cell_type": "code",
   "execution_count": null,
   "id": "a8189b2f-4d1e-4cd2-a9de-b8144b356e3a",
   "metadata": {},
   "outputs": [],
   "source": [
    "import itertools as _itertools\n",
    "\n",
    "from everest.ptolemaic.aspect import Aspect as _Aspect\n",
    "from everest.ptolemaic.sprite import Sprite as _Sprite\n",
    "from everest.ptolemaic.proxy import Proxy as _Proxy\n",
    "from everest.ptolemaic import exceptions as _exceptions\n",
    "from everest.ptolemaic.chora import Chora as _Chora, Sliceable as _Sliceable"
   ]
  },
  {
   "cell_type": "code",
   "execution_count": null,
   "id": "d6e78c3e-e2fe-4269-b157-9b858abb13a5",
   "metadata": {},
   "outputs": [],
   "source": [
    "class MyClass:\n",
    "\n",
    "    def __instancecheck__(self, arg, /):\n",
    "        return True"
   ]
  },
  {
   "cell_type": "code",
   "execution_count": null,
   "id": "3a20d87b-a1d4-4707-8c66-acb2ebe8898a",
   "metadata": {},
   "outputs": [],
   "source": [
    "isinstance(1, MyClass())"
   ]
  },
  {
   "cell_type": "code",
   "execution_count": null,
   "id": "aedb4d75-604e-4fc8-ac28-0bea7fe21728",
   "metadata": {},
   "outputs": [],
   "source": [
    "range(10, 20)[4]"
   ]
  },
  {
   "cell_type": "code",
   "execution_count": null,
   "id": "cfa43678-5745-4654-b7ac-ba61e69e7ce6",
   "metadata": {},
   "outputs": [],
   "source": [
    "myobj = MyClass()"
   ]
  }
 ],
 "metadata": {
  "kernelspec": {
   "display_name": "Python 3 (ipykernel)",
   "language": "python",
   "name": "python3"
  },
  "language_info": {
   "codemirror_mode": {
    "name": "ipython",
    "version": 3
   },
   "file_extension": ".py",
   "mimetype": "text/x-python",
   "name": "python",
   "nbconvert_exporter": "python",
   "pygments_lexer": "ipython3",
   "version": "3.9.5"
  }
 },
 "nbformat": 4,
 "nbformat_minor": 5
}
