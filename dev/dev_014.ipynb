{
 "cells": [
  {
   "cell_type": "code",
   "execution_count": null,
   "id": "c8c01368-8bb7-48c6-9c83-6b8f99cc7beb",
   "metadata": {},
   "outputs": [],
   "source": [
    "###############################################################################\n",
    "import aliases"
   ]
  },
  {
   "cell_type": "code",
   "execution_count": null,
   "id": "acb6c8dd-e4e3-4040-b4e1-b0c8826d287c",
   "metadata": {},
   "outputs": [],
   "source": [
    "import functools as _functools\n",
    "from collections import abc as _collabc\n",
    "\n",
    "from everest.utilities.classtools import add_defer_meths as _add_defer_meths\n",
    "\n",
    "from everest.ptolemaic.primitive import Primitive as _Primitive\n",
    "from everest.ptolemaic.ptolemaic import Ptolemaic as _Ptolemaic\n",
    "from everest.ptolemaic.sprite import Sprite as _Sprite\n",
    "from everest.ptolemaic.chora import Chora as _Chora, Incisable as _Incisable\n",
    "from everest.ptolemaic.resourcers import Resourcer as _Resourcer\n",
    "from everest.ptolemaic import intt as _intt"
   ]
  },
  {
   "cell_type": "code",
   "execution_count": null,
   "id": "ebc547b1-71a2-4be2-8f10-a1fae926c7b4",
   "metadata": {},
   "outputs": [],
   "source": [
    "def pass_fn(arg):\n",
    "    return arg\n",
    "\n",
    "\n",
    "class Armature(_Sprite):\n",
    "    '''Enfolds other `Ptolemaic` objects to add functionality or context.'''\n",
    "\n",
    "    _ptolemaic_knowntypes__ = (_Ptolemaic,)\n",
    "\n",
    "    class Registrar:\n",
    "\n",
    "        def process_param(self, arg, /):\n",
    "            if _Resourcer.can_convert(arg):\n",
    "                return _Resourcer(arg)\n",
    "            return arg\n",
    "\n",
    "\n",
    "class Fixture(Armature):\n",
    "    '''An `Armature` that enfolds a single object, its 'content'.'''\n",
    "\n",
    "    _req_slots__ = ('content',)\n",
    "\n",
    "    def __init__(self, content, /):\n",
    "        self.content = content\n",
    "        super().__init__()\n",
    "\n",
    "\n",
    "class Utiliser(Fixture):\n",
    "    '''\n",
    "    A `Fixture` that presents access to one of its content's methods,\n",
    "    optionally with partially bound arguments.\n",
    "    '''\n",
    "\n",
    "    _req_slots__ = ('meth',)\n",
    "\n",
    "    def __init__(self, content, meth: str, /, *args, **kwargs):\n",
    "        super().__init__(content)\n",
    "        meth = getattr(content, meth)\n",
    "        if args or kwargs:\n",
    "            meth = _functools.partial(meth, *args, **kwargs)\n",
    "        self.meth = meth\n",
    "\n",
    "    def __call__(self, /, *args, **kwargs):\n",
    "        return self.meth(*args, **kwargs)\n",
    "\n",
    "\n",
    "@_add_defer_meths(\n",
    "    'content',\n",
    "    '__iter__', '__len__', 'index', 'count',\n",
    "    retrieve='__getitem__',\n",
    "    )\n",
    "class Brace(Fixture, _Incisable):\n",
    "    '''An `Armature` that behaves like a `tuple`.'''\n",
    "\n",
    "    Chora = _intt.InttRange\n",
    "\n",
    "    @classmethod\n",
    "    def parameterise(cls, register, arg, /):\n",
    "        register(*arg)\n",
    "\n",
    "    def _get_chora_params(self, /):\n",
    "        return super()._get_chora_params(len(self.content))\n",
    "\n",
    "    def __init__(self, /, *args):\n",
    "        super().__init__(args)\n",
    "\n",
    "    def incise(self, incisor, /):\n",
    "        return type(self)(map(self.__getitem__, incisor))\n",
    "\n",
    "    def __reversed__(self, /):\n",
    "        return self[::-1]\n",
    "\n",
    "    def __instancecheck__(self, val, /):\n",
    "        return self.content.__contains__(val)\n",
    "\n",
    "\n",
    "@_add_defer_meths('content', __contains__='__call__')\n",
    "class Sett(_Chora, Fixture):\n",
    "    '''\n",
    "    A `Chora` that returns the incisor\n",
    "    if a given callable called on it returns `True`.\n",
    "    '''\n",
    "\n",
    "    def _retrieve_contains_(self, incisor: object, /) -> object:\n",
    "        if self.__contains__(incisor):\n",
    "            return incisor\n",
    "        super()._retrieve_contains_(incisor)\n",
    "\n",
    "\n",
    "@_add_defer_meths(\n",
    "    'content',\n",
    "    '__iter__', '__len__', '__contains__', 'items', 'get',\n",
    "    retrieve='__getitem__',\n",
    "    )\n",
    "class Mapp(Fixture, _Incisable):\n",
    "\n",
    "    Chora = Sett\n",
    "\n",
    "    _req_slots__ = ('_keys', '_values')\n",
    "\n",
    "    @classmethod\n",
    "    def parameterise(cls, register, arg=NotImplemented, /, **kwargs):\n",
    "        if arg is NotImplemented:\n",
    "            arg = kwargs\n",
    "        elif kwargs:\n",
    "            raise ValueError(\n",
    "                f\"Cannot parameterise {cls} with both args and kwargs.\"\n",
    "                )\n",
    "        if not isinstance(arg, _collabc.Mapping):\n",
    "            arg = dict(arg)\n",
    "        register(arg.keys(), arg.values())\n",
    "\n",
    "    def _get_chora_params(self, /):\n",
    "        return super()._get_chora_params(\n",
    "            Utiliser(self._keys, '__instancecheck__')\n",
    "            )\n",
    "\n",
    "    def __init__(self, keys, values, /):\n",
    "        self._keys, self._values = keys, values\n",
    "        super().__init__(dict(zip(keys, values)))\n",
    "\n",
    "    def keys(self, /):\n",
    "        return self._keys\n",
    "\n",
    "    def values(self, /):\n",
    "        return self._values\n",
    "\n",
    "\n",
    "Armature.PROCESSORS.update({\n",
    "    _collabc.Mapping.__instancecheck__: Mapp,\n",
    "    _collabc.Iterable.__instancecheck__: Brace,\n",
    "    })"
   ]
  },
  {
   "cell_type": "code",
   "execution_count": null,
   "id": "f0cb825d-72d9-4f19-9bf8-8e88c1870ed7",
   "metadata": {},
   "outputs": [],
   "source": [
    "import string"
   ]
  },
  {
   "cell_type": "code",
   "execution_count": null,
   "id": "50c4ebd0-5474-40d5-b5b5-192a80ad4a74",
   "metadata": {},
   "outputs": [],
   "source": [
    "mymapp = Mapp(enumerate(string.ascii_lowercase))"
   ]
  },
  {
   "cell_type": "code",
   "execution_count": null,
   "id": "3af5b3a6-9428-4b65-8ec1-99f9f3644832",
   "metadata": {},
   "outputs": [],
   "source": [
    "%%timeit\n",
    "mymapp[0]"
   ]
  },
  {
   "cell_type": "code",
   "execution_count": null,
   "id": "b77b7f10-e3b1-4482-865b-7dcc41dbb94d",
   "metadata": {},
   "outputs": [],
   "source": [
    "mydict = dict(enumerate(string.ascii_lowercase))"
   ]
  },
  {
   "cell_type": "code",
   "execution_count": null,
   "id": "6aff3b4d-ab77-469d-b23f-6b6d746e0922",
   "metadata": {},
   "outputs": [],
   "source": [
    "%%timeit\n",
    "mydict[0]"
   ]
  },
  {
   "cell_type": "code",
   "execution_count": null,
   "id": "10670041-d43f-4e84-ba83-eadd72580051",
   "metadata": {},
   "outputs": [],
   "source": [
    "mybrace = Brace(string.ascii_lowercase)"
   ]
  },
  {
   "cell_type": "code",
   "execution_count": null,
   "id": "c93193ce-dda3-4c1a-a5ae-d7143423fb80",
   "metadata": {},
   "outputs": [],
   "source": [
    "%%timeit\n",
    "mybrace[0]"
   ]
  },
  {
   "cell_type": "code",
   "execution_count": null,
   "id": "6162b326-6402-4348-91cf-080f53ac22d3",
   "metadata": {},
   "outputs": [],
   "source": [
    "%%timeit\n",
    "mybrace.chora.retrieve_contains(0)"
   ]
  },
  {
   "cell_type": "code",
   "execution_count": null,
   "id": "360896f6-f591-474b-acb0-d9b0f0bfac4d",
   "metadata": {},
   "outputs": [],
   "source": [
    "meth = mybrace.chora._retrieve_contains_"
   ]
  },
  {
   "cell_type": "code",
   "execution_count": null,
   "id": "77c2228d-4371-4802-82d0-38d8145c4253",
   "metadata": {},
   "outputs": [],
   "source": [
    "%%timeit\n",
    "meth(0)"
   ]
  },
  {
   "cell_type": "code",
   "execution_count": null,
   "id": "edc038b7-55c0-4b26-8c39-756ae80d9f5d",
   "metadata": {},
   "outputs": [],
   "source": [
    "%%timeit\n",
    "mybrace.chora._rangeobj[0]"
   ]
  },
  {
   "cell_type": "code",
   "execution_count": null,
   "id": "785bd087-159c-4b24-8aad-b685e78ddc5d",
   "metadata": {},
   "outputs": [],
   "source": [
    "rangeobj = mybrace.chora._rangeobj"
   ]
  },
  {
   "cell_type": "code",
   "execution_count": null,
   "id": "b805a118-5bc4-487c-8a04-a80d3351fa33",
   "metadata": {},
   "outputs": [],
   "source": [
    "%%timeit\n",
    "rangeobj[0]"
   ]
  },
  {
   "cell_type": "code",
   "execution_count": null,
   "id": "66138a27-8ae7-4922-a4e0-9493ea06a171",
   "metadata": {},
   "outputs": [],
   "source": [
    "tupobj = mybrace.chora._tupobj"
   ]
  },
  {
   "cell_type": "code",
   "execution_count": null,
   "id": "bfb9867e-67c0-420f-8ead-a06711550821",
   "metadata": {},
   "outputs": [],
   "source": [
    "%%timeit\n",
    "tupobj[0]"
   ]
  },
  {
   "cell_type": "code",
   "execution_count": null,
   "id": "9b456335-f566-4050-9fe0-478f45bfe42f",
   "metadata": {},
   "outputs": [],
   "source": []
  },
  {
   "cell_type": "code",
   "execution_count": null,
   "id": "724e9f44-9237-4b55-8a26-e4e8efbf6fdb",
   "metadata": {},
   "outputs": [],
   "source": []
  },
  {
   "cell_type": "code",
   "execution_count": null,
   "id": "dc92e973-a0ce-4511-9a9b-866203fb7523",
   "metadata": {},
   "outputs": [],
   "source": [
    "subbrace = mybrace[-13:-5][::-2]\n",
    "subbrace"
   ]
  },
  {
   "cell_type": "code",
   "execution_count": null,
   "id": "ef3a1e2d-ec37-4611-b49f-1f67d326d49d",
   "metadata": {},
   "outputs": [],
   "source": [
    "mysett = Sett(Utiliser(mybrace, '__instancecheck__'))"
   ]
  },
  {
   "cell_type": "code",
   "execution_count": null,
   "id": "6db869b7-6c3d-4e7a-a92d-18a6a62934ab",
   "metadata": {},
   "outputs": [],
   "source": [
    "mysett['d']"
   ]
  },
  {
   "cell_type": "code",
   "execution_count": null,
   "id": "affeae6f-a067-41c1-ae78-0746a99b6584",
   "metadata": {},
   "outputs": [],
   "source": []
  },
  {
   "cell_type": "code",
   "execution_count": null,
   "id": "16c0516f-a99e-4bb5-8a23-681473317862",
   "metadata": {},
   "outputs": [],
   "source": [
    "Utiliser(subbrace, '__instancecheck__')('u')"
   ]
  },
  {
   "cell_type": "code",
   "execution_count": null,
   "id": "2adb3ca8-32b3-414d-88da-28679d49525d",
   "metadata": {},
   "outputs": [],
   "source": [
    "isinstance('u', subbrace)"
   ]
  },
  {
   "cell_type": "code",
   "execution_count": null,
   "id": "1dfb9dbc-c6ea-4169-b123-95ecadcf4ebe",
   "metadata": {},
   "outputs": [],
   "source": [
    "reversed(subbrace)"
   ]
  },
  {
   "cell_type": "code",
   "execution_count": null,
   "id": "71d77027-d975-4265-b716-258321d98681",
   "metadata": {},
   "outputs": [],
   "source": [
    "mybrace[-1]"
   ]
  },
  {
   "cell_type": "code",
   "execution_count": null,
   "id": "865ecdc5-dad8-41ad-b3c5-b9c39584bae6",
   "metadata": {},
   "outputs": [],
   "source": [
    "tuple.count('a')"
   ]
  },
  {
   "cell_type": "code",
   "execution_count": null,
   "id": "1b6b7c6d-c5ff-42a1-b794-0801dcd2489a",
   "metadata": {},
   "outputs": [],
   "source": [
    "mybrace.count('a')"
   ]
  },
  {
   "cell_type": "code",
   "execution_count": null,
   "id": "4d64268a-19fa-45e5-bf03-e210609fd5f6",
   "metadata": {},
   "outputs": [],
   "source": [
    "reversed"
   ]
  },
  {
   "cell_type": "code",
   "execution_count": null,
   "id": "b7e2cef9-f9c2-4b32-99f6-50c6f6fd86c0",
   "metadata": {},
   "outputs": [],
   "source": [
    "reversed(mybrace)"
   ]
  },
  {
   "cell_type": "code",
   "execution_count": null,
   "id": "fc7154f8-8c10-4193-b02e-71e0016bdaf2",
   "metadata": {},
   "outputs": [],
   "source": [
    "from everest.ptolemaic.ptolemaic import Ptolemaic as _Ptolemaic\n",
    "from everest.ptolemaic.sprite import Sprite as _Sprite\n",
    "from everest.ptolemaic.resourcers import Resourcer as _Resourcer\n",
    "from everest.ptolemaic import collections as _collections\n",
    "from everest.ptolemaic.intt import Intt as _Intt"
   ]
  },
  {
   "cell_type": "code",
   "execution_count": null,
   "id": "8eac11e1-3898-46cf-aadf-9aff9ecab0bc",
   "metadata": {},
   "outputs": [],
   "source": []
  },
  {
   "cell_type": "code",
   "execution_count": null,
   "id": "66497c59-7cef-4f22-9911-6dd7d3b1e900",
   "metadata": {},
   "outputs": [],
   "source": []
  },
  {
   "cell_type": "code",
   "execution_count": null,
   "id": "cfbcfa2b-78b7-4b4d-ab56-4eaa29db4dc4",
   "metadata": {},
   "outputs": [],
   "source": []
  },
  {
   "cell_type": "code",
   "execution_count": null,
   "id": "2282b310-755c-4dc7-8925-6561ccb37164",
   "metadata": {},
   "outputs": [],
   "source": [
    "from everest.ptolemaic.collections import Collection"
   ]
  },
  {
   "cell_type": "code",
   "execution_count": null,
   "id": "f84123c0-956c-40d5-8c7e-6bcdfab70312",
   "metadata": {},
   "outputs": [],
   "source": [
    "from everest.ptolemaic import intt"
   ]
  },
  {
   "cell_type": "code",
   "execution_count": null,
   "id": "4e43f959-5833-46c5-a412-daeaa8a1c65c",
   "metadata": {},
   "outputs": [],
   "source": [
    "from everest.ptolemaic.compound import Compound as _Compound"
   ]
  },
  {
   "cell_type": "code",
   "execution_count": null,
   "id": "b71597fb-0f8b-42c1-9981-ed5dc3fc0eca",
   "metadata": {},
   "outputs": [],
   "source": [
    "from everest.ptolemaic.compound import Compound as _Compound\n",
    "from everest.ptolemaic.chora import Incisable"
   ]
  },
  {
   "cell_type": "code",
   "execution_count": null,
   "id": "0b4d944e-d651-4ec9-b63c-2d0643ba5e2d",
   "metadata": {},
   "outputs": [],
   "source": [
    "class Armature\n",
    "\n",
    "\n",
    "class Brace(Incisable, C):\n",
    "\n",
    "    Chora = InttRange\n",
    "\n",
    "    "
   ]
  },
  {
   "cell_type": "code",
   "execution_count": null,
   "id": "db92ad36-5613-4e88-9e18-ca99e0f3edfe",
   "metadata": {},
   "outputs": [],
   "source": [
    "myobj = MyPtol()"
   ]
  },
  {
   "cell_type": "code",
   "execution_count": null,
   "id": "4a712b9a-9afe-4f9b-b808-c8c7353916f0",
   "metadata": {},
   "outputs": [],
   "source": [
    "myobj[10:20]"
   ]
  },
  {
   "cell_type": "code",
   "execution_count": null,
   "id": "e50a77b1-9ae6-4bfa-8233-4bb19698d25d",
   "metadata": {},
   "outputs": [],
   "source": []
  },
  {
   "cell_type": "code",
   "execution_count": null,
   "id": "39379ab4-f79e-47f4-9d32-48b41586deb7",
   "metadata": {},
   "outputs": [],
   "source": []
  },
  {
   "cell_type": "code",
   "execution_count": null,
   "id": "101c776d-44d4-4425-b142-c2d7d15e6304",
   "metadata": {},
   "outputs": [],
   "source": []
  },
  {
   "cell_type": "code",
   "execution_count": null,
   "id": "962b1478-0acd-4eda-85fc-2c2bd6af7195",
   "metadata": {},
   "outputs": [],
   "source": []
  },
  {
   "cell_type": "code",
   "execution_count": null,
   "id": "fe1b2b2d-2b89-4c43-9ec1-e7d70dc592ed",
   "metadata": {},
   "outputs": [],
   "source": [
    "isinstance(1, Intt)"
   ]
  },
  {
   "cell_type": "code",
   "execution_count": null,
   "id": "79a8f2fc-8b6a-4ce0-9537-50f9c8d28134",
   "metadata": {},
   "outputs": [],
   "source": [
    "from everest.ptolemaic.ptolemaic import Ptolemaic"
   ]
  },
  {
   "cell_type": "code",
   "execution_count": null,
   "id": "312ce44c-d994-4ba6-9926-05cd2f647445",
   "metadata": {},
   "outputs": [],
   "source": [
    "isinstance(1, Ptolemaic)"
   ]
  },
  {
   "cell_type": "code",
   "execution_count": null,
   "id": "1f2eff3e-e42c-4997-a795-57b5a33e9c87",
   "metadata": {},
   "outputs": [],
   "source": [
    "from everest.ptolemaic.ptolemaic import Ptolemaic as _Ptolemaic\n",
    "from everest.ptolemaic.chora import (\n",
    "    Sliceable as _Sliceable, Incisable as _Incisable\n",
    "    )\n",
    "from everest.ptolemaic.chora import NotNone as _NotNone\n",
    "\n",
    "class MyChora(_Sliceable):\n",
    "\n",
    "    def _retrieve_contains_(self, incisor: int, /) -> int:\n",
    "        return incisor**2\n",
    "\n",
    "    def _incise_slice_(self,\n",
    "            start: _NotNone, stop: _NotNone, step: _NotNone, /\n",
    "            ):\n",
    "        return (start, stop, step)\n",
    "\n",
    "\n",
    "class MyPtol(_Ptolemaic, _Incisable):\n",
    "\n",
    "    Chora = MyChora\n",
    "\n",
    "    def incise(self, incisor, /):\n",
    "        return f\"Incised {self} by {incisor}\"\n",
    "\n",
    "    def retrieve(self, incisor, /):\n",
    "        return f\"Retrieved {incisor} from {self}\""
   ]
  },
  {
   "cell_type": "code",
   "execution_count": null,
   "id": "238445e2-3d3e-4793-95c5-f8b8fd94998a",
   "metadata": {},
   "outputs": [],
   "source": [
    "myobj = MyPtol()"
   ]
  },
  {
   "cell_type": "code",
   "execution_count": null,
   "id": "5badc272-a543-4725-aa97-80788be30a37",
   "metadata": {},
   "outputs": [],
   "source": [
    "myobj[2:4:6]"
   ]
  },
  {
   "cell_type": "code",
   "execution_count": null,
   "id": "cf8dd6ae-cb80-4bea-b853-552aab25cdfc",
   "metadata": {},
   "outputs": [],
   "source": [
    "myobj[2]"
   ]
  },
  {
   "cell_type": "code",
   "execution_count": null,
   "id": "c5ff65fe-5a4f-4cc9-b95b-a11e5b03aaf7",
   "metadata": {},
   "outputs": [],
   "source": [
    "myobj = MyChora()"
   ]
  },
  {
   "cell_type": "code",
   "execution_count": null,
   "id": "0a3e8f55-0829-4ae4-a7bb-ae30625d04c0",
   "metadata": {},
   "outputs": [],
   "source": [
    "myobj.chora.__getitem__"
   ]
  },
  {
   "cell_type": "code",
   "execution_count": null,
   "id": "3213acad-92b1-4373-8943-f7b7897cb884",
   "metadata": {},
   "outputs": [],
   "source": [
    "issubclass(int, NotNone)"
   ]
  },
  {
   "cell_type": "code",
   "execution_count": null,
   "id": "552c717f-8038-4ede-9b6d-4b5887b475f8",
   "metadata": {},
   "outputs": [],
   "source": [
    "issubclass(NotNone, int)"
   ]
  },
  {
   "cell_type": "code",
   "execution_count": null,
   "id": "41e757ee-fe48-412c-ab6c-f8b115e93b65",
   "metadata": {},
   "outputs": [],
   "source": [
    "class MyClass:\n",
    "\n",
    "    @classmethod\n",
    "    def __subclasscheck__(cls, other, /):\n",
    "        print('hello')"
   ]
  },
  {
   "cell_type": "code",
   "execution_count": null,
   "id": "71dce0fc-ae86-4f9d-a434-6e98b937fa15",
   "metadata": {},
   "outputs": [],
   "source": [
    "issubclass(int, MyClass)"
   ]
  },
  {
   "cell_type": "code",
   "execution_count": null,
   "id": "501da4a3-49d9-4b39-a4ba-43c6d3ed2f90",
   "metadata": {},
   "outputs": [],
   "source": [
    "issubclass(int, NotNone)"
   ]
  },
  {
   "cell_type": "code",
   "execution_count": null,
   "id": "100ec8f1-0144-4135-a09b-7f32dcf1410a",
   "metadata": {},
   "outputs": [],
   "source": [
    "import abc as _abc\n",
    "\n",
    "\n",
    "class Null(_abc.ABC):\n",
    "\n",
    "    @classmethod\n",
    "    def __subclasscheck__(cls, arg, /):\n",
    "        return True"
   ]
  },
  {
   "cell_type": "code",
   "execution_count": null,
   "id": "aefbaab7-615c-4887-875c-2ffef23a60ff",
   "metadata": {},
   "outputs": [],
   "source": [
    "isinstance(1, Null)"
   ]
  },
  {
   "cell_type": "code",
   "execution_count": null,
   "id": "6bab5d89-5226-4904-a3d6-030945b5ba03",
   "metadata": {},
   "outputs": [],
   "source": []
  },
  {
   "cell_type": "code",
   "execution_count": null,
   "id": "787b10aa-f87f-4794-b298-37ee4a2a7b35",
   "metadata": {},
   "outputs": [],
   "source": [
    "issubclass(int, NotNone)"
   ]
  },
  {
   "cell_type": "code",
   "execution_count": null,
   "id": "f16b8e9d-0849-4679-b497-5b7610137694",
   "metadata": {},
   "outputs": [],
   "source": [
    "myobj[2:3:4]"
   ]
  },
  {
   "cell_type": "code",
   "execution_count": null,
   "id": "069e2f43-d23c-427d-89ad-c6318f9973b4",
   "metadata": {},
   "outputs": [],
   "source": []
  },
  {
   "cell_type": "code",
   "execution_count": null,
   "id": "efb7d797-e6b4-4f73-b1e3-607baba413dd",
   "metadata": {},
   "outputs": [],
   "source": [
    "class MyClass:\n",
    "\n",
    "    def __getitem__(self, arg, /):\n",
    "        '''Placeholder.'''\n",
    "        print('Foo!')\n",
    "\n",
    "\n",
    "def __getitem__(self, arg, /):\n",
    "    return arg**2\n",
    "\n",
    "\n",
    "myobj = MyClass()\n",
    "myobj.__getitem__ = __getitem__\n",
    "myobj[2]"
   ]
  },
  {
   "cell_type": "code",
   "execution_count": null,
   "id": "7efc0674-39f8-44b1-aa3c-278033ee8f02",
   "metadata": {},
   "outputs": [],
   "source": []
  }
 ],
 "metadata": {
  "kernelspec": {
   "display_name": "Python 3 (ipykernel)",
   "language": "python",
   "name": "python3"
  },
  "language_info": {
   "codemirror_mode": {
    "name": "ipython",
    "version": 3
   },
   "file_extension": ".py",
   "mimetype": "text/x-python",
   "name": "python",
   "nbconvert_exporter": "python",
   "pygments_lexer": "ipython3",
   "version": "3.9.5"
  }
 },
 "nbformat": 4,
 "nbformat_minor": 5
}
