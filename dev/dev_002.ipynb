{
 "cells": [
  {
   "cell_type": "code",
   "execution_count": 1,
   "id": "a7da45c8-47a4-4998-a59b-8136737b591a",
   "metadata": {},
   "outputs": [],
   "source": [
    "import aliases"
   ]
  },
  {
   "cell_type": "code",
   "execution_count": 2,
   "id": "21abb848-aab8-406a-a18b-0fdb45f01f76",
   "metadata": {},
   "outputs": [],
   "source": [
    "import numbers\n",
    "\n",
    "from everest.incision.chora import Chora\n",
    "from everest.incision.sett import Sett\n",
    "\n",
    "_Chora = Chora\n",
    "_Sett = Sett"
   ]
  },
  {
   "cell_type": "code",
   "execution_count": 3,
   "id": "2ffd1c68-3f9c-4048-9baf-d169daeae87a",
   "metadata": {},
   "outputs": [],
   "source": [
    "myset = Sett(numbers.Rational, numbers.Integral)"
   ]
  },
  {
   "cell_type": "code",
   "execution_count": 6,
   "id": "026d645a-9329-44a2-91b8-c55fed889a97",
   "metadata": {},
   "outputs": [],
   "source": [
    "myset2 = myset[::lambda x: x > 10]"
   ]
  },
  {
   "cell_type": "code",
   "execution_count": 7,
   "id": "b1923989-56be-4b5a-a27a-105ec47faca2",
   "metadata": {},
   "outputs": [
    {
     "data": {
      "text/plain": [
       "True"
      ]
     },
     "execution_count": 7,
     "metadata": {},
     "output_type": "execute_result"
    }
   ],
   "source": [
    "11 in myset2 and not 1 in myset2"
   ]
  },
  {
   "cell_type": "code",
   "execution_count": null,
   "id": "f24a1f44-5cfc-448b-a60b-88d492234dec",
   "metadata": {},
   "outputs": [],
   "source": [
    "from everest.utilities import process_criteria"
   ]
  },
  {
   "cell_type": "code",
   "execution_count": null,
   "id": "83379059-3194-4aa1-92f4-8a6158e888c9",
   "metadata": {},
   "outputs": [],
   "source": [
    "myfunc = process_criteria([numbers.Rational, numbers.Integral])"
   ]
  },
  {
   "cell_type": "code",
   "execution_count": null,
   "id": "3e4a7228-afe7-4ac7-af36-4d8687cadc60",
   "metadata": {},
   "outputs": [],
   "source": [
    "myfunc(100)"
   ]
  },
  {
   "cell_type": "code",
   "execution_count": null,
   "id": "7500e7ad-3391-43cc-a281-bdfb649bbf9f",
   "metadata": {},
   "outputs": [],
   "source": [
    "myset2.criterion_function()"
   ]
  },
  {
   "cell_type": "code",
   "execution_count": null,
   "id": "510c92fe-1c6f-40dc-a1cd-d1462907fafc",
   "metadata": {},
   "outputs": [],
   "source": []
  },
  {
   "cell_type": "code",
   "execution_count": null,
   "id": "d2dc5210-56d1-4f16-8592-ea38be559324",
   "metadata": {},
   "outputs": [],
   "source": [
    "import functools"
   ]
  },
  {
   "cell_type": "code",
   "execution_count": null,
   "id": "8ae59501-1f07-4af7-9782-86e1c33c3571",
   "metadata": {},
   "outputs": [],
   "source": [
    "import operator"
   ]
  },
  {
   "cell_type": "code",
   "execution_count": null,
   "id": "b0347822-a61e-439f-b3b0-a2f5de3d481b",
   "metadata": {},
   "outputs": [],
   "source": [
    "functools.reduce(operator.__or__, (dict(a=1), dict(b=2), dict(a=10, c=3)))"
   ]
  },
  {
   "cell_type": "code",
   "execution_count": null,
   "id": "f2e49d31-b2b4-482d-85d6-2955b0cd4bf4",
   "metadata": {},
   "outputs": [],
   "source": [
    "dict.__or__"
   ]
  },
  {
   "cell_type": "code",
   "execution_count": null,
   "id": "4c737487-49b9-40cd-a554-4d40e602e3be",
   "metadata": {},
   "outputs": [],
   "source": [
    "class Operation(_Chora):\n",
    "\n",
    "    def __init__(self, /, *choras):\n",
    "        self.choras = choras\n",
    "        self.register_argskwargs(*choras)\n",
    "\n",
    "class Nullary(Operation):\n",
    "    def __init__(self, /):\n",
    "        super().__init__()\n",
    "\n",
    "class Unary(Operation):\n",
    "    def __init__(self, a=None, /):\n",
    "        super().__init__(a)\n",
    "\n",
    "class Binary(Operation):\n",
    "    def __init__(self, a=None, b=None, /):\n",
    "        super().__init__(a)"
   ]
  },
  {
   "cell_type": "code",
   "execution_count": null,
   "id": "e5e21fb8-f487-47a4-b721-4a1f5a5db263",
   "metadata": {},
   "outputs": [],
   "source": [
    "class Structure(_Chora):\n",
    "\n",
    "    def __init__(self, chora0, *choras, **operations):\n",
    "        choras = tuple((chora0, *choras))\n",
    "        for key, val in tuple(operations.items()):\n",
    "            i\n",
    "        self.choras = choras\n",
    "        self.operations = operations\n",
    "        self.register_argskwargs(*choras, **operations)"
   ]
  },
  {
   "cell_type": "code",
   "execution_count": null,
   "id": "82103079-551c-41b9-8125-5f49ea8a08a4",
   "metadata": {},
   "outputs": [],
   "source": [
    "mystruct = Structure(\n",
    "    s := Sett(),\n",
    "    addid=Operation(s),\n",
    "    addinv=Operation(s, s),\n",
    "    add=Operation(s, s, s),\n",
    "    )"
   ]
  },
  {
   "cell_type": "code",
   "execution_count": null,
   "id": "739e5782-2cec-4bca-a9b8-ad4f40d5f769",
   "metadata": {},
   "outputs": [],
   "source": [
    "mystruct.choras"
   ]
  },
  {
   "cell_type": "code",
   "execution_count": null,
   "id": "331ff7f3-8995-45b1-babb-1dc34ef5c3ed",
   "metadata": {},
   "outputs": [],
   "source": [
    "mystruct.operations"
   ]
  },
  {
   "cell_type": "code",
   "execution_count": null,
   "id": "6ce13036-3fbe-4fd5-9711-37ad7be20690",
   "metadata": {},
   "outputs": [],
   "source": [
    "dict.items"
   ]
  },
  {
   "cell_type": "code",
   "execution_count": null,
   "id": "4860b677-bfb6-4e2f-9593-476719348cc2",
   "metadata": {},
   "outputs": [],
   "source": [
    "list(mystruct.incmeths.items())[0]"
   ]
  },
  {
   "cell_type": "code",
   "execution_count": null,
   "id": "4aa0235a-9c1f-473e-879c-41ad226c8ac6",
   "metadata": {},
   "outputs": [],
   "source": [
    "type(mystruct.incmeths).items(mystruct.incmeths)"
   ]
  },
  {
   "cell_type": "code",
   "execution_count": null,
   "id": "c414a234-a3b0-423b-ab80-3ee0cb68af29",
   "metadata": {},
   "outputs": [],
   "source": [
    "dict.items(mystruct.incmeths)"
   ]
  },
  {
   "cell_type": "code",
   "execution_count": null,
   "id": "08a707f5-2cf6-4983-a37e-c207772f9c9d",
   "metadata": {},
   "outputs": [],
   "source": [
    "{'a': 1}"
   ]
  },
  {
   "cell_type": "code",
   "execution_count": null,
   "id": "796e14cd-eae3-4dac-b598-037c7fe209f6",
   "metadata": {},
   "outputs": [],
   "source": [
    "mygen = (a for a in 'abc')"
   ]
  },
  {
   "cell_type": "code",
   "execution_count": null,
   "id": "b2970e22-9a74-4dfc-ba5a-6e73d5e26c06",
   "metadata": {},
   "outputs": [],
   "source": [
    "mygen"
   ]
  },
  {
   "cell_type": "code",
   "execution_count": null,
   "id": "cf6a09a9-ebb5-4fcf-8a4b-d0d5161e50fb",
   "metadata": {},
   "outputs": [],
   "source": [
    "import collections.abc as _collabc"
   ]
  },
  {
   "cell_type": "code",
   "execution_count": null,
   "id": "e291c835-bd1c-409d-9063-08e42d74c25a",
   "metadata": {},
   "outputs": [],
   "source": [
    "isinstance(mygen, _collabc.Iterable)"
   ]
  },
  {
   "cell_type": "code",
   "execution_count": null,
   "id": "cdbcb246-c71d-47d1-94e6-3cce071856eb",
   "metadata": {},
   "outputs": [],
   "source": [
    "import collections.abc as _collabc\n",
    "import itertools as _itertools\n",
    "\n",
    "\n",
    "class Star(_collabc.Sequence):\n",
    "    __slots__ = ('args',)\n",
    "    def __init__(self, *args):\n",
    "        self.args = args\n",
    "    def __getitem__(self, key):\n",
    "        return self.args[key]\n",
    "    def __len__(self):\n",
    "        return len(self.args)\n",
    "    def __iter__(self):\n",
    "        return iter(self.args)\n",
    "\n",
    "\n",
    "def unpack_criterion(criterion):\n",
    "    if isinstance(criterion, tuple):\n",
    "        return criterion\n",
    "    elif isinstance(criterion, list):\n",
    "        yield from unpack_criterion(*criterion)\n",
    "    else:\n",
    "        if not callable(criterion):\n",
    "            raise TypeError(\"Criteria must be callable.\")\n",
    "        yield criterion\n",
    "\n",
    "\n",
    "def process_criterion(criterion):\n",
    "    if isinstance(criterion, _collabc.Iterable):\n",
    "        if not (istup := isinstance(criterion, tuple)):\n",
    "            criteria = unpack_criterion(criterion)\n",
    "        criteria = tuple(map(process_criterion, criterion))\n",
    "        if (ncrit := len(criteria)) == 0:\n",
    "            raise ValueError\n",
    "        if ncrit == 1:\n",
    "            criterion = criteria[0]\n",
    "        elif istup:\n",
    "            def criterion(args, /, *, funcs=criteria):\n",
    "                return all(\n",
    "                    func(arg)\n",
    "                    for func, arg in _itertools.zip_longest(funcs, args)\n",
    "                    )\n",
    "        else:\n",
    "            def criterion(arg, /, *, funcs=criteria):\n",
    "                return all(\n",
    "                    func(arg)\n",
    "                    for func in funcs\n",
    "                    )\n",
    "    elif isinstance(criterion, type):\n",
    "        def criterion(arg, argtyp=criterion, /):\n",
    "            return isinstance(arg, argtyp)\n",
    "    elif not callable(criterion):\n",
    "        raise TypeError(criterion)\n",
    "    return criterion\n",
    "\n",
    "\n",
    "def process_criteria(*criteria):\n",
    "    func = process_criterion(criteria)\n",
    "    def criterion(*args, func=func):\n",
    "        return func(args)\n",
    "    return criterion\n",
    "\n",
    "###############################################################################"
   ]
  },
  {
   "cell_type": "code",
   "execution_count": null,
   "id": "b78a59b7-8479-462d-a026-879cd3f250c1",
   "metadata": {},
   "outputs": [],
   "source": [
    "critfunc = process_criteria(\n",
    "    int,\n",
    "    ([float, lambda x: x > 10.], str),\n",
    "    )"
   ]
  },
  {
   "cell_type": "code",
   "execution_count": null,
   "id": "0a83fa83-8ce1-4c4d-94bc-1f7ad1a94357",
   "metadata": {},
   "outputs": [],
   "source": [
    "critfunc(1, (20., 'a'))"
   ]
  },
  {
   "cell_type": "code",
   "execution_count": null,
   "id": "4d3ae026-6269-4107-96e2-06ce48727f02",
   "metadata": {},
   "outputs": [],
   "source": [
    "dir(operator)"
   ]
  },
  {
   "cell_type": "code",
   "execution_count": null,
   "id": "c7c810d9-7119-4185-be56-46e1afd63a40",
   "metadata": {},
   "outputs": [],
   "source": [
    "map"
   ]
  },
  {
   "cell_type": "code",
   "execution_count": null,
   "id": "df392bce-58d0-411a-bc2b-19ceec6ce294",
   "metadata": {},
   "outputs": [],
   "source": [
    "operator.attrgetter()"
   ]
  }
 ],
 "metadata": {
  "kernelspec": {
   "display_name": "Python 3 (ipykernel)",
   "language": "python",
   "name": "python3"
  },
  "language_info": {
   "codemirror_mode": {
    "name": "ipython",
    "version": 3
   },
   "file_extension": ".py",
   "mimetype": "text/x-python",
   "name": "python",
   "nbconvert_exporter": "python",
   "pygments_lexer": "ipython3",
   "version": "3.9.5"
  }
 },
 "nbformat": 4,
 "nbformat_minor": 5
}
