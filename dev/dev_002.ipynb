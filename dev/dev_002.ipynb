{
 "cells": [
  {
   "cell_type": "code",
   "execution_count": 1,
   "id": "a7da45c8-47a4-4998-a59b-8136737b591a",
   "metadata": {},
   "outputs": [],
   "source": [
    "import aliases"
   ]
  },
  {
   "cell_type": "code",
   "execution_count": 2,
   "id": "6b782bb5-30b3-4784-8f4b-a875fa21f00f",
   "metadata": {},
   "outputs": [],
   "source": [
    "import numbers\n",
    "\n",
    "from everest.ptolemaic.incision.sett import Sett\n",
    "from everest.ptolemaic.incision.structure import Structure, Operator"
   ]
  },
  {
   "cell_type": "code",
   "execution_count": 3,
   "id": "261dc82e-9f9f-40b5-ac29-be294a32d783",
   "metadata": {},
   "outputs": [
    {
     "ename": "NameError",
     "evalue": "name 'choras' is not defined",
     "output_type": "error",
     "traceback": [
      "\u001b[0;31m---------------------------------------------------------------------------\u001b[0m",
      "\u001b[0;31mNameError\u001b[0m                                 Traceback (most recent call last)",
      "\u001b[0;32m/tmp/ipykernel_710/1120287248.py\u001b[0m in \u001b[0;36m<module>\u001b[0;34m\u001b[0m\n\u001b[1;32m      1\u001b[0m \u001b[0mmycond\u001b[0m \u001b[0;34m=\u001b[0m \u001b[0;32mlambda\u001b[0m \u001b[0mx\u001b[0m\u001b[0;34m:\u001b[0m \u001b[0mx\u001b[0m \u001b[0;34m>\u001b[0m \u001b[0;36m10\u001b[0m\u001b[0;34m\u001b[0m\u001b[0;34m\u001b[0m\u001b[0m\n\u001b[0;32m----> 2\u001b[0;31m mystruct = Structure(\n\u001b[0m\u001b[1;32m      3\u001b[0m     \u001b[0ms\u001b[0m \u001b[0;34m:=\u001b[0m \u001b[0mSett\u001b[0m\u001b[0;34m(\u001b[0m\u001b[0mint\u001b[0m\u001b[0;34m)\u001b[0m\u001b[0;34m[\u001b[0m\u001b[0;34m:\u001b[0m\u001b[0;34m:\u001b[0m\u001b[0mmycond\u001b[0m\u001b[0;34m]\u001b[0m\u001b[0;34m,\u001b[0m\u001b[0;34m\u001b[0m\u001b[0;34m\u001b[0m\u001b[0m\n\u001b[1;32m      4\u001b[0m     \u001b[0maddid\u001b[0m\u001b[0;34m=\u001b[0m\u001b[0mOperator\u001b[0m\u001b[0;34m(\u001b[0m\u001b[0ms\u001b[0m\u001b[0;34m)\u001b[0m\u001b[0;34m,\u001b[0m\u001b[0;34m\u001b[0m\u001b[0;34m\u001b[0m\u001b[0m\n\u001b[1;32m      5\u001b[0m     \u001b[0maddinv\u001b[0m\u001b[0;34m=\u001b[0m\u001b[0mOperator\u001b[0m\u001b[0;34m(\u001b[0m\u001b[0ms\u001b[0m\u001b[0;34m,\u001b[0m \u001b[0ms\u001b[0m\u001b[0;34m)\u001b[0m\u001b[0;34m,\u001b[0m\u001b[0;34m\u001b[0m\u001b[0;34m\u001b[0m\u001b[0m\n",
      "\u001b[0;32m~/workspace/mount/everest/ptolemaic/ptolemaic.py\u001b[0m in \u001b[0;36m__call__\u001b[0;34m(cls, *args, **kwargs)\u001b[0m\n\u001b[1;32m     43\u001b[0m \u001b[0;34m\u001b[0m\u001b[0m\n\u001b[1;32m     44\u001b[0m     \u001b[0;32mdef\u001b[0m \u001b[0m__call__\u001b[0m\u001b[0;34m(\u001b[0m\u001b[0mcls\u001b[0m\u001b[0;34m,\u001b[0m \u001b[0;34m*\u001b[0m\u001b[0margs\u001b[0m\u001b[0;34m,\u001b[0m \u001b[0;34m**\u001b[0m\u001b[0mkwargs\u001b[0m\u001b[0;34m)\u001b[0m\u001b[0;34m:\u001b[0m\u001b[0;34m\u001b[0m\u001b[0;34m\u001b[0m\u001b[0m\n\u001b[0;32m---> 45\u001b[0;31m         \u001b[0;32mreturn\u001b[0m \u001b[0mcls\u001b[0m\u001b[0;34m.\u001b[0m\u001b[0minstantiate\u001b[0m\u001b[0;34m(\u001b[0m\u001b[0;34m*\u001b[0m\u001b[0margs\u001b[0m\u001b[0;34m,\u001b[0m \u001b[0;34m**\u001b[0m\u001b[0mkwargs\u001b[0m\u001b[0;34m)\u001b[0m\u001b[0;34m\u001b[0m\u001b[0;34m\u001b[0m\u001b[0m\n\u001b[0m\u001b[1;32m     46\u001b[0m \u001b[0;34m\u001b[0m\u001b[0m\n\u001b[1;32m     47\u001b[0m \u001b[0;34m\u001b[0m\u001b[0m\n",
      "\u001b[0;32m~/workspace/mount/everest/ptolemaic/ptolemaic.py\u001b[0m in \u001b[0;36minstantiate\u001b[0;34m(cls, *args, **kwargs)\u001b[0m\n\u001b[1;32m     58\u001b[0m     \u001b[0;34m@\u001b[0m\u001b[0mclassmethod\u001b[0m\u001b[0;34m\u001b[0m\u001b[0;34m\u001b[0m\u001b[0m\n\u001b[1;32m     59\u001b[0m     \u001b[0;32mdef\u001b[0m \u001b[0minstantiate\u001b[0m\u001b[0;34m(\u001b[0m\u001b[0mcls\u001b[0m\u001b[0;34m,\u001b[0m \u001b[0;34m*\u001b[0m\u001b[0margs\u001b[0m\u001b[0;34m,\u001b[0m \u001b[0;34m**\u001b[0m\u001b[0mkwargs\u001b[0m\u001b[0;34m)\u001b[0m\u001b[0;34m:\u001b[0m\u001b[0;34m\u001b[0m\u001b[0;34m\u001b[0m\u001b[0m\n\u001b[0;32m---> 60\u001b[0;31m         \u001b[0;32mreturn\u001b[0m \u001b[0mtype\u001b[0m\u001b[0;34m(\u001b[0m\u001b[0mcls\u001b[0m\u001b[0;34m)\u001b[0m\u001b[0;34m.\u001b[0m\u001b[0minstantiate\u001b[0m\u001b[0;34m(\u001b[0m\u001b[0mcls\u001b[0m\u001b[0;34m,\u001b[0m \u001b[0;34m*\u001b[0m\u001b[0margs\u001b[0m\u001b[0;34m,\u001b[0m \u001b[0;34m**\u001b[0m\u001b[0mkwargs\u001b[0m\u001b[0;34m)\u001b[0m\u001b[0;34m\u001b[0m\u001b[0;34m\u001b[0m\u001b[0m\n\u001b[0m\u001b[1;32m     61\u001b[0m \u001b[0;34m\u001b[0m\u001b[0m\n\u001b[1;32m     62\u001b[0m \u001b[0;34m\u001b[0m\u001b[0m\n",
      "\u001b[0;32m~/workspace/mount/everest/ptolemaic/ptolemaic.py\u001b[0m in \u001b[0;36minstantiate\u001b[0;34m(cls, *args, **kwargs)\u001b[0m\n\u001b[1;32m     37\u001b[0m         \u001b[0;32mif\u001b[0m \u001b[0;34m(\u001b[0m\u001b[0mhashID\u001b[0m \u001b[0;34m:=\u001b[0m \u001b[0mregistrar\u001b[0m\u001b[0;34m.\u001b[0m\u001b[0mhashID\u001b[0m\u001b[0;34m)\u001b[0m \u001b[0;32min\u001b[0m \u001b[0;34m(\u001b[0m\u001b[0mdct\u001b[0m \u001b[0;34m:=\u001b[0m \u001b[0mcls\u001b[0m\u001b[0;34m.\u001b[0m\u001b[0m__dict__\u001b[0m\u001b[0;34m[\u001b[0m\u001b[0;34m'premade'\u001b[0m\u001b[0;34m]\u001b[0m\u001b[0;34m)\u001b[0m\u001b[0;34m:\u001b[0m\u001b[0;34m\u001b[0m\u001b[0;34m\u001b[0m\u001b[0m\n\u001b[1;32m     38\u001b[0m             \u001b[0;32mreturn\u001b[0m \u001b[0mdct\u001b[0m\u001b[0;34m[\u001b[0m\u001b[0mhashID\u001b[0m\u001b[0;34m]\u001b[0m\u001b[0;34m\u001b[0m\u001b[0;34m\u001b[0m\u001b[0m\n\u001b[0;32m---> 39\u001b[0;31m         \u001b[0mobj\u001b[0m \u001b[0;34m=\u001b[0m \u001b[0msuper\u001b[0m\u001b[0;34m(\u001b[0m\u001b[0;34m)\u001b[0m\u001b[0;34m.\u001b[0m\u001b[0m__call__\u001b[0m\u001b[0;34m(\u001b[0m\u001b[0;34m*\u001b[0m\u001b[0mregistrar\u001b[0m\u001b[0;34m.\u001b[0m\u001b[0margs\u001b[0m\u001b[0;34m,\u001b[0m \u001b[0;34m**\u001b[0m\u001b[0mregistrar\u001b[0m\u001b[0;34m.\u001b[0m\u001b[0mkwargs\u001b[0m\u001b[0;34m)\u001b[0m\u001b[0;34m\u001b[0m\u001b[0;34m\u001b[0m\u001b[0m\n\u001b[0m\u001b[1;32m     40\u001b[0m         \u001b[0mobj\u001b[0m\u001b[0;34m.\u001b[0m\u001b[0m_registrar\u001b[0m \u001b[0;34m=\u001b[0m \u001b[0mregistrar\u001b[0m\u001b[0;34m\u001b[0m\u001b[0;34m\u001b[0m\u001b[0m\n\u001b[1;32m     41\u001b[0m         \u001b[0mdct\u001b[0m\u001b[0;34m[\u001b[0m\u001b[0mhashID\u001b[0m\u001b[0;34m]\u001b[0m \u001b[0;34m=\u001b[0m \u001b[0mobj\u001b[0m\u001b[0;34m\u001b[0m\u001b[0;34m\u001b[0m\u001b[0m\n",
      "\u001b[0;32m~/workspace/mount/everest/ptolemaic/incision/structure.py\u001b[0m in \u001b[0;36m__init__\u001b[0;34m(self, chora, **operations)\u001b[0m\n\u001b[1;32m     45\u001b[0m         \u001b[0;32mif\u001b[0m \u001b[0mchora\u001b[0m \u001b[0;32mis\u001b[0m \u001b[0;32mNone\u001b[0m\u001b[0;34m:\u001b[0m\u001b[0;34m\u001b[0m\u001b[0;34m\u001b[0m\u001b[0m\n\u001b[1;32m     46\u001b[0m             \u001b[0mchora\u001b[0m \u001b[0;34m=\u001b[0m \u001b[0m_Sett\u001b[0m\u001b[0;34m(\u001b[0m\u001b[0;34m)\u001b[0m\u001b[0;34m\u001b[0m\u001b[0;34m\u001b[0m\u001b[0m\n\u001b[0;32m---> 47\u001b[0;31m         \u001b[0mself\u001b[0m\u001b[0;34m.\u001b[0m\u001b[0mregister_argskwargs\u001b[0m\u001b[0;34m(\u001b[0m\u001b[0;34m*\u001b[0m\u001b[0mchoras\u001b[0m\u001b[0;34m,\u001b[0m \u001b[0;34m**\u001b[0m\u001b[0moperations\u001b[0m\u001b[0;34m)\u001b[0m\u001b[0;34m\u001b[0m\u001b[0;34m\u001b[0m\u001b[0m\n\u001b[0m\u001b[1;32m     48\u001b[0m         \u001b[0mself\u001b[0m\u001b[0;34m.\u001b[0m\u001b[0mchoras\u001b[0m \u001b[0;34m=\u001b[0m \u001b[0mchoras\u001b[0m\u001b[0;34m\u001b[0m\u001b[0;34m\u001b[0m\u001b[0m\n\u001b[1;32m     49\u001b[0m         \u001b[0mself\u001b[0m\u001b[0;34m.\u001b[0m\u001b[0moperations\u001b[0m \u001b[0;34m=\u001b[0m \u001b[0moperations\u001b[0m\u001b[0;34m\u001b[0m\u001b[0;34m\u001b[0m\u001b[0m\n",
      "\u001b[0;31mNameError\u001b[0m: name 'choras' is not defined"
     ]
    }
   ],
   "source": [
    "mycond = lambda x: x > 10\n",
    "mystruct = Structure(\n",
    "    s := Sett(int)[::mycond],\n",
    "    addid=Operator(s),\n",
    "    addinv=Operator(s, s),\n",
    "    add=Operator(s, s, s),\n",
    "    )\n",
    "assert 11 in mystruct and not 1 in mystruct"
   ]
  },
  {
   "cell_type": "code",
   "execution_count": null,
   "id": "40ab1d55-825e-4b61-baf4-26b169a2a7e1",
   "metadata": {},
   "outputs": [],
   "source": [
    "mystruct[22]"
   ]
  },
  {
   "cell_type": "code",
   "execution_count": null,
   "id": "1f9d849c-5985-4dc2-a1fb-c34922808ec4",
   "metadata": {},
   "outputs": [],
   "source": [
    "class Orderable(Structure):\n",
    "\n",
    "    def __init__(self, chora=None):\n",
    "        \n",
    "        if chora is not None:\n",
    "            super().__init__(chora)"
   ]
  },
  {
   "cell_type": "code",
   "execution_count": null,
   "id": "f8e7e185-e4b6-4b19-9a6a-1cd87c9ab94f",
   "metadata": {},
   "outputs": [],
   "source": [
    "class Delimited(Structure):\n",
    "\n",
    "    def __init__(self, chora0):\n",
    "        super().__init__(chora0)\n",
    "        self.choras = (self.chora)"
   ]
  },
  {
   "cell_type": "code",
   "execution_count": null,
   "id": "26838ef8-6960-4c14-8645-026a7ef522c8",
   "metadata": {},
   "outputs": [],
   "source": [
    "from abc import abstractmethod as _abstractmethod, ABCMeta as _ABCMeta\n",
    "import weakref as _weakref\n",
    "\n",
    "from everest.utilities import classtools as _classtools\n",
    "\n",
    "\n",
    "class Perpetual(type):\n",
    "\n",
    "    unique = False\n",
    "\n",
    "    def __init__(cls, /, *args, **kwargs):\n",
    "        _ = _classtools.Diskable(cls)\n",
    "        if cls.unique:\n",
    "            cls.premade = _weakref.WeakValueDictionary()\n",
    "        super().__init__(*args, **kwargs)\n",
    "\n",
    "    def parameterise(cls, *args, **kwargs):\n",
    "        return args, kwargs\n",
    "\n",
    "    def __call__(cls, *args, **kwargs):\n",
    "        args, kwargs = cls.parameterise(*args, **kwargs)\n",
    "        obj = cls.__new__(cls, *args, **kwargs)\n",
    "        obj.register_argskwargs(*args, **kwargs)\n",
    "        if cls.unique:\n",
    "            if (hashID := obj.hashID) in (dct := cls.premade):\n",
    "                return dct[hashID]\n",
    "            dct[hashID] = obj\n",
    "        obj.__init__(*args, **kwargs)\n",
    "        return obj\n",
    "\n",
    "\n",
    "class MyClass(metaclass=Perpetual):\n",
    "\n",
    "    unique = True\n",
    "\n",
    "    def __init__(self, a, b, c=3):\n",
    "        print(a, b, c)"
   ]
  },
  {
   "cell_type": "code",
   "execution_count": null,
   "id": "b3180e93-23e8-459f-b74f-303fac3e52d4",
   "metadata": {},
   "outputs": [],
   "source": [
    "myobj = MyClass('foo', 'bah')"
   ]
  },
  {
   "cell_type": "code",
   "execution_count": null,
   "id": "03aa93c0-f755-4734-849b-a5794ebf2282",
   "metadata": {},
   "outputs": [],
   "source": [
    "myobj2 = MyClass('foo', 'bah')"
   ]
  },
  {
   "cell_type": "code",
   "execution_count": null,
   "id": "31438970-c705-48e3-b625-b641a8037897",
   "metadata": {},
   "outputs": [],
   "source": [
    "myobj is myobj2"
   ]
  },
  {
   "cell_type": "code",
   "execution_count": null,
   "id": "2a9607d9-d9fd-40d0-bafb-7030e00ae274",
   "metadata": {},
   "outputs": [],
   "source": [
    "myobj"
   ]
  },
  {
   "cell_type": "code",
   "execution_count": null,
   "id": "90b1c824-c57f-47e1-b597-382536099147",
   "metadata": {},
   "outputs": [],
   "source": [
    "myobj2"
   ]
  },
  {
   "cell_type": "code",
   "execution_count": null,
   "id": "a95fe5bc-1ef9-44b8-a0e2-c9d382571d42",
   "metadata": {},
   "outputs": [],
   "source": [
    "myobj.foo = 1\n",
    "myobj2.foo"
   ]
  },
  {
   "cell_type": "code",
   "execution_count": null,
   "id": "73edf492-bc63-4079-95db-3cd62734df9a",
   "metadata": {},
   "outputs": [],
   "source": [
    "type.__call__"
   ]
  },
  {
   "cell_type": "code",
   "execution_count": null,
   "id": "c65b0182-16b1-46a6-857a-3be42d752300",
   "metadata": {},
   "outputs": [],
   "source": []
  }
 ],
 "metadata": {
  "kernelspec": {
   "display_name": "Python 3 (ipykernel)",
   "language": "python",
   "name": "python3"
  },
  "language_info": {
   "codemirror_mode": {
    "name": "ipython",
    "version": 3
   },
   "file_extension": ".py",
   "mimetype": "text/x-python",
   "name": "python",
   "nbconvert_exporter": "python",
   "pygments_lexer": "ipython3",
   "version": "3.9.5"
  }
 },
 "nbformat": 4,
 "nbformat_minor": 5
}
