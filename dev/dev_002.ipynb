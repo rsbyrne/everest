{
 "cells": [
  {
   "cell_type": "code",
   "execution_count": 1,
   "id": "a7da45c8-47a4-4998-a59b-8136737b591a",
   "metadata": {},
   "outputs": [],
   "source": [
    "import aliases"
   ]
  },
  {
   "cell_type": "code",
   "execution_count": 2,
   "id": "64379366-9bae-4a58-9a15-1d889dfec87e",
   "metadata": {},
   "outputs": [],
   "source": [
    "from everest.ptolemaic.algebra import *"
   ]
  },
  {
   "cell_type": "code",
   "execution_count": 3,
   "id": "c60e2172-13a3-49b5-9b53-8ab417a0f9b2",
   "metadata": {},
   "outputs": [
    {
     "data": {
      "text/plain": [
       "(1, 2, 3, 4, 5)"
      ]
     },
     "execution_count": 3,
     "metadata": {},
     "output_type": "execute_result"
    }
   ],
   "source": [
    "myop = Operator('add', '+', associative=True, commutative=True)\n",
    "myopt = myop(myop(4, 5), 3, myop(1, 2))\n",
    "myopt.operands"
   ]
  },
  {
   "cell_type": "code",
   "execution_count": 6,
   "id": "74660c51-573f-45dd-b4e9-523ed9eae731",
   "metadata": {},
   "outputs": [],
   "source": [
    "sett = Sett(int, lambda x: x > 10)"
   ]
  },
  {
   "cell_type": "code",
   "execution_count": 7,
   "id": "410ba2b8-ad02-4bbd-a9c0-136374608f87",
   "metadata": {},
   "outputs": [
    {
     "data": {
      "text/plain": [
       "True"
      ]
     },
     "execution_count": 7,
     "metadata": {},
     "output_type": "execute_result"
    }
   ],
   "source": [
    "11 in sett and not 1 in sett"
   ]
  },
  {
   "cell_type": "code",
   "execution_count": null,
   "id": "20cc1a70-76f7-4190-a270-722d7a7fcb01",
   "metadata": {},
   "outputs": [],
   "source": [
    "class Closed:\n",
    "    ...\n",
    "\n",
    "class Bounded:\n",
    "    ...\n",
    "\n",
    "class Compact(Closed, Bounded):\n",
    "    ..."
   ]
  }
 ],
 "metadata": {
  "kernelspec": {
   "display_name": "Python 3 (ipykernel)",
   "language": "python",
   "name": "python3"
  },
  "language_info": {
   "codemirror_mode": {
    "name": "ipython",
    "version": 3
   },
   "file_extension": ".py",
   "mimetype": "text/x-python",
   "name": "python",
   "nbconvert_exporter": "python",
   "pygments_lexer": "ipython3",
   "version": "3.9.5"
  }
 },
 "nbformat": 4,
 "nbformat_minor": 5
}
