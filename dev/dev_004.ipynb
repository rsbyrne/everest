{
 "cells": [
  {
   "cell_type": "code",
   "execution_count": 1,
   "id": "b6bd069e-5122-4c18-9a3d-ec1e6b0c1041",
   "metadata": {},
   "outputs": [],
   "source": [
    "import aliases"
   ]
  },
  {
   "cell_type": "code",
   "execution_count": 2,
   "id": "0c590e38-c77b-4cce-a15b-7add6b99c5b8",
   "metadata": {},
   "outputs": [],
   "source": [
    "from everest.ptolemaic.sprite import Sprite"
   ]
  },
  {
   "cell_type": "code",
   "execution_count": 3,
   "id": "f37f7a54-7b0d-4e71-8000-ef75c771bdf3",
   "metadata": {},
   "outputs": [],
   "source": [
    "class MySprite(Sprite):\n",
    "\n",
    "    a : Sprite.Param.Pos()\n",
    "    b : Sprite.Param.Pos() = 'B'\n",
    "    c : Sprite.Param.PosKw() = 'C'\n",
    "    d : Sprite.Param.PosKw() = 'D'\n",
    "    e : Sprite.Param.Kw()\n",
    "    f : Sprite.Param.Kw() = 'F'\n",
    "\n",
    "#     @classmethod\n",
    "#     def parameterise(cls, register):\n",
    "#         rpos, opos, rposkw, oposkw, rkw, poskw = cls._classbodyparams\n",
    "#         for i in range(sum(map(len, (rpos, opos, rposkw, oposkw))))\n",
    "#         if missing := rpos[register.nargs:]:\n",
    "#             raise ValueError(\n",
    "#                 f\"Failed to provide required positional arguments:\"\n",
    "#                 f\"{set(missing)}\"\n",
    "#                 )\n",
    "#         register(opos[register.nargs - len(rpos):])\n",
    "#         register.nargs - rpos\n",
    "#         register(a, b, c=3)\n",
    "#         super().parameterise(register)"
   ]
  },
  {
   "cell_type": "code",
   "execution_count": 4,
   "id": "f867d3e8-d519-43f3-b866-7b1501e8e0b7",
   "metadata": {},
   "outputs": [],
   "source": [
    "myobj = MySprite(1, e=3)"
   ]
  },
  {
   "cell_type": "code",
   "execution_count": 5,
   "id": "45262cf4-7f37-40c9-b028-0f62d43084c3",
   "metadata": {},
   "outputs": [
    {
     "data": {
      "text/plain": [
       "MySprite(a=1, b=B, c=C, d=D, e=3, f=F)"
      ]
     },
     "execution_count": 5,
     "metadata": {},
     "output_type": "execute_result"
    }
   ],
   "source": [
    "myobj"
   ]
  },
  {
   "cell_type": "code",
   "execution_count": null,
   "id": "715a8231-093d-4d81-b32d-1d9d2fa8b16d",
   "metadata": {},
   "outputs": [],
   "source": []
  },
  {
   "cell_type": "code",
   "execution_count": null,
   "id": "87289594-a271-4e60-b762-d8997437fd48",
   "metadata": {},
   "outputs": [],
   "source": []
  }
 ],
 "metadata": {
  "kernelspec": {
   "display_name": "Python 3 (ipykernel)",
   "language": "python",
   "name": "python3"
  },
  "language_info": {
   "codemirror_mode": {
    "name": "ipython",
    "version": 3
   },
   "file_extension": ".py",
   "mimetype": "text/x-python",
   "name": "python",
   "nbconvert_exporter": "python",
   "pygments_lexer": "ipython3",
   "version": "3.9.5"
  }
 },
 "nbformat": 4,
 "nbformat_minor": 5
}
