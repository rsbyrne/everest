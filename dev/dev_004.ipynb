{
 "cells": [
  {
   "cell_type": "code",
   "execution_count": 1,
   "id": "b6bd069e-5122-4c18-9a3d-ec1e6b0c1041",
   "metadata": {},
   "outputs": [],
   "source": [
    "import aliases"
   ]
  },
  {
   "cell_type": "code",
   "execution_count": 3,
   "id": "0c590e38-c77b-4cce-a15b-7add6b99c5b8",
   "metadata": {},
   "outputs": [],
   "source": [
    "from everest.ptolemaic.sprites.sprite import Sprite\n",
    "from everest.utilities import classtools"
   ]
  },
  {
   "cell_type": "code",
   "execution_count": 4,
   "id": "6a0f0196-0d9c-4aa1-856e-c1726d7bfbaf",
   "metadata": {},
   "outputs": [],
   "source": [
    "from everest.ptolemaic.schemas.schema import Schema"
   ]
  },
  {
   "cell_type": "code",
   "execution_count": 6,
   "id": "8f7c38fe-d6b2-48b5-97cb-cfc71f062914",
   "metadata": {},
   "outputs": [],
   "source": [
    "class A(Schema):\n",
    "    a: Schema.Param.Kw = 'foo'\n",
    "\n",
    "class B(A):\n",
    "    a = 1"
   ]
  },
  {
   "cell_type": "code",
   "execution_count": null,
   "id": "6965de4d-f4b1-4a4c-ad5c-b126968baa1e",
   "metadata": {},
   "outputs": [],
   "source": [
    "B"
   ]
  },
  {
   "cell_type": "code",
   "execution_count": null,
   "id": "e435ac91-b726-4dfc-8829-e158c0782bed",
   "metadata": {},
   "outputs": [],
   "source": [
    "A().a = 1"
   ]
  },
  {
   "cell_type": "code",
   "execution_count": null,
   "id": "512bdfba-bb0a-48ae-a73c-9a3c06fddfb3",
   "metadata": {},
   "outputs": [],
   "source": [
    "B"
   ]
  },
  {
   "cell_type": "code",
   "execution_count": null,
   "id": "2fe8968d-54ea-465b-81a9-f75c8c54d34c",
   "metadata": {},
   "outputs": [],
   "source": [
    "class A:\n",
    "    __signature__ = 'foo'"
   ]
  },
  {
   "cell_type": "code",
   "execution_count": null,
   "id": "d3c46e71-0d91-4813-86f5-3a4d06e8f31a",
   "metadata": {},
   "outputs": [],
   "source": [
    "A"
   ]
  },
  {
   "cell_type": "code",
   "execution_count": null,
   "id": "eea56730-d783-4fe3-9e25-5a0e19003f09",
   "metadata": {},
   "outputs": [],
   "source": [
    "class A:\n",
    "    a: 'foo'\n",
    "\n",
    "class B(A):\n",
    "    b: 'boo'"
   ]
  },
  {
   "cell_type": "code",
   "execution_count": null,
   "id": "ac33ea6c-114f-4977-8095-98554c7e6987",
   "metadata": {},
   "outputs": [],
   "source": [
    "A(1)"
   ]
  },
  {
   "cell_type": "code",
   "execution_count": null,
   "id": "8bd72909-9dbb-4f54-8d76-8160c4170955",
   "metadata": {},
   "outputs": [],
   "source": [
    "reversed(B.__mro__)"
   ]
  },
  {
   "cell_type": "code",
   "execution_count": null,
   "id": "4aed435d-2fd6-41ac-8de8-0da0f534587b",
   "metadata": {},
   "outputs": [],
   "source": [
    "mydict = dict(a=1, b=2)"
   ]
  },
  {
   "cell_type": "code",
   "execution_count": null,
   "id": "b5276a25-531d-4aa2-9b35-1db7279bcf0b",
   "metadata": {},
   "outputs": [],
   "source": [
    "reversed(mydict.items())"
   ]
  },
  {
   "cell_type": "code",
   "execution_count": null,
   "id": "1d25ade5-7695-4277-9205-dcb2d5731903",
   "metadata": {},
   "outputs": [],
   "source": [
    "list(mydict.items())"
   ]
  },
  {
   "cell_type": "code",
   "execution_count": null,
   "id": "c5dd5e5b-2fd2-4798-8a9b-75f19e32bff9",
   "metadata": {},
   "outputs": [],
   "source": [
    "filter(mydict.items(), lambda tup: )"
   ]
  },
  {
   "cell_type": "code",
   "execution_count": null,
   "id": "2db48c72-0a74-475f-92de-26df271f661c",
   "metadata": {},
   "outputs": [],
   "source": [
    "dir(mydict)"
   ]
  },
  {
   "cell_type": "code",
   "execution_count": null,
   "id": "cb41d94b-dbbf-4c22-821a-27e3c9899108",
   "metadata": {},
   "outputs": [],
   "source": [
    "dir(B.__mro__)"
   ]
  },
  {
   "cell_type": "code",
   "execution_count": null,
   "id": "9ecdadf4-57d6-48fc-92c2-c0e4fb43e8ca",
   "metadata": {},
   "outputs": [],
   "source": [
    "B.__annotations__"
   ]
  },
  {
   "cell_type": "code",
   "execution_count": null,
   "id": "5e0e9df5-b48a-483e-9b07-7d35ca0759c4",
   "metadata": {},
   "outputs": [],
   "source": []
  },
  {
   "cell_type": "code",
   "execution_count": null,
   "id": "9be61d28-0b20-4762-93e0-15cfe04ccf1e",
   "metadata": {},
   "outputs": [],
   "source": []
  },
  {
   "cell_type": "code",
   "execution_count": null,
   "id": "406d7707-c91a-4ad2-80f6-76bd313b2149",
   "metadata": {},
   "outputs": [],
   "source": [
    "A.premade is B.premade"
   ]
  },
  {
   "cell_type": "code",
   "execution_count": null,
   "id": "77bc08e7-373a-4e93-842f-dcaa9f8fe084",
   "metadata": {},
   "outputs": [],
   "source": [
    "import weakref"
   ]
  },
  {
   "cell_type": "code",
   "execution_count": null,
   "id": "fb177e24-0782-4be4-9dae-9c6c573304f1",
   "metadata": {},
   "outputs": [],
   "source": [
    "A.premade = weakref.WeakValueDictionary()"
   ]
  },
  {
   "cell_type": "code",
   "execution_count": null,
   "id": "1cb40cfe-0f1b-419b-82a6-b414a9d2ac9d",
   "metadata": {},
   "outputs": [],
   "source": [
    "A.premade"
   ]
  },
  {
   "cell_type": "code",
   "execution_count": null,
   "id": "fb771997-c3cd-4e01-90d0-47546a7a339e",
   "metadata": {},
   "outputs": [],
   "source": [
    "B.premade"
   ]
  },
  {
   "cell_type": "code",
   "execution_count": null,
   "id": "cdf2f410-4511-42b7-b1a0-3af9d016d6b8",
   "metadata": {},
   "outputs": [],
   "source": [
    "MyClass()"
   ]
  },
  {
   "cell_type": "code",
   "execution_count": null,
   "id": "6a40b384-d6da-4365-aa97-e943d887a430",
   "metadata": {},
   "outputs": [],
   "source": [
    "dir(MyClass)"
   ]
  },
  {
   "cell_type": "code",
   "execution_count": null,
   "id": "015185c9-a532-4443-8bb0-e9d77fd1bafd",
   "metadata": {},
   "outputs": [],
   "source": [
    "class Tuuple(Sprite):\n",
    "    reqslots=('foo',)\n",
    "    content: Sprite.Param.Args\n",
    "    @classmethod\n",
    "    def _cls_extra_init_(cls, /):\n",
    "        defermeths = (\n",
    "            '__getitem__', '__len__', '__contains__',\n",
    "            '__iter__', '__reversed__', 'index', 'count',\n",
    "            )\n",
    "        for meth in defermeths:\n",
    "            classtools.add_defer_meth(cls, meth, 'content')\n",
    "\n",
    "mytup = Tuuple(1, 2, 3)\n",
    "mytup[0]"
   ]
  },
  {
   "cell_type": "code",
   "execution_count": null,
   "id": "30b6ee04-8864-4228-ae9e-2cc51e64d1eb",
   "metadata": {},
   "outputs": [],
   "source": [
    "mytup.content"
   ]
  },
  {
   "cell_type": "code",
   "execution_count": null,
   "id": "4cee3058-0fa4-4cba-b724-158319be391e",
   "metadata": {},
   "outputs": [],
   "source": [
    "import weakref"
   ]
  },
  {
   "cell_type": "code",
   "execution_count": null,
   "id": "2863da47-56be-4748-8a24-a6b8365af23e",
   "metadata": {},
   "outputs": [],
   "source": [
    "weakref.ref(mytup)"
   ]
  },
  {
   "cell_type": "code",
   "execution_count": null,
   "id": "0c325685-2e6b-4c20-96a3-fbfe02fbb1ac",
   "metadata": {},
   "outputs": [],
   "source": [
    "mytup.__hash__()"
   ]
  },
  {
   "cell_type": "code",
   "execution_count": null,
   "id": "639edd9c-e3b2-4575-a80f-9799d0233f2a",
   "metadata": {},
   "outputs": [],
   "source": [
    "class MyProp(property):\n",
    "\n",
    "    def __get__(self, instance, owner=None):\n",
    "        return 'foo'\n",
    "\n",
    "class MyClass:\n",
    "\n",
    "    foo = MyProp()"
   ]
  },
  {
   "cell_type": "code",
   "execution_count": null,
   "id": "8fe87eca-e6fc-4881-b3fb-42962bfdad25",
   "metadata": {},
   "outputs": [],
   "source": [
    "MyClass"
   ]
  },
  {
   "cell_type": "code",
   "execution_count": null,
   "id": "b761e08b-3fb6-47c3-8cd2-ddec50a91565",
   "metadata": {},
   "outputs": [],
   "source": [
    "MyClass().foo"
   ]
  },
  {
   "cell_type": "code",
   "execution_count": null,
   "id": "f37f7a54-7b0d-4e71-8000-ef75c771bdf3",
   "metadata": {},
   "outputs": [],
   "source": [
    "class MySprite(Sprite):\n",
    "\n",
    "    a : Sprite.Param.Pos\n",
    "    b : Sprite.Param.Pos = 'B'\n",
    "    c : Sprite.Param.PosKw = 'C'\n",
    "    d : Sprite.Param.PosKw = 'D'\n",
    "    e : Sprite.Param.Kw\n",
    "    f : Sprite.Param.Kw = 'F'\n",
    "\n",
    "\n",
    "class MySubSprite(MySprite):\n",
    "#     b = 'BB'\n",
    "    ..."
   ]
  },
  {
   "cell_type": "code",
   "execution_count": null,
   "id": "e35c85f1-37a5-49cf-954b-0b069f1680ac",
   "metadata": {},
   "outputs": [],
   "source": [
    "MySprite('A', e='E')"
   ]
  },
  {
   "cell_type": "code",
   "execution_count": null,
   "id": "7c3a2d8f-2742-4239-b104-add3847260f1",
   "metadata": {},
   "outputs": [],
   "source": [
    "MySubSprite('A', e='E')"
   ]
  },
  {
   "cell_type": "code",
   "execution_count": null,
   "id": "69ffd972-3d24-47fa-b83d-4d54ab460b2e",
   "metadata": {},
   "outputs": [],
   "source": []
  },
  {
   "cell_type": "code",
   "execution_count": null,
   "id": "95ef6197-3210-4107-a0b2-5904b0f75735",
   "metadata": {},
   "outputs": [],
   "source": [
    "MySprite.__signature__"
   ]
  },
  {
   "cell_type": "code",
   "execution_count": null,
   "id": "8a1ccc8a-0bc9-4c72-87b1-ca413bfe9dbc",
   "metadata": {},
   "outputs": [],
   "source": [
    "MySubSprite.__signature__"
   ]
  },
  {
   "cell_type": "code",
   "execution_count": null,
   "id": "559df3a6-b57e-4161-a8d9-fa2860051371",
   "metadata": {},
   "outputs": [],
   "source": [
    "from inspect import (\n",
    "    Parameter as _Parameter,\n",
    "    _ParameterKind,\n",
    "    )\n",
    "\n",
    "\n",
    "class Param:\n",
    "\n",
    "    __slots__ = ('name', 'default')\n",
    "\n",
    "    hint = _Parameter.empty\n",
    "    kind = _ParameterKind.POSITIONAL_OR_KEYWORD\n",
    "\n",
    "    def __init__(self, name, default=_Parameter.empty, /):\n",
    "        self.name, self.default = name, default\n",
    "        self.parameter = _Parameter(\n",
    "            name, self.kind,\n",
    "            default=default, annotation=self.hint,\n",
    "            )\n",
    "\n",
    "    def __get__(self, instance, /, *, owner=None):\n",
    "        return getattr(instance.params, self.name)\n",
    "\n",
    "    @classmethod\n",
    "    def __class_getitem__(cls, arg: type, /):\n",
    "        return type(\n",
    "            f\"{cls.__name__}[{arg.__name__}]\",\n",
    "            (cls,),\n",
    "            dict(hint=arg),\n",
    "            )\n",
    "\n",
    "    def _repr(self):\n",
    "        return f\"{self.name}={self.default}\"\n",
    "\n",
    "    def __repr__(self):\n",
    "        return f\"{type(self).__name__}({self._repr()})\"\n",
    "\n",
    "\n",
    "for kind, alias in zip(\n",
    "        _ParameterKind,\n",
    "        ('Pos', 'Kw', 'Args', 'Kwargs'),\n",
    "        ):\n",
    "    subcls = type(\n",
    "        f\"{Param.__name__}.{alias}\",\n",
    "        (Param,),\n",
    "        dict(kind=kind),\n",
    "        )\n",
    "    setattr(Param, alias, subcls)"
   ]
  },
  {
   "cell_type": "code",
   "execution_count": null,
   "id": "9e0d1b3b-bab5-4d80-be97-1f48048579e9",
   "metadata": {},
   "outputs": [],
   "source": [
    "Param.Pos[int]('a', 1)"
   ]
  },
  {
   "cell_type": "code",
   "execution_count": null,
   "id": "75d79232-accb-43ad-a116-cafb6a500a9a",
   "metadata": {},
   "outputs": [],
   "source": []
  }
 ],
 "metadata": {
  "kernelspec": {
   "display_name": "Python 3 (ipykernel)",
   "language": "python",
   "name": "python3"
  },
  "language_info": {
   "codemirror_mode": {
    "name": "ipython",
    "version": 3
   },
   "file_extension": ".py",
   "mimetype": "text/x-python",
   "name": "python",
   "nbconvert_exporter": "python",
   "pygments_lexer": "ipython3",
   "version": "3.9.5"
  }
 },
 "nbformat": 4,
 "nbformat_minor": 5
}
