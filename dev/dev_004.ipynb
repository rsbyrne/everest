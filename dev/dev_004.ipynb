{
 "cells": [
  {
   "cell_type": "code",
   "execution_count": 1,
   "id": "b6bd069e-5122-4c18-9a3d-ec1e6b0c1041",
   "metadata": {},
   "outputs": [],
   "source": [
    "import aliases"
   ]
  },
  {
   "cell_type": "code",
   "execution_count": 3,
   "id": "0c590e38-c77b-4cce-a15b-7add6b99c5b8",
   "metadata": {},
   "outputs": [],
   "source": [
    "from everest.ptolemaic.sprites.sprite import Sprite\n",
    "from everest.utilities import classtools"
   ]
  },
  {
   "cell_type": "code",
   "execution_count": 4,
   "id": "6a0f0196-0d9c-4aa1-856e-c1726d7bfbaf",
   "metadata": {},
   "outputs": [],
   "source": [
    "from everest.ptolemaic.schemas.schema import Schema\n",
    "Param = Schema.Param"
   ]
  },
  {
   "cell_type": "code",
   "execution_count": 5,
   "id": "8f7c38fe-d6b2-48b5-97cb-cfc71f062914",
   "metadata": {},
   "outputs": [
    {
     "data": {
      "text/plain": [
       "True"
      ]
     },
     "execution_count": 5,
     "metadata": {},
     "output_type": "execute_result"
    }
   ],
   "source": [
    "class A(Schema):\n",
    "    a: Param.Pos\n",
    "    b: Param.Pos = 'B'\n",
    "    c: Param.PosKw\n",
    "    d: Param.PosKw = 'D'\n",
    "    e: Param.Kw\n",
    "    f: Param.Kw[int] = 'F'\n",
    "\n",
    "\n",
    "class B(A):\n",
    "    d: Param.PosKw = 'DD'\n",
    "    b: Param.Pos = 'BB'\n",
    "    args: Param.Args\n",
    "    e: Param.Kw = 'E'\n",
    "    a: Param.Pos\n",
    "    c: Param.PosKw\n",
    "    f: Param.Kw[str] = 'FF'\n",
    "    kwargs: Param.Kwargs\n",
    "\n",
    "B(1, 2, c=3) is B(1, 2, 3)"
   ]
  },
  {
   "cell_type": "code",
   "execution_count": 6,
   "id": "015185c9-a532-4443-8bb0-e9d77fd1bafd",
   "metadata": {},
   "outputs": [
    {
     "data": {
      "text/plain": [
       "1"
      ]
     },
     "execution_count": 6,
     "metadata": {},
     "output_type": "execute_result"
    }
   ],
   "source": [
    "class Tuuple(Sprite):\n",
    "    content: Param.Args\n",
    "    @classmethod\n",
    "    def _cls_extra_init_(cls, /):\n",
    "        defermeths = (\n",
    "            '__getitem__', '__len__', '__contains__',\n",
    "            '__iter__', '__reversed__', 'index', 'count',\n",
    "            )\n",
    "        for meth in defermeths:\n",
    "            classtools.add_defer_meth(cls, meth, 'content')\n",
    "        super()._cls_extra_init_()\n",
    "\n",
    "mytup = Tuuple(1, 2, 3)\n",
    "mytup[0]"
   ]
  },
  {
   "cell_type": "code",
   "execution_count": null,
   "id": "c924aaaf-9834-455a-a0f3-40da1e20b3c0",
   "metadata": {},
   "outputs": [],
   "source": [
    "import inspect"
   ]
  },
  {
   "cell_type": "code",
   "execution_count": null,
   "id": "81fa4162-4b81-4694-8211-d56f6e346c25",
   "metadata": {},
   "outputs": [],
   "source": [
    "dir(inspect)"
   ]
  },
  {
   "cell_type": "code",
   "execution_count": null,
   "id": "b968b2e8-5ca7-4533-aa54-455835f1e650",
   "metadata": {},
   "outputs": [],
   "source": []
  },
  {
   "cell_type": "code",
   "execution_count": null,
   "id": "a76776a2-464e-4169-a3ef-3368496f86aa",
   "metadata": {},
   "outputs": [],
   "source": [
    "class A(Sprite):\n",
    "\n",
    "    def __init__(self, a, b):\n",
    "        super().__init__()\n",
    "\n",
    "sig = inspect.signature(A.__init__)\n",
    "sig"
   ]
  },
  {
   "cell_type": "code",
   "execution_count": null,
   "id": "bcaf0c7d-3854-4102-b6b9-2c1957c35de1",
   "metadata": {},
   "outputs": [],
   "source": [
    "sig.empty"
   ]
  },
  {
   "cell_type": "code",
   "execution_count": null,
   "id": "ae566fbc-20b0-4cc2-9cc0-691cacd0196f",
   "metadata": {},
   "outputs": [],
   "source": [
    "Tuuple.__init__"
   ]
  },
  {
   "cell_type": "code",
   "execution_count": null,
   "id": "eee08ec9-954d-4ca4-bb6f-2b9f8d767c87",
   "metadata": {},
   "outputs": [],
   "source": []
  }
 ],
 "metadata": {
  "kernelspec": {
   "display_name": "Python 3 (ipykernel)",
   "language": "python",
   "name": "python3"
  },
  "language_info": {
   "codemirror_mode": {
    "name": "ipython",
    "version": 3
   },
   "file_extension": ".py",
   "mimetype": "text/x-python",
   "name": "python",
   "nbconvert_exporter": "python",
   "pygments_lexer": "ipython3",
   "version": "3.9.5"
  }
 },
 "nbformat": 4,
 "nbformat_minor": 5
}
