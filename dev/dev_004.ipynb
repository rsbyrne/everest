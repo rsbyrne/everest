{
 "cells": [
  {
   "cell_type": "code",
   "execution_count": 1,
   "id": "b6bd069e-5122-4c18-9a3d-ec1e6b0c1041",
   "metadata": {},
   "outputs": [],
   "source": [
    "import aliases"
   ]
  },
  {
   "cell_type": "code",
   "execution_count": 2,
   "id": "0c590e38-c77b-4cce-a15b-7add6b99c5b8",
   "metadata": {},
   "outputs": [],
   "source": [
    "from everest.ptolemaic.sprites.sprite import Sprite\n",
    "from everest.utilities import classtools"
   ]
  },
  {
   "cell_type": "code",
   "execution_count": 3,
   "id": "6a0f0196-0d9c-4aa1-856e-c1726d7bfbaf",
   "metadata": {},
   "outputs": [],
   "source": [
    "from everest.ptolemaic.schemas.schema import Schema\n",
    "\n",
    "Param = Schema.Param"
   ]
  },
  {
   "cell_type": "code",
   "execution_count": 4,
   "id": "865cbbec-fcd6-4a2b-b3fd-2fdbadae4d2c",
   "metadata": {},
   "outputs": [],
   "source": [
    "class MySchema(Schema):\n",
    "    myval: Param.Pos = 1"
   ]
  },
  {
   "cell_type": "code",
   "execution_count": 12,
   "id": "6a40b384-d6da-4365-aa97-e943d887a430",
   "metadata": {},
   "outputs": [
    {
     "data": {
      "text/plain": [
       "('params', '_softcache', 'weakref')"
      ]
     },
     "execution_count": 12,
     "metadata": {},
     "output_type": "execute_result"
    }
   ],
   "source": [
    "MySchema.concrete.__slots__"
   ]
  },
  {
   "cell_type": "code",
   "execution_count": 5,
   "id": "bdab3038-f57d-4aee-8f60-05f628c54664",
   "metadata": {},
   "outputs": [
    {
     "ename": "TypeError",
     "evalue": "cannot create weak reference to 'MySchema_concrete' object",
     "output_type": "error",
     "traceback": [
      "\u001b[0;31m---------------------------------------------------------------------------\u001b[0m",
      "\u001b[0;31mTypeError\u001b[0m                                 Traceback (most recent call last)",
      "\u001b[0;32m/tmp/ipykernel_1999/1246599328.py\u001b[0m in \u001b[0;36m<module>\u001b[0;34m\u001b[0m\n\u001b[0;32m----> 1\u001b[0;31m \u001b[0mMySchema\u001b[0m\u001b[0;34m(\u001b[0m\u001b[0;36m1\u001b[0m\u001b[0;34m)\u001b[0m\u001b[0;34m\u001b[0m\u001b[0;34m\u001b[0m\u001b[0m\n\u001b[0m",
      "\u001b[0;32m~/workspace/mount/everest/ptolemaic/pleroma.py\u001b[0m in \u001b[0;36m__call__\u001b[0;34m(cls, *args, **kwargs)\u001b[0m\n\u001b[1;32m    124\u001b[0m         \u001b[0mcls\u001b[0m\u001b[0;34m.\u001b[0m\u001b[0mparameterise\u001b[0m\u001b[0;34m(\u001b[0m\u001b[0mbind\u001b[0m\u001b[0;34m,\u001b[0m \u001b[0;34m*\u001b[0m\u001b[0margs\u001b[0m\u001b[0;34m,\u001b[0m \u001b[0;34m**\u001b[0m\u001b[0mkwargs\u001b[0m\u001b[0;34m)\u001b[0m\u001b[0;34m\u001b[0m\u001b[0;34m\u001b[0m\u001b[0m\n\u001b[1;32m    125\u001b[0m         \u001b[0mparams\u001b[0m \u001b[0;34m=\u001b[0m \u001b[0m_Params\u001b[0m\u001b[0;34m(\u001b[0m\u001b[0mcls\u001b[0m\u001b[0;34m.\u001b[0m\u001b[0m__signature__\u001b[0m\u001b[0;34m,\u001b[0m \u001b[0;34m*\u001b[0m\u001b[0mbind\u001b[0m\u001b[0;34m.\u001b[0m\u001b[0margs\u001b[0m\u001b[0;34m,\u001b[0m \u001b[0;34m**\u001b[0m\u001b[0mbind\u001b[0m\u001b[0;34m.\u001b[0m\u001b[0mkwargs\u001b[0m\u001b[0;34m)\u001b[0m\u001b[0;34m\u001b[0m\u001b[0;34m\u001b[0m\u001b[0m\n\u001b[0;32m--> 126\u001b[0;31m         \u001b[0;32mreturn\u001b[0m \u001b[0mcls\u001b[0m\u001b[0;34m.\u001b[0m\u001b[0minstantiate\u001b[0m\u001b[0;34m(\u001b[0m\u001b[0mparams\u001b[0m\u001b[0;34m)\u001b[0m\u001b[0;34m\u001b[0m\u001b[0;34m\u001b[0m\u001b[0m\n\u001b[0m\u001b[1;32m    127\u001b[0m \u001b[0;34m\u001b[0m\u001b[0m\n\u001b[1;32m    128\u001b[0m \u001b[0;34m\u001b[0m\u001b[0m\n",
      "\u001b[0;32m~/workspace/mount/everest/ptolemaic/aspects/singleton.py\u001b[0m in \u001b[0;36minstantiate\u001b[0;34m(cls, params)\u001b[0m\n\u001b[1;32m     26\u001b[0m             \u001b[0;32mreturn\u001b[0m \u001b[0mpremade\u001b[0m\u001b[0;34m[\u001b[0m\u001b[0mprekey\u001b[0m\u001b[0;34m]\u001b[0m\u001b[0;34m\u001b[0m\u001b[0;34m\u001b[0m\u001b[0m\n\u001b[1;32m     27\u001b[0m         \u001b[0mobj\u001b[0m \u001b[0;34m=\u001b[0m \u001b[0mtype\u001b[0m\u001b[0;34m(\u001b[0m\u001b[0mcls\u001b[0m\u001b[0;34m)\u001b[0m\u001b[0;34m.\u001b[0m\u001b[0minstantiate\u001b[0m\u001b[0;34m(\u001b[0m\u001b[0mcls\u001b[0m\u001b[0;34m,\u001b[0m \u001b[0mparams\u001b[0m\u001b[0;34m)\u001b[0m\u001b[0;34m\u001b[0m\u001b[0;34m\u001b[0m\u001b[0m\n\u001b[0;32m---> 28\u001b[0;31m         \u001b[0mpremade\u001b[0m\u001b[0;34m[\u001b[0m\u001b[0mprekey\u001b[0m\u001b[0;34m]\u001b[0m \u001b[0;34m=\u001b[0m \u001b[0mobj\u001b[0m\u001b[0;34m\u001b[0m\u001b[0;34m\u001b[0m\u001b[0m\n\u001b[0m\u001b[1;32m     29\u001b[0m         \u001b[0;32mreturn\u001b[0m \u001b[0mobj\u001b[0m\u001b[0;34m\u001b[0m\u001b[0;34m\u001b[0m\u001b[0m\n\u001b[1;32m     30\u001b[0m \u001b[0;34m\u001b[0m\u001b[0m\n",
      "\u001b[0;32m/usr/lib/python3.9/weakref.py\u001b[0m in \u001b[0;36m__setitem__\u001b[0;34m(self, key, value)\u001b[0m\n\u001b[1;32m    163\u001b[0m         \u001b[0;32mif\u001b[0m \u001b[0mself\u001b[0m\u001b[0;34m.\u001b[0m\u001b[0m_pending_removals\u001b[0m\u001b[0;34m:\u001b[0m\u001b[0;34m\u001b[0m\u001b[0;34m\u001b[0m\u001b[0m\n\u001b[1;32m    164\u001b[0m             \u001b[0mself\u001b[0m\u001b[0;34m.\u001b[0m\u001b[0m_commit_removals\u001b[0m\u001b[0;34m(\u001b[0m\u001b[0;34m)\u001b[0m\u001b[0;34m\u001b[0m\u001b[0;34m\u001b[0m\u001b[0m\n\u001b[0;32m--> 165\u001b[0;31m         \u001b[0mself\u001b[0m\u001b[0;34m.\u001b[0m\u001b[0mdata\u001b[0m\u001b[0;34m[\u001b[0m\u001b[0mkey\u001b[0m\u001b[0;34m]\u001b[0m \u001b[0;34m=\u001b[0m \u001b[0mKeyedRef\u001b[0m\u001b[0;34m(\u001b[0m\u001b[0mvalue\u001b[0m\u001b[0;34m,\u001b[0m \u001b[0mself\u001b[0m\u001b[0;34m.\u001b[0m\u001b[0m_remove\u001b[0m\u001b[0;34m,\u001b[0m \u001b[0mkey\u001b[0m\u001b[0;34m)\u001b[0m\u001b[0;34m\u001b[0m\u001b[0;34m\u001b[0m\u001b[0m\n\u001b[0m\u001b[1;32m    166\u001b[0m \u001b[0;34m\u001b[0m\u001b[0m\n\u001b[1;32m    167\u001b[0m     \u001b[0;32mdef\u001b[0m \u001b[0mcopy\u001b[0m\u001b[0;34m(\u001b[0m\u001b[0mself\u001b[0m\u001b[0;34m)\u001b[0m\u001b[0;34m:\u001b[0m\u001b[0;34m\u001b[0m\u001b[0;34m\u001b[0m\u001b[0m\n",
      "\u001b[0;32m/usr/lib/python3.9/weakref.py\u001b[0m in \u001b[0;36m__new__\u001b[0;34m(type, ob, callback, key)\u001b[0m\n\u001b[1;32m    344\u001b[0m \u001b[0;34m\u001b[0m\u001b[0m\n\u001b[1;32m    345\u001b[0m     \u001b[0;32mdef\u001b[0m \u001b[0m__new__\u001b[0m\u001b[0;34m(\u001b[0m\u001b[0mtype\u001b[0m\u001b[0;34m,\u001b[0m \u001b[0mob\u001b[0m\u001b[0;34m,\u001b[0m \u001b[0mcallback\u001b[0m\u001b[0;34m,\u001b[0m \u001b[0mkey\u001b[0m\u001b[0;34m)\u001b[0m\u001b[0;34m:\u001b[0m\u001b[0;34m\u001b[0m\u001b[0;34m\u001b[0m\u001b[0m\n\u001b[0;32m--> 346\u001b[0;31m         \u001b[0mself\u001b[0m \u001b[0;34m=\u001b[0m \u001b[0mref\u001b[0m\u001b[0;34m.\u001b[0m\u001b[0m__new__\u001b[0m\u001b[0;34m(\u001b[0m\u001b[0mtype\u001b[0m\u001b[0;34m,\u001b[0m \u001b[0mob\u001b[0m\u001b[0;34m,\u001b[0m \u001b[0mcallback\u001b[0m\u001b[0;34m)\u001b[0m\u001b[0;34m\u001b[0m\u001b[0;34m\u001b[0m\u001b[0m\n\u001b[0m\u001b[1;32m    347\u001b[0m         \u001b[0mself\u001b[0m\u001b[0;34m.\u001b[0m\u001b[0mkey\u001b[0m \u001b[0;34m=\u001b[0m \u001b[0mkey\u001b[0m\u001b[0;34m\u001b[0m\u001b[0;34m\u001b[0m\u001b[0m\n\u001b[1;32m    348\u001b[0m         \u001b[0;32mreturn\u001b[0m \u001b[0mself\u001b[0m\u001b[0;34m\u001b[0m\u001b[0;34m\u001b[0m\u001b[0m\n",
      "\u001b[0;31mTypeError\u001b[0m: cannot create weak reference to 'MySchema_concrete' object"
     ]
    }
   ],
   "source": [
    "MySchema(1)"
   ]
  },
  {
   "cell_type": "code",
   "execution_count": 6,
   "id": "015185c9-a532-4443-8bb0-e9d77fd1bafd",
   "metadata": {},
   "outputs": [
    {
     "data": {
      "text/plain": [
       "1"
      ]
     },
     "execution_count": 6,
     "metadata": {},
     "output_type": "execute_result"
    }
   ],
   "source": [
    "class Tuuple(Sprite):\n",
    "    reqslots=('foo',)\n",
    "    content: Sprite.Param.Args\n",
    "    @classmethod\n",
    "    def _cls_extra_init_(cls, /):\n",
    "        defermeths = (\n",
    "            '__getitem__', '__len__', '__contains__',\n",
    "            '__iter__', '__reversed__', 'index', 'count',\n",
    "            )\n",
    "        for meth in defermeths:\n",
    "            classtools.add_defer_meth(cls, meth, 'content')\n",
    "\n",
    "mytup = Tuuple(1, 2, 3)\n",
    "mytup[0]"
   ]
  },
  {
   "cell_type": "code",
   "execution_count": 9,
   "id": "4cee3058-0fa4-4cba-b724-158319be391e",
   "metadata": {},
   "outputs": [],
   "source": [
    "import weakref"
   ]
  },
  {
   "cell_type": "code",
   "execution_count": 10,
   "id": "2863da47-56be-4748-8a24-a6b8365af23e",
   "metadata": {},
   "outputs": [
    {
     "ename": "TypeError",
     "evalue": "cannot create weak reference to 'Tuuple_concrete' object",
     "output_type": "error",
     "traceback": [
      "\u001b[0;31m---------------------------------------------------------------------------\u001b[0m",
      "\u001b[0;31mTypeError\u001b[0m                                 Traceback (most recent call last)",
      "\u001b[0;32m/tmp/ipykernel_1999/3191110103.py\u001b[0m in \u001b[0;36m<module>\u001b[0;34m\u001b[0m\n\u001b[0;32m----> 1\u001b[0;31m \u001b[0mweakref\u001b[0m\u001b[0;34m.\u001b[0m\u001b[0mref\u001b[0m\u001b[0;34m(\u001b[0m\u001b[0mmytup\u001b[0m\u001b[0;34m)\u001b[0m\u001b[0;34m\u001b[0m\u001b[0;34m\u001b[0m\u001b[0m\n\u001b[0m",
      "\u001b[0;31mTypeError\u001b[0m: cannot create weak reference to 'Tuuple_concrete' object"
     ]
    }
   ],
   "source": [
    "weakref.ref(mytup)"
   ]
  },
  {
   "cell_type": "code",
   "execution_count": 8,
   "id": "0c325685-2e6b-4c20-96a3-fbfe02fbb1ac",
   "metadata": {},
   "outputs": [
    {
     "data": {
      "text/plain": [
       "8470523098040"
      ]
     },
     "execution_count": 8,
     "metadata": {},
     "output_type": "execute_result"
    }
   ],
   "source": [
    "mytup.__hash__()"
   ]
  },
  {
   "cell_type": "code",
   "execution_count": null,
   "id": "639edd9c-e3b2-4575-a80f-9799d0233f2a",
   "metadata": {},
   "outputs": [],
   "source": [
    "class MyProp(property):\n",
    "\n",
    "    def __get__(self, instance, owner=None):\n",
    "        return 'foo'\n",
    "\n",
    "class MyClass:\n",
    "\n",
    "    foo = MyProp()"
   ]
  },
  {
   "cell_type": "code",
   "execution_count": null,
   "id": "8fe87eca-e6fc-4881-b3fb-42962bfdad25",
   "metadata": {},
   "outputs": [],
   "source": [
    "MyClass"
   ]
  },
  {
   "cell_type": "code",
   "execution_count": null,
   "id": "b761e08b-3fb6-47c3-8cd2-ddec50a91565",
   "metadata": {},
   "outputs": [],
   "source": [
    "MyClass().foo"
   ]
  },
  {
   "cell_type": "code",
   "execution_count": null,
   "id": "f37f7a54-7b0d-4e71-8000-ef75c771bdf3",
   "metadata": {},
   "outputs": [],
   "source": [
    "class MySprite(Sprite):\n",
    "\n",
    "    a : Sprite.Param.Pos\n",
    "    b : Sprite.Param.Pos = 'B'\n",
    "    c : Sprite.Param.PosKw = 'C'\n",
    "    d : Sprite.Param.PosKw = 'D'\n",
    "    e : Sprite.Param.Kw\n",
    "    f : Sprite.Param.Kw = 'F'\n",
    "\n",
    "\n",
    "class MySubSprite(MySprite):\n",
    "#     b = 'BB'\n",
    "    ..."
   ]
  },
  {
   "cell_type": "code",
   "execution_count": null,
   "id": "e35c85f1-37a5-49cf-954b-0b069f1680ac",
   "metadata": {},
   "outputs": [],
   "source": [
    "MySprite('A', e='E')"
   ]
  },
  {
   "cell_type": "code",
   "execution_count": null,
   "id": "7c3a2d8f-2742-4239-b104-add3847260f1",
   "metadata": {},
   "outputs": [],
   "source": [
    "MySubSprite('A', e='E')"
   ]
  },
  {
   "cell_type": "code",
   "execution_count": null,
   "id": "69ffd972-3d24-47fa-b83d-4d54ab460b2e",
   "metadata": {},
   "outputs": [],
   "source": []
  },
  {
   "cell_type": "code",
   "execution_count": null,
   "id": "95ef6197-3210-4107-a0b2-5904b0f75735",
   "metadata": {},
   "outputs": [],
   "source": [
    "MySprite.__signature__"
   ]
  },
  {
   "cell_type": "code",
   "execution_count": null,
   "id": "8a1ccc8a-0bc9-4c72-87b1-ca413bfe9dbc",
   "metadata": {},
   "outputs": [],
   "source": [
    "MySubSprite.__signature__"
   ]
  },
  {
   "cell_type": "code",
   "execution_count": null,
   "id": "559df3a6-b57e-4161-a8d9-fa2860051371",
   "metadata": {},
   "outputs": [],
   "source": [
    "from inspect import (\n",
    "    Parameter as _Parameter,\n",
    "    _ParameterKind,\n",
    "    )\n",
    "\n",
    "\n",
    "class Param:\n",
    "\n",
    "    __slots__ = ('name', 'default')\n",
    "\n",
    "    hint = _Parameter.empty\n",
    "    kind = _ParameterKind.POSITIONAL_OR_KEYWORD\n",
    "\n",
    "    def __init__(self, name, default=_Parameter.empty, /):\n",
    "        self.name, self.default = name, default\n",
    "        self.parameter = _Parameter(\n",
    "            name, self.kind,\n",
    "            default=default, annotation=self.hint,\n",
    "            )\n",
    "\n",
    "    def __get__(self, instance, /, *, owner=None):\n",
    "        return getattr(instance.params, self.name)\n",
    "\n",
    "    @classmethod\n",
    "    def __class_getitem__(cls, arg: type, /):\n",
    "        return type(\n",
    "            f\"{cls.__name__}[{arg.__name__}]\",\n",
    "            (cls,),\n",
    "            dict(hint=arg),\n",
    "            )\n",
    "\n",
    "    def _repr(self):\n",
    "        return f\"{self.name}={self.default}\"\n",
    "\n",
    "    def __repr__(self):\n",
    "        return f\"{type(self).__name__}({self._repr()})\"\n",
    "\n",
    "\n",
    "for kind, alias in zip(\n",
    "        _ParameterKind,\n",
    "        ('Pos', 'Kw', 'Args', 'Kwargs'),\n",
    "        ):\n",
    "    subcls = type(\n",
    "        f\"{Param.__name__}.{alias}\",\n",
    "        (Param,),\n",
    "        dict(kind=kind),\n",
    "        )\n",
    "    setattr(Param, alias, subcls)"
   ]
  },
  {
   "cell_type": "code",
   "execution_count": null,
   "id": "9e0d1b3b-bab5-4d80-be97-1f48048579e9",
   "metadata": {},
   "outputs": [],
   "source": [
    "Param.Pos[int]('a', 1)"
   ]
  },
  {
   "cell_type": "code",
   "execution_count": null,
   "id": "75d79232-accb-43ad-a116-cafb6a500a9a",
   "metadata": {},
   "outputs": [],
   "source": []
  }
 ],
 "metadata": {
  "kernelspec": {
   "display_name": "Python 3 (ipykernel)",
   "language": "python",
   "name": "python3"
  },
  "language_info": {
   "codemirror_mode": {
    "name": "ipython",
    "version": 3
   },
   "file_extension": ".py",
   "mimetype": "text/x-python",
   "name": "python",
   "nbconvert_exporter": "python",
   "pygments_lexer": "ipython3",
   "version": "3.9.5"
  }
 },
 "nbformat": 4,
 "nbformat_minor": 5
}
