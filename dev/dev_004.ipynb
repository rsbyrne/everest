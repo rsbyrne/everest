{
 "cells": [
  {
   "cell_type": "code",
   "execution_count": null,
   "id": "b6bd069e-5122-4c18-9a3d-ec1e6b0c1041",
   "metadata": {},
   "outputs": [],
   "source": [
    "import aliases"
   ]
  },
  {
   "cell_type": "code",
   "execution_count": null,
   "id": "0c590e38-c77b-4cce-a15b-7add6b99c5b8",
   "metadata": {},
   "outputs": [],
   "source": [
    "from everest.ptolemaic.sprites.sprite import Sprite\n",
    "from everest.utilities import classtools"
   ]
  },
  {
   "cell_type": "code",
   "execution_count": null,
   "id": "6a0f0196-0d9c-4aa1-856e-c1726d7bfbaf",
   "metadata": {},
   "outputs": [],
   "source": [
    "from everest.ptolemaic.schemas.schema import Schema\n",
    "Param = Schema.Param"
   ]
  },
  {
   "cell_type": "code",
   "execution_count": null,
   "id": "e61cc866-4423-4fb3-82cd-22d041a76f62",
   "metadata": {},
   "outputs": [],
   "source": [
    "Param.PosKw[int].kind"
   ]
  },
  {
   "cell_type": "code",
   "execution_count": null,
   "id": "8f7c38fe-d6b2-48b5-97cb-cfc71f062914",
   "metadata": {},
   "outputs": [],
   "source": [
    "class A(Schema):\n",
    "    a: Param.Pos\n",
    "    b: Param.Pos = 'B'\n",
    "    c: Param.PosKw\n",
    "    d: Param.PosKw = 'D'\n",
    "    e: Param.Kw\n",
    "    f: Param.Kw[int] = 'F'\n",
    "\n",
    "\n",
    "class B(A):\n",
    "    d: Param.PosKw = 'DD'\n",
    "    b: Param.Pos = 'BB'\n",
    "    args: Param.Args\n",
    "    e: Param.Kw = 'E'\n",
    "    a: Param.Pos\n",
    "    c: Param.PosKw\n",
    "    f: Param.Kw[str] = 'FF'\n",
    "    kwargs: Param.Kwargs\n",
    "\n",
    "B(1, 2, c=3) is B(1, 2, 3)"
   ]
  },
  {
   "cell_type": "code",
   "execution_count": null,
   "id": "cd2308d4-4175-493a-9f93-d13524fbc81a",
   "metadata": {},
   "outputs": [],
   "source": [
    "B.p"
   ]
  },
  {
   "cell_type": "code",
   "execution_count": null,
   "id": "b4085b6a-7e7c-4b57-b883-0311cc1bf723",
   "metadata": {},
   "outputs": [],
   "source": [
    "import sys"
   ]
  },
  {
   "cell_type": "code",
   "execution_count": null,
   "id": "82d47da6-a45a-4459-80e3-41df67c9769d",
   "metadata": {},
   "outputs": [],
   "source": [
    "sys.maxsize"
   ]
  },
  {
   "cell_type": "code",
   "execution_count": null,
   "id": "e7bcf325-b09a-48b6-b312-d7dba461f52a",
   "metadata": {},
   "outputs": [],
   "source": [
    "B."
   ]
  },
  {
   "cell_type": "code",
   "execution_count": null,
   "id": "015185c9-a532-4443-8bb0-e9d77fd1bafd",
   "metadata": {},
   "outputs": [],
   "source": [
    "class Tuuple(Sprite):\n",
    "    content: Param.Args\n",
    "    @classmethod\n",
    "    def _cls_extra_init_(cls, /):\n",
    "        defermeths = (\n",
    "            '__getitem__', '__len__', '__contains__',\n",
    "            '__iter__', '__reversed__', 'index', 'count',\n",
    "            )\n",
    "        for meth in defermeths:\n",
    "            classtools.add_defer_meth(cls, meth, 'content')\n",
    "        super()._cls_extra_init_()\n",
    "\n",
    "mytup = Tuuple(1, 2, 3)\n",
    "mytup[0]"
   ]
  },
  {
   "cell_type": "code",
   "execution_count": null,
   "id": "a76776a2-464e-4169-a3ef-3368496f86aa",
   "metadata": {},
   "outputs": [],
   "source": [
    "class A(Sprite):\n",
    "\n",
    "    def __init__(self, a):\n",
    "        print(a)\n",
    "        super().__init__()"
   ]
  }
 ],
 "metadata": {
  "kernelspec": {
   "display_name": "Python 3 (ipykernel)",
   "language": "python",
   "name": "python3"
  },
  "language_info": {
   "codemirror_mode": {
    "name": "ipython",
    "version": 3
   },
   "file_extension": ".py",
   "mimetype": "text/x-python",
   "name": "python",
   "nbconvert_exporter": "python",
   "pygments_lexer": "ipython3",
   "version": "3.9.5"
  }
 },
 "nbformat": 4,
 "nbformat_minor": 5
}
