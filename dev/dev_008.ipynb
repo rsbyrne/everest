{
 "cells": [
  {
   "cell_type": "code",
   "execution_count": null,
   "id": "422cd4dc-23d7-4072-b01a-fd2e73c8b6f8",
   "metadata": {},
   "outputs": [],
   "source": [
    "###############################################################################\n",
    "''''''\n",
    "###############################################################################\n",
    "\n",
    "\n",
    "import aliases\n",
    "\n",
    "import numpy as np\n",
    "\n",
    "from everest.ptolemaic import *\n",
    "from everest.utilities.caching import soft_cache\n",
    "\n",
    "\n",
    "class Space(System):\n",
    "\n",
    "    name: Param\n",
    "    dimensions: Param.Kwargs\n",
    "\n",
    "    _pleroma_mroclasses__ = ('_Element_',)\n",
    "\n",
    "    @classmethod\n",
    "    def check_param(cls, arg, /):\n",
    "        if isinstance(arg, Param):\n",
    "            raise cls._BadParameter(arg)\n",
    "        if arg is Param:\n",
    "            raise cls._BadParameter(arg)\n",
    "        return super().check_param(arg)\n",
    "\n",
    "    class _Element_(System):\n",
    "\n",
    "        hyperspace = None\n",
    "\n",
    "        @classmethod\n",
    "        def _cls_extra_init_(cls, /):\n",
    "            super()._cls_extra_init_()\n",
    "            if cls.hyperspace is None:\n",
    "                return\n",
    "            dimensions = cls.dimensions = cls.hyperspace.dimensions\n",
    "            cls.contain_vectorized = tuple(\n",
    "                np.vectorize(val.__contains__)\n",
    "                for key, val in dimensions.items()\n",
    "                )\n",
    "\n",
    "        @classmethod\n",
    "        def sub_sample(cls, sample, /):\n",
    "            return sample[\n",
    "                np.vstack(tuple(\n",
    "                    vectorized(column)\\\n",
    "                    for vectorized, column\n",
    "                    in zip(cls.contain_vectorized, sample.T)\n",
    "                    ))\n",
    "                .prod(axis=0).astype(bool)\n",
    "                ]\n",
    "\n",
    "        @classmethod\n",
    "        def _ptolemaic_getitem__(cls, arg, /):\n",
    "            if not isinstance(arg, tuple):\n",
    "                arg = (arg,)\n",
    "            space = cls.hyperspace\n",
    "            newdims = space.dimensions.copy()\n",
    "            for key, subarg in zip(newdims, arg):\n",
    "                newdims[key] = newdims[key][subarg]\n",
    "            return space.basecls(\n",
    "                space.name,\n",
    "                **newdims,\n",
    "                )\n",
    "\n",
    "    @property\n",
    "    @soft_cache('_weakcache')\n",
    "    def Element(self, /):\n",
    "        dims = self.dimensions\n",
    "        return self._Element_.subclass(\n",
    "            _ptolemaic_annotations__={\n",
    "                key: Param('PosKw', val)\n",
    "                for key, val in dims.items()\n",
    "                },\n",
    "            name=f\"{self.name}_{self.hashID}\",\n",
    "            dimensions=self.dimensions.copy(),\n",
    "            hyperspace=self,\n",
    "            )\n",
    "\n",
    "    @classmethod\n",
    "    def construct(cls, *args, **kwargs):\n",
    "        space = super().construct(*args, **kwargs)\n",
    "        return space.Element\n",
    "\n",
    "\n",
    "###############################################################################\n",
    "##############################################################################\n"
   ]
  },
  {
   "cell_type": "code",
   "execution_count": null,
   "id": "3ac7e2e6-f354-4d16-9142-06f1d9ae7f0b",
   "metadata": {},
   "outputs": [],
   "source": [
    "from everest.ptolemaic.sprites import Intt"
   ]
  },
  {
   "cell_type": "code",
   "execution_count": null,
   "id": "cf17d592-9da7-4582-89ea-f0b3c1494194",
   "metadata": {},
   "outputs": [],
   "source": [
    "Foo = Space('Foo', a=Intt, b=Intt)"
   ]
  },
  {
   "cell_type": "code",
   "execution_count": null,
   "id": "03b45328-abba-4b99-9ee4-cd53688f0f8c",
   "metadata": {},
   "outputs": [],
   "source": [
    "SubClass = Foo[10:20, 30:40]"
   ]
  },
  {
   "cell_type": "code",
   "execution_count": null,
   "id": "4f89dcf9-43fa-4cdd-88dd-44ebc37b6140",
   "metadata": {},
   "outputs": [],
   "source": [
    "SubClass"
   ]
  },
  {
   "cell_type": "code",
   "execution_count": null,
   "id": "49bced5e-cedd-4e6b-a72b-29fcf308b247",
   "metadata": {},
   "outputs": [],
   "source": [
    "Foo.classparams"
   ]
  },
  {
   "cell_type": "code",
   "execution_count": null,
   "id": "2d64c6ce-c0c8-4809-987a-565d36721462",
   "metadata": {},
   "outputs": [],
   "source": [
    "Foo(1, 2).params"
   ]
  },
  {
   "cell_type": "code",
   "execution_count": null,
   "id": "4b60e089-c0fa-482b-b115-a5f152094a3f",
   "metadata": {},
   "outputs": [],
   "source": []
  }
 ],
 "metadata": {
  "kernelspec": {
   "display_name": "Python 3 (ipykernel)",
   "language": "python",
   "name": "python3"
  },
  "language_info": {
   "codemirror_mode": {
    "name": "ipython",
    "version": 3
   },
   "file_extension": ".py",
   "mimetype": "text/x-python",
   "name": "python",
   "nbconvert_exporter": "python",
   "pygments_lexer": "ipython3",
   "version": "3.9.5"
  }
 },
 "nbformat": 4,
 "nbformat_minor": 5
}
