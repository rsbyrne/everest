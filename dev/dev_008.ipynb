{
 "cells": [
  {
   "cell_type": "code",
   "execution_count": null,
   "id": "1362f33f-16a8-4b1c-b0d6-1f5710719f8d",
   "metadata": {},
   "outputs": [],
   "source": [
    "import aliases"
   ]
  },
  {
   "cell_type": "code",
   "execution_count": null,
   "id": "adaa56da-8bf9-421b-addf-9ac918064041",
   "metadata": {},
   "outputs": [],
   "source": [
    "from everest.ptolemaic.sprite import Sprite as _Sprite\n",
    "from everest.ptolemaic.schema import Schema as _Schema\n",
    "from everest.ptolemaic.params import Param as _Param"
   ]
  },
  {
   "cell_type": "code",
   "execution_count": null,
   "id": "a1fb383b-6ea1-41b6-b84b-1c0fee028fda",
   "metadata": {},
   "outputs": [],
   "source": [
    "class MyClass(_Sprite):\n",
    "    arg: _Param[int]"
   ]
  },
  {
   "cell_type": "code",
   "execution_count": null,
   "id": "ce5149f9-858d-4af9-93c8-c283b929b321",
   "metadata": {},
   "outputs": [],
   "source": [
    "MyClass(1)"
   ]
  },
  {
   "cell_type": "code",
   "execution_count": null,
   "id": "97290bcf-5baf-44cf-90b5-3489b2cd6fda",
   "metadata": {},
   "outputs": [],
   "source": [
    "class MySchema(_Schema):\n",
    "    arg: _Param[int]"
   ]
  },
  {
   "cell_type": "code",
   "execution_count": null,
   "id": "62e1eecf-275c-4139-ac72-999b25056082",
   "metadata": {},
   "outputs": [],
   "source": [
    "myobj = MySchema(1)"
   ]
  },
  {
   "cell_type": "code",
   "execution_count": null,
   "id": "7c3201ba-2faa-4be6-b458-9dec23aca693",
   "metadata": {},
   "outputs": [],
   "source": [
    "myobj"
   ]
  },
  {
   "cell_type": "code",
   "execution_count": null,
   "id": "6528c75d-0096-4e51-825f-22f0ca9bed28",
   "metadata": {},
   "outputs": [],
   "source": [
    "myobj = MySchema((1, 2))"
   ]
  },
  {
   "cell_type": "code",
   "execution_count": null,
   "id": "6475e334-5965-4d4d-b4b0-6750f4ec84e9",
   "metadata": {},
   "outputs": [],
   "source": [
    "myobj.arg"
   ]
  },
  {
   "cell_type": "code",
   "execution_count": null,
   "id": "796e820c-373e-4162-ac7c-5f57bfc184e1",
   "metadata": {},
   "outputs": [],
   "source": []
  }
 ],
 "metadata": {
  "kernelspec": {
   "display_name": "Python 3 (ipykernel)",
   "language": "python",
   "name": "python3"
  },
  "language_info": {
   "codemirror_mode": {
    "name": "ipython",
    "version": 3
   },
   "file_extension": ".py",
   "mimetype": "text/x-python",
   "name": "python",
   "nbconvert_exporter": "python",
   "pygments_lexer": "ipython3",
   "version": "3.9.5"
  }
 },
 "nbformat": 4,
 "nbformat_minor": 5
}
