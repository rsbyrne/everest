{
 "cells": [
  {
   "cell_type": "code",
   "execution_count": null,
   "id": "3a2d4331-b5a5-44f6-b82d-bd24c1116c9d",
   "metadata": {},
   "outputs": [],
   "source": [
    "###############################################################################\n",
    "import aliases\n",
    "from everest.utilities import textutils\n",
    "# tuple(textutils.find_all('Schematic', path='../everest'))\n",
    "# textutils.replace_all('Schematic', 'Compound', path='../everest')"
   ]
  },
  {
   "cell_type": "code",
   "execution_count": null,
   "id": "71d3dbda-9e02-4d44-8677-c1d76d2e7ca4",
   "metadata": {},
   "outputs": [],
   "source": [
    "from everest.ptolemaic.essence import Essence"
   ]
  },
  {
   "cell_type": "code",
   "execution_count": null,
   "id": "bbf31a93-467a-4f5b-afcb-45acdfb97add",
   "metadata": {},
   "outputs": [],
   "source": [
    "class MyClass(metaclass=Essence):\n",
    "    ..."
   ]
  },
  {
   "cell_type": "code",
   "execution_count": null,
   "id": "7a36ef27-2e99-4e07-8971-9c208af621e0",
   "metadata": {},
   "outputs": [],
   "source": [
    "from everest import bureau"
   ]
  },
  {
   "cell_type": "code",
   "execution_count": null,
   "id": "c24711a0-8bcd-4184-8b9e-b2c60b8c469f",
   "metadata": {},
   "outputs": [],
   "source": [
    "mybureau = bureau.Bureau('foo')"
   ]
  },
  {
   "cell_type": "code",
   "execution_count": null,
   "id": "8c2747b6-0bcd-4433-acf1-1bab578e5c7f",
   "metadata": {},
   "outputs": [],
   "source": [
    "epi1 = MyClass.epitaph\n",
    "with mybureau:\n",
    "    epi2 = MyClass.epitaph\n",
    "assert not epi1 is epi2"
   ]
  }
 ],
 "metadata": {
  "kernelspec": {
   "display_name": "Python 3 (ipykernel)",
   "language": "python",
   "name": "python3"
  },
  "language_info": {
   "codemirror_mode": {
    "name": "ipython",
    "version": 3
   },
   "file_extension": ".py",
   "mimetype": "text/x-python",
   "name": "python",
   "nbconvert_exporter": "python",
   "pygments_lexer": "ipython3",
   "version": "3.9.5"
  }
 },
 "nbformat": 4,
 "nbformat_minor": 5
}
