{
 "cells": [
  {
   "cell_type": "code",
   "execution_count": null,
   "id": "b26e91a5-ad9e-4715-b202-c1e74e9ee0db",
   "metadata": {},
   "outputs": [],
   "source": [
    "###############################################################################\n",
    "import aliases\n",
    "from everest.utilities import textutils\n",
    "# tuple(textutils.find_all('Schematic', path='../everest'))\n",
    "# textutils.replace_all('Schematic', 'Compound', path='../everest')"
   ]
  },
  {
   "cell_type": "code",
   "execution_count": null,
   "id": "a78fde0a-8059-42dc-92ee-cb58943cb318",
   "metadata": {},
   "outputs": [],
   "source": [
    "from everest.ptolemaic.shadow import Shade"
   ]
  },
  {
   "cell_type": "code",
   "execution_count": null,
   "id": "7e740c46-4cb8-48f8-afd1-1fee58ba9630",
   "metadata": {},
   "outputs": [],
   "source": [
    "a = Shade('a')\n",
    "b = Shade('b')\n",
    "c = Shade('c')\n",
    "d = a + b ** c\n",
    "d.evalstr"
   ]
  },
  {
   "cell_type": "code",
   "execution_count": null,
   "id": "94921516-ce2c-4695-84de-417e50d9d138",
   "metadata": {},
   "outputs": [],
   "source": [
    "from everest.ptolemaic.schema import Schema"
   ]
  },
  {
   "cell_type": "code",
   "execution_count": null,
   "id": "2bccb413-2c85-43e4-bce1-353380b48299",
   "metadata": {},
   "outputs": [],
   "source": [
    "class A(metaclass=Schema):\n",
    "\n",
    "    a: int = 1\n",
    "    b: int = 2\n",
    "    c: int = 3\n",
    "    d = a + b ** c\n",
    "    e = 1 / d\n",
    "\n",
    "myobj = A()\n",
    "display(A().e)"
   ]
  },
  {
   "cell_type": "code",
   "execution_count": null,
   "id": "219329cf-87fd-476e-8e2b-8cdc1232c664",
   "metadata": {},
   "outputs": [],
   "source": [
    "myobj = A()"
   ]
  },
  {
   "cell_type": "code",
   "execution_count": null,
   "id": "3e730951-2856-4ca8-9dc6-f7ac0601b4e1",
   "metadata": {},
   "outputs": [],
   "source": [
    "class A(metaclass=Schema):\n",
    "\n",
    "    a: int = 1\n",
    "\n",
    "    @comp(c=3, d=4)\n",
    "    def foo(c, d):\n",
    "        return c**d\n",
    "\n",
    "    c = a + foo\n",
    "\n",
    "    @organ(b=2, c=foo)\n",
    "    class B(metaclass=Schema):\n",
    "        a: int\n",
    "        b: int\n",
    "        c: int\n",
    "\n",
    "myobj = A()\n",
    "myobj.c"
   ]
  },
  {
   "cell_type": "code",
   "execution_count": null,
   "id": "1da4aa14-1173-454a-99e4-109402df73f9",
   "metadata": {},
   "outputs": [],
   "source": [
    "class A(metaclass=Schema):\n",
    "\n",
    "    @organ\n",
    "    class B(metaclass=Schema):\n",
    "        a: int = 1\n",
    "        def __get__(self, instance, owner=None, /):\n",
    "            return self.a\n",
    "\n",
    "myobj = A()\n",
    "myobj.B"
   ]
  },
  {
   "cell_type": "code",
   "execution_count": null,
   "id": "54da749f-aae7-4fe7-b255-53bc6e7880a2",
   "metadata": {},
   "outputs": [],
   "source": [
    "from everest.ptolemaic import sett, mapp"
   ]
  },
  {
   "cell_type": "code",
   "execution_count": null,
   "id": "e271216f-332b-4ed3-823c-813864af56d1",
   "metadata": {},
   "outputs": [],
   "source": [
    "@mapp\n",
    "def mapp1(arg: list[int, str], /) -> str:\n",
    "    a, b = arg\n",
    "    return a * b\n",
    "\n",
    "@mapp\n",
    "def mapp2(arg: int, /) -> str:\n",
    "    return arg**2"
   ]
  },
  {
   "cell_type": "code",
   "execution_count": null,
   "id": "b3532a8c-d230-420a-b389-d34cc3e45e04",
   "metadata": {},
   "outputs": [],
   "source": [
    "mapp((mapp1, mapp2))[[2, 'foo']]"
   ]
  },
  {
   "cell_type": "code",
   "execution_count": null,
   "id": "5f6c4581-bc5d-4deb-b509-0f1e65c1665b",
   "metadata": {},
   "outputs": [],
   "source": [
    "out = super().__new__(meta, name, bases, ns)"
   ]
  },
  {
   "cell_type": "code",
   "execution_count": null,
   "id": "0771fc2d-4f90-4bed-9bf3-ca6de3cd82d8",
   "metadata": {},
   "outputs": [],
   "source": [
    "del {'a': 1}['b']"
   ]
  },
  {
   "cell_type": "code",
   "execution_count": null,
   "id": "d2c6ab4e-e391-407e-a8d8-8c0446d2a095",
   "metadata": {},
   "outputs": [],
   "source": [
    "class MyClass:\n",
    "    ...\n",
    "myobj = MyClass()\n",
    "myobj.__class__.__name__"
   ]
  },
  {
   "cell_type": "code",
   "execution_count": null,
   "id": "891a2969-03ba-4abe-b9d0-5705e72a4042",
   "metadata": {},
   "outputs": [],
   "source": []
  }
 ],
 "metadata": {
  "kernelspec": {
   "display_name": "Python 3 (ipykernel)",
   "language": "python",
   "name": "python3"
  },
  "language_info": {
   "codemirror_mode": {
    "name": "ipython",
    "version": 3
   },
   "file_extension": ".py",
   "mimetype": "text/x-python",
   "name": "python",
   "nbconvert_exporter": "python",
   "pygments_lexer": "ipython3",
   "version": "3.9.5"
  }
 },
 "nbformat": 4,
 "nbformat_minor": 5
}
