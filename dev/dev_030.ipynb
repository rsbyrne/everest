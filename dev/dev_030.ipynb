{
 "cells": [
  {
   "cell_type": "code",
   "execution_count": null,
   "id": "b26e91a5-ad9e-4715-b202-c1e74e9ee0db",
   "metadata": {},
   "outputs": [],
   "source": [
    "###############################################################################\n",
    "import aliases\n",
    "from everest.utilities import textutils\n",
    "# tuple(textutils.find_all('', path='../everest/ptolemaic'))\n",
    "# textutils.replace_all('Schematic', 'Compound', path='../everest')"
   ]
  },
  {
   "cell_type": "code",
   "execution_count": null,
   "id": "556a8451-164e-44d5-8483-c49f58a315f6",
   "metadata": {},
   "outputs": [],
   "source": [
    "from everest.ptolemaic.essence import Essence\n",
    "from everest.ptolemaic.ousia import Ousia"
   ]
  },
  {
   "cell_type": "code",
   "execution_count": null,
   "id": "c502dd33-2d72-4270-81be-f11c9dbfb58d",
   "metadata": {},
   "outputs": [],
   "source": [
    "class Base(metaclass=Ousia):\n",
    "    def _content_repr(self, /):\n",
    "        return ''\n",
    "    def make_epitaph(self, /):\n",
    "        return ''\n",
    "\n",
    "class A(Base):\n",
    "    @prop\n",
    "    class foo(Base):\n",
    "        ...\n",
    "    @organ\n",
    "    class bah(Base):\n",
    "        ..."
   ]
  },
  {
   "cell_type": "code",
   "execution_count": null,
   "id": "e74aa16f-8df7-4bd0-886c-54328cd4d768",
   "metadata": {},
   "outputs": [],
   "source": [
    "A.bah"
   ]
  },
  {
   "cell_type": "code",
   "execution_count": null,
   "id": "b20b0fb0-8bb3-44ad-8882-b4f7d9c43ff4",
   "metadata": {},
   "outputs": [],
   "source": [
    "A().bah"
   ]
  },
  {
   "cell_type": "code",
   "execution_count": null,
   "id": "1bf79e5f-bf0d-42de-9cd7-19ccaf10447c",
   "metadata": {},
   "outputs": [],
   "source": [
    "myobj = A()"
   ]
  },
  {
   "cell_type": "code",
   "execution_count": null,
   "id": "d4db9dcd-e452-4cfe-9723-a120a3612cac",
   "metadata": {},
   "outputs": [],
   "source": [
    "class A(Base):\n",
    "    __props__ = ('foo', 'bah')\n",
    "    def foo(self, /):\n",
    "        return 3\n",
    "    def bah(self, foo: int, /):\n",
    "        return foo**2\n",
    "    "
   ]
  },
  {
   "cell_type": "code",
   "execution_count": null,
   "id": "cb3014b2-9153-4684-a998-15940ee095e8",
   "metadata": {},
   "outputs": [],
   "source": [
    "import types"
   ]
  },
  {
   "cell_type": "code",
   "execution_count": null,
   "id": "1468f569-a625-4faf-94bf-28b15639c21a",
   "metadata": {},
   "outputs": [],
   "source": [
    "isinstance(A.bah, types.FunctionType)"
   ]
  },
  {
   "cell_type": "code",
   "execution_count": null,
   "id": "1e30bf08-95fd-486b-9fcf-2fd6889bf48a",
   "metadata": {},
   "outputs": [],
   "source": [
    "A.bah"
   ]
  },
  {
   "cell_type": "code",
   "execution_count": null,
   "id": "5d75807e-e99f-4156-bf61-7366977657a2",
   "metadata": {},
   "outputs": [],
   "source": [
    "object.__new__(A).bah"
   ]
  },
  {
   "cell_type": "code",
   "execution_count": null,
   "id": "8feb9c3b-121e-41b0-af44-a4ae67d4d40d",
   "metadata": {},
   "outputs": [],
   "source": [
    "A().bah"
   ]
  },
  {
   "cell_type": "code",
   "execution_count": null,
   "id": "4161b769-5283-417d-980c-d8d900084746",
   "metadata": {},
   "outputs": [],
   "source": []
  },
  {
   "cell_type": "code",
   "execution_count": null,
   "id": "d9cf8e9a-1898-4279-a090-ccc60bc0a81a",
   "metadata": {},
   "outputs": [],
   "source": [
    "class Desc(metaclass=Ousia):\n",
    "    def _content_repr(self, /):\n",
    "        return ''\n",
    "    def make_epitaph(self, /):\n",
    "        return ''\n",
    "\n",
    "class A(metaclass=Ousia):\n",
    "    __organs__ = ('foo',)\n",
    "    __mroclasses__ = ('foo',)\n",
    "    def _content_repr(self, /):\n",
    "        return ''\n",
    "    def make_epitaph(self, /):\n",
    "        return ''\n",
    "    foo = Desc"
   ]
  },
  {
   "cell_type": "code",
   "execution_count": null,
   "id": "38fcf55a-fd53-41fe-9bc3-4002cd83a2ac",
   "metadata": {},
   "outputs": [],
   "source": [
    "class B(A):\n",
    "    class foo(metaclass=Ousia):\n",
    "        ..."
   ]
  },
  {
   "cell_type": "code",
   "execution_count": null,
   "id": "550fe8af-d390-450b-83b4-a11570f5dc97",
   "metadata": {},
   "outputs": [],
   "source": [
    "B().foo"
   ]
  },
  {
   "cell_type": "code",
   "execution_count": null,
   "id": "c61ee332-1dbc-4d68-8d81-54ed7d44d7c7",
   "metadata": {},
   "outputs": [],
   "source": [
    "A.foo.__mro__"
   ]
  },
  {
   "cell_type": "code",
   "execution_count": null,
   "id": "1e9fe478-0c63-450b-9e81-0447c56e782a",
   "metadata": {},
   "outputs": [],
   "source": [
    "A().foo"
   ]
  },
  {
   "cell_type": "code",
   "execution_count": null,
   "id": "2a2e774c-1491-4db0-9a6c-896dd49a4dce",
   "metadata": {},
   "outputs": [],
   "source": [
    "class A(metaclass=Essence):\n",
    "    myval = 1\n",
    "\n",
    "class B(metaclass=Essence):\n",
    "    __mroclasses__ = ('foo',)\n",
    "    foo = A\n",
    "    # class foo(metaclass=Essence):\n",
    "    #     myval = 1"
   ]
  },
  {
   "cell_type": "code",
   "execution_count": null,
   "id": "c80ddd8b-327c-4830-9a04-54fd91bf028e",
   "metadata": {},
   "outputs": [],
   "source": [
    "class C(B):\n",
    "    class foo(metaclass=Essence):\n",
    "        myval = 2"
   ]
  },
  {
   "cell_type": "code",
   "execution_count": null,
   "id": "efbf0762-edda-462e-9392-6e0700a79fc7",
   "metadata": {},
   "outputs": [],
   "source": [
    "C.foo.myval"
   ]
  },
  {
   "cell_type": "code",
   "execution_count": null,
   "id": "72e2fecd-27d7-40b3-b818-f20f7fd71c80",
   "metadata": {},
   "outputs": [],
   "source": []
  },
  {
   "cell_type": "code",
   "execution_count": null,
   "id": "cf7074e4-f09e-4f3d-96f0-a9ef25b2eec6",
   "metadata": {},
   "outputs": [],
   "source": []
  },
  {
   "cell_type": "code",
   "execution_count": null,
   "id": "c7014db9-7d2d-4513-9c7e-2ad0b3cbafb2",
   "metadata": {},
   "outputs": [],
   "source": [
    "B().foo()"
   ]
  },
  {
   "cell_type": "code",
   "execution_count": null,
   "id": "e04c0f12-00bd-43e1-9f53-ee24a6951afe",
   "metadata": {},
   "outputs": [],
   "source": [
    "A.foo"
   ]
  },
  {
   "cell_type": "code",
   "execution_count": null,
   "id": "a251ca06-43c2-4f7f-8be5-4350416aaa41",
   "metadata": {},
   "outputs": [],
   "source": [
    "A().foo.__corpus__"
   ]
  },
  {
   "cell_type": "code",
   "execution_count": null,
   "id": "124ebc23-f3e6-4236-95e5-05a94a14ea90",
   "metadata": {},
   "outputs": [],
   "source": [
    "B.bah()"
   ]
  },
  {
   "cell_type": "code",
   "execution_count": null,
   "id": "643a72f0-0a7d-4c50-90f9-2c3e96c5c91e",
   "metadata": {},
   "outputs": [],
   "source": [
    "myobj = B()"
   ]
  },
  {
   "cell_type": "code",
   "execution_count": null,
   "id": "727fab34-a887-41e4-81ea-4ca9cefe338e",
   "metadata": {},
   "outputs": [],
   "source": [
    "A.__dict__['foo']"
   ]
  },
  {
   "cell_type": "code",
   "execution_count": null,
   "id": "7e0eff07-1aa8-4e00-ba6c-2063b4dd4d93",
   "metadata": {},
   "outputs": [],
   "source": [
    "B.foo(myobj)"
   ]
  },
  {
   "cell_type": "code",
   "execution_count": null,
   "id": "5ad4f459-9fc8-46ad-b11c-0ae82b25709e",
   "metadata": {},
   "outputs": [],
   "source": [
    "B.bah()"
   ]
  },
  {
   "cell_type": "code",
   "execution_count": null,
   "id": "0f9aed5f-b2ea-4ca4-89c9-4dcc2d0c56f7",
   "metadata": {},
   "outputs": [],
   "source": [
    "myobj.foo"
   ]
  },
  {
   "cell_type": "code",
   "execution_count": null,
   "id": "4d6fdd2d-dbde-4aaa-b997-a2d4939dd3aa",
   "metadata": {},
   "outputs": [],
   "source": [
    "A.foo"
   ]
  },
  {
   "cell_type": "code",
   "execution_count": null,
   "id": "edc574e9-7eef-4785-be5b-48adbb274ae6",
   "metadata": {},
   "outputs": [],
   "source": [
    "myobj = A()\n",
    "myobj"
   ]
  },
  {
   "cell_type": "code",
   "execution_count": null,
   "id": "94d7449d-d983-4375-bdd8-9ac28793b293",
   "metadata": {},
   "outputs": [],
   "source": [
    "myobj.foo.__corpus__"
   ]
  },
  {
   "cell_type": "code",
   "execution_count": null,
   "id": "50d81842-bfa4-47b2-8d6b-dade6f945caa",
   "metadata": {},
   "outputs": [],
   "source": [
    "myobj.foo"
   ]
  },
  {
   "cell_type": "code",
   "execution_count": null,
   "id": "a78b7e45-988b-4565-9f47-e17348e1eb99",
   "metadata": {},
   "outputs": [],
   "source": [
    "m"
   ]
  },
  {
   "cell_type": "code",
   "execution_count": null,
   "id": "68c888e9-9d6f-4b09-9d10-5957d3d77be8",
   "metadata": {},
   "outputs": [],
   "source": []
  },
  {
   "cell_type": "code",
   "execution_count": null,
   "id": "4177baa1-332d-4e5c-b9cc-e55d9e2fde09",
   "metadata": {},
   "outputs": [],
   "source": []
  },
  {
   "cell_type": "code",
   "execution_count": null,
   "id": "2e943ba4-c195-4471-8fd1-150a4aef0f4d",
   "metadata": {},
   "outputs": [],
   "source": []
  },
  {
   "cell_type": "code",
   "execution_count": null,
   "id": "637d0014-bc42-4f9a-83bb-58175798b223",
   "metadata": {},
   "outputs": [],
   "source": [
    "A.__dict__['foo'].__get__(None)"
   ]
  },
  {
   "cell_type": "code",
   "execution_count": null,
   "id": "f6f8209e-39ff-4561-83ec-b4b96a210888",
   "metadata": {},
   "outputs": [],
   "source": [
    "myobj.__ptolemaic_class__.foo"
   ]
  },
  {
   "cell_type": "code",
   "execution_count": null,
   "id": "e9b565da-42b4-4405-8a13-27c5b6036a93",
   "metadata": {},
   "outputs": [],
   "source": [
    "myobj.foo"
   ]
  },
  {
   "cell_type": "code",
   "execution_count": null,
   "id": "96d6d8f7-512e-4573-95e2-0e51883f18f9",
   "metadata": {},
   "outputs": [],
   "source": [
    "myobj.foo"
   ]
  },
  {
   "cell_type": "code",
   "execution_count": null,
   "id": "9a7781a3-2052-40c7-8441-dc6a139fc962",
   "metadata": {},
   "outputs": [],
   "source": [
    "myobj.foo"
   ]
  },
  {
   "cell_type": "code",
   "execution_count": null,
   "id": "d0d403cf-c2b2-4f43-92e1-bd267459f89b",
   "metadata": {},
   "outputs": [],
   "source": [
    "def my_func(a, b=1):\n",
    "    ...\n",
    "import inspect\n",
    "signature = inspect.signature(my_func)\n",
    "bound = signature.bind_partial()\n",
    "bound.apply_defaults()\n",
    "bound.arguments.setdefault"
   ]
  },
  {
   "cell_type": "code",
   "execution_count": null,
   "id": "daf0bfac-a6ec-4794-b34c-febc8a9ab97a",
   "metadata": {},
   "outputs": [],
   "source": [
    "signature.empty"
   ]
  },
  {
   "cell_type": "code",
   "execution_count": null,
   "id": "1c2d34a2-143c-4297-8b3f-cba1ac9539d8",
   "metadata": {},
   "outputs": [],
   "source": [
    "signature.parameters"
   ]
  },
  {
   "cell_type": "code",
   "execution_count": null,
   "id": "1d302c28-c87e-4f0d-81ba-21342714e6c4",
   "metadata": {},
   "outputs": [],
   "source": [
    "class A:\n",
    "    __slots__ = ()\n",
    "    @property\n",
    "    def foo(self, /):\n",
    "        return 3\n",
    "\n",
    "class B(A):\n",
    "    __slots__ = ('foo',)\n",
    "    def __getattr__(self, name, /):\n",
    "        return getattr(A, name).__get__(self)\n",
    "\n",
    "myobj = B()\n",
    "myobj.foo"
   ]
  },
  {
   "cell_type": "code",
   "execution_count": null,
   "id": "bb0e1662-9275-4577-b907-8004e4838f40",
   "metadata": {},
   "outputs": [],
   "source": [
    "class A:\n",
    "    __slots__ = ()\n",
    "    class foo:\n",
    "        ...\n",
    "class B(A):\n",
    "    __slots__ = ('foo',)\n",
    "    @property\n",
    "    def _foo(self, /):\n",
    "        return super().foo"
   ]
  },
  {
   "cell_type": "code",
   "execution_count": null,
   "id": "066a4a4b-2d71-4078-ba74-85142d7c506b",
   "metadata": {},
   "outputs": [],
   "source": [
    "obj = B()\n",
    "obj.foo = 1"
   ]
  },
  {
   "cell_type": "code",
   "execution_count": null,
   "id": "2242fa30-1cac-4dca-9f82-76b8027a758e",
   "metadata": {},
   "outputs": [],
   "source": [
    "B.foo"
   ]
  },
  {
   "cell_type": "code",
   "execution_count": null,
   "id": "78a8b309-f377-4306-a127-2508bd4a3981",
   "metadata": {},
   "outputs": [],
   "source": [
    "obj._foo"
   ]
  },
  {
   "cell_type": "code",
   "execution_count": null,
   "id": "1aff61e1-ff0e-4f88-99a7-ad19131e18c9",
   "metadata": {},
   "outputs": [],
   "source": [
    "obj.foo"
   ]
  },
  {
   "cell_type": "code",
   "execution_count": null,
   "id": "f6b3d433-cdbc-484b-ac40-761a59aaa58e",
   "metadata": {},
   "outputs": [],
   "source": [
    "class A:\n",
    "    def __getattr__(self, name, /):\n",
    "        return f\"({name})\"\n",
    "\n",
    "obja = A()\n",
    "display(obja.foo)\n",
    "\n",
    "class B(A):\n",
    "    @property\n",
    "    def foo(self, /):\n",
    "        return super().foo\n",
    "\n",
    "objb = B()\n",
    "objb.foo"
   ]
  },
  {
   "cell_type": "code",
   "execution_count": null,
   "id": "0cd05152-b8e7-4d04-9c7e-bac7eaf40f29",
   "metadata": {},
   "outputs": [],
   "source": [
    "class A:\n",
    "    __slots__ = ('foo',)\n",
    "\n",
    "class B(A):\n",
    "    __slots__ = ('qux',)\n",
    "    def bah(self, /):\n",
    "        return super().foo\n",
    "    def boo(self, /):\n",
    "        return super().qux"
   ]
  },
  {
   "cell_type": "code",
   "execution_count": null,
   "id": "9a5d933d-3c5c-4db7-a32d-9fa27449a0f5",
   "metadata": {},
   "outputs": [],
   "source": [
    "obj = B()\n",
    "obj.foo = 2\n",
    "obj.qux = 3"
   ]
  },
  {
   "cell_type": "code",
   "execution_count": null,
   "id": "d0fe7b44-8bcc-44de-b488-77ebe1120bc0",
   "metadata": {},
   "outputs": [],
   "source": [
    "obj.boo()"
   ]
  },
  {
   "cell_type": "code",
   "execution_count": null,
   "id": "bc46a792-5bb1-43e1-8071-c60550bc2860",
   "metadata": {},
   "outputs": [],
   "source": [
    "class Meta(type):\n",
    "    def __getattr__(self, name, /):\n",
    "        return f\"class.{name}\"\n",
    "\n",
    "class A(metaclass=Meta):\n",
    "    __slots__ = ('foo',)\n",
    "    def __getattr__(self, name, /):\n",
    "        return f\"instance.{name}\"\n",
    "\n",
    "class B(A):\n",
    "    ...\n",
    "    # @classmethod\n",
    "    # def foo(cls, /):\n",
    "    #     return super().foo\n",
    "    @property\n",
    "    def foo(self, /):\n",
    "        try:\n",
    "            return f\"prop_{super().foo}\"\n",
    "        except AttributeError as exc:\n",
    "            display(exc)\n",
    "            raise exc\n",
    "\n",
    "class C(A):\n",
    "\n",
    "    # @classmethod\n",
    "    # def foo(cls, /):\n",
    "    #     return super().foo\n",
    "    def foo(self, /):\n",
    "        return super().foo"
   ]
  },
  {
   "cell_type": "code",
   "execution_count": null,
   "id": "51216f6a-367e-4b05-b280-6b9abe358a60",
   "metadata": {},
   "outputs": [],
   "source": [
    "obj = B()\n",
    "obj.foo = 1\n",
    "obj.foo"
   ]
  },
  {
   "cell_type": "code",
   "execution_count": null,
   "id": "5850dc19-7c5b-400d-a256-badaa4b8988b",
   "metadata": {},
   "outputs": [],
   "source": [
    "B.foo.fget(B())"
   ]
  },
  {
   "cell_type": "code",
   "execution_count": null,
   "id": "39f82789-f94a-46a6-8afc-bf8fe45850c5",
   "metadata": {},
   "outputs": [],
   "source": [
    "C().foo()"
   ]
  },
  {
   "cell_type": "code",
   "execution_count": null,
   "id": "c3a9bb72-cd5d-4a6a-ae21-2a2f9d4a5e8d",
   "metadata": {},
   "outputs": [],
   "source": [
    "super(int).__getattribute__('foo')"
   ]
  },
  {
   "cell_type": "code",
   "execution_count": null,
   "id": "735b0a6b-a6c5-430f-aeb1-ecc0a0a040c0",
   "metadata": {},
   "outputs": [],
   "source": [
    "dct['foo'] = 1"
   ]
  },
  {
   "cell_type": "code",
   "execution_count": null,
   "id": "4912f5ca-8f0a-4d85-85bc-5f0cb6843492",
   "metadata": {},
   "outputs": [],
   "source": [
    "class B(A):\n",
    "    def foo(self, /):\n",
    "        return super().foo"
   ]
  },
  {
   "cell_type": "code",
   "execution_count": null,
   "id": "1660141d-88d0-4546-af31-fb32b798b315",
   "metadata": {},
   "outputs": [],
   "source": [
    "A.bah = 2"
   ]
  },
  {
   "cell_type": "code",
   "execution_count": null,
   "id": "6c5b5e99-657d-4e69-865a-96c3c10e8b70",
   "metadata": {},
   "outputs": [],
   "source": [
    "A."
   ]
  },
  {
   "cell_type": "code",
   "execution_count": null,
   "id": "1a663083-c802-4df2-ad19-11426f84b406",
   "metadata": {},
   "outputs": [],
   "source": [
    "B().foo()"
   ]
  },
  {
   "cell_type": "code",
   "execution_count": null,
   "id": "cdbe5b1d-a569-46a8-bea7-9bbb62d11d5b",
   "metadata": {},
   "outputs": [],
   "source": []
  },
  {
   "cell_type": "code",
   "execution_count": null,
   "id": "895ac358-22c5-4d85-af85-6e97964006a2",
   "metadata": {},
   "outputs": [],
   "source": [
    "from everest.ptolemaic.sprite import Sprite\n",
    "\n",
    "class A(metaclass=Sprite):\n",
    "    __slots__ = ('foo', 'bah')\n",
    "    a: int\n",
    "    b: float\n",
    "    c: tuple\n",
    "    def __init__(self, /):\n",
    "        self.foo = self.a**2\n",
    "        self.bah = 1 / self.b\n",
    "        self.qux = tuple(((val, val) for val in self.c))\n",
    "\n",
    "from everest.bureau import get_globalbureau\n",
    "taph = get_globalbureau().taphonomy\n",
    "taph(A(1, 2, ())).decode()"
   ]
  },
  {
   "cell_type": "code",
   "execution_count": null,
   "id": "89c98fdf-a246-4e2b-94c5-14c5334a8d63",
   "metadata": {},
   "outputs": [],
   "source": [
    "from everest.ptolemaic.essence import Essence\n",
    "\n",
    "class A(metaclass=Essence):\n",
    "    class B(metaclass=Essence):\n",
    "        ..."
   ]
  },
  {
   "cell_type": "code",
   "execution_count": null,
   "id": "bd8bc674-c196-45fc-96e0-cbeab9b60e7c",
   "metadata": {},
   "outputs": [],
   "source": [
    "from everest.ptolemaic.schema import Schema"
   ]
  },
  {
   "cell_type": "code",
   "execution_count": null,
   "id": "70493347-181d-4b66-8278-bbe3dfb4ee88",
   "metadata": {},
   "outputs": [],
   "source": [
    "class A(metaclass=Schema):\n",
    "\n",
    "    a: int = 1\n",
    "    b: int = 2\n",
    "    c: int = 3\n",
    "\n",
    "    class B(metaclass=Schema):\n",
    "        ..."
   ]
  },
  {
   "cell_type": "code",
   "execution_count": null,
   "id": "2bccb413-2c85-43e4-bce1-353380b48299",
   "metadata": {},
   "outputs": [],
   "source": [
    "class A(metaclass=Schema):\n",
    "\n",
    "    a: int = 1\n",
    "    b: int = 2\n",
    "    c: int = 3\n",
    "    d = a + b ** c\n",
    "    e = 1 / d\n",
    "\n",
    "myobj = A()\n",
    "display(A().e)"
   ]
  },
  {
   "cell_type": "code",
   "execution_count": null,
   "id": "3e730951-2856-4ca8-9dc6-f7ac0601b4e1",
   "metadata": {},
   "outputs": [],
   "source": [
    "class A(metaclass=Schema):\n",
    "\n",
    "    a: int = 1\n",
    "\n",
    "    c = a * 2\n",
    "\n",
    "    @organ(b=2)\n",
    "    class B(metaclass=Schema):\n",
    "        a: int\n",
    "        b: int\n",
    "        c: int\n",
    "\n",
    "myobj = A()\n",
    "myobj.c"
   ]
  },
  {
   "cell_type": "code",
   "execution_count": null,
   "id": "54da749f-aae7-4fe7-b255-53bc6e7880a2",
   "metadata": {},
   "outputs": [],
   "source": [
    "from everest.ptolemaic import sett, mapp"
   ]
  },
  {
   "cell_type": "code",
   "execution_count": null,
   "id": "e271216f-332b-4ed3-823c-813864af56d1",
   "metadata": {},
   "outputs": [],
   "source": [
    "@mapp\n",
    "def mapp1(arg: list[int, str], /) -> str:\n",
    "    a, b = arg\n",
    "    return a * b\n",
    "\n",
    "@mapp\n",
    "def mapp2(arg: int, /) -> str:\n",
    "    return arg**2"
   ]
  },
  {
   "cell_type": "code",
   "execution_count": null,
   "id": "b3532a8c-d230-420a-b389-d34cc3e45e04",
   "metadata": {},
   "outputs": [],
   "source": [
    "mapp((mapp1, mapp2))[[2, 'foo']]"
   ]
  }
 ],
 "metadata": {
  "kernelspec": {
   "display_name": "Python 3 (ipykernel)",
   "language": "python",
   "name": "python3"
  },
  "language_info": {
   "codemirror_mode": {
    "name": "ipython",
    "version": 3
   },
   "file_extension": ".py",
   "mimetype": "text/x-python",
   "name": "python",
   "nbconvert_exporter": "python",
   "pygments_lexer": "ipython3",
   "version": "3.9.5"
  }
 },
 "nbformat": 4,
 "nbformat_minor": 5
}
