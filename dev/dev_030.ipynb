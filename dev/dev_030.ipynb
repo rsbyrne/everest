{
 "cells": [
  {
   "cell_type": "code",
   "execution_count": null,
   "id": "3a2d4331-b5a5-44f6-b82d-bd24c1116c9d",
   "metadata": {},
   "outputs": [],
   "source": [
    "###############################################################################\n",
    "import aliases\n",
    "from everest.utilities import textutils\n",
    "# tuple(textutils.find_all('Schematic', path='../everest'))\n",
    "# textutils.replace_all('Schematic', 'Compound', path='../everest')"
   ]
  },
  {
   "cell_type": "code",
   "execution_count": null,
   "id": "00610fea-2630-4ea7-8b7c-546f45a44298",
   "metadata": {},
   "outputs": [],
   "source": [
    "from everest.ptolemaic.schema import Schema"
   ]
  },
  {
   "cell_type": "code",
   "execution_count": null,
   "id": "d0064311-41a5-4fb1-88c2-0a20956debcc",
   "metadata": {},
   "outputs": [],
   "source": [
    "class A(metaclass=Schema):\n",
    "\n",
    "    foo: int = 2\n",
    "    bah: str = 'hello'\n",
    "    floop: bool = True\n",
    "\n",
    "    @_.organ(baz=_.get('bah'), boo=True)\n",
    "    class B(metaclass=Schema):\n",
    "        foo: int\n",
    "        baz: int\n",
    "        boo: bool\n",
    "        qux: str = 'world'\n",
    "\n",
    "    @_.organ(bananas=_.get('B'))\n",
    "    class C(metaclass=Schema):\n",
    "        bananas: object\n",
    "        @_.comp\n",
    "        def mycomp(self, /):\n",
    "            return f\"!!!{self.bananas}!!!\"\n",
    "\n",
    "    @_.cached\n",
    "    def apples(self, /):\n",
    "        return self.C.mycomp"
   ]
  },
  {
   "cell_type": "code",
   "execution_count": null,
   "id": "3bcd2796-c874-4ec7-b03e-b21eb089cf9a",
   "metadata": {},
   "outputs": [],
   "source": [
    "A().apples"
   ]
  },
  {
   "cell_type": "code",
   "execution_count": null,
   "id": "dd0dcc23-7699-418d-be7f-c1d7ecd89188",
   "metadata": {},
   "outputs": [],
   "source": [
    "from everest.ptolemaic import sett, mapp"
   ]
  },
  {
   "cell_type": "code",
   "execution_count": null,
   "id": "e271216f-332b-4ed3-823c-813864af56d1",
   "metadata": {},
   "outputs": [],
   "source": [
    "@mapp\n",
    "def mapp1(arg: list[int, str], /) -> str:\n",
    "    a, b = arg\n",
    "    return a * b\n",
    "\n",
    "@mapp\n",
    "def mapp2(arg: int, /) -> str:\n",
    "    return arg**2"
   ]
  },
  {
   "cell_type": "code",
   "execution_count": null,
   "id": "b3532a8c-d230-420a-b389-d34cc3e45e04",
   "metadata": {},
   "outputs": [],
   "source": [
    "mapp((mapp1, mapp2))[[2, 'foo']]"
   ]
  },
  {
   "cell_type": "code",
   "execution_count": null,
   "id": "f6096da8-82f4-491a-abc0-804e489fd138",
   "metadata": {},
   "outputs": [],
   "source": [
    "import types"
   ]
  },
  {
   "cell_type": "code",
   "execution_count": null,
   "id": "6534e792-f6b5-4d1b-96c5-ce5ef5204788",
   "metadata": {},
   "outputs": [],
   "source": [
    "ns = types.SimpleNamespace()"
   ]
  },
  {
   "cell_type": "code",
   "execution_count": null,
   "id": "0a6cb60c-4843-42f1-be41-461366967abf",
   "metadata": {},
   "outputs": [],
   "source": [
    "dir(ns)"
   ]
  },
  {
   "cell_type": "code",
   "execution_count": null,
   "id": "5fe1bbdc-969c-46ee-a77c-31df0445d93b",
   "metadata": {},
   "outputs": [],
   "source": [
    "ns.__dict__.update(a=1)"
   ]
  },
  {
   "cell_type": "code",
   "execution_count": null,
   "id": "49e3cd9b-3e80-442d-a88e-36301701aa2c",
   "metadata": {},
   "outputs": [],
   "source": []
  }
 ],
 "metadata": {
  "kernelspec": {
   "display_name": "Python 3 (ipykernel)",
   "language": "python",
   "name": "python3"
  },
  "language_info": {
   "codemirror_mode": {
    "name": "ipython",
    "version": 3
   },
   "file_extension": ".py",
   "mimetype": "text/x-python",
   "name": "python",
   "nbconvert_exporter": "python",
   "pygments_lexer": "ipython3",
   "version": "3.9.5"
  }
 },
 "nbformat": 4,
 "nbformat_minor": 5
}
