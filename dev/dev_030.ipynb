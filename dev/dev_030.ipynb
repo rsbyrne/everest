{
 "cells": [
  {
   "cell_type": "code",
   "execution_count": null,
   "id": "3a2d4331-b5a5-44f6-b82d-bd24c1116c9d",
   "metadata": {},
   "outputs": [],
   "source": [
    "###############################################################################\n",
    "import aliases\n",
    "from everest.utilities import textutils\n",
    "# tuple(textutils.find_all('Schematic', path='../everest'))\n",
    "# textutils.replace_all('Schematic', 'Compound', path='../everest')"
   ]
  },
  {
   "cell_type": "code",
   "execution_count": null,
   "id": "c465e4e4-b6a8-4db3-b214-ebf28f1d8b2e",
   "metadata": {},
   "outputs": [],
   "source": [
    "from everest.ptolemaic import sett\n",
    "from everest.ptolemaic import mapp"
   ]
  },
  {
   "cell_type": "code",
   "execution_count": null,
   "id": "5f46f5df-c3b8-4dc2-8c47-82f9af41109d",
   "metadata": {},
   "outputs": [],
   "source": [
    "@mapp\n",
    "def mapp1(a: int, b: str, /) -> str:\n",
    "    return a * b\n",
    "\n",
    "@mapp\n",
    "def mapp2(a: str, /):\n",
    "    return f\"Foo({a})\"\n",
    "\n",
    "@mapp\n",
    "def mapp3(a: str, /) -> (int, str):\n",
    "    return a.count('o'), a.upper()"
   ]
  },
  {
   "cell_type": "code",
   "execution_count": null,
   "id": "038a3274-fbd4-4beb-9c05-fa678816df89",
   "metadata": {},
   "outputs": [],
   "source": [
    "(mapp1 @ mapp3 @ mapp2 @ mapp1)[3, 'a']"
   ]
  },
  {
   "cell_type": "code",
   "execution_count": null,
   "id": "7f906223-8f2c-4612-86da-f5fc4c3612e1",
   "metadata": {},
   "outputs": [],
   "source": [
    "@mapp\n",
    "def mapp1(a: int, /) -> str:\n",
    "    return f\"Foo({a})\"\n",
    "\n",
    "@mapp\n",
    "def mapp2(a: str, /) -> str:\n",
    "    return a*2\n",
    "\n",
    "@mapp\n",
    "def mapp3(a: str, b: int, /) -> str:\n",
    "    return f\"{a}({b})\"\n",
    "\n",
    "@mapp\n",
    "def mapp4(a: int, b: str, /) -> str:\n",
    "    return a*b"
   ]
  },
  {
   "cell_type": "code",
   "execution_count": null,
   "id": "a940de82-745a-439d-8de6-155e0b295bf0",
   "metadata": {},
   "outputs": [],
   "source": [
    "mymapp = mapp((mapp1, mapp2, (mapp3, mapp4)))"
   ]
  },
  {
   "cell_type": "code",
   "execution_count": null,
   "id": "62f5039a-973f-4e7e-9d21-3431eb6925b5",
   "metadata": {},
   "outputs": [],
   "source": [
    "%%timeit -n 1000\n",
    "out = (\n",
    "    mymapp[2],\n",
    "    mymapp['foo'],\n",
    "    mymapp['foo', 1],\n",
    "    mymapp[2, 'bah'],\n",
    "    )"
   ]
  },
  {
   "cell_type": "code",
   "execution_count": null,
   "id": "5b92b380-c5d2-4509-8bc9-e0c9a2a5b0e1",
   "metadata": {},
   "outputs": [],
   "source": [
    "mymapp.get_mapp[tuple]"
   ]
  },
  {
   "cell_type": "code",
   "execution_count": null,
   "id": "2af2bd0c-c478-402f-a15e-8981fee1a9b1",
   "metadata": {},
   "outputs": [],
   "source": []
  }
 ],
 "metadata": {
  "kernelspec": {
   "display_name": "Python 3 (ipykernel)",
   "language": "python",
   "name": "python3"
  },
  "language_info": {
   "codemirror_mode": {
    "name": "ipython",
    "version": 3
   },
   "file_extension": ".py",
   "mimetype": "text/x-python",
   "name": "python",
   "nbconvert_exporter": "python",
   "pygments_lexer": "ipython3",
   "version": "3.9.5"
  }
 },
 "nbformat": 4,
 "nbformat_minor": 5
}
