{
 "cells": [
  {
   "cell_type": "code",
   "execution_count": null,
   "id": "b26e91a5-ad9e-4715-b202-c1e74e9ee0db",
   "metadata": {},
   "outputs": [],
   "source": [
    "###############################################################################\n",
    "import aliases\n",
    "from everest.utilities import textutils\n",
    "# tuple(textutils.find_all('Schematic', path='../everest'))\n",
    "# textutils.replace_all('Schematic', 'Compound', path='../everest')"
   ]
  },
  {
   "cell_type": "code",
   "execution_count": null,
   "id": "94921516-ce2c-4695-84de-417e50d9d138",
   "metadata": {},
   "outputs": [],
   "source": [
    "from everest.ptolemaic.schema import Schema\n",
    "from everest.ptolemaic import organ"
   ]
  },
  {
   "cell_type": "code",
   "execution_count": null,
   "id": "3e730951-2856-4ca8-9dc6-f7ac0601b4e1",
   "metadata": {},
   "outputs": [],
   "source": [
    "class A(metaclass=Schema):\n",
    "\n",
    "    a: int = 1\n",
    "\n",
    "    @getter\n",
    "    def foo(self, /):\n",
    "        return 2 * repr(self)\n",
    "\n",
    "    @organ(a=1, b=2)\n",
    "    class B(metaclass=Schema):\n",
    "        a: int\n",
    "        b: int"
   ]
  },
  {
   "cell_type": "code",
   "execution_count": null,
   "id": "d562601b-3461-4cbe-b07e-46adc94e6cac",
   "metadata": {},
   "outputs": [],
   "source": [
    "myobj = A()"
   ]
  },
  {
   "cell_type": "code",
   "execution_count": null,
   "id": "d0064311-41a5-4fb1-88c2-0a20956debcc",
   "metadata": {},
   "outputs": [],
   "source": [
    "class A(metaclass=Schema):\n",
    "\n",
    "    foo: int = 2\n",
    "    bah: str = 'hello'\n",
    "    floop: bool = True\n",
    "\n",
    "    @organ(baz=1, boo=True)\n",
    "    class B(metaclass=Schema):\n",
    "        foo: int\n",
    "        baz: int\n",
    "        boo: bool\n",
    "        qux: str = 'world'\n",
    "\n",
    "    @organ(bananas=2)\n",
    "    class C(metaclass=Schema):\n",
    "        bananas: object\n",
    "        @getter\n",
    "        def mycomp(self, /):\n",
    "            return f\"!!!{self.bananas}!!!\"\n",
    "\n",
    "    @getter\n",
    "    def apples(self, /):\n",
    "        return self.C.mycomp"
   ]
  },
  {
   "cell_type": "code",
   "execution_count": null,
   "id": "c141e642-a103-4b0e-b542-d20a4e329456",
   "metadata": {},
   "outputs": [],
   "source": [
    "A().apples"
   ]
  },
  {
   "cell_type": "code",
   "execution_count": null,
   "id": "54da749f-aae7-4fe7-b255-53bc6e7880a2",
   "metadata": {},
   "outputs": [],
   "source": [
    "from everest.ptolemaic import sett, mapp"
   ]
  },
  {
   "cell_type": "code",
   "execution_count": null,
   "id": "e271216f-332b-4ed3-823c-813864af56d1",
   "metadata": {},
   "outputs": [],
   "source": [
    "@mapp\n",
    "def mapp1(arg: list[int, str], /) -> str:\n",
    "    a, b = arg\n",
    "    return a * b\n",
    "\n",
    "@mapp\n",
    "def mapp2(arg: int, /) -> str:\n",
    "    return arg**2"
   ]
  },
  {
   "cell_type": "code",
   "execution_count": null,
   "id": "b3532a8c-d230-420a-b389-d34cc3e45e04",
   "metadata": {},
   "outputs": [],
   "source": [
    "mapp((mapp1, mapp2))[[2, 'foo']]"
   ]
  },
  {
   "cell_type": "code",
   "execution_count": null,
   "id": "5f6c4581-bc5d-4deb-b509-0f1e65c1665b",
   "metadata": {},
   "outputs": [],
   "source": [
    "out = super().__new__(meta, name, bases, ns)"
   ]
  },
  {
   "cell_type": "code",
   "execution_count": null,
   "id": "0771fc2d-4f90-4bed-9bf3-ca6de3cd82d8",
   "metadata": {},
   "outputs": [],
   "source": [
    "del {'a': 1}['b']"
   ]
  },
  {
   "cell_type": "code",
   "execution_count": null,
   "id": "d2c6ab4e-e391-407e-a8d8-8c0446d2a095",
   "metadata": {},
   "outputs": [],
   "source": [
    "class MyClass:\n",
    "    ...\n",
    "myobj = MyClass()\n",
    "myobj.__class__.__name__"
   ]
  },
  {
   "cell_type": "code",
   "execution_count": null,
   "id": "891a2969-03ba-4abe-b9d0-5705e72a4042",
   "metadata": {},
   "outputs": [],
   "source": []
  }
 ],
 "metadata": {
  "kernelspec": {
   "display_name": "Python 3 (ipykernel)",
   "language": "python",
   "name": "python3"
  },
  "language_info": {
   "codemirror_mode": {
    "name": "ipython",
    "version": 3
   },
   "file_extension": ".py",
   "mimetype": "text/x-python",
   "name": "python",
   "nbconvert_exporter": "python",
   "pygments_lexer": "ipython3",
   "version": "3.9.5"
  }
 },
 "nbformat": 4,
 "nbformat_minor": 5
}
