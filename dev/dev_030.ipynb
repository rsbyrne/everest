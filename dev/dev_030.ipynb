{
 "cells": [
  {
   "cell_type": "code",
   "execution_count": null,
   "id": "3a2d4331-b5a5-44f6-b82d-bd24c1116c9d",
   "metadata": {},
   "outputs": [],
   "source": [
    "###############################################################################\n",
    "import aliases"
   ]
  },
  {
   "cell_type": "code",
   "execution_count": null,
   "id": "48502b1c-7c04-4134-aa8a-a5fdd3829936",
   "metadata": {},
   "outputs": [],
   "source": [
    "from everest.ptolemaic.pentheros import Pentheros as _Pentheros"
   ]
  },
  {
   "cell_type": "code",
   "execution_count": null,
   "id": "bb6649b0-f24d-4ddb-95bc-093072cbd4cc",
   "metadata": {},
   "outputs": [],
   "source": [
    "'abdeabcde'.replace('de', '!')"
   ]
  },
  {
   "cell_type": "code",
   "execution_count": null,
   "id": "76ded404-e59d-4997-8889-094bef4828ed",
   "metadata": {},
   "outputs": [],
   "source": [
    "import os"
   ]
  },
  {
   "cell_type": "code",
   "execution_count": null,
   "id": "9d65d80f-4b99-48c5-b6ec-db7377716aa2",
   "metadata": {},
   "outputs": [],
   "source": []
  },
  {
   "cell_type": "code",
   "execution_count": null,
   "id": "8d6ada5a-9970-4b0a-a4de-0d5e6c2b5151",
   "metadata": {},
   "outputs": [],
   "source": [
    "os.path.split('a/b/c')"
   ]
  },
  {
   "cell_type": "code",
   "execution_count": null,
   "id": "bff522c1-54ec-4573-b0e8-847ddb5e8164",
   "metadata": {},
   "outputs": [],
   "source": [
    "open"
   ]
  },
  {
   "cell_type": "code",
   "execution_count": null,
   "id": "1b5aa8e1-0919-45fc-bfcd-75ab9477eb11",
   "metadata": {},
   "outputs": [],
   "source": [
    "for dirpath, dirnames, filenames in os.walk('../everest'):\n",
    "    if os.path.split(dirpath)[1].startswith('.'):\n",
    "        continue\n",
    "    for filename in filenames:\n",
    "        if filename.startswith('.'):\n",
    "            continue\n",
    "        if not filename.endswith('.py'):\n",
    "            continue\n",
    "        with open(os.path.join(dirpath, filename), mode='r') as file:\n",
    "            text = file.read()\n",
    "        print(text[:10])"
   ]
  },
  {
   "cell_type": "code",
   "execution_count": null,
   "id": "d4fd26ba-b3b6-4583-ae3f-b283927edb44",
   "metadata": {},
   "outputs": [],
   "source": [
    "os.listdir('..')"
   ]
  },
  {
   "cell_type": "code",
   "execution_count": null,
   "id": "ffef379e-3420-445d-a1f1-734920c66372",
   "metadata": {},
   "outputs": [],
   "source": []
  }
 ],
 "metadata": {
  "kernelspec": {
   "display_name": "Python 3 (ipykernel)",
   "language": "python",
   "name": "python3"
  },
  "language_info": {
   "codemirror_mode": {
    "name": "ipython",
    "version": 3
   },
   "file_extension": ".py",
   "mimetype": "text/x-python",
   "name": "python",
   "nbconvert_exporter": "python",
   "pygments_lexer": "ipython3",
   "version": "3.9.5"
  }
 },
 "nbformat": 4,
 "nbformat_minor": 5
}
