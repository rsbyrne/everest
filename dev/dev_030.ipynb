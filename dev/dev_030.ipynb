{
 "cells": [
  {
   "cell_type": "code",
   "execution_count": null,
   "id": "3a2d4331-b5a5-44f6-b82d-bd24c1116c9d",
   "metadata": {},
   "outputs": [],
   "source": [
    "###############################################################################\n",
    "import aliases\n",
    "from everest.utilities import textutils\n",
    "# tuple(textutils.find_all('Schematic', path='../everest'))\n",
    "# textutils.replace_all('Schematic', 'Compound', path='../everest')"
   ]
  },
  {
   "cell_type": "code",
   "execution_count": null,
   "id": "3d5682f4-71ac-4488-a4ec-fa29f7c2233c",
   "metadata": {},
   "outputs": [],
   "source": [
    "from everest.ptolemaic.armature import Armature"
   ]
  },
  {
   "cell_type": "code",
   "execution_count": null,
   "id": "74e53fab-067e-409d-872f-3bdd1c9c7dfb",
   "metadata": {},
   "outputs": [],
   "source": [
    "class MyClass(metaclass=Armature):\n",
    "    a: int\n",
    "    b: float"
   ]
  },
  {
   "cell_type": "code",
   "execution_count": null,
   "id": "f7983604-f1eb-47fe-a72a-d76c326ac293",
   "metadata": {},
   "outputs": [],
   "source": [
    "out = MyClass(1, 2)"
   ]
  },
  {
   "cell_type": "code",
   "execution_count": null,
   "id": "4e231030-b998-4780-807f-fa153119133f",
   "metadata": {},
   "outputs": [],
   "source": [
    "out"
   ]
  }
 ],
 "metadata": {
  "kernelspec": {
   "display_name": "Python 3 (ipykernel)",
   "language": "python",
   "name": "python3"
  },
  "language_info": {
   "codemirror_mode": {
    "name": "ipython",
    "version": 3
   },
   "file_extension": ".py",
   "mimetype": "text/x-python",
   "name": "python",
   "nbconvert_exporter": "python",
   "pygments_lexer": "ipython3",
   "version": "3.9.5"
  }
 },
 "nbformat": 4,
 "nbformat_minor": 5
}
