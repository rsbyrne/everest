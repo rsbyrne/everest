{
 "cells": [
  {
   "cell_type": "code",
   "execution_count": null,
   "id": "b26e91a5-ad9e-4715-b202-c1e74e9ee0db",
   "metadata": {},
   "outputs": [],
   "source": [
    "###############################################################################\n",
    "import aliases\n",
    "from everest.utilities import textutils\n",
    "# tuple(textutils.find_all('Schematic', path='../everest'))\n",
    "# textutils.replace_all('Schematic', 'Compound', path='../everest')"
   ]
  },
  {
   "cell_type": "code",
   "execution_count": null,
   "id": "ef4b35e9-15d3-43e7-b5a5-a06857511a4f",
   "metadata": {},
   "outputs": [],
   "source": [
    "from everest.ptolemaic.essence import Essence"
   ]
  },
  {
   "cell_type": "code",
   "execution_count": null,
   "id": "4e15426d-fae4-40b5-af02-fb6709d66089",
   "metadata": {},
   "outputs": [],
   "source": [
    "class Meta(Essence):\n",
    "\n",
    "    @classmethod\n",
    "    def _yield_mergenames(meta, /):\n",
    "        yield from super()._yield_mergenames()\n",
    "        yield '__foo__', list, tuple\n",
    "\n",
    "\n",
    "class Base(metaclass=Meta):\n",
    "    @classmethod\n",
    "    def __class_init__(cls, /):\n",
    "        super().__class_init__\n",
    "        print(f\"Initialising {cls}\")\n",
    "\n",
    "\n",
    "class A(Base):\n",
    "    __foo__ = (1, 2)\n",
    "    class B(Base):\n",
    "        __foo__ = (3, 4)\n",
    "        class C(Base):\n",
    "            __foo__ = (5, 6)\n",
    "\n",
    "\n",
    "class D(A):\n",
    "    __foo__ = (7, 8)"
   ]
  },
  {
   "cell_type": "code",
   "execution_count": null,
   "id": "94921516-ce2c-4695-84de-417e50d9d138",
   "metadata": {},
   "outputs": [],
   "source": [
    "from everest.ptolemaic.schema import Schema"
   ]
  },
  {
   "cell_type": "code",
   "execution_count": null,
   "id": "d0064311-41a5-4fb1-88c2-0a20956debcc",
   "metadata": {},
   "outputs": [],
   "source": [
    "class A(metaclass=Schema):\n",
    "\n",
    "    foo: int = 2\n",
    "    bah: str = 'hello'\n",
    "    floop: bool = True\n",
    "\n",
    "    @_.organ(baz=_.get('bah'), boo=True)\n",
    "    class B(metaclass=Schema):\n",
    "        foo: int\n",
    "        baz: int\n",
    "        boo: bool\n",
    "        qux: str = 'world'\n",
    "\n",
    "    @_.organ(bananas=_.get('B'))\n",
    "    class C(metaclass=Schema):\n",
    "        bananas: object\n",
    "        @_.comp\n",
    "        def mycomp(self, /):\n",
    "            return f\"!!!{self.bananas}!!!\"\n",
    "\n",
    "    @_.cached\n",
    "    def apples(self, /):\n",
    "        return self.C.mycomp"
   ]
  },
  {
   "cell_type": "code",
   "execution_count": null,
   "id": "c141e642-a103-4b0e-b542-d20a4e329456",
   "metadata": {},
   "outputs": [],
   "source": [
    "A().apples"
   ]
  },
  {
   "cell_type": "code",
   "execution_count": null,
   "id": "54da749f-aae7-4fe7-b255-53bc6e7880a2",
   "metadata": {},
   "outputs": [],
   "source": [
    "from everest.ptolemaic import sett, mapp"
   ]
  },
  {
   "cell_type": "code",
   "execution_count": null,
   "id": "e271216f-332b-4ed3-823c-813864af56d1",
   "metadata": {},
   "outputs": [],
   "source": [
    "@mapp\n",
    "def mapp1(arg: list[int, str], /) -> str:\n",
    "    a, b = arg\n",
    "    return a * b\n",
    "\n",
    "@mapp\n",
    "def mapp2(arg: int, /) -> str:\n",
    "    return arg**2"
   ]
  },
  {
   "cell_type": "code",
   "execution_count": null,
   "id": "b3532a8c-d230-420a-b389-d34cc3e45e04",
   "metadata": {},
   "outputs": [],
   "source": [
    "mapp((mapp1, mapp2))[[2, 'foo']]"
   ]
  },
  {
   "cell_type": "code",
   "execution_count": null,
   "id": "5f6c4581-bc5d-4deb-b509-0f1e65c1665b",
   "metadata": {},
   "outputs": [],
   "source": [
    "out = super().__new__(meta, name, bases, ns)"
   ]
  }
 ],
 "metadata": {
  "kernelspec": {
   "display_name": "Python 3 (ipykernel)",
   "language": "python",
   "name": "python3"
  },
  "language_info": {
   "codemirror_mode": {
    "name": "ipython",
    "version": 3
   },
   "file_extension": ".py",
   "mimetype": "text/x-python",
   "name": "python",
   "nbconvert_exporter": "python",
   "pygments_lexer": "ipython3",
   "version": "3.9.5"
  }
 },
 "nbformat": 4,
 "nbformat_minor": 5
}
