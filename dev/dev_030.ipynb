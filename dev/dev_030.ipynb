{
 "cells": [
  {
   "cell_type": "code",
   "execution_count": null,
   "id": "3a2d4331-b5a5-44f6-b82d-bd24c1116c9d",
   "metadata": {},
   "outputs": [],
   "source": [
    "###############################################################################\n",
    "import aliases\n",
    "# from everest.utilities import textutils\n",
    "# tuple(textutils.find_all('diict', path='../everest'))"
   ]
  },
  {
   "cell_type": "code",
   "execution_count": null,
   "id": "fe01a2be-a37e-4ab2-a0fd-d5365494e4b1",
   "metadata": {},
   "outputs": [],
   "source": [
    "from everest.ptolemaic.atlantean import *"
   ]
  },
  {
   "cell_type": "code",
   "execution_count": null,
   "id": "bfe99783-7b62-4d54-9400-03fc66c2b10e",
   "metadata": {},
   "outputs": [],
   "source": [
    "Arraay(tuple(range(370))).epitaph.decode()"
   ]
  },
  {
   "cell_type": "code",
   "execution_count": null,
   "id": "65486df9-a68d-4a7a-aaec-2b416354cd26",
   "metadata": {},
   "outputs": [],
   "source": [
    "from everest.ptolemaic.schematic import Schematic"
   ]
  },
  {
   "cell_type": "code",
   "execution_count": null,
   "id": "a4dee495-a901-4b51-ad6b-195a60d770ea",
   "metadata": {},
   "outputs": [],
   "source": [
    "class A(metaclass=Schematic):\n",
    "    a: int"
   ]
  },
  {
   "cell_type": "code",
   "execution_count": null,
   "id": "12e5a6c9-6216-43b6-89fa-89858eac72ff",
   "metadata": {},
   "outputs": [],
   "source": [
    "A(1).epitaph.decode()"
   ]
  },
  {
   "cell_type": "code",
   "execution_count": null,
   "id": "486f8b34-5cd2-4aa0-aa53-2e391426a318",
   "metadata": {},
   "outputs": [],
   "source": [
    "from everest.algebraic.intt import Intt"
   ]
  },
  {
   "cell_type": "code",
   "execution_count": null,
   "id": "a4a445fb-58cc-4f99-b16d-1b10689dd10a",
   "metadata": {},
   "outputs": [],
   "source": [
    "%%timeit\n",
    "Intt[0:10].epitaph.decode()"
   ]
  }
 ],
 "metadata": {
  "kernelspec": {
   "display_name": "Python 3 (ipykernel)",
   "language": "python",
   "name": "python3"
  },
  "language_info": {
   "codemirror_mode": {
    "name": "ipython",
    "version": 3
   },
   "file_extension": ".py",
   "mimetype": "text/x-python",
   "name": "python",
   "nbconvert_exporter": "python",
   "pygments_lexer": "ipython3",
   "version": "3.9.5"
  }
 },
 "nbformat": 4,
 "nbformat_minor": 5
}
