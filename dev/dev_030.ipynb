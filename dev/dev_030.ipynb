{
 "cells": [
  {
   "cell_type": "code",
   "execution_count": null,
   "id": "3a2d4331-b5a5-44f6-b82d-bd24c1116c9d",
   "metadata": {},
   "outputs": [],
   "source": [
    "###############################################################################\n",
    "import aliases\n",
    "from everest.utilities import textutils\n",
    "# tuple(textutils.find_all('Schematic', path='../everest'))\n",
    "# textutils.replace_all('Schematic', 'Compound', path='../everest')"
   ]
  },
  {
   "cell_type": "code",
   "execution_count": null,
   "id": "74cbbd44-c710-47ba-aa7f-0c835ed8520b",
   "metadata": {},
   "outputs": [],
   "source": [
    "from everest.ptolemaic.armature import *"
   ]
  },
  {
   "cell_type": "code",
   "execution_count": null,
   "id": "ae4012c0-1421-4ba8-b1ac-dd7400f421fe",
   "metadata": {},
   "outputs": [],
   "source": [
    "class FieldKind:\n",
    "\n",
    "    def __init__(self, kind, /):\n",
    "        self.kind = kind\n",
    "\n",
    "    def __call__(self, /, *args, **kwargs):\n",
    "        return Field(kind=self.kind, *args, **kwargs)\n",
    "\n",
    "    def __getitem__(self, arg, /):\n",
    "        return FieldHint(kind=self.kind, hint=arg)\n",
    "\n",
    "\n",
    "class FieldHint:\n",
    "\n",
    "    def __init__(self, kind, hint):\n",
    "        self.kind, self.hint = kind, hint\n",
    "\n",
    "    def __call__(self, /, *args, **kwargs):\n",
    "        return Field(kind=self.kind, hint=self.hint, *args, **kwargs)"
   ]
  },
  {
   "cell_type": "code",
   "execution_count": null,
   "id": "7ece8b87-7d1c-4f2d-9e8f-4f360d053c16",
   "metadata": {},
   "outputs": [],
   "source": [
    "class MyClass(metaclass=Armature):\n",
    "    foo = Prop('foo', int, 'Foo!')\n",
    "    a: ('POS',) = 1"
   ]
  },
  {
   "cell_type": "code",
   "execution_count": null,
   "id": "6b6da11d-4684-4f55-baf2-ebb2626ba5f2",
   "metadata": {},
   "outputs": [],
   "source": [
    "myobj = MyClass(2)"
   ]
  }
 ],
 "metadata": {
  "kernelspec": {
   "display_name": "Python 3 (ipykernel)",
   "language": "python",
   "name": "python3"
  },
  "language_info": {
   "codemirror_mode": {
    "name": "ipython",
    "version": 3
   },
   "file_extension": ".py",
   "mimetype": "text/x-python",
   "name": "python",
   "nbconvert_exporter": "python",
   "pygments_lexer": "ipython3",
   "version": "3.9.5"
  }
 },
 "nbformat": 4,
 "nbformat_minor": 5
}
