{
 "cells": [
  {
   "cell_type": "code",
   "execution_count": null,
   "id": "3a2d4331-b5a5-44f6-b82d-bd24c1116c9d",
   "metadata": {},
   "outputs": [],
   "source": [
    "###############################################################################\n",
    "import aliases\n",
    "from everest.utilities import textutils\n",
    "# tuple(textutils.find_all('Schematic', path='../everest'))\n",
    "# textutils.replace_all('Schematic', 'Compound', path='../everest')"
   ]
  },
  {
   "cell_type": "code",
   "execution_count": null,
   "id": "f7a9afa7-bb7e-4396-b97a-dc00a32fca4b",
   "metadata": {},
   "outputs": [],
   "source": [
    "from ipycytoscape import CytoscapeWidget\n",
    "import networkx as nx\n",
    "G = nx.complete_graph(5)\n",
    "cyto = CytoscapeWidget()\n",
    "cyto.graph.add_graph_from_networkx(G)\n",
    "display(cyto)"
   ]
  },
  {
   "cell_type": "code",
   "execution_count": null,
   "id": "b7176188-894d-4b79-b4f7-42d08e1ca8b8",
   "metadata": {},
   "outputs": [],
   "source": [
    "cyto.graph.add_graph_from_"
   ]
  },
  {
   "cell_type": "code",
   "execution_count": null,
   "id": "e1e6ad85-bdee-4505-8fcd-6b7209b4966a",
   "metadata": {},
   "outputs": [],
   "source": [
    "widget."
   ]
  },
  {
   "cell_type": "code",
   "execution_count": null,
   "id": "8d1ac3df-8532-4759-9add-4130566fb62a",
   "metadata": {},
   "outputs": [],
   "source": [
    "nk.vizbridges .drawGraph(graph)"
   ]
  },
  {
   "cell_type": "code",
   "execution_count": null,
   "id": "22af5abe-b8be-47df-b3cc-a74b8a389f4f",
   "metadata": {},
   "outputs": [],
   "source": [
    "import abc as _abc\n",
    "from collections import namedtuple as _namedtuple\n",
    "import weakref as _weakref\n",
    "import types as _types\n",
    "import inspect as _inspect\n",
    "\n",
    "from everest import ur as _ur\n",
    "from everest.utilities import pretty as _pretty\n",
    "from everest.bureau import FOCUS as _FOCUS\n",
    "\n",
    "\n",
    "@_ur.Dat.register\n",
    "class Sprite(type):\n",
    "\n",
    "    @classmethod\n",
    "    def _yield_bases(meta, bases, /):\n",
    "        for base in bases:\n",
    "            if issubclass(base, _SpriteBase_):\n",
    "                yield base.__bases__[0]\n",
    "            else:\n",
    "                yield base\n",
    "\n",
    "    @classmethod\n",
    "    def _merge_params(meta, bases, ns, /):\n",
    "        seen = set()\n",
    "        for key, val in ns.get('__params__', {}).items():\n",
    "            if key not in seen:\n",
    "                seen.add(key)\n",
    "                yield key, val\n",
    "        for base in bases:\n",
    "            if isinstance(base, Sprite):\n",
    "                for key, val in base.__params__.items():\n",
    "                    if key not in seen:\n",
    "                        seen.add(key)\n",
    "                        yield key, val\n",
    "\n",
    "    def __new__(meta, name, bases, ns, /):\n",
    "        bases = tuple(meta._yield_bases(bases))\n",
    "        params = ns['__params__'] = _ur.DatDict(meta._merge_params(bases, ns))\n",
    "        ns['__slots__'] = ()\n",
    "        return super().__new__(\n",
    "            meta, name,\n",
    "            (super().__new__(meta, f\"_{name}\", bases, ns), _SpriteBase_),\n",
    "            dict(__slots__=tuple(params)),\n",
    "            )\n",
    "\n",
    "    def __init__(cls, /, *args, **kwargs):\n",
    "        super().__init__(*args, **kwargs)\n",
    "        if issubclass(cls, _SpriteBase_):\n",
    "            premade = _weakref.WeakValueDictionary()\n",
    "            type.__setattr__(cls, '_premade', premade)\n",
    "            type.__setattr__(cls, 'premade', _types.MappingProxyType(premade))\n",
    "            pms = cls.__params__\n",
    "            Params = _namedtuple(\n",
    "                f\"{cls.__qualname__}_Params\", pms, defaults=pms.values()\n",
    "                )\n",
    "            type.__setattr__(cls, 'Params', Params)\n",
    "            type.__setattr__(cls, '__signature__', _inspect.signature(Params))\n",
    "            type.__setattr__(cls, 'arity', len(pms))\n",
    "\n",
    "    def __setattr__(self, name, val, /):\n",
    "        raise TypeError(\"Cannot set attribute on Sprite.\")\n",
    "\n",
    "    def __delattr__(self, name, /):\n",
    "        raise TypeError(\"Cannot delete attribute on Sprite.\")\n",
    "\n",
    "    def __call__(cls, /, *args, **kwargs):\n",
    "        return cls[cls.Params(*args, **kwargs)]\n",
    "\n",
    "    @property\n",
    "    def taphonomy(cls, /):\n",
    "        return _FOCUS.bureau.taphonomy\n",
    "\n",
    "\n",
    "class _SpriteBase_:\n",
    "\n",
    "    __slots__ = ('__weakref__', 'params', '_epitaph')\n",
    "\n",
    "    def __class_getitem__(cls, params, /):\n",
    "        paramstyp = cls.Params\n",
    "        if not isinstance(params, paramstyp):\n",
    "            params = paramstyp(params)\n",
    "        premade = cls._premade\n",
    "        try:\n",
    "            return premade[params]\n",
    "        except KeyError:\n",
    "            obj = premade[params] = cls.__new__(cls)\n",
    "            object.__setattr__(obj, 'params', params)\n",
    "            return obj\n",
    "\n",
    "    def __setattr__(self, name, val, /):\n",
    "        raise TypeError(\"Cannot set attribute on Sprite.\")\n",
    "\n",
    "    def __delattr__(self, name, /):\n",
    "        raise TypeError(\"Cannot delete attribute on Sprite.\")\n",
    "\n",
    "    def __repr__(self, /):\n",
    "        return f\"<{type(self).__qualname__}, {id(self)}>\"\n",
    "\n",
    "    def __str__(self, /):\n",
    "        return f\"{type(self).__qualname__}({repr(self.params)})\"\n",
    "\n",
    "    def _repr_pretty_(self, p, cycle, root=None):\n",
    "        if root is None:\n",
    "            root = type(self).__qualname__\n",
    "        _pretty.pretty_tuple(self.params, p, cycle, root=root)\n",
    "\n",
    "    def __hash__(self, /):\n",
    "        return hash((self.__bases__[0], self.params))\n",
    "\n",
    "    @property\n",
    "    def epitaph(self, /):\n",
    "        try:\n",
    "            return self._epitaph\n",
    "        except AttributeError:\n",
    "            cls = type(self)\n",
    "            params = self.params\n",
    "            epi = cls.taphonomy.getitem_epitaph(\n",
    "                cls,\n",
    "                params[0] if cls.arity == 1 else tuple(params)\n",
    "                )\n",
    "            object.__setattr__(self, '_epitaph', epi)\n",
    "\n",
    "    def __reduce__(self, /):\n",
    "        return self.epitaph, ()\n",
    "\n",
    "    @property\n",
    "    def hexcode(self, /):\n",
    "        return self.epitaph.hexcode\n",
    "\n",
    "    @property\n",
    "    def hashint(self, /):\n",
    "        return self.epitaph.hashint\n",
    "\n",
    "    @property\n",
    "    def hashID(self, /):\n",
    "        return self.epitaph.hashID\n",
    "\n",
    "    def __eq__(self, other, /):\n",
    "        return hash(self) == hash(other)\n",
    "\n",
    "    def __lt__(self, other, /):\n",
    "        return self.hashint < other\n",
    "\n",
    "    def __gt__(self, other, /):\n",
    "        return self.hashint < other\n",
    "\n",
    "\n",
    "class A(metaclass=Sprite):\n",
    "    __params__ = {'a': 1}\n",
    "    foo = 'bah'\n",
    "\n",
    "\n",
    "class B(metaclass=Sprite):\n",
    "    __params__ = {'a': 10, 'b': 20}\n",
    "    foo = 'qux'\n",
    "\n",
    "\n",
    "class C(A, B):\n",
    "    __params__ = {'b': 200, 'c': 300}"
   ]
  },
  {
   "cell_type": "code",
   "execution_count": null,
   "id": "a6533f38-b838-4c1c-8eb8-ad629da98601",
   "metadata": {},
   "outputs": [],
   "source": [
    "%%timeit\n",
    "C()"
   ]
  },
  {
   "cell_type": "code",
   "execution_count": null,
   "id": "5c7c3377-39b0-4328-a5bb-70f77742b1ea",
   "metadata": {},
   "outputs": [],
   "source": [
    "myobj = C()"
   ]
  },
  {
   "cell_type": "code",
   "execution_count": null,
   "id": "768cfa7a-f035-4666-96aa-b10905d1da8e",
   "metadata": {},
   "outputs": [],
   "source": [
    "myobj.epitaph.decode()"
   ]
  },
  {
   "cell_type": "code",
   "execution_count": null,
   "id": "b3b32e49-ba6f-406e-b94c-41ac74727c93",
   "metadata": {},
   "outputs": [],
   "source": [
    "for bs in C.__mro__:\n",
    "    print(bs.__slots__)"
   ]
  },
  {
   "cell_type": "code",
   "execution_count": null,
   "id": "38a39c2f-69b1-4796-9659-4433776c26f0",
   "metadata": {},
   "outputs": [],
   "source": [
    "B.__mro__"
   ]
  },
  {
   "cell_type": "code",
   "execution_count": null,
   "id": "131a0f5b-1e0e-4fb1-9c89-03019c2ad2be",
   "metadata": {},
   "outputs": [],
   "source": [
    "C().params"
   ]
  },
  {
   "cell_type": "code",
   "execution_count": null,
   "id": "8cc63691-1b9a-4853-a023-30faae8df0c7",
   "metadata": {},
   "outputs": [],
   "source": [
    "C.premade"
   ]
  },
  {
   "cell_type": "code",
   "execution_count": null,
   "id": "59d90261-6fd9-472a-bf03-99350511c216",
   "metadata": {},
   "outputs": [],
   "source": [
    "_namedtuple"
   ]
  },
  {
   "cell_type": "code",
   "execution_count": null,
   "id": "cad2a2c2-ce8e-419a-8067-adbcd8363c78",
   "metadata": {},
   "outputs": [],
   "source": [
    "MyClass.__mro__"
   ]
  },
  {
   "cell_type": "code",
   "execution_count": null,
   "id": "30f6cf8f-1d62-4923-9633-2b7f985ebcbd",
   "metadata": {},
   "outputs": [],
   "source": [
    "mylist = [1, 1]"
   ]
  },
  {
   "cell_type": "code",
   "execution_count": null,
   "id": "6689098b-1729-47e2-a563-f4563ecb4c24",
   "metadata": {},
   "outputs": [],
   "source": [
    "mylist.remove(1)"
   ]
  },
  {
   "cell_type": "code",
   "execution_count": null,
   "id": "d733bb11-36c1-481d-9b9c-a786bbadc386",
   "metadata": {},
   "outputs": [],
   "source": [
    "mylist"
   ]
  },
  {
   "cell_type": "code",
   "execution_count": null,
   "id": "fab8bbcc-970a-4937-b1e8-45b3365ed299",
   "metadata": {},
   "outputs": [],
   "source": []
  },
  {
   "cell_type": "code",
   "execution_count": null,
   "id": "a851c78f-3c39-4973-bce0-583a1c490d03",
   "metadata": {},
   "outputs": [],
   "source": []
  },
  {
   "cell_type": "code",
   "execution_count": null,
   "id": "02129a2a-c41d-4b60-a9e6-99e478639dcb",
   "metadata": {},
   "outputs": [],
   "source": [
    "from everest.ptolemaic.armature import *"
   ]
  },
  {
   "cell_type": "code",
   "execution_count": null,
   "id": "3dbaac20-5e9c-496d-a988-1bcb019a9a31",
   "metadata": {},
   "outputs": [],
   "source": [
    "Cacher.__params__"
   ]
  },
  {
   "cell_type": "code",
   "execution_count": null,
   "id": "55ad9774-0b22-44c4-af59-d6f4bcb78e0e",
   "metadata": {},
   "outputs": [],
   "source": [
    "Ligated."
   ]
  },
  {
   "cell_type": "code",
   "execution_count": null,
   "id": "beae5ce3-639f-4ad7-bd91-4c1ec8bcedf5",
   "metadata": {},
   "outputs": [],
   "source": [
    "class MyClass(Cacher, Ligated):\n",
    "    @classmethod\n",
    "    def __class_init__(cls, /):\n",
    "        print(cls.__params__)\n",
    "        print(cls.__defaults__)\n",
    "        super().__class_init__()"
   ]
  },
  {
   "cell_type": "code",
   "execution_count": null,
   "id": "4b649f2c-a8cc-49c7-be35-f9e9cb059815",
   "metadata": {},
   "outputs": [],
   "source": [
    "Armature.Field"
   ]
  },
  {
   "cell_type": "code",
   "execution_count": null,
   "id": "d0064311-41a5-4fb1-88c2-0a20956debcc",
   "metadata": {},
   "outputs": [],
   "source": [
    "class A(metaclass=Armature):\n",
    "\n",
    "    foo: int = 2\n",
    "    bah: str = 'hello'\n",
    "    floop: bool = True\n",
    "\n",
    "    @_.organ(baz=_.get('bah'), boo=True)\n",
    "    class B(metaclass=Armature):\n",
    "        foo: int\n",
    "        baz: int\n",
    "        boo: bool\n",
    "        qux: str = 'world'\n",
    "\n",
    "    @_.organ(bananas=_.get('B'))\n",
    "    class C(metaclass=Armature):\n",
    "        bananas: object\n",
    "        @_.comp\n",
    "        def mycomp(self, /):\n",
    "            return f\"!!!{self.bananas}!!!\"\n",
    "\n",
    "    @_.cached\n",
    "    def apples(self, /):\n",
    "        return self.C.mycomp"
   ]
  },
  {
   "cell_type": "code",
   "execution_count": null,
   "id": "952741bd-05ec-4ba8-8ec3-5435b8f7774e",
   "metadata": {},
   "outputs": [],
   "source": [
    "A().C.bananas"
   ]
  },
  {
   "cell_type": "code",
   "execution_count": null,
   "id": "dd0dcc23-7699-418d-be7f-c1d7ecd89188",
   "metadata": {},
   "outputs": [],
   "source": [
    "from everest.ptolemaic import sett, mapp"
   ]
  },
  {
   "cell_type": "code",
   "execution_count": null,
   "id": "e271216f-332b-4ed3-823c-813864af56d1",
   "metadata": {},
   "outputs": [],
   "source": [
    "@mapp\n",
    "def mapp1(arg: list[int, str], /) -> str:\n",
    "    a, b = arg\n",
    "    return a * b\n",
    "\n",
    "@mapp\n",
    "def mapp2(arg: int, /) -> str:\n",
    "    return arg**2"
   ]
  },
  {
   "cell_type": "code",
   "execution_count": null,
   "id": "b3532a8c-d230-420a-b389-d34cc3e45e04",
   "metadata": {},
   "outputs": [],
   "source": [
    "mapp((mapp1, mapp2))[[2, 'foo']]"
   ]
  },
  {
   "cell_type": "code",
   "execution_count": null,
   "id": "87606a6c-c003-4b3b-9ad3-ffbb3800fa3e",
   "metadata": {},
   "outputs": [],
   "source": [
    "call"
   ]
  },
  {
   "cell_type": "code",
   "execution_count": null,
   "id": "82a0902f-da3e-4ec0-b3f9-cf6fc8d3ff02",
   "metadata": {},
   "outputs": [],
   "source": [
    "import weakref"
   ]
  },
  {
   "cell_type": "code",
   "execution_count": null,
   "id": "c58c4a8e-44eb-42a9-b102-de618c610cfd",
   "metadata": {},
   "outputs": [],
   "source": [
    "weakref.WeakSet"
   ]
  },
  {
   "cell_type": "code",
   "execution_count": null,
   "id": "977bec6a-4170-4ebd-bd32-75fb0753b2f2",
   "metadata": {},
   "outputs": [],
   "source": []
  }
 ],
 "metadata": {
  "kernelspec": {
   "display_name": "Python 3 (ipykernel)",
   "language": "python",
   "name": "python3"
  },
  "language_info": {
   "codemirror_mode": {
    "name": "ipython",
    "version": 3
   },
   "file_extension": ".py",
   "mimetype": "text/x-python",
   "name": "python",
   "nbconvert_exporter": "python",
   "pygments_lexer": "ipython3",
   "version": "3.9.5"
  }
 },
 "nbformat": 4,
 "nbformat_minor": 5
}
