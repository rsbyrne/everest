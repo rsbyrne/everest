{
 "cells": [
  {
   "cell_type": "code",
   "execution_count": null,
   "id": "3a2d4331-b5a5-44f6-b82d-bd24c1116c9d",
   "metadata": {},
   "outputs": [],
   "source": [
    "###############################################################################\n",
    "import aliases\n",
    "from everest.utilities import textutils\n",
    "# tuple(textutils.find_all('Schematic', path='../everest'))\n",
    "# textutils.replace_all('Schematic', 'Compound', path='../everest')"
   ]
  },
  {
   "cell_type": "code",
   "execution_count": null,
   "id": "d9652316-b565-41ee-91d3-0309d6ac1644",
   "metadata": {},
   "outputs": [],
   "source": [
    "from everest.ptolemaic.armature import *"
   ]
  },
  {
   "cell_type": "code",
   "execution_count": null,
   "id": "df4f8e36-696b-41af-8ffd-20bcf5475ef3",
   "metadata": {},
   "outputs": [],
   "source": [
    "class MyClass(metaclass=Armature):\n",
    "    a: (int, 'foo')\n",
    "    b: (float, 'bah')"
   ]
  },
  {
   "cell_type": "code",
   "execution_count": null,
   "id": "2c3d9f28-2d5a-449d-b431-ca9e16b42945",
   "metadata": {},
   "outputs": [],
   "source": [
    "MyClass(1, 2)"
   ]
  }
 ],
 "metadata": {
  "kernelspec": {
   "display_name": "Python 3 (ipykernel)",
   "language": "python",
   "name": "python3"
  },
  "language_info": {
   "codemirror_mode": {
    "name": "ipython",
    "version": 3
   },
   "file_extension": ".py",
   "mimetype": "text/x-python",
   "name": "python",
   "nbconvert_exporter": "python",
   "pygments_lexer": "ipython3",
   "version": "3.9.5"
  }
 },
 "nbformat": 4,
 "nbformat_minor": 5
}
