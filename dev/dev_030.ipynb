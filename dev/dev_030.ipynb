{
 "cells": [
  {
   "cell_type": "code",
   "execution_count": null,
   "id": "b26e91a5-ad9e-4715-b202-c1e74e9ee0db",
   "metadata": {},
   "outputs": [],
   "source": [
    "###############################################################################\n",
    "import aliases\n",
    "from everest.utilities import textutils\n",
    "# tuple(textutils.find_all('', path='../everest/ptolemaic'))\n",
    "# textutils.replace_all('Schematic', 'Compound', path='../everest')"
   ]
  },
  {
   "cell_type": "code",
   "execution_count": null,
   "id": "aef8ef21-0d6d-486f-b043-52a5212eed06",
   "metadata": {},
   "outputs": [],
   "source": [
    "from everest.ptolemaic.scroll import *"
   ]
  },
  {
   "cell_type": "code",
   "execution_count": null,
   "id": "03d66095-65ba-4266-ac12-c0bb953fd02c",
   "metadata": {},
   "outputs": [],
   "source": [
    "screed = Screed(\n",
    "    foo=Screed('a: int\\nval = a ** 2'),\n",
    "    bah=Screed('b: int\\nc: int = 2\\nval = b / c'),\n",
    "    )\n",
    "screed"
   ]
  },
  {
   "cell_type": "code",
   "execution_count": null,
   "id": "09f35d86-2730-4e87-bd1d-92314f85d70c",
   "metadata": {},
   "outputs": [],
   "source": [
    "scroll = Scroll(screed, a=2, b=3)\n",
    "scroll"
   ]
  },
  {
   "cell_type": "code",
   "execution_count": null,
   "id": "3cb7d0b7-515f-409b-92c4-4b578845dbad",
   "metadata": {},
   "outputs": [],
   "source": [
    "from everest.ptolemaic.system import System"
   ]
  },
  {
   "cell_type": "code",
   "execution_count": null,
   "id": "df02d632-61e7-448b-90df-86a468ed3e6f",
   "metadata": {},
   "outputs": [],
   "source": [
    "class A(metaclass=System):\n",
    "    a: int = 2\n",
    "    b: float = 3\n",
    "    c = a * b\n",
    "    @organ(foo=a, bah=5)\n",
    "    class B(metaclass=System):\n",
    "        foo: int\n",
    "        bah: float\n",
    "    @prop(qux=b, qin=6)\n",
    "    def d(qux, qin, /) -> tuple:\n",
    "        '''Returns a tuple of its arguments.'''\n",
    "        return (qux, qin)\n",
    "    @prop\n",
    "    def e(d, /):\n",
    "        return (d, d)"
   ]
  },
  {
   "cell_type": "code",
   "execution_count": null,
   "id": "2bb9cd34-3f24-4bed-8683-53cf2f745829",
   "metadata": {},
   "outputs": [],
   "source": [
    "myobj = A()\n",
    "display(myobj)\n",
    "display(myobj.e)"
   ]
  },
  {
   "cell_type": "code",
   "execution_count": null,
   "id": "bff94bd1-de3e-46f9-84df-aeabd93a2cb9",
   "metadata": {},
   "outputs": [],
   "source": []
  }
 ],
 "metadata": {
  "kernelspec": {
   "display_name": "Python 3 (ipykernel)",
   "language": "python",
   "name": "python3"
  },
  "language_info": {
   "codemirror_mode": {
    "name": "ipython",
    "version": 3
   },
   "file_extension": ".py",
   "mimetype": "text/x-python",
   "name": "python",
   "nbconvert_exporter": "python",
   "pygments_lexer": "ipython3",
   "version": "3.9.5"
  }
 },
 "nbformat": 4,
 "nbformat_minor": 5
}
