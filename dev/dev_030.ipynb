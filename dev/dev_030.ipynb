{
 "cells": [
  {
   "cell_type": "code",
   "execution_count": null,
   "id": "3a2d4331-b5a5-44f6-b82d-bd24c1116c9d",
   "metadata": {},
   "outputs": [],
   "source": [
    "###############################################################################\n",
    "import aliases\n",
    "from everest.utilities import textutils\n",
    "# tuple(textutils.find_all('Schematic', path='../everest'))\n",
    "# textutils.replace_all('Schematic', 'Compound', path='../everest')"
   ]
  },
  {
   "cell_type": "code",
   "execution_count": null,
   "id": "a9e3ae29-a8ba-4d04-9dc8-c9f0b641342e",
   "metadata": {},
   "outputs": [],
   "source": [
    "from everest.ptolemaic.sprite import Sprite as _Sprite"
   ]
  },
  {
   "cell_type": "code",
   "execution_count": null,
   "id": "d20991df-debe-4889-96d0-5cf3dfa90e5b",
   "metadata": {},
   "outputs": [],
   "source": [
    "class MySprite(metaclass=_Sprite):\n",
    "    __params__ = ('foo', 'bah')"
   ]
  },
  {
   "cell_type": "code",
   "execution_count": null,
   "id": "71aa5a93-a531-4ff1-b2eb-6f5813300217",
   "metadata": {},
   "outputs": [],
   "source": [
    "import numpy as np"
   ]
  },
  {
   "cell_type": "code",
   "execution_count": null,
   "id": "249d817d-e5ed-4181-9bd4-ebf0763dbf90",
   "metadata": {},
   "outputs": [],
   "source": [
    "MySprite(1, np.arange(10))"
   ]
  }
 ],
 "metadata": {
  "kernelspec": {
   "display_name": "Python 3 (ipykernel)",
   "language": "python",
   "name": "python3"
  },
  "language_info": {
   "codemirror_mode": {
    "name": "ipython",
    "version": 3
   },
   "file_extension": ".py",
   "mimetype": "text/x-python",
   "name": "python",
   "nbconvert_exporter": "python",
   "pygments_lexer": "ipython3",
   "version": "3.9.5"
  }
 },
 "nbformat": 4,
 "nbformat_minor": 5
}
