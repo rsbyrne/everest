{
 "cells": [
  {
   "cell_type": "code",
   "execution_count": null,
   "id": "3a2d4331-b5a5-44f6-b82d-bd24c1116c9d",
   "metadata": {},
   "outputs": [],
   "source": [
    "###############################################################################\n",
    "import aliases\n",
    "from everest.utilities import textutils\n",
    "# tuple(textutils.find_all('Schematic', path='../everest'))\n",
    "# textutils.replace_all('Schematic', 'Compound', path='../everest')"
   ]
  },
  {
   "cell_type": "code",
   "execution_count": null,
   "id": "98ed2b50-a4ee-4500-9a49-ae40dd4b8df7",
   "metadata": {},
   "outputs": [],
   "source": [
    "from everest.algebraic.intt import Intt"
   ]
  },
  {
   "cell_type": "code",
   "execution_count": null,
   "id": "21e9b694-f990-459f-a244-3d84074ba979",
   "metadata": {},
   "outputs": [],
   "source": [
    "(Intt[0:10] ** 3)[0, 1, -2]"
   ]
  }
 ],
 "metadata": {
  "kernelspec": {
   "display_name": "Python 3 (ipykernel)",
   "language": "python",
   "name": "python3"
  },
  "language_info": {
   "codemirror_mode": {
    "name": "ipython",
    "version": 3
   },
   "file_extension": ".py",
   "mimetype": "text/x-python",
   "name": "python",
   "nbconvert_exporter": "python",
   "pygments_lexer": "ipython3",
   "version": "3.9.5"
  }
 },
 "nbformat": 4,
 "nbformat_minor": 5
}
