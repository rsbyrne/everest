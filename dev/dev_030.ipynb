{
 "cells": [
  {
   "cell_type": "code",
   "execution_count": null,
   "id": "3a2d4331-b5a5-44f6-b82d-bd24c1116c9d",
   "metadata": {},
   "outputs": [],
   "source": [
    "###############################################################################\n",
    "import aliases\n",
    "from everest.utilities import textutils\n",
    "# tuple(textutils.find_all('Schematic', path='../everest'))\n",
    "# textutils.replace_all('Schematic', 'Compound', path='../everest')"
   ]
  },
  {
   "cell_type": "code",
   "execution_count": null,
   "id": "c465e4e4-b6a8-4db3-b214-ebf28f1d8b2e",
   "metadata": {},
   "outputs": [],
   "source": [
    "from everest.ptolemaic import sett\n",
    "from everest.ptolemaic import mapp"
   ]
  },
  {
   "cell_type": "code",
   "execution_count": null,
   "id": "e271216f-332b-4ed3-823c-813864af56d1",
   "metadata": {},
   "outputs": [],
   "source": [
    "@mapp\n",
    "def mapp1(arg: list[int, str], /) -> str:\n",
    "    a, b = arg\n",
    "    return a * b\n",
    "\n",
    "@mapp\n",
    "def mapp2(arg: int, /) -> str:\n",
    "    return arg**2"
   ]
  },
  {
   "cell_type": "code",
   "execution_count": null,
   "id": "5f46f5df-c3b8-4dc2-8c47-82f9af41109d",
   "metadata": {},
   "outputs": [],
   "source": [
    "@mapp\n",
    "def mapp1(a: int, b: str, /) -> str:\n",
    "    return a * b\n",
    "\n",
    "@mapp\n",
    "def mapp2(a: str, /):\n",
    "    return f\"Foo({a})\"\n",
    "\n",
    "@mapp\n",
    "def mapp3(a: str, /) -> (int, str):\n",
    "    return a.count('o'), a.upper()"
   ]
  },
  {
   "cell_type": "code",
   "execution_count": null,
   "id": "038a3274-fbd4-4beb-9c05-fa678816df89",
   "metadata": {},
   "outputs": [],
   "source": [
    "(mapp1 @ mapp3 @ mapp2 @ mapp1)[3, 'a']"
   ]
  },
  {
   "cell_type": "code",
   "execution_count": null,
   "id": "7f906223-8f2c-4612-86da-f5fc4c3612e1",
   "metadata": {},
   "outputs": [],
   "source": [
    "@mapp\n",
    "def mapp1(a: int, /) -> str:\n",
    "    return f\"Foo({a})\"\n",
    "\n",
    "@mapp\n",
    "def mapp2(a: str, /) -> str:\n",
    "    return a*2\n",
    "\n",
    "@mapp\n",
    "def mapp3(a: int, b: str, /) -> str:\n",
    "    return a*b\n",
    "\n",
    "@mapp\n",
    "def mapp4(a: str, b: int, /) -> str:\n",
    "    return f\"{a}={b}\"\n",
    "\n",
    "@mapp\n",
    "def mapp5(a: str, b: str, /) -> str:\n",
    "    return ','.join((a, b))\n",
    "# mapp5 = mapp.ModifiedMapp(mapp5, list)"
   ]
  },
  {
   "cell_type": "code",
   "execution_count": null,
   "id": "a940de82-745a-439d-8de6-155e0b295bf0",
   "metadata": {},
   "outputs": [],
   "source": [
    "mymapp = mapp((mapp1, mapp2, (mapp3, mapp4)))"
   ]
  },
  {
   "cell_type": "code",
   "execution_count": null,
   "id": "09c1661c-27f6-4e6f-a267-d678a1a73515",
   "metadata": {},
   "outputs": [],
   "source": [
    "mymapp[1]"
   ]
  },
  {
   "cell_type": "code",
   "execution_count": null,
   "id": "f7b1344b-d00b-4139-ae95-a922239b8fa6",
   "metadata": {},
   "outputs": [],
   "source": [
    "mymapp[1, 'foo']"
   ]
  },
  {
   "cell_type": "code",
   "execution_count": null,
   "id": "f9f02628-79ac-44b6-bac6-ecfbe04c230c",
   "metadata": {},
   "outputs": [],
   "source": [
    "mapp.BraceSwitchMapp((mapp3, mapp4))[2, 'foo']"
   ]
  },
  {
   "cell_type": "code",
   "execution_count": null,
   "id": "c3c5357c-67b5-4246-86d6-71de0e5674e1",
   "metadata": {},
   "outputs": [],
   "source": [
    "mapp6 = mapp.BraceSwitchMapp((mapp3, mapp4, mapp5))"
   ]
  },
  {
   "cell_type": "code",
   "execution_count": null,
   "id": "f0b89444-2245-4a52-87d9-70f1d69a954e",
   "metadata": {},
   "outputs": [],
   "source": [
    "mapp7 = mapp6 @ mapp(tuple)"
   ]
  },
  {
   "cell_type": "code",
   "execution_count": null,
   "id": "a7693c3e-e3d4-4a95-b1a5-bd7af330a665",
   "metadata": {},
   "outputs": [],
   "source": [
    "mapp7['ab']"
   ]
  }
 ],
 "metadata": {
  "kernelspec": {
   "display_name": "Python 3 (ipykernel)",
   "language": "python",
   "name": "python3"
  },
  "language_info": {
   "codemirror_mode": {
    "name": "ipython",
    "version": 3
   },
   "file_extension": ".py",
   "mimetype": "text/x-python",
   "name": "python",
   "nbconvert_exporter": "python",
   "pygments_lexer": "ipython3",
   "version": "3.9.5"
  }
 },
 "nbformat": 4,
 "nbformat_minor": 5
}
