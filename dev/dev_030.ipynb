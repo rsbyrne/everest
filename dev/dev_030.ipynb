{
 "cells": [
  {
   "cell_type": "code",
   "execution_count": null,
   "id": "b26e91a5-ad9e-4715-b202-c1e74e9ee0db",
   "metadata": {},
   "outputs": [],
   "source": [
    "###############################################################################\n",
    "import aliases\n",
    "from everest.utilities import textutils\n",
    "# tuple(textutils.find_all('', path='../everest/ptolemaic'))\n",
    "# textutils.replace_all('Schematic', 'Compound', path='../everest')"
   ]
  },
  {
   "cell_type": "code",
   "execution_count": null,
   "id": "895ac358-22c5-4d85-af85-6e97964006a2",
   "metadata": {},
   "outputs": [],
   "source": [
    "from everest.ptolemaic.sprite import Sprite\n",
    "\n",
    "class A(metaclass=Sprite):\n",
    "    __slots__ = ('foo', 'bah')\n",
    "    a: int\n",
    "    b: float\n",
    "    c: tuple\n",
    "    def __init__(self, /):\n",
    "        self.foo = self.a**2\n",
    "        self.bah = 1 / self.b\n",
    "        self.qux = tuple(((val, val) for val in self.c))\n",
    "\n",
    "from everest.bureau import get_globalbureau\n",
    "taph = get_globalbureau().taphonomy\n",
    "taph(A(1, 2, ())).decode()"
   ]
  },
  {
   "cell_type": "code",
   "execution_count": null,
   "id": "89c98fdf-a246-4e2b-94c5-14c5334a8d63",
   "metadata": {},
   "outputs": [],
   "source": [
    "from everest.ptolemaic.essence import Essence\n",
    "\n",
    "class A(metaclass=Essence):\n",
    "    class B(metaclass=Essence):\n",
    "        ..."
   ]
  },
  {
   "cell_type": "code",
   "execution_count": null,
   "id": "bd8bc674-c196-45fc-96e0-cbeab9b60e7c",
   "metadata": {},
   "outputs": [],
   "source": [
    "from everest.ptolemaic.schema import Schema"
   ]
  },
  {
   "cell_type": "code",
   "execution_count": null,
   "id": "70493347-181d-4b66-8278-bbe3dfb4ee88",
   "metadata": {},
   "outputs": [],
   "source": [
    "class A(metaclass=Schema):\n",
    "\n",
    "    a: int = 1\n",
    "    b: int = 2\n",
    "    c: int = 3\n",
    "\n",
    "    class B(metaclass=Schema):\n",
    "        ..."
   ]
  },
  {
   "cell_type": "code",
   "execution_count": null,
   "id": "2bccb413-2c85-43e4-bce1-353380b48299",
   "metadata": {},
   "outputs": [],
   "source": [
    "class A(metaclass=Schema):\n",
    "\n",
    "    a: int = 1\n",
    "    b: int = 2\n",
    "    c: int = 3\n",
    "    d = a + b ** c\n",
    "    e = 1 / d\n",
    "\n",
    "myobj = A()\n",
    "display(A().e)"
   ]
  },
  {
   "cell_type": "code",
   "execution_count": null,
   "id": "3e730951-2856-4ca8-9dc6-f7ac0601b4e1",
   "metadata": {},
   "outputs": [],
   "source": [
    "class A(metaclass=Schema):\n",
    "\n",
    "    a: int = 1\n",
    "\n",
    "    c = a * 2\n",
    "\n",
    "    @organ(b=2)\n",
    "    class B(metaclass=Schema):\n",
    "        a: int\n",
    "        b: int\n",
    "        c: int\n",
    "\n",
    "myobj = A()\n",
    "myobj.c"
   ]
  },
  {
   "cell_type": "code",
   "execution_count": null,
   "id": "54da749f-aae7-4fe7-b255-53bc6e7880a2",
   "metadata": {},
   "outputs": [],
   "source": [
    "from everest.ptolemaic import sett, mapp"
   ]
  },
  {
   "cell_type": "code",
   "execution_count": null,
   "id": "e271216f-332b-4ed3-823c-813864af56d1",
   "metadata": {},
   "outputs": [],
   "source": [
    "@mapp\n",
    "def mapp1(arg: list[int, str], /) -> str:\n",
    "    a, b = arg\n",
    "    return a * b\n",
    "\n",
    "@mapp\n",
    "def mapp2(arg: int, /) -> str:\n",
    "    return arg**2"
   ]
  },
  {
   "cell_type": "code",
   "execution_count": null,
   "id": "b3532a8c-d230-420a-b389-d34cc3e45e04",
   "metadata": {},
   "outputs": [],
   "source": [
    "mapp((mapp1, mapp2))[[2, 'foo']]"
   ]
  }
 ],
 "metadata": {
  "kernelspec": {
   "display_name": "Python 3 (ipykernel)",
   "language": "python",
   "name": "python3"
  },
  "language_info": {
   "codemirror_mode": {
    "name": "ipython",
    "version": 3
   },
   "file_extension": ".py",
   "mimetype": "text/x-python",
   "name": "python",
   "nbconvert_exporter": "python",
   "pygments_lexer": "ipython3",
   "version": "3.9.5"
  }
 },
 "nbformat": 4,
 "nbformat_minor": 5
}
