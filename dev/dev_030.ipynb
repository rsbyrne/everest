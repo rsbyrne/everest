{
 "cells": [
  {
   "cell_type": "code",
   "execution_count": null,
   "id": "3a2d4331-b5a5-44f6-b82d-bd24c1116c9d",
   "metadata": {},
   "outputs": [],
   "source": [
    "###############################################################################\n",
    "import aliases\n",
    "from everest.utilities import textutils\n",
    "# tuple(textutils.find_all('Schematic', path='../everest'))\n",
    "# textutils.replace_all('Schematic', 'Compound', path='../everest')"
   ]
  },
  {
   "cell_type": "code",
   "execution_count": null,
   "id": "bae1f293-1bf9-4cca-87bb-7236ce9dbda1",
   "metadata": {},
   "outputs": [],
   "source": [
    "from everest.ptolemaic.sprite import Sprite"
   ]
  },
  {
   "cell_type": "code",
   "execution_count": null,
   "id": "3f39347e-5cb0-4a6f-aca8-07d4247ff01c",
   "metadata": {},
   "outputs": [],
   "source": [
    "class MySprite(metaclass=Sprite):\n",
    "    ..."
   ]
  },
  {
   "cell_type": "code",
   "execution_count": null,
   "id": "7ffe97ad-b460-4ac2-aba9-1d1634651266",
   "metadata": {},
   "outputs": [],
   "source": [
    "%%timeit\n",
    "mysprite = MySprite()"
   ]
  },
  {
   "cell_type": "code",
   "execution_count": null,
   "id": "42e2fff6-6c94-4b29-8620-eec9696e593e",
   "metadata": {},
   "outputs": [],
   "source": [
    "from everest.algebraic.intt import Intt"
   ]
  },
  {
   "cell_type": "code",
   "execution_count": null,
   "id": "51367afc-1f1c-425d-98fc-19608ea9f02b",
   "metadata": {},
   "outputs": [],
   "source": [
    "(Intt[0:10] ** 2)[0,]"
   ]
  },
  {
   "cell_type": "code",
   "execution_count": null,
   "id": "7a36ef27-2e99-4e07-8971-9c208af621e0",
   "metadata": {},
   "outputs": [],
   "source": [
    "from everest import bureau"
   ]
  },
  {
   "cell_type": "code",
   "execution_count": null,
   "id": "c24711a0-8bcd-4184-8b9e-b2c60b8c469f",
   "metadata": {},
   "outputs": [],
   "source": [
    "mybureau = bureau.Bureau('foo')"
   ]
  },
  {
   "cell_type": "code",
   "execution_count": null,
   "id": "8c2747b6-0bcd-4433-acf1-1bab578e5c7f",
   "metadata": {},
   "outputs": [],
   "source": [
    "epi1 = MyClass.epitaph\n",
    "with mybureau:\n",
    "    epi2 = MyClass.epitaph\n",
    "assert not epi1 is epi2"
   ]
  }
 ],
 "metadata": {
  "kernelspec": {
   "display_name": "Python 3 (ipykernel)",
   "language": "python",
   "name": "python3"
  },
  "language_info": {
   "codemirror_mode": {
    "name": "ipython",
    "version": 3
   },
   "file_extension": ".py",
   "mimetype": "text/x-python",
   "name": "python",
   "nbconvert_exporter": "python",
   "pygments_lexer": "ipython3",
   "version": "3.9.5"
  }
 },
 "nbformat": 4,
 "nbformat_minor": 5
}
