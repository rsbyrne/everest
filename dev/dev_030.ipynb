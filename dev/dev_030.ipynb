{
 "cells": [
  {
   "cell_type": "code",
   "execution_count": null,
   "id": "b26e91a5-ad9e-4715-b202-c1e74e9ee0db",
   "metadata": {},
   "outputs": [],
   "source": [
    "###############################################################################\n",
    "import aliases\n",
    "from everest.utilities import textutils\n",
    "# tuple(textutils.find_all('', path='../everest/ptolemaic'))\n",
    "# textutils.replace_all('Schematic', 'Compound', path='../everest')"
   ]
  },
  {
   "cell_type": "code",
   "execution_count": null,
   "id": "fe55b8a3-d9d2-4004-9f94-f4160b2ad5e3",
   "metadata": {},
   "outputs": [],
   "source": [
    "import ast"
   ]
  },
  {
   "cell_type": "code",
   "execution_count": null,
   "id": "424a8b48-1276-4e43-b9c9-829b8965011c",
   "metadata": {},
   "outputs": [],
   "source": [
    "with open('module.py', mode='r') as file:\n",
    "    script = file.read()"
   ]
  },
  {
   "cell_type": "code",
   "execution_count": null,
   "id": "c3f39788-0354-472c-b418-986e90dde98a",
   "metadata": {},
   "outputs": [],
   "source": [
    "parsed = ast.parse(script, type_comments=True)\n",
    "parsed.body"
   ]
  },
  {
   "cell_type": "code",
   "execution_count": null,
   "id": "4e892e71-b0bb-4729-a863-631e6025cf3f",
   "metadata": {},
   "outputs": [],
   "source": [
    "parsed.body[0].value"
   ]
  },
  {
   "cell_type": "code",
   "execution_count": null,
   "id": "a84b97c5-624d-4c4d-95d4-de40a02e3414",
   "metadata": {},
   "outputs": [],
   "source": [
    "parsed.body[1].annotation.value"
   ]
  },
  {
   "cell_type": "code",
   "execution_count": null,
   "id": "2efa55f2-7dac-4fa9-b9fa-a21d22fc8ba2",
   "metadata": {},
   "outputs": [],
   "source": [
    "parsed.body[1].value.value"
   ]
  },
  {
   "cell_type": "code",
   "execution_count": null,
   "id": "1e757d88-d171-4036-9bc7-5173c6e47e64",
   "metadata": {},
   "outputs": [],
   "source": [
    "ast.AnnAssign.__instancecheck__(parsed.body[0])"
   ]
  },
  {
   "cell_type": "code",
   "execution_count": null,
   "id": "bcef3ac6-e678-4913-abc4-bf82125c645f",
   "metadata": {},
   "outputs": [],
   "source": [
    "ast.dump(ast.parse(script, type_comments=True))"
   ]
  },
  {
   "cell_type": "code",
   "execution_count": null,
   "id": "aef8ef21-0d6d-486f-b043-52a5212eed06",
   "metadata": {},
   "outputs": [],
   "source": [
    "from everest.ptolemaic.stele import *"
   ]
  },
  {
   "cell_type": "code",
   "execution_count": null,
   "id": "f8bcf158-7aae-4482-a371-353c0f9cc74c",
   "metadata": {},
   "outputs": [],
   "source": [
    "screed = Screed.from_file('/home/morpheus/workspace/test')\n",
    "display(screed)\n",
    "stele = Stele(screed)\n",
    "display(stele)"
   ]
  },
  {
   "cell_type": "code",
   "execution_count": null,
   "id": "8e145a88-f9b8-40e7-bc55-9402cfd384fa",
   "metadata": {},
   "outputs": [],
   "source": [
    "stele.bah"
   ]
  },
  {
   "cell_type": "code",
   "execution_count": null,
   "id": "3cb7d0b7-515f-409b-92c4-4b578845dbad",
   "metadata": {},
   "outputs": [],
   "source": [
    "from everest.ptolemaic.system import System"
   ]
  },
  {
   "cell_type": "code",
   "execution_count": null,
   "id": "df02d632-61e7-448b-90df-86a468ed3e6f",
   "metadata": {},
   "outputs": [],
   "source": [
    "class A(metaclass=System):\n",
    "    a: int = 2\n",
    "    b: float = 3\n",
    "    c = a * b\n",
    "    @organ(foo=a, bah=5)\n",
    "    class B(metaclass=System):\n",
    "        foo: int\n",
    "        bah: float\n",
    "    @prop(qux=b, qin=6)\n",
    "    def d(qux, qin, /) -> tuple:\n",
    "        '''Returns a tuple of its arguments.'''\n",
    "        return (qux, qin)\n",
    "    @prop\n",
    "    def e(d, /):\n",
    "        return (d, d)"
   ]
  },
  {
   "cell_type": "code",
   "execution_count": null,
   "id": "2bb9cd34-3f24-4bed-8683-53cf2f745829",
   "metadata": {},
   "outputs": [],
   "source": [
    "myobj = A()\n",
    "display(myobj)\n",
    "display(myobj.e)"
   ]
  },
  {
   "cell_type": "code",
   "execution_count": null,
   "id": "54da749f-aae7-4fe7-b255-53bc6e7880a2",
   "metadata": {},
   "outputs": [],
   "source": [
    "from everest.ptolemaic import sett, mapp"
   ]
  },
  {
   "cell_type": "code",
   "execution_count": null,
   "id": "e271216f-332b-4ed3-823c-813864af56d1",
   "metadata": {},
   "outputs": [],
   "source": [
    "@mapp\n",
    "def mapp1(arg: list[int, str], /) -> str:\n",
    "    a, b = arg\n",
    "    return a * b\n",
    "\n",
    "@mapp\n",
    "def mapp2(arg: int, /) -> str:\n",
    "    return arg**2"
   ]
  },
  {
   "cell_type": "code",
   "execution_count": null,
   "id": "b3532a8c-d230-420a-b389-d34cc3e45e04",
   "metadata": {},
   "outputs": [],
   "source": [
    "mapp((mapp1, mapp2))[[2, 'foo']]"
   ]
  }
 ],
 "metadata": {
  "kernelspec": {
   "display_name": "Python 3 (ipykernel)",
   "language": "python",
   "name": "python3"
  },
  "language_info": {
   "codemirror_mode": {
    "name": "ipython",
    "version": 3
   },
   "file_extension": ".py",
   "mimetype": "text/x-python",
   "name": "python",
   "nbconvert_exporter": "python",
   "pygments_lexer": "ipython3",
   "version": "3.9.5"
  }
 },
 "nbformat": 4,
 "nbformat_minor": 5
}
