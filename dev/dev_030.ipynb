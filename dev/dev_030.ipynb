{
 "cells": [
  {
   "cell_type": "code",
   "execution_count": null,
   "id": "3a2d4331-b5a5-44f6-b82d-bd24c1116c9d",
   "metadata": {},
   "outputs": [],
   "source": [
    "###############################################################################\n",
    "import aliases\n",
    "from everest.utilities import textutils\n",
    "# tuple(textutils.find_all('Schematic', path='../everest'))\n",
    "# textutils.replace_all('Schematic', 'Compound', path='../everest')"
   ]
  },
  {
   "cell_type": "code",
   "execution_count": null,
   "id": "0c0554c3-66ce-47ae-82f7-2430305aa41d",
   "metadata": {},
   "outputs": [],
   "source": [
    "from everest.ptolemaic.essence import Essence"
   ]
  },
  {
   "cell_type": "code",
   "execution_count": null,
   "id": "c3d9500b-67ff-4946-beb6-953fc8a32105",
   "metadata": {},
   "outputs": [],
   "source": [
    "from everest import bureau\n",
    "\n",
    "from everest.utilities import caching as _caching\n",
    "\n",
    "from everest.ptolemaic.compound import Compound"
   ]
  },
  {
   "cell_type": "code",
   "execution_count": null,
   "id": "a4f0a600-9807-4389-8850-2cbd32bb8e61",
   "metadata": {},
   "outputs": [],
   "source": [
    "class MyClass(metaclass=Compound):\n",
    "\n",
    "    drawer = bureau.drawerproperty"
   ]
  },
  {
   "cell_type": "code",
   "execution_count": null,
   "id": "74399ce2-6816-4cf3-86c7-5a9e4931cfcf",
   "metadata": {},
   "outputs": [],
   "source": [
    "myobj = MyClass()"
   ]
  },
  {
   "cell_type": "code",
   "execution_count": null,
   "id": "28c90925-9871-4637-85fc-67478758c71c",
   "metadata": {},
   "outputs": [],
   "source": [
    "mybureau = bureau.Bureau('foo')"
   ]
  },
  {
   "cell_type": "code",
   "execution_count": null,
   "id": "4711da8f-618a-4441-871b-2c340b9b7ed6",
   "metadata": {},
   "outputs": [],
   "source": [
    "print('-')\n",
    "print(bureau.get_session())\n",
    "print(myobj.drawer)\n",
    "with mybureau.session():\n",
    "    print('-')\n",
    "    print(bureau.get_session())\n",
    "    print(myobj.drawer)\n",
    "print('-')\n",
    "print(bureau.get_session())\n",
    "print(myobj.drawer)"
   ]
  },
  {
   "cell_type": "code",
   "execution_count": null,
   "id": "6a368f7e-7993-4d69-a747-d5d14cd074fe",
   "metadata": {},
   "outputs": [],
   "source": [
    "myobj.drawer.foo = 2"
   ]
  },
  {
   "cell_type": "code",
   "execution_count": null,
   "id": "c7e87be4-4529-479e-97c8-ca0b2a9394e9",
   "metadata": {},
   "outputs": [],
   "source": [
    "myobj.drawer.foo"
   ]
  },
  {
   "cell_type": "code",
   "execution_count": null,
   "id": "3891f6f2-13ae-4957-844b-04efc970c58f",
   "metadata": {},
   "outputs": [],
   "source": [
    "myobj.epitaph.decode()"
   ]
  },
  {
   "cell_type": "code",
   "execution_count": null,
   "id": "dbcce2f6-bf01-497e-99d2-c1567ecdadae",
   "metadata": {},
   "outputs": [],
   "source": []
  }
 ],
 "metadata": {
  "kernelspec": {
   "display_name": "Python 3 (ipykernel)",
   "language": "python",
   "name": "python3"
  },
  "language_info": {
   "codemirror_mode": {
    "name": "ipython",
    "version": 3
   },
   "file_extension": ".py",
   "mimetype": "text/x-python",
   "name": "python",
   "nbconvert_exporter": "python",
   "pygments_lexer": "ipython3",
   "version": "3.9.5"
  }
 },
 "nbformat": 4,
 "nbformat_minor": 5
}
