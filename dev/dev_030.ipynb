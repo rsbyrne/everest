{
 "cells": [
  {
   "cell_type": "code",
   "execution_count": null,
   "id": "3a2d4331-b5a5-44f6-b82d-bd24c1116c9d",
   "metadata": {},
   "outputs": [],
   "source": [
    "###############################################################################\n",
    "import aliases\n",
    "from everest.utilities import textutils\n",
    "# tuple(textutils.find_all('Schematic', path='../everest'))\n",
    "# textutils.replace_all('Schematic', 'Compound', path='../everest')"
   ]
  },
  {
   "cell_type": "code",
   "execution_count": null,
   "id": "02129a2a-c41d-4b60-a9e6-99e478639dcb",
   "metadata": {},
   "outputs": [],
   "source": [
    "from everest.ptolemaic.armature import Armature"
   ]
  },
  {
   "cell_type": "code",
   "execution_count": null,
   "id": "d0064311-41a5-4fb1-88c2-0a20956debcc",
   "metadata": {},
   "outputs": [],
   "source": [
    "class A(metaclass=Armature):\n",
    "\n",
    "    foo: int = 2\n",
    "    bah: str = 'hello'\n",
    "    floop: bool = True\n",
    "\n",
    "    @organ(baz='bah')\n",
    "    class B(metaclass=Armature):\n",
    "        foo: int\n",
    "        baz: int\n",
    "        qux: str = 'world'\n",
    "\n",
    "    @organ(bananas='B')\n",
    "    class C(metaclass=Armature):\n",
    "        bananas: object\n",
    "        @comp\n",
    "        def mycomp(self, /):\n",
    "            return f\"!!!{self.bananas}!!!\"\n",
    "\n",
    "    @property\n",
    "    def apples(self, /):\n",
    "        return self.C.mycomp"
   ]
  },
  {
   "cell_type": "code",
   "execution_count": null,
   "id": "c8fbd0f6-ebfa-4a2c-8230-55cde6970c1d",
   "metadata": {},
   "outputs": [],
   "source": [
    "myobj = A()"
   ]
  },
  {
   "cell_type": "code",
   "execution_count": null,
   "id": "62b73330-3ad2-45e1-aff0-f4b78128a454",
   "metadata": {},
   "outputs": [],
   "source": [
    "myobj.apples"
   ]
  },
  {
   "cell_type": "code",
   "execution_count": null,
   "id": "4708c1cf-878f-4ec7-917f-40652ff865fd",
   "metadata": {},
   "outputs": [],
   "source": [
    "myobj.C.mycomp"
   ]
  },
  {
   "cell_type": "code",
   "execution_count": null,
   "id": "dd0dcc23-7699-418d-be7f-c1d7ecd89188",
   "metadata": {},
   "outputs": [],
   "source": [
    "from everest.ptolemaic import mapp, sett"
   ]
  },
  {
   "cell_type": "code",
   "execution_count": null,
   "id": "e271216f-332b-4ed3-823c-813864af56d1",
   "metadata": {},
   "outputs": [],
   "source": [
    "@mapp\n",
    "def mapp1(arg: list[int, str], /) -> str:\n",
    "    a, b = arg\n",
    "    return a * b\n",
    "\n",
    "@mapp\n",
    "def mapp2(arg: int, /) -> str:\n",
    "    return arg**2"
   ]
  },
  {
   "cell_type": "code",
   "execution_count": null,
   "id": "b3532a8c-d230-420a-b389-d34cc3e45e04",
   "metadata": {},
   "outputs": [],
   "source": [
    "mapp((mapp1, mapp2))[[2, 'foo']]"
   ]
  },
  {
   "cell_type": "code",
   "execution_count": null,
   "id": "dac23246-6fd5-463d-8df6-834613d1ca27",
   "metadata": {},
   "outputs": [],
   "source": [
    "dict((('a', 1), ('b', 2)))"
   ]
  },
  {
   "cell_type": "code",
   "execution_count": null,
   "id": "4600cf0c-abf9-4687-a371-c483ba34aae1",
   "metadata": {},
   "outputs": [],
   "source": [
    "class MyClass:\n",
    "    __slots__ = ()"
   ]
  },
  {
   "cell_type": "code",
   "execution_count": null,
   "id": "8f88e0ce-8a09-4e4a-883e-2a360d44a64c",
   "metadata": {},
   "outputs": [],
   "source": [
    "myobj = MyClass()"
   ]
  },
  {
   "cell_type": "code",
   "execution_count": null,
   "id": "c74b1b2d-41ca-4611-bc4f-aa7787423059",
   "metadata": {},
   "outputs": [],
   "source": [
    "try:\n",
    "    myobj.foo = 1\n",
    "except AttributeError as exc:"
   ]
  },
  {
   "cell_type": "code",
   "execution_count": null,
   "id": "0f850b0a-0185-4da2-9206-09fa972b4f39",
   "metadata": {},
   "outputs": [],
   "source": [
    "del {'a': 1}['b']"
   ]
  },
  {
   "cell_type": "code",
   "execution_count": null,
   "id": "72840bbd-1355-40af-9bea-438eb55e594f",
   "metadata": {},
   "outputs": [],
   "source": []
  }
 ],
 "metadata": {
  "kernelspec": {
   "display_name": "Python 3 (ipykernel)",
   "language": "python",
   "name": "python3"
  },
  "language_info": {
   "codemirror_mode": {
    "name": "ipython",
    "version": 3
   },
   "file_extension": ".py",
   "mimetype": "text/x-python",
   "name": "python",
   "nbconvert_exporter": "python",
   "pygments_lexer": "ipython3",
   "version": "3.9.5"
  }
 },
 "nbformat": 4,
 "nbformat_minor": 5
}
