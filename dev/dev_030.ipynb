{
 "cells": [
  {
   "cell_type": "code",
   "execution_count": null,
   "id": "3a2d4331-b5a5-44f6-b82d-bd24c1116c9d",
   "metadata": {},
   "outputs": [],
   "source": [
    "###############################################################################\n",
    "import aliases\n",
    "from everest.utilities import textutils\n",
    "# tuple(textutils.find_all('Schematic', path='../everest'))\n",
    "# textutils.replace_all('Schematic', 'Compound', path='../everest')"
   ]
  },
  {
   "cell_type": "code",
   "execution_count": null,
   "id": "fd2d553b-b30e-41a1-a9cc-050671359a3f",
   "metadata": {},
   "outputs": [],
   "source": [
    "from everest.algebraic.mapp import Mapp, SwitchMapp"
   ]
  },
  {
   "cell_type": "code",
   "execution_count": null,
   "id": "d1bfe597-56d2-48f9-9861-c2d80129c072",
   "metadata": {},
   "outputs": [],
   "source": [
    "@Mapp\n",
    "def my_func1(arg: int, /):\n",
    "    return arg**2\n",
    "\n",
    "@Mapp\n",
    "def my_func2(arg: str, /):\n",
    "    return f\"{arg}_{arg}\""
   ]
  },
  {
   "cell_type": "code",
   "execution_count": null,
   "id": "8dc37206-1be5-4f92-a63d-e0042ff74f5f",
   "metadata": {},
   "outputs": [],
   "source": [
    "mymapp = SwitchMapp(my_func1, my_func2)"
   ]
  },
  {
   "cell_type": "code",
   "execution_count": null,
   "id": "7f98c996-7c6a-4913-bac8-ae66beba0739",
   "metadata": {},
   "outputs": [],
   "source": [
    "(mymapp @ mymapp)['foo']"
   ]
  },
  {
   "cell_type": "code",
   "execution_count": null,
   "id": "a79634b9-cd54-4aa6-8230-2c42cfdcc073",
   "metadata": {},
   "outputs": [],
   "source": [
    "%%timeit\n",
    "mymapp['foo']"
   ]
  },
  {
   "cell_type": "code",
   "execution_count": null,
   "id": "97a1db77-1936-47ba-9404-1f5477cf9527",
   "metadata": {},
   "outputs": [],
   "source": [
    "my_func[1]"
   ]
  },
  {
   "cell_type": "code",
   "execution_count": null,
   "id": "457660dd-4d30-458c-95d3-7edb76e77b64",
   "metadata": {},
   "outputs": [],
   "source": [
    "(my_func @ my_func @ my_func)[3]"
   ]
  },
  {
   "cell_type": "code",
   "execution_count": null,
   "id": "639f6cb2-118a-4ff6-8a92-46d29aa882af",
   "metadata": {},
   "outputs": [],
   "source": []
  }
 ],
 "metadata": {
  "kernelspec": {
   "display_name": "Python 3 (ipykernel)",
   "language": "python",
   "name": "python3"
  },
  "language_info": {
   "codemirror_mode": {
    "name": "ipython",
    "version": 3
   },
   "file_extension": ".py",
   "mimetype": "text/x-python",
   "name": "python",
   "nbconvert_exporter": "python",
   "pygments_lexer": "ipython3",
   "version": "3.9.5"
  }
 },
 "nbformat": 4,
 "nbformat_minor": 5
}
