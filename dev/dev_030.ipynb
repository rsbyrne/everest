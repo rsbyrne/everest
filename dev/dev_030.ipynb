{
 "cells": [
  {
   "cell_type": "code",
   "execution_count": null,
   "id": "3a2d4331-b5a5-44f6-b82d-bd24c1116c9d",
   "metadata": {},
   "outputs": [],
   "source": [
    "###############################################################################\n",
    "import aliases\n",
    "from everest.utilities import textutils\n",
    "# tuple(textutils.find_all('Schematic', path='../everest'))\n",
    "# textutils.replace_all('Schematic', 'Compound', path='../everest')"
   ]
  },
  {
   "cell_type": "code",
   "execution_count": null,
   "id": "a9e3ae29-a8ba-4d04-9dc8-c9f0b641342e",
   "metadata": {},
   "outputs": [],
   "source": [
    "from everest.ptolemaic.sprite import *"
   ]
  },
  {
   "cell_type": "code",
   "execution_count": null,
   "id": "596fbe16-9907-42a0-bcff-e5de2677314f",
   "metadata": {},
   "outputs": [],
   "source": [
    "myobj = Tuuple((1, (2, {'c': 3})))\n",
    "assert myobj.epitaph.decode() is myobj"
   ]
  },
  {
   "cell_type": "code",
   "execution_count": null,
   "id": "2f39d243-0915-44b0-ad72-c0fdff1551db",
   "metadata": {},
   "outputs": [],
   "source": [
    "out = Tuuple((1, (2, {'c': 3}))).epitaph.decode()"
   ]
  },
  {
   "cell_type": "code",
   "execution_count": null,
   "id": "d02af786-43c6-470c-b43b-f2896f4634cd",
   "metadata": {},
   "outputs": [],
   "source": [
    "out.content"
   ]
  },
  {
   "cell_type": "code",
   "execution_count": null,
   "id": "db56cc84-0033-47ac-bc0f-971464b7ccf7",
   "metadata": {},
   "outputs": [],
   "source": []
  }
 ],
 "metadata": {
  "kernelspec": {
   "display_name": "Python 3 (ipykernel)",
   "language": "python",
   "name": "python3"
  },
  "language_info": {
   "codemirror_mode": {
    "name": "ipython",
    "version": 3
   },
   "file_extension": ".py",
   "mimetype": "text/x-python",
   "name": "python",
   "nbconvert_exporter": "python",
   "pygments_lexer": "ipython3",
   "version": "3.9.5"
  }
 },
 "nbformat": 4,
 "nbformat_minor": 5
}
