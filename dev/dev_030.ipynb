{
 "cells": [
  {
   "cell_type": "code",
   "execution_count": null,
   "id": "b26e91a5-ad9e-4715-b202-c1e74e9ee0db",
   "metadata": {},
   "outputs": [],
   "source": [
    "###############################################################################\n",
    "import aliases\n",
    "from everest.utilities import textutils\n",
    "# tuple(textutils.find_all('', path='../everest/ptolemaic'))\n",
    "# textutils.replace_all('Schematic', 'Compound', path='../everest')"
   ]
  },
  {
   "cell_type": "code",
   "execution_count": null,
   "id": "53d6ccbc-8056-4f45-8ab8-d917495cb63d",
   "metadata": {},
   "outputs": [],
   "source": [
    "from everest.ptolemaic.sprite import Sprite"
   ]
  },
  {
   "cell_type": "code",
   "execution_count": null,
   "id": "370dbf4f-c982-400a-a17e-1e282d1e24f3",
   "metadata": {},
   "outputs": [],
   "source": [
    "class A(metaclass=Sprite):\n",
    "    a: int\n",
    "    b: str"
   ]
  },
  {
   "cell_type": "code",
   "execution_count": null,
   "id": "9858a62d-bd52-41f7-8fa2-5eac747572dc",
   "metadata": {},
   "outputs": [],
   "source": [
    "from everest.ptolemaic.enumm import Enumm"
   ]
  },
  {
   "cell_type": "code",
   "execution_count": null,
   "id": "9a273e67-5523-41a9-a8c7-3aa58d162539",
   "metadata": {},
   "outputs": [],
   "source": [
    "class B(metaclass=Enumm):\n",
    "    a: int = (1, 2)\n",
    "    b: float = 2"
   ]
  },
  {
   "cell_type": "code",
   "execution_count": null,
   "id": "519b94b4-8b37-4bf6-a357-5217998539fd",
   "metadata": {},
   "outputs": [],
   "source": [
    "B.a.value"
   ]
  },
  {
   "cell_type": "code",
   "execution_count": null,
   "id": "4889a067-cc65-4054-b1d7-be710bf389a3",
   "metadata": {},
   "outputs": [],
   "source": []
  },
  {
   "cell_type": "code",
   "execution_count": null,
   "id": "46dbcb40-19ed-4c8c-b105-de4190b928e9",
   "metadata": {},
   "outputs": [],
   "source": []
  },
  {
   "cell_type": "code",
   "execution_count": null,
   "id": "46884d96-f15e-4224-b70a-abbb8ae3f43f",
   "metadata": {},
   "outputs": [],
   "source": []
  },
  {
   "cell_type": "code",
   "execution_count": null,
   "id": "8f860283-5c4d-4c34-a176-be3c81d615ac",
   "metadata": {},
   "outputs": [],
   "source": [
    "A(1, 2)"
   ]
  },
  {
   "cell_type": "code",
   "execution_count": null,
   "id": "556a8451-164e-44d5-8483-c49f58a315f6",
   "metadata": {},
   "outputs": [],
   "source": [
    "from everest.ptolemaic.essence import Essence\n",
    "from everest.ptolemaic.ousia import Ousia"
   ]
  },
  {
   "cell_type": "code",
   "execution_count": null,
   "id": "767076b6-68d1-42cb-9eb8-dd7b134297a5",
   "metadata": {},
   "outputs": [],
   "source": [
    "class Base(metaclass=Ousia):\n",
    "    __slots__ = ('_params',)\n",
    "    def _content_repr(self, /):\n",
    "        return ''\n",
    "    def make_epitaph(self, /):\n",
    "        return ''\n",
    "    @property\n",
    "    def params(self, /):\n",
    "        return self._params\n",
    "    @params.setter\n",
    "    def params(self, val, /):\n",
    "        self._params = val"
   ]
  },
  {
   "cell_type": "code",
   "execution_count": null,
   "id": "c502dd33-2d72-4270-81be-f11c9dbfb58d",
   "metadata": {},
   "outputs": [],
   "source": [
    "class A(Base):\n",
    "    @prop\n",
    "    class foo(Base):\n",
    "        ...\n",
    "    @organ\n",
    "    class bah(metaclass=Sprite):\n",
    "        foo: None\n",
    "        def __init__(self, /):\n",
    "            print('bah!')\n",
    "\n",
    "display(A)\n",
    "display(A.foo)\n",
    "display(A.bah)\n",
    "myobj = A()\n",
    "display(myobj.foo)\n",
    "display(myobj.bah)\n",
    "display(myobj.bah)"
   ]
  },
  {
   "cell_type": "code",
   "execution_count": null,
   "id": "d4db9dcd-e452-4cfe-9723-a120a3612cac",
   "metadata": {},
   "outputs": [],
   "source": [
    "class A(Base):\n",
    "\n",
    "    @prop\n",
    "    def foo(self, /):\n",
    "        return 3\n",
    "\n",
    "    @prop\n",
    "    def bah(self, foo: int, /) -> int:\n",
    "        print('bah!')\n",
    "        return foo**2\n",
    "\n",
    "    qux = foo * bah\n",
    "\n",
    "display(A)\n",
    "display(A.foo)\n",
    "display(A.bah)\n",
    "myobj = A()\n",
    "display(myobj.foo)\n",
    "display(myobj.bah)\n",
    "display(myobj.bah)\n",
    "display(myobj.qux)"
   ]
  },
  {
   "cell_type": "code",
   "execution_count": null,
   "id": "f4d1e0b6-d22a-4c45-a59c-4f451e9013ba",
   "metadata": {},
   "outputs": [],
   "source": [
    "class B(A):\n",
    "\n",
    "    def bah(self, foo: int, /) -> int:\n",
    "        return super().bah(foo)**2\n",
    "\n",
    "    def qux(self, foo, bah, /) -> float:\n",
    "        return 1 / super().qux(foo, bah)\n",
    "\n",
    "display(B)\n",
    "display(B.foo)\n",
    "display(B.bah)\n",
    "myobj = B()\n",
    "display(myobj.foo)\n",
    "display(myobj.bah)\n",
    "display(myobj.bah)\n",
    "display(myobj.qux)"
   ]
  },
  {
   "cell_type": "code",
   "execution_count": null,
   "id": "3e730951-2856-4ca8-9dc6-f7ac0601b4e1",
   "metadata": {},
   "outputs": [],
   "source": [
    "class A(metaclass=Schema):\n",
    "\n",
    "    a: int = 1\n",
    "\n",
    "    c = a * 2\n",
    "\n",
    "    @organ(b=2)\n",
    "    class B(metaclass=Schema):\n",
    "        a: int\n",
    "        b: int\n",
    "        c: int\n",
    "\n",
    "myobj = A()\n",
    "myobj.c"
   ]
  },
  {
   "cell_type": "code",
   "execution_count": null,
   "id": "54da749f-aae7-4fe7-b255-53bc6e7880a2",
   "metadata": {},
   "outputs": [],
   "source": [
    "from everest.ptolemaic import sett, mapp"
   ]
  },
  {
   "cell_type": "code",
   "execution_count": null,
   "id": "e271216f-332b-4ed3-823c-813864af56d1",
   "metadata": {},
   "outputs": [],
   "source": [
    "@mapp\n",
    "def mapp1(arg: list[int, str], /) -> str:\n",
    "    a, b = arg\n",
    "    return a * b\n",
    "\n",
    "@mapp\n",
    "def mapp2(arg: int, /) -> str:\n",
    "    return arg**2"
   ]
  },
  {
   "cell_type": "code",
   "execution_count": null,
   "id": "b3532a8c-d230-420a-b389-d34cc3e45e04",
   "metadata": {},
   "outputs": [],
   "source": [
    "mapp((mapp1, mapp2))[[2, 'foo']]"
   ]
  }
 ],
 "metadata": {
  "kernelspec": {
   "display_name": "Python 3 (ipykernel)",
   "language": "python",
   "name": "python3"
  },
  "language_info": {
   "codemirror_mode": {
    "name": "ipython",
    "version": 3
   },
   "file_extension": ".py",
   "mimetype": "text/x-python",
   "name": "python",
   "nbconvert_exporter": "python",
   "pygments_lexer": "ipython3",
   "version": "3.9.5"
  }
 },
 "nbformat": 4,
 "nbformat_minor": 5
}
