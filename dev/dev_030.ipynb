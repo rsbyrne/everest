{
 "cells": [
  {
   "cell_type": "code",
   "execution_count": null,
   "id": "b26e91a5-ad9e-4715-b202-c1e74e9ee0db",
   "metadata": {},
   "outputs": [],
   "source": [
    "###############################################################################\n",
    "import aliases\n",
    "from everest.utilities import textutils\n",
    "# tuple(textutils.find_all('', path='../everest/ptolemaic'))\n",
    "# textutils.replace_all('Schematic', 'Compound', path='../everest')"
   ]
  },
  {
   "cell_type": "code",
   "execution_count": null,
   "id": "eb8cdaf5-929f-4b91-bb49-50a65be0100e",
   "metadata": {},
   "outputs": [],
   "source": [
    "from everest.ptolemaic.essence import Essence"
   ]
  },
  {
   "cell_type": "code",
   "execution_count": null,
   "id": "ca90578c-6451-402c-ab21-15e31c173da7",
   "metadata": {},
   "outputs": [],
   "source": [
    "from everest.ptolemaic import test"
   ]
  },
  {
   "cell_type": "code",
   "execution_count": null,
   "id": "7505adb1-d0de-4d75-9d8d-d7aca92e9e6a",
   "metadata": {},
   "outputs": [],
   "source": [
    "test.A.__corpus__"
   ]
  },
  {
   "cell_type": "code",
   "execution_count": null,
   "id": "3cb7d0b7-515f-409b-92c4-4b578845dbad",
   "metadata": {},
   "outputs": [],
   "source": [
    "from everest.ptolemaic.system import System"
   ]
  },
  {
   "cell_type": "code",
   "execution_count": null,
   "id": "df02d632-61e7-448b-90df-86a468ed3e6f",
   "metadata": {},
   "outputs": [],
   "source": [
    "class A(metaclass=System):\n",
    "    a: int = 2\n",
    "    b: float = 3\n",
    "    c = a * b\n",
    "    @organ(foo=a, bah=5)\n",
    "    class B(metaclass=System):\n",
    "        foo: int\n",
    "        bah: float\n",
    "    @prop(qux=b, qin=6)\n",
    "    def d(qux, qin, /) -> tuple:\n",
    "        '''Returns a tuple of its arguments.'''\n",
    "        return (qux, qin)\n",
    "    @prop\n",
    "    def e(d, /):\n",
    "        return (d, d)"
   ]
  },
  {
   "cell_type": "code",
   "execution_count": null,
   "id": "2bb9cd34-3f24-4bed-8683-53cf2f745829",
   "metadata": {},
   "outputs": [],
   "source": [
    "myobj = A()\n",
    "display(myobj)\n",
    "display(myobj.e)"
   ]
  },
  {
   "cell_type": "code",
   "execution_count": null,
   "id": "54da749f-aae7-4fe7-b255-53bc6e7880a2",
   "metadata": {},
   "outputs": [],
   "source": [
    "from everest.ptolemaic import sett, mapp"
   ]
  },
  {
   "cell_type": "code",
   "execution_count": null,
   "id": "e271216f-332b-4ed3-823c-813864af56d1",
   "metadata": {},
   "outputs": [],
   "source": [
    "@mapp\n",
    "def mapp1(arg: list[int, str], /) -> str:\n",
    "    a, b = arg\n",
    "    return a * b\n",
    "\n",
    "@mapp\n",
    "def mapp2(arg: int, /) -> str:\n",
    "    return arg**2"
   ]
  },
  {
   "cell_type": "code",
   "execution_count": null,
   "id": "b3532a8c-d230-420a-b389-d34cc3e45e04",
   "metadata": {},
   "outputs": [],
   "source": [
    "mapp((mapp1, mapp2))[[2, 'foo']]"
   ]
  }
 ],
 "metadata": {
  "kernelspec": {
   "display_name": "Python 3 (ipykernel)",
   "language": "python",
   "name": "python3"
  },
  "language_info": {
   "codemirror_mode": {
    "name": "ipython",
    "version": 3
   },
   "file_extension": ".py",
   "mimetype": "text/x-python",
   "name": "python",
   "nbconvert_exporter": "python",
   "pygments_lexer": "ipython3",
   "version": "3.9.5"
  }
 },
 "nbformat": 4,
 "nbformat_minor": 5
}
