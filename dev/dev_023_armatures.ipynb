{
 "cells": [
  {
   "cell_type": "code",
   "execution_count": null,
   "id": "0853e2e4-9f91-4945-82d0-332f101b6510",
   "metadata": {},
   "outputs": [],
   "source": [
    "###############################################################################\n",
    "import aliases"
   ]
  },
  {
   "cell_type": "code",
   "execution_count": null,
   "id": "969c5f0c-a89a-46f1-b80a-96e6cf4f0274",
   "metadata": {},
   "outputs": [],
   "source": [
    "from everest.ptolemaic.intt import Intt\n",
    "from everest.ptolemaic.tuuple import Tuuple\n",
    "from everest.ur import Var"
   ]
  },
  {
   "cell_type": "code",
   "execution_count": null,
   "id": "aa776851-1149-433d-b701-541ef60bd638",
   "metadata": {},
   "outputs": [],
   "source": [
    "Intt[Tuuple[2]][Var]"
   ]
  },
  {
   "cell_type": "code",
   "execution_count": null,
   "id": "3a4e1595-3190-4a3a-a361-2c4be343cdce",
   "metadata": {},
   "outputs": [],
   "source": [
    "0 in Intt"
   ]
  },
  {
   "cell_type": "code",
   "execution_count": null,
   "id": "ee96f2c2-219b-48b9-9f76-6694d1bffb7a",
   "metadata": {},
   "outputs": [],
   "source": []
  },
  {
   "cell_type": "code",
   "execution_count": null,
   "id": "89c8f144-5d88-4739-98f5-558e9f139fc2",
   "metadata": {},
   "outputs": [],
   "source": [
    "from everest.ptolemaic.intt import Intt"
   ]
  },
  {
   "cell_type": "code",
   "execution_count": null,
   "id": "319651e7-df11-4ae6-b4e6-f57cc5aa155c",
   "metadata": {},
   "outputs": [],
   "source": [
    "from everest.ptolemaic import intt as _intt, tuuple as _tuuple"
   ]
  },
  {
   "cell_type": "code",
   "execution_count": null,
   "id": "42cbff61-5fff-4bd1-ad5f-4b0b95b3fd61",
   "metadata": {},
   "outputs": [],
   "source": [
    "class CellLike(_tuuple.TuupleLike):\n",
    "    ...\n",
    "\n",
    "\n",
    "class CellGen(CellLike, _tuuple.TuupleGen):\n",
    "    ...\n",
    "\n",
    "\n",
    "class CellVar(CellLike, _tuuple.TuupleVar):\n",
    "    ...\n",
    "\n",
    "\n",
    "class CellSpace(_tuuple.TuupleSpace):\n",
    "    ...\n",
    "\n",
    "\n",
    "class _Cell_(CellSpace, _tuuple._Tuuple_):\n",
    "\n",
    "    class Choret:\n",
    "\n",
    "        def slyce_tuple(self, incisor: tuple, /):\n",
    "            return CellOid(incisor)\n",
    "\n",
    "    @property\n",
    "    def __incise_generic__(self, /):\n",
    "        return CellGen(self.bound)\n",
    "\n",
    "    @property\n",
    "    def __incise_variable__(self, /):\n",
    "        return CellVar(self.bound)\n",
    "\n",
    "\n",
    "class CellMeta(_tuuple.TuupleMeta):\n",
    "\n",
    "    __incision_manager__ = _Cell_()\n",
    "\n",
    "\n",
    "CellSpace.register(CellMeta)\n",
    "\n",
    "\n",
    "class Cell(_tuuple.Tuuple, metaclass=CellMeta):\n",
    "    ...\n",
    "\n",
    "\n",
    "class CellOid(_tuuple.TuuplOid):\n",
    "\n",
    "    __incise_generic__ = property(CellGen)\n",
    "    __incise_variable__ = property(CellVar)"
   ]
  },
  {
   "cell_type": "code",
   "execution_count": null,
   "id": "04fdfe3d-450c-4f73-87dd-6b3f5cf3fda5",
   "metadata": {},
   "outputs": [],
   "source": [
    "Cell[()]"
   ]
  },
  {
   "cell_type": "code",
   "execution_count": null,
   "id": "8e460a0f-7f7f-4792-8854-9788b895011a",
   "metadata": {},
   "outputs": [],
   "source": [
    "class "
   ]
  }
 ],
 "metadata": {
  "kernelspec": {
   "display_name": "Python 3 (ipykernel)",
   "language": "python",
   "name": "python3"
  },
  "language_info": {
   "codemirror_mode": {
    "name": "ipython",
    "version": 3
   },
   "file_extension": ".py",
   "mimetype": "text/x-python",
   "name": "python",
   "nbconvert_exporter": "python",
   "pygments_lexer": "ipython3",
   "version": "3.9.5"
  }
 },
 "nbformat": 4,
 "nbformat_minor": 5
}
