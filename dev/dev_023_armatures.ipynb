{
 "cells": [
  {
   "cell_type": "code",
   "execution_count": null,
   "id": "0853e2e4-9f91-4945-82d0-332f101b6510",
   "metadata": {},
   "outputs": [],
   "source": [
    "###############################################################################\n",
    "import aliases"
   ]
  },
  {
   "cell_type": "code",
   "execution_count": null,
   "id": "4704bf3e-198d-4e1b-a076-d78cd15e5138",
   "metadata": {},
   "outputs": [],
   "source": [
    "from everest.ptolemaic.thing import Thing, ThingSpace\n",
    "from everest.ptolemaic.intt import Intt, InttSpace, InttLimit\n",
    "from everest.ptolemaic.tuuple import Tuuple, TuupleSpace"
   ]
  },
  {
   "cell_type": "code",
   "execution_count": null,
   "id": "4103759d-1663-4062-82aa-e3442356911e",
   "metadata": {},
   "outputs": [],
   "source": [
    "(0, 0) in Tuuple[Intt][2][0:12,][...,0:12]"
   ]
  },
  {
   "cell_type": "code",
   "execution_count": null,
   "id": "c18d67d3-b835-422d-9d60-f20dd374a926",
   "metadata": {},
   "outputs": [],
   "source": [
    "chora[2]"
   ]
  },
  {
   "cell_type": "code",
   "execution_count": null,
   "id": "115dc665-deef-4394-bde4-83729a03a54c",
   "metadata": {},
   "outputs": [],
   "source": [
    "Intt[0:2].__incision_manager__"
   ]
  },
  {
   "cell_type": "code",
   "execution_count": null,
   "id": "9dc4c323-400b-4d4e-9451-7eda4d78f0fd",
   "metadata": {},
   "outputs": [],
   "source": [
    "InttLimit(2)"
   ]
  },
  {
   "cell_type": "code",
   "execution_count": null,
   "id": "acf5cf04-9a78-4a51-92d3-1929c8ba8b7c",
   "metadata": {},
   "outputs": [],
   "source": [
    "'__getitem__' in InttLimit"
   ]
  },
  {
   "cell_type": "code",
   "execution_count": null,
   "id": "3500b580-1fce-44d5-bf3e-79aa6fa07ca6",
   "metadata": {},
   "outputs": [],
   "source": [
    "hasattr(InttLimit, '__getitem__')"
   ]
  },
  {
   "cell_type": "code",
   "execution_count": null,
   "id": "f8e44187-e0f7-444a-a513-65f673cfcdda",
   "metadata": {},
   "outputs": [],
   "source": [
    "dir(InttLimit)"
   ]
  },
  {
   "cell_type": "code",
   "execution_count": null,
   "id": "53023ac5-1064-4dd5-b589-df33aca50ef0",
   "metadata": {},
   "outputs": [],
   "source": [
    "hasattr(Intt[0:2]')"
   ]
  },
  {
   "cell_type": "code",
   "execution_count": null,
   "id": "18a52fb0-5089-4bbd-af40-4eb241334e2d",
   "metadata": {},
   "outputs": [],
   "source": [
    "dir(Intt[0:2])"
   ]
  },
  {
   "cell_type": "code",
   "execution_count": null,
   "id": "3f6861cf-1cbd-4cc4-b9af-b31e8215cc81",
   "metadata": {},
   "outputs": [],
   "source": [
    "Intt[0:2][0]"
   ]
  },
  {
   "cell_type": "code",
   "execution_count": null,
   "id": "fcfecf24-ac52-4a0a-8ad5-ca96ef87c756",
   "metadata": {},
   "outputs": [],
   "source": [
    "choras[0] == choras[1]"
   ]
  },
  {
   "cell_type": "code",
   "execution_count": null,
   "id": "e14d2ca2-76cb-474b-8341-d0341e9048da",
   "metadata": {},
   "outputs": [],
   "source": [
    "choras[0].hashID"
   ]
  },
  {
   "cell_type": "code",
   "execution_count": null,
   "id": "99228576-fa7b-423c-ae66-21319860b2ed",
   "metadata": {},
   "outputs": [],
   "source": [
    "choras[1].hashID"
   ]
  },
  {
   "cell_type": "code",
   "execution_count": null,
   "id": "d2d635bc-88a9-45b3-87a8-7ad6d0659709",
   "metadata": {},
   "outputs": [],
   "source": [
    "hash(choras[0])"
   ]
  },
  {
   "cell_type": "code",
   "execution_count": null,
   "id": "532abd6f-183e-4079-ae55-685f4336ba99",
   "metadata": {},
   "outputs": [],
   "source": [
    "hash(choras[1])"
   ]
  },
  {
   "cell_type": "code",
   "execution_count": null,
   "id": "75d9ea2e-4cbc-4eec-acd6-34aa463acb08",
   "metadata": {},
   "outputs": [],
   "source": [
    "chora = choras[0]"
   ]
  },
  {
   "cell_type": "code",
   "execution_count": null,
   "id": "3b84eb39-7c77-4841-b828-cb751466564f",
   "metadata": {},
   "outputs": [],
   "source": [
    "chora.__hash__()"
   ]
  },
  {
   "cell_type": "code",
   "execution_count": null,
   "id": "64a43f82-eede-42de-b076-74b19058a6dc",
   "metadata": {},
   "outputs": [],
   "source": [
    "from everest.ptolemaic.intt import IsoGrid"
   ]
  },
  {
   "cell_type": "code",
   "execution_count": null,
   "id": "64ea8610-0027-4898-b568-c8c1f1b1f0ee",
   "metadata": {},
   "outputs": [],
   "source": [
    "IsoGrid"
   ]
  },
  {
   "cell_type": "code",
   "execution_count": null,
   "id": "095d3914-c989-43fb-9ff2-5a38ecd1a9f2",
   "metadata": {},
   "outputs": [],
   "source": [
    "Tuuple[Intt].__incision_manager__.__incision_manager__.bound.IsoForm"
   ]
  },
  {
   "cell_type": "code",
   "execution_count": null,
   "id": "40e62ab5-2777-4aaa-bc92-09578e66d526",
   "metadata": {},
   "outputs": [],
   "source": []
  },
  {
   "cell_type": "code",
   "execution_count": null,
   "id": "12bdad9b-b2fb-47ee-bf88-68b5ec7d8131",
   "metadata": {},
   "outputs": [],
   "source": [
    "ThingSpace.__subclasshook__"
   ]
  },
  {
   "cell_type": "code",
   "execution_count": null,
   "id": "f5a99790-56c3-46d4-9ae9-e71dda63f426",
   "metadata": {},
   "outputs": [],
   "source": [
    "import abc"
   ]
  },
  {
   "cell_type": "code",
   "execution_count": null,
   "id": "26614db5-074f-45db-8d6f-31c43885c3e1",
   "metadata": {},
   "outputs": [],
   "source": [
    "class A(metaclass=abc.ABCMeta):\n",
    "    ...\n",
    "\n",
    "\n",
    "class B:\n",
    "    ...\n",
    "\n",
    "\n",
    "A.register(B)\n",
    "\n",
    "\n",
    "class C(B):\n",
    "    ...\n",
    "\n",
    "\n",
    "issubclass(C, A)"
   ]
  },
  {
   "cell_type": "code",
   "execution_count": null,
   "id": "b60ae5bc-062f-43ce-954b-a92bf1114406",
   "metadata": {},
   "outputs": [],
   "source": [
    "from everest.ptolemaic.essence import Essence\n",
    "\n",
    "\n",
    "class A(metaclass=Essence):\n",
    "    ...\n",
    "\n",
    "\n",
    "class B:\n",
    "    ...\n",
    "\n",
    "\n",
    "A.register(B)\n",
    "\n",
    "\n",
    "class C(B):\n",
    "    ...\n",
    "\n",
    "\n",
    "issubclass(C, A)"
   ]
  },
  {
   "cell_type": "code",
   "execution_count": null,
   "id": "7bfeba9a-993b-4a6d-9238-5ece2ea8e92f",
   "metadata": {},
   "outputs": [],
   "source": [
    "cellchora = Tuuple[Intt].__incision_manager__"
   ]
  },
  {
   "cell_type": "code",
   "execution_count": null,
   "id": "28ee155b-74dc-44ed-82b4-b5ca3b6fc42b",
   "metadata": {},
   "outputs": [],
   "source": [
    "cellchora[2]"
   ]
  },
  {
   "cell_type": "code",
   "execution_count": null,
   "id": "dbce680c-be98-4483-8a60-ec17622f11f9",
   "metadata": {},
   "outputs": [],
   "source": [
    "cellchora.__incision_manager__.getmeths[int]"
   ]
  },
  {
   "cell_type": "code",
   "execution_count": null,
   "id": "1921d715-db44-424c-ac5d-8d0fd2eee55b",
   "metadata": {},
   "outputs": [],
   "source": [
    "from everest.ptolemaic"
   ]
  },
  {
   "cell_type": "code",
   "execution_count": null,
   "id": "78aaf3ef-1ab6-4ad3-8bc8-c2c7351ff742",
   "metadata": {},
   "outputs": [],
   "source": [
    "set((Intt[:2],))"
   ]
  },
  {
   "cell_type": "code",
   "execution_count": null,
   "id": "958aa401-f2dc-4245-81c8-89614c303351",
   "metadata": {},
   "outputs": [],
   "source": [
    "Tuuple[Intt][2].choras"
   ]
  },
  {
   "cell_type": "code",
   "execution_count": null,
   "id": "1f9de45a-a211-4466-bbc2-a6742ff274be",
   "metadata": {},
   "outputs": [],
   "source": [
    "Tuuple[]"
   ]
  },
  {
   "cell_type": "code",
   "execution_count": null,
   "id": "528de87b-7a37-4106-b9f9-5f00b9776eae",
   "metadata": {},
   "outputs": [],
   "source": [
    "Tuuple[2][0, 0]"
   ]
  },
  {
   "cell_type": "code",
   "execution_count": null,
   "id": "7f05b060-0c19-4b1e-a8c7-47d9b5c53768",
   "metadata": {},
   "outputs": [],
   "source": []
  }
 ],
 "metadata": {
  "kernelspec": {
   "display_name": "Python 3 (ipykernel)",
   "language": "python",
   "name": "python3"
  },
  "language_info": {
   "codemirror_mode": {
    "name": "ipython",
    "version": 3
   },
   "file_extension": ".py",
   "mimetype": "text/x-python",
   "name": "python",
   "nbconvert_exporter": "python",
   "pygments_lexer": "ipython3",
   "version": "3.9.5"
  }
 },
 "nbformat": 4,
 "nbformat_minor": 5
}
