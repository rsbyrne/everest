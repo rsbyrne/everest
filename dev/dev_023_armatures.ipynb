{
 "cells": [
  {
   "cell_type": "code",
   "execution_count": null,
   "id": "0853e2e4-9f91-4945-82d0-332f101b6510",
   "metadata": {},
   "outputs": [],
   "source": [
    "###############################################################################\n",
    "import aliases"
   ]
  },
  {
   "cell_type": "code",
   "execution_count": null,
   "id": "5733e1a6-765e-4b60-b93e-22d5a903e99f",
   "metadata": {},
   "outputs": [],
   "source": [
    "from everest.ptolemaic.intt import Intt\n",
    "from everest.ptolemaic.floatt import Floatt\n",
    "from everest.ptolemaic.tuuple import Tuuple"
   ]
  },
  {
   "cell_type": "code",
   "execution_count": null,
   "id": "cf177ac8-2c3d-459a-8ad4-617333eae454",
   "metadata": {},
   "outputs": [],
   "source": [
    "from everest.ptolemaic.intt import SymGrid"
   ]
  },
  {
   "cell_type": "code",
   "execution_count": null,
   "id": "73ae6fab-1245-4a99-b8c8-6fa998bfc293",
   "metadata": {},
   "outputs": [],
   "source": [
    "Tuuple[Intt][3][0:2, :5][..., -2:, 2][0, 0]"
   ]
  },
  {
   "cell_type": "code",
   "execution_count": null,
   "id": "192b4819-c928-45be-96b5-fceeaef9ed30",
   "metadata": {},
   "outputs": [],
   "source": [
    "Tuuple[Floatt][3][0.:2., :5.][..., -2.:, 2.][1., 1.]"
   ]
  },
  {
   "cell_type": "code",
   "execution_count": null,
   "id": "b957cfa5-aff4-44d7-bf92-fefc37b9e252",
   "metadata": {},
   "outputs": [],
   "source": []
  }
 ],
 "metadata": {
  "kernelspec": {
   "display_name": "Python 3 (ipykernel)",
   "language": "python",
   "name": "python3"
  },
  "language_info": {
   "codemirror_mode": {
    "name": "ipython",
    "version": 3
   },
   "file_extension": ".py",
   "mimetype": "text/x-python",
   "name": "python",
   "nbconvert_exporter": "python",
   "pygments_lexer": "ipython3",
   "version": "3.9.5"
  }
 },
 "nbformat": 4,
 "nbformat_minor": 5
}
