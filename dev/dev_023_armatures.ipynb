{
 "cells": [
  {
   "cell_type": "code",
   "execution_count": null,
   "id": "0853e2e4-9f91-4945-82d0-332f101b6510",
   "metadata": {},
   "outputs": [],
   "source": [
    "###############################################################################\n",
    "import aliases"
   ]
  },
  {
   "cell_type": "code",
   "execution_count": null,
   "id": "99e75055-1def-4df7-a596-2a9afcfcded6",
   "metadata": {},
   "outputs": [],
   "source": [
    "from everest.ptolemaic import sig"
   ]
  },
  {
   "cell_type": "code",
   "execution_count": null,
   "id": "28a67aa1-ba02-46e2-a4aa-9bb52eb5941a",
   "metadata": {},
   "outputs": [],
   "source": [
    "from everest.ptolemaic.sprite import Sprite as _Sprite\n",
    "from everest.ptolemaic.essence import Essence as _Essence"
   ]
  },
  {
   "cell_type": "code",
   "execution_count": null,
   "id": "876bafbf-4d9b-4428-a88a-9edf87fda197",
   "metadata": {},
   "outputs": [],
   "source": [
    "from everest.ptolemaic.intt import Intt, InttRange"
   ]
  },
  {
   "cell_type": "code",
   "execution_count": null,
   "id": "4dfc9b65-2c1a-4adb-951d-3ec19bca9ec4",
   "metadata": {},
   "outputs": [],
   "source": [
    "Intt[10:]"
   ]
  },
  {
   "cell_type": "code",
   "execution_count": null,
   "id": "81eadc65-a980-4eef-8042-180de887ad55",
   "metadata": {},
   "outputs": [],
   "source": [
    "InttRange[:10,][0, 10,][0,]"
   ]
  },
  {
   "cell_type": "code",
   "execution_count": null,
   "id": "71086b6f-c302-48d9-a479-40fe4085d061",
   "metadata": {},
   "outputs": [],
   "source": [
    "B(1, 3)"
   ]
  },
  {
   "cell_type": "code",
   "execution_count": null,
   "id": "49c1fa85-81b1-4bf2-873e-d63df7df1bb1",
   "metadata": {},
   "outputs": [],
   "source": [
    "A.Concrete._fields"
   ]
  },
  {
   "cell_type": "code",
   "execution_count": null,
   "id": "8a82e387-f2fc-4b14-bb94-c40bfeb1976f",
   "metadata": {},
   "outputs": [],
   "source": [
    "import collections"
   ]
  },
  {
   "cell_type": "code",
   "execution_count": null,
   "id": "aa11020d-1c58-40ce-8ea1-25454a40e739",
   "metadata": {},
   "outputs": [],
   "source": [
    "mytup = collections.namedtuple('foo', ('a', 'b'), defaults=(1, 2))"
   ]
  },
  {
   "cell_type": "code",
   "execution_count": null,
   "id": "17931c7f-4af4-4e52-b47a-c1dd68bf9197",
   "metadata": {},
   "outputs": [],
   "source": [
    "mytup._field_defaults"
   ]
  },
  {
   "cell_type": "code",
   "execution_count": null,
   "id": "4acabd2e-eb7d-43de-86a6-47147450bfce",
   "metadata": {},
   "outputs": [],
   "source": [
    "A.Concrete._field_defaults"
   ]
  },
  {
   "cell_type": "code",
   "execution_count": null,
   "id": "b73bea5e-a4b4-4344-88ae-32f75740d72a",
   "metadata": {},
   "outputs": [],
   "source": [
    "import inspect"
   ]
  },
  {
   "cell_type": "code",
   "execution_count": null,
   "id": "5911131a-7838-4cae-922f-f9afbc1d0f9d",
   "metadata": {},
   "outputs": [],
   "source": [
    "inspect.Parameter"
   ]
  },
  {
   "cell_type": "code",
   "execution_count": null,
   "id": "90ea62d4-4d47-49e0-850a-805df523a0b7",
   "metadata": {},
   "outputs": [],
   "source": [
    "B.Concrete._field_defaultsa"
   ]
  },
  {
   "cell_type": "code",
   "execution_count": null,
   "id": "8813eddc-f70d-4fc4-8c98-b2145db2d732",
   "metadata": {},
   "outputs": [],
   "source": [
    "class A:\n",
    "    a = 1\n",
    "\n",
    "\n",
    "class B:\n",
    "    ..."
   ]
  },
  {
   "cell_type": "code",
   "execution_count": null,
   "id": "47c40e90-5e10-4773-acac-8c39c1e5a9d3",
   "metadata": {},
   "outputs": [],
   "source": [
    "del A.a"
   ]
  },
  {
   "cell_type": "code",
   "execution_count": null,
   "id": "073d3bd1-98e9-4860-9908-ee8c02093789",
   "metadata": {},
   "outputs": [],
   "source": []
  },
  {
   "cell_type": "code",
   "execution_count": null,
   "id": "5748a890-7328-4075-8ace-b02019c86130",
   "metadata": {},
   "outputs": [],
   "source": [
    "B.Concrete._field_defaults"
   ]
  },
  {
   "cell_type": "code",
   "execution_count": null,
   "id": "10efd41b-1b28-4b4a-9aeb-3e919e1f0540",
   "metadata": {},
   "outputs": [],
   "source": [
    "from everest.ptolemaic.ousia import Ousia"
   ]
  },
  {
   "cell_type": "code",
   "execution_count": null,
   "id": "0c9389db-6008-4f61-89fe-8f0bcd8305ca",
   "metadata": {},
   "outputs": [],
   "source": [
    "class MyClass(metaclass=Ousia):\n",
    "\n",
    "    @classmethod\n",
    "    def pre_create_concrete(cls, /):\n",
    "        name, bases, namespace = super().pre_create_concrete()\n",
    "        bases = (*bases, tuple)\n",
    "        namespace['__slots__'] = ()\n",
    "        return name, bases, namespace"
   ]
  },
  {
   "cell_type": "code",
   "execution_count": null,
   "id": "8ee73c0c-ab98-487c-9589-59404f061689",
   "metadata": {},
   "outputs": [],
   "source": [
    "MyClass(range(3))"
   ]
  },
  {
   "cell_type": "code",
   "execution_count": null,
   "id": "529fd98f-c371-4bc8-a121-614057dc4411",
   "metadata": {},
   "outputs": [],
   "source": []
  },
  {
   "cell_type": "code",
   "execution_count": null,
   "id": "419eeace-543b-42f8-b527-8d4f0fe48dac",
   "metadata": {},
   "outputs": [],
   "source": []
  },
  {
   "cell_type": "code",
   "execution_count": null,
   "id": "a617ae66-b28f-4d3e-a74f-724ad4dab5e3",
   "metadata": {},
   "outputs": [],
   "source": [
    "from everest.ptolemaic.armature import Armature as _Armature\n",
    "from everest.ptolemaic.essence import Essence as _Essence\n",
    "from everest.ptolemaic.sprite import Sprite as _Sprite\n",
    "from everest.ptolemaic.chora import Chora as _Chora, MultiBrace as _MultiBrace"
   ]
  },
  {
   "cell_type": "code",
   "execution_count": null,
   "id": "82ae2074-054c-4943-ae80-b0bf9d64ae12",
   "metadata": {},
   "outputs": [],
   "source": []
  },
  {
   "cell_type": "code",
   "execution_count": null,
   "id": "2f60a654-0f5f-4fe5-81f6-c3e6505de701",
   "metadata": {},
   "outputs": [],
   "source": [
    "B.Concrete._field_defaults"
   ]
  },
  {
   "cell_type": "code",
   "execution_count": null,
   "id": "31a7267e-ae26-4bf2-858a-4acf9efddb2f",
   "metadata": {},
   "outputs": [],
   "source": [
    "dir(B.Concrete)"
   ]
  },
  {
   "cell_type": "code",
   "execution_count": null,
   "id": "09d04b96-b407-47ac-bf3e-695d6bf8ef2b",
   "metadata": {},
   "outputs": [],
   "source": [
    "del B.Concrete.b"
   ]
  },
  {
   "cell_type": "code",
   "execution_count": null,
   "id": "793072a9-26be-4ab0-9392-d68696af7197",
   "metadata": {},
   "outputs": [],
   "source": [
    "B('bah')"
   ]
  },
  {
   "cell_type": "code",
   "execution_count": null,
   "id": "493c736e-b809-434f-8801-1ac7ff7e9cb7",
   "metadata": {},
   "outputs": [],
   "source": [
    "class Brace(tuple, metaclass=_Essence):\n",
    "\n",
    "    @classmethod\n",
    "    def __class_call__(cls, arg, /):\n",
    "        return cls.__new__(cls, arg)\n",
    "\n",
    "\n",
    "class Braceoid(_Chora, metaclass=_Sprite):\n",
    "\n",
    "    choras: tuple\n",
    "\n",
    "    class Choret(_MultiBrace):\n",
    "        ...\n",
    "\n",
    "    def __incise_retrieve__(self, incisor: tuple, /):\n",
    "        return Brace(incisor)"
   ]
  },
  {
   "cell_type": "code",
   "execution_count": null,
   "id": "a0c04666-f30e-4ab3-93c0-e9837a02a42b",
   "metadata": {},
   "outputs": [],
   "source": [
    "from everest.ptolemaic.intt import Intt"
   ]
  },
  {
   "cell_type": "code",
   "execution_count": null,
   "id": "886d5260-2f68-4981-91a9-1c7c85260a59",
   "metadata": {},
   "outputs": [],
   "source": [
    "braceoid = Braceoid((Intt, Intt, Intt))"
   ]
  },
  {
   "cell_type": "code",
   "execution_count": null,
   "id": "6442eaac-7772-495f-9677-75da7a3559c0",
   "metadata": {},
   "outputs": [],
   "source": [
    "braceoid[:10, 10:][0, 0, 0]"
   ]
  },
  {
   "cell_type": "code",
   "execution_count": null,
   "id": "28c0f6ce-dc1d-469e-8c9d-1fbadff9fb5d",
   "metadata": {},
   "outputs": [],
   "source": [
    "BraceShape(2)"
   ]
  },
  {
   "cell_type": "code",
   "execution_count": null,
   "id": "123dc3e9-aa74-4d48-963d-19d1212b7e3f",
   "metadata": {},
   "outputs": [],
   "source": []
  },
  {
   "cell_type": "code",
   "execution_count": null,
   "id": "3a6d3d83-fa50-4e62-995c-6efd93bc5079",
   "metadata": {},
   "outputs": [],
   "source": []
  },
  {
   "cell_type": "code",
   "execution_count": null,
   "id": "9efe92b3-397d-48b1-8b61-fdf9b6863449",
   "metadata": {},
   "outputs": [],
   "source": [
    "from everest.ptolemaic.sprite import Sprite as _Sprite\n",
    "\n",
    "from everest.ptolemaic.thing import *"
   ]
  },
  {
   "cell_type": "code",
   "execution_count": null,
   "id": "2fcbac14-f28a-43e3-8d23-78e8f3b13e38",
   "metadata": {},
   "outputs": [],
   "source": [
    "class ThingBrace(metaclass=_Sprite):\n",
    "\n",
    "    content: tuple\n",
    "\n",
    "    def __new__(cls, arg, /):\n",
    "        return super().__new__(cls, tuple(arg))"
   ]
  },
  {
   "cell_type": "code",
   "execution_count": null,
   "id": "e2f9310b-4877-4732-8f98-5a6e5a2bf284",
   "metadata": {},
   "outputs": [],
   "source": [
    "ThingBrace(('foo', 1))"
   ]
  },
  {
   "cell_type": "code",
   "execution_count": null,
   "id": "dba8ee3c-ddf3-4bb8-acd6-e4c53d4a4e00",
   "metadata": {},
   "outputs": [],
   "source": []
  }
 ],
 "metadata": {
  "kernelspec": {
   "display_name": "Python 3 (ipykernel)",
   "language": "python",
   "name": "python3"
  },
  "language_info": {
   "codemirror_mode": {
    "name": "ipython",
    "version": 3
   },
   "file_extension": ".py",
   "mimetype": "text/x-python",
   "name": "python",
   "nbconvert_exporter": "python",
   "pygments_lexer": "ipython3",
   "version": "3.9.5"
  }
 },
 "nbformat": 4,
 "nbformat_minor": 5
}
