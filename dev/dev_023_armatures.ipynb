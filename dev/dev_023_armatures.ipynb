{
 "cells": [
  {
   "cell_type": "code",
   "execution_count": null,
   "id": "0853e2e4-9f91-4945-82d0-332f101b6510",
   "metadata": {},
   "outputs": [],
   "source": [
    "###############################################################################\n",
    "import aliases"
   ]
  },
  {
   "cell_type": "code",
   "execution_count": null,
   "id": "5733e1a6-765e-4b60-b93e-22d5a903e99f",
   "metadata": {},
   "outputs": [],
   "source": [
    "from everest.ptolemaic.intt import Intt"
   ]
  },
  {
   "cell_type": "code",
   "execution_count": null,
   "id": "6ed5d061-36d0-4221-b943-cf9223b427af",
   "metadata": {},
   "outputs": [],
   "source": [
    "Intt[0:10][2:5]"
   ]
  },
  {
   "cell_type": "code",
   "execution_count": null,
   "id": "7b36ffa4-0f87-4bfb-a585-95fc8f920fdc",
   "metadata": {},
   "outputs": [],
   "source": [
    "from everest.ptolemaic.floatt import Floatt"
   ]
  },
  {
   "cell_type": "code",
   "execution_count": null,
   "id": "9f1510ab-6dac-48fa-b77a-547437fde77c",
   "metadata": {},
   "outputs": [],
   "source": [
    "Floatt[0.:]"
   ]
  },
  {
   "cell_type": "code",
   "execution_count": null,
   "id": "42e5113a-d48f-475c-8baf-965e06ff1815",
   "metadata": {},
   "outputs": [],
   "source": [
    "Floatt[-10.:][:100.][-20.:]"
   ]
  },
  {
   "cell_type": "code",
   "execution_count": null,
   "id": "91cc99d0-3a0d-4bed-bcb0-9b5801d72440",
   "metadata": {},
   "outputs": [],
   "source": []
  }
 ],
 "metadata": {
  "kernelspec": {
   "display_name": "Python 3 (ipykernel)",
   "language": "python",
   "name": "python3"
  },
  "language_info": {
   "codemirror_mode": {
    "name": "ipython",
    "version": 3
   },
   "file_extension": ".py",
   "mimetype": "text/x-python",
   "name": "python",
   "nbconvert_exporter": "python",
   "pygments_lexer": "ipython3",
   "version": "3.9.5"
  }
 },
 "nbformat": 4,
 "nbformat_minor": 5
}
