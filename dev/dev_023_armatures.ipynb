{
 "cells": [
  {
   "cell_type": "code",
   "execution_count": null,
   "id": "0853e2e4-9f91-4945-82d0-332f101b6510",
   "metadata": {},
   "outputs": [],
   "source": [
    "###############################################################################\n",
    "import aliases"
   ]
  },
  {
   "cell_type": "code",
   "execution_count": null,
   "id": "969c5f0c-a89a-46f1-b80a-96e6cf4f0274",
   "metadata": {},
   "outputs": [],
   "source": [
    "from everest.ptolemaic.intt import Intt\n",
    "from everest.ptolemaic.tuuple import Tuuple\n",
    "from everest.ur import Var"
   ]
  },
  {
   "cell_type": "code",
   "execution_count": null,
   "id": "aa776851-1149-433d-b701-541ef60bd638",
   "metadata": {},
   "outputs": [],
   "source": [
    "mycell = Intt[Tuuple[2]][Var]"
   ]
  },
  {
   "cell_type": "code",
   "execution_count": null,
   "id": "575a7521-2811-417e-9227-669497dc1d6a",
   "metadata": {},
   "outputs": [],
   "source": [
    "mycell.value = (2, 3)"
   ]
  }
 ],
 "metadata": {
  "kernelspec": {
   "display_name": "Python 3 (ipykernel)",
   "language": "python",
   "name": "python3"
  },
  "language_info": {
   "codemirror_mode": {
    "name": "ipython",
    "version": 3
   },
   "file_extension": ".py",
   "mimetype": "text/x-python",
   "name": "python",
   "nbconvert_exporter": "python",
   "pygments_lexer": "ipython3",
   "version": "3.9.5"
  }
 },
 "nbformat": 4,
 "nbformat_minor": 5
}
