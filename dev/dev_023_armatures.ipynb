{
 "cells": [
  {
   "cell_type": "code",
   "execution_count": null,
   "id": "0853e2e4-9f91-4945-82d0-332f101b6510",
   "metadata": {},
   "outputs": [],
   "source": [
    "###############################################################################\n",
    "import aliases"
   ]
  },
  {
   "cell_type": "code",
   "execution_count": null,
   "id": "d75fc9c1-26f6-48a3-b480-062d869e8efc",
   "metadata": {},
   "outputs": [],
   "source": [
    "from everest.ptolemaic.bythos import Bythos as _Bythos\n",
    "from everest.ptolemaic.sprite import Sprite as _Sprite\n",
    "from everest.ptolemaic import thing as _thing\n",
    "from everest.ptolemaic.chora import Chora as _Chora, MultiBrace as _MultiBrace"
   ]
  },
  {
   "cell_type": "code",
   "execution_count": null,
   "id": "5a2d7af2-7dfb-4c7e-926a-9567423f52ae",
   "metadata": {},
   "outputs": [],
   "source": [
    "class TuupleLike(_thing.ThingLike):\n",
    "    ...\n",
    "\n",
    "\n",
    "class TuupleElement(_thing.ThingElement):\n",
    "    ...\n",
    "\n",
    "\n",
    "class TuupleGeneric(_thing.ThingGeneric):\n",
    "    ...\n",
    "\n",
    "\n",
    "class TuupleVar(_thing.ThingVar):\n",
    "    ...\n",
    "\n",
    "\n",
    "class TuuplOid(_Chora, _thing.ThingOid, metaclass=_Sprite):\n",
    "\n",
    "    choras: tuple\n",
    "\n",
    "    Choret = _MultiBrace\n",
    "\n",
    "    def __len__(self, /):\n",
    "        return len(self.choras)\n",
    "\n",
    "    __incise_generic__ = property(TuupleGeneric)\n",
    "    __incise_variable__ = property(TuupleVar)\n",
    "\n",
    "    def __call__(self, arg, /):\n",
    "        raise NotImplementedError\n",
    "\n",
    "    @property\n",
    "    def __incise__(self, /):\n",
    "        return self.Choret(self).__incise__\n",
    "\n",
    "\n",
    "class TuupleSpace(_thing.ThingSpace):\n",
    "\n",
    "    @property\n",
    "    def __incise_generic__(self, /):\n",
    "        return TuupleGeneric(self.bound)\n",
    "\n",
    "    @property\n",
    "    def __incise_variable__(self, /):\n",
    "        return TuupleVar(self.bound)\n",
    "\n",
    "    def retrieve_contains(self, incisor: tuple, /):\n",
    "        return TuuplOid(incisor)\n",
    "\n",
    "\n",
    "class Tuuple(metaclass=_Bythos):\n",
    "\n",
    "    @classmethod\n",
    "    def __class_get_incision_manager__(cls, /):\n",
    "        return TuupleSpace(cls)\n",
    "\n",
    "    @classmethod\n",
    "    def __class_contains__(cls, arg, /):\n",
    "        return isinstance(arg, tuple)\n",
    "\n",
    "    @classmethod\n",
    "    def __class_call__(cls, arg, /):\n",
    "        return tuple(arg)\n",
    "\n",
    "\n"
   ]
  },
  {
   "cell_type": "code",
   "execution_count": null,
   "id": "697ce2da-611c-4569-a404-b55f65d5589b",
   "metadata": {},
   "outputs": [],
   "source": [
    "from everest.ptolemaic.intt import Intt\n",
    "from everest import ur"
   ]
  },
  {
   "cell_type": "code",
   "execution_count": null,
   "id": "d61454e6-a48a-4067-be7e-f148d438ede2",
   "metadata": {},
   "outputs": [],
   "source": [
    "TuuplOid.__contains__"
   ]
  },
  {
   "cell_type": "code",
   "execution_count": null,
   "id": "331ff284-950e-44dc-b75b-3a4bcb00d6c1",
   "metadata": {},
   "outputs": [],
   "source": [
    "myobj = Tuuple[Intt[0:], Intt[0:], Intt[0:]][:10, :10, :10]"
   ]
  },
  {
   "cell_type": "code",
   "execution_count": null,
   "id": "4c2d245a-147b-4f8a-afbe-ae26549f98ff",
   "metadata": {},
   "outputs": [],
   "source": [
    "myvar = Tuuple[Intt[0:], Intt[0:], Intt[0:]][:10, :10, :10][ur.Var]"
   ]
  },
  {
   "cell_type": "code",
   "execution_count": null,
   "id": "dba8ee3c-ddf3-4bb8-acd6-e4c53d4a4e00",
   "metadata": {},
   "outputs": [],
   "source": []
  }
 ],
 "metadata": {
  "kernelspec": {
   "display_name": "Python 3 (ipykernel)",
   "language": "python",
   "name": "python3"
  },
  "language_info": {
   "codemirror_mode": {
    "name": "ipython",
    "version": 3
   },
   "file_extension": ".py",
   "mimetype": "text/x-python",
   "name": "python",
   "nbconvert_exporter": "python",
   "pygments_lexer": "ipython3",
   "version": "3.9.5"
  }
 },
 "nbformat": 4,
 "nbformat_minor": 5
}
