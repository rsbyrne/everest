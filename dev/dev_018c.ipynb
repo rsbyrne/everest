{
 "cells": [
  {
   "cell_type": "code",
   "execution_count": null,
   "id": "86719124-b4a8-4d1d-b7cd-ce71dae166f3",
   "metadata": {},
   "outputs": [],
   "source": [
    "###############################################################################\n",
    "import aliases"
   ]
  },
  {
   "cell_type": "code",
   "execution_count": null,
   "id": "d0be6588-8df5-45cc-97d6-2dfedf381791",
   "metadata": {},
   "outputs": [],
   "source": [
    "import inspect as _inspect\n",
    "\n",
    "from everest.ptolemaic.params import Param, Sig, GENERIC\n",
    "from everest.ptolemaic.chora import Chora"
   ]
  },
  {
   "cell_type": "code",
   "execution_count": null,
   "id": "e1f586bc-1afa-4f69-ae75-ae0a8539d6c9",
   "metadata": {},
   "outputs": [],
   "source": [
    "class MyDict(Chora):\n",
    "\n",
    "    FIELDS = (_inspect.Parameter('content', 4),)\n",
    "\n",
    "    def retrieve_strn(self, incisor: str, /):\n",
    "        return self.content[incisor]\n",
    "\n",
    "    def incise_set(self, incisor: set, /):\n",
    "        return self.__class_call__(\n",
    "            **{key: self.content[key] for key in sorted(incisor)}\n",
    "            )\n",
    "\n",
    "\n",
    "class MyStrRepeater(Chora):\n",
    "\n",
    "    repetitions: int = 1\n",
    "\n",
    "    def retrieve_strn(self, incisor: str, /):\n",
    "        return incisor * self.repetitions"
   ]
  },
  {
   "cell_type": "code",
   "execution_count": null,
   "id": "5ea31f19-6832-4c4c-b35e-501934d0508d",
   "metadata": {},
   "outputs": [],
   "source": [
    "mydct = MyDict(aa=1, bb=2, cc=3)\n",
    "myrep = MyStrRepeater(2)\n",
    "mysig = Sig(\n",
    "    foo=Param.Pos[mydct],\n",
    "    bah=Param.PosKw[mydct](1),\n",
    "    boo=Param.Kw[mydct],\n",
    "    )[myrep, myrep, myrep]\n",
    "myparams = mysig['a', 'b', 'c']"
   ]
  },
  {
   "cell_type": "code",
   "execution_count": null,
   "id": "326661c9-a37c-4f0a-aed4-160313a5fd66",
   "metadata": {},
   "outputs": [],
   "source": [
    "myparams['foo']"
   ]
  },
  {
   "cell_type": "code",
   "execution_count": null,
   "id": "e0ec58b5-f599-45ab-aa18-d43ba7c6e63d",
   "metadata": {},
   "outputs": [],
   "source": []
  }
 ],
 "metadata": {
  "kernelspec": {
   "display_name": "Python 3 (ipykernel)",
   "language": "python",
   "name": "python3"
  },
  "language_info": {
   "codemirror_mode": {
    "name": "ipython",
    "version": 3
   },
   "file_extension": ".py",
   "mimetype": "text/x-python",
   "name": "python",
   "nbconvert_exporter": "python",
   "pygments_lexer": "ipython3",
   "version": "3.9.5"
  }
 },
 "nbformat": 4,
 "nbformat_minor": 5
}
