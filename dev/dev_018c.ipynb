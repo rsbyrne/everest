{
 "cells": [
  {
   "cell_type": "code",
   "execution_count": null,
   "id": "86719124-b4a8-4d1d-b7cd-ce71dae166f3",
   "metadata": {},
   "outputs": [],
   "source": [
    "###############################################################################\n",
    "import aliases"
   ]
  },
  {
   "cell_type": "code",
   "execution_count": null,
   "id": "d0be6588-8df5-45cc-97d6-2dfedf381791",
   "metadata": {},
   "outputs": [],
   "source": [
    "import inspect as _inspect\n",
    "\n",
    "from everest.ptolemaic.params import Param, Sig, GENERIC\n",
    "from everest.ptolemaic.chora import Chora, MultiMapp"
   ]
  },
  {
   "cell_type": "code",
   "execution_count": null,
   "id": "e1f586bc-1afa-4f69-ae75-ae0a8539d6c9",
   "metadata": {},
   "outputs": [],
   "source": [
    "class MyDict(Chora):\n",
    "\n",
    "    FIELDS = (_inspect.Parameter('content', 4),)\n",
    "\n",
    "    def retrieve_strn(self, incisor: str, /):\n",
    "        return self.content[incisor]\n",
    "\n",
    "    def incise_set(self, incisor: set, /):\n",
    "        print(incisor)\n",
    "        print(self, type(self))\n",
    "        print(self[tuple(incisor)[0]])\n",
    "        return self.__class_call__(\n",
    "            **{key: self[key] for key in sorted(incisor)}\n",
    "            )\n",
    "\n",
    "\n",
    "class MyStrRepeater(Chora):\n",
    "\n",
    "    repetitions: int = 1\n",
    "\n",
    "    def retrieve_strn(self, incisor: str, /):\n",
    "        return incisor * self.repetitions"
   ]
  },
  {
   "cell_type": "code",
   "execution_count": null,
   "id": "1547abbd-08b6-4f82-b464-cd2075f5a451",
   "metadata": {},
   "outputs": [],
   "source": [
    "mydct = MyDict(aa=1, bb=2, cc=3)\n",
    "myrep = MyStrRepeater(2)"
   ]
  },
  {
   "cell_type": "code",
   "execution_count": null,
   "id": "8f4d784e-1fa6-473c-805f-f3420fcf879a",
   "metadata": {},
   "outputs": [],
   "source": [
    "mydct[myrep][{'aa', 'bb'}]"
   ]
  },
  {
   "cell_type": "code",
   "execution_count": null,
   "id": "39c3b928-4c68-4bdd-898f-2ab10fa8ea24",
   "metadata": {},
   "outputs": [],
   "source": [
    "mydct = MyDict(aa=1, bb=2, cc=3)\n",
    "myrep = MyStrRepeater(2)\n",
    "mysig = Sig(\n",
    "    foo=Param.Pos[mydct],\n",
    "    bah=Param.PosKw[mydct](1),\n",
    "    boo=Param.Kw[mydct],\n",
    "    )[myrep, myrep, myrep]\n",
    "mysig['a', ..., 'a']['a',]"
   ]
  },
  {
   "cell_type": "code",
   "execution_count": null,
   "id": "12cf1e19-8221-4219-83e4-2058c816c149",
   "metadata": {},
   "outputs": [],
   "source": [
    "mysig[{'aa', 'bb'}, {'bb', 'cc'}, 'c']"
   ]
  },
  {
   "cell_type": "code",
   "execution_count": null,
   "id": "d3aabedd-69ee-4d9c-85e4-5152390fba62",
   "metadata": {},
   "outputs": [],
   "source": []
  },
  {
   "cell_type": "code",
   "execution_count": null,
   "id": "b42dbe38-76b7-4cf0-bdff-3cb55e46b03f",
   "metadata": {},
   "outputs": [],
   "source": []
  }
 ],
 "metadata": {
  "kernelspec": {
   "display_name": "Python 3 (ipykernel)",
   "language": "python",
   "name": "python3"
  },
  "language_info": {
   "codemirror_mode": {
    "name": "ipython",
    "version": 3
   },
   "file_extension": ".py",
   "mimetype": "text/x-python",
   "name": "python",
   "nbconvert_exporter": "python",
   "pygments_lexer": "ipython3",
   "version": "3.9.5"
  }
 },
 "nbformat": 4,
 "nbformat_minor": 5
}
