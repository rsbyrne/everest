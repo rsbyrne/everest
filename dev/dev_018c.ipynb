{
 "cells": [
  {
   "cell_type": "code",
   "execution_count": null,
   "id": "86719124-b4a8-4d1d-b7cd-ce71dae166f3",
   "metadata": {},
   "outputs": [],
   "source": [
    "###############################################################################\n",
    "import aliases"
   ]
  },
  {
   "cell_type": "code",
   "execution_count": null,
   "id": "a8e7773a-da7b-4a67-9e09-14648d640838",
   "metadata": {},
   "outputs": [],
   "source": [
    "from everest.ptolemaic.chora import *\n",
    "from everest.ptolemaic.armature import Armature as _Armature\n",
    "from everest.utilities import caching as _caching"
   ]
  },
  {
   "cell_type": "code",
   "execution_count": null,
   "id": "d0be6588-8df5-45cc-97d6-2dfedf381791",
   "metadata": {},
   "outputs": [],
   "source": [
    "from everest.ptolemaic.params import Param, Sig\n",
    "from everest.ptolemaic.chora import *\n",
    "\n",
    "import inspect as _inspect"
   ]
  },
  {
   "cell_type": "code",
   "execution_count": null,
   "id": "e1f586bc-1afa-4f69-ae75-ae0a8539d6c9",
   "metadata": {},
   "outputs": [],
   "source": [
    "class MyDict(Chora):\n",
    "\n",
    "    FIELDS = (_inspect.Parameter('content', 4),)\n",
    "\n",
    "    def retrieve_strn(self, incisor: str, /):\n",
    "        return self.content[incisor]\n",
    "\n",
    "    def incise_set(self, incisor: set, /):\n",
    "        return self.__class_call__(\n",
    "            **{key: self.content[key] for key in sorted(incisor)}\n",
    "            )"
   ]
  },
  {
   "cell_type": "code",
   "execution_count": null,
   "id": "292e530e-524e-4119-9ce0-f7568a43b78d",
   "metadata": {},
   "outputs": [],
   "source": [
    "mydct = MyDict(a=1, b=2, c=3)"
   ]
  },
  {
   "cell_type": "code",
   "execution_count": null,
   "id": "326661c9-a37c-4f0a-aed4-160313a5fd66",
   "metadata": {},
   "outputs": [],
   "source": [
    "mysig = Sig(\n",
    "    foo=Param[mydct],\n",
    "    bah=Param[mydct],\n",
    "    boo=Param[mydct],\n",
    "    )"
   ]
  },
  {
   "cell_type": "code",
   "execution_count": null,
   "id": "82ed9258-bb11-40ae-98c9-335c44545d79",
   "metadata": {},
   "outputs": [],
   "source": [
    "mysig['a',]"
   ]
  },
  {
   "cell_type": "code",
   "execution_count": null,
   "id": "172fb044-c720-44c7-a778-42e22bf2829a",
   "metadata": {},
   "outputs": [],
   "source": [
    "mysig['a',...,'b']"
   ]
  },
  {
   "cell_type": "code",
   "execution_count": null,
   "id": "74f4ad42-eb4b-43e0-8363-f87b3477976e",
   "metadata": {},
   "outputs": [],
   "source": [
    "mysig[dict(foo='a')][...,'b']"
   ]
  },
  {
   "cell_type": "code",
   "execution_count": null,
   "id": "f8bee710-3497-470d-8ad5-5b290a19ab57",
   "metadata": {},
   "outputs": [],
   "source": [
    "mysig['a', ..., {'a', 'b'}]"
   ]
  },
  {
   "cell_type": "code",
   "execution_count": null,
   "id": "dff37b69-a48c-4e4e-855b-1199a2313390",
   "metadata": {},
   "outputs": [],
   "source": []
  }
 ],
 "metadata": {
  "kernelspec": {
   "display_name": "Python 3 (ipykernel)",
   "language": "python",
   "name": "python3"
  },
  "language_info": {
   "codemirror_mode": {
    "name": "ipython",
    "version": 3
   },
   "file_extension": ".py",
   "mimetype": "text/x-python",
   "name": "python",
   "nbconvert_exporter": "python",
   "pygments_lexer": "ipython3",
   "version": "3.9.5"
  }
 },
 "nbformat": 4,
 "nbformat_minor": 5
}
