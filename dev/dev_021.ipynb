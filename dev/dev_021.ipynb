{
 "cells": [
  {
   "cell_type": "code",
   "execution_count": null,
   "id": "23e3e48f-8d6b-4212-a1ee-ce1132a4165f",
   "metadata": {},
   "outputs": [],
   "source": [
    "###############################################################################\n",
    "import aliases"
   ]
  },
  {
   "cell_type": "code",
   "execution_count": null,
   "id": "97923854-781b-427f-8a13-b955de27c1d4",
   "metadata": {},
   "outputs": [],
   "source": [
    "from everest.ptolemaic.chora import ElementType\n",
    "from everest.ptolemaic.fundaments.booll import Booll"
   ]
  },
  {
   "cell_type": "code",
   "execution_count": null,
   "id": "737e0fe6-5fd2-4dc0-b5c1-f03e848f07a9",
   "metadata": {},
   "outputs": [],
   "source": [
    "Booll[ElementType.VARIABLE]"
   ]
  },
  {
   "cell_type": "code",
   "execution_count": null,
   "id": "c601c991-bf43-4353-9710-42904f774cd6",
   "metadata": {},
   "outputs": [],
   "source": []
  },
  {
   "cell_type": "code",
   "execution_count": null,
   "id": "70d2987d-64a4-4b59-aaed-c64aca6527af",
   "metadata": {},
   "outputs": [],
   "source": [
    "from everest.ptolemaic import chora as _chora\n",
    "from everest.ptolemaic.essence import Essence as _Essence\n",
    "from everest.ptolemaic.eidos import Eidos as _Eidos"
   ]
  },
  {
   "cell_type": "code",
   "execution_count": null,
   "id": "ef64d063-60a1-4f70-8f62-c0d27673c8e0",
   "metadata": {
    "tags": []
   },
   "outputs": [],
   "source": [
    "@_chora.Chora\n",
    "class MyChoric(metaclass=_Eidos):\n",
    "    ..."
   ]
  },
  {
   "cell_type": "code",
   "execution_count": null,
   "id": "839491fa-99aa-48a8-ac58-011fd42eb096",
   "metadata": {},
   "outputs": [],
   "source": [
    "myobj = MyChoric()"
   ]
  },
  {
   "cell_type": "code",
   "execution_count": null,
   "id": "fffc6287-a9ae-4bad-bfd2-1292e92e9755",
   "metadata": {},
   "outputs": [],
   "source": [
    "myobj[...]"
   ]
  },
  {
   "cell_type": "code",
   "execution_count": null,
   "id": "823aa504-fe47-4a4d-9059-f2d0787ab74c",
   "metadata": {},
   "outputs": [],
   "source": [
    "from everest.incision import Incisable"
   ]
  },
  {
   "cell_type": "code",
   "execution_count": null,
   "id": "dd7b3b1e-78c9-4ab8-baba-f0be44677e2c",
   "metadata": {},
   "outputs": [],
   "source": [
    "_chora.Chora.REQMETHS"
   ]
  },
  {
   "cell_type": "code",
   "execution_count": null,
   "id": "1dabce2e-d92d-44e9-b770-746d1fbdcc3b",
   "metadata": {},
   "outputs": [],
   "source": [
    "_chora.ChoraBase.REQMETHS"
   ]
  },
  {
   "cell_type": "code",
   "execution_count": null,
   "id": "cbd6c003-435e-4c27-80de-46401c75b754",
   "metadata": {},
   "outputs": [],
   "source": [
    "MyChoric()"
   ]
  },
  {
   "cell_type": "code",
   "execution_count": null,
   "id": "8d51a668-f3be-4075-bd7b-7f3d03a8e494",
   "metadata": {},
   "outputs": [],
   "source": [
    "@_chora.ChoraBase\n",
    "class Bythic(_Essence):\n",
    "\n",
    "    def __init__("
   ]
  },
  {
   "cell_type": "code",
   "execution_count": null,
   "id": "d54ae0eb-051f-4e49-bfa7-b5e2c0a37e8b",
   "metadata": {},
   "outputs": [],
   "source": [
    "with _Essence.mutable:\n",
    "    _Essence"
   ]
  },
  {
   "cell_type": "code",
   "execution_count": null,
   "id": "7149e073-a4a0-4331-b713-c8b0f6831713",
   "metadata": {},
   "outputs": [],
   "source": []
  },
  {
   "cell_type": "code",
   "execution_count": null,
   "id": "2d05e7cc-8f7c-468d-9a74-15d70493443e",
   "metadata": {},
   "outputs": [],
   "source": []
  },
  {
   "cell_type": "code",
   "execution_count": null,
   "id": "84f91c88-ee43-464d-90bf-16e67864f814",
   "metadata": {},
   "outputs": [],
   "source": [
    "import abc as _abc\n",
    "from collections import abc as _collabc\n",
    "\n",
    "from everest.ptolemaic.chora import Chora as _Chora, ChoraBase as _ChoraBase\n",
    "from everest.ptolemaic.essence import Essence as _Essence\n",
    "from everest.ptolemaic.eidos import Eidos as _Eidos\n",
    "from everest.ptolemaic.chora import ElementType"
   ]
  },
  {
   "cell_type": "code",
   "execution_count": null,
   "id": "acc6af4a-af99-411d-a821-5364d341a712",
   "metadata": {},
   "outputs": [],
   "source": [
    "class PredicateBase(metaclass=_Essence):\n",
    "\n",
    "    @_abc.abstractmethod\n",
    "    def __call__(self, arg, /) -> bool:\n",
    "        raise NotImplementedError\n",
    "\n",
    "    @property\n",
    "    def __incise_retrieve__(self, /) -> bool:\n",
    "        return self\n",
    "\n",
    "    def __contains__(self, arg, /):\n",
    "        return isinstance(arg, bool)\n",
    "\n",
    "\n",
    "class PredicateChora(metaclass=_Chora):\n",
    "\n",
    "    def retrieve_object(self, incisor: object, /):\n",
    "        return incisor\n",
    "\n",
    "\n",
    "@PredicateChora\n",
    "class Predicate(PredicateBase, metaclass=_Eidos):\n",
    "\n",
    "    __call__: _collabc.Callable\n",
    "\n",
    "\n",
    "@_ChoraBase\n",
    "class Sett(metaclass=_Eidos):\n",
    "\n",
    "    __contains__: Predicate\n",
    "\n",
    "\n",
    "mysett = Sett(Predicate(lambda x: x > 10))\n",
    "assert mysett[...] is mysett\n",
    "assert 1 not in mysett and 11 in mysett\n",
    "assert mysett.iselement(mysett[ElementType.GENERIC])"
   ]
  },
  {
   "cell_type": "code",
   "execution_count": null,
   "id": "81b181ab-6b71-4ea9-9c48-b31176024c5f",
   "metadata": {},
   "outputs": [],
   "source": [
    "var = mysett[ElementType.VARIABLE]"
   ]
  },
  {
   "cell_type": "code",
   "execution_count": null,
   "id": "8958c806-0a4f-420d-a56d-a4c4cb5a179d",
   "metadata": {},
   "outputs": [],
   "source": [
    "var.value = 111"
   ]
  },
  {
   "cell_type": "code",
   "execution_count": null,
   "id": "11821ba8-a1ef-4ae7-9248-37821759d926",
   "metadata": {},
   "outputs": [],
   "source": [
    "var.value = 120"
   ]
  },
  {
   "cell_type": "code",
   "execution_count": null,
   "id": "ea8c9861-4335-40bb-9cf4-9e707e24e09f",
   "metadata": {},
   "outputs": [],
   "source": [
    "var.value"
   ]
  },
  {
   "cell_type": "code",
   "execution_count": null,
   "id": "cca5637c-8562-4d19-b025-24f55283357f",
   "metadata": {},
   "outputs": [],
   "source": [
    "del var.value"
   ]
  },
  {
   "cell_type": "code",
   "execution_count": null,
   "id": "99cbee4b-6d7c-4111-bd50-900682fa6855",
   "metadata": {},
   "outputs": [],
   "source": [
    "var.value = 120"
   ]
  },
  {
   "cell_type": "code",
   "execution_count": null,
   "id": "33a4fe9f-4ebc-4757-9568-cd26d67aee83",
   "metadata": {},
   "outputs": [],
   "source": [
    "from everest.ptolemaic.protean "
   ]
  },
  {
   "cell_type": "code",
   "execution_count": null,
   "id": "f46c70ad-7119-495f-8a01-1a2062350247",
   "metadata": {},
   "outputs": [],
   "source": [
    "mypred = Predicate"
   ]
  }
 ],
 "metadata": {
  "kernelspec": {
   "display_name": "Python 3 (ipykernel)",
   "language": "python",
   "name": "python3"
  },
  "language_info": {
   "codemirror_mode": {
    "name": "ipython",
    "version": 3
   },
   "file_extension": ".py",
   "mimetype": "text/x-python",
   "name": "python",
   "nbconvert_exporter": "python",
   "pygments_lexer": "ipython3",
   "version": "3.9.5"
  }
 },
 "nbformat": 4,
 "nbformat_minor": 5
}
