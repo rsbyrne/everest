{
 "cells": [
  {
   "cell_type": "code",
   "execution_count": null,
   "id": "23e3e48f-8d6b-4212-a1ee-ce1132a4165f",
   "metadata": {},
   "outputs": [],
   "source": [
    "###############################################################################\n",
    "import aliases"
   ]
  },
  {
   "cell_type": "code",
   "execution_count": null,
   "id": "8125921b-cdc1-4a53-b39f-5c18da775f94",
   "metadata": {},
   "outputs": [],
   "source": [
    "from everest.ptolemaic.int import Int, IntRange\n",
    "from everest.ur import *"
   ]
  },
  {
   "cell_type": "code",
   "execution_count": null,
   "id": "cd00c444-7119-40c4-84e0-d210c72c284d",
   "metadata": {},
   "outputs": [],
   "source": [
    "from everest.ptolemaic.schema import Schema"
   ]
  },
  {
   "cell_type": "code",
   "execution_count": null,
   "id": "925bdb62-e72f-495f-9832-64699836a590",
   "metadata": {},
   "outputs": [],
   "source": [
    "class MySchema(metaclass=Schema):\n",
    "\n",
    "    a: Int\n",
    "    b: Int\n",
    "    c: Int"
   ]
  },
  {
   "cell_type": "code",
   "execution_count": null,
   "id": "b4dd5ee3-dcc1-4406-b852-472a87764c90",
   "metadata": {},
   "outputs": [],
   "source": [
    "myschemoid = MySchema[:10, :3, 5:]"
   ]
  },
  {
   "cell_type": "code",
   "execution_count": null,
   "id": "60ced47f-78ca-46e8-bd69-616467efea72",
   "metadata": {},
   "outputs": [],
   "source": [
    "myschemoid.epitaph.decode().hashID"
   ]
  },
  {
   "cell_type": "code",
   "execution_count": null,
   "id": "3785cef4-bb64-479a-9940-1e00d0f185a8",
   "metadata": {},
   "outputs": [],
   "source": [
    "myschemoid[...].hashID"
   ]
  },
  {
   "cell_type": "code",
   "execution_count": null,
   "id": "7109487f-78ab-4f2c-85cc-f73f4da24a2f",
   "metadata": {},
   "outputs": [],
   "source": []
  }
 ],
 "metadata": {
  "kernelspec": {
   "display_name": "Python 3 (ipykernel)",
   "language": "python",
   "name": "python3"
  },
  "language_info": {
   "codemirror_mode": {
    "name": "ipython",
    "version": 3
   },
   "file_extension": ".py",
   "mimetype": "text/x-python",
   "name": "python",
   "nbconvert_exporter": "python",
   "pygments_lexer": "ipython3",
   "version": "3.9.5"
  }
 },
 "nbformat": 4,
 "nbformat_minor": 5
}
