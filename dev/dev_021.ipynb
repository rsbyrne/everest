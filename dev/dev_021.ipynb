{
 "cells": [
  {
   "cell_type": "code",
   "execution_count": null,
   "id": "23e3e48f-8d6b-4212-a1ee-ce1132a4165f",
   "metadata": {},
   "outputs": [],
   "source": [
    "###############################################################################\n",
    "import aliases"
   ]
  },
  {
   "cell_type": "code",
   "execution_count": null,
   "id": "044e1039-cd13-4432-b83e-2c5bf61ef20e",
   "metadata": {},
   "outputs": [],
   "source": [
    "from everest.ptolemaic.schema import Schema\n",
    "from everest.ptolemaic import fundament\n",
    "from everest.ptolemaic.sig import Field"
   ]
  },
  {
   "cell_type": "code",
   "execution_count": null,
   "id": "54643c93-3568-4c75-9815-20597462d737",
   "metadata": {},
   "outputs": [],
   "source": [
    "class MyClass(metaclass=Schema):\n",
    "    a: Field.Pos[fundament.Int]\n",
    "    b: Field[fundament.Real]\n",
    "    c: Field.Kw[fundament.Str]"
   ]
  },
  {
   "cell_type": "code",
   "execution_count": null,
   "id": "6d7113f5-1f65-4402-a296-9cdd35316b57",
   "metadata": {},
   "outputs": [],
   "source": [
    "myobj = MyClass(1, 2., c='c')"
   ]
  },
  {
   "cell_type": "code",
   "execution_count": null,
   "id": "565a08f1-0b51-4bbb-be7d-15c302e4f314",
   "metadata": {},
   "outputs": [],
   "source": [
    "myobj.epitaph"
   ]
  },
  {
   "cell_type": "code",
   "execution_count": null,
   "id": "9c57b0d4-c4b5-48df-b36b-9efadcecec5a",
   "metadata": {},
   "outputs": [],
   "source": [
    "myobj.hashID"
   ]
  },
  {
   "cell_type": "code",
   "execution_count": null,
   "id": "e274678c-5a46-4ed8-90ed-ea39f34bd92e",
   "metadata": {},
   "outputs": [],
   "source": [
    "repr(myobj)"
   ]
  },
  {
   "cell_type": "code",
   "execution_count": null,
   "id": "95027349-7444-4029-a3f2-4c1e9e2b6484",
   "metadata": {},
   "outputs": [],
   "source": [
    "MyClass[1, 2.]['c',]"
   ]
  },
  {
   "cell_type": "code",
   "execution_count": null,
   "id": "b5fd6800-29a5-4893-a9be-6170d5f3c24e",
   "metadata": {},
   "outputs": [],
   "source": []
  },
  {
   "cell_type": "code",
   "execution_count": null,
   "id": "b697087b-1da0-42b6-8e84-429022a1e6cf",
   "metadata": {},
   "outputs": [],
   "source": [
    "from everest.ptolemaic.sprite import Sprite\n",
    "from everest.ptolemaic import fundament, armature\n",
    "from everest.ptolemaic import sig"
   ]
  },
  {
   "cell_type": "code",
   "execution_count": null,
   "id": "f2fb9fc0-83fb-4f3e-a13f-72e1c128adff",
   "metadata": {},
   "outputs": [],
   "source": []
  },
  {
   "cell_type": "code",
   "execution_count": null,
   "id": "9de294a6-3c57-4874-978c-ff8cb6e2d692",
   "metadata": {},
   "outputs": [],
   "source": [
    "MyClass[1, 2, 3]"
   ]
  },
  {
   "cell_type": "code",
   "execution_count": null,
   "id": "e7e68f7e-bdfc-44b8-80cb-fbd833cadc96",
   "metadata": {},
   "outputs": [],
   "source": []
  },
  {
   "cell_type": "code",
   "execution_count": null,
   "id": "478b76aa-5f12-4dae-94ed-1cbda68cc583",
   "metadata": {},
   "outputs": [],
   "source": [
    "my_func"
   ]
  },
  {
   "cell_type": "code",
   "execution_count": null,
   "id": "fd19e474-3661-40d2-86fe-1280bbd21351",
   "metadata": {},
   "outputs": [],
   "source": [
    "my_func[1, 2, 3]"
   ]
  },
  {
   "cell_type": "code",
   "execution_count": null,
   "id": "1b21903f-0c5b-4c9a-99fa-a7b2c61f1854",
   "metadata": {},
   "outputs": [],
   "source": [
    "my_func[1, 2]"
   ]
  },
  {
   "cell_type": "code",
   "execution_count": null,
   "id": "e976516e-6ebb-4995-b248-eb302c2740bc",
   "metadata": {},
   "outputs": [],
   "source": [
    "myobj = sig.Sig(my_func)"
   ]
  },
  {
   "cell_type": "code",
   "execution_count": null,
   "id": "f3ee6396-8e53-4e59-bf93-211a4376d726",
   "metadata": {},
   "outputs": [],
   "source": [
    "myobj"
   ]
  },
  {
   "cell_type": "code",
   "execution_count": null,
   "id": "7d696f71-b2a3-4e86-9f47-cef7f3040343",
   "metadata": {},
   "outputs": [],
   "source": [
    "Incision()"
   ]
  },
  {
   "cell_type": "code",
   "execution_count": null,
   "id": "7d3aefb2-f248-4af6-a849-a720f5e81c8c",
   "metadata": {},
   "outputs": [],
   "source": []
  },
  {
   "cell_type": "code",
   "execution_count": null,
   "id": "ddb28599-8ce6-4d15-b998-2616333e73f8",
   "metadata": {},
   "outputs": [],
   "source": [
    "sig.Sig.__mro__"
   ]
  },
  {
   "cell_type": "code",
   "execution_count": null,
   "id": "63a45323-c3ee-4341-9e97-8b0ece5a03b9",
   "metadata": {},
   "outputs": [],
   "source": [
    "myobj"
   ]
  },
  {
   "cell_type": "code",
   "execution_count": null,
   "id": "82489904-ee35-41c2-b376-61e584c63d96",
   "metadata": {},
   "outputs": [],
   "source": [
    "myobj[0,](1, 2)"
   ]
  },
  {
   "cell_type": "code",
   "execution_count": null,
   "id": "f37e7f6d-39d3-413c-b951-a8e390c12a44",
   "metadata": {},
   "outputs": [],
   "source": [
    "myobj[0, 0, 'foo']"
   ]
  },
  {
   "cell_type": "code",
   "execution_count": null,
   "id": "fe0c57f7-79c0-4221-9023-2e5b1c28aa45",
   "metadata": {},
   "outputs": [],
   "source": [
    "%%timeit -n 100\n",
    "myobj[0, 1, 0]"
   ]
  },
  {
   "cell_type": "code",
   "execution_count": null,
   "id": "df5d7c19-1178-4ccc-8469-a1c9e67e36b8",
   "metadata": {},
   "outputs": [],
   "source": [
    "type(myobj)"
   ]
  },
  {
   "cell_type": "code",
   "execution_count": null,
   "id": "20c379df-a5fa-4aea-ba3e-a20fa358ebdb",
   "metadata": {},
   "outputs": [],
   "source": [
    "type(myobj).__mro__"
   ]
  },
  {
   "cell_type": "code",
   "execution_count": null,
   "id": "fca6f118-dec0-40d9-acb0-dfdf101b8ef4",
   "metadata": {},
   "outputs": [],
   "source": [
    "myobj.__repr__"
   ]
  },
  {
   "cell_type": "code",
   "execution_count": null,
   "id": "25db5f72-530f-4635-90d6-421fa0f6d911",
   "metadata": {},
   "outputs": [],
   "source": [
    "mymap = armature.MultiMapp(\n",
    "    a=fundament.Int,\n",
    "    b=fundament.Real,\n",
    "    c=fundament.Bool,\n",
    "    )"
   ]
  },
  {
   "cell_type": "code",
   "execution_count": null,
   "id": "75d8c46d-4ef2-4528-87b8-175deb590c45",
   "metadata": {},
   "outputs": [],
   "source": [
    "mymap[0, 0.,][False,]"
   ]
  },
  {
   "cell_type": "code",
   "execution_count": null,
   "id": "b20cb01d-9149-43b8-8779-1f188a9e9de2",
   "metadata": {},
   "outputs": [],
   "source": []
  },
  {
   "cell_type": "code",
   "execution_count": null,
   "id": "0814b9a8-91fe-4140-a112-77a8936003aa",
   "metadata": {},
   "outputs": [],
   "source": []
  },
  {
   "cell_type": "code",
   "execution_count": null,
   "id": "60008725-15a8-4cf3-9e07-a4a154e05bd9",
   "metadata": {},
   "outputs": [],
   "source": [
    "from everest.utilities import FrozenMap"
   ]
  }
 ],
 "metadata": {
  "kernelspec": {
   "display_name": "Python 3 (ipykernel)",
   "language": "python",
   "name": "python3"
  },
  "language_info": {
   "codemirror_mode": {
    "name": "ipython",
    "version": 3
   },
   "file_extension": ".py",
   "mimetype": "text/x-python",
   "name": "python",
   "nbconvert_exporter": "python",
   "pygments_lexer": "ipython3",
   "version": "3.9.5"
  }
 },
 "nbformat": 4,
 "nbformat_minor": 5
}
