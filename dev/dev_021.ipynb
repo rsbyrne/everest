{
 "cells": [
  {
   "cell_type": "code",
   "execution_count": null,
   "id": "23e3e48f-8d6b-4212-a1ee-ce1132a4165f",
   "metadata": {},
   "outputs": [],
   "source": [
    "###############################################################################\n",
    "import aliases"
   ]
  },
  {
   "cell_type": "code",
   "execution_count": null,
   "id": "84f91c88-ee43-464d-90bf-16e67864f814",
   "metadata": {},
   "outputs": [],
   "source": [
    "import abc as _abc\n",
    "from collections import abc as _collabc\n",
    "\n",
    "from everest.ptolemaic.chora import Chora as _Chora, ChoraBase as _ChoraBase\n",
    "from everest.ptolemaic.essence import Essence as _Essence\n",
    "from everest.ptolemaic.eidos import Eidos as _Eidos"
   ]
  },
  {
   "cell_type": "code",
   "execution_count": null,
   "id": "acc6af4a-af99-411d-a821-5364d341a712",
   "metadata": {},
   "outputs": [],
   "source": [
    "class PredicateBase(metaclass=_Essence):\n",
    "\n",
    "    @_abc.abstractmethod\n",
    "    def __call__(self, arg, /) -> bool:\n",
    "        raise NotImplementedError\n",
    "\n",
    "    @property\n",
    "    def __incise_retrieve__(self, /) -> bool:\n",
    "        return self\n",
    "\n",
    "    def __contains__(self, arg, /):\n",
    "        return isinstance(arg, bool)\n",
    "\n",
    "\n",
    "class PredicateChora(metaclass=_Chora):\n",
    "\n",
    "    def retrieve_object(self, incisor: object, /):\n",
    "        return incisor\n",
    "\n",
    "\n",
    "@PredicateChora\n",
    "class Predicate(PredicateBase, metaclass=_Eidos):\n",
    "\n",
    "    __call__: _collabc.Callable"
   ]
  },
  {
   "cell_type": "code",
   "execution_count": null,
   "id": "76f01783-22cc-4123-b333-c5b3da76812b",
   "metadata": {},
   "outputs": [],
   "source": [
    "@_ChoraBase\n",
    "class Sett(metaclass=_Eidos):\n",
    "\n",
    "    __contains__: Predicate"
   ]
  },
  {
   "cell_type": "code",
   "execution_count": null,
   "id": "f9bd563c-09ba-494b-aef2-77cbc98e8118",
   "metadata": {},
   "outputs": [],
   "source": [
    "mysett = Sett(Predicate(lambda x: x > 10))\n",
    "assert mysett[...] is mysett\n",
    "assert 1 not in mysett and 11 in mysett"
   ]
  },
  {
   "cell_type": "code",
   "execution_count": null,
   "id": "1c29e4bd-6923-40f9-b258-028ff0084c51",
   "metadata": {},
   "outputs": [],
   "source": [
    "from everest.ptolemaic.chora import ElementType\n",
    "\n",
    "mysett[ElementType.GENERIC]"
   ]
  },
  {
   "cell_type": "code",
   "execution_count": null,
   "id": "47affbbd-2370-4929-9591-0646cf4adc2e",
   "metadata": {},
   "outputs": [],
   "source": [
    "mysett[ElementType.VARIABLE]"
   ]
  },
  {
   "cell_type": "code",
   "execution_count": null,
   "id": "6970bfb8-304d-4d3b-b74d-7531164bced2",
   "metadata": {},
   "outputs": [],
   "source": [
    "repr(mysett)"
   ]
  },
  {
   "cell_type": "code",
   "execution_count": null,
   "id": "09b7a583-8bdd-4430-b144-15a054251530",
   "metadata": {},
   "outputs": [],
   "source": []
  },
  {
   "cell_type": "code",
   "execution_count": null,
   "id": "b83380d4-7801-46f7-bd6f-b9e372737842",
   "metadata": {},
   "outputs": [],
   "source": [
    "class MyClass:\n",
    "\n",
    "    __slots__ = ('foo',)\n",
    "\n",
    "\n",
    "class MySubClass(MyClass):\n",
    "\n",
    "    def foo(self, /):\n",
    "        ..."
   ]
  },
  {
   "cell_type": "code",
   "execution_count": null,
   "id": "0a1f6d61-67fe-4b66-b1bc-512735dd8231",
   "metadata": {},
   "outputs": [],
   "source": [
    "MySubClass.foo"
   ]
  },
  {
   "cell_type": "code",
   "execution_count": null,
   "id": "33a4fe9f-4ebc-4757-9568-cd26d67aee83",
   "metadata": {},
   "outputs": [],
   "source": []
  }
 ],
 "metadata": {
  "kernelspec": {
   "display_name": "Python 3 (ipykernel)",
   "language": "python",
   "name": "python3"
  },
  "language_info": {
   "codemirror_mode": {
    "name": "ipython",
    "version": 3
   },
   "file_extension": ".py",
   "mimetype": "text/x-python",
   "name": "python",
   "nbconvert_exporter": "python",
   "pygments_lexer": "ipython3",
   "version": "3.9.5"
  }
 },
 "nbformat": 4,
 "nbformat_minor": 5
}
