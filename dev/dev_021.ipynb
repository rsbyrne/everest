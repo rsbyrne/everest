{
 "cells": [
  {
   "cell_type": "code",
   "execution_count": null,
   "id": "23e3e48f-8d6b-4212-a1ee-ce1132a4165f",
   "metadata": {},
   "outputs": [],
   "source": [
    "import aliases"
   ]
  },
  {
   "cell_type": "code",
   "execution_count": null,
   "id": "25e86149-b487-4e3c-8972-5d0919a78843",
   "metadata": {},
   "outputs": [],
   "source": [
    "from everest.ptolemaic.intt import Intt, InttRange"
   ]
  },
  {
   "cell_type": "code",
   "execution_count": null,
   "id": "46acf9be-231e-4c6d-a8a4-0e9ddbb31105",
   "metadata": {},
   "outputs": [],
   "source": [
    "from everest.ptolemaic.schema import Schema"
   ]
  },
  {
   "cell_type": "code",
   "execution_count": null,
   "id": "1b42a14e-6f09-41e1-88af-3ee9d9cd627f",
   "metadata": {},
   "outputs": [],
   "source": [
    "class MySchema(metaclass=Schema):\n",
    "\n",
    "    a: Intt\n",
    "    b: Intt\n",
    "    c: Intt"
   ]
  },
  {
   "cell_type": "code",
   "execution_count": null,
   "id": "4a82b1ea-2847-4b9c-8ce4-91790d7817d7",
   "metadata": {},
   "outputs": [],
   "source": [
    "MySchema(1, 2, 3)"
   ]
  },
  {
   "cell_type": "code",
   "execution_count": null,
   "id": "f702b881-afed-422e-91d0-2d097b359fe3",
   "metadata": {},
   "outputs": [],
   "source": [
    "MySchema.chora[:10, 5:9, 100:]"
   ]
  },
  {
   "cell_type": "code",
   "execution_count": null,
   "id": "61d5c2b5-8314-4179-a04e-e41aded22335",
   "metadata": {},
   "outputs": [],
   "source": [
    "MySchema[:10, 5:9, 100:][0, 0, 0]"
   ]
  },
  {
   "cell_type": "code",
   "execution_count": null,
   "id": "e7f06830-510c-4488-b50d-9a3632778cda",
   "metadata": {},
   "outputs": [],
   "source": [
    "Intt(1)"
   ]
  },
  {
   "cell_type": "code",
   "execution_count": null,
   "id": "7c5ea418-320d-486b-81dc-c7df576b9780",
   "metadata": {},
   "outputs": [],
   "source": [
    "myobj = Intt[0:]"
   ]
  },
  {
   "cell_type": "code",
   "execution_count": null,
   "id": "a7066c3e-b6aa-4450-9a53-f6e2842a5d61",
   "metadata": {},
   "outputs": [],
   "source": [
    "myobj"
   ]
  },
  {
   "cell_type": "code",
   "execution_count": null,
   "id": "bb40d570-ce5f-47a5-a41d-3893b711aa5b",
   "metadata": {},
   "outputs": [],
   "source": [
    "tuple(myobj[:10])"
   ]
  },
  {
   "cell_type": "code",
   "execution_count": null,
   "id": "1b750ea9-895d-4ede-9449-863f9745be80",
   "metadata": {},
   "outputs": [],
   "source": [
    "class MyMeta(type):\n",
    "\n",
    "    @property\n",
    "    def foo(cls, /):\n",
    "        return 'foo'\n",
    "\n",
    "#     def __class_getitem__(cls, arg, /):\n",
    "#         return arg ** 2\n",
    "\n",
    "\n",
    "class MyClass(metaclass=MyMeta):\n",
    "\n",
    "    @classmethod\n",
    "    def foo(cls, /):\n",
    "        return 'bah'\n",
    "\n",
    "#     @classmethod\n",
    "#     def __class_getitem__(cls, arg, /):\n",
    "#         return arg\n",
    "\n",
    "\n",
    "MyClass.foo"
   ]
  },
  {
   "cell_type": "code",
   "execution_count": null,
   "id": "3ef1cedd-1488-48df-a263-5c96a3f3be31",
   "metadata": {},
   "outputs": [],
   "source": [
    "MyClass[2]"
   ]
  },
  {
   "cell_type": "code",
   "execution_count": null,
   "id": "d00666e4-f819-4c5d-baa0-f9011954d65d",
   "metadata": {},
   "outputs": [],
   "source": [
    "MyClass.__class_getitem__ = lambda x: x"
   ]
  },
  {
   "cell_type": "code",
   "execution_count": null,
   "id": "d58d1e11-0ea9-494a-b48f-30ca64382759",
   "metadata": {},
   "outputs": [],
   "source": [
    "MyClass[2]"
   ]
  },
  {
   "cell_type": "code",
   "execution_count": null,
   "id": "53add17b-fd5d-49e8-b981-14323d08917b",
   "metadata": {},
   "outputs": [],
   "source": [
    "hasattr(MyClass, '__class_getitem__')"
   ]
  },
  {
   "cell_type": "code",
   "execution_count": null,
   "id": "ea04236f-be9c-47ff-b8f9-9a9d6146641c",
   "metadata": {},
   "outputs": [],
   "source": []
  },
  {
   "cell_type": "code",
   "execution_count": null,
   "id": "fc770090-e701-41cf-b81a-a7e2991966ed",
   "metadata": {},
   "outputs": [],
   "source": [
    "MyClass.__getitem__ = lambda x: x"
   ]
  },
  {
   "cell_type": "code",
   "execution_count": null,
   "id": "1ae1c2a4-a99c-4480-8403-09cf74e6a34f",
   "metadata": {},
   "outputs": [],
   "source": [
    "MyClass()[0]"
   ]
  },
  {
   "cell_type": "code",
   "execution_count": null,
   "id": "fed5ac09-354d-4af6-beae-1fbf374bd926",
   "metadata": {},
   "outputs": [],
   "source": [
    "from everest.ptolemaic import chora as _chora\n",
    "from everest.ptolemaic.armature import Armature as _Armature"
   ]
  },
  {
   "cell_type": "code",
   "execution_count": null,
   "id": "5e3e70fe-77ab-42b5-96a5-a75e08fae537",
   "metadata": {},
   "outputs": [],
   "source": [
    "class MyChora(_chora.Chora):\n",
    "\n",
    "    def incise_any(self, incisor: object, /):\n",
    "        return self"
   ]
  },
  {
   "cell_type": "code",
   "execution_count": null,
   "id": "b1763531-92eb-4f42-bff3-85de73378abd",
   "metadata": {},
   "outputs": [],
   "source": [
    "class MyIncisable(_chora.Incisable, metaclass=Armature):\n",
    "\n",
    "    chora: _chora.Chora = MyChora()\n",
    "\n",
    "    def retrieve(self, index, /):\n",
    "        return index"
   ]
  },
  {
   "cell_type": "code",
   "execution_count": null,
   "id": "ef42b45c-713c-4742-9715-d4442d67fc94",
   "metadata": {},
   "outputs": [],
   "source": [
    "myobj = MyIncisable()"
   ]
  },
  {
   "cell_type": "code",
   "execution_count": null,
   "id": "2725b4f2-bacf-4fc1-9743-bf0c0e862fcb",
   "metadata": {},
   "outputs": [],
   "source": [
    "mychora = MyChora()"
   ]
  },
  {
   "cell_type": "code",
   "execution_count": null,
   "id": "d9d8fcff-a3b8-4d89-b268-fdb2a31f4ef8",
   "metadata": {},
   "outputs": [],
   "source": [
    "myobj[mychora][mychora]"
   ]
  },
  {
   "cell_type": "code",
   "execution_count": null,
   "id": "b1f080e8-5a82-4f01-ac0d-122bfb519f37",
   "metadata": {},
   "outputs": [],
   "source": []
  }
 ],
 "metadata": {
  "kernelspec": {
   "display_name": "Python 3 (ipykernel)",
   "language": "python",
   "name": "python3"
  },
  "language_info": {
   "codemirror_mode": {
    "name": "ipython",
    "version": 3
   },
   "file_extension": ".py",
   "mimetype": "text/x-python",
   "name": "python",
   "nbconvert_exporter": "python",
   "pygments_lexer": "ipython3",
   "version": "3.9.5"
  }
 },
 "nbformat": 4,
 "nbformat_minor": 5
}
