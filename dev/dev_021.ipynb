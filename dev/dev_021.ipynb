{
 "cells": [
  {
   "cell_type": "code",
   "execution_count": null,
   "id": "23e3e48f-8d6b-4212-a1ee-ce1132a4165f",
   "metadata": {},
   "outputs": [],
   "source": [
    "import aliases"
   ]
  },
  {
   "cell_type": "code",
   "execution_count": null,
   "id": "00ffee1a-bbc0-4f0c-a19c-9ff1df1953bc",
   "metadata": {},
   "outputs": [],
   "source": [
    "from everest.ptolemaic.fundaments import Intt"
   ]
  },
  {
   "cell_type": "code",
   "execution_count": null,
   "id": "e94241c4-5d74-4026-b045-b81243bb8faa",
   "metadata": {},
   "outputs": [],
   "source": []
  },
  {
   "cell_type": "code",
   "execution_count": null,
   "id": "7e51cb64-4049-4d32-9cea-6443f67e7959",
   "metadata": {},
   "outputs": [],
   "source": []
  },
  {
   "cell_type": "code",
   "execution_count": null,
   "id": "d954409a-5e04-4bdb-aad2-12954ba6816f",
   "metadata": {},
   "outputs": [],
   "source": []
  },
  {
   "cell_type": "code",
   "execution_count": null,
   "id": "e7426db5-0b1f-45c5-a6eb-85086402cc2f",
   "metadata": {},
   "outputs": [],
   "source": []
  },
  {
   "cell_type": "code",
   "execution_count": null,
   "id": "9bb6f7a3-775c-4f31-a9f8-58c30c39597c",
   "metadata": {},
   "outputs": [],
   "source": [
    "from everest.ptolemaic.eidos import Eidos as _Eidos\n",
    "from everest.ptolemaic.bythos import Bythos as _Bythos\n",
    "from everest.ptolemaic.chora import Sliceable as _Sliceable"
   ]
  },
  {
   "cell_type": "code",
   "execution_count": null,
   "id": "774f2fa7-1d66-40c0-9125-6b2d7a6a9c26",
   "metadata": {},
   "outputs": [],
   "source": [
    "class ReallChora(_Sliceable, metaclass=_Eidos):\n",
    "    ...\n",
    "\n",
    "\n",
    "class ReallSpace(ReallChora):\n",
    "\n",
    "    def retrieve_contains(self, incisor: float, /) -> float:\n",
    "        return incisor\n",
    "\n",
    "\n",
    "class Reall(metaclass=_B"
   ]
  },
  {
   "cell_type": "code",
   "execution_count": null,
   "id": "d85d2412-555a-4ffe-ad29-12fd220a56d4",
   "metadata": {},
   "outputs": [],
   "source": [
    "myslc = slice(None)"
   ]
  },
  {
   "cell_type": "code",
   "execution_count": null,
   "id": "ce3affc3-5633-4b1b-8eb5-d6f90896d42c",
   "metadata": {},
   "outputs": [],
   "source": [
    "myslc"
   ]
  },
  {
   "cell_type": "code",
   "execution_count": null,
   "id": "5d6182f3-99f2-47c5-a77f-84e7136364ff",
   "metadata": {},
   "outputs": [],
   "source": [
    "if 1 in (mytup := (1, 2, 3)):\n",
    "    print(mytup)"
   ]
  },
  {
   "cell_type": "code",
   "execution_count": null,
   "id": "cb1854bd-f859-4d68-bf4a-cebd6575b7ea",
   "metadata": {},
   "outputs": [],
   "source": [
    "from everest.ptolemaic.chora import IncisionProtocol\n",
    "from everest.ptolemaic.fundaments import Intt"
   ]
  },
  {
   "cell_type": "code",
   "execution_count": null,
   "id": "4ac1e457-6ca1-496d-8c6d-e8bb92c5dc5a",
   "metadata": {},
   "outputs": [],
   "source": [
    "Intt[3:13]"
   ]
  },
  {
   "cell_type": "code",
   "execution_count": null,
   "id": "0b11eeae-d0b2-4b56-b0b7-1764692fb7b0",
   "metadata": {},
   "outputs": [],
   "source": [
    "Intt[IncisionProtocol.GENERIC].epitaph.decode()"
   ]
  },
  {
   "cell_type": "code",
   "execution_count": null,
   "id": "b034dc7c-f97b-43e3-9255-3af2f443e91f",
   "metadata": {},
   "outputs": [],
   "source": []
  },
  {
   "cell_type": "code",
   "execution_count": null,
   "id": "c1f7b692-9eec-4d29-9596-90471b372d12",
   "metadata": {},
   "outputs": [],
   "source": []
  },
  {
   "cell_type": "code",
   "execution_count": null,
   "id": "5a365d61-39d1-408d-a44d-7929c2702977",
   "metadata": {},
   "outputs": [],
   "source": [
    "from everest.utilities import reseed as _reseed"
   ]
  },
  {
   "cell_type": "code",
   "execution_count": null,
   "id": "51743752-27b3-42b5-8580-7674c6bf900b",
   "metadata": {},
   "outputs": [],
   "source": [
    "_reseed.rdigits(12)"
   ]
  },
  {
   "cell_type": "code",
   "execution_count": null,
   "id": "66642987-9284-4585-9d4d-4b999549d03a",
   "metadata": {},
   "outputs": [],
   "source": [
    "_reseed.GLOBALRAND"
   ]
  },
  {
   "cell_type": "code",
   "execution_count": null,
   "id": "f009ac17-eeab-450b-83cd-93a3e2b20fb7",
   "metadata": {},
   "outputs": [],
   "source": [
    "_reseed.rdigits(12, seed=_reseed.GLOBALRAND)"
   ]
  },
  {
   "cell_type": "code",
   "execution_count": null,
   "id": "e15f49ba-6647-4160-a799-a4e53616f0c2",
   "metadata": {},
   "outputs": [],
   "source": [
    "type(_reseed.GLOBALRAND)"
   ]
  },
  {
   "cell_type": "code",
   "execution_count": null,
   "id": "ac6a67d5-6052-4736-807d-64431de0bc12",
   "metadata": {},
   "outputs": [],
   "source": [
    "import collections as _collections "
   ]
  },
  {
   "cell_type": "code",
   "execution_count": null,
   "id": "18bb3406-eff5-46f6-b8c8-2c1bc2185d82",
   "metadata": {},
   "outputs": [],
   "source": [
    "class MyClass(_collections.deque):\n",
    "    __slots__ = ()"
   ]
  },
  {
   "cell_type": "code",
   "execution_count": null,
   "id": "a75581c9-7563-47c0-9a57-81ee9990d9bd",
   "metadata": {},
   "outputs": [],
   "source": [
    "myobj = MyClass(range(10))"
   ]
  },
  {
   "cell_type": "code",
   "execution_count": null,
   "id": "53608c9b-3e1f-42fa-81f8-f3c028911e00",
   "metadata": {},
   "outputs": [],
   "source": [
    "myobj.foo = 1"
   ]
  },
  {
   "cell_type": "code",
   "execution_count": null,
   "id": "f4658070-a8dc-4f01-ab90-a6ee03a87955",
   "metadata": {},
   "outputs": [],
   "source": [
    "import collections"
   ]
  },
  {
   "cell_type": "code",
   "execution_count": null,
   "id": "0c16e27b-b2be-4452-91d4-9ba99fd966ed",
   "metadata": {},
   "outputs": [],
   "source": []
  },
  {
   "cell_type": "code",
   "execution_count": null,
   "id": "7e4d0fb7-fa77-430a-a4ab-8a75b46b2147",
   "metadata": {},
   "outputs": [],
   "source": []
  }
 ],
 "metadata": {
  "kernelspec": {
   "display_name": "Python 3 (ipykernel)",
   "language": "python",
   "name": "python3"
  },
  "language_info": {
   "codemirror_mode": {
    "name": "ipython",
    "version": 3
   },
   "file_extension": ".py",
   "mimetype": "text/x-python",
   "name": "python",
   "nbconvert_exporter": "python",
   "pygments_lexer": "ipython3",
   "version": "3.9.5"
  }
 },
 "nbformat": 4,
 "nbformat_minor": 5
}
