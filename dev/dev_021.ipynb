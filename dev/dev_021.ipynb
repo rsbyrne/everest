{
 "cells": [
  {
   "cell_type": "code",
   "execution_count": null,
   "id": "23e3e48f-8d6b-4212-a1ee-ce1132a4165f",
   "metadata": {},
   "outputs": [],
   "source": [
    "###############################################################################\n",
    "import aliases"
   ]
  },
  {
   "cell_type": "code",
   "execution_count": null,
   "id": "a1d94cfd-8e1c-4374-9956-d81bde7dc81a",
   "metadata": {},
   "outputs": [],
   "source": [
    "from everest.ptolemaic.sig import Field"
   ]
  },
  {
   "cell_type": "code",
   "execution_count": null,
   "id": "a4886e0c-1e9b-4421-a1c5-e1bfdcdf6459",
   "metadata": {},
   "outputs": [],
   "source": [
    "from everest import incision\n",
    "from everest.ptolemaic import chora, armature\n",
    "from everest.ptolemaic.fundaments.thing import THING"
   ]
  },
  {
   "cell_type": "code",
   "execution_count": null,
   "id": "56b1a99b-69c9-4414-887e-c4dbd2bdeabd",
   "metadata": {},
   "outputs": [],
   "source": [
    "Field[THING]"
   ]
  },
  {
   "cell_type": "code",
   "execution_count": null,
   "id": "4b15be4a-eb37-49c8-90e4-e3f11502d08d",
   "metadata": {},
   "outputs": [],
   "source": [
    "mybrace = armature.MultiBrace(*(THING for _ in range(3)))"
   ]
  },
  {
   "cell_type": "code",
   "execution_count": null,
   "id": "120c40e9-30b3-4c09-8e6d-7c52af14a71f",
   "metadata": {},
   "outputs": [],
   "source": [
    "mybrace"
   ]
  },
  {
   "cell_type": "code",
   "execution_count": null,
   "id": "f37efc61-ff62-4f46-86cd-af986367f815",
   "metadata": {},
   "outputs": [],
   "source": [
    "mybrace[0, 0, THING][1,]"
   ]
  }
 ],
 "metadata": {
  "kernelspec": {
   "display_name": "Python 3 (ipykernel)",
   "language": "python",
   "name": "python3"
  },
  "language_info": {
   "codemirror_mode": {
    "name": "ipython",
    "version": 3
   },
   "file_extension": ".py",
   "mimetype": "text/x-python",
   "name": "python",
   "nbconvert_exporter": "python",
   "pygments_lexer": "ipython3",
   "version": "3.9.5"
  }
 },
 "nbformat": 4,
 "nbformat_minor": 5
}
