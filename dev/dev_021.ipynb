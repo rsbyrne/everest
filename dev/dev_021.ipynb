{
 "cells": [
  {
   "cell_type": "code",
   "execution_count": null,
   "id": "23e3e48f-8d6b-4212-a1ee-ce1132a4165f",
   "metadata": {},
   "outputs": [],
   "source": [
    "import aliases"
   ]
  },
  {
   "cell_type": "code",
   "execution_count": null,
   "id": "25e86149-b487-4e3c-8972-5d0919a78843",
   "metadata": {},
   "outputs": [],
   "source": [
    "from everest.ptolemaic.intt import Intt\n",
    "from everest.ptolemaic.schema import Schema"
   ]
  },
  {
   "cell_type": "code",
   "execution_count": null,
   "id": "1b42a14e-6f09-41e1-88af-3ee9d9cd627f",
   "metadata": {},
   "outputs": [],
   "source": [
    "class MySchema(metaclass=Schema):\n",
    "\n",
    "    a: Intt\n",
    "    b: Intt\n",
    "    c: Intt"
   ]
  },
  {
   "cell_type": "code",
   "execution_count": null,
   "id": "793f3ecf-3c7b-4f4e-8496-fc75308cf413",
   "metadata": {},
   "outputs": [],
   "source": [
    "class MyVarSchema(metaclass=Schema):\n",
    "\n",
    "    _var_slots__ = ('myvar',)"
   ]
  },
  {
   "cell_type": "code",
   "execution_count": null,
   "id": "01cd5899-c1bf-460d-9afe-198cd64764d5",
   "metadata": {},
   "outputs": [],
   "source": [
    "from everest.ptolemaic import ur\n",
    "assert isinstance(MySchema(1, 2, 3), ur.Dat)\n",
    "assert isinstance(MySchema(1, 2, MyVarSchema()), ur.Var)"
   ]
  },
  {
   "cell_type": "code",
   "execution_count": null,
   "id": "f6193e31-b85a-47ba-a2be-57cb252ab8f0",
   "metadata": {},
   "outputs": [],
   "source": [
    "myobj.myvar = 1"
   ]
  },
  {
   "cell_type": "code",
   "execution_count": null,
   "id": "fc1dbcca-46eb-4710-87fd-ccfb1d761f9a",
   "metadata": {},
   "outputs": [],
   "source": [
    "MySchema[:10, ..., 10:][0, 0, 0].summed"
   ]
  },
  {
   "cell_type": "code",
   "execution_count": null,
   "id": "989d01ff-b64f-4657-a259-811eeab6b217",
   "metadata": {},
   "outputs": [],
   "source": [
    "MySchema[:10, ..., 10:][0, 0, 0]"
   ]
  }
 ],
 "metadata": {
  "kernelspec": {
   "display_name": "Python 3 (ipykernel)",
   "language": "python",
   "name": "python3"
  },
  "language_info": {
   "codemirror_mode": {
    "name": "ipython",
    "version": 3
   },
   "file_extension": ".py",
   "mimetype": "text/x-python",
   "name": "python",
   "nbconvert_exporter": "python",
   "pygments_lexer": "ipython3",
   "version": "3.9.5"
  }
 },
 "nbformat": 4,
 "nbformat_minor": 5
}
