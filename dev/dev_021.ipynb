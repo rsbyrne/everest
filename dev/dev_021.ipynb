{
 "cells": [
  {
   "cell_type": "code",
   "execution_count": null,
   "id": "23e3e48f-8d6b-4212-a1ee-ce1132a4165f",
   "metadata": {},
   "outputs": [],
   "source": [
    "import aliases"
   ]
  },
  {
   "cell_type": "code",
   "execution_count": null,
   "id": "25e86149-b487-4e3c-8972-5d0919a78843",
   "metadata": {},
   "outputs": [],
   "source": [
    "from everest.ptolemaic.intt import Intt\n",
    "from everest.ptolemaic.schema import Schema"
   ]
  },
  {
   "cell_type": "code",
   "execution_count": null,
   "id": "1b42a14e-6f09-41e1-88af-3ee9d9cd627f",
   "metadata": {},
   "outputs": [],
   "source": [
    "class MySchema(metaclass=Schema):\n",
    "\n",
    "    a: Intt\n",
    "    b: Intt\n",
    "    c: Intt"
   ]
  },
  {
   "cell_type": "code",
   "execution_count": null,
   "id": "fc1dbcca-46eb-4710-87fd-ccfb1d761f9a",
   "metadata": {},
   "outputs": [],
   "source": [
    "MySchema[:10, ..., 10:][0, 0, 0]"
   ]
  },
  {
   "cell_type": "code",
   "execution_count": null,
   "id": "989d01ff-b64f-4657-a259-811eeab6b217",
   "metadata": {},
   "outputs": [],
   "source": [
    "MySchema[:10, ..., 10:][0, 0, 0]"
   ]
  }
 ],
 "metadata": {
  "kernelspec": {
   "display_name": "Python 3 (ipykernel)",
   "language": "python",
   "name": "python3"
  },
  "language_info": {
   "codemirror_mode": {
    "name": "ipython",
    "version": 3
   },
   "file_extension": ".py",
   "mimetype": "text/x-python",
   "name": "python",
   "nbconvert_exporter": "python",
   "pygments_lexer": "ipython3",
   "version": "3.9.5"
  }
 },
 "nbformat": 4,
 "nbformat_minor": 5
}
