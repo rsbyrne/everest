{
 "cells": [
  {
   "cell_type": "code",
   "execution_count": null,
   "id": "23e3e48f-8d6b-4212-a1ee-ce1132a4165f",
   "metadata": {},
   "outputs": [],
   "source": [
    "###############################################################################\n",
    "import aliases"
   ]
  },
  {
   "cell_type": "code",
   "execution_count": null,
   "id": "18d4017e-c5c7-4722-a86a-b08557c1ecae",
   "metadata": {},
   "outputs": [],
   "source": [
    "from everest.ptolemaic.schema import Schema\n",
    "from everest.ptolemaic.sig import Field\n",
    "\n",
    "from everest.incision import IncisionProtocol as _IncisionProtocol\n",
    "\n",
    "from everest.ptolemaic.fundaments.int import Int, IntRange"
   ]
  },
  {
   "cell_type": "code",
   "execution_count": null,
   "id": "b38a6624-c1e6-4aad-ac1d-d5515c53d6da",
   "metadata": {},
   "outputs": [],
   "source": [
    "class MyCacheClass(metaclass=Schema):\n",
    "\n",
    "    CACHE = True\n",
    "\n",
    "\n",
    "class MyNoCacheClass(metaclass=Schema):\n",
    "\n",
    "    CACHE = False"
   ]
  },
  {
   "cell_type": "code",
   "execution_count": null,
   "id": "7c7d746d-83b8-4e2e-9cb2-cac2c6380561",
   "metadata": {},
   "outputs": [],
   "source": [
    "%%timeit -n 10\n",
    "assert MyCacheClass() is MyCacheClass()"
   ]
  },
  {
   "cell_type": "code",
   "execution_count": null,
   "id": "967ad543-a9e6-4031-883a-94089497a778",
   "metadata": {},
   "outputs": [],
   "source": [
    "%%timeit -n 10\n",
    "assert MyNoCacheClass() is not MyNoCacheClass()"
   ]
  },
  {
   "cell_type": "code",
   "execution_count": null,
   "id": "d88448b5-4a3d-4392-b16a-5f7a8acc8c4f",
   "metadata": {},
   "outputs": [],
   "source": [
    "%%timeit -n 10\n",
    "assert MyNoCacheClass().get_epitaph().hashID == MyNoCacheClass().get_epitaph().hashID"
   ]
  },
  {
   "cell_type": "code",
   "execution_count": null,
   "id": "78f50c8c-0f02-477b-8db5-c342d53c3202",
   "metadata": {},
   "outputs": [],
   "source": [
    "myobj = MyNoCacheClass()"
   ]
  },
  {
   "cell_type": "code",
   "execution_count": null,
   "id": "f520ea6b-c4ea-4e80-a1fc-8e37fe4aed4c",
   "metadata": {},
   "outputs": [],
   "source": [
    "%%timeit -n 10\n",
    "myobj.get_epitaph()"
   ]
  },
  {
   "cell_type": "code",
   "execution_count": null,
   "id": "f014420b-9071-4a58-83c4-8c31d779a3bc",
   "metadata": {},
   "outputs": [],
   "source": [
    "%%timeit -n 10\n",
    "Int[10:][12:][:40]"
   ]
  },
  {
   "cell_type": "code",
   "execution_count": null,
   "id": "3ddc7c7b-45f2-413d-a977-8bbfa1217da9",
   "metadata": {},
   "outputs": [],
   "source": [
    "out.hashID"
   ]
  },
  {
   "cell_type": "code",
   "execution_count": null,
   "id": "4f8ef04a-d601-43a9-8452-77884da77c15",
   "metadata": {},
   "outputs": [],
   "source": [
    "Int.Chora.slcgetmeths[int, int, int]"
   ]
  },
  {
   "cell_type": "code",
   "execution_count": null,
   "id": "1b6666cb-dc9d-4912-85c5-379578150586",
   "metadata": {},
   "outputs": [],
   "source": [
    "Int.Chora.getmeths[int, int, type(None)]"
   ]
  },
  {
   "cell_type": "code",
   "execution_count": null,
   "id": "feefa8fb-925c-46e6-a1d8-4af7b08551cd",
   "metadata": {},
   "outputs": [],
   "source": [
    "from everest.incision import IncisionProtocol as _IncisionProtocol\n",
    "\n",
    "from everest.ptolemaic.fundaments.thing import Thing"
   ]
  },
  {
   "cell_type": "code",
   "execution_count": null,
   "id": "5b795492-991e-4598-abf4-17dd7135d5a9",
   "metadata": {},
   "outputs": [],
   "source": [
    "Thing[int]"
   ]
  },
  {
   "cell_type": "code",
   "execution_count": null,
   "id": "7e6057e2-0b37-46b6-8f83-4ba2df1780df",
   "metadata": {},
   "outputs": [],
   "source": [
    "Thing[_IncisionProtocol.VARIABLE]"
   ]
  },
  {
   "cell_type": "code",
   "execution_count": null,
   "id": "c99c537d-c091-44c5-9d1b-e8fc8609904b",
   "metadata": {},
   "outputs": [],
   "source": []
  }
 ],
 "metadata": {
  "kernelspec": {
   "display_name": "Python 3 (ipykernel)",
   "language": "python",
   "name": "python3"
  },
  "language_info": {
   "codemirror_mode": {
    "name": "ipython",
    "version": 3
   },
   "file_extension": ".py",
   "mimetype": "text/x-python",
   "name": "python",
   "nbconvert_exporter": "python",
   "pygments_lexer": "ipython3",
   "version": "3.9.5"
  }
 },
 "nbformat": 4,
 "nbformat_minor": 5
}
