{
 "cells": [
  {
   "cell_type": "code",
   "execution_count": null,
   "id": "23e3e48f-8d6b-4212-a1ee-ce1132a4165f",
   "metadata": {},
   "outputs": [],
   "source": [
    "###############################################################################\n",
    "import aliases"
   ]
  },
  {
   "cell_type": "code",
   "execution_count": null,
   "id": "eae7d56c-65f2-4db5-b727-a159e6eff572",
   "metadata": {},
   "outputs": [],
   "source": [
    "from everest.ptolemaic.int import IntRange"
   ]
  },
  {
   "cell_type": "code",
   "execution_count": null,
   "id": "2ac0af7e-dd54-4781-a57b-b278befc4ae5",
   "metadata": {},
   "outputs": [],
   "source": [
    "IntRange[10:, 10:][0, 0][0,]"
   ]
  },
  {
   "cell_type": "code",
   "execution_count": null,
   "id": "a228460a-d8df-44b9-b4d4-6ed4b73e47a8",
   "metadata": {},
   "outputs": [],
   "source": [
    "myfield = IntRange.sig.choras['start']\n",
    "myfield"
   ]
  },
  {
   "cell_type": "code",
   "execution_count": null,
   "id": "817962db-4b04-48c9-a9d1-99f5988ccf43",
   "metadata": {},
   "outputs": [],
   "source": [
    "m"
   ]
  },
  {
   "cell_type": "code",
   "execution_count": null,
   "id": "990ac154-7a2a-4981-adb9-06def1560e74",
   "metadata": {},
   "outputs": [],
   "source": [
    "from everest.incision import IncisionProtocol\n",
    "from everest.ptolemaic.chora import Degenerator"
   ]
  },
  {
   "cell_type": "code",
   "execution_count": null,
   "id": "16d082ea-4639-4ef1-a8c6-a393ddc43740",
   "metadata": {},
   "outputs": [],
   "source": [
    "degenerator = Degenerator(myfield)\n",
    "degenerator"
   ]
  },
  {
   "cell_type": "code",
   "execution_count": null,
   "id": "4cc0e3fc-9cd3-4c2b-bf81-7ecd2b05bc5e",
   "metadata": {},
   "outputs": [],
   "source": [
    "deg"
   ]
  },
  {
   "cell_type": "code",
   "execution_count": null,
   "id": "9fa7f3da-38aa-4797-b6c4-6ca0125c0f7e",
   "metadata": {},
   "outputs": [],
   "source": [
    "IncisionProtocol.INCISE(myfield)(slice(10), caller=myfield)"
   ]
  },
  {
   "cell_type": "code",
   "execution_count": null,
   "id": "3da9ea3e-14f4-44c3-8097-a41be4eeeb79",
   "metadata": {},
   "outputs": [],
   "source": [
    "from everest.incision import "
   ]
  },
  {
   "cell_type": "code",
   "execution_count": null,
   "id": "220bfd97-ecf2-4e56-9280-c30e639588bd",
   "metadata": {},
   "outputs": [],
   "source": [
    "class Caller:\n",
    "\n",
    "    @classmethod\n",
    "    def __incise_slyce__(cls, incisor, /):\n",
    "        print(cls, incisor)\n",
    "        return incisor"
   ]
  },
  {
   "cell_type": "code",
   "execution_count": null,
   "id": "7e903b2b-2265-4937-af07-86429b04fe30",
   "metadata": {},
   "outputs": [],
   "source": []
  },
  {
   "cell_type": "code",
   "execution_count": null,
   "id": "0d6f209e-63d6-40ae-8b11-491b59b66203",
   "metadata": {},
   "outputs": [],
   "source": [
    "choret.handle_tuple((slice(10),), caller=Caller)"
   ]
  },
  {
   "cell_type": "code",
   "execution_count": null,
   "id": "bd6ffc21-5624-4935-a999-f05d8f5e19c0",
   "metadata": {},
   "outputs": [],
   "source": [
    "IntRange.sig[10:,]"
   ]
  },
  {
   "cell_type": "code",
   "execution_count": null,
   "id": "f3f36188-1da8-403c-9c6a-79bf3edb7445",
   "metadata": {},
   "outputs": [],
   "source": [
    "IntRange.sig[0, 0]"
   ]
  },
  {
   "cell_type": "code",
   "execution_count": null,
   "id": "70b4e3ed-fe6f-40f3-b93f-5a24dbedd401",
   "metadata": {},
   "outputs": [],
   "source": []
  },
  {
   "cell_type": "code",
   "execution_count": null,
   "id": "c45fd489-c67f-44d1-b32e-c727f4f927a0",
   "metadata": {},
   "outputs": [],
   "source": [
    "\n",
    "from everest.ptolemaic.int import Int, IntRange"
   ]
  },
  {
   "cell_type": "code",
   "execution_count": null,
   "id": "46dcb97c-8370-4b76-863c-a037043da2ed",
   "metadata": {},
   "outputs": [],
   "source": [
    "IntRange.sig[10:,]"
   ]
  },
  {
   "cell_type": "code",
   "execution_count": null,
   "id": "8f9e7481-bf23-48e4-88fe-25269f84baed",
   "metadata": {},
   "outputs": [],
   "source": [
    "IntRange[10:, :10]"
   ]
  },
  {
   "cell_type": "code",
   "execution_count": null,
   "id": "7bdf6d34-92f2-4ecb-aaad-99ffc80537c2",
   "metadata": {},
   "outputs": [],
   "source": [
    "Int[10:][:10]"
   ]
  },
  {
   "cell_type": "code",
   "execution_count": null,
   "id": "3059cfa0-8c26-42c9-80f0-0e077d43ba9b",
   "metadata": {},
   "outputs": [],
   "source": [
    "from everest.ptolemaic.chora import Chora"
   ]
  },
  {
   "cell_type": "code",
   "execution_count": null,
   "id": "64b59245-31ff-4edd-a6ac-cde23ac4145a",
   "metadata": {},
   "outputs": [],
   "source": [
    "isinstance(Int, Chora)"
   ]
  },
  {
   "cell_type": "code",
   "execution_count": null,
   "id": "b638205c-8453-43dc-98b3-e61aea7dd511",
   "metadata": {},
   "outputs": [],
   "source": [
    "IncisionProtocol.complies(Int)"
   ]
  },
  {
   "cell_type": "code",
   "execution_count": null,
   "id": "19bd6814-ddf7-414e-8da1-106669f7a20d",
   "metadata": {},
   "outputs": [],
   "source": [
    "isinstance(Int, Incisable)"
   ]
  },
  {
   "cell_type": "code",
   "execution_count": null,
   "id": "b2ea4623-0572-493a-bdea-d6d4931facd6",
   "metadata": {},
   "outputs": [],
   "source": [
    "IntRange[Thing]"
   ]
  },
  {
   "cell_type": "code",
   "execution_count": null,
   "id": "7cbb94c3-cc2c-4653-a4ca-e0e65752e931",
   "metadata": {},
   "outputs": [],
   "source": []
  },
  {
   "cell_type": "code",
   "execution_count": null,
   "id": "f8c7adb3-0b3a-42c3-be68-3bfa0298e2ee",
   "metadata": {},
   "outputs": [],
   "source": []
  },
  {
   "cell_type": "code",
   "execution_count": null,
   "id": "8ce5c992-ccbd-4bf8-92e6-bf65a02c38c2",
   "metadata": {},
   "outputs": [],
   "source": [
    "IntRange[10:,][0,][30, 1][2:]"
   ]
  },
  {
   "cell_type": "code",
   "execution_count": null,
   "id": "d11f9bce-0f81-45f8-ac31-26cfc518322a",
   "metadata": {},
   "outputs": [],
   "source": [
    "Int[10:][:10][::2]"
   ]
  },
  {
   "cell_type": "code",
   "execution_count": null,
   "id": "2c660ac2-c89a-4ebf-bc93-2a7be0927908",
   "metadata": {},
   "outputs": [],
   "source": [
    "from everest.incision import IncisionProtocol as _IncisionProtocol"
   ]
  },
  {
   "cell_type": "code",
   "execution_count": null,
   "id": "ccd2fcf0-b69e-4602-ac73-8e0434b08a72",
   "metadata": {},
   "outputs": [],
   "source": [
    "obj1 = IntRange.__incision_manager__\n",
    "obj1"
   ]
  },
  {
   "cell_type": "code",
   "execution_count": null,
   "id": "53d69438-24b2-48c3-befb-890c51dbb7f4",
   "metadata": {},
   "outputs": [],
   "source": [
    "obj1.__incise__"
   ]
  },
  {
   "cell_type": "code",
   "execution_count": null,
   "id": "44c811f6-bbcd-4b0f-9eb5-bcc2975cbe8a",
   "metadata": {},
   "outputs": [],
   "source": [
    "obj2 = _IncisionProtocol.INCISE(obj1)\n",
    "obj2"
   ]
  },
  {
   "cell_type": "code",
   "execution_count": null,
   "id": "b32086e7-265b-47dc-8d7c-b488db8e7087",
   "metadata": {},
   "outputs": [],
   "source": [
    "obj2"
   ]
  },
  {
   "cell_type": "code",
   "execution_count": null,
   "id": "d1fff582-8c0a-462f-9f82-f95eeda284ec",
   "metadata": {},
   "outputs": [],
   "source": []
  },
  {
   "cell_type": "code",
   "execution_count": null,
   "id": "b8dac009-04f9-4cfc-9fab-fb9f9d2e46d7",
   "metadata": {},
   "outputs": [],
   "source": []
  },
  {
   "cell_type": "code",
   "execution_count": null,
   "id": "1170e11a-b180-47f4-8528-dd1f6cf0fd72",
   "metadata": {},
   "outputs": [],
   "source": [
    "IntRange.__incision_manager__[Thing]"
   ]
  },
  {
   "cell_type": "code",
   "execution_count": null,
   "id": "142f349c-5ec5-4a04-ae90-1142e3d92711",
   "metadata": {},
   "outputs": [],
   "source": [
    "myobj = IntRange[Thing]"
   ]
  },
  {
   "cell_type": "code",
   "execution_count": null,
   "id": "922c61ff-36c2-4005-8e64-20192ef614be",
   "metadata": {},
   "outputs": [],
   "source": [
    "myobj"
   ]
  },
  {
   "cell_type": "code",
   "execution_count": null,
   "id": "606f3808-898d-48f5-8f7f-7f30ec0ead7a",
   "metadata": {},
   "outputs": [],
   "source": [
    "_IncisionProtocol.INCISE(myobj)"
   ]
  },
  {
   "cell_type": "code",
   "execution_count": null,
   "id": "7741ddf3-93e8-4074-bf52-b146cd53a1c4",
   "metadata": {},
   "outputs": [],
   "source": [
    "myobj"
   ]
  },
  {
   "cell_type": "code",
   "execution_count": null,
   "id": "0c3dc4f0-aa1b-44c8-9e37-ef42428907bb",
   "metadata": {},
   "outputs": [],
   "source": [
    "myobj.__incision_manager__"
   ]
  },
  {
   "cell_type": "code",
   "execution_count": null,
   "id": "61d583da-fb83-496a-bb10-98a39c5d7b36",
   "metadata": {},
   "outputs": [],
   "source": [
    "_IncisionProtocol.INCISE(myobj.__incision_manager__)"
   ]
  },
  {
   "cell_type": "code",
   "execution_count": null,
   "id": "e02f1f31-57bd-4e99-85cb-187dbc006208",
   "metadata": {},
   "outputs": [],
   "source": [
    "_IncisionProtocol.INCISE(myobj)"
   ]
  },
  {
   "cell_type": "code",
   "execution_count": null,
   "id": "86aed40d-1e31-4df0-b5fe-03779d239005",
   "metadata": {},
   "outputs": [],
   "source": [
    "composition = IntRange[Thing].__incision_manager__"
   ]
  },
  {
   "cell_type": "code",
   "execution_count": null,
   "id": "e566dd9e-36ee-4597-92b0-8562f8a24239",
   "metadata": {},
   "outputs": [],
   "source": [
    "composition"
   ]
  },
  {
   "cell_type": "code",
   "execution_count": null,
   "id": "f24d13d1-e18f-4c38-b95c-5bf4205bec39",
   "metadata": {},
   "outputs": [],
   "source": [
    "composition[0]"
   ]
  },
  {
   "cell_type": "code",
   "execution_count": null,
   "id": "2ffe8091-4cd5-44ac-b040-905d247f367d",
   "metadata": {},
   "outputs": [],
   "source": []
  }
 ],
 "metadata": {
  "kernelspec": {
   "display_name": "Python 3 (ipykernel)",
   "language": "python",
   "name": "python3"
  },
  "language_info": {
   "codemirror_mode": {
    "name": "ipython",
    "version": 3
   },
   "file_extension": ".py",
   "mimetype": "text/x-python",
   "name": "python",
   "nbconvert_exporter": "python",
   "pygments_lexer": "ipython3",
   "version": "3.9.5"
  }
 },
 "nbformat": 4,
 "nbformat_minor": 5
}
