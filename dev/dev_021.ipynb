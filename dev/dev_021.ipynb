{
 "cells": [
  {
   "cell_type": "code",
   "execution_count": null,
   "id": "23e3e48f-8d6b-4212-a1ee-ce1132a4165f",
   "metadata": {},
   "outputs": [],
   "source": [
    "import aliases"
   ]
  },
  {
   "cell_type": "code",
   "execution_count": null,
   "id": "25e86149-b487-4e3c-8972-5d0919a78843",
   "metadata": {},
   "outputs": [],
   "source": [
    "from everest.ptolemaic.intt import Intt\n",
    "from everest.ptolemaic.schema import Schema"
   ]
  },
  {
   "cell_type": "code",
   "execution_count": null,
   "id": "1b42a14e-6f09-41e1-88af-3ee9d9cd627f",
   "metadata": {},
   "outputs": [],
   "source": [
    "class MySchema(metaclass=Schema):\n",
    "\n",
    "    a: Intt\n",
    "    b: Intt\n",
    "    c: Intt"
   ]
  },
  {
   "cell_type": "code",
   "execution_count": null,
   "id": "4a82b1ea-2847-4b9c-8ce4-91790d7817d7",
   "metadata": {},
   "outputs": [],
   "source": [
    "MySchema(1, 2, 3)"
   ]
  },
  {
   "cell_type": "code",
   "execution_count": null,
   "id": "06c8f634-5f70-47a8-b12d-23aebb8ef7eb",
   "metadata": {},
   "outputs": [],
   "source": [
    "Intt[Intt[10:20]][3:7]"
   ]
  },
  {
   "cell_type": "code",
   "execution_count": null,
   "id": "edd1ddff-0a90-416b-9fbc-8e5c07bd1254",
   "metadata": {},
   "outputs": [],
   "source": [
    "from everest.ptolemaic import chora\n",
    "from everest.ptolemaic.bythos import Bythos"
   ]
  },
  {
   "cell_type": "code",
   "execution_count": null,
   "id": "b71c3a1f-2ef9-4403-8f55-b3a6dfb34800",
   "metadata": {},
   "outputs": [],
   "source": [
    "chora.Incisable"
   ]
  },
  {
   "cell_type": "code",
   "execution_count": null,
   "id": "9b803a09-0336-4d15-8221-c9a86dd5ca42",
   "metadata": {},
   "outputs": [],
   "source": [
    "isinstance(Intt, chora.Incisable)"
   ]
  },
  {
   "cell_type": "code",
   "execution_count": null,
   "id": "190bfb63-fc1c-4f52-800a-0e25a67cd3e4",
   "metadata": {},
   "outputs": [],
   "source": [
    "Bytho"
   ]
  },
  {
   "cell_type": "code",
   "execution_count": null,
   "id": "989d01ff-b64f-4657-a259-811eeab6b217",
   "metadata": {},
   "outputs": [],
   "source": [
    "MySchema[:10, ..., 10:][0, 0, 0]"
   ]
  }
 ],
 "metadata": {
  "kernelspec": {
   "display_name": "Python 3 (ipykernel)",
   "language": "python",
   "name": "python3"
  },
  "language_info": {
   "codemirror_mode": {
    "name": "ipython",
    "version": 3
   },
   "file_extension": ".py",
   "mimetype": "text/x-python",
   "name": "python",
   "nbconvert_exporter": "python",
   "pygments_lexer": "ipython3",
   "version": "3.9.5"
  }
 },
 "nbformat": 4,
 "nbformat_minor": 5
}
