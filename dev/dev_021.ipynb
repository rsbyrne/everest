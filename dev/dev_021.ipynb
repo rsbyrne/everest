{
 "cells": [
  {
   "cell_type": "code",
   "execution_count": null,
   "id": "23e3e48f-8d6b-4212-a1ee-ce1132a4165f",
   "metadata": {},
   "outputs": [],
   "source": [
    "###############################################################################\n",
    "import aliases"
   ]
  },
  {
   "cell_type": "code",
   "execution_count": null,
   "id": "1a6f3bf0-35a7-4fc0-8ba0-fd17ba712f24",
   "metadata": {},
   "outputs": [],
   "source": [
    "from everest.ptolemaic.thing import Thing, ThingSpace"
   ]
  },
  {
   "cell_type": "code",
   "execution_count": null,
   "id": "7b8703ff-6c89-4efa-b4aa-c57cbfa21ec9",
   "metadata": {},
   "outputs": [],
   "source": [
    "from everest.ptolemaic.int import Int\n",
    "from everest.ptolemaic.thing import Thing"
   ]
  },
  {
   "cell_type": "code",
   "execution_count": null,
   "id": "7bdeee8a-abf1-4f92-96da-07439033734f",
   "metadata": {},
   "outputs": [],
   "source": [
    "Thing[Int]"
   ]
  },
  {
   "cell_type": "code",
   "execution_count": null,
   "id": "1d98b6ae-5c41-4b06-ac02-08c6944825b3",
   "metadata": {},
   "outputs": [],
   "source": [
    "Int[:10]"
   ]
  },
  {
   "cell_type": "code",
   "execution_count": null,
   "id": "04d160f8-1a29-419a-833f-3c84bf7ac466",
   "metadata": {},
   "outputs": [],
   "source": [
    "myobj = Int[10:]"
   ]
  },
  {
   "cell_type": "code",
   "execution_count": null,
   "id": "c6bf747a-ff78-4efa-916b-9fa41ee61801",
   "metadata": {},
   "outputs": [],
   "source": [
    "myobj[:10][::2]"
   ]
  },
  {
   "cell_type": "code",
   "execution_count": null,
   "id": "629ca37c-a123-4d30-97b2-9dd48a84850d",
   "metadata": {},
   "outputs": [],
   "source": []
  }
 ],
 "metadata": {
  "kernelspec": {
   "display_name": "Python 3 (ipykernel)",
   "language": "python",
   "name": "python3"
  },
  "language_info": {
   "codemirror_mode": {
    "name": "ipython",
    "version": 3
   },
   "file_extension": ".py",
   "mimetype": "text/x-python",
   "name": "python",
   "nbconvert_exporter": "python",
   "pygments_lexer": "ipython3",
   "version": "3.9.5"
  }
 },
 "nbformat": 4,
 "nbformat_minor": 5
}
