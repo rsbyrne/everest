{
 "cells": [
  {
   "cell_type": "code",
   "execution_count": null,
   "id": "23e3e48f-8d6b-4212-a1ee-ce1132a4165f",
   "metadata": {},
   "outputs": [],
   "source": [
    "###############################################################################\n",
    "import aliases"
   ]
  },
  {
   "cell_type": "code",
   "execution_count": null,
   "id": "c17c3b9a-f912-4cab-bbdb-691e197a418c",
   "metadata": {},
   "outputs": [],
   "source": [
    "from everest.ptolemaic.ousia import Monument"
   ]
  },
  {
   "cell_type": "code",
   "execution_count": null,
   "id": "52dab904-a5dd-4af0-8b51-8c05e0f07f73",
   "metadata": {},
   "outputs": [],
   "source": [
    "Monument() is Monument()"
   ]
  },
  {
   "cell_type": "code",
   "execution_count": null,
   "id": "1c59dc4a-295e-4631-bc20-3125d947f2b6",
   "metadata": {},
   "outputs": [],
   "source": [
    "from everest.ptolemaic.sprite import Sprite"
   ]
  },
  {
   "cell_type": "code",
   "execution_count": null,
   "id": "642eed66-9c75-4a4f-a2a4-94af4cb9819b",
   "metadata": {},
   "outputs": [],
   "source": [
    "class MyClass(metaclass=Sprite):\n",
    "    a: int = 1\n",
    "    b: str = 'foo'"
   ]
  },
  {
   "cell_type": "code",
   "execution_count": null,
   "id": "341e9b39-dbe8-44dd-bf9f-09d29c9eeb7d",
   "metadata": {},
   "outputs": [],
   "source": [
    "%%timeit -n 100\n",
    "myobj = MyClass()"
   ]
  },
  {
   "cell_type": "code",
   "execution_count": null,
   "id": "25ddc544-9e19-4498-967c-a59b38acb987",
   "metadata": {},
   "outputs": [],
   "source": [
    "myobj = MyClass()"
   ]
  },
  {
   "cell_type": "code",
   "execution_count": null,
   "id": "38a02dee-71d9-45af-9808-782fd3d0bd8c",
   "metadata": {},
   "outputs": [],
   "source": [
    "myobj.epitaph.decode()"
   ]
  },
  {
   "cell_type": "code",
   "execution_count": null,
   "id": "67cae405-7407-4fb8-a0ba-4b4371ce8e33",
   "metadata": {},
   "outputs": [],
   "source": [
    "myobj.hashID"
   ]
  },
  {
   "cell_type": "code",
   "execution_count": null,
   "id": "ea28ee9e-8d52-41ee-94cf-cb6d4ca7b790",
   "metadata": {},
   "outputs": [],
   "source": [
    "myobj.epitaph.decode()"
   ]
  },
  {
   "cell_type": "code",
   "execution_count": null,
   "id": "c493cbd8-20fe-4ca1-8c40-ced5d462f5cc",
   "metadata": {},
   "outputs": [],
   "source": [
    "MyClass.__mro__"
   ]
  },
  {
   "cell_type": "code",
   "execution_count": null,
   "id": "7619acd3-4f67-49e0-a625-fb414ef7e507",
   "metadata": {},
   "outputs": [],
   "source": [
    "aMyClass.epitaph.decode()"
   ]
  },
  {
   "cell_type": "code",
   "execution_count": null,
   "id": "aeeb6c95-016e-489f-be7b-306ace8d0d5a",
   "metadata": {},
   "outputs": [],
   "source": [
    "myobj.epitaph.decode()"
   ]
  },
  {
   "cell_type": "code",
   "execution_count": null,
   "id": "bea65020-fb75-4d06-a228-7e4fc710f81a",
   "metadata": {},
   "outputs": [],
   "source": [
    "myobj"
   ]
  },
  {
   "cell_type": "code",
   "execution_count": null,
   "id": "5bde813c-b33e-4e12-ac05-20b17dcfc8d1",
   "metadata": {},
   "outputs": [],
   "source": [
    "tuple(myobj)"
   ]
  },
  {
   "cell_type": "code",
   "execution_count": null,
   "id": "41ef51cf-4060-4c7a-b76a-92142bb35836",
   "metadata": {},
   "outputs": [],
   "source": [
    "dir(myobj)"
   ]
  },
  {
   "cell_type": "code",
   "execution_count": null,
   "id": "1f4f6f8c-01d8-49d7-8b3b-f46138ad8810",
   "metadata": {},
   "outputs": [],
   "source": [
    "hash(myobj)"
   ]
  },
  {
   "cell_type": "code",
   "execution_count": null,
   "id": "c88f500b-5586-4248-a1f8-25c6c649fbc0",
   "metadata": {},
   "outputs": [],
   "source": [
    "MyClass.epitaph"
   ]
  },
  {
   "cell_type": "code",
   "execution_count": null,
   "id": "da4ecf3f-1b3c-4b48-9793-d3b13d1d1e9a",
   "metadata": {},
   "outputs": [],
   "source": [
    "%%timeit -n 100\n",
    "MyClass2(1, 'foo')"
   ]
  },
  {
   "cell_type": "code",
   "execution_count": null,
   "id": "7ced8b8d-3693-42fd-94dc-09b1affc2512",
   "metadata": {},
   "outputs": [],
   "source": [
    "MyClass.construct"
   ]
  },
  {
   "cell_type": "code",
   "execution_count": null,
   "id": "12c292e3-b8a4-4d03-a800-f476e6167362",
   "metadata": {},
   "outputs": [],
   "source": [
    "myobj = MyClass()"
   ]
  },
  {
   "cell_type": "code",
   "execution_count": null,
   "id": "24f71832-a337-4c6a-9fb1-628f082bd076",
   "metadata": {},
   "outputs": [],
   "source": [
    "myobj = MyClass.__a\n",
    "new__(MyClass)"
   ]
  },
  {
   "cell_type": "code",
   "execution_count": null,
   "id": "8b94bf97-0953-4a94-9b8f-d142accb52eb",
   "metadata": {},
   "outputs": [],
   "source": [
    "MyClass(MyClass)"
   ]
  },
  {
   "cell_type": "code",
   "execution_count": null,
   "id": "6b4a84d5-7f33-495c-a4f6-cedc6bf396da",
   "metadata": {},
   "outputs": [],
   "source": [
    "def my_gen():\n",
    "    a = 1\n",
    "    while True:\n",
    "        print(\"pre\", a)\n",
    "        a = yield a**2\n",
    "        print(\"post\", a)"
   ]
  },
  {
   "cell_type": "code",
   "execution_count": null,
   "id": "6b1a7f25-c0ab-4aba-92f3-813f6547d663",
   "metadata": {},
   "outputs": [],
   "source": [
    "mygen = my_gen()"
   ]
  },
  {
   "cell_type": "code",
   "execution_count": null,
   "id": "7f8fe66b-d724-443a-beab-f46137fe3247",
   "metadata": {},
   "outputs": [],
   "source": [
    "mygen.send(None)"
   ]
  },
  {
   "cell_type": "code",
   "execution_count": null,
   "id": "ed9068f1-02bb-41a5-89af-fd9193e99465",
   "metadata": {},
   "outputs": [],
   "source": [
    "mygen.send(3)"
   ]
  },
  {
   "cell_type": "code",
   "execution_count": null,
   "id": "5d2598b8-f905-4a3c-9800-81e664b39c06",
   "metadata": {},
   "outputs": [],
   "source": [
    "mygen.send(4)"
   ]
  },
  {
   "cell_type": "code",
   "execution_count": null,
   "id": "f93742d0-ee26-4815-bda0-3ae438073a23",
   "metadata": {},
   "outputs": [],
   "source": [
    "next(mygen)"
   ]
  },
  {
   "cell_type": "code",
   "execution_count": null,
   "id": "8aedc093-4844-4d28-a0ee-d507777f7f1a",
   "metadata": {},
   "outputs": [],
   "source": []
  },
  {
   "cell_type": "code",
   "execution_count": null,
   "id": "c8be25fd-e367-4622-b245-0274d8d9036d",
   "metadata": {},
   "outputs": [],
   "source": [
    "import collections as _collections\n",
    "\n",
    "\n",
    "def _make_nmtuple(name, types, module, defaults = ()):\n",
    "    fields = [n for n, t in types]\n",
    "    types = dict(types)\n",
    "    nm_tpl = _collections.namedtuple(\n",
    "        name, fields,\n",
    "        defaults=defaults, module=module,\n",
    "        )\n",
    "    nm_tpl.__annotations__ = nm_tpl.__new__.__annotations__ = types\n",
    "    return nm_tpl\n",
    "\n",
    "\n",
    "# attributes prohibited to set in NamedTuple class syntax\n",
    "_prohibited = frozenset({\n",
    "    '__new__', '__init__', '__slots__', '__getnewargs__',\n",
    "    '_fields', '_field_defaults',\n",
    "    '_make', '_replace', '_asdict', '_source',\n",
    "    })\n",
    "\n",
    "_special = frozenset({'__module__', '__name__', '__annotations__'})\n",
    "\n",
    "\n",
    "class NamedTupleMeta(type):\n",
    "\n",
    "    def __new__(cls, typename, bases, ns):\n",
    "        print(cls, typename, bases, ns)\n",
    "        assert bases[0] is _NamedTuple\n",
    "        types = ns.get('__annotations__', {})\n",
    "        default_names = []\n",
    "        for field_name in types:\n",
    "            if field_name in ns:\n",
    "                default_names.append(field_name)\n",
    "            elif default_names:\n",
    "                raise TypeError(\n",
    "                    f\"Non-default namedtuple field {field_name} \"\n",
    "                    f\"cannot follow default field\"\n",
    "                    f\"{'s' if len(default_names) > 1 else ''} \"\n",
    "                    f\"{', '.join(default_names)}\"\n",
    "                    )\n",
    "        nm_tpl = _make_nmtuple(\n",
    "            typename, types.items(),\n",
    "            defaults=[ns[n] for n in default_names],\n",
    "            module=ns['__module__'],\n",
    "            )\n",
    "        # update from user namespace without overriding special namedtuple attributes\n",
    "        for key in ns:\n",
    "            if key in _prohibited:\n",
    "                raise AttributeError(\n",
    "                    \"Cannot overwrite NamedTuple attribute \" + key\n",
    "                    )\n",
    "            elif key not in _special and key not in nm_tpl._fields:\n",
    "                setattr(nm_tpl, key, ns[key])\n",
    "        return nm_tpl\n",
    "\n",
    "\n",
    "def NamedTuple(typename, fields=None, /, **kwargs):\n",
    "    ...\n",
    "#     if fields is None:\n",
    "#         fields = kwargs.items()\n",
    "#     elif kwargs:\n",
    "#         raise TypeError(\n",
    "#             \"Either list of fields or keywords\"\n",
    "#             \" can be provided to NamedTuple, not both\"\n",
    "#             )\n",
    "#     try:\n",
    "#         module = sys._getframe(1).f_globals.get('__name__', '__main__')\n",
    "#     except (AttributeError, ValueError):\n",
    "#         module = None\n",
    "#     return _make_nmtuple(typename, fields, module=module)\n",
    "\n",
    "_NamedTuple = type.__new__(NamedTupleMeta, 'NamedTuple', (), {})\n",
    "\n",
    "def _namedtuple_mro_entries(bases):\n",
    "    if len(bases) > 1:\n",
    "        raise TypeError(\n",
    "            \"Multiple inheritance with NamedTuple is not supported\"\n",
    "            )\n",
    "    assert bases[0] is NamedTuple\n",
    "    return (_NamedTuple,)\n",
    "\n",
    "NamedTuple.__mro_entries__ = _namedtuple_mro_entries"
   ]
  },
  {
   "cell_type": "code",
   "execution_count": null,
   "id": "e5ab85be-a208-4265-a1b8-0475fc030124",
   "metadata": {},
   "outputs": [],
   "source": [
    "NamedTuple.__mro_entries__"
   ]
  },
  {
   "cell_type": "code",
   "execution_count": null,
   "id": "92ce2b52-0236-43d6-a38a-b04606c872fd",
   "metadata": {},
   "outputs": [],
   "source": [
    "class MyClass(NamedTuple):\n",
    "    a: int\n",
    "    b: str"
   ]
  },
  {
   "cell_type": "code",
   "execution_count": null,
   "id": "a7f7201d-8848-47a2-a592-a352696994ca",
   "metadata": {},
   "outputs": [],
   "source": [
    "MyClass.__bases__"
   ]
  },
  {
   "cell_type": "code",
   "execution_count": null,
   "id": "be5d82d6-cc7c-46b7-8597-76d88608df1c",
   "metadata": {},
   "outputs": [],
   "source": [
    "type(MyClass)"
   ]
  },
  {
   "cell_type": "code",
   "execution_count": null,
   "id": "510f66b0-1384-4ef2-aebf-c78a4cff34d3",
   "metadata": {},
   "outputs": [],
   "source": [
    "MyClass.__new__"
   ]
  },
  {
   "cell_type": "code",
   "execution_count": null,
   "id": "4f25e622-6f38-4e74-91b3-3f4d97f2da29",
   "metadata": {},
   "outputs": [],
   "source": [
    "MyClass(1, 2)"
   ]
  },
  {
   "cell_type": "code",
   "execution_count": null,
   "id": "d860712b-d5f0-46a5-8168-7f9b90c4b509",
   "metadata": {},
   "outputs": [],
   "source": []
  }
 ],
 "metadata": {
  "kernelspec": {
   "display_name": "Python 3 (ipykernel)",
   "language": "python",
   "name": "python3"
  },
  "language_info": {
   "codemirror_mode": {
    "name": "ipython",
    "version": 3
   },
   "file_extension": ".py",
   "mimetype": "text/x-python",
   "name": "python",
   "nbconvert_exporter": "python",
   "pygments_lexer": "ipython3",
   "version": "3.9.5"
  }
 },
 "nbformat": 4,
 "nbformat_minor": 5
}
