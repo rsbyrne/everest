{
 "cells": [
  {
   "cell_type": "code",
   "execution_count": null,
   "id": "23e3e48f-8d6b-4212-a1ee-ce1132a4165f",
   "metadata": {},
   "outputs": [],
   "source": [
    "###############################################################################\n",
    "import aliases"
   ]
  },
  {
   "cell_type": "code",
   "execution_count": null,
   "id": "bd0a3d83-3d22-4c90-90a4-144468af233f",
   "metadata": {},
   "outputs": [],
   "source": [
    "from everest.ptolemaic.chora import Basic\n",
    "from everest.ptolemaic.sprite import Sprite\n",
    "from everest.ptolemaic.schema import Schema"
   ]
  },
  {
   "cell_type": "code",
   "execution_count": null,
   "id": "d09e5f8c-09d4-4682-b4b0-a994919f76dd",
   "metadata": {},
   "outputs": [],
   "source": [
    "class MySprite(metaclass=Sprite):\n",
    "    ...\n",
    "\n",
    "\n",
    "@Basic\n",
    "class MySchema(metaclass=Schema):\n",
    "    ..."
   ]
  },
  {
   "cell_type": "code",
   "execution_count": null,
   "id": "06e28eb3-6a38-4234-af17-ceb2df4f38cf",
   "metadata": {},
   "outputs": [],
   "source": [
    "MySchema._Concrete"
   ]
  },
  {
   "cell_type": "code",
   "execution_count": null,
   "id": "5c6e5334-3548-419f-8af2-82c3851f2f62",
   "metadata": {},
   "outputs": [],
   "source": [
    "MySchema.Concrete"
   ]
  },
  {
   "cell_type": "code",
   "execution_count": null,
   "id": "b540e90a-f469-4087-8220-51ffc4789509",
   "metadata": {},
   "outputs": [],
   "source": [
    "%%timeit -n 100\n",
    "myobj = MySchema()"
   ]
  },
  {
   "cell_type": "code",
   "execution_count": null,
   "id": "cc458aa4-de9c-4c84-bb70-21d835cc77e6",
   "metadata": {},
   "outputs": [],
   "source": []
  },
  {
   "cell_type": "code",
   "execution_count": null,
   "id": "da539645-46c4-437d-b7c0-19e167304bb8",
   "metadata": {},
   "outputs": [],
   "source": [
    "myobj[...]"
   ]
  },
  {
   "cell_type": "code",
   "execution_count": null,
   "id": "637ab27f-0f68-43d6-a4f9-4fe470ccea57",
   "metadata": {},
   "outputs": [],
   "source": [
    "Basic(MySprite)"
   ]
  },
  {
   "cell_type": "code",
   "execution_count": null,
   "id": "501488a0-2f22-4219-866a-830831cd25ca",
   "metadata": {},
   "outputs": [],
   "source": [
    "Basic(MySchema)"
   ]
  },
  {
   "cell_type": "code",
   "execution_count": null,
   "id": "bfd98fed-7ee5-4025-94fc-c7d75078c922",
   "metadata": {},
   "outputs": [],
   "source": [
    "MySchema._choret_d"
   ]
  },
  {
   "cell_type": "code",
   "execution_count": null,
   "id": "d75caa11-3f73-4ae6-b47b-831c99e32815",
   "metadata": {},
   "outputs": [],
   "source": [
    "MySchema().__incise__"
   ]
  },
  {
   "cell_type": "code",
   "execution_count": null,
   "id": "c99c537d-c091-44c5-9d1b-e8fc8609904b",
   "metadata": {},
   "outputs": [],
   "source": [
    "from everest.ptolemaic.fundaments.int import Int"
   ]
  },
  {
   "cell_type": "code",
   "execution_count": null,
   "id": "c9b3d68d-bbc6-4d52-aebd-bb3de3a0f682",
   "metadata": {},
   "outputs": [],
   "source": []
  }
 ],
 "metadata": {
  "kernelspec": {
   "display_name": "Python 3 (ipykernel)",
   "language": "python",
   "name": "python3"
  },
  "language_info": {
   "codemirror_mode": {
    "name": "ipython",
    "version": 3
   },
   "file_extension": ".py",
   "mimetype": "text/x-python",
   "name": "python",
   "nbconvert_exporter": "python",
   "pygments_lexer": "ipython3",
   "version": "3.9.5"
  }
 },
 "nbformat": 4,
 "nbformat_minor": 5
}
