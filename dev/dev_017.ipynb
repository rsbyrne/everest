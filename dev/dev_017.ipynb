{
 "cells": [
  {
   "cell_type": "code",
   "execution_count": null,
   "id": "c21fc828-53dd-41dd-8a05-d20a407a1179",
   "metadata": {},
   "outputs": [],
   "source": [
    "###############################################################################\n",
    "import aliases"
   ]
  },
  {
   "cell_type": "code",
   "execution_count": null,
   "id": "6e035e76-9ffe-4c68-a216-0014eb55c092",
   "metadata": {},
   "outputs": [],
   "source": []
  },
  {
   "cell_type": "code",
   "execution_count": null,
   "id": "49528311-8c02-4617-8012-fa9e8cd18e42",
   "metadata": {},
   "outputs": [],
   "source": [
    "from dataclasses import dataclass\n",
    "\n",
    "from everest.epitaph import TAPHONOMY as taph\n",
    "\n",
    "\n",
    "@dataclass\n",
    "class MyClass:\n",
    "\n",
    "    a: int\n",
    "    b: int\n",
    "\n",
    "    @property\n",
    "    def epitaph(self, /):\n",
    "        return taph.custom_epitaph(\n",
    "            \"$A($a,$b)\",\n",
    "            {'A': type(self), 'a': self.a, 'b': self.b},\n",
    "            )\n",
    "\n",
    "    def __eq__(self, other, /):\n",
    "        if not isinstance(other, type(self)):\n",
    "            return NotImplemented\n",
    "        return self.a == other.a and self.b == other.b\n",
    "\n",
    "\n",
    "myobj = MyClass(1, MyClass(2, 3))\n",
    "display(myobj.epitaph)\n",
    "display(myobj.epitaph.content)\n",
    "display(myobj.epitaph.decode() == myobj)"
   ]
  },
  {
   "cell_type": "code",
   "execution_count": null,
   "id": "5533e20e-e853-4c9a-a690-070e995fd057",
   "metadata": {},
   "outputs": [],
   "source": []
  }
 ],
 "metadata": {
  "kernelspec": {
   "display_name": "Python 3 (ipykernel)",
   "language": "python",
   "name": "python3"
  },
  "language_info": {
   "codemirror_mode": {
    "name": "ipython",
    "version": 3
   },
   "file_extension": ".py",
   "mimetype": "text/x-python",
   "name": "python",
   "nbconvert_exporter": "python",
   "pygments_lexer": "ipython3",
   "version": "3.9.5"
  }
 },
 "nbformat": 4,
 "nbformat_minor": 5
}
