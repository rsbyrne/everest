{
 "cells": [
  {
   "cell_type": "code",
   "execution_count": null,
   "id": "1ea1dc26-05da-4e4c-ba7c-078533edcb10",
   "metadata": {},
   "outputs": [],
   "source": [
    "display('$2')"
   ]
  },
  {
   "cell_type": "code",
   "execution_count": null,
   "id": "93a24626-cdb6-45e4-b021-6738b2b1e10d",
   "metadata": {},
   "outputs": [],
   "source": [
    "dir(display)"
   ]
  },
  {
   "cell_type": "code",
   "execution_count": null,
   "id": "dbb4c86a-8847-448c-950f-afd64dbcd1d3",
   "metadata": {},
   "outputs": [],
   "source": [
    "from IPython import display_markdown"
   ]
  },
  {
   "cell_type": "code",
   "execution_count": null,
   "id": "805966af-4f58-4de5-9340-a57e1f5cbb11",
   "metadata": {},
   "outputs": [],
   "source": [
    "display.Markdown('$1%')"
   ]
  },
  {
   "cell_type": "code",
   "execution_count": null,
   "id": "475186cb-cb79-469e-9769-7f6d1a721e9d",
   "metadata": {},
   "outputs": [],
   "source": [
    "from IPython.display import Math, Markdown"
   ]
  },
  {
   "cell_type": "code",
   "execution_count": null,
   "id": "6630e10b-d0ce-4e66-a548-9a2325386cd5",
   "metadata": {},
   "outputs": [],
   "source": [
    "a = 1\n",
    "b = 2"
   ]
  },
  {
   "cell_type": "code",
   "execution_count": null,
   "id": "0ce659af-45f1-4ece-9938-fa9be0b4a3ce",
   "metadata": {},
   "outputs": [],
   "source": [
    "Markdown(f'{hello}$1/2$')"
   ]
  },
  {
   "cell_type": "code",
   "execution_count": null,
   "id": "81860560-80ef-4a6c-80fe-5ac5ca85b6e5",
   "metadata": {},
   "outputs": [],
   "source": [
    "rf'foo'"
   ]
  },
  {
   "cell_type": "code",
   "execution_count": null,
   "id": "913bea8f-6a14-4f41-a74a-ee71991ce28b",
   "metadata": {},
   "outputs": [],
   "source": [
    "x = {'a\\nb': 'c'}\n",
    "fr'{x[\"a\\nb\"]}'"
   ]
  },
  {
   "cell_type": "code",
   "execution_count": null,
   "id": "8a6cf988-cc65-4bdc-a9e6-6bfdc39484f6",
   "metadata": {},
   "outputs": [],
   "source": []
  }
 ],
 "metadata": {
  "kernelspec": {
   "display_name": "Python 3 (ipykernel)",
   "language": "python",
   "name": "python3"
  },
  "language_info": {
   "codemirror_mode": {
    "name": "ipython",
    "version": 3
   },
   "file_extension": ".py",
   "mimetype": "text/x-python",
   "name": "python",
   "nbconvert_exporter": "python",
   "pygments_lexer": "ipython3",
   "version": "3.9.5"
  }
 },
 "nbformat": 4,
 "nbformat_minor": 5
}
